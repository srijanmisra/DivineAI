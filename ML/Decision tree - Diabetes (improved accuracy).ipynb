{
 "cells": [
  {
   "cell_type": "code",
   "execution_count": 80,
   "id": "63cffced",
   "metadata": {},
   "outputs": [],
   "source": [
    "import pandas as pd\n",
    "import numpy as np\n",
    "import matplotlib.pyplot as plt\n",
    "import seaborn as sns\n",
    "import plotly_express as px\n",
    "%matplotlib inline"
   ]
  },
  {
   "cell_type": "code",
   "execution_count": 81,
   "id": "e763a043",
   "metadata": {},
   "outputs": [],
   "source": [
    "col_name = ['preg', 'glu', 'bp', 'sft', 'ins', 'bmi', 'dpf', 'age', 'outcome']\n",
    "df = pd.read_csv('pima-indians-diabetes-2.data', names = col_name)"
   ]
  },
  {
   "cell_type": "code",
   "execution_count": 82,
   "id": "569d8bb3",
   "metadata": {},
   "outputs": [
    {
     "data": {
      "text/plain": [
       "(768, 9)"
      ]
     },
     "execution_count": 82,
     "metadata": {},
     "output_type": "execute_result"
    }
   ],
   "source": [
    "df.shape"
   ]
  },
  {
   "cell_type": "code",
   "execution_count": 83,
   "id": "149db139",
   "metadata": {},
   "outputs": [
    {
     "data": {
      "text/html": [
       "<div>\n",
       "<style scoped>\n",
       "    .dataframe tbody tr th:only-of-type {\n",
       "        vertical-align: middle;\n",
       "    }\n",
       "\n",
       "    .dataframe tbody tr th {\n",
       "        vertical-align: top;\n",
       "    }\n",
       "\n",
       "    .dataframe thead th {\n",
       "        text-align: right;\n",
       "    }\n",
       "</style>\n",
       "<table border=\"1\" class=\"dataframe\">\n",
       "  <thead>\n",
       "    <tr style=\"text-align: right;\">\n",
       "      <th></th>\n",
       "      <th>preg</th>\n",
       "      <th>glu</th>\n",
       "      <th>bp</th>\n",
       "      <th>sft</th>\n",
       "      <th>ins</th>\n",
       "      <th>bmi</th>\n",
       "      <th>dpf</th>\n",
       "      <th>age</th>\n",
       "      <th>outcome</th>\n",
       "    </tr>\n",
       "  </thead>\n",
       "  <tbody>\n",
       "    <tr>\n",
       "      <th>0</th>\n",
       "      <td>6</td>\n",
       "      <td>148</td>\n",
       "      <td>72</td>\n",
       "      <td>35</td>\n",
       "      <td>0</td>\n",
       "      <td>33.6</td>\n",
       "      <td>0.627</td>\n",
       "      <td>50</td>\n",
       "      <td>1</td>\n",
       "    </tr>\n",
       "    <tr>\n",
       "      <th>1</th>\n",
       "      <td>1</td>\n",
       "      <td>85</td>\n",
       "      <td>66</td>\n",
       "      <td>29</td>\n",
       "      <td>0</td>\n",
       "      <td>26.6</td>\n",
       "      <td>0.351</td>\n",
       "      <td>31</td>\n",
       "      <td>0</td>\n",
       "    </tr>\n",
       "    <tr>\n",
       "      <th>2</th>\n",
       "      <td>8</td>\n",
       "      <td>183</td>\n",
       "      <td>64</td>\n",
       "      <td>0</td>\n",
       "      <td>0</td>\n",
       "      <td>23.3</td>\n",
       "      <td>0.672</td>\n",
       "      <td>32</td>\n",
       "      <td>1</td>\n",
       "    </tr>\n",
       "    <tr>\n",
       "      <th>3</th>\n",
       "      <td>1</td>\n",
       "      <td>89</td>\n",
       "      <td>66</td>\n",
       "      <td>23</td>\n",
       "      <td>94</td>\n",
       "      <td>28.1</td>\n",
       "      <td>0.167</td>\n",
       "      <td>21</td>\n",
       "      <td>0</td>\n",
       "    </tr>\n",
       "    <tr>\n",
       "      <th>4</th>\n",
       "      <td>0</td>\n",
       "      <td>137</td>\n",
       "      <td>40</td>\n",
       "      <td>35</td>\n",
       "      <td>168</td>\n",
       "      <td>43.1</td>\n",
       "      <td>2.288</td>\n",
       "      <td>33</td>\n",
       "      <td>1</td>\n",
       "    </tr>\n",
       "  </tbody>\n",
       "</table>\n",
       "</div>"
      ],
      "text/plain": [
       "   preg  glu  bp  sft  ins   bmi    dpf  age  outcome\n",
       "0     6  148  72   35    0  33.6  0.627   50        1\n",
       "1     1   85  66   29    0  26.6  0.351   31        0\n",
       "2     8  183  64    0    0  23.3  0.672   32        1\n",
       "3     1   89  66   23   94  28.1  0.167   21        0\n",
       "4     0  137  40   35  168  43.1  2.288   33        1"
      ]
     },
     "execution_count": 83,
     "metadata": {},
     "output_type": "execute_result"
    }
   ],
   "source": [
    "df.head()"
   ]
  },
  {
   "cell_type": "code",
   "execution_count": 84,
   "id": "ab1349f6",
   "metadata": {},
   "outputs": [
    {
     "data": {
      "text/html": [
       "<div>\n",
       "<style scoped>\n",
       "    .dataframe tbody tr th:only-of-type {\n",
       "        vertical-align: middle;\n",
       "    }\n",
       "\n",
       "    .dataframe tbody tr th {\n",
       "        vertical-align: top;\n",
       "    }\n",
       "\n",
       "    .dataframe thead th {\n",
       "        text-align: right;\n",
       "    }\n",
       "</style>\n",
       "<table border=\"1\" class=\"dataframe\">\n",
       "  <thead>\n",
       "    <tr style=\"text-align: right;\">\n",
       "      <th></th>\n",
       "      <th>count</th>\n",
       "      <th>mean</th>\n",
       "      <th>std</th>\n",
       "      <th>min</th>\n",
       "      <th>25%</th>\n",
       "      <th>50%</th>\n",
       "      <th>75%</th>\n",
       "      <th>max</th>\n",
       "    </tr>\n",
       "  </thead>\n",
       "  <tbody>\n",
       "    <tr>\n",
       "      <th>preg</th>\n",
       "      <td>768.0</td>\n",
       "      <td>3.845052</td>\n",
       "      <td>3.369578</td>\n",
       "      <td>0.000</td>\n",
       "      <td>1.00000</td>\n",
       "      <td>3.0000</td>\n",
       "      <td>6.00000</td>\n",
       "      <td>17.00</td>\n",
       "    </tr>\n",
       "    <tr>\n",
       "      <th>glu</th>\n",
       "      <td>768.0</td>\n",
       "      <td>120.894531</td>\n",
       "      <td>31.972618</td>\n",
       "      <td>0.000</td>\n",
       "      <td>99.00000</td>\n",
       "      <td>117.0000</td>\n",
       "      <td>140.25000</td>\n",
       "      <td>199.00</td>\n",
       "    </tr>\n",
       "    <tr>\n",
       "      <th>bp</th>\n",
       "      <td>768.0</td>\n",
       "      <td>69.105469</td>\n",
       "      <td>19.355807</td>\n",
       "      <td>0.000</td>\n",
       "      <td>62.00000</td>\n",
       "      <td>72.0000</td>\n",
       "      <td>80.00000</td>\n",
       "      <td>122.00</td>\n",
       "    </tr>\n",
       "    <tr>\n",
       "      <th>sft</th>\n",
       "      <td>768.0</td>\n",
       "      <td>20.536458</td>\n",
       "      <td>15.952218</td>\n",
       "      <td>0.000</td>\n",
       "      <td>0.00000</td>\n",
       "      <td>23.0000</td>\n",
       "      <td>32.00000</td>\n",
       "      <td>99.00</td>\n",
       "    </tr>\n",
       "    <tr>\n",
       "      <th>ins</th>\n",
       "      <td>768.0</td>\n",
       "      <td>79.799479</td>\n",
       "      <td>115.244002</td>\n",
       "      <td>0.000</td>\n",
       "      <td>0.00000</td>\n",
       "      <td>30.5000</td>\n",
       "      <td>127.25000</td>\n",
       "      <td>846.00</td>\n",
       "    </tr>\n",
       "    <tr>\n",
       "      <th>bmi</th>\n",
       "      <td>768.0</td>\n",
       "      <td>31.992578</td>\n",
       "      <td>7.884160</td>\n",
       "      <td>0.000</td>\n",
       "      <td>27.30000</td>\n",
       "      <td>32.0000</td>\n",
       "      <td>36.60000</td>\n",
       "      <td>67.10</td>\n",
       "    </tr>\n",
       "    <tr>\n",
       "      <th>dpf</th>\n",
       "      <td>768.0</td>\n",
       "      <td>0.471876</td>\n",
       "      <td>0.331329</td>\n",
       "      <td>0.078</td>\n",
       "      <td>0.24375</td>\n",
       "      <td>0.3725</td>\n",
       "      <td>0.62625</td>\n",
       "      <td>2.42</td>\n",
       "    </tr>\n",
       "    <tr>\n",
       "      <th>age</th>\n",
       "      <td>768.0</td>\n",
       "      <td>33.240885</td>\n",
       "      <td>11.760232</td>\n",
       "      <td>21.000</td>\n",
       "      <td>24.00000</td>\n",
       "      <td>29.0000</td>\n",
       "      <td>41.00000</td>\n",
       "      <td>81.00</td>\n",
       "    </tr>\n",
       "    <tr>\n",
       "      <th>outcome</th>\n",
       "      <td>768.0</td>\n",
       "      <td>0.348958</td>\n",
       "      <td>0.476951</td>\n",
       "      <td>0.000</td>\n",
       "      <td>0.00000</td>\n",
       "      <td>0.0000</td>\n",
       "      <td>1.00000</td>\n",
       "      <td>1.00</td>\n",
       "    </tr>\n",
       "  </tbody>\n",
       "</table>\n",
       "</div>"
      ],
      "text/plain": [
       "         count        mean         std     min       25%       50%        75%  \\\n",
       "preg     768.0    3.845052    3.369578   0.000   1.00000    3.0000    6.00000   \n",
       "glu      768.0  120.894531   31.972618   0.000  99.00000  117.0000  140.25000   \n",
       "bp       768.0   69.105469   19.355807   0.000  62.00000   72.0000   80.00000   \n",
       "sft      768.0   20.536458   15.952218   0.000   0.00000   23.0000   32.00000   \n",
       "ins      768.0   79.799479  115.244002   0.000   0.00000   30.5000  127.25000   \n",
       "bmi      768.0   31.992578    7.884160   0.000  27.30000   32.0000   36.60000   \n",
       "dpf      768.0    0.471876    0.331329   0.078   0.24375    0.3725    0.62625   \n",
       "age      768.0   33.240885   11.760232  21.000  24.00000   29.0000   41.00000   \n",
       "outcome  768.0    0.348958    0.476951   0.000   0.00000    0.0000    1.00000   \n",
       "\n",
       "            max  \n",
       "preg      17.00  \n",
       "glu      199.00  \n",
       "bp       122.00  \n",
       "sft       99.00  \n",
       "ins      846.00  \n",
       "bmi       67.10  \n",
       "dpf        2.42  \n",
       "age       81.00  \n",
       "outcome    1.00  "
      ]
     },
     "execution_count": 84,
     "metadata": {},
     "output_type": "execute_result"
    }
   ],
   "source": [
    "df.describe().transpose()"
   ]
  },
  {
   "cell_type": "code",
   "execution_count": 85,
   "id": "d19ab676",
   "metadata": {},
   "outputs": [
    {
     "data": {
      "text/plain": [
       "preg       0\n",
       "glu        0\n",
       "bp         0\n",
       "sft        0\n",
       "ins        0\n",
       "bmi        0\n",
       "dpf        0\n",
       "age        0\n",
       "outcome    0\n",
       "dtype: int64"
      ]
     },
     "execution_count": 85,
     "metadata": {},
     "output_type": "execute_result"
    }
   ],
   "source": [
    "df.isnull().sum()"
   ]
  },
  {
   "cell_type": "code",
   "execution_count": 86,
   "id": "3fce8e5d",
   "metadata": {},
   "outputs": [
    {
     "data": {
      "text/plain": [
       "preg         int64\n",
       "glu          int64\n",
       "bp           int64\n",
       "sft          int64\n",
       "ins          int64\n",
       "bmi        float64\n",
       "dpf        float64\n",
       "age          int64\n",
       "outcome      int64\n",
       "dtype: object"
      ]
     },
     "execution_count": 86,
     "metadata": {},
     "output_type": "execute_result"
    }
   ],
   "source": [
    "df.dtypes"
   ]
  },
  {
   "cell_type": "markdown",
   "id": "a9b0bd6c",
   "metadata": {},
   "source": [
    "# Checking for variation in each column"
   ]
  },
  {
   "cell_type": "code",
   "execution_count": 87,
   "id": "00f6ae2d",
   "metadata": {},
   "outputs": [
    {
     "data": {
      "text/plain": [
       "17"
      ]
     },
     "execution_count": 87,
     "metadata": {},
     "output_type": "execute_result"
    }
   ],
   "source": [
    "df['preg'].nunique()"
   ]
  },
  {
   "cell_type": "code",
   "execution_count": 88,
   "id": "1305e6c8",
   "metadata": {},
   "outputs": [
    {
     "data": {
      "text/plain": [
       "136"
      ]
     },
     "execution_count": 88,
     "metadata": {},
     "output_type": "execute_result"
    }
   ],
   "source": [
    "df['glu'].nunique()"
   ]
  },
  {
   "cell_type": "code",
   "execution_count": 89,
   "id": "190fe887",
   "metadata": {},
   "outputs": [
    {
     "data": {
      "text/plain": [
       "47"
      ]
     },
     "execution_count": 89,
     "metadata": {},
     "output_type": "execute_result"
    }
   ],
   "source": [
    "df['bp'].nunique()"
   ]
  },
  {
   "cell_type": "code",
   "execution_count": 90,
   "id": "f7fd0c0b",
   "metadata": {},
   "outputs": [
    {
     "data": {
      "text/plain": [
       "51"
      ]
     },
     "execution_count": 90,
     "metadata": {},
     "output_type": "execute_result"
    }
   ],
   "source": [
    "df['sft'].nunique()"
   ]
  },
  {
   "cell_type": "code",
   "execution_count": 91,
   "id": "903b4894",
   "metadata": {},
   "outputs": [
    {
     "data": {
      "text/plain": [
       "186"
      ]
     },
     "execution_count": 91,
     "metadata": {},
     "output_type": "execute_result"
    }
   ],
   "source": [
    "df['ins'].nunique()"
   ]
  },
  {
   "cell_type": "code",
   "execution_count": 92,
   "id": "8c9e644d",
   "metadata": {},
   "outputs": [
    {
     "data": {
      "text/plain": [
       "248"
      ]
     },
     "execution_count": 92,
     "metadata": {},
     "output_type": "execute_result"
    }
   ],
   "source": [
    "df['bmi'].nunique()"
   ]
  },
  {
   "cell_type": "code",
   "execution_count": 93,
   "id": "b8e30ac6",
   "metadata": {},
   "outputs": [
    {
     "data": {
      "text/plain": [
       "517"
      ]
     },
     "execution_count": 93,
     "metadata": {},
     "output_type": "execute_result"
    }
   ],
   "source": [
    "df['dpf'].nunique()"
   ]
  },
  {
   "cell_type": "code",
   "execution_count": 94,
   "id": "68afd1db",
   "metadata": {},
   "outputs": [
    {
     "data": {
      "text/plain": [
       "52"
      ]
     },
     "execution_count": 94,
     "metadata": {},
     "output_type": "execute_result"
    }
   ],
   "source": [
    "df['age'].nunique()"
   ]
  },
  {
   "cell_type": "code",
   "execution_count": 95,
   "id": "884e8e79",
   "metadata": {},
   "outputs": [
    {
     "data": {
      "text/plain": [
       "2"
      ]
     },
     "execution_count": 95,
     "metadata": {},
     "output_type": "execute_result"
    }
   ],
   "source": [
    "df['outcome'].nunique()"
   ]
  },
  {
   "cell_type": "code",
   "execution_count": 96,
   "id": "2f64803d",
   "metadata": {},
   "outputs": [],
   "source": [
    "# 'dpf' is having many unique values --> higher variation\n",
    "# Dropping 'dpf'\n",
    "\n",
    "df = df.drop('dpf', axis = 1)"
   ]
  },
  {
   "cell_type": "code",
   "execution_count": 97,
   "id": "053035b2",
   "metadata": {},
   "outputs": [
    {
     "data": {
      "text/plain": [
       "Index(['preg', 'glu', 'bp', 'sft', 'ins', 'bmi', 'age', 'outcome'], dtype='object')"
      ]
     },
     "execution_count": 97,
     "metadata": {},
     "output_type": "execute_result"
    }
   ],
   "source": [
    "df.columns"
   ]
  },
  {
   "cell_type": "markdown",
   "id": "a747d277",
   "metadata": {},
   "source": [
    "# Checking for outliers"
   ]
  },
  {
   "cell_type": "code",
   "execution_count": 98,
   "id": "5d8b7b71",
   "metadata": {},
   "outputs": [
    {
     "data": {
      "application/vnd.plotly.v1+json": {
       "config": {
        "plotlyServerURL": "https://plot.ly"
       },
       "data": [
        {
         "alignmentgroup": "True",
         "hovertemplate": "variable=%{x}<br>value=%{y}<extra></extra>",
         "legendgroup": "",
         "marker": {
          "color": "#636efa"
         },
         "name": "",
         "notched": false,
         "offsetgroup": "",
         "orientation": "v",
         "showlegend": false,
         "type": "box",
         "x": [
          "preg",
          "preg",
          "preg",
          "preg",
          "preg",
          "preg",
          "preg",
          "preg",
          "preg",
          "preg",
          "preg",
          "preg",
          "preg",
          "preg",
          "preg",
          "preg",
          "preg",
          "preg",
          "preg",
          "preg",
          "preg",
          "preg",
          "preg",
          "preg",
          "preg",
          "preg",
          "preg",
          "preg",
          "preg",
          "preg",
          "preg",
          "preg",
          "preg",
          "preg",
          "preg",
          "preg",
          "preg",
          "preg",
          "preg",
          "preg",
          "preg",
          "preg",
          "preg",
          "preg",
          "preg",
          "preg",
          "preg",
          "preg",
          "preg",
          "preg",
          "preg",
          "preg",
          "preg",
          "preg",
          "preg",
          "preg",
          "preg",
          "preg",
          "preg",
          "preg",
          "preg",
          "preg",
          "preg",
          "preg",
          "preg",
          "preg",
          "preg",
          "preg",
          "preg",
          "preg",
          "preg",
          "preg",
          "preg",
          "preg",
          "preg",
          "preg",
          "preg",
          "preg",
          "preg",
          "preg",
          "preg",
          "preg",
          "preg",
          "preg",
          "preg",
          "preg",
          "preg",
          "preg",
          "preg",
          "preg",
          "preg",
          "preg",
          "preg",
          "preg",
          "preg",
          "preg",
          "preg",
          "preg",
          "preg",
          "preg",
          "preg",
          "preg",
          "preg",
          "preg",
          "preg",
          "preg",
          "preg",
          "preg",
          "preg",
          "preg",
          "preg",
          "preg",
          "preg",
          "preg",
          "preg",
          "preg",
          "preg",
          "preg",
          "preg",
          "preg",
          "preg",
          "preg",
          "preg",
          "preg",
          "preg",
          "preg",
          "preg",
          "preg",
          "preg",
          "preg",
          "preg",
          "preg",
          "preg",
          "preg",
          "preg",
          "preg",
          "preg",
          "preg",
          "preg",
          "preg",
          "preg",
          "preg",
          "preg",
          "preg",
          "preg",
          "preg",
          "preg",
          "preg",
          "preg",
          "preg",
          "preg",
          "preg",
          "preg",
          "preg",
          "preg",
          "preg",
          "preg",
          "preg",
          "preg",
          "preg",
          "preg",
          "preg",
          "preg",
          "preg",
          "preg",
          "preg",
          "preg",
          "preg",
          "preg",
          "preg",
          "preg",
          "preg",
          "preg",
          "preg",
          "preg",
          "preg",
          "preg",
          "preg",
          "preg",
          "preg",
          "preg",
          "preg",
          "preg",
          "preg",
          "preg",
          "preg",
          "preg",
          "preg",
          "preg",
          "preg",
          "preg",
          "preg",
          "preg",
          "preg",
          "preg",
          "preg",
          "preg",
          "preg",
          "preg",
          "preg",
          "preg",
          "preg",
          "preg",
          "preg",
          "preg",
          "preg",
          "preg",
          "preg",
          "preg",
          "preg",
          "preg",
          "preg",
          "preg",
          "preg",
          "preg",
          "preg",
          "preg",
          "preg",
          "preg",
          "preg",
          "preg",
          "preg",
          "preg",
          "preg",
          "preg",
          "preg",
          "preg",
          "preg",
          "preg",
          "preg",
          "preg",
          "preg",
          "preg",
          "preg",
          "preg",
          "preg",
          "preg",
          "preg",
          "preg",
          "preg",
          "preg",
          "preg",
          "preg",
          "preg",
          "preg",
          "preg",
          "preg",
          "preg",
          "preg",
          "preg",
          "preg",
          "preg",
          "preg",
          "preg",
          "preg",
          "preg",
          "preg",
          "preg",
          "preg",
          "preg",
          "preg",
          "preg",
          "preg",
          "preg",
          "preg",
          "preg",
          "preg",
          "preg",
          "preg",
          "preg",
          "preg",
          "preg",
          "preg",
          "preg",
          "preg",
          "preg",
          "preg",
          "preg",
          "preg",
          "preg",
          "preg",
          "preg",
          "preg",
          "preg",
          "preg",
          "preg",
          "preg",
          "preg",
          "preg",
          "preg",
          "preg",
          "preg",
          "preg",
          "preg",
          "preg",
          "preg",
          "preg",
          "preg",
          "preg",
          "preg",
          "preg",
          "preg",
          "preg",
          "preg",
          "preg",
          "preg",
          "preg",
          "preg",
          "preg",
          "preg",
          "preg",
          "preg",
          "preg",
          "preg",
          "preg",
          "preg",
          "preg",
          "preg",
          "preg",
          "preg",
          "preg",
          "preg",
          "preg",
          "preg",
          "preg",
          "preg",
          "preg",
          "preg",
          "preg",
          "preg",
          "preg",
          "preg",
          "preg",
          "preg",
          "preg",
          "preg",
          "preg",
          "preg",
          "preg",
          "preg",
          "preg",
          "preg",
          "preg",
          "preg",
          "preg",
          "preg",
          "preg",
          "preg",
          "preg",
          "preg",
          "preg",
          "preg",
          "preg",
          "preg",
          "preg",
          "preg",
          "preg",
          "preg",
          "preg",
          "preg",
          "preg",
          "preg",
          "preg",
          "preg",
          "preg",
          "preg",
          "preg",
          "preg",
          "preg",
          "preg",
          "preg",
          "preg",
          "preg",
          "preg",
          "preg",
          "preg",
          "preg",
          "preg",
          "preg",
          "preg",
          "preg",
          "preg",
          "preg",
          "preg",
          "preg",
          "preg",
          "preg",
          "preg",
          "preg",
          "preg",
          "preg",
          "preg",
          "preg",
          "preg",
          "preg",
          "preg",
          "preg",
          "preg",
          "preg",
          "preg",
          "preg",
          "preg",
          "preg",
          "preg",
          "preg",
          "preg",
          "preg",
          "preg",
          "preg",
          "preg",
          "preg",
          "preg",
          "preg",
          "preg",
          "preg",
          "preg",
          "preg",
          "preg",
          "preg",
          "preg",
          "preg",
          "preg",
          "preg",
          "preg",
          "preg",
          "preg",
          "preg",
          "preg",
          "preg",
          "preg",
          "preg",
          "preg",
          "preg",
          "preg",
          "preg",
          "preg",
          "preg",
          "preg",
          "preg",
          "preg",
          "preg",
          "preg",
          "preg",
          "preg",
          "preg",
          "preg",
          "preg",
          "preg",
          "preg",
          "preg",
          "preg",
          "preg",
          "preg",
          "preg",
          "preg",
          "preg",
          "preg",
          "preg",
          "preg",
          "preg",
          "preg",
          "preg",
          "preg",
          "preg",
          "preg",
          "preg",
          "preg",
          "preg",
          "preg",
          "preg",
          "preg",
          "preg",
          "preg",
          "preg",
          "preg",
          "preg",
          "preg",
          "preg",
          "preg",
          "preg",
          "preg",
          "preg",
          "preg",
          "preg",
          "preg",
          "preg",
          "preg",
          "preg",
          "preg",
          "preg",
          "preg",
          "preg",
          "preg",
          "preg",
          "preg",
          "preg",
          "preg",
          "preg",
          "preg",
          "preg",
          "preg",
          "preg",
          "preg",
          "preg",
          "preg",
          "preg",
          "preg",
          "preg",
          "preg",
          "preg",
          "preg",
          "preg",
          "preg",
          "preg",
          "preg",
          "preg",
          "preg",
          "preg",
          "preg",
          "preg",
          "preg",
          "preg",
          "preg",
          "preg",
          "preg",
          "preg",
          "preg",
          "preg",
          "preg",
          "preg",
          "preg",
          "preg",
          "preg",
          "preg",
          "preg",
          "preg",
          "preg",
          "preg",
          "preg",
          "preg",
          "preg",
          "preg",
          "preg",
          "preg",
          "preg",
          "preg",
          "preg",
          "preg",
          "preg",
          "preg",
          "preg",
          "preg",
          "preg",
          "preg",
          "preg",
          "preg",
          "preg",
          "preg",
          "preg",
          "preg",
          "preg",
          "preg",
          "preg",
          "preg",
          "preg",
          "preg",
          "preg",
          "preg",
          "preg",
          "preg",
          "preg",
          "preg",
          "preg",
          "preg",
          "preg",
          "preg",
          "preg",
          "preg",
          "preg",
          "preg",
          "preg",
          "preg",
          "preg",
          "preg",
          "preg",
          "preg",
          "preg",
          "preg",
          "preg",
          "preg",
          "preg",
          "preg",
          "preg",
          "preg",
          "preg",
          "preg",
          "preg",
          "preg",
          "preg",
          "preg",
          "preg",
          "preg",
          "preg",
          "preg",
          "preg",
          "preg",
          "preg",
          "preg",
          "preg",
          "preg",
          "preg",
          "preg",
          "preg",
          "preg",
          "preg",
          "preg",
          "preg",
          "preg",
          "preg",
          "preg",
          "preg",
          "preg",
          "preg",
          "preg",
          "preg",
          "preg",
          "preg",
          "preg",
          "preg",
          "preg",
          "preg",
          "preg",
          "preg",
          "preg",
          "preg",
          "preg",
          "preg",
          "preg",
          "preg",
          "preg",
          "preg",
          "preg",
          "preg",
          "preg",
          "preg",
          "preg",
          "preg",
          "preg",
          "preg",
          "preg",
          "preg",
          "preg",
          "preg",
          "preg",
          "preg",
          "preg",
          "preg",
          "preg",
          "preg",
          "preg",
          "preg",
          "preg",
          "preg",
          "preg",
          "preg",
          "preg",
          "preg",
          "preg",
          "preg",
          "preg",
          "preg",
          "preg",
          "preg",
          "preg",
          "preg",
          "preg",
          "preg",
          "preg",
          "preg",
          "preg",
          "preg",
          "preg",
          "preg",
          "preg",
          "preg",
          "preg",
          "preg",
          "preg",
          "preg",
          "preg",
          "preg",
          "preg",
          "preg",
          "preg",
          "preg",
          "preg",
          "preg",
          "preg",
          "preg",
          "preg",
          "preg",
          "preg",
          "preg",
          "preg",
          "preg",
          "preg",
          "preg",
          "preg",
          "preg",
          "preg",
          "preg",
          "preg",
          "preg",
          "preg",
          "preg",
          "preg",
          "preg",
          "preg",
          "preg",
          "preg",
          "preg",
          "preg",
          "preg",
          "preg",
          "preg",
          "preg",
          "preg",
          "preg",
          "preg",
          "preg",
          "preg",
          "preg",
          "preg",
          "preg",
          "preg",
          "preg",
          "preg",
          "preg",
          "preg",
          "preg",
          "preg",
          "preg",
          "preg",
          "preg",
          "preg",
          "preg",
          "preg",
          "preg",
          "preg",
          "preg",
          "preg",
          "preg",
          "preg",
          "preg",
          "preg",
          "preg",
          "preg",
          "preg",
          "preg",
          "preg",
          "preg",
          "preg",
          "preg",
          "preg",
          "preg",
          "preg",
          "preg",
          "preg"
         ],
         "x0": " ",
         "xaxis": "x",
         "y": [
          6,
          1,
          8,
          1,
          0,
          5,
          3,
          10,
          2,
          8,
          4,
          10,
          10,
          1,
          5,
          7,
          0,
          7,
          1,
          1,
          3,
          8,
          7,
          9,
          11,
          10,
          7,
          1,
          13,
          5,
          5,
          3,
          3,
          6,
          10,
          4,
          11,
          9,
          2,
          4,
          3,
          7,
          7,
          9,
          7,
          0,
          1,
          2,
          7,
          7,
          1,
          1,
          5,
          8,
          7,
          1,
          7,
          0,
          0,
          0,
          2,
          8,
          5,
          2,
          7,
          5,
          0,
          2,
          1,
          4,
          2,
          5,
          13,
          4,
          1,
          1,
          7,
          5,
          0,
          2,
          3,
          2,
          7,
          0,
          5,
          2,
          13,
          2,
          15,
          1,
          1,
          4,
          7,
          4,
          2,
          6,
          2,
          1,
          6,
          1,
          1,
          1,
          0,
          1,
          2,
          1,
          1,
          4,
          3,
          0,
          3,
          8,
          1,
          4,
          7,
          4,
          5,
          5,
          4,
          4,
          0,
          6,
          2,
          5,
          0,
          1,
          3,
          1,
          1,
          0,
          4,
          9,
          3,
          8,
          2,
          2,
          0,
          0,
          0,
          5,
          3,
          5,
          2,
          10,
          4,
          0,
          9,
          2,
          5,
          2,
          1,
          4,
          9,
          1,
          8,
          7,
          2,
          1,
          2,
          17,
          4,
          7,
          0,
          2,
          0,
          6,
          3,
          4,
          4,
          3,
          6,
          6,
          2,
          1,
          2,
          8,
          6,
          0,
          5,
          5,
          6,
          0,
          1,
          5,
          4,
          7,
          8,
          1,
          8,
          5,
          3,
          9,
          7,
          11,
          8,
          5,
          1,
          3,
          4,
          4,
          0,
          1,
          0,
          2,
          6,
          5,
          8,
          5,
          1,
          7,
          2,
          0,
          7,
          0,
          9,
          12,
          5,
          6,
          5,
          5,
          0,
          2,
          7,
          7,
          1,
          1,
          0,
          3,
          4,
          0,
          4,
          6,
          1,
          4,
          3,
          4,
          7,
          0,
          9,
          0,
          1,
          4,
          3,
          6,
          2,
          9,
          10,
          0,
          9,
          1,
          9,
          2,
          2,
          0,
          12,
          1,
          3,
          2,
          1,
          11,
          3,
          3,
          4,
          3,
          4,
          5,
          0,
          2,
          0,
          2,
          10,
          2,
          3,
          1,
          13,
          2,
          7,
          0,
          5,
          2,
          0,
          10,
          7,
          7,
          2,
          7,
          5,
          1,
          4,
          5,
          0,
          0,
          2,
          1,
          0,
          6,
          2,
          0,
          14,
          8,
          0,
          2,
          5,
          5,
          3,
          2,
          10,
          0,
          0,
          2,
          6,
          0,
          2,
          3,
          7,
          2,
          3,
          3,
          3,
          6,
          4,
          3,
          0,
          13,
          2,
          1,
          1,
          10,
          2,
          6,
          8,
          2,
          1,
          12,
          1,
          0,
          0,
          5,
          9,
          7,
          1,
          1,
          1,
          5,
          8,
          8,
          1,
          3,
          3,
          5,
          4,
          4,
          3,
          1,
          3,
          9,
          1,
          13,
          12,
          1,
          5,
          5,
          5,
          4,
          4,
          5,
          6,
          0,
          3,
          1,
          3,
          0,
          0,
          2,
          2,
          12,
          0,
          1,
          4,
          0,
          1,
          0,
          1,
          1,
          1,
          1,
          5,
          8,
          5,
          3,
          1,
          5,
          1,
          4,
          4,
          2,
          3,
          0,
          3,
          3,
          4,
          6,
          5,
          9,
          5,
          2,
          4,
          0,
          8,
          1,
          6,
          1,
          1,
          1,
          0,
          3,
          1,
          4,
          1,
          3,
          1,
          2,
          0,
          2,
          8,
          4,
          0,
          1,
          0,
          1,
          2,
          3,
          1,
          2,
          1,
          0,
          12,
          5,
          1,
          6,
          0,
          2,
          4,
          8,
          4,
          0,
          1,
          0,
          0,
          0,
          1,
          2,
          0,
          2,
          2,
          14,
          1,
          5,
          10,
          9,
          9,
          1,
          8,
          5,
          10,
          0,
          0,
          0,
          8,
          6,
          1,
          0,
          0,
          7,
          4,
          0,
          2,
          7,
          8,
          4,
          3,
          0,
          4,
          0,
          0,
          0,
          1,
          0,
          4,
          8,
          2,
          2,
          4,
          4,
          3,
          6,
          5,
          2,
          7,
          6,
          2,
          3,
          6,
          7,
          3,
          10,
          0,
          1,
          2,
          8,
          12,
          0,
          9,
          2,
          3,
          3,
          9,
          7,
          13,
          6,
          2,
          3,
          6,
          9,
          3,
          3,
          1,
          3,
          0,
          0,
          2,
          0,
          1,
          6,
          1,
          4,
          0,
          0,
          0,
          3,
          8,
          3,
          10,
          4,
          1,
          8,
          5,
          4,
          1,
          4,
          1,
          3,
          6,
          1,
          1,
          7,
          1,
          8,
          11,
          11,
          6,
          0,
          1,
          6,
          0,
          2,
          1,
          6,
          4,
          0,
          3,
          2,
          3,
          2,
          1,
          1,
          6,
          2,
          10,
          2,
          0,
          6,
          12,
          8,
          8,
          1,
          8,
          6,
          3,
          0,
          11,
          2,
          3,
          2,
          6,
          0,
          0,
          1,
          1,
          1,
          1,
          6,
          1,
          7,
          4,
          1,
          1,
          1,
          0,
          1,
          3,
          3,
          7,
          6,
          11,
          3,
          6,
          2,
          9,
          0,
          2,
          2,
          6,
          0,
          2,
          4,
          0,
          0,
          5,
          4,
          7,
          0,
          2,
          1,
          10,
          13,
          5,
          2,
          7,
          1,
          0,
          4,
          6,
          4,
          3,
          2,
          1,
          0,
          11,
          0,
          1,
          1,
          5,
          2,
          1,
          2,
          2,
          1,
          11,
          3,
          10,
          1,
          8,
          9,
          6,
          1,
          4,
          10,
          6,
          9,
          6,
          1,
          10,
          3,
          8,
          6,
          9,
          0,
          3,
          2,
          2,
          0,
          0,
          4,
          5,
          2,
          3,
          1,
          1,
          1,
          8,
          13,
          2,
          7,
          2,
          7,
          3,
          0,
          4,
          4,
          2,
          6,
          1,
          2,
          4,
          6,
          10,
          2,
          9,
          2,
          3,
          5,
          10,
          0,
          3,
          7,
          3,
          10,
          1,
          5,
          4,
          1,
          1,
          5,
          1,
          4,
          1,
          0,
          2,
          2,
          3,
          8,
          2,
          2,
          2,
          4,
          0,
          8,
          2,
          1,
          11,
          3,
          1,
          9,
          13,
          12,
          1,
          1,
          3,
          6,
          4,
          1,
          3,
          0,
          8,
          1,
          7,
          0,
          1,
          6,
          2,
          9,
          9,
          10,
          2,
          5,
          1,
          1
         ],
         "y0": " ",
         "yaxis": "y"
        }
       ],
       "layout": {
        "boxmode": "group",
        "legend": {
         "tracegroupgap": 0
        },
        "margin": {
         "t": 60
        },
        "template": {
         "data": {
          "bar": [
           {
            "error_x": {
             "color": "#2a3f5f"
            },
            "error_y": {
             "color": "#2a3f5f"
            },
            "marker": {
             "line": {
              "color": "#E5ECF6",
              "width": 0.5
             },
             "pattern": {
              "fillmode": "overlay",
              "size": 10,
              "solidity": 0.2
             }
            },
            "type": "bar"
           }
          ],
          "barpolar": [
           {
            "marker": {
             "line": {
              "color": "#E5ECF6",
              "width": 0.5
             },
             "pattern": {
              "fillmode": "overlay",
              "size": 10,
              "solidity": 0.2
             }
            },
            "type": "barpolar"
           }
          ],
          "carpet": [
           {
            "aaxis": {
             "endlinecolor": "#2a3f5f",
             "gridcolor": "white",
             "linecolor": "white",
             "minorgridcolor": "white",
             "startlinecolor": "#2a3f5f"
            },
            "baxis": {
             "endlinecolor": "#2a3f5f",
             "gridcolor": "white",
             "linecolor": "white",
             "minorgridcolor": "white",
             "startlinecolor": "#2a3f5f"
            },
            "type": "carpet"
           }
          ],
          "choropleth": [
           {
            "colorbar": {
             "outlinewidth": 0,
             "ticks": ""
            },
            "type": "choropleth"
           }
          ],
          "contour": [
           {
            "colorbar": {
             "outlinewidth": 0,
             "ticks": ""
            },
            "colorscale": [
             [
              0,
              "#0d0887"
             ],
             [
              0.1111111111111111,
              "#46039f"
             ],
             [
              0.2222222222222222,
              "#7201a8"
             ],
             [
              0.3333333333333333,
              "#9c179e"
             ],
             [
              0.4444444444444444,
              "#bd3786"
             ],
             [
              0.5555555555555556,
              "#d8576b"
             ],
             [
              0.6666666666666666,
              "#ed7953"
             ],
             [
              0.7777777777777778,
              "#fb9f3a"
             ],
             [
              0.8888888888888888,
              "#fdca26"
             ],
             [
              1,
              "#f0f921"
             ]
            ],
            "type": "contour"
           }
          ],
          "contourcarpet": [
           {
            "colorbar": {
             "outlinewidth": 0,
             "ticks": ""
            },
            "type": "contourcarpet"
           }
          ],
          "heatmap": [
           {
            "colorbar": {
             "outlinewidth": 0,
             "ticks": ""
            },
            "colorscale": [
             [
              0,
              "#0d0887"
             ],
             [
              0.1111111111111111,
              "#46039f"
             ],
             [
              0.2222222222222222,
              "#7201a8"
             ],
             [
              0.3333333333333333,
              "#9c179e"
             ],
             [
              0.4444444444444444,
              "#bd3786"
             ],
             [
              0.5555555555555556,
              "#d8576b"
             ],
             [
              0.6666666666666666,
              "#ed7953"
             ],
             [
              0.7777777777777778,
              "#fb9f3a"
             ],
             [
              0.8888888888888888,
              "#fdca26"
             ],
             [
              1,
              "#f0f921"
             ]
            ],
            "type": "heatmap"
           }
          ],
          "heatmapgl": [
           {
            "colorbar": {
             "outlinewidth": 0,
             "ticks": ""
            },
            "colorscale": [
             [
              0,
              "#0d0887"
             ],
             [
              0.1111111111111111,
              "#46039f"
             ],
             [
              0.2222222222222222,
              "#7201a8"
             ],
             [
              0.3333333333333333,
              "#9c179e"
             ],
             [
              0.4444444444444444,
              "#bd3786"
             ],
             [
              0.5555555555555556,
              "#d8576b"
             ],
             [
              0.6666666666666666,
              "#ed7953"
             ],
             [
              0.7777777777777778,
              "#fb9f3a"
             ],
             [
              0.8888888888888888,
              "#fdca26"
             ],
             [
              1,
              "#f0f921"
             ]
            ],
            "type": "heatmapgl"
           }
          ],
          "histogram": [
           {
            "marker": {
             "pattern": {
              "fillmode": "overlay",
              "size": 10,
              "solidity": 0.2
             }
            },
            "type": "histogram"
           }
          ],
          "histogram2d": [
           {
            "colorbar": {
             "outlinewidth": 0,
             "ticks": ""
            },
            "colorscale": [
             [
              0,
              "#0d0887"
             ],
             [
              0.1111111111111111,
              "#46039f"
             ],
             [
              0.2222222222222222,
              "#7201a8"
             ],
             [
              0.3333333333333333,
              "#9c179e"
             ],
             [
              0.4444444444444444,
              "#bd3786"
             ],
             [
              0.5555555555555556,
              "#d8576b"
             ],
             [
              0.6666666666666666,
              "#ed7953"
             ],
             [
              0.7777777777777778,
              "#fb9f3a"
             ],
             [
              0.8888888888888888,
              "#fdca26"
             ],
             [
              1,
              "#f0f921"
             ]
            ],
            "type": "histogram2d"
           }
          ],
          "histogram2dcontour": [
           {
            "colorbar": {
             "outlinewidth": 0,
             "ticks": ""
            },
            "colorscale": [
             [
              0,
              "#0d0887"
             ],
             [
              0.1111111111111111,
              "#46039f"
             ],
             [
              0.2222222222222222,
              "#7201a8"
             ],
             [
              0.3333333333333333,
              "#9c179e"
             ],
             [
              0.4444444444444444,
              "#bd3786"
             ],
             [
              0.5555555555555556,
              "#d8576b"
             ],
             [
              0.6666666666666666,
              "#ed7953"
             ],
             [
              0.7777777777777778,
              "#fb9f3a"
             ],
             [
              0.8888888888888888,
              "#fdca26"
             ],
             [
              1,
              "#f0f921"
             ]
            ],
            "type": "histogram2dcontour"
           }
          ],
          "mesh3d": [
           {
            "colorbar": {
             "outlinewidth": 0,
             "ticks": ""
            },
            "type": "mesh3d"
           }
          ],
          "parcoords": [
           {
            "line": {
             "colorbar": {
              "outlinewidth": 0,
              "ticks": ""
             }
            },
            "type": "parcoords"
           }
          ],
          "pie": [
           {
            "automargin": true,
            "type": "pie"
           }
          ],
          "scatter": [
           {
            "marker": {
             "colorbar": {
              "outlinewidth": 0,
              "ticks": ""
             }
            },
            "type": "scatter"
           }
          ],
          "scatter3d": [
           {
            "line": {
             "colorbar": {
              "outlinewidth": 0,
              "ticks": ""
             }
            },
            "marker": {
             "colorbar": {
              "outlinewidth": 0,
              "ticks": ""
             }
            },
            "type": "scatter3d"
           }
          ],
          "scattercarpet": [
           {
            "marker": {
             "colorbar": {
              "outlinewidth": 0,
              "ticks": ""
             }
            },
            "type": "scattercarpet"
           }
          ],
          "scattergeo": [
           {
            "marker": {
             "colorbar": {
              "outlinewidth": 0,
              "ticks": ""
             }
            },
            "type": "scattergeo"
           }
          ],
          "scattergl": [
           {
            "marker": {
             "colorbar": {
              "outlinewidth": 0,
              "ticks": ""
             }
            },
            "type": "scattergl"
           }
          ],
          "scattermapbox": [
           {
            "marker": {
             "colorbar": {
              "outlinewidth": 0,
              "ticks": ""
             }
            },
            "type": "scattermapbox"
           }
          ],
          "scatterpolar": [
           {
            "marker": {
             "colorbar": {
              "outlinewidth": 0,
              "ticks": ""
             }
            },
            "type": "scatterpolar"
           }
          ],
          "scatterpolargl": [
           {
            "marker": {
             "colorbar": {
              "outlinewidth": 0,
              "ticks": ""
             }
            },
            "type": "scatterpolargl"
           }
          ],
          "scatterternary": [
           {
            "marker": {
             "colorbar": {
              "outlinewidth": 0,
              "ticks": ""
             }
            },
            "type": "scatterternary"
           }
          ],
          "surface": [
           {
            "colorbar": {
             "outlinewidth": 0,
             "ticks": ""
            },
            "colorscale": [
             [
              0,
              "#0d0887"
             ],
             [
              0.1111111111111111,
              "#46039f"
             ],
             [
              0.2222222222222222,
              "#7201a8"
             ],
             [
              0.3333333333333333,
              "#9c179e"
             ],
             [
              0.4444444444444444,
              "#bd3786"
             ],
             [
              0.5555555555555556,
              "#d8576b"
             ],
             [
              0.6666666666666666,
              "#ed7953"
             ],
             [
              0.7777777777777778,
              "#fb9f3a"
             ],
             [
              0.8888888888888888,
              "#fdca26"
             ],
             [
              1,
              "#f0f921"
             ]
            ],
            "type": "surface"
           }
          ],
          "table": [
           {
            "cells": {
             "fill": {
              "color": "#EBF0F8"
             },
             "line": {
              "color": "white"
             }
            },
            "header": {
             "fill": {
              "color": "#C8D4E3"
             },
             "line": {
              "color": "white"
             }
            },
            "type": "table"
           }
          ]
         },
         "layout": {
          "annotationdefaults": {
           "arrowcolor": "#2a3f5f",
           "arrowhead": 0,
           "arrowwidth": 1
          },
          "autotypenumbers": "strict",
          "coloraxis": {
           "colorbar": {
            "outlinewidth": 0,
            "ticks": ""
           }
          },
          "colorscale": {
           "diverging": [
            [
             0,
             "#8e0152"
            ],
            [
             0.1,
             "#c51b7d"
            ],
            [
             0.2,
             "#de77ae"
            ],
            [
             0.3,
             "#f1b6da"
            ],
            [
             0.4,
             "#fde0ef"
            ],
            [
             0.5,
             "#f7f7f7"
            ],
            [
             0.6,
             "#e6f5d0"
            ],
            [
             0.7,
             "#b8e186"
            ],
            [
             0.8,
             "#7fbc41"
            ],
            [
             0.9,
             "#4d9221"
            ],
            [
             1,
             "#276419"
            ]
           ],
           "sequential": [
            [
             0,
             "#0d0887"
            ],
            [
             0.1111111111111111,
             "#46039f"
            ],
            [
             0.2222222222222222,
             "#7201a8"
            ],
            [
             0.3333333333333333,
             "#9c179e"
            ],
            [
             0.4444444444444444,
             "#bd3786"
            ],
            [
             0.5555555555555556,
             "#d8576b"
            ],
            [
             0.6666666666666666,
             "#ed7953"
            ],
            [
             0.7777777777777778,
             "#fb9f3a"
            ],
            [
             0.8888888888888888,
             "#fdca26"
            ],
            [
             1,
             "#f0f921"
            ]
           ],
           "sequentialminus": [
            [
             0,
             "#0d0887"
            ],
            [
             0.1111111111111111,
             "#46039f"
            ],
            [
             0.2222222222222222,
             "#7201a8"
            ],
            [
             0.3333333333333333,
             "#9c179e"
            ],
            [
             0.4444444444444444,
             "#bd3786"
            ],
            [
             0.5555555555555556,
             "#d8576b"
            ],
            [
             0.6666666666666666,
             "#ed7953"
            ],
            [
             0.7777777777777778,
             "#fb9f3a"
            ],
            [
             0.8888888888888888,
             "#fdca26"
            ],
            [
             1,
             "#f0f921"
            ]
           ]
          },
          "colorway": [
           "#636efa",
           "#EF553B",
           "#00cc96",
           "#ab63fa",
           "#FFA15A",
           "#19d3f3",
           "#FF6692",
           "#B6E880",
           "#FF97FF",
           "#FECB52"
          ],
          "font": {
           "color": "#2a3f5f"
          },
          "geo": {
           "bgcolor": "white",
           "lakecolor": "white",
           "landcolor": "#E5ECF6",
           "showlakes": true,
           "showland": true,
           "subunitcolor": "white"
          },
          "hoverlabel": {
           "align": "left"
          },
          "hovermode": "closest",
          "mapbox": {
           "style": "light"
          },
          "paper_bgcolor": "white",
          "plot_bgcolor": "#E5ECF6",
          "polar": {
           "angularaxis": {
            "gridcolor": "white",
            "linecolor": "white",
            "ticks": ""
           },
           "bgcolor": "#E5ECF6",
           "radialaxis": {
            "gridcolor": "white",
            "linecolor": "white",
            "ticks": ""
           }
          },
          "scene": {
           "xaxis": {
            "backgroundcolor": "#E5ECF6",
            "gridcolor": "white",
            "gridwidth": 2,
            "linecolor": "white",
            "showbackground": true,
            "ticks": "",
            "zerolinecolor": "white"
           },
           "yaxis": {
            "backgroundcolor": "#E5ECF6",
            "gridcolor": "white",
            "gridwidth": 2,
            "linecolor": "white",
            "showbackground": true,
            "ticks": "",
            "zerolinecolor": "white"
           },
           "zaxis": {
            "backgroundcolor": "#E5ECF6",
            "gridcolor": "white",
            "gridwidth": 2,
            "linecolor": "white",
            "showbackground": true,
            "ticks": "",
            "zerolinecolor": "white"
           }
          },
          "shapedefaults": {
           "line": {
            "color": "#2a3f5f"
           }
          },
          "ternary": {
           "aaxis": {
            "gridcolor": "white",
            "linecolor": "white",
            "ticks": ""
           },
           "baxis": {
            "gridcolor": "white",
            "linecolor": "white",
            "ticks": ""
           },
           "bgcolor": "#E5ECF6",
           "caxis": {
            "gridcolor": "white",
            "linecolor": "white",
            "ticks": ""
           }
          },
          "title": {
           "x": 0.05
          },
          "xaxis": {
           "automargin": true,
           "gridcolor": "white",
           "linecolor": "white",
           "ticks": "",
           "title": {
            "standoff": 15
           },
           "zerolinecolor": "white",
           "zerolinewidth": 2
          },
          "yaxis": {
           "automargin": true,
           "gridcolor": "white",
           "linecolor": "white",
           "ticks": "",
           "title": {
            "standoff": 15
           },
           "zerolinecolor": "white",
           "zerolinewidth": 2
          }
         }
        },
        "xaxis": {
         "anchor": "y",
         "domain": [
          0,
          1
         ],
         "title": {
          "text": "variable"
         }
        },
        "yaxis": {
         "anchor": "x",
         "domain": [
          0,
          1
         ],
         "title": {
          "text": "value"
         }
        }
       }
      },
      "text/html": [
       "<div>                            <div id=\"b1ea4f93-1217-4d58-99b7-1a3773ed718b\" class=\"plotly-graph-div\" style=\"height:525px; width:100%;\"></div>            <script type=\"text/javascript\">                require([\"plotly\"], function(Plotly) {                    window.PLOTLYENV=window.PLOTLYENV || {};                                    if (document.getElementById(\"b1ea4f93-1217-4d58-99b7-1a3773ed718b\")) {                    Plotly.newPlot(                        \"b1ea4f93-1217-4d58-99b7-1a3773ed718b\",                        [{\"alignmentgroup\":\"True\",\"hovertemplate\":\"variable=%{x}<br>value=%{y}<extra></extra>\",\"legendgroup\":\"\",\"marker\":{\"color\":\"#636efa\"},\"name\":\"\",\"notched\":false,\"offsetgroup\":\"\",\"orientation\":\"v\",\"showlegend\":false,\"type\":\"box\",\"x\":[\"preg\",\"preg\",\"preg\",\"preg\",\"preg\",\"preg\",\"preg\",\"preg\",\"preg\",\"preg\",\"preg\",\"preg\",\"preg\",\"preg\",\"preg\",\"preg\",\"preg\",\"preg\",\"preg\",\"preg\",\"preg\",\"preg\",\"preg\",\"preg\",\"preg\",\"preg\",\"preg\",\"preg\",\"preg\",\"preg\",\"preg\",\"preg\",\"preg\",\"preg\",\"preg\",\"preg\",\"preg\",\"preg\",\"preg\",\"preg\",\"preg\",\"preg\",\"preg\",\"preg\",\"preg\",\"preg\",\"preg\",\"preg\",\"preg\",\"preg\",\"preg\",\"preg\",\"preg\",\"preg\",\"preg\",\"preg\",\"preg\",\"preg\",\"preg\",\"preg\",\"preg\",\"preg\",\"preg\",\"preg\",\"preg\",\"preg\",\"preg\",\"preg\",\"preg\",\"preg\",\"preg\",\"preg\",\"preg\",\"preg\",\"preg\",\"preg\",\"preg\",\"preg\",\"preg\",\"preg\",\"preg\",\"preg\",\"preg\",\"preg\",\"preg\",\"preg\",\"preg\",\"preg\",\"preg\",\"preg\",\"preg\",\"preg\",\"preg\",\"preg\",\"preg\",\"preg\",\"preg\",\"preg\",\"preg\",\"preg\",\"preg\",\"preg\",\"preg\",\"preg\",\"preg\",\"preg\",\"preg\",\"preg\",\"preg\",\"preg\",\"preg\",\"preg\",\"preg\",\"preg\",\"preg\",\"preg\",\"preg\",\"preg\",\"preg\",\"preg\",\"preg\",\"preg\",\"preg\",\"preg\",\"preg\",\"preg\",\"preg\",\"preg\",\"preg\",\"preg\",\"preg\",\"preg\",\"preg\",\"preg\",\"preg\",\"preg\",\"preg\",\"preg\",\"preg\",\"preg\",\"preg\",\"preg\",\"preg\",\"preg\",\"preg\",\"preg\",\"preg\",\"preg\",\"preg\",\"preg\",\"preg\",\"preg\",\"preg\",\"preg\",\"preg\",\"preg\",\"preg\",\"preg\",\"preg\",\"preg\",\"preg\",\"preg\",\"preg\",\"preg\",\"preg\",\"preg\",\"preg\",\"preg\",\"preg\",\"preg\",\"preg\",\"preg\",\"preg\",\"preg\",\"preg\",\"preg\",\"preg\",\"preg\",\"preg\",\"preg\",\"preg\",\"preg\",\"preg\",\"preg\",\"preg\",\"preg\",\"preg\",\"preg\",\"preg\",\"preg\",\"preg\",\"preg\",\"preg\",\"preg\",\"preg\",\"preg\",\"preg\",\"preg\",\"preg\",\"preg\",\"preg\",\"preg\",\"preg\",\"preg\",\"preg\",\"preg\",\"preg\",\"preg\",\"preg\",\"preg\",\"preg\",\"preg\",\"preg\",\"preg\",\"preg\",\"preg\",\"preg\",\"preg\",\"preg\",\"preg\",\"preg\",\"preg\",\"preg\",\"preg\",\"preg\",\"preg\",\"preg\",\"preg\",\"preg\",\"preg\",\"preg\",\"preg\",\"preg\",\"preg\",\"preg\",\"preg\",\"preg\",\"preg\",\"preg\",\"preg\",\"preg\",\"preg\",\"preg\",\"preg\",\"preg\",\"preg\",\"preg\",\"preg\",\"preg\",\"preg\",\"preg\",\"preg\",\"preg\",\"preg\",\"preg\",\"preg\",\"preg\",\"preg\",\"preg\",\"preg\",\"preg\",\"preg\",\"preg\",\"preg\",\"preg\",\"preg\",\"preg\",\"preg\",\"preg\",\"preg\",\"preg\",\"preg\",\"preg\",\"preg\",\"preg\",\"preg\",\"preg\",\"preg\",\"preg\",\"preg\",\"preg\",\"preg\",\"preg\",\"preg\",\"preg\",\"preg\",\"preg\",\"preg\",\"preg\",\"preg\",\"preg\",\"preg\",\"preg\",\"preg\",\"preg\",\"preg\",\"preg\",\"preg\",\"preg\",\"preg\",\"preg\",\"preg\",\"preg\",\"preg\",\"preg\",\"preg\",\"preg\",\"preg\",\"preg\",\"preg\",\"preg\",\"preg\",\"preg\",\"preg\",\"preg\",\"preg\",\"preg\",\"preg\",\"preg\",\"preg\",\"preg\",\"preg\",\"preg\",\"preg\",\"preg\",\"preg\",\"preg\",\"preg\",\"preg\",\"preg\",\"preg\",\"preg\",\"preg\",\"preg\",\"preg\",\"preg\",\"preg\",\"preg\",\"preg\",\"preg\",\"preg\",\"preg\",\"preg\",\"preg\",\"preg\",\"preg\",\"preg\",\"preg\",\"preg\",\"preg\",\"preg\",\"preg\",\"preg\",\"preg\",\"preg\",\"preg\",\"preg\",\"preg\",\"preg\",\"preg\",\"preg\",\"preg\",\"preg\",\"preg\",\"preg\",\"preg\",\"preg\",\"preg\",\"preg\",\"preg\",\"preg\",\"preg\",\"preg\",\"preg\",\"preg\",\"preg\",\"preg\",\"preg\",\"preg\",\"preg\",\"preg\",\"preg\",\"preg\",\"preg\",\"preg\",\"preg\",\"preg\",\"preg\",\"preg\",\"preg\",\"preg\",\"preg\",\"preg\",\"preg\",\"preg\",\"preg\",\"preg\",\"preg\",\"preg\",\"preg\",\"preg\",\"preg\",\"preg\",\"preg\",\"preg\",\"preg\",\"preg\",\"preg\",\"preg\",\"preg\",\"preg\",\"preg\",\"preg\",\"preg\",\"preg\",\"preg\",\"preg\",\"preg\",\"preg\",\"preg\",\"preg\",\"preg\",\"preg\",\"preg\",\"preg\",\"preg\",\"preg\",\"preg\",\"preg\",\"preg\",\"preg\",\"preg\",\"preg\",\"preg\",\"preg\",\"preg\",\"preg\",\"preg\",\"preg\",\"preg\",\"preg\",\"preg\",\"preg\",\"preg\",\"preg\",\"preg\",\"preg\",\"preg\",\"preg\",\"preg\",\"preg\",\"preg\",\"preg\",\"preg\",\"preg\",\"preg\",\"preg\",\"preg\",\"preg\",\"preg\",\"preg\",\"preg\",\"preg\",\"preg\",\"preg\",\"preg\",\"preg\",\"preg\",\"preg\",\"preg\",\"preg\",\"preg\",\"preg\",\"preg\",\"preg\",\"preg\",\"preg\",\"preg\",\"preg\",\"preg\",\"preg\",\"preg\",\"preg\",\"preg\",\"preg\",\"preg\",\"preg\",\"preg\",\"preg\",\"preg\",\"preg\",\"preg\",\"preg\",\"preg\",\"preg\",\"preg\",\"preg\",\"preg\",\"preg\",\"preg\",\"preg\",\"preg\",\"preg\",\"preg\",\"preg\",\"preg\",\"preg\",\"preg\",\"preg\",\"preg\",\"preg\",\"preg\",\"preg\",\"preg\",\"preg\",\"preg\",\"preg\",\"preg\",\"preg\",\"preg\",\"preg\",\"preg\",\"preg\",\"preg\",\"preg\",\"preg\",\"preg\",\"preg\",\"preg\",\"preg\",\"preg\",\"preg\",\"preg\",\"preg\",\"preg\",\"preg\",\"preg\",\"preg\",\"preg\",\"preg\",\"preg\",\"preg\",\"preg\",\"preg\",\"preg\",\"preg\",\"preg\",\"preg\",\"preg\",\"preg\",\"preg\",\"preg\",\"preg\",\"preg\",\"preg\",\"preg\",\"preg\",\"preg\",\"preg\",\"preg\",\"preg\",\"preg\",\"preg\",\"preg\",\"preg\",\"preg\",\"preg\",\"preg\",\"preg\",\"preg\",\"preg\",\"preg\",\"preg\",\"preg\",\"preg\",\"preg\",\"preg\",\"preg\",\"preg\",\"preg\",\"preg\",\"preg\",\"preg\",\"preg\",\"preg\",\"preg\",\"preg\",\"preg\",\"preg\",\"preg\",\"preg\",\"preg\",\"preg\",\"preg\",\"preg\",\"preg\",\"preg\",\"preg\",\"preg\",\"preg\",\"preg\",\"preg\",\"preg\",\"preg\",\"preg\",\"preg\",\"preg\",\"preg\",\"preg\",\"preg\",\"preg\",\"preg\",\"preg\",\"preg\",\"preg\",\"preg\",\"preg\",\"preg\",\"preg\",\"preg\",\"preg\",\"preg\",\"preg\",\"preg\",\"preg\",\"preg\",\"preg\",\"preg\",\"preg\",\"preg\",\"preg\",\"preg\",\"preg\",\"preg\",\"preg\",\"preg\",\"preg\",\"preg\",\"preg\",\"preg\",\"preg\",\"preg\",\"preg\",\"preg\",\"preg\",\"preg\",\"preg\",\"preg\",\"preg\",\"preg\",\"preg\",\"preg\",\"preg\",\"preg\",\"preg\",\"preg\",\"preg\",\"preg\",\"preg\",\"preg\",\"preg\",\"preg\",\"preg\",\"preg\",\"preg\",\"preg\",\"preg\",\"preg\",\"preg\",\"preg\",\"preg\",\"preg\",\"preg\",\"preg\",\"preg\",\"preg\",\"preg\",\"preg\",\"preg\",\"preg\",\"preg\",\"preg\",\"preg\",\"preg\",\"preg\",\"preg\",\"preg\",\"preg\",\"preg\",\"preg\",\"preg\",\"preg\",\"preg\",\"preg\",\"preg\",\"preg\",\"preg\",\"preg\",\"preg\",\"preg\",\"preg\",\"preg\",\"preg\",\"preg\",\"preg\",\"preg\",\"preg\",\"preg\",\"preg\",\"preg\",\"preg\",\"preg\",\"preg\",\"preg\",\"preg\",\"preg\",\"preg\",\"preg\",\"preg\",\"preg\",\"preg\",\"preg\",\"preg\",\"preg\",\"preg\",\"preg\",\"preg\",\"preg\",\"preg\",\"preg\",\"preg\",\"preg\",\"preg\",\"preg\",\"preg\",\"preg\",\"preg\",\"preg\",\"preg\",\"preg\",\"preg\",\"preg\",\"preg\",\"preg\",\"preg\",\"preg\",\"preg\",\"preg\",\"preg\",\"preg\",\"preg\",\"preg\",\"preg\",\"preg\",\"preg\",\"preg\",\"preg\",\"preg\",\"preg\",\"preg\",\"preg\",\"preg\",\"preg\",\"preg\",\"preg\",\"preg\",\"preg\",\"preg\"],\"x0\":\" \",\"xaxis\":\"x\",\"y\":[6,1,8,1,0,5,3,10,2,8,4,10,10,1,5,7,0,7,1,1,3,8,7,9,11,10,7,1,13,5,5,3,3,6,10,4,11,9,2,4,3,7,7,9,7,0,1,2,7,7,1,1,5,8,7,1,7,0,0,0,2,8,5,2,7,5,0,2,1,4,2,5,13,4,1,1,7,5,0,2,3,2,7,0,5,2,13,2,15,1,1,4,7,4,2,6,2,1,6,1,1,1,0,1,2,1,1,4,3,0,3,8,1,4,7,4,5,5,4,4,0,6,2,5,0,1,3,1,1,0,4,9,3,8,2,2,0,0,0,5,3,5,2,10,4,0,9,2,5,2,1,4,9,1,8,7,2,1,2,17,4,7,0,2,0,6,3,4,4,3,6,6,2,1,2,8,6,0,5,5,6,0,1,5,4,7,8,1,8,5,3,9,7,11,8,5,1,3,4,4,0,1,0,2,6,5,8,5,1,7,2,0,7,0,9,12,5,6,5,5,0,2,7,7,1,1,0,3,4,0,4,6,1,4,3,4,7,0,9,0,1,4,3,6,2,9,10,0,9,1,9,2,2,0,12,1,3,2,1,11,3,3,4,3,4,5,0,2,0,2,10,2,3,1,13,2,7,0,5,2,0,10,7,7,2,7,5,1,4,5,0,0,2,1,0,6,2,0,14,8,0,2,5,5,3,2,10,0,0,2,6,0,2,3,7,2,3,3,3,6,4,3,0,13,2,1,1,10,2,6,8,2,1,12,1,0,0,5,9,7,1,1,1,5,8,8,1,3,3,5,4,4,3,1,3,9,1,13,12,1,5,5,5,4,4,5,6,0,3,1,3,0,0,2,2,12,0,1,4,0,1,0,1,1,1,1,5,8,5,3,1,5,1,4,4,2,3,0,3,3,4,6,5,9,5,2,4,0,8,1,6,1,1,1,0,3,1,4,1,3,1,2,0,2,8,4,0,1,0,1,2,3,1,2,1,0,12,5,1,6,0,2,4,8,4,0,1,0,0,0,1,2,0,2,2,14,1,5,10,9,9,1,8,5,10,0,0,0,8,6,1,0,0,7,4,0,2,7,8,4,3,0,4,0,0,0,1,0,4,8,2,2,4,4,3,6,5,2,7,6,2,3,6,7,3,10,0,1,2,8,12,0,9,2,3,3,9,7,13,6,2,3,6,9,3,3,1,3,0,0,2,0,1,6,1,4,0,0,0,3,8,3,10,4,1,8,5,4,1,4,1,3,6,1,1,7,1,8,11,11,6,0,1,6,0,2,1,6,4,0,3,2,3,2,1,1,6,2,10,2,0,6,12,8,8,1,8,6,3,0,11,2,3,2,6,0,0,1,1,1,1,6,1,7,4,1,1,1,0,1,3,3,7,6,11,3,6,2,9,0,2,2,6,0,2,4,0,0,5,4,7,0,2,1,10,13,5,2,7,1,0,4,6,4,3,2,1,0,11,0,1,1,5,2,1,2,2,1,11,3,10,1,8,9,6,1,4,10,6,9,6,1,10,3,8,6,9,0,3,2,2,0,0,4,5,2,3,1,1,1,8,13,2,7,2,7,3,0,4,4,2,6,1,2,4,6,10,2,9,2,3,5,10,0,3,7,3,10,1,5,4,1,1,5,1,4,1,0,2,2,3,8,2,2,2,4,0,8,2,1,11,3,1,9,13,12,1,1,3,6,4,1,3,0,8,1,7,0,1,6,2,9,9,10,2,5,1,1],\"y0\":\" \",\"yaxis\":\"y\"}],                        {\"boxmode\":\"group\",\"legend\":{\"tracegroupgap\":0},\"margin\":{\"t\":60},\"template\":{\"data\":{\"bar\":[{\"error_x\":{\"color\":\"#2a3f5f\"},\"error_y\":{\"color\":\"#2a3f5f\"},\"marker\":{\"line\":{\"color\":\"#E5ECF6\",\"width\":0.5},\"pattern\":{\"fillmode\":\"overlay\",\"size\":10,\"solidity\":0.2}},\"type\":\"bar\"}],\"barpolar\":[{\"marker\":{\"line\":{\"color\":\"#E5ECF6\",\"width\":0.5},\"pattern\":{\"fillmode\":\"overlay\",\"size\":10,\"solidity\":0.2}},\"type\":\"barpolar\"}],\"carpet\":[{\"aaxis\":{\"endlinecolor\":\"#2a3f5f\",\"gridcolor\":\"white\",\"linecolor\":\"white\",\"minorgridcolor\":\"white\",\"startlinecolor\":\"#2a3f5f\"},\"baxis\":{\"endlinecolor\":\"#2a3f5f\",\"gridcolor\":\"white\",\"linecolor\":\"white\",\"minorgridcolor\":\"white\",\"startlinecolor\":\"#2a3f5f\"},\"type\":\"carpet\"}],\"choropleth\":[{\"colorbar\":{\"outlinewidth\":0,\"ticks\":\"\"},\"type\":\"choropleth\"}],\"contour\":[{\"colorbar\":{\"outlinewidth\":0,\"ticks\":\"\"},\"colorscale\":[[0.0,\"#0d0887\"],[0.1111111111111111,\"#46039f\"],[0.2222222222222222,\"#7201a8\"],[0.3333333333333333,\"#9c179e\"],[0.4444444444444444,\"#bd3786\"],[0.5555555555555556,\"#d8576b\"],[0.6666666666666666,\"#ed7953\"],[0.7777777777777778,\"#fb9f3a\"],[0.8888888888888888,\"#fdca26\"],[1.0,\"#f0f921\"]],\"type\":\"contour\"}],\"contourcarpet\":[{\"colorbar\":{\"outlinewidth\":0,\"ticks\":\"\"},\"type\":\"contourcarpet\"}],\"heatmap\":[{\"colorbar\":{\"outlinewidth\":0,\"ticks\":\"\"},\"colorscale\":[[0.0,\"#0d0887\"],[0.1111111111111111,\"#46039f\"],[0.2222222222222222,\"#7201a8\"],[0.3333333333333333,\"#9c179e\"],[0.4444444444444444,\"#bd3786\"],[0.5555555555555556,\"#d8576b\"],[0.6666666666666666,\"#ed7953\"],[0.7777777777777778,\"#fb9f3a\"],[0.8888888888888888,\"#fdca26\"],[1.0,\"#f0f921\"]],\"type\":\"heatmap\"}],\"heatmapgl\":[{\"colorbar\":{\"outlinewidth\":0,\"ticks\":\"\"},\"colorscale\":[[0.0,\"#0d0887\"],[0.1111111111111111,\"#46039f\"],[0.2222222222222222,\"#7201a8\"],[0.3333333333333333,\"#9c179e\"],[0.4444444444444444,\"#bd3786\"],[0.5555555555555556,\"#d8576b\"],[0.6666666666666666,\"#ed7953\"],[0.7777777777777778,\"#fb9f3a\"],[0.8888888888888888,\"#fdca26\"],[1.0,\"#f0f921\"]],\"type\":\"heatmapgl\"}],\"histogram\":[{\"marker\":{\"pattern\":{\"fillmode\":\"overlay\",\"size\":10,\"solidity\":0.2}},\"type\":\"histogram\"}],\"histogram2d\":[{\"colorbar\":{\"outlinewidth\":0,\"ticks\":\"\"},\"colorscale\":[[0.0,\"#0d0887\"],[0.1111111111111111,\"#46039f\"],[0.2222222222222222,\"#7201a8\"],[0.3333333333333333,\"#9c179e\"],[0.4444444444444444,\"#bd3786\"],[0.5555555555555556,\"#d8576b\"],[0.6666666666666666,\"#ed7953\"],[0.7777777777777778,\"#fb9f3a\"],[0.8888888888888888,\"#fdca26\"],[1.0,\"#f0f921\"]],\"type\":\"histogram2d\"}],\"histogram2dcontour\":[{\"colorbar\":{\"outlinewidth\":0,\"ticks\":\"\"},\"colorscale\":[[0.0,\"#0d0887\"],[0.1111111111111111,\"#46039f\"],[0.2222222222222222,\"#7201a8\"],[0.3333333333333333,\"#9c179e\"],[0.4444444444444444,\"#bd3786\"],[0.5555555555555556,\"#d8576b\"],[0.6666666666666666,\"#ed7953\"],[0.7777777777777778,\"#fb9f3a\"],[0.8888888888888888,\"#fdca26\"],[1.0,\"#f0f921\"]],\"type\":\"histogram2dcontour\"}],\"mesh3d\":[{\"colorbar\":{\"outlinewidth\":0,\"ticks\":\"\"},\"type\":\"mesh3d\"}],\"parcoords\":[{\"line\":{\"colorbar\":{\"outlinewidth\":0,\"ticks\":\"\"}},\"type\":\"parcoords\"}],\"pie\":[{\"automargin\":true,\"type\":\"pie\"}],\"scatter\":[{\"marker\":{\"colorbar\":{\"outlinewidth\":0,\"ticks\":\"\"}},\"type\":\"scatter\"}],\"scatter3d\":[{\"line\":{\"colorbar\":{\"outlinewidth\":0,\"ticks\":\"\"}},\"marker\":{\"colorbar\":{\"outlinewidth\":0,\"ticks\":\"\"}},\"type\":\"scatter3d\"}],\"scattercarpet\":[{\"marker\":{\"colorbar\":{\"outlinewidth\":0,\"ticks\":\"\"}},\"type\":\"scattercarpet\"}],\"scattergeo\":[{\"marker\":{\"colorbar\":{\"outlinewidth\":0,\"ticks\":\"\"}},\"type\":\"scattergeo\"}],\"scattergl\":[{\"marker\":{\"colorbar\":{\"outlinewidth\":0,\"ticks\":\"\"}},\"type\":\"scattergl\"}],\"scattermapbox\":[{\"marker\":{\"colorbar\":{\"outlinewidth\":0,\"ticks\":\"\"}},\"type\":\"scattermapbox\"}],\"scatterpolar\":[{\"marker\":{\"colorbar\":{\"outlinewidth\":0,\"ticks\":\"\"}},\"type\":\"scatterpolar\"}],\"scatterpolargl\":[{\"marker\":{\"colorbar\":{\"outlinewidth\":0,\"ticks\":\"\"}},\"type\":\"scatterpolargl\"}],\"scatterternary\":[{\"marker\":{\"colorbar\":{\"outlinewidth\":0,\"ticks\":\"\"}},\"type\":\"scatterternary\"}],\"surface\":[{\"colorbar\":{\"outlinewidth\":0,\"ticks\":\"\"},\"colorscale\":[[0.0,\"#0d0887\"],[0.1111111111111111,\"#46039f\"],[0.2222222222222222,\"#7201a8\"],[0.3333333333333333,\"#9c179e\"],[0.4444444444444444,\"#bd3786\"],[0.5555555555555556,\"#d8576b\"],[0.6666666666666666,\"#ed7953\"],[0.7777777777777778,\"#fb9f3a\"],[0.8888888888888888,\"#fdca26\"],[1.0,\"#f0f921\"]],\"type\":\"surface\"}],\"table\":[{\"cells\":{\"fill\":{\"color\":\"#EBF0F8\"},\"line\":{\"color\":\"white\"}},\"header\":{\"fill\":{\"color\":\"#C8D4E3\"},\"line\":{\"color\":\"white\"}},\"type\":\"table\"}]},\"layout\":{\"annotationdefaults\":{\"arrowcolor\":\"#2a3f5f\",\"arrowhead\":0,\"arrowwidth\":1},\"autotypenumbers\":\"strict\",\"coloraxis\":{\"colorbar\":{\"outlinewidth\":0,\"ticks\":\"\"}},\"colorscale\":{\"diverging\":[[0,\"#8e0152\"],[0.1,\"#c51b7d\"],[0.2,\"#de77ae\"],[0.3,\"#f1b6da\"],[0.4,\"#fde0ef\"],[0.5,\"#f7f7f7\"],[0.6,\"#e6f5d0\"],[0.7,\"#b8e186\"],[0.8,\"#7fbc41\"],[0.9,\"#4d9221\"],[1,\"#276419\"]],\"sequential\":[[0.0,\"#0d0887\"],[0.1111111111111111,\"#46039f\"],[0.2222222222222222,\"#7201a8\"],[0.3333333333333333,\"#9c179e\"],[0.4444444444444444,\"#bd3786\"],[0.5555555555555556,\"#d8576b\"],[0.6666666666666666,\"#ed7953\"],[0.7777777777777778,\"#fb9f3a\"],[0.8888888888888888,\"#fdca26\"],[1.0,\"#f0f921\"]],\"sequentialminus\":[[0.0,\"#0d0887\"],[0.1111111111111111,\"#46039f\"],[0.2222222222222222,\"#7201a8\"],[0.3333333333333333,\"#9c179e\"],[0.4444444444444444,\"#bd3786\"],[0.5555555555555556,\"#d8576b\"],[0.6666666666666666,\"#ed7953\"],[0.7777777777777778,\"#fb9f3a\"],[0.8888888888888888,\"#fdca26\"],[1.0,\"#f0f921\"]]},\"colorway\":[\"#636efa\",\"#EF553B\",\"#00cc96\",\"#ab63fa\",\"#FFA15A\",\"#19d3f3\",\"#FF6692\",\"#B6E880\",\"#FF97FF\",\"#FECB52\"],\"font\":{\"color\":\"#2a3f5f\"},\"geo\":{\"bgcolor\":\"white\",\"lakecolor\":\"white\",\"landcolor\":\"#E5ECF6\",\"showlakes\":true,\"showland\":true,\"subunitcolor\":\"white\"},\"hoverlabel\":{\"align\":\"left\"},\"hovermode\":\"closest\",\"mapbox\":{\"style\":\"light\"},\"paper_bgcolor\":\"white\",\"plot_bgcolor\":\"#E5ECF6\",\"polar\":{\"angularaxis\":{\"gridcolor\":\"white\",\"linecolor\":\"white\",\"ticks\":\"\"},\"bgcolor\":\"#E5ECF6\",\"radialaxis\":{\"gridcolor\":\"white\",\"linecolor\":\"white\",\"ticks\":\"\"}},\"scene\":{\"xaxis\":{\"backgroundcolor\":\"#E5ECF6\",\"gridcolor\":\"white\",\"gridwidth\":2,\"linecolor\":\"white\",\"showbackground\":true,\"ticks\":\"\",\"zerolinecolor\":\"white\"},\"yaxis\":{\"backgroundcolor\":\"#E5ECF6\",\"gridcolor\":\"white\",\"gridwidth\":2,\"linecolor\":\"white\",\"showbackground\":true,\"ticks\":\"\",\"zerolinecolor\":\"white\"},\"zaxis\":{\"backgroundcolor\":\"#E5ECF6\",\"gridcolor\":\"white\",\"gridwidth\":2,\"linecolor\":\"white\",\"showbackground\":true,\"ticks\":\"\",\"zerolinecolor\":\"white\"}},\"shapedefaults\":{\"line\":{\"color\":\"#2a3f5f\"}},\"ternary\":{\"aaxis\":{\"gridcolor\":\"white\",\"linecolor\":\"white\",\"ticks\":\"\"},\"baxis\":{\"gridcolor\":\"white\",\"linecolor\":\"white\",\"ticks\":\"\"},\"bgcolor\":\"#E5ECF6\",\"caxis\":{\"gridcolor\":\"white\",\"linecolor\":\"white\",\"ticks\":\"\"}},\"title\":{\"x\":0.05},\"xaxis\":{\"automargin\":true,\"gridcolor\":\"white\",\"linecolor\":\"white\",\"ticks\":\"\",\"title\":{\"standoff\":15},\"zerolinecolor\":\"white\",\"zerolinewidth\":2},\"yaxis\":{\"automargin\":true,\"gridcolor\":\"white\",\"linecolor\":\"white\",\"ticks\":\"\",\"title\":{\"standoff\":15},\"zerolinecolor\":\"white\",\"zerolinewidth\":2}}},\"xaxis\":{\"anchor\":\"y\",\"domain\":[0.0,1.0],\"title\":{\"text\":\"variable\"}},\"yaxis\":{\"anchor\":\"x\",\"domain\":[0.0,1.0],\"title\":{\"text\":\"value\"}}},                        {\"responsive\": true}                    ).then(function(){\n",
       "                            \n",
       "var gd = document.getElementById('b1ea4f93-1217-4d58-99b7-1a3773ed718b');\n",
       "var x = new MutationObserver(function (mutations, observer) {{\n",
       "        var display = window.getComputedStyle(gd).display;\n",
       "        if (!display || display === 'none') {{\n",
       "            console.log([gd, 'removed!']);\n",
       "            Plotly.purge(gd);\n",
       "            observer.disconnect();\n",
       "        }}\n",
       "}});\n",
       "\n",
       "// Listen for the removal of the full notebook cells\n",
       "var notebookContainer = gd.closest('#notebook-container');\n",
       "if (notebookContainer) {{\n",
       "    x.observe(notebookContainer, {childList: true});\n",
       "}}\n",
       "\n",
       "// Listen for the clearing of the current output cell\n",
       "var outputEl = gd.closest('.output');\n",
       "if (outputEl) {{\n",
       "    x.observe(outputEl, {childList: true});\n",
       "}}\n",
       "\n",
       "                        })                };                });            </script>        </div>"
      ]
     },
     "metadata": {},
     "output_type": "display_data"
    }
   ],
   "source": [
    "px.box(df['preg'])"
   ]
  },
  {
   "cell_type": "code",
   "execution_count": 99,
   "id": "cec5a116",
   "metadata": {},
   "outputs": [],
   "source": [
    "# Using IQR to remove outliers from 'preg'\n",
    "\n",
    "q1 = df.preg.quantile(0.25)\n",
    "q3 = df.preg.quantile(0.75)\n",
    "IQR = q3 - q1\n",
    "low = q1 - 1.5 * IQR\n",
    "high = q3 + 1.5 * IQR\n",
    "df.drop(df[df.preg < low].index, inplace = True)\n",
    "df.drop(df[df.preg > high].index, inplace = True)"
   ]
  },
  {
   "cell_type": "code",
   "execution_count": 100,
   "id": "240fbb71",
   "metadata": {},
   "outputs": [
    {
     "data": {
      "application/vnd.plotly.v1+json": {
       "config": {
        "plotlyServerURL": "https://plot.ly"
       },
       "data": [
        {
         "alignmentgroup": "True",
         "hovertemplate": "variable=%{x}<br>value=%{y}<extra></extra>",
         "legendgroup": "",
         "marker": {
          "color": "#636efa"
         },
         "name": "",
         "notched": false,
         "offsetgroup": "",
         "orientation": "v",
         "showlegend": false,
         "type": "box",
         "x": [
          "preg",
          "preg",
          "preg",
          "preg",
          "preg",
          "preg",
          "preg",
          "preg",
          "preg",
          "preg",
          "preg",
          "preg",
          "preg",
          "preg",
          "preg",
          "preg",
          "preg",
          "preg",
          "preg",
          "preg",
          "preg",
          "preg",
          "preg",
          "preg",
          "preg",
          "preg",
          "preg",
          "preg",
          "preg",
          "preg",
          "preg",
          "preg",
          "preg",
          "preg",
          "preg",
          "preg",
          "preg",
          "preg",
          "preg",
          "preg",
          "preg",
          "preg",
          "preg",
          "preg",
          "preg",
          "preg",
          "preg",
          "preg",
          "preg",
          "preg",
          "preg",
          "preg",
          "preg",
          "preg",
          "preg",
          "preg",
          "preg",
          "preg",
          "preg",
          "preg",
          "preg",
          "preg",
          "preg",
          "preg",
          "preg",
          "preg",
          "preg",
          "preg",
          "preg",
          "preg",
          "preg",
          "preg",
          "preg",
          "preg",
          "preg",
          "preg",
          "preg",
          "preg",
          "preg",
          "preg",
          "preg",
          "preg",
          "preg",
          "preg",
          "preg",
          "preg",
          "preg",
          "preg",
          "preg",
          "preg",
          "preg",
          "preg",
          "preg",
          "preg",
          "preg",
          "preg",
          "preg",
          "preg",
          "preg",
          "preg",
          "preg",
          "preg",
          "preg",
          "preg",
          "preg",
          "preg",
          "preg",
          "preg",
          "preg",
          "preg",
          "preg",
          "preg",
          "preg",
          "preg",
          "preg",
          "preg",
          "preg",
          "preg",
          "preg",
          "preg",
          "preg",
          "preg",
          "preg",
          "preg",
          "preg",
          "preg",
          "preg",
          "preg",
          "preg",
          "preg",
          "preg",
          "preg",
          "preg",
          "preg",
          "preg",
          "preg",
          "preg",
          "preg",
          "preg",
          "preg",
          "preg",
          "preg",
          "preg",
          "preg",
          "preg",
          "preg",
          "preg",
          "preg",
          "preg",
          "preg",
          "preg",
          "preg",
          "preg",
          "preg",
          "preg",
          "preg",
          "preg",
          "preg",
          "preg",
          "preg",
          "preg",
          "preg",
          "preg",
          "preg",
          "preg",
          "preg",
          "preg",
          "preg",
          "preg",
          "preg",
          "preg",
          "preg",
          "preg",
          "preg",
          "preg",
          "preg",
          "preg",
          "preg",
          "preg",
          "preg",
          "preg",
          "preg",
          "preg",
          "preg",
          "preg",
          "preg",
          "preg",
          "preg",
          "preg",
          "preg",
          "preg",
          "preg",
          "preg",
          "preg",
          "preg",
          "preg",
          "preg",
          "preg",
          "preg",
          "preg",
          "preg",
          "preg",
          "preg",
          "preg",
          "preg",
          "preg",
          "preg",
          "preg",
          "preg",
          "preg",
          "preg",
          "preg",
          "preg",
          "preg",
          "preg",
          "preg",
          "preg",
          "preg",
          "preg",
          "preg",
          "preg",
          "preg",
          "preg",
          "preg",
          "preg",
          "preg",
          "preg",
          "preg",
          "preg",
          "preg",
          "preg",
          "preg",
          "preg",
          "preg",
          "preg",
          "preg",
          "preg",
          "preg",
          "preg",
          "preg",
          "preg",
          "preg",
          "preg",
          "preg",
          "preg",
          "preg",
          "preg",
          "preg",
          "preg",
          "preg",
          "preg",
          "preg",
          "preg",
          "preg",
          "preg",
          "preg",
          "preg",
          "preg",
          "preg",
          "preg",
          "preg",
          "preg",
          "preg",
          "preg",
          "preg",
          "preg",
          "preg",
          "preg",
          "preg",
          "preg",
          "preg",
          "preg",
          "preg",
          "preg",
          "preg",
          "preg",
          "preg",
          "preg",
          "preg",
          "preg",
          "preg",
          "preg",
          "preg",
          "preg",
          "preg",
          "preg",
          "preg",
          "preg",
          "preg",
          "preg",
          "preg",
          "preg",
          "preg",
          "preg",
          "preg",
          "preg",
          "preg",
          "preg",
          "preg",
          "preg",
          "preg",
          "preg",
          "preg",
          "preg",
          "preg",
          "preg",
          "preg",
          "preg",
          "preg",
          "preg",
          "preg",
          "preg",
          "preg",
          "preg",
          "preg",
          "preg",
          "preg",
          "preg",
          "preg",
          "preg",
          "preg",
          "preg",
          "preg",
          "preg",
          "preg",
          "preg",
          "preg",
          "preg",
          "preg",
          "preg",
          "preg",
          "preg",
          "preg",
          "preg",
          "preg",
          "preg",
          "preg",
          "preg",
          "preg",
          "preg",
          "preg",
          "preg",
          "preg",
          "preg",
          "preg",
          "preg",
          "preg",
          "preg",
          "preg",
          "preg",
          "preg",
          "preg",
          "preg",
          "preg",
          "preg",
          "preg",
          "preg",
          "preg",
          "preg",
          "preg",
          "preg",
          "preg",
          "preg",
          "preg",
          "preg",
          "preg",
          "preg",
          "preg",
          "preg",
          "preg",
          "preg",
          "preg",
          "preg",
          "preg",
          "preg",
          "preg",
          "preg",
          "preg",
          "preg",
          "preg",
          "preg",
          "preg",
          "preg",
          "preg",
          "preg",
          "preg",
          "preg",
          "preg",
          "preg",
          "preg",
          "preg",
          "preg",
          "preg",
          "preg",
          "preg",
          "preg",
          "preg",
          "preg",
          "preg",
          "preg",
          "preg",
          "preg",
          "preg",
          "preg",
          "preg",
          "preg",
          "preg",
          "preg",
          "preg",
          "preg",
          "preg",
          "preg",
          "preg",
          "preg",
          "preg",
          "preg",
          "preg",
          "preg",
          "preg",
          "preg",
          "preg",
          "preg",
          "preg",
          "preg",
          "preg",
          "preg",
          "preg",
          "preg",
          "preg",
          "preg",
          "preg",
          "preg",
          "preg",
          "preg",
          "preg",
          "preg",
          "preg",
          "preg",
          "preg",
          "preg",
          "preg",
          "preg",
          "preg",
          "preg",
          "preg",
          "preg",
          "preg",
          "preg",
          "preg",
          "preg",
          "preg",
          "preg",
          "preg",
          "preg",
          "preg",
          "preg",
          "preg",
          "preg",
          "preg",
          "preg",
          "preg",
          "preg",
          "preg",
          "preg",
          "preg",
          "preg",
          "preg",
          "preg",
          "preg",
          "preg",
          "preg",
          "preg",
          "preg",
          "preg",
          "preg",
          "preg",
          "preg",
          "preg",
          "preg",
          "preg",
          "preg",
          "preg",
          "preg",
          "preg",
          "preg",
          "preg",
          "preg",
          "preg",
          "preg",
          "preg",
          "preg",
          "preg",
          "preg",
          "preg",
          "preg",
          "preg",
          "preg",
          "preg",
          "preg",
          "preg",
          "preg",
          "preg",
          "preg",
          "preg",
          "preg",
          "preg",
          "preg",
          "preg",
          "preg",
          "preg",
          "preg",
          "preg",
          "preg",
          "preg",
          "preg",
          "preg",
          "preg",
          "preg",
          "preg",
          "preg",
          "preg",
          "preg",
          "preg",
          "preg",
          "preg",
          "preg",
          "preg",
          "preg",
          "preg",
          "preg",
          "preg",
          "preg",
          "preg",
          "preg",
          "preg",
          "preg",
          "preg",
          "preg",
          "preg",
          "preg",
          "preg",
          "preg",
          "preg",
          "preg",
          "preg",
          "preg",
          "preg",
          "preg",
          "preg",
          "preg",
          "preg",
          "preg",
          "preg",
          "preg",
          "preg",
          "preg",
          "preg",
          "preg",
          "preg",
          "preg",
          "preg",
          "preg",
          "preg",
          "preg",
          "preg",
          "preg",
          "preg",
          "preg",
          "preg",
          "preg",
          "preg",
          "preg",
          "preg",
          "preg",
          "preg",
          "preg",
          "preg",
          "preg",
          "preg",
          "preg",
          "preg",
          "preg",
          "preg",
          "preg",
          "preg",
          "preg",
          "preg",
          "preg",
          "preg",
          "preg",
          "preg",
          "preg",
          "preg",
          "preg",
          "preg",
          "preg",
          "preg",
          "preg",
          "preg",
          "preg",
          "preg",
          "preg",
          "preg",
          "preg",
          "preg",
          "preg",
          "preg",
          "preg",
          "preg",
          "preg",
          "preg",
          "preg",
          "preg",
          "preg",
          "preg",
          "preg",
          "preg",
          "preg",
          "preg",
          "preg",
          "preg",
          "preg",
          "preg",
          "preg",
          "preg",
          "preg",
          "preg",
          "preg",
          "preg",
          "preg",
          "preg",
          "preg",
          "preg",
          "preg",
          "preg",
          "preg",
          "preg",
          "preg",
          "preg",
          "preg",
          "preg",
          "preg",
          "preg",
          "preg",
          "preg",
          "preg",
          "preg",
          "preg",
          "preg",
          "preg",
          "preg",
          "preg",
          "preg",
          "preg",
          "preg",
          "preg",
          "preg",
          "preg",
          "preg",
          "preg",
          "preg",
          "preg",
          "preg",
          "preg",
          "preg",
          "preg",
          "preg",
          "preg",
          "preg",
          "preg",
          "preg",
          "preg",
          "preg",
          "preg",
          "preg",
          "preg",
          "preg",
          "preg",
          "preg",
          "preg",
          "preg",
          "preg",
          "preg",
          "preg",
          "preg",
          "preg",
          "preg",
          "preg",
          "preg",
          "preg",
          "preg",
          "preg",
          "preg",
          "preg",
          "preg",
          "preg",
          "preg",
          "preg",
          "preg",
          "preg",
          "preg",
          "preg",
          "preg",
          "preg",
          "preg",
          "preg",
          "preg",
          "preg",
          "preg",
          "preg",
          "preg",
          "preg",
          "preg",
          "preg",
          "preg",
          "preg",
          "preg",
          "preg",
          "preg",
          "preg",
          "preg",
          "preg",
          "preg",
          "preg",
          "preg",
          "preg",
          "preg",
          "preg",
          "preg",
          "preg",
          "preg",
          "preg",
          "preg",
          "preg",
          "preg",
          "preg",
          "preg",
          "preg",
          "preg",
          "preg",
          "preg",
          "preg",
          "preg",
          "preg",
          "preg",
          "preg",
          "preg",
          "preg",
          "preg",
          "preg",
          "preg",
          "preg",
          "preg",
          "preg",
          "preg",
          "preg",
          "preg",
          "preg",
          "preg",
          "preg",
          "preg",
          "preg",
          "preg",
          "preg"
         ],
         "x0": " ",
         "xaxis": "x",
         "y": [
          6,
          1,
          8,
          1,
          0,
          5,
          3,
          10,
          2,
          8,
          4,
          10,
          10,
          1,
          5,
          7,
          0,
          7,
          1,
          1,
          3,
          8,
          7,
          9,
          11,
          10,
          7,
          1,
          13,
          5,
          5,
          3,
          3,
          6,
          10,
          4,
          11,
          9,
          2,
          4,
          3,
          7,
          7,
          9,
          7,
          0,
          1,
          2,
          7,
          7,
          1,
          1,
          5,
          8,
          7,
          1,
          7,
          0,
          0,
          0,
          2,
          8,
          5,
          2,
          7,
          5,
          0,
          2,
          1,
          4,
          2,
          5,
          13,
          4,
          1,
          1,
          7,
          5,
          0,
          2,
          3,
          2,
          7,
          0,
          5,
          2,
          13,
          2,
          1,
          1,
          4,
          7,
          4,
          2,
          6,
          2,
          1,
          6,
          1,
          1,
          1,
          0,
          1,
          2,
          1,
          1,
          4,
          3,
          0,
          3,
          8,
          1,
          4,
          7,
          4,
          5,
          5,
          4,
          4,
          0,
          6,
          2,
          5,
          0,
          1,
          3,
          1,
          1,
          0,
          4,
          9,
          3,
          8,
          2,
          2,
          0,
          0,
          0,
          5,
          3,
          5,
          2,
          10,
          4,
          0,
          9,
          2,
          5,
          2,
          1,
          4,
          9,
          1,
          8,
          7,
          2,
          1,
          2,
          4,
          7,
          0,
          2,
          0,
          6,
          3,
          4,
          4,
          3,
          6,
          6,
          2,
          1,
          2,
          8,
          6,
          0,
          5,
          5,
          6,
          0,
          1,
          5,
          4,
          7,
          8,
          1,
          8,
          5,
          3,
          9,
          7,
          11,
          8,
          5,
          1,
          3,
          4,
          4,
          0,
          1,
          0,
          2,
          6,
          5,
          8,
          5,
          1,
          7,
          2,
          0,
          7,
          0,
          9,
          12,
          5,
          6,
          5,
          5,
          0,
          2,
          7,
          7,
          1,
          1,
          0,
          3,
          4,
          0,
          4,
          6,
          1,
          4,
          3,
          4,
          7,
          0,
          9,
          0,
          1,
          4,
          3,
          6,
          2,
          9,
          10,
          0,
          9,
          1,
          9,
          2,
          2,
          0,
          12,
          1,
          3,
          2,
          1,
          11,
          3,
          3,
          4,
          3,
          4,
          5,
          0,
          2,
          0,
          2,
          10,
          2,
          3,
          1,
          13,
          2,
          7,
          0,
          5,
          2,
          0,
          10,
          7,
          7,
          2,
          7,
          5,
          1,
          4,
          5,
          0,
          0,
          2,
          1,
          0,
          6,
          2,
          0,
          8,
          0,
          2,
          5,
          5,
          3,
          2,
          10,
          0,
          0,
          2,
          6,
          0,
          2,
          3,
          7,
          2,
          3,
          3,
          3,
          6,
          4,
          3,
          0,
          13,
          2,
          1,
          1,
          10,
          2,
          6,
          8,
          2,
          1,
          12,
          1,
          0,
          0,
          5,
          9,
          7,
          1,
          1,
          1,
          5,
          8,
          8,
          1,
          3,
          3,
          5,
          4,
          4,
          3,
          1,
          3,
          9,
          1,
          13,
          12,
          1,
          5,
          5,
          5,
          4,
          4,
          5,
          6,
          0,
          3,
          1,
          3,
          0,
          0,
          2,
          2,
          12,
          0,
          1,
          4,
          0,
          1,
          0,
          1,
          1,
          1,
          1,
          5,
          8,
          5,
          3,
          1,
          5,
          1,
          4,
          4,
          2,
          3,
          0,
          3,
          3,
          4,
          6,
          5,
          9,
          5,
          2,
          4,
          0,
          8,
          1,
          6,
          1,
          1,
          1,
          0,
          3,
          1,
          4,
          1,
          3,
          1,
          2,
          0,
          2,
          8,
          4,
          0,
          1,
          0,
          1,
          2,
          3,
          1,
          2,
          1,
          0,
          12,
          5,
          1,
          6,
          0,
          2,
          4,
          8,
          4,
          0,
          1,
          0,
          0,
          0,
          1,
          2,
          0,
          2,
          2,
          1,
          5,
          10,
          9,
          9,
          1,
          8,
          5,
          10,
          0,
          0,
          0,
          8,
          6,
          1,
          0,
          0,
          7,
          4,
          0,
          2,
          7,
          8,
          4,
          3,
          0,
          4,
          0,
          0,
          0,
          1,
          0,
          4,
          8,
          2,
          2,
          4,
          4,
          3,
          6,
          5,
          2,
          7,
          6,
          2,
          3,
          6,
          7,
          3,
          10,
          0,
          1,
          2,
          8,
          12,
          0,
          9,
          2,
          3,
          3,
          9,
          7,
          13,
          6,
          2,
          3,
          6,
          9,
          3,
          3,
          1,
          3,
          0,
          0,
          2,
          0,
          1,
          6,
          1,
          4,
          0,
          0,
          0,
          3,
          8,
          3,
          10,
          4,
          1,
          8,
          5,
          4,
          1,
          4,
          1,
          3,
          6,
          1,
          1,
          7,
          1,
          8,
          11,
          11,
          6,
          0,
          1,
          6,
          0,
          2,
          1,
          6,
          4,
          0,
          3,
          2,
          3,
          2,
          1,
          1,
          6,
          2,
          10,
          2,
          0,
          6,
          12,
          8,
          8,
          1,
          8,
          6,
          3,
          0,
          11,
          2,
          3,
          2,
          6,
          0,
          0,
          1,
          1,
          1,
          1,
          6,
          1,
          7,
          4,
          1,
          1,
          1,
          0,
          1,
          3,
          3,
          7,
          6,
          11,
          3,
          6,
          2,
          9,
          0,
          2,
          2,
          6,
          0,
          2,
          4,
          0,
          0,
          5,
          4,
          7,
          0,
          2,
          1,
          10,
          13,
          5,
          2,
          7,
          1,
          0,
          4,
          6,
          4,
          3,
          2,
          1,
          0,
          11,
          0,
          1,
          1,
          5,
          2,
          1,
          2,
          2,
          1,
          11,
          3,
          10,
          1,
          8,
          9,
          6,
          1,
          4,
          10,
          6,
          9,
          6,
          1,
          10,
          3,
          8,
          6,
          9,
          0,
          3,
          2,
          2,
          0,
          0,
          4,
          5,
          2,
          3,
          1,
          1,
          1,
          8,
          13,
          2,
          7,
          2,
          7,
          3,
          0,
          4,
          4,
          2,
          6,
          1,
          2,
          4,
          6,
          10,
          2,
          9,
          2,
          3,
          5,
          10,
          0,
          3,
          7,
          3,
          10,
          1,
          5,
          4,
          1,
          1,
          5,
          1,
          4,
          1,
          0,
          2,
          2,
          3,
          8,
          2,
          2,
          2,
          4,
          0,
          8,
          2,
          1,
          11,
          3,
          1,
          9,
          13,
          12,
          1,
          1,
          3,
          6,
          4,
          1,
          3,
          0,
          8,
          1,
          7,
          0,
          1,
          6,
          2,
          9,
          9,
          10,
          2,
          5,
          1,
          1
         ],
         "y0": " ",
         "yaxis": "y"
        }
       ],
       "layout": {
        "boxmode": "group",
        "legend": {
         "tracegroupgap": 0
        },
        "margin": {
         "t": 60
        },
        "template": {
         "data": {
          "bar": [
           {
            "error_x": {
             "color": "#2a3f5f"
            },
            "error_y": {
             "color": "#2a3f5f"
            },
            "marker": {
             "line": {
              "color": "#E5ECF6",
              "width": 0.5
             },
             "pattern": {
              "fillmode": "overlay",
              "size": 10,
              "solidity": 0.2
             }
            },
            "type": "bar"
           }
          ],
          "barpolar": [
           {
            "marker": {
             "line": {
              "color": "#E5ECF6",
              "width": 0.5
             },
             "pattern": {
              "fillmode": "overlay",
              "size": 10,
              "solidity": 0.2
             }
            },
            "type": "barpolar"
           }
          ],
          "carpet": [
           {
            "aaxis": {
             "endlinecolor": "#2a3f5f",
             "gridcolor": "white",
             "linecolor": "white",
             "minorgridcolor": "white",
             "startlinecolor": "#2a3f5f"
            },
            "baxis": {
             "endlinecolor": "#2a3f5f",
             "gridcolor": "white",
             "linecolor": "white",
             "minorgridcolor": "white",
             "startlinecolor": "#2a3f5f"
            },
            "type": "carpet"
           }
          ],
          "choropleth": [
           {
            "colorbar": {
             "outlinewidth": 0,
             "ticks": ""
            },
            "type": "choropleth"
           }
          ],
          "contour": [
           {
            "colorbar": {
             "outlinewidth": 0,
             "ticks": ""
            },
            "colorscale": [
             [
              0,
              "#0d0887"
             ],
             [
              0.1111111111111111,
              "#46039f"
             ],
             [
              0.2222222222222222,
              "#7201a8"
             ],
             [
              0.3333333333333333,
              "#9c179e"
             ],
             [
              0.4444444444444444,
              "#bd3786"
             ],
             [
              0.5555555555555556,
              "#d8576b"
             ],
             [
              0.6666666666666666,
              "#ed7953"
             ],
             [
              0.7777777777777778,
              "#fb9f3a"
             ],
             [
              0.8888888888888888,
              "#fdca26"
             ],
             [
              1,
              "#f0f921"
             ]
            ],
            "type": "contour"
           }
          ],
          "contourcarpet": [
           {
            "colorbar": {
             "outlinewidth": 0,
             "ticks": ""
            },
            "type": "contourcarpet"
           }
          ],
          "heatmap": [
           {
            "colorbar": {
             "outlinewidth": 0,
             "ticks": ""
            },
            "colorscale": [
             [
              0,
              "#0d0887"
             ],
             [
              0.1111111111111111,
              "#46039f"
             ],
             [
              0.2222222222222222,
              "#7201a8"
             ],
             [
              0.3333333333333333,
              "#9c179e"
             ],
             [
              0.4444444444444444,
              "#bd3786"
             ],
             [
              0.5555555555555556,
              "#d8576b"
             ],
             [
              0.6666666666666666,
              "#ed7953"
             ],
             [
              0.7777777777777778,
              "#fb9f3a"
             ],
             [
              0.8888888888888888,
              "#fdca26"
             ],
             [
              1,
              "#f0f921"
             ]
            ],
            "type": "heatmap"
           }
          ],
          "heatmapgl": [
           {
            "colorbar": {
             "outlinewidth": 0,
             "ticks": ""
            },
            "colorscale": [
             [
              0,
              "#0d0887"
             ],
             [
              0.1111111111111111,
              "#46039f"
             ],
             [
              0.2222222222222222,
              "#7201a8"
             ],
             [
              0.3333333333333333,
              "#9c179e"
             ],
             [
              0.4444444444444444,
              "#bd3786"
             ],
             [
              0.5555555555555556,
              "#d8576b"
             ],
             [
              0.6666666666666666,
              "#ed7953"
             ],
             [
              0.7777777777777778,
              "#fb9f3a"
             ],
             [
              0.8888888888888888,
              "#fdca26"
             ],
             [
              1,
              "#f0f921"
             ]
            ],
            "type": "heatmapgl"
           }
          ],
          "histogram": [
           {
            "marker": {
             "pattern": {
              "fillmode": "overlay",
              "size": 10,
              "solidity": 0.2
             }
            },
            "type": "histogram"
           }
          ],
          "histogram2d": [
           {
            "colorbar": {
             "outlinewidth": 0,
             "ticks": ""
            },
            "colorscale": [
             [
              0,
              "#0d0887"
             ],
             [
              0.1111111111111111,
              "#46039f"
             ],
             [
              0.2222222222222222,
              "#7201a8"
             ],
             [
              0.3333333333333333,
              "#9c179e"
             ],
             [
              0.4444444444444444,
              "#bd3786"
             ],
             [
              0.5555555555555556,
              "#d8576b"
             ],
             [
              0.6666666666666666,
              "#ed7953"
             ],
             [
              0.7777777777777778,
              "#fb9f3a"
             ],
             [
              0.8888888888888888,
              "#fdca26"
             ],
             [
              1,
              "#f0f921"
             ]
            ],
            "type": "histogram2d"
           }
          ],
          "histogram2dcontour": [
           {
            "colorbar": {
             "outlinewidth": 0,
             "ticks": ""
            },
            "colorscale": [
             [
              0,
              "#0d0887"
             ],
             [
              0.1111111111111111,
              "#46039f"
             ],
             [
              0.2222222222222222,
              "#7201a8"
             ],
             [
              0.3333333333333333,
              "#9c179e"
             ],
             [
              0.4444444444444444,
              "#bd3786"
             ],
             [
              0.5555555555555556,
              "#d8576b"
             ],
             [
              0.6666666666666666,
              "#ed7953"
             ],
             [
              0.7777777777777778,
              "#fb9f3a"
             ],
             [
              0.8888888888888888,
              "#fdca26"
             ],
             [
              1,
              "#f0f921"
             ]
            ],
            "type": "histogram2dcontour"
           }
          ],
          "mesh3d": [
           {
            "colorbar": {
             "outlinewidth": 0,
             "ticks": ""
            },
            "type": "mesh3d"
           }
          ],
          "parcoords": [
           {
            "line": {
             "colorbar": {
              "outlinewidth": 0,
              "ticks": ""
             }
            },
            "type": "parcoords"
           }
          ],
          "pie": [
           {
            "automargin": true,
            "type": "pie"
           }
          ],
          "scatter": [
           {
            "marker": {
             "colorbar": {
              "outlinewidth": 0,
              "ticks": ""
             }
            },
            "type": "scatter"
           }
          ],
          "scatter3d": [
           {
            "line": {
             "colorbar": {
              "outlinewidth": 0,
              "ticks": ""
             }
            },
            "marker": {
             "colorbar": {
              "outlinewidth": 0,
              "ticks": ""
             }
            },
            "type": "scatter3d"
           }
          ],
          "scattercarpet": [
           {
            "marker": {
             "colorbar": {
              "outlinewidth": 0,
              "ticks": ""
             }
            },
            "type": "scattercarpet"
           }
          ],
          "scattergeo": [
           {
            "marker": {
             "colorbar": {
              "outlinewidth": 0,
              "ticks": ""
             }
            },
            "type": "scattergeo"
           }
          ],
          "scattergl": [
           {
            "marker": {
             "colorbar": {
              "outlinewidth": 0,
              "ticks": ""
             }
            },
            "type": "scattergl"
           }
          ],
          "scattermapbox": [
           {
            "marker": {
             "colorbar": {
              "outlinewidth": 0,
              "ticks": ""
             }
            },
            "type": "scattermapbox"
           }
          ],
          "scatterpolar": [
           {
            "marker": {
             "colorbar": {
              "outlinewidth": 0,
              "ticks": ""
             }
            },
            "type": "scatterpolar"
           }
          ],
          "scatterpolargl": [
           {
            "marker": {
             "colorbar": {
              "outlinewidth": 0,
              "ticks": ""
             }
            },
            "type": "scatterpolargl"
           }
          ],
          "scatterternary": [
           {
            "marker": {
             "colorbar": {
              "outlinewidth": 0,
              "ticks": ""
             }
            },
            "type": "scatterternary"
           }
          ],
          "surface": [
           {
            "colorbar": {
             "outlinewidth": 0,
             "ticks": ""
            },
            "colorscale": [
             [
              0,
              "#0d0887"
             ],
             [
              0.1111111111111111,
              "#46039f"
             ],
             [
              0.2222222222222222,
              "#7201a8"
             ],
             [
              0.3333333333333333,
              "#9c179e"
             ],
             [
              0.4444444444444444,
              "#bd3786"
             ],
             [
              0.5555555555555556,
              "#d8576b"
             ],
             [
              0.6666666666666666,
              "#ed7953"
             ],
             [
              0.7777777777777778,
              "#fb9f3a"
             ],
             [
              0.8888888888888888,
              "#fdca26"
             ],
             [
              1,
              "#f0f921"
             ]
            ],
            "type": "surface"
           }
          ],
          "table": [
           {
            "cells": {
             "fill": {
              "color": "#EBF0F8"
             },
             "line": {
              "color": "white"
             }
            },
            "header": {
             "fill": {
              "color": "#C8D4E3"
             },
             "line": {
              "color": "white"
             }
            },
            "type": "table"
           }
          ]
         },
         "layout": {
          "annotationdefaults": {
           "arrowcolor": "#2a3f5f",
           "arrowhead": 0,
           "arrowwidth": 1
          },
          "autotypenumbers": "strict",
          "coloraxis": {
           "colorbar": {
            "outlinewidth": 0,
            "ticks": ""
           }
          },
          "colorscale": {
           "diverging": [
            [
             0,
             "#8e0152"
            ],
            [
             0.1,
             "#c51b7d"
            ],
            [
             0.2,
             "#de77ae"
            ],
            [
             0.3,
             "#f1b6da"
            ],
            [
             0.4,
             "#fde0ef"
            ],
            [
             0.5,
             "#f7f7f7"
            ],
            [
             0.6,
             "#e6f5d0"
            ],
            [
             0.7,
             "#b8e186"
            ],
            [
             0.8,
             "#7fbc41"
            ],
            [
             0.9,
             "#4d9221"
            ],
            [
             1,
             "#276419"
            ]
           ],
           "sequential": [
            [
             0,
             "#0d0887"
            ],
            [
             0.1111111111111111,
             "#46039f"
            ],
            [
             0.2222222222222222,
             "#7201a8"
            ],
            [
             0.3333333333333333,
             "#9c179e"
            ],
            [
             0.4444444444444444,
             "#bd3786"
            ],
            [
             0.5555555555555556,
             "#d8576b"
            ],
            [
             0.6666666666666666,
             "#ed7953"
            ],
            [
             0.7777777777777778,
             "#fb9f3a"
            ],
            [
             0.8888888888888888,
             "#fdca26"
            ],
            [
             1,
             "#f0f921"
            ]
           ],
           "sequentialminus": [
            [
             0,
             "#0d0887"
            ],
            [
             0.1111111111111111,
             "#46039f"
            ],
            [
             0.2222222222222222,
             "#7201a8"
            ],
            [
             0.3333333333333333,
             "#9c179e"
            ],
            [
             0.4444444444444444,
             "#bd3786"
            ],
            [
             0.5555555555555556,
             "#d8576b"
            ],
            [
             0.6666666666666666,
             "#ed7953"
            ],
            [
             0.7777777777777778,
             "#fb9f3a"
            ],
            [
             0.8888888888888888,
             "#fdca26"
            ],
            [
             1,
             "#f0f921"
            ]
           ]
          },
          "colorway": [
           "#636efa",
           "#EF553B",
           "#00cc96",
           "#ab63fa",
           "#FFA15A",
           "#19d3f3",
           "#FF6692",
           "#B6E880",
           "#FF97FF",
           "#FECB52"
          ],
          "font": {
           "color": "#2a3f5f"
          },
          "geo": {
           "bgcolor": "white",
           "lakecolor": "white",
           "landcolor": "#E5ECF6",
           "showlakes": true,
           "showland": true,
           "subunitcolor": "white"
          },
          "hoverlabel": {
           "align": "left"
          },
          "hovermode": "closest",
          "mapbox": {
           "style": "light"
          },
          "paper_bgcolor": "white",
          "plot_bgcolor": "#E5ECF6",
          "polar": {
           "angularaxis": {
            "gridcolor": "white",
            "linecolor": "white",
            "ticks": ""
           },
           "bgcolor": "#E5ECF6",
           "radialaxis": {
            "gridcolor": "white",
            "linecolor": "white",
            "ticks": ""
           }
          },
          "scene": {
           "xaxis": {
            "backgroundcolor": "#E5ECF6",
            "gridcolor": "white",
            "gridwidth": 2,
            "linecolor": "white",
            "showbackground": true,
            "ticks": "",
            "zerolinecolor": "white"
           },
           "yaxis": {
            "backgroundcolor": "#E5ECF6",
            "gridcolor": "white",
            "gridwidth": 2,
            "linecolor": "white",
            "showbackground": true,
            "ticks": "",
            "zerolinecolor": "white"
           },
           "zaxis": {
            "backgroundcolor": "#E5ECF6",
            "gridcolor": "white",
            "gridwidth": 2,
            "linecolor": "white",
            "showbackground": true,
            "ticks": "",
            "zerolinecolor": "white"
           }
          },
          "shapedefaults": {
           "line": {
            "color": "#2a3f5f"
           }
          },
          "ternary": {
           "aaxis": {
            "gridcolor": "white",
            "linecolor": "white",
            "ticks": ""
           },
           "baxis": {
            "gridcolor": "white",
            "linecolor": "white",
            "ticks": ""
           },
           "bgcolor": "#E5ECF6",
           "caxis": {
            "gridcolor": "white",
            "linecolor": "white",
            "ticks": ""
           }
          },
          "title": {
           "x": 0.05
          },
          "xaxis": {
           "automargin": true,
           "gridcolor": "white",
           "linecolor": "white",
           "ticks": "",
           "title": {
            "standoff": 15
           },
           "zerolinecolor": "white",
           "zerolinewidth": 2
          },
          "yaxis": {
           "automargin": true,
           "gridcolor": "white",
           "linecolor": "white",
           "ticks": "",
           "title": {
            "standoff": 15
           },
           "zerolinecolor": "white",
           "zerolinewidth": 2
          }
         }
        },
        "xaxis": {
         "anchor": "y",
         "domain": [
          0,
          1
         ],
         "title": {
          "text": "variable"
         }
        },
        "yaxis": {
         "anchor": "x",
         "domain": [
          0,
          1
         ],
         "title": {
          "text": "value"
         }
        }
       }
      },
      "text/html": [
       "<div>                            <div id=\"907cf359-d822-4966-b7e9-b3032ce5fbc1\" class=\"plotly-graph-div\" style=\"height:525px; width:100%;\"></div>            <script type=\"text/javascript\">                require([\"plotly\"], function(Plotly) {                    window.PLOTLYENV=window.PLOTLYENV || {};                                    if (document.getElementById(\"907cf359-d822-4966-b7e9-b3032ce5fbc1\")) {                    Plotly.newPlot(                        \"907cf359-d822-4966-b7e9-b3032ce5fbc1\",                        [{\"alignmentgroup\":\"True\",\"hovertemplate\":\"variable=%{x}<br>value=%{y}<extra></extra>\",\"legendgroup\":\"\",\"marker\":{\"color\":\"#636efa\"},\"name\":\"\",\"notched\":false,\"offsetgroup\":\"\",\"orientation\":\"v\",\"showlegend\":false,\"type\":\"box\",\"x\":[\"preg\",\"preg\",\"preg\",\"preg\",\"preg\",\"preg\",\"preg\",\"preg\",\"preg\",\"preg\",\"preg\",\"preg\",\"preg\",\"preg\",\"preg\",\"preg\",\"preg\",\"preg\",\"preg\",\"preg\",\"preg\",\"preg\",\"preg\",\"preg\",\"preg\",\"preg\",\"preg\",\"preg\",\"preg\",\"preg\",\"preg\",\"preg\",\"preg\",\"preg\",\"preg\",\"preg\",\"preg\",\"preg\",\"preg\",\"preg\",\"preg\",\"preg\",\"preg\",\"preg\",\"preg\",\"preg\",\"preg\",\"preg\",\"preg\",\"preg\",\"preg\",\"preg\",\"preg\",\"preg\",\"preg\",\"preg\",\"preg\",\"preg\",\"preg\",\"preg\",\"preg\",\"preg\",\"preg\",\"preg\",\"preg\",\"preg\",\"preg\",\"preg\",\"preg\",\"preg\",\"preg\",\"preg\",\"preg\",\"preg\",\"preg\",\"preg\",\"preg\",\"preg\",\"preg\",\"preg\",\"preg\",\"preg\",\"preg\",\"preg\",\"preg\",\"preg\",\"preg\",\"preg\",\"preg\",\"preg\",\"preg\",\"preg\",\"preg\",\"preg\",\"preg\",\"preg\",\"preg\",\"preg\",\"preg\",\"preg\",\"preg\",\"preg\",\"preg\",\"preg\",\"preg\",\"preg\",\"preg\",\"preg\",\"preg\",\"preg\",\"preg\",\"preg\",\"preg\",\"preg\",\"preg\",\"preg\",\"preg\",\"preg\",\"preg\",\"preg\",\"preg\",\"preg\",\"preg\",\"preg\",\"preg\",\"preg\",\"preg\",\"preg\",\"preg\",\"preg\",\"preg\",\"preg\",\"preg\",\"preg\",\"preg\",\"preg\",\"preg\",\"preg\",\"preg\",\"preg\",\"preg\",\"preg\",\"preg\",\"preg\",\"preg\",\"preg\",\"preg\",\"preg\",\"preg\",\"preg\",\"preg\",\"preg\",\"preg\",\"preg\",\"preg\",\"preg\",\"preg\",\"preg\",\"preg\",\"preg\",\"preg\",\"preg\",\"preg\",\"preg\",\"preg\",\"preg\",\"preg\",\"preg\",\"preg\",\"preg\",\"preg\",\"preg\",\"preg\",\"preg\",\"preg\",\"preg\",\"preg\",\"preg\",\"preg\",\"preg\",\"preg\",\"preg\",\"preg\",\"preg\",\"preg\",\"preg\",\"preg\",\"preg\",\"preg\",\"preg\",\"preg\",\"preg\",\"preg\",\"preg\",\"preg\",\"preg\",\"preg\",\"preg\",\"preg\",\"preg\",\"preg\",\"preg\",\"preg\",\"preg\",\"preg\",\"preg\",\"preg\",\"preg\",\"preg\",\"preg\",\"preg\",\"preg\",\"preg\",\"preg\",\"preg\",\"preg\",\"preg\",\"preg\",\"preg\",\"preg\",\"preg\",\"preg\",\"preg\",\"preg\",\"preg\",\"preg\",\"preg\",\"preg\",\"preg\",\"preg\",\"preg\",\"preg\",\"preg\",\"preg\",\"preg\",\"preg\",\"preg\",\"preg\",\"preg\",\"preg\",\"preg\",\"preg\",\"preg\",\"preg\",\"preg\",\"preg\",\"preg\",\"preg\",\"preg\",\"preg\",\"preg\",\"preg\",\"preg\",\"preg\",\"preg\",\"preg\",\"preg\",\"preg\",\"preg\",\"preg\",\"preg\",\"preg\",\"preg\",\"preg\",\"preg\",\"preg\",\"preg\",\"preg\",\"preg\",\"preg\",\"preg\",\"preg\",\"preg\",\"preg\",\"preg\",\"preg\",\"preg\",\"preg\",\"preg\",\"preg\",\"preg\",\"preg\",\"preg\",\"preg\",\"preg\",\"preg\",\"preg\",\"preg\",\"preg\",\"preg\",\"preg\",\"preg\",\"preg\",\"preg\",\"preg\",\"preg\",\"preg\",\"preg\",\"preg\",\"preg\",\"preg\",\"preg\",\"preg\",\"preg\",\"preg\",\"preg\",\"preg\",\"preg\",\"preg\",\"preg\",\"preg\",\"preg\",\"preg\",\"preg\",\"preg\",\"preg\",\"preg\",\"preg\",\"preg\",\"preg\",\"preg\",\"preg\",\"preg\",\"preg\",\"preg\",\"preg\",\"preg\",\"preg\",\"preg\",\"preg\",\"preg\",\"preg\",\"preg\",\"preg\",\"preg\",\"preg\",\"preg\",\"preg\",\"preg\",\"preg\",\"preg\",\"preg\",\"preg\",\"preg\",\"preg\",\"preg\",\"preg\",\"preg\",\"preg\",\"preg\",\"preg\",\"preg\",\"preg\",\"preg\",\"preg\",\"preg\",\"preg\",\"preg\",\"preg\",\"preg\",\"preg\",\"preg\",\"preg\",\"preg\",\"preg\",\"preg\",\"preg\",\"preg\",\"preg\",\"preg\",\"preg\",\"preg\",\"preg\",\"preg\",\"preg\",\"preg\",\"preg\",\"preg\",\"preg\",\"preg\",\"preg\",\"preg\",\"preg\",\"preg\",\"preg\",\"preg\",\"preg\",\"preg\",\"preg\",\"preg\",\"preg\",\"preg\",\"preg\",\"preg\",\"preg\",\"preg\",\"preg\",\"preg\",\"preg\",\"preg\",\"preg\",\"preg\",\"preg\",\"preg\",\"preg\",\"preg\",\"preg\",\"preg\",\"preg\",\"preg\",\"preg\",\"preg\",\"preg\",\"preg\",\"preg\",\"preg\",\"preg\",\"preg\",\"preg\",\"preg\",\"preg\",\"preg\",\"preg\",\"preg\",\"preg\",\"preg\",\"preg\",\"preg\",\"preg\",\"preg\",\"preg\",\"preg\",\"preg\",\"preg\",\"preg\",\"preg\",\"preg\",\"preg\",\"preg\",\"preg\",\"preg\",\"preg\",\"preg\",\"preg\",\"preg\",\"preg\",\"preg\",\"preg\",\"preg\",\"preg\",\"preg\",\"preg\",\"preg\",\"preg\",\"preg\",\"preg\",\"preg\",\"preg\",\"preg\",\"preg\",\"preg\",\"preg\",\"preg\",\"preg\",\"preg\",\"preg\",\"preg\",\"preg\",\"preg\",\"preg\",\"preg\",\"preg\",\"preg\",\"preg\",\"preg\",\"preg\",\"preg\",\"preg\",\"preg\",\"preg\",\"preg\",\"preg\",\"preg\",\"preg\",\"preg\",\"preg\",\"preg\",\"preg\",\"preg\",\"preg\",\"preg\",\"preg\",\"preg\",\"preg\",\"preg\",\"preg\",\"preg\",\"preg\",\"preg\",\"preg\",\"preg\",\"preg\",\"preg\",\"preg\",\"preg\",\"preg\",\"preg\",\"preg\",\"preg\",\"preg\",\"preg\",\"preg\",\"preg\",\"preg\",\"preg\",\"preg\",\"preg\",\"preg\",\"preg\",\"preg\",\"preg\",\"preg\",\"preg\",\"preg\",\"preg\",\"preg\",\"preg\",\"preg\",\"preg\",\"preg\",\"preg\",\"preg\",\"preg\",\"preg\",\"preg\",\"preg\",\"preg\",\"preg\",\"preg\",\"preg\",\"preg\",\"preg\",\"preg\",\"preg\",\"preg\",\"preg\",\"preg\",\"preg\",\"preg\",\"preg\",\"preg\",\"preg\",\"preg\",\"preg\",\"preg\",\"preg\",\"preg\",\"preg\",\"preg\",\"preg\",\"preg\",\"preg\",\"preg\",\"preg\",\"preg\",\"preg\",\"preg\",\"preg\",\"preg\",\"preg\",\"preg\",\"preg\",\"preg\",\"preg\",\"preg\",\"preg\",\"preg\",\"preg\",\"preg\",\"preg\",\"preg\",\"preg\",\"preg\",\"preg\",\"preg\",\"preg\",\"preg\",\"preg\",\"preg\",\"preg\",\"preg\",\"preg\",\"preg\",\"preg\",\"preg\",\"preg\",\"preg\",\"preg\",\"preg\",\"preg\",\"preg\",\"preg\",\"preg\",\"preg\",\"preg\",\"preg\",\"preg\",\"preg\",\"preg\",\"preg\",\"preg\",\"preg\",\"preg\",\"preg\",\"preg\",\"preg\",\"preg\",\"preg\",\"preg\",\"preg\",\"preg\",\"preg\",\"preg\",\"preg\",\"preg\",\"preg\",\"preg\",\"preg\",\"preg\",\"preg\",\"preg\",\"preg\",\"preg\",\"preg\",\"preg\",\"preg\",\"preg\",\"preg\",\"preg\",\"preg\",\"preg\",\"preg\",\"preg\",\"preg\",\"preg\",\"preg\",\"preg\",\"preg\",\"preg\",\"preg\",\"preg\",\"preg\",\"preg\",\"preg\",\"preg\",\"preg\",\"preg\",\"preg\",\"preg\",\"preg\",\"preg\",\"preg\",\"preg\",\"preg\",\"preg\",\"preg\",\"preg\",\"preg\",\"preg\",\"preg\",\"preg\",\"preg\",\"preg\",\"preg\",\"preg\",\"preg\",\"preg\",\"preg\",\"preg\",\"preg\",\"preg\",\"preg\",\"preg\",\"preg\",\"preg\",\"preg\",\"preg\",\"preg\",\"preg\",\"preg\",\"preg\",\"preg\",\"preg\",\"preg\",\"preg\",\"preg\",\"preg\",\"preg\",\"preg\",\"preg\",\"preg\",\"preg\",\"preg\",\"preg\",\"preg\",\"preg\",\"preg\",\"preg\",\"preg\",\"preg\",\"preg\",\"preg\",\"preg\",\"preg\",\"preg\",\"preg\",\"preg\",\"preg\",\"preg\",\"preg\",\"preg\",\"preg\",\"preg\",\"preg\",\"preg\",\"preg\",\"preg\",\"preg\",\"preg\",\"preg\",\"preg\",\"preg\",\"preg\",\"preg\",\"preg\",\"preg\",\"preg\",\"preg\",\"preg\",\"preg\",\"preg\",\"preg\",\"preg\",\"preg\",\"preg\",\"preg\",\"preg\",\"preg\",\"preg\",\"preg\",\"preg\",\"preg\",\"preg\",\"preg\",\"preg\",\"preg\",\"preg\",\"preg\",\"preg\",\"preg\",\"preg\",\"preg\",\"preg\",\"preg\"],\"x0\":\" \",\"xaxis\":\"x\",\"y\":[6,1,8,1,0,5,3,10,2,8,4,10,10,1,5,7,0,7,1,1,3,8,7,9,11,10,7,1,13,5,5,3,3,6,10,4,11,9,2,4,3,7,7,9,7,0,1,2,7,7,1,1,5,8,7,1,7,0,0,0,2,8,5,2,7,5,0,2,1,4,2,5,13,4,1,1,7,5,0,2,3,2,7,0,5,2,13,2,1,1,4,7,4,2,6,2,1,6,1,1,1,0,1,2,1,1,4,3,0,3,8,1,4,7,4,5,5,4,4,0,6,2,5,0,1,3,1,1,0,4,9,3,8,2,2,0,0,0,5,3,5,2,10,4,0,9,2,5,2,1,4,9,1,8,7,2,1,2,4,7,0,2,0,6,3,4,4,3,6,6,2,1,2,8,6,0,5,5,6,0,1,5,4,7,8,1,8,5,3,9,7,11,8,5,1,3,4,4,0,1,0,2,6,5,8,5,1,7,2,0,7,0,9,12,5,6,5,5,0,2,7,7,1,1,0,3,4,0,4,6,1,4,3,4,7,0,9,0,1,4,3,6,2,9,10,0,9,1,9,2,2,0,12,1,3,2,1,11,3,3,4,3,4,5,0,2,0,2,10,2,3,1,13,2,7,0,5,2,0,10,7,7,2,7,5,1,4,5,0,0,2,1,0,6,2,0,8,0,2,5,5,3,2,10,0,0,2,6,0,2,3,7,2,3,3,3,6,4,3,0,13,2,1,1,10,2,6,8,2,1,12,1,0,0,5,9,7,1,1,1,5,8,8,1,3,3,5,4,4,3,1,3,9,1,13,12,1,5,5,5,4,4,5,6,0,3,1,3,0,0,2,2,12,0,1,4,0,1,0,1,1,1,1,5,8,5,3,1,5,1,4,4,2,3,0,3,3,4,6,5,9,5,2,4,0,8,1,6,1,1,1,0,3,1,4,1,3,1,2,0,2,8,4,0,1,0,1,2,3,1,2,1,0,12,5,1,6,0,2,4,8,4,0,1,0,0,0,1,2,0,2,2,1,5,10,9,9,1,8,5,10,0,0,0,8,6,1,0,0,7,4,0,2,7,8,4,3,0,4,0,0,0,1,0,4,8,2,2,4,4,3,6,5,2,7,6,2,3,6,7,3,10,0,1,2,8,12,0,9,2,3,3,9,7,13,6,2,3,6,9,3,3,1,3,0,0,2,0,1,6,1,4,0,0,0,3,8,3,10,4,1,8,5,4,1,4,1,3,6,1,1,7,1,8,11,11,6,0,1,6,0,2,1,6,4,0,3,2,3,2,1,1,6,2,10,2,0,6,12,8,8,1,8,6,3,0,11,2,3,2,6,0,0,1,1,1,1,6,1,7,4,1,1,1,0,1,3,3,7,6,11,3,6,2,9,0,2,2,6,0,2,4,0,0,5,4,7,0,2,1,10,13,5,2,7,1,0,4,6,4,3,2,1,0,11,0,1,1,5,2,1,2,2,1,11,3,10,1,8,9,6,1,4,10,6,9,6,1,10,3,8,6,9,0,3,2,2,0,0,4,5,2,3,1,1,1,8,13,2,7,2,7,3,0,4,4,2,6,1,2,4,6,10,2,9,2,3,5,10,0,3,7,3,10,1,5,4,1,1,5,1,4,1,0,2,2,3,8,2,2,2,4,0,8,2,1,11,3,1,9,13,12,1,1,3,6,4,1,3,0,8,1,7,0,1,6,2,9,9,10,2,5,1,1],\"y0\":\" \",\"yaxis\":\"y\"}],                        {\"boxmode\":\"group\",\"legend\":{\"tracegroupgap\":0},\"margin\":{\"t\":60},\"template\":{\"data\":{\"bar\":[{\"error_x\":{\"color\":\"#2a3f5f\"},\"error_y\":{\"color\":\"#2a3f5f\"},\"marker\":{\"line\":{\"color\":\"#E5ECF6\",\"width\":0.5},\"pattern\":{\"fillmode\":\"overlay\",\"size\":10,\"solidity\":0.2}},\"type\":\"bar\"}],\"barpolar\":[{\"marker\":{\"line\":{\"color\":\"#E5ECF6\",\"width\":0.5},\"pattern\":{\"fillmode\":\"overlay\",\"size\":10,\"solidity\":0.2}},\"type\":\"barpolar\"}],\"carpet\":[{\"aaxis\":{\"endlinecolor\":\"#2a3f5f\",\"gridcolor\":\"white\",\"linecolor\":\"white\",\"minorgridcolor\":\"white\",\"startlinecolor\":\"#2a3f5f\"},\"baxis\":{\"endlinecolor\":\"#2a3f5f\",\"gridcolor\":\"white\",\"linecolor\":\"white\",\"minorgridcolor\":\"white\",\"startlinecolor\":\"#2a3f5f\"},\"type\":\"carpet\"}],\"choropleth\":[{\"colorbar\":{\"outlinewidth\":0,\"ticks\":\"\"},\"type\":\"choropleth\"}],\"contour\":[{\"colorbar\":{\"outlinewidth\":0,\"ticks\":\"\"},\"colorscale\":[[0.0,\"#0d0887\"],[0.1111111111111111,\"#46039f\"],[0.2222222222222222,\"#7201a8\"],[0.3333333333333333,\"#9c179e\"],[0.4444444444444444,\"#bd3786\"],[0.5555555555555556,\"#d8576b\"],[0.6666666666666666,\"#ed7953\"],[0.7777777777777778,\"#fb9f3a\"],[0.8888888888888888,\"#fdca26\"],[1.0,\"#f0f921\"]],\"type\":\"contour\"}],\"contourcarpet\":[{\"colorbar\":{\"outlinewidth\":0,\"ticks\":\"\"},\"type\":\"contourcarpet\"}],\"heatmap\":[{\"colorbar\":{\"outlinewidth\":0,\"ticks\":\"\"},\"colorscale\":[[0.0,\"#0d0887\"],[0.1111111111111111,\"#46039f\"],[0.2222222222222222,\"#7201a8\"],[0.3333333333333333,\"#9c179e\"],[0.4444444444444444,\"#bd3786\"],[0.5555555555555556,\"#d8576b\"],[0.6666666666666666,\"#ed7953\"],[0.7777777777777778,\"#fb9f3a\"],[0.8888888888888888,\"#fdca26\"],[1.0,\"#f0f921\"]],\"type\":\"heatmap\"}],\"heatmapgl\":[{\"colorbar\":{\"outlinewidth\":0,\"ticks\":\"\"},\"colorscale\":[[0.0,\"#0d0887\"],[0.1111111111111111,\"#46039f\"],[0.2222222222222222,\"#7201a8\"],[0.3333333333333333,\"#9c179e\"],[0.4444444444444444,\"#bd3786\"],[0.5555555555555556,\"#d8576b\"],[0.6666666666666666,\"#ed7953\"],[0.7777777777777778,\"#fb9f3a\"],[0.8888888888888888,\"#fdca26\"],[1.0,\"#f0f921\"]],\"type\":\"heatmapgl\"}],\"histogram\":[{\"marker\":{\"pattern\":{\"fillmode\":\"overlay\",\"size\":10,\"solidity\":0.2}},\"type\":\"histogram\"}],\"histogram2d\":[{\"colorbar\":{\"outlinewidth\":0,\"ticks\":\"\"},\"colorscale\":[[0.0,\"#0d0887\"],[0.1111111111111111,\"#46039f\"],[0.2222222222222222,\"#7201a8\"],[0.3333333333333333,\"#9c179e\"],[0.4444444444444444,\"#bd3786\"],[0.5555555555555556,\"#d8576b\"],[0.6666666666666666,\"#ed7953\"],[0.7777777777777778,\"#fb9f3a\"],[0.8888888888888888,\"#fdca26\"],[1.0,\"#f0f921\"]],\"type\":\"histogram2d\"}],\"histogram2dcontour\":[{\"colorbar\":{\"outlinewidth\":0,\"ticks\":\"\"},\"colorscale\":[[0.0,\"#0d0887\"],[0.1111111111111111,\"#46039f\"],[0.2222222222222222,\"#7201a8\"],[0.3333333333333333,\"#9c179e\"],[0.4444444444444444,\"#bd3786\"],[0.5555555555555556,\"#d8576b\"],[0.6666666666666666,\"#ed7953\"],[0.7777777777777778,\"#fb9f3a\"],[0.8888888888888888,\"#fdca26\"],[1.0,\"#f0f921\"]],\"type\":\"histogram2dcontour\"}],\"mesh3d\":[{\"colorbar\":{\"outlinewidth\":0,\"ticks\":\"\"},\"type\":\"mesh3d\"}],\"parcoords\":[{\"line\":{\"colorbar\":{\"outlinewidth\":0,\"ticks\":\"\"}},\"type\":\"parcoords\"}],\"pie\":[{\"automargin\":true,\"type\":\"pie\"}],\"scatter\":[{\"marker\":{\"colorbar\":{\"outlinewidth\":0,\"ticks\":\"\"}},\"type\":\"scatter\"}],\"scatter3d\":[{\"line\":{\"colorbar\":{\"outlinewidth\":0,\"ticks\":\"\"}},\"marker\":{\"colorbar\":{\"outlinewidth\":0,\"ticks\":\"\"}},\"type\":\"scatter3d\"}],\"scattercarpet\":[{\"marker\":{\"colorbar\":{\"outlinewidth\":0,\"ticks\":\"\"}},\"type\":\"scattercarpet\"}],\"scattergeo\":[{\"marker\":{\"colorbar\":{\"outlinewidth\":0,\"ticks\":\"\"}},\"type\":\"scattergeo\"}],\"scattergl\":[{\"marker\":{\"colorbar\":{\"outlinewidth\":0,\"ticks\":\"\"}},\"type\":\"scattergl\"}],\"scattermapbox\":[{\"marker\":{\"colorbar\":{\"outlinewidth\":0,\"ticks\":\"\"}},\"type\":\"scattermapbox\"}],\"scatterpolar\":[{\"marker\":{\"colorbar\":{\"outlinewidth\":0,\"ticks\":\"\"}},\"type\":\"scatterpolar\"}],\"scatterpolargl\":[{\"marker\":{\"colorbar\":{\"outlinewidth\":0,\"ticks\":\"\"}},\"type\":\"scatterpolargl\"}],\"scatterternary\":[{\"marker\":{\"colorbar\":{\"outlinewidth\":0,\"ticks\":\"\"}},\"type\":\"scatterternary\"}],\"surface\":[{\"colorbar\":{\"outlinewidth\":0,\"ticks\":\"\"},\"colorscale\":[[0.0,\"#0d0887\"],[0.1111111111111111,\"#46039f\"],[0.2222222222222222,\"#7201a8\"],[0.3333333333333333,\"#9c179e\"],[0.4444444444444444,\"#bd3786\"],[0.5555555555555556,\"#d8576b\"],[0.6666666666666666,\"#ed7953\"],[0.7777777777777778,\"#fb9f3a\"],[0.8888888888888888,\"#fdca26\"],[1.0,\"#f0f921\"]],\"type\":\"surface\"}],\"table\":[{\"cells\":{\"fill\":{\"color\":\"#EBF0F8\"},\"line\":{\"color\":\"white\"}},\"header\":{\"fill\":{\"color\":\"#C8D4E3\"},\"line\":{\"color\":\"white\"}},\"type\":\"table\"}]},\"layout\":{\"annotationdefaults\":{\"arrowcolor\":\"#2a3f5f\",\"arrowhead\":0,\"arrowwidth\":1},\"autotypenumbers\":\"strict\",\"coloraxis\":{\"colorbar\":{\"outlinewidth\":0,\"ticks\":\"\"}},\"colorscale\":{\"diverging\":[[0,\"#8e0152\"],[0.1,\"#c51b7d\"],[0.2,\"#de77ae\"],[0.3,\"#f1b6da\"],[0.4,\"#fde0ef\"],[0.5,\"#f7f7f7\"],[0.6,\"#e6f5d0\"],[0.7,\"#b8e186\"],[0.8,\"#7fbc41\"],[0.9,\"#4d9221\"],[1,\"#276419\"]],\"sequential\":[[0.0,\"#0d0887\"],[0.1111111111111111,\"#46039f\"],[0.2222222222222222,\"#7201a8\"],[0.3333333333333333,\"#9c179e\"],[0.4444444444444444,\"#bd3786\"],[0.5555555555555556,\"#d8576b\"],[0.6666666666666666,\"#ed7953\"],[0.7777777777777778,\"#fb9f3a\"],[0.8888888888888888,\"#fdca26\"],[1.0,\"#f0f921\"]],\"sequentialminus\":[[0.0,\"#0d0887\"],[0.1111111111111111,\"#46039f\"],[0.2222222222222222,\"#7201a8\"],[0.3333333333333333,\"#9c179e\"],[0.4444444444444444,\"#bd3786\"],[0.5555555555555556,\"#d8576b\"],[0.6666666666666666,\"#ed7953\"],[0.7777777777777778,\"#fb9f3a\"],[0.8888888888888888,\"#fdca26\"],[1.0,\"#f0f921\"]]},\"colorway\":[\"#636efa\",\"#EF553B\",\"#00cc96\",\"#ab63fa\",\"#FFA15A\",\"#19d3f3\",\"#FF6692\",\"#B6E880\",\"#FF97FF\",\"#FECB52\"],\"font\":{\"color\":\"#2a3f5f\"},\"geo\":{\"bgcolor\":\"white\",\"lakecolor\":\"white\",\"landcolor\":\"#E5ECF6\",\"showlakes\":true,\"showland\":true,\"subunitcolor\":\"white\"},\"hoverlabel\":{\"align\":\"left\"},\"hovermode\":\"closest\",\"mapbox\":{\"style\":\"light\"},\"paper_bgcolor\":\"white\",\"plot_bgcolor\":\"#E5ECF6\",\"polar\":{\"angularaxis\":{\"gridcolor\":\"white\",\"linecolor\":\"white\",\"ticks\":\"\"},\"bgcolor\":\"#E5ECF6\",\"radialaxis\":{\"gridcolor\":\"white\",\"linecolor\":\"white\",\"ticks\":\"\"}},\"scene\":{\"xaxis\":{\"backgroundcolor\":\"#E5ECF6\",\"gridcolor\":\"white\",\"gridwidth\":2,\"linecolor\":\"white\",\"showbackground\":true,\"ticks\":\"\",\"zerolinecolor\":\"white\"},\"yaxis\":{\"backgroundcolor\":\"#E5ECF6\",\"gridcolor\":\"white\",\"gridwidth\":2,\"linecolor\":\"white\",\"showbackground\":true,\"ticks\":\"\",\"zerolinecolor\":\"white\"},\"zaxis\":{\"backgroundcolor\":\"#E5ECF6\",\"gridcolor\":\"white\",\"gridwidth\":2,\"linecolor\":\"white\",\"showbackground\":true,\"ticks\":\"\",\"zerolinecolor\":\"white\"}},\"shapedefaults\":{\"line\":{\"color\":\"#2a3f5f\"}},\"ternary\":{\"aaxis\":{\"gridcolor\":\"white\",\"linecolor\":\"white\",\"ticks\":\"\"},\"baxis\":{\"gridcolor\":\"white\",\"linecolor\":\"white\",\"ticks\":\"\"},\"bgcolor\":\"#E5ECF6\",\"caxis\":{\"gridcolor\":\"white\",\"linecolor\":\"white\",\"ticks\":\"\"}},\"title\":{\"x\":0.05},\"xaxis\":{\"automargin\":true,\"gridcolor\":\"white\",\"linecolor\":\"white\",\"ticks\":\"\",\"title\":{\"standoff\":15},\"zerolinecolor\":\"white\",\"zerolinewidth\":2},\"yaxis\":{\"automargin\":true,\"gridcolor\":\"white\",\"linecolor\":\"white\",\"ticks\":\"\",\"title\":{\"standoff\":15},\"zerolinecolor\":\"white\",\"zerolinewidth\":2}}},\"xaxis\":{\"anchor\":\"y\",\"domain\":[0.0,1.0],\"title\":{\"text\":\"variable\"}},\"yaxis\":{\"anchor\":\"x\",\"domain\":[0.0,1.0],\"title\":{\"text\":\"value\"}}},                        {\"responsive\": true}                    ).then(function(){\n",
       "                            \n",
       "var gd = document.getElementById('907cf359-d822-4966-b7e9-b3032ce5fbc1');\n",
       "var x = new MutationObserver(function (mutations, observer) {{\n",
       "        var display = window.getComputedStyle(gd).display;\n",
       "        if (!display || display === 'none') {{\n",
       "            console.log([gd, 'removed!']);\n",
       "            Plotly.purge(gd);\n",
       "            observer.disconnect();\n",
       "        }}\n",
       "}});\n",
       "\n",
       "// Listen for the removal of the full notebook cells\n",
       "var notebookContainer = gd.closest('#notebook-container');\n",
       "if (notebookContainer) {{\n",
       "    x.observe(notebookContainer, {childList: true});\n",
       "}}\n",
       "\n",
       "// Listen for the clearing of the current output cell\n",
       "var outputEl = gd.closest('.output');\n",
       "if (outputEl) {{\n",
       "    x.observe(outputEl, {childList: true});\n",
       "}}\n",
       "\n",
       "                        })                };                });            </script>        </div>"
      ]
     },
     "metadata": {},
     "output_type": "display_data"
    }
   ],
   "source": [
    "px.box(df['preg'])"
   ]
  },
  {
   "cell_type": "code",
   "execution_count": 101,
   "id": "12478bf6",
   "metadata": {},
   "outputs": [
    {
     "data": {
      "application/vnd.plotly.v1+json": {
       "config": {
        "plotlyServerURL": "https://plot.ly"
       },
       "data": [
        {
         "alignmentgroup": "True",
         "hovertemplate": "variable=%{x}<br>value=%{y}<extra></extra>",
         "legendgroup": "",
         "marker": {
          "color": "#636efa"
         },
         "name": "",
         "notched": false,
         "offsetgroup": "",
         "orientation": "v",
         "showlegend": false,
         "type": "box",
         "x": [
          "glu",
          "glu",
          "glu",
          "glu",
          "glu",
          "glu",
          "glu",
          "glu",
          "glu",
          "glu",
          "glu",
          "glu",
          "glu",
          "glu",
          "glu",
          "glu",
          "glu",
          "glu",
          "glu",
          "glu",
          "glu",
          "glu",
          "glu",
          "glu",
          "glu",
          "glu",
          "glu",
          "glu",
          "glu",
          "glu",
          "glu",
          "glu",
          "glu",
          "glu",
          "glu",
          "glu",
          "glu",
          "glu",
          "glu",
          "glu",
          "glu",
          "glu",
          "glu",
          "glu",
          "glu",
          "glu",
          "glu",
          "glu",
          "glu",
          "glu",
          "glu",
          "glu",
          "glu",
          "glu",
          "glu",
          "glu",
          "glu",
          "glu",
          "glu",
          "glu",
          "glu",
          "glu",
          "glu",
          "glu",
          "glu",
          "glu",
          "glu",
          "glu",
          "glu",
          "glu",
          "glu",
          "glu",
          "glu",
          "glu",
          "glu",
          "glu",
          "glu",
          "glu",
          "glu",
          "glu",
          "glu",
          "glu",
          "glu",
          "glu",
          "glu",
          "glu",
          "glu",
          "glu",
          "glu",
          "glu",
          "glu",
          "glu",
          "glu",
          "glu",
          "glu",
          "glu",
          "glu",
          "glu",
          "glu",
          "glu",
          "glu",
          "glu",
          "glu",
          "glu",
          "glu",
          "glu",
          "glu",
          "glu",
          "glu",
          "glu",
          "glu",
          "glu",
          "glu",
          "glu",
          "glu",
          "glu",
          "glu",
          "glu",
          "glu",
          "glu",
          "glu",
          "glu",
          "glu",
          "glu",
          "glu",
          "glu",
          "glu",
          "glu",
          "glu",
          "glu",
          "glu",
          "glu",
          "glu",
          "glu",
          "glu",
          "glu",
          "glu",
          "glu",
          "glu",
          "glu",
          "glu",
          "glu",
          "glu",
          "glu",
          "glu",
          "glu",
          "glu",
          "glu",
          "glu",
          "glu",
          "glu",
          "glu",
          "glu",
          "glu",
          "glu",
          "glu",
          "glu",
          "glu",
          "glu",
          "glu",
          "glu",
          "glu",
          "glu",
          "glu",
          "glu",
          "glu",
          "glu",
          "glu",
          "glu",
          "glu",
          "glu",
          "glu",
          "glu",
          "glu",
          "glu",
          "glu",
          "glu",
          "glu",
          "glu",
          "glu",
          "glu",
          "glu",
          "glu",
          "glu",
          "glu",
          "glu",
          "glu",
          "glu",
          "glu",
          "glu",
          "glu",
          "glu",
          "glu",
          "glu",
          "glu",
          "glu",
          "glu",
          "glu",
          "glu",
          "glu",
          "glu",
          "glu",
          "glu",
          "glu",
          "glu",
          "glu",
          "glu",
          "glu",
          "glu",
          "glu",
          "glu",
          "glu",
          "glu",
          "glu",
          "glu",
          "glu",
          "glu",
          "glu",
          "glu",
          "glu",
          "glu",
          "glu",
          "glu",
          "glu",
          "glu",
          "glu",
          "glu",
          "glu",
          "glu",
          "glu",
          "glu",
          "glu",
          "glu",
          "glu",
          "glu",
          "glu",
          "glu",
          "glu",
          "glu",
          "glu",
          "glu",
          "glu",
          "glu",
          "glu",
          "glu",
          "glu",
          "glu",
          "glu",
          "glu",
          "glu",
          "glu",
          "glu",
          "glu",
          "glu",
          "glu",
          "glu",
          "glu",
          "glu",
          "glu",
          "glu",
          "glu",
          "glu",
          "glu",
          "glu",
          "glu",
          "glu",
          "glu",
          "glu",
          "glu",
          "glu",
          "glu",
          "glu",
          "glu",
          "glu",
          "glu",
          "glu",
          "glu",
          "glu",
          "glu",
          "glu",
          "glu",
          "glu",
          "glu",
          "glu",
          "glu",
          "glu",
          "glu",
          "glu",
          "glu",
          "glu",
          "glu",
          "glu",
          "glu",
          "glu",
          "glu",
          "glu",
          "glu",
          "glu",
          "glu",
          "glu",
          "glu",
          "glu",
          "glu",
          "glu",
          "glu",
          "glu",
          "glu",
          "glu",
          "glu",
          "glu",
          "glu",
          "glu",
          "glu",
          "glu",
          "glu",
          "glu",
          "glu",
          "glu",
          "glu",
          "glu",
          "glu",
          "glu",
          "glu",
          "glu",
          "glu",
          "glu",
          "glu",
          "glu",
          "glu",
          "glu",
          "glu",
          "glu",
          "glu",
          "glu",
          "glu",
          "glu",
          "glu",
          "glu",
          "glu",
          "glu",
          "glu",
          "glu",
          "glu",
          "glu",
          "glu",
          "glu",
          "glu",
          "glu",
          "glu",
          "glu",
          "glu",
          "glu",
          "glu",
          "glu",
          "glu",
          "glu",
          "glu",
          "glu",
          "glu",
          "glu",
          "glu",
          "glu",
          "glu",
          "glu",
          "glu",
          "glu",
          "glu",
          "glu",
          "glu",
          "glu",
          "glu",
          "glu",
          "glu",
          "glu",
          "glu",
          "glu",
          "glu",
          "glu",
          "glu",
          "glu",
          "glu",
          "glu",
          "glu",
          "glu",
          "glu",
          "glu",
          "glu",
          "glu",
          "glu",
          "glu",
          "glu",
          "glu",
          "glu",
          "glu",
          "glu",
          "glu",
          "glu",
          "glu",
          "glu",
          "glu",
          "glu",
          "glu",
          "glu",
          "glu",
          "glu",
          "glu",
          "glu",
          "glu",
          "glu",
          "glu",
          "glu",
          "glu",
          "glu",
          "glu",
          "glu",
          "glu",
          "glu",
          "glu",
          "glu",
          "glu",
          "glu",
          "glu",
          "glu",
          "glu",
          "glu",
          "glu",
          "glu",
          "glu",
          "glu",
          "glu",
          "glu",
          "glu",
          "glu",
          "glu",
          "glu",
          "glu",
          "glu",
          "glu",
          "glu",
          "glu",
          "glu",
          "glu",
          "glu",
          "glu",
          "glu",
          "glu",
          "glu",
          "glu",
          "glu",
          "glu",
          "glu",
          "glu",
          "glu",
          "glu",
          "glu",
          "glu",
          "glu",
          "glu",
          "glu",
          "glu",
          "glu",
          "glu",
          "glu",
          "glu",
          "glu",
          "glu",
          "glu",
          "glu",
          "glu",
          "glu",
          "glu",
          "glu",
          "glu",
          "glu",
          "glu",
          "glu",
          "glu",
          "glu",
          "glu",
          "glu",
          "glu",
          "glu",
          "glu",
          "glu",
          "glu",
          "glu",
          "glu",
          "glu",
          "glu",
          "glu",
          "glu",
          "glu",
          "glu",
          "glu",
          "glu",
          "glu",
          "glu",
          "glu",
          "glu",
          "glu",
          "glu",
          "glu",
          "glu",
          "glu",
          "glu",
          "glu",
          "glu",
          "glu",
          "glu",
          "glu",
          "glu",
          "glu",
          "glu",
          "glu",
          "glu",
          "glu",
          "glu",
          "glu",
          "glu",
          "glu",
          "glu",
          "glu",
          "glu",
          "glu",
          "glu",
          "glu",
          "glu",
          "glu",
          "glu",
          "glu",
          "glu",
          "glu",
          "glu",
          "glu",
          "glu",
          "glu",
          "glu",
          "glu",
          "glu",
          "glu",
          "glu",
          "glu",
          "glu",
          "glu",
          "glu",
          "glu",
          "glu",
          "glu",
          "glu",
          "glu",
          "glu",
          "glu",
          "glu",
          "glu",
          "glu",
          "glu",
          "glu",
          "glu",
          "glu",
          "glu",
          "glu",
          "glu",
          "glu",
          "glu",
          "glu",
          "glu",
          "glu",
          "glu",
          "glu",
          "glu",
          "glu",
          "glu",
          "glu",
          "glu",
          "glu",
          "glu",
          "glu",
          "glu",
          "glu",
          "glu",
          "glu",
          "glu",
          "glu",
          "glu",
          "glu",
          "glu",
          "glu",
          "glu",
          "glu",
          "glu",
          "glu",
          "glu",
          "glu",
          "glu",
          "glu",
          "glu",
          "glu",
          "glu",
          "glu",
          "glu",
          "glu",
          "glu",
          "glu",
          "glu",
          "glu",
          "glu",
          "glu",
          "glu",
          "glu",
          "glu",
          "glu",
          "glu",
          "glu",
          "glu",
          "glu",
          "glu",
          "glu",
          "glu",
          "glu",
          "glu",
          "glu",
          "glu",
          "glu",
          "glu",
          "glu",
          "glu",
          "glu",
          "glu",
          "glu",
          "glu",
          "glu",
          "glu",
          "glu",
          "glu",
          "glu",
          "glu",
          "glu",
          "glu",
          "glu",
          "glu",
          "glu",
          "glu",
          "glu",
          "glu",
          "glu",
          "glu",
          "glu",
          "glu",
          "glu",
          "glu",
          "glu",
          "glu",
          "glu",
          "glu",
          "glu",
          "glu",
          "glu",
          "glu",
          "glu",
          "glu",
          "glu",
          "glu",
          "glu",
          "glu",
          "glu",
          "glu",
          "glu",
          "glu",
          "glu",
          "glu",
          "glu",
          "glu",
          "glu",
          "glu",
          "glu",
          "glu",
          "glu",
          "glu",
          "glu",
          "glu",
          "glu",
          "glu",
          "glu",
          "glu",
          "glu",
          "glu",
          "glu",
          "glu",
          "glu",
          "glu",
          "glu",
          "glu",
          "glu",
          "glu",
          "glu",
          "glu",
          "glu",
          "glu",
          "glu",
          "glu",
          "glu",
          "glu",
          "glu",
          "glu",
          "glu",
          "glu",
          "glu",
          "glu",
          "glu",
          "glu",
          "glu",
          "glu",
          "glu",
          "glu",
          "glu",
          "glu",
          "glu",
          "glu",
          "glu",
          "glu",
          "glu",
          "glu",
          "glu",
          "glu",
          "glu",
          "glu",
          "glu",
          "glu",
          "glu",
          "glu",
          "glu",
          "glu",
          "glu",
          "glu",
          "glu",
          "glu",
          "glu",
          "glu",
          "glu",
          "glu",
          "glu",
          "glu",
          "glu",
          "glu",
          "glu",
          "glu",
          "glu",
          "glu",
          "glu",
          "glu",
          "glu",
          "glu",
          "glu",
          "glu",
          "glu",
          "glu",
          "glu",
          "glu",
          "glu",
          "glu",
          "glu",
          "glu",
          "glu",
          "glu"
         ],
         "x0": " ",
         "xaxis": "x",
         "y": [
          148,
          85,
          183,
          89,
          137,
          116,
          78,
          115,
          197,
          125,
          110,
          168,
          139,
          189,
          166,
          100,
          118,
          107,
          103,
          115,
          126,
          99,
          196,
          119,
          143,
          125,
          147,
          97,
          145,
          117,
          109,
          158,
          88,
          92,
          122,
          103,
          138,
          102,
          90,
          111,
          180,
          133,
          106,
          171,
          159,
          180,
          146,
          71,
          103,
          105,
          103,
          101,
          88,
          176,
          150,
          73,
          187,
          100,
          146,
          105,
          84,
          133,
          44,
          141,
          114,
          99,
          109,
          109,
          95,
          146,
          100,
          139,
          126,
          129,
          79,
          0,
          62,
          95,
          131,
          112,
          113,
          74,
          83,
          101,
          137,
          110,
          106,
          100,
          107,
          80,
          123,
          81,
          134,
          142,
          144,
          92,
          71,
          93,
          122,
          163,
          151,
          125,
          81,
          85,
          126,
          96,
          144,
          83,
          95,
          171,
          155,
          89,
          76,
          160,
          146,
          124,
          78,
          97,
          99,
          162,
          111,
          107,
          132,
          113,
          88,
          120,
          118,
          117,
          105,
          173,
          122,
          170,
          84,
          96,
          125,
          100,
          93,
          129,
          105,
          128,
          106,
          108,
          108,
          154,
          102,
          57,
          106,
          147,
          90,
          136,
          114,
          156,
          153,
          188,
          152,
          99,
          109,
          88,
          151,
          102,
          114,
          100,
          131,
          104,
          148,
          120,
          110,
          111,
          102,
          134,
          87,
          79,
          75,
          179,
          85,
          129,
          143,
          130,
          87,
          119,
          0,
          73,
          141,
          194,
          181,
          128,
          109,
          139,
          111,
          123,
          159,
          135,
          85,
          158,
          105,
          107,
          109,
          148,
          113,
          138,
          108,
          99,
          103,
          111,
          196,
          162,
          96,
          184,
          81,
          147,
          179,
          140,
          112,
          151,
          109,
          125,
          85,
          112,
          177,
          158,
          119,
          142,
          100,
          87,
          101,
          162,
          197,
          117,
          142,
          134,
          79,
          122,
          74,
          171,
          181,
          179,
          164,
          104,
          91,
          91,
          139,
          119,
          146,
          184,
          122,
          165,
          124,
          111,
          106,
          129,
          90,
          86,
          92,
          113,
          111,
          114,
          193,
          155,
          191,
          141,
          95,
          142,
          123,
          96,
          138,
          128,
          102,
          146,
          101,
          108,
          122,
          71,
          106,
          100,
          106,
          104,
          114,
          108,
          146,
          129,
          133,
          161,
          108,
          136,
          155,
          119,
          96,
          108,
          78,
          107,
          128,
          128,
          161,
          151,
          146,
          126,
          112,
          167,
          144,
          77,
          115,
          150,
          120,
          161,
          137,
          128,
          124,
          80,
          106,
          155,
          113,
          109,
          112,
          99,
          182,
          115,
          194,
          129,
          112,
          124,
          152,
          112,
          157,
          122,
          179,
          102,
          105,
          118,
          87,
          180,
          106,
          95,
          165,
          117,
          115,
          152,
          178,
          130,
          95,
          0,
          122,
          95,
          126,
          139,
          116,
          99,
          0,
          92,
          137,
          61,
          90,
          90,
          165,
          125,
          129,
          88,
          196,
          189,
          158,
          103,
          146,
          147,
          99,
          124,
          101,
          81,
          133,
          173,
          118,
          84,
          105,
          122,
          140,
          98,
          87,
          156,
          93,
          107,
          105,
          109,
          90,
          125,
          119,
          116,
          105,
          144,
          100,
          100,
          166,
          131,
          116,
          158,
          127,
          96,
          131,
          82,
          193,
          95,
          137,
          136,
          72,
          168,
          123,
          115,
          101,
          197,
          172,
          102,
          112,
          143,
          143,
          138,
          173,
          97,
          144,
          83,
          129,
          119,
          94,
          102,
          115,
          151,
          184,
          94,
          181,
          135,
          95,
          99,
          89,
          80,
          139,
          90,
          141,
          140,
          147,
          97,
          107,
          189,
          83,
          117,
          108,
          117,
          180,
          100,
          95,
          104,
          120,
          82,
          134,
          91,
          119,
          100,
          135,
          86,
          148,
          134,
          120,
          71,
          74,
          88,
          115,
          124,
          74,
          97,
          120,
          154,
          144,
          137,
          119,
          136,
          114,
          137,
          105,
          114,
          126,
          132,
          158,
          123,
          85,
          84,
          145,
          135,
          139,
          173,
          99,
          194,
          83,
          89,
          99,
          125,
          80,
          166,
          110,
          81,
          195,
          154,
          117,
          84,
          0,
          94,
          96,
          75,
          180,
          130,
          84,
          120,
          84,
          139,
          91,
          91,
          99,
          163,
          145,
          125,
          76,
          129,
          68,
          124,
          114,
          130,
          125,
          87,
          97,
          116,
          117,
          111,
          122,
          107,
          86,
          91,
          77,
          132,
          105,
          57,
          127,
          129,
          100,
          128,
          90,
          84,
          88,
          186,
          187,
          131,
          164,
          189,
          116,
          84,
          114,
          88,
          84,
          124,
          97,
          110,
          103,
          85,
          125,
          198,
          87,
          99,
          91,
          95,
          99,
          92,
          154,
          121,
          78,
          130,
          111,
          98,
          143,
          119,
          108,
          118,
          133,
          197,
          151,
          109,
          121,
          100,
          124,
          93,
          143,
          103,
          176,
          73,
          111,
          112,
          132,
          82,
          123,
          188,
          67,
          89,
          173,
          109,
          108,
          96,
          124,
          150,
          183,
          124,
          181,
          92,
          152,
          111,
          106,
          174,
          168,
          105,
          138,
          106,
          117,
          68,
          112,
          119,
          112,
          92,
          183,
          94,
          108,
          90,
          125,
          132,
          128,
          94,
          114,
          102,
          111,
          128,
          92,
          104,
          104,
          94,
          97,
          100,
          102,
          128,
          147,
          90,
          103,
          157,
          167,
          179,
          136,
          107,
          91,
          117,
          123,
          120,
          106,
          155,
          101,
          120,
          127,
          80,
          162,
          199,
          167,
          145,
          115,
          112,
          145,
          111,
          98,
          154,
          165,
          99,
          68,
          123,
          91,
          195,
          156,
          93,
          121,
          101,
          56,
          162,
          95,
          125,
          136,
          129,
          130,
          107,
          140,
          144,
          107,
          158,
          121,
          129,
          90,
          142,
          169,
          99,
          127,
          118,
          122,
          125,
          168,
          129,
          110,
          80,
          115,
          127,
          164,
          93,
          158,
          126,
          129,
          134,
          102,
          187,
          173,
          94,
          108,
          97,
          83,
          114,
          149,
          117,
          111,
          112,
          116,
          141,
          175,
          92,
          130,
          120,
          174,
          106,
          105,
          95,
          126,
          65,
          99,
          102,
          120,
          102,
          109,
          140,
          153,
          100,
          147,
          81,
          187,
          162,
          136,
          121,
          108,
          181,
          154,
          128,
          137,
          123,
          106,
          190,
          88,
          170,
          89,
          101,
          122,
          121,
          126,
          93
         ],
         "y0": " ",
         "yaxis": "y"
        }
       ],
       "layout": {
        "boxmode": "group",
        "legend": {
         "tracegroupgap": 0
        },
        "margin": {
         "t": 60
        },
        "template": {
         "data": {
          "bar": [
           {
            "error_x": {
             "color": "#2a3f5f"
            },
            "error_y": {
             "color": "#2a3f5f"
            },
            "marker": {
             "line": {
              "color": "#E5ECF6",
              "width": 0.5
             },
             "pattern": {
              "fillmode": "overlay",
              "size": 10,
              "solidity": 0.2
             }
            },
            "type": "bar"
           }
          ],
          "barpolar": [
           {
            "marker": {
             "line": {
              "color": "#E5ECF6",
              "width": 0.5
             },
             "pattern": {
              "fillmode": "overlay",
              "size": 10,
              "solidity": 0.2
             }
            },
            "type": "barpolar"
           }
          ],
          "carpet": [
           {
            "aaxis": {
             "endlinecolor": "#2a3f5f",
             "gridcolor": "white",
             "linecolor": "white",
             "minorgridcolor": "white",
             "startlinecolor": "#2a3f5f"
            },
            "baxis": {
             "endlinecolor": "#2a3f5f",
             "gridcolor": "white",
             "linecolor": "white",
             "minorgridcolor": "white",
             "startlinecolor": "#2a3f5f"
            },
            "type": "carpet"
           }
          ],
          "choropleth": [
           {
            "colorbar": {
             "outlinewidth": 0,
             "ticks": ""
            },
            "type": "choropleth"
           }
          ],
          "contour": [
           {
            "colorbar": {
             "outlinewidth": 0,
             "ticks": ""
            },
            "colorscale": [
             [
              0,
              "#0d0887"
             ],
             [
              0.1111111111111111,
              "#46039f"
             ],
             [
              0.2222222222222222,
              "#7201a8"
             ],
             [
              0.3333333333333333,
              "#9c179e"
             ],
             [
              0.4444444444444444,
              "#bd3786"
             ],
             [
              0.5555555555555556,
              "#d8576b"
             ],
             [
              0.6666666666666666,
              "#ed7953"
             ],
             [
              0.7777777777777778,
              "#fb9f3a"
             ],
             [
              0.8888888888888888,
              "#fdca26"
             ],
             [
              1,
              "#f0f921"
             ]
            ],
            "type": "contour"
           }
          ],
          "contourcarpet": [
           {
            "colorbar": {
             "outlinewidth": 0,
             "ticks": ""
            },
            "type": "contourcarpet"
           }
          ],
          "heatmap": [
           {
            "colorbar": {
             "outlinewidth": 0,
             "ticks": ""
            },
            "colorscale": [
             [
              0,
              "#0d0887"
             ],
             [
              0.1111111111111111,
              "#46039f"
             ],
             [
              0.2222222222222222,
              "#7201a8"
             ],
             [
              0.3333333333333333,
              "#9c179e"
             ],
             [
              0.4444444444444444,
              "#bd3786"
             ],
             [
              0.5555555555555556,
              "#d8576b"
             ],
             [
              0.6666666666666666,
              "#ed7953"
             ],
             [
              0.7777777777777778,
              "#fb9f3a"
             ],
             [
              0.8888888888888888,
              "#fdca26"
             ],
             [
              1,
              "#f0f921"
             ]
            ],
            "type": "heatmap"
           }
          ],
          "heatmapgl": [
           {
            "colorbar": {
             "outlinewidth": 0,
             "ticks": ""
            },
            "colorscale": [
             [
              0,
              "#0d0887"
             ],
             [
              0.1111111111111111,
              "#46039f"
             ],
             [
              0.2222222222222222,
              "#7201a8"
             ],
             [
              0.3333333333333333,
              "#9c179e"
             ],
             [
              0.4444444444444444,
              "#bd3786"
             ],
             [
              0.5555555555555556,
              "#d8576b"
             ],
             [
              0.6666666666666666,
              "#ed7953"
             ],
             [
              0.7777777777777778,
              "#fb9f3a"
             ],
             [
              0.8888888888888888,
              "#fdca26"
             ],
             [
              1,
              "#f0f921"
             ]
            ],
            "type": "heatmapgl"
           }
          ],
          "histogram": [
           {
            "marker": {
             "pattern": {
              "fillmode": "overlay",
              "size": 10,
              "solidity": 0.2
             }
            },
            "type": "histogram"
           }
          ],
          "histogram2d": [
           {
            "colorbar": {
             "outlinewidth": 0,
             "ticks": ""
            },
            "colorscale": [
             [
              0,
              "#0d0887"
             ],
             [
              0.1111111111111111,
              "#46039f"
             ],
             [
              0.2222222222222222,
              "#7201a8"
             ],
             [
              0.3333333333333333,
              "#9c179e"
             ],
             [
              0.4444444444444444,
              "#bd3786"
             ],
             [
              0.5555555555555556,
              "#d8576b"
             ],
             [
              0.6666666666666666,
              "#ed7953"
             ],
             [
              0.7777777777777778,
              "#fb9f3a"
             ],
             [
              0.8888888888888888,
              "#fdca26"
             ],
             [
              1,
              "#f0f921"
             ]
            ],
            "type": "histogram2d"
           }
          ],
          "histogram2dcontour": [
           {
            "colorbar": {
             "outlinewidth": 0,
             "ticks": ""
            },
            "colorscale": [
             [
              0,
              "#0d0887"
             ],
             [
              0.1111111111111111,
              "#46039f"
             ],
             [
              0.2222222222222222,
              "#7201a8"
             ],
             [
              0.3333333333333333,
              "#9c179e"
             ],
             [
              0.4444444444444444,
              "#bd3786"
             ],
             [
              0.5555555555555556,
              "#d8576b"
             ],
             [
              0.6666666666666666,
              "#ed7953"
             ],
             [
              0.7777777777777778,
              "#fb9f3a"
             ],
             [
              0.8888888888888888,
              "#fdca26"
             ],
             [
              1,
              "#f0f921"
             ]
            ],
            "type": "histogram2dcontour"
           }
          ],
          "mesh3d": [
           {
            "colorbar": {
             "outlinewidth": 0,
             "ticks": ""
            },
            "type": "mesh3d"
           }
          ],
          "parcoords": [
           {
            "line": {
             "colorbar": {
              "outlinewidth": 0,
              "ticks": ""
             }
            },
            "type": "parcoords"
           }
          ],
          "pie": [
           {
            "automargin": true,
            "type": "pie"
           }
          ],
          "scatter": [
           {
            "marker": {
             "colorbar": {
              "outlinewidth": 0,
              "ticks": ""
             }
            },
            "type": "scatter"
           }
          ],
          "scatter3d": [
           {
            "line": {
             "colorbar": {
              "outlinewidth": 0,
              "ticks": ""
             }
            },
            "marker": {
             "colorbar": {
              "outlinewidth": 0,
              "ticks": ""
             }
            },
            "type": "scatter3d"
           }
          ],
          "scattercarpet": [
           {
            "marker": {
             "colorbar": {
              "outlinewidth": 0,
              "ticks": ""
             }
            },
            "type": "scattercarpet"
           }
          ],
          "scattergeo": [
           {
            "marker": {
             "colorbar": {
              "outlinewidth": 0,
              "ticks": ""
             }
            },
            "type": "scattergeo"
           }
          ],
          "scattergl": [
           {
            "marker": {
             "colorbar": {
              "outlinewidth": 0,
              "ticks": ""
             }
            },
            "type": "scattergl"
           }
          ],
          "scattermapbox": [
           {
            "marker": {
             "colorbar": {
              "outlinewidth": 0,
              "ticks": ""
             }
            },
            "type": "scattermapbox"
           }
          ],
          "scatterpolar": [
           {
            "marker": {
             "colorbar": {
              "outlinewidth": 0,
              "ticks": ""
             }
            },
            "type": "scatterpolar"
           }
          ],
          "scatterpolargl": [
           {
            "marker": {
             "colorbar": {
              "outlinewidth": 0,
              "ticks": ""
             }
            },
            "type": "scatterpolargl"
           }
          ],
          "scatterternary": [
           {
            "marker": {
             "colorbar": {
              "outlinewidth": 0,
              "ticks": ""
             }
            },
            "type": "scatterternary"
           }
          ],
          "surface": [
           {
            "colorbar": {
             "outlinewidth": 0,
             "ticks": ""
            },
            "colorscale": [
             [
              0,
              "#0d0887"
             ],
             [
              0.1111111111111111,
              "#46039f"
             ],
             [
              0.2222222222222222,
              "#7201a8"
             ],
             [
              0.3333333333333333,
              "#9c179e"
             ],
             [
              0.4444444444444444,
              "#bd3786"
             ],
             [
              0.5555555555555556,
              "#d8576b"
             ],
             [
              0.6666666666666666,
              "#ed7953"
             ],
             [
              0.7777777777777778,
              "#fb9f3a"
             ],
             [
              0.8888888888888888,
              "#fdca26"
             ],
             [
              1,
              "#f0f921"
             ]
            ],
            "type": "surface"
           }
          ],
          "table": [
           {
            "cells": {
             "fill": {
              "color": "#EBF0F8"
             },
             "line": {
              "color": "white"
             }
            },
            "header": {
             "fill": {
              "color": "#C8D4E3"
             },
             "line": {
              "color": "white"
             }
            },
            "type": "table"
           }
          ]
         },
         "layout": {
          "annotationdefaults": {
           "arrowcolor": "#2a3f5f",
           "arrowhead": 0,
           "arrowwidth": 1
          },
          "autotypenumbers": "strict",
          "coloraxis": {
           "colorbar": {
            "outlinewidth": 0,
            "ticks": ""
           }
          },
          "colorscale": {
           "diverging": [
            [
             0,
             "#8e0152"
            ],
            [
             0.1,
             "#c51b7d"
            ],
            [
             0.2,
             "#de77ae"
            ],
            [
             0.3,
             "#f1b6da"
            ],
            [
             0.4,
             "#fde0ef"
            ],
            [
             0.5,
             "#f7f7f7"
            ],
            [
             0.6,
             "#e6f5d0"
            ],
            [
             0.7,
             "#b8e186"
            ],
            [
             0.8,
             "#7fbc41"
            ],
            [
             0.9,
             "#4d9221"
            ],
            [
             1,
             "#276419"
            ]
           ],
           "sequential": [
            [
             0,
             "#0d0887"
            ],
            [
             0.1111111111111111,
             "#46039f"
            ],
            [
             0.2222222222222222,
             "#7201a8"
            ],
            [
             0.3333333333333333,
             "#9c179e"
            ],
            [
             0.4444444444444444,
             "#bd3786"
            ],
            [
             0.5555555555555556,
             "#d8576b"
            ],
            [
             0.6666666666666666,
             "#ed7953"
            ],
            [
             0.7777777777777778,
             "#fb9f3a"
            ],
            [
             0.8888888888888888,
             "#fdca26"
            ],
            [
             1,
             "#f0f921"
            ]
           ],
           "sequentialminus": [
            [
             0,
             "#0d0887"
            ],
            [
             0.1111111111111111,
             "#46039f"
            ],
            [
             0.2222222222222222,
             "#7201a8"
            ],
            [
             0.3333333333333333,
             "#9c179e"
            ],
            [
             0.4444444444444444,
             "#bd3786"
            ],
            [
             0.5555555555555556,
             "#d8576b"
            ],
            [
             0.6666666666666666,
             "#ed7953"
            ],
            [
             0.7777777777777778,
             "#fb9f3a"
            ],
            [
             0.8888888888888888,
             "#fdca26"
            ],
            [
             1,
             "#f0f921"
            ]
           ]
          },
          "colorway": [
           "#636efa",
           "#EF553B",
           "#00cc96",
           "#ab63fa",
           "#FFA15A",
           "#19d3f3",
           "#FF6692",
           "#B6E880",
           "#FF97FF",
           "#FECB52"
          ],
          "font": {
           "color": "#2a3f5f"
          },
          "geo": {
           "bgcolor": "white",
           "lakecolor": "white",
           "landcolor": "#E5ECF6",
           "showlakes": true,
           "showland": true,
           "subunitcolor": "white"
          },
          "hoverlabel": {
           "align": "left"
          },
          "hovermode": "closest",
          "mapbox": {
           "style": "light"
          },
          "paper_bgcolor": "white",
          "plot_bgcolor": "#E5ECF6",
          "polar": {
           "angularaxis": {
            "gridcolor": "white",
            "linecolor": "white",
            "ticks": ""
           },
           "bgcolor": "#E5ECF6",
           "radialaxis": {
            "gridcolor": "white",
            "linecolor": "white",
            "ticks": ""
           }
          },
          "scene": {
           "xaxis": {
            "backgroundcolor": "#E5ECF6",
            "gridcolor": "white",
            "gridwidth": 2,
            "linecolor": "white",
            "showbackground": true,
            "ticks": "",
            "zerolinecolor": "white"
           },
           "yaxis": {
            "backgroundcolor": "#E5ECF6",
            "gridcolor": "white",
            "gridwidth": 2,
            "linecolor": "white",
            "showbackground": true,
            "ticks": "",
            "zerolinecolor": "white"
           },
           "zaxis": {
            "backgroundcolor": "#E5ECF6",
            "gridcolor": "white",
            "gridwidth": 2,
            "linecolor": "white",
            "showbackground": true,
            "ticks": "",
            "zerolinecolor": "white"
           }
          },
          "shapedefaults": {
           "line": {
            "color": "#2a3f5f"
           }
          },
          "ternary": {
           "aaxis": {
            "gridcolor": "white",
            "linecolor": "white",
            "ticks": ""
           },
           "baxis": {
            "gridcolor": "white",
            "linecolor": "white",
            "ticks": ""
           },
           "bgcolor": "#E5ECF6",
           "caxis": {
            "gridcolor": "white",
            "linecolor": "white",
            "ticks": ""
           }
          },
          "title": {
           "x": 0.05
          },
          "xaxis": {
           "automargin": true,
           "gridcolor": "white",
           "linecolor": "white",
           "ticks": "",
           "title": {
            "standoff": 15
           },
           "zerolinecolor": "white",
           "zerolinewidth": 2
          },
          "yaxis": {
           "automargin": true,
           "gridcolor": "white",
           "linecolor": "white",
           "ticks": "",
           "title": {
            "standoff": 15
           },
           "zerolinecolor": "white",
           "zerolinewidth": 2
          }
         }
        },
        "xaxis": {
         "anchor": "y",
         "domain": [
          0,
          1
         ],
         "title": {
          "text": "variable"
         }
        },
        "yaxis": {
         "anchor": "x",
         "domain": [
          0,
          1
         ],
         "title": {
          "text": "value"
         }
        }
       }
      },
      "text/html": [
       "<div>                            <div id=\"d560b311-5c8f-4ecd-a169-1153d12e219e\" class=\"plotly-graph-div\" style=\"height:525px; width:100%;\"></div>            <script type=\"text/javascript\">                require([\"plotly\"], function(Plotly) {                    window.PLOTLYENV=window.PLOTLYENV || {};                                    if (document.getElementById(\"d560b311-5c8f-4ecd-a169-1153d12e219e\")) {                    Plotly.newPlot(                        \"d560b311-5c8f-4ecd-a169-1153d12e219e\",                        [{\"alignmentgroup\":\"True\",\"hovertemplate\":\"variable=%{x}<br>value=%{y}<extra></extra>\",\"legendgroup\":\"\",\"marker\":{\"color\":\"#636efa\"},\"name\":\"\",\"notched\":false,\"offsetgroup\":\"\",\"orientation\":\"v\",\"showlegend\":false,\"type\":\"box\",\"x\":[\"glu\",\"glu\",\"glu\",\"glu\",\"glu\",\"glu\",\"glu\",\"glu\",\"glu\",\"glu\",\"glu\",\"glu\",\"glu\",\"glu\",\"glu\",\"glu\",\"glu\",\"glu\",\"glu\",\"glu\",\"glu\",\"glu\",\"glu\",\"glu\",\"glu\",\"glu\",\"glu\",\"glu\",\"glu\",\"glu\",\"glu\",\"glu\",\"glu\",\"glu\",\"glu\",\"glu\",\"glu\",\"glu\",\"glu\",\"glu\",\"glu\",\"glu\",\"glu\",\"glu\",\"glu\",\"glu\",\"glu\",\"glu\",\"glu\",\"glu\",\"glu\",\"glu\",\"glu\",\"glu\",\"glu\",\"glu\",\"glu\",\"glu\",\"glu\",\"glu\",\"glu\",\"glu\",\"glu\",\"glu\",\"glu\",\"glu\",\"glu\",\"glu\",\"glu\",\"glu\",\"glu\",\"glu\",\"glu\",\"glu\",\"glu\",\"glu\",\"glu\",\"glu\",\"glu\",\"glu\",\"glu\",\"glu\",\"glu\",\"glu\",\"glu\",\"glu\",\"glu\",\"glu\",\"glu\",\"glu\",\"glu\",\"glu\",\"glu\",\"glu\",\"glu\",\"glu\",\"glu\",\"glu\",\"glu\",\"glu\",\"glu\",\"glu\",\"glu\",\"glu\",\"glu\",\"glu\",\"glu\",\"glu\",\"glu\",\"glu\",\"glu\",\"glu\",\"glu\",\"glu\",\"glu\",\"glu\",\"glu\",\"glu\",\"glu\",\"glu\",\"glu\",\"glu\",\"glu\",\"glu\",\"glu\",\"glu\",\"glu\",\"glu\",\"glu\",\"glu\",\"glu\",\"glu\",\"glu\",\"glu\",\"glu\",\"glu\",\"glu\",\"glu\",\"glu\",\"glu\",\"glu\",\"glu\",\"glu\",\"glu\",\"glu\",\"glu\",\"glu\",\"glu\",\"glu\",\"glu\",\"glu\",\"glu\",\"glu\",\"glu\",\"glu\",\"glu\",\"glu\",\"glu\",\"glu\",\"glu\",\"glu\",\"glu\",\"glu\",\"glu\",\"glu\",\"glu\",\"glu\",\"glu\",\"glu\",\"glu\",\"glu\",\"glu\",\"glu\",\"glu\",\"glu\",\"glu\",\"glu\",\"glu\",\"glu\",\"glu\",\"glu\",\"glu\",\"glu\",\"glu\",\"glu\",\"glu\",\"glu\",\"glu\",\"glu\",\"glu\",\"glu\",\"glu\",\"glu\",\"glu\",\"glu\",\"glu\",\"glu\",\"glu\",\"glu\",\"glu\",\"glu\",\"glu\",\"glu\",\"glu\",\"glu\",\"glu\",\"glu\",\"glu\",\"glu\",\"glu\",\"glu\",\"glu\",\"glu\",\"glu\",\"glu\",\"glu\",\"glu\",\"glu\",\"glu\",\"glu\",\"glu\",\"glu\",\"glu\",\"glu\",\"glu\",\"glu\",\"glu\",\"glu\",\"glu\",\"glu\",\"glu\",\"glu\",\"glu\",\"glu\",\"glu\",\"glu\",\"glu\",\"glu\",\"glu\",\"glu\",\"glu\",\"glu\",\"glu\",\"glu\",\"glu\",\"glu\",\"glu\",\"glu\",\"glu\",\"glu\",\"glu\",\"glu\",\"glu\",\"glu\",\"glu\",\"glu\",\"glu\",\"glu\",\"glu\",\"glu\",\"glu\",\"glu\",\"glu\",\"glu\",\"glu\",\"glu\",\"glu\",\"glu\",\"glu\",\"glu\",\"glu\",\"glu\",\"glu\",\"glu\",\"glu\",\"glu\",\"glu\",\"glu\",\"glu\",\"glu\",\"glu\",\"glu\",\"glu\",\"glu\",\"glu\",\"glu\",\"glu\",\"glu\",\"glu\",\"glu\",\"glu\",\"glu\",\"glu\",\"glu\",\"glu\",\"glu\",\"glu\",\"glu\",\"glu\",\"glu\",\"glu\",\"glu\",\"glu\",\"glu\",\"glu\",\"glu\",\"glu\",\"glu\",\"glu\",\"glu\",\"glu\",\"glu\",\"glu\",\"glu\",\"glu\",\"glu\",\"glu\",\"glu\",\"glu\",\"glu\",\"glu\",\"glu\",\"glu\",\"glu\",\"glu\",\"glu\",\"glu\",\"glu\",\"glu\",\"glu\",\"glu\",\"glu\",\"glu\",\"glu\",\"glu\",\"glu\",\"glu\",\"glu\",\"glu\",\"glu\",\"glu\",\"glu\",\"glu\",\"glu\",\"glu\",\"glu\",\"glu\",\"glu\",\"glu\",\"glu\",\"glu\",\"glu\",\"glu\",\"glu\",\"glu\",\"glu\",\"glu\",\"glu\",\"glu\",\"glu\",\"glu\",\"glu\",\"glu\",\"glu\",\"glu\",\"glu\",\"glu\",\"glu\",\"glu\",\"glu\",\"glu\",\"glu\",\"glu\",\"glu\",\"glu\",\"glu\",\"glu\",\"glu\",\"glu\",\"glu\",\"glu\",\"glu\",\"glu\",\"glu\",\"glu\",\"glu\",\"glu\",\"glu\",\"glu\",\"glu\",\"glu\",\"glu\",\"glu\",\"glu\",\"glu\",\"glu\",\"glu\",\"glu\",\"glu\",\"glu\",\"glu\",\"glu\",\"glu\",\"glu\",\"glu\",\"glu\",\"glu\",\"glu\",\"glu\",\"glu\",\"glu\",\"glu\",\"glu\",\"glu\",\"glu\",\"glu\",\"glu\",\"glu\",\"glu\",\"glu\",\"glu\",\"glu\",\"glu\",\"glu\",\"glu\",\"glu\",\"glu\",\"glu\",\"glu\",\"glu\",\"glu\",\"glu\",\"glu\",\"glu\",\"glu\",\"glu\",\"glu\",\"glu\",\"glu\",\"glu\",\"glu\",\"glu\",\"glu\",\"glu\",\"glu\",\"glu\",\"glu\",\"glu\",\"glu\",\"glu\",\"glu\",\"glu\",\"glu\",\"glu\",\"glu\",\"glu\",\"glu\",\"glu\",\"glu\",\"glu\",\"glu\",\"glu\",\"glu\",\"glu\",\"glu\",\"glu\",\"glu\",\"glu\",\"glu\",\"glu\",\"glu\",\"glu\",\"glu\",\"glu\",\"glu\",\"glu\",\"glu\",\"glu\",\"glu\",\"glu\",\"glu\",\"glu\",\"glu\",\"glu\",\"glu\",\"glu\",\"glu\",\"glu\",\"glu\",\"glu\",\"glu\",\"glu\",\"glu\",\"glu\",\"glu\",\"glu\",\"glu\",\"glu\",\"glu\",\"glu\",\"glu\",\"glu\",\"glu\",\"glu\",\"glu\",\"glu\",\"glu\",\"glu\",\"glu\",\"glu\",\"glu\",\"glu\",\"glu\",\"glu\",\"glu\",\"glu\",\"glu\",\"glu\",\"glu\",\"glu\",\"glu\",\"glu\",\"glu\",\"glu\",\"glu\",\"glu\",\"glu\",\"glu\",\"glu\",\"glu\",\"glu\",\"glu\",\"glu\",\"glu\",\"glu\",\"glu\",\"glu\",\"glu\",\"glu\",\"glu\",\"glu\",\"glu\",\"glu\",\"glu\",\"glu\",\"glu\",\"glu\",\"glu\",\"glu\",\"glu\",\"glu\",\"glu\",\"glu\",\"glu\",\"glu\",\"glu\",\"glu\",\"glu\",\"glu\",\"glu\",\"glu\",\"glu\",\"glu\",\"glu\",\"glu\",\"glu\",\"glu\",\"glu\",\"glu\",\"glu\",\"glu\",\"glu\",\"glu\",\"glu\",\"glu\",\"glu\",\"glu\",\"glu\",\"glu\",\"glu\",\"glu\",\"glu\",\"glu\",\"glu\",\"glu\",\"glu\",\"glu\",\"glu\",\"glu\",\"glu\",\"glu\",\"glu\",\"glu\",\"glu\",\"glu\",\"glu\",\"glu\",\"glu\",\"glu\",\"glu\",\"glu\",\"glu\",\"glu\",\"glu\",\"glu\",\"glu\",\"glu\",\"glu\",\"glu\",\"glu\",\"glu\",\"glu\",\"glu\",\"glu\",\"glu\",\"glu\",\"glu\",\"glu\",\"glu\",\"glu\",\"glu\",\"glu\",\"glu\",\"glu\",\"glu\",\"glu\",\"glu\",\"glu\",\"glu\",\"glu\",\"glu\",\"glu\",\"glu\",\"glu\",\"glu\",\"glu\",\"glu\",\"glu\",\"glu\",\"glu\",\"glu\",\"glu\",\"glu\",\"glu\",\"glu\",\"glu\",\"glu\",\"glu\",\"glu\",\"glu\",\"glu\",\"glu\",\"glu\",\"glu\",\"glu\",\"glu\",\"glu\",\"glu\",\"glu\",\"glu\",\"glu\",\"glu\",\"glu\",\"glu\",\"glu\",\"glu\",\"glu\",\"glu\",\"glu\",\"glu\",\"glu\",\"glu\",\"glu\",\"glu\",\"glu\",\"glu\",\"glu\",\"glu\",\"glu\",\"glu\",\"glu\",\"glu\",\"glu\",\"glu\",\"glu\",\"glu\",\"glu\",\"glu\",\"glu\",\"glu\",\"glu\",\"glu\",\"glu\",\"glu\",\"glu\",\"glu\",\"glu\",\"glu\",\"glu\",\"glu\",\"glu\",\"glu\",\"glu\",\"glu\",\"glu\",\"glu\",\"glu\",\"glu\",\"glu\",\"glu\",\"glu\",\"glu\",\"glu\",\"glu\",\"glu\",\"glu\",\"glu\",\"glu\",\"glu\",\"glu\",\"glu\",\"glu\",\"glu\",\"glu\",\"glu\",\"glu\",\"glu\",\"glu\",\"glu\",\"glu\",\"glu\",\"glu\",\"glu\",\"glu\",\"glu\",\"glu\",\"glu\",\"glu\",\"glu\",\"glu\",\"glu\",\"glu\",\"glu\",\"glu\",\"glu\",\"glu\",\"glu\",\"glu\",\"glu\",\"glu\",\"glu\",\"glu\",\"glu\",\"glu\",\"glu\",\"glu\",\"glu\",\"glu\",\"glu\",\"glu\",\"glu\",\"glu\",\"glu\",\"glu\"],\"x0\":\" \",\"xaxis\":\"x\",\"y\":[148,85,183,89,137,116,78,115,197,125,110,168,139,189,166,100,118,107,103,115,126,99,196,119,143,125,147,97,145,117,109,158,88,92,122,103,138,102,90,111,180,133,106,171,159,180,146,71,103,105,103,101,88,176,150,73,187,100,146,105,84,133,44,141,114,99,109,109,95,146,100,139,126,129,79,0,62,95,131,112,113,74,83,101,137,110,106,100,107,80,123,81,134,142,144,92,71,93,122,163,151,125,81,85,126,96,144,83,95,171,155,89,76,160,146,124,78,97,99,162,111,107,132,113,88,120,118,117,105,173,122,170,84,96,125,100,93,129,105,128,106,108,108,154,102,57,106,147,90,136,114,156,153,188,152,99,109,88,151,102,114,100,131,104,148,120,110,111,102,134,87,79,75,179,85,129,143,130,87,119,0,73,141,194,181,128,109,139,111,123,159,135,85,158,105,107,109,148,113,138,108,99,103,111,196,162,96,184,81,147,179,140,112,151,109,125,85,112,177,158,119,142,100,87,101,162,197,117,142,134,79,122,74,171,181,179,164,104,91,91,139,119,146,184,122,165,124,111,106,129,90,86,92,113,111,114,193,155,191,141,95,142,123,96,138,128,102,146,101,108,122,71,106,100,106,104,114,108,146,129,133,161,108,136,155,119,96,108,78,107,128,128,161,151,146,126,112,167,144,77,115,150,120,161,137,128,124,80,106,155,113,109,112,99,182,115,194,129,112,124,152,112,157,122,179,102,105,118,87,180,106,95,165,117,115,152,178,130,95,0,122,95,126,139,116,99,0,92,137,61,90,90,165,125,129,88,196,189,158,103,146,147,99,124,101,81,133,173,118,84,105,122,140,98,87,156,93,107,105,109,90,125,119,116,105,144,100,100,166,131,116,158,127,96,131,82,193,95,137,136,72,168,123,115,101,197,172,102,112,143,143,138,173,97,144,83,129,119,94,102,115,151,184,94,181,135,95,99,89,80,139,90,141,140,147,97,107,189,83,117,108,117,180,100,95,104,120,82,134,91,119,100,135,86,148,134,120,71,74,88,115,124,74,97,120,154,144,137,119,136,114,137,105,114,126,132,158,123,85,84,145,135,139,173,99,194,83,89,99,125,80,166,110,81,195,154,117,84,0,94,96,75,180,130,84,120,84,139,91,91,99,163,145,125,76,129,68,124,114,130,125,87,97,116,117,111,122,107,86,91,77,132,105,57,127,129,100,128,90,84,88,186,187,131,164,189,116,84,114,88,84,124,97,110,103,85,125,198,87,99,91,95,99,92,154,121,78,130,111,98,143,119,108,118,133,197,151,109,121,100,124,93,143,103,176,73,111,112,132,82,123,188,67,89,173,109,108,96,124,150,183,124,181,92,152,111,106,174,168,105,138,106,117,68,112,119,112,92,183,94,108,90,125,132,128,94,114,102,111,128,92,104,104,94,97,100,102,128,147,90,103,157,167,179,136,107,91,117,123,120,106,155,101,120,127,80,162,199,167,145,115,112,145,111,98,154,165,99,68,123,91,195,156,93,121,101,56,162,95,125,136,129,130,107,140,144,107,158,121,129,90,142,169,99,127,118,122,125,168,129,110,80,115,127,164,93,158,126,129,134,102,187,173,94,108,97,83,114,149,117,111,112,116,141,175,92,130,120,174,106,105,95,126,65,99,102,120,102,109,140,153,100,147,81,187,162,136,121,108,181,154,128,137,123,106,190,88,170,89,101,122,121,126,93],\"y0\":\" \",\"yaxis\":\"y\"}],                        {\"boxmode\":\"group\",\"legend\":{\"tracegroupgap\":0},\"margin\":{\"t\":60},\"template\":{\"data\":{\"bar\":[{\"error_x\":{\"color\":\"#2a3f5f\"},\"error_y\":{\"color\":\"#2a3f5f\"},\"marker\":{\"line\":{\"color\":\"#E5ECF6\",\"width\":0.5},\"pattern\":{\"fillmode\":\"overlay\",\"size\":10,\"solidity\":0.2}},\"type\":\"bar\"}],\"barpolar\":[{\"marker\":{\"line\":{\"color\":\"#E5ECF6\",\"width\":0.5},\"pattern\":{\"fillmode\":\"overlay\",\"size\":10,\"solidity\":0.2}},\"type\":\"barpolar\"}],\"carpet\":[{\"aaxis\":{\"endlinecolor\":\"#2a3f5f\",\"gridcolor\":\"white\",\"linecolor\":\"white\",\"minorgridcolor\":\"white\",\"startlinecolor\":\"#2a3f5f\"},\"baxis\":{\"endlinecolor\":\"#2a3f5f\",\"gridcolor\":\"white\",\"linecolor\":\"white\",\"minorgridcolor\":\"white\",\"startlinecolor\":\"#2a3f5f\"},\"type\":\"carpet\"}],\"choropleth\":[{\"colorbar\":{\"outlinewidth\":0,\"ticks\":\"\"},\"type\":\"choropleth\"}],\"contour\":[{\"colorbar\":{\"outlinewidth\":0,\"ticks\":\"\"},\"colorscale\":[[0.0,\"#0d0887\"],[0.1111111111111111,\"#46039f\"],[0.2222222222222222,\"#7201a8\"],[0.3333333333333333,\"#9c179e\"],[0.4444444444444444,\"#bd3786\"],[0.5555555555555556,\"#d8576b\"],[0.6666666666666666,\"#ed7953\"],[0.7777777777777778,\"#fb9f3a\"],[0.8888888888888888,\"#fdca26\"],[1.0,\"#f0f921\"]],\"type\":\"contour\"}],\"contourcarpet\":[{\"colorbar\":{\"outlinewidth\":0,\"ticks\":\"\"},\"type\":\"contourcarpet\"}],\"heatmap\":[{\"colorbar\":{\"outlinewidth\":0,\"ticks\":\"\"},\"colorscale\":[[0.0,\"#0d0887\"],[0.1111111111111111,\"#46039f\"],[0.2222222222222222,\"#7201a8\"],[0.3333333333333333,\"#9c179e\"],[0.4444444444444444,\"#bd3786\"],[0.5555555555555556,\"#d8576b\"],[0.6666666666666666,\"#ed7953\"],[0.7777777777777778,\"#fb9f3a\"],[0.8888888888888888,\"#fdca26\"],[1.0,\"#f0f921\"]],\"type\":\"heatmap\"}],\"heatmapgl\":[{\"colorbar\":{\"outlinewidth\":0,\"ticks\":\"\"},\"colorscale\":[[0.0,\"#0d0887\"],[0.1111111111111111,\"#46039f\"],[0.2222222222222222,\"#7201a8\"],[0.3333333333333333,\"#9c179e\"],[0.4444444444444444,\"#bd3786\"],[0.5555555555555556,\"#d8576b\"],[0.6666666666666666,\"#ed7953\"],[0.7777777777777778,\"#fb9f3a\"],[0.8888888888888888,\"#fdca26\"],[1.0,\"#f0f921\"]],\"type\":\"heatmapgl\"}],\"histogram\":[{\"marker\":{\"pattern\":{\"fillmode\":\"overlay\",\"size\":10,\"solidity\":0.2}},\"type\":\"histogram\"}],\"histogram2d\":[{\"colorbar\":{\"outlinewidth\":0,\"ticks\":\"\"},\"colorscale\":[[0.0,\"#0d0887\"],[0.1111111111111111,\"#46039f\"],[0.2222222222222222,\"#7201a8\"],[0.3333333333333333,\"#9c179e\"],[0.4444444444444444,\"#bd3786\"],[0.5555555555555556,\"#d8576b\"],[0.6666666666666666,\"#ed7953\"],[0.7777777777777778,\"#fb9f3a\"],[0.8888888888888888,\"#fdca26\"],[1.0,\"#f0f921\"]],\"type\":\"histogram2d\"}],\"histogram2dcontour\":[{\"colorbar\":{\"outlinewidth\":0,\"ticks\":\"\"},\"colorscale\":[[0.0,\"#0d0887\"],[0.1111111111111111,\"#46039f\"],[0.2222222222222222,\"#7201a8\"],[0.3333333333333333,\"#9c179e\"],[0.4444444444444444,\"#bd3786\"],[0.5555555555555556,\"#d8576b\"],[0.6666666666666666,\"#ed7953\"],[0.7777777777777778,\"#fb9f3a\"],[0.8888888888888888,\"#fdca26\"],[1.0,\"#f0f921\"]],\"type\":\"histogram2dcontour\"}],\"mesh3d\":[{\"colorbar\":{\"outlinewidth\":0,\"ticks\":\"\"},\"type\":\"mesh3d\"}],\"parcoords\":[{\"line\":{\"colorbar\":{\"outlinewidth\":0,\"ticks\":\"\"}},\"type\":\"parcoords\"}],\"pie\":[{\"automargin\":true,\"type\":\"pie\"}],\"scatter\":[{\"marker\":{\"colorbar\":{\"outlinewidth\":0,\"ticks\":\"\"}},\"type\":\"scatter\"}],\"scatter3d\":[{\"line\":{\"colorbar\":{\"outlinewidth\":0,\"ticks\":\"\"}},\"marker\":{\"colorbar\":{\"outlinewidth\":0,\"ticks\":\"\"}},\"type\":\"scatter3d\"}],\"scattercarpet\":[{\"marker\":{\"colorbar\":{\"outlinewidth\":0,\"ticks\":\"\"}},\"type\":\"scattercarpet\"}],\"scattergeo\":[{\"marker\":{\"colorbar\":{\"outlinewidth\":0,\"ticks\":\"\"}},\"type\":\"scattergeo\"}],\"scattergl\":[{\"marker\":{\"colorbar\":{\"outlinewidth\":0,\"ticks\":\"\"}},\"type\":\"scattergl\"}],\"scattermapbox\":[{\"marker\":{\"colorbar\":{\"outlinewidth\":0,\"ticks\":\"\"}},\"type\":\"scattermapbox\"}],\"scatterpolar\":[{\"marker\":{\"colorbar\":{\"outlinewidth\":0,\"ticks\":\"\"}},\"type\":\"scatterpolar\"}],\"scatterpolargl\":[{\"marker\":{\"colorbar\":{\"outlinewidth\":0,\"ticks\":\"\"}},\"type\":\"scatterpolargl\"}],\"scatterternary\":[{\"marker\":{\"colorbar\":{\"outlinewidth\":0,\"ticks\":\"\"}},\"type\":\"scatterternary\"}],\"surface\":[{\"colorbar\":{\"outlinewidth\":0,\"ticks\":\"\"},\"colorscale\":[[0.0,\"#0d0887\"],[0.1111111111111111,\"#46039f\"],[0.2222222222222222,\"#7201a8\"],[0.3333333333333333,\"#9c179e\"],[0.4444444444444444,\"#bd3786\"],[0.5555555555555556,\"#d8576b\"],[0.6666666666666666,\"#ed7953\"],[0.7777777777777778,\"#fb9f3a\"],[0.8888888888888888,\"#fdca26\"],[1.0,\"#f0f921\"]],\"type\":\"surface\"}],\"table\":[{\"cells\":{\"fill\":{\"color\":\"#EBF0F8\"},\"line\":{\"color\":\"white\"}},\"header\":{\"fill\":{\"color\":\"#C8D4E3\"},\"line\":{\"color\":\"white\"}},\"type\":\"table\"}]},\"layout\":{\"annotationdefaults\":{\"arrowcolor\":\"#2a3f5f\",\"arrowhead\":0,\"arrowwidth\":1},\"autotypenumbers\":\"strict\",\"coloraxis\":{\"colorbar\":{\"outlinewidth\":0,\"ticks\":\"\"}},\"colorscale\":{\"diverging\":[[0,\"#8e0152\"],[0.1,\"#c51b7d\"],[0.2,\"#de77ae\"],[0.3,\"#f1b6da\"],[0.4,\"#fde0ef\"],[0.5,\"#f7f7f7\"],[0.6,\"#e6f5d0\"],[0.7,\"#b8e186\"],[0.8,\"#7fbc41\"],[0.9,\"#4d9221\"],[1,\"#276419\"]],\"sequential\":[[0.0,\"#0d0887\"],[0.1111111111111111,\"#46039f\"],[0.2222222222222222,\"#7201a8\"],[0.3333333333333333,\"#9c179e\"],[0.4444444444444444,\"#bd3786\"],[0.5555555555555556,\"#d8576b\"],[0.6666666666666666,\"#ed7953\"],[0.7777777777777778,\"#fb9f3a\"],[0.8888888888888888,\"#fdca26\"],[1.0,\"#f0f921\"]],\"sequentialminus\":[[0.0,\"#0d0887\"],[0.1111111111111111,\"#46039f\"],[0.2222222222222222,\"#7201a8\"],[0.3333333333333333,\"#9c179e\"],[0.4444444444444444,\"#bd3786\"],[0.5555555555555556,\"#d8576b\"],[0.6666666666666666,\"#ed7953\"],[0.7777777777777778,\"#fb9f3a\"],[0.8888888888888888,\"#fdca26\"],[1.0,\"#f0f921\"]]},\"colorway\":[\"#636efa\",\"#EF553B\",\"#00cc96\",\"#ab63fa\",\"#FFA15A\",\"#19d3f3\",\"#FF6692\",\"#B6E880\",\"#FF97FF\",\"#FECB52\"],\"font\":{\"color\":\"#2a3f5f\"},\"geo\":{\"bgcolor\":\"white\",\"lakecolor\":\"white\",\"landcolor\":\"#E5ECF6\",\"showlakes\":true,\"showland\":true,\"subunitcolor\":\"white\"},\"hoverlabel\":{\"align\":\"left\"},\"hovermode\":\"closest\",\"mapbox\":{\"style\":\"light\"},\"paper_bgcolor\":\"white\",\"plot_bgcolor\":\"#E5ECF6\",\"polar\":{\"angularaxis\":{\"gridcolor\":\"white\",\"linecolor\":\"white\",\"ticks\":\"\"},\"bgcolor\":\"#E5ECF6\",\"radialaxis\":{\"gridcolor\":\"white\",\"linecolor\":\"white\",\"ticks\":\"\"}},\"scene\":{\"xaxis\":{\"backgroundcolor\":\"#E5ECF6\",\"gridcolor\":\"white\",\"gridwidth\":2,\"linecolor\":\"white\",\"showbackground\":true,\"ticks\":\"\",\"zerolinecolor\":\"white\"},\"yaxis\":{\"backgroundcolor\":\"#E5ECF6\",\"gridcolor\":\"white\",\"gridwidth\":2,\"linecolor\":\"white\",\"showbackground\":true,\"ticks\":\"\",\"zerolinecolor\":\"white\"},\"zaxis\":{\"backgroundcolor\":\"#E5ECF6\",\"gridcolor\":\"white\",\"gridwidth\":2,\"linecolor\":\"white\",\"showbackground\":true,\"ticks\":\"\",\"zerolinecolor\":\"white\"}},\"shapedefaults\":{\"line\":{\"color\":\"#2a3f5f\"}},\"ternary\":{\"aaxis\":{\"gridcolor\":\"white\",\"linecolor\":\"white\",\"ticks\":\"\"},\"baxis\":{\"gridcolor\":\"white\",\"linecolor\":\"white\",\"ticks\":\"\"},\"bgcolor\":\"#E5ECF6\",\"caxis\":{\"gridcolor\":\"white\",\"linecolor\":\"white\",\"ticks\":\"\"}},\"title\":{\"x\":0.05},\"xaxis\":{\"automargin\":true,\"gridcolor\":\"white\",\"linecolor\":\"white\",\"ticks\":\"\",\"title\":{\"standoff\":15},\"zerolinecolor\":\"white\",\"zerolinewidth\":2},\"yaxis\":{\"automargin\":true,\"gridcolor\":\"white\",\"linecolor\":\"white\",\"ticks\":\"\",\"title\":{\"standoff\":15},\"zerolinecolor\":\"white\",\"zerolinewidth\":2}}},\"xaxis\":{\"anchor\":\"y\",\"domain\":[0.0,1.0],\"title\":{\"text\":\"variable\"}},\"yaxis\":{\"anchor\":\"x\",\"domain\":[0.0,1.0],\"title\":{\"text\":\"value\"}}},                        {\"responsive\": true}                    ).then(function(){\n",
       "                            \n",
       "var gd = document.getElementById('d560b311-5c8f-4ecd-a169-1153d12e219e');\n",
       "var x = new MutationObserver(function (mutations, observer) {{\n",
       "        var display = window.getComputedStyle(gd).display;\n",
       "        if (!display || display === 'none') {{\n",
       "            console.log([gd, 'removed!']);\n",
       "            Plotly.purge(gd);\n",
       "            observer.disconnect();\n",
       "        }}\n",
       "}});\n",
       "\n",
       "// Listen for the removal of the full notebook cells\n",
       "var notebookContainer = gd.closest('#notebook-container');\n",
       "if (notebookContainer) {{\n",
       "    x.observe(notebookContainer, {childList: true});\n",
       "}}\n",
       "\n",
       "// Listen for the clearing of the current output cell\n",
       "var outputEl = gd.closest('.output');\n",
       "if (outputEl) {{\n",
       "    x.observe(outputEl, {childList: true});\n",
       "}}\n",
       "\n",
       "                        })                };                });            </script>        </div>"
      ]
     },
     "metadata": {},
     "output_type": "display_data"
    }
   ],
   "source": [
    "px.box(df['glu'])"
   ]
  },
  {
   "cell_type": "code",
   "execution_count": 102,
   "id": "ae15fa7b",
   "metadata": {},
   "outputs": [],
   "source": [
    "# Using IQR to remove outliers from 'glu'\n",
    "\n",
    "q1 = df.glu.quantile(0.25)\n",
    "q3 = df.glu.quantile(0.75)\n",
    "IQR = q3 - q1\n",
    "low = q1 - 1.5 * IQR\n",
    "high = q3 + 1.5 * IQR\n",
    "df.drop(df[df.glu < low].index, inplace = True)\n",
    "df.drop(df[df.glu > high].index, inplace = True)"
   ]
  },
  {
   "cell_type": "code",
   "execution_count": 103,
   "id": "aad91b72",
   "metadata": {},
   "outputs": [
    {
     "data": {
      "application/vnd.plotly.v1+json": {
       "config": {
        "plotlyServerURL": "https://plot.ly"
       },
       "data": [
        {
         "alignmentgroup": "True",
         "hovertemplate": "variable=%{x}<br>value=%{y}<extra></extra>",
         "legendgroup": "",
         "marker": {
          "color": "#636efa"
         },
         "name": "",
         "notched": false,
         "offsetgroup": "",
         "orientation": "v",
         "showlegend": false,
         "type": "box",
         "x": [
          "glu",
          "glu",
          "glu",
          "glu",
          "glu",
          "glu",
          "glu",
          "glu",
          "glu",
          "glu",
          "glu",
          "glu",
          "glu",
          "glu",
          "glu",
          "glu",
          "glu",
          "glu",
          "glu",
          "glu",
          "glu",
          "glu",
          "glu",
          "glu",
          "glu",
          "glu",
          "glu",
          "glu",
          "glu",
          "glu",
          "glu",
          "glu",
          "glu",
          "glu",
          "glu",
          "glu",
          "glu",
          "glu",
          "glu",
          "glu",
          "glu",
          "glu",
          "glu",
          "glu",
          "glu",
          "glu",
          "glu",
          "glu",
          "glu",
          "glu",
          "glu",
          "glu",
          "glu",
          "glu",
          "glu",
          "glu",
          "glu",
          "glu",
          "glu",
          "glu",
          "glu",
          "glu",
          "glu",
          "glu",
          "glu",
          "glu",
          "glu",
          "glu",
          "glu",
          "glu",
          "glu",
          "glu",
          "glu",
          "glu",
          "glu",
          "glu",
          "glu",
          "glu",
          "glu",
          "glu",
          "glu",
          "glu",
          "glu",
          "glu",
          "glu",
          "glu",
          "glu",
          "glu",
          "glu",
          "glu",
          "glu",
          "glu",
          "glu",
          "glu",
          "glu",
          "glu",
          "glu",
          "glu",
          "glu",
          "glu",
          "glu",
          "glu",
          "glu",
          "glu",
          "glu",
          "glu",
          "glu",
          "glu",
          "glu",
          "glu",
          "glu",
          "glu",
          "glu",
          "glu",
          "glu",
          "glu",
          "glu",
          "glu",
          "glu",
          "glu",
          "glu",
          "glu",
          "glu",
          "glu",
          "glu",
          "glu",
          "glu",
          "glu",
          "glu",
          "glu",
          "glu",
          "glu",
          "glu",
          "glu",
          "glu",
          "glu",
          "glu",
          "glu",
          "glu",
          "glu",
          "glu",
          "glu",
          "glu",
          "glu",
          "glu",
          "glu",
          "glu",
          "glu",
          "glu",
          "glu",
          "glu",
          "glu",
          "glu",
          "glu",
          "glu",
          "glu",
          "glu",
          "glu",
          "glu",
          "glu",
          "glu",
          "glu",
          "glu",
          "glu",
          "glu",
          "glu",
          "glu",
          "glu",
          "glu",
          "glu",
          "glu",
          "glu",
          "glu",
          "glu",
          "glu",
          "glu",
          "glu",
          "glu",
          "glu",
          "glu",
          "glu",
          "glu",
          "glu",
          "glu",
          "glu",
          "glu",
          "glu",
          "glu",
          "glu",
          "glu",
          "glu",
          "glu",
          "glu",
          "glu",
          "glu",
          "glu",
          "glu",
          "glu",
          "glu",
          "glu",
          "glu",
          "glu",
          "glu",
          "glu",
          "glu",
          "glu",
          "glu",
          "glu",
          "glu",
          "glu",
          "glu",
          "glu",
          "glu",
          "glu",
          "glu",
          "glu",
          "glu",
          "glu",
          "glu",
          "glu",
          "glu",
          "glu",
          "glu",
          "glu",
          "glu",
          "glu",
          "glu",
          "glu",
          "glu",
          "glu",
          "glu",
          "glu",
          "glu",
          "glu",
          "glu",
          "glu",
          "glu",
          "glu",
          "glu",
          "glu",
          "glu",
          "glu",
          "glu",
          "glu",
          "glu",
          "glu",
          "glu",
          "glu",
          "glu",
          "glu",
          "glu",
          "glu",
          "glu",
          "glu",
          "glu",
          "glu",
          "glu",
          "glu",
          "glu",
          "glu",
          "glu",
          "glu",
          "glu",
          "glu",
          "glu",
          "glu",
          "glu",
          "glu",
          "glu",
          "glu",
          "glu",
          "glu",
          "glu",
          "glu",
          "glu",
          "glu",
          "glu",
          "glu",
          "glu",
          "glu",
          "glu",
          "glu",
          "glu",
          "glu",
          "glu",
          "glu",
          "glu",
          "glu",
          "glu",
          "glu",
          "glu",
          "glu",
          "glu",
          "glu",
          "glu",
          "glu",
          "glu",
          "glu",
          "glu",
          "glu",
          "glu",
          "glu",
          "glu",
          "glu",
          "glu",
          "glu",
          "glu",
          "glu",
          "glu",
          "glu",
          "glu",
          "glu",
          "glu",
          "glu",
          "glu",
          "glu",
          "glu",
          "glu",
          "glu",
          "glu",
          "glu",
          "glu",
          "glu",
          "glu",
          "glu",
          "glu",
          "glu",
          "glu",
          "glu",
          "glu",
          "glu",
          "glu",
          "glu",
          "glu",
          "glu",
          "glu",
          "glu",
          "glu",
          "glu",
          "glu",
          "glu",
          "glu",
          "glu",
          "glu",
          "glu",
          "glu",
          "glu",
          "glu",
          "glu",
          "glu",
          "glu",
          "glu",
          "glu",
          "glu",
          "glu",
          "glu",
          "glu",
          "glu",
          "glu",
          "glu",
          "glu",
          "glu",
          "glu",
          "glu",
          "glu",
          "glu",
          "glu",
          "glu",
          "glu",
          "glu",
          "glu",
          "glu",
          "glu",
          "glu",
          "glu",
          "glu",
          "glu",
          "glu",
          "glu",
          "glu",
          "glu",
          "glu",
          "glu",
          "glu",
          "glu",
          "glu",
          "glu",
          "glu",
          "glu",
          "glu",
          "glu",
          "glu",
          "glu",
          "glu",
          "glu",
          "glu",
          "glu",
          "glu",
          "glu",
          "glu",
          "glu",
          "glu",
          "glu",
          "glu",
          "glu",
          "glu",
          "glu",
          "glu",
          "glu",
          "glu",
          "glu",
          "glu",
          "glu",
          "glu",
          "glu",
          "glu",
          "glu",
          "glu",
          "glu",
          "glu",
          "glu",
          "glu",
          "glu",
          "glu",
          "glu",
          "glu",
          "glu",
          "glu",
          "glu",
          "glu",
          "glu",
          "glu",
          "glu",
          "glu",
          "glu",
          "glu",
          "glu",
          "glu",
          "glu",
          "glu",
          "glu",
          "glu",
          "glu",
          "glu",
          "glu",
          "glu",
          "glu",
          "glu",
          "glu",
          "glu",
          "glu",
          "glu",
          "glu",
          "glu",
          "glu",
          "glu",
          "glu",
          "glu",
          "glu",
          "glu",
          "glu",
          "glu",
          "glu",
          "glu",
          "glu",
          "glu",
          "glu",
          "glu",
          "glu",
          "glu",
          "glu",
          "glu",
          "glu",
          "glu",
          "glu",
          "glu",
          "glu",
          "glu",
          "glu",
          "glu",
          "glu",
          "glu",
          "glu",
          "glu",
          "glu",
          "glu",
          "glu",
          "glu",
          "glu",
          "glu",
          "glu",
          "glu",
          "glu",
          "glu",
          "glu",
          "glu",
          "glu",
          "glu",
          "glu",
          "glu",
          "glu",
          "glu",
          "glu",
          "glu",
          "glu",
          "glu",
          "glu",
          "glu",
          "glu",
          "glu",
          "glu",
          "glu",
          "glu",
          "glu",
          "glu",
          "glu",
          "glu",
          "glu",
          "glu",
          "glu",
          "glu",
          "glu",
          "glu",
          "glu",
          "glu",
          "glu",
          "glu",
          "glu",
          "glu",
          "glu",
          "glu",
          "glu",
          "glu",
          "glu",
          "glu",
          "glu",
          "glu",
          "glu",
          "glu",
          "glu",
          "glu",
          "glu",
          "glu",
          "glu",
          "glu",
          "glu",
          "glu",
          "glu",
          "glu",
          "glu",
          "glu",
          "glu",
          "glu",
          "glu",
          "glu",
          "glu",
          "glu",
          "glu",
          "glu",
          "glu",
          "glu",
          "glu",
          "glu",
          "glu",
          "glu",
          "glu",
          "glu",
          "glu",
          "glu",
          "glu",
          "glu",
          "glu",
          "glu",
          "glu",
          "glu",
          "glu",
          "glu",
          "glu",
          "glu",
          "glu",
          "glu",
          "glu",
          "glu",
          "glu",
          "glu",
          "glu",
          "glu",
          "glu",
          "glu",
          "glu",
          "glu",
          "glu",
          "glu",
          "glu",
          "glu",
          "glu",
          "glu",
          "glu",
          "glu",
          "glu",
          "glu",
          "glu",
          "glu",
          "glu",
          "glu",
          "glu",
          "glu",
          "glu",
          "glu",
          "glu",
          "glu",
          "glu",
          "glu",
          "glu",
          "glu",
          "glu",
          "glu",
          "glu",
          "glu",
          "glu",
          "glu",
          "glu",
          "glu",
          "glu",
          "glu",
          "glu",
          "glu",
          "glu",
          "glu",
          "glu",
          "glu",
          "glu",
          "glu",
          "glu",
          "glu",
          "glu",
          "glu",
          "glu",
          "glu",
          "glu",
          "glu",
          "glu",
          "glu",
          "glu",
          "glu",
          "glu",
          "glu",
          "glu",
          "glu",
          "glu",
          "glu",
          "glu",
          "glu",
          "glu",
          "glu",
          "glu",
          "glu",
          "glu",
          "glu",
          "glu",
          "glu",
          "glu",
          "glu",
          "glu",
          "glu",
          "glu",
          "glu",
          "glu",
          "glu",
          "glu",
          "glu",
          "glu",
          "glu",
          "glu",
          "glu",
          "glu",
          "glu",
          "glu",
          "glu",
          "glu",
          "glu",
          "glu",
          "glu",
          "glu",
          "glu",
          "glu",
          "glu",
          "glu",
          "glu",
          "glu",
          "glu",
          "glu",
          "glu",
          "glu",
          "glu",
          "glu",
          "glu",
          "glu",
          "glu",
          "glu",
          "glu",
          "glu",
          "glu",
          "glu",
          "glu",
          "glu",
          "glu",
          "glu",
          "glu",
          "glu",
          "glu",
          "glu",
          "glu",
          "glu",
          "glu",
          "glu",
          "glu",
          "glu",
          "glu",
          "glu",
          "glu",
          "glu",
          "glu",
          "glu",
          "glu",
          "glu",
          "glu",
          "glu",
          "glu",
          "glu",
          "glu",
          "glu",
          "glu",
          "glu",
          "glu",
          "glu",
          "glu",
          "glu",
          "glu",
          "glu",
          "glu",
          "glu",
          "glu",
          "glu",
          "glu",
          "glu",
          "glu",
          "glu",
          "glu",
          "glu",
          "glu",
          "glu",
          "glu",
          "glu",
          "glu",
          "glu",
          "glu",
          "glu",
          "glu"
         ],
         "x0": " ",
         "xaxis": "x",
         "y": [
          148,
          85,
          183,
          89,
          137,
          116,
          78,
          115,
          197,
          125,
          110,
          168,
          139,
          189,
          166,
          100,
          118,
          107,
          103,
          115,
          126,
          99,
          196,
          119,
          143,
          125,
          147,
          97,
          145,
          117,
          109,
          158,
          88,
          92,
          122,
          103,
          138,
          102,
          90,
          111,
          180,
          133,
          106,
          171,
          159,
          180,
          146,
          71,
          103,
          105,
          103,
          101,
          88,
          176,
          150,
          73,
          187,
          100,
          146,
          105,
          84,
          133,
          44,
          141,
          114,
          99,
          109,
          109,
          95,
          146,
          100,
          139,
          126,
          129,
          79,
          62,
          95,
          131,
          112,
          113,
          74,
          83,
          101,
          137,
          110,
          106,
          100,
          107,
          80,
          123,
          81,
          134,
          142,
          144,
          92,
          71,
          93,
          122,
          163,
          151,
          125,
          81,
          85,
          126,
          96,
          144,
          83,
          95,
          171,
          155,
          89,
          76,
          160,
          146,
          124,
          78,
          97,
          99,
          162,
          111,
          107,
          132,
          113,
          88,
          120,
          118,
          117,
          105,
          173,
          122,
          170,
          84,
          96,
          125,
          100,
          93,
          129,
          105,
          128,
          106,
          108,
          108,
          154,
          102,
          57,
          106,
          147,
          90,
          136,
          114,
          156,
          153,
          188,
          152,
          99,
          109,
          88,
          151,
          102,
          114,
          100,
          131,
          104,
          148,
          120,
          110,
          111,
          102,
          134,
          87,
          79,
          75,
          179,
          85,
          129,
          143,
          130,
          87,
          119,
          73,
          141,
          194,
          181,
          128,
          109,
          139,
          111,
          123,
          159,
          135,
          85,
          158,
          105,
          107,
          109,
          148,
          113,
          138,
          108,
          99,
          103,
          111,
          196,
          162,
          96,
          184,
          81,
          147,
          179,
          140,
          112,
          151,
          109,
          125,
          85,
          112,
          177,
          158,
          119,
          142,
          100,
          87,
          101,
          162,
          197,
          117,
          142,
          134,
          79,
          122,
          74,
          171,
          181,
          179,
          164,
          104,
          91,
          91,
          139,
          119,
          146,
          184,
          122,
          165,
          124,
          111,
          106,
          129,
          90,
          86,
          92,
          113,
          111,
          114,
          193,
          155,
          191,
          141,
          95,
          142,
          123,
          96,
          138,
          128,
          102,
          146,
          101,
          108,
          122,
          71,
          106,
          100,
          106,
          104,
          114,
          108,
          146,
          129,
          133,
          161,
          108,
          136,
          155,
          119,
          96,
          108,
          78,
          107,
          128,
          128,
          161,
          151,
          146,
          126,
          112,
          167,
          144,
          77,
          115,
          150,
          120,
          161,
          137,
          128,
          124,
          80,
          106,
          155,
          113,
          109,
          112,
          99,
          182,
          115,
          194,
          129,
          112,
          124,
          152,
          112,
          157,
          122,
          179,
          102,
          105,
          118,
          87,
          180,
          106,
          95,
          165,
          117,
          115,
          152,
          178,
          130,
          95,
          122,
          95,
          126,
          139,
          116,
          99,
          92,
          137,
          61,
          90,
          90,
          165,
          125,
          129,
          88,
          196,
          189,
          158,
          103,
          146,
          147,
          99,
          124,
          101,
          81,
          133,
          173,
          118,
          84,
          105,
          122,
          140,
          98,
          87,
          156,
          93,
          107,
          105,
          109,
          90,
          125,
          119,
          116,
          105,
          144,
          100,
          100,
          166,
          131,
          116,
          158,
          127,
          96,
          131,
          82,
          193,
          95,
          137,
          136,
          72,
          168,
          123,
          115,
          101,
          197,
          172,
          102,
          112,
          143,
          143,
          138,
          173,
          97,
          144,
          83,
          129,
          119,
          94,
          102,
          115,
          151,
          184,
          94,
          181,
          135,
          95,
          99,
          89,
          80,
          139,
          90,
          141,
          140,
          147,
          97,
          107,
          189,
          83,
          117,
          108,
          117,
          180,
          100,
          95,
          104,
          120,
          82,
          134,
          91,
          119,
          100,
          135,
          86,
          148,
          134,
          120,
          71,
          74,
          88,
          115,
          124,
          74,
          97,
          120,
          154,
          144,
          137,
          119,
          136,
          114,
          137,
          105,
          114,
          126,
          132,
          158,
          123,
          85,
          84,
          145,
          135,
          139,
          173,
          99,
          194,
          83,
          89,
          99,
          125,
          80,
          166,
          110,
          81,
          195,
          154,
          117,
          84,
          94,
          96,
          75,
          180,
          130,
          84,
          120,
          84,
          139,
          91,
          91,
          99,
          163,
          145,
          125,
          76,
          129,
          68,
          124,
          114,
          130,
          125,
          87,
          97,
          116,
          117,
          111,
          122,
          107,
          86,
          91,
          77,
          132,
          105,
          57,
          127,
          129,
          100,
          128,
          90,
          84,
          88,
          186,
          187,
          131,
          164,
          189,
          116,
          84,
          114,
          88,
          84,
          124,
          97,
          110,
          103,
          85,
          125,
          198,
          87,
          99,
          91,
          95,
          99,
          92,
          154,
          121,
          78,
          130,
          111,
          98,
          143,
          119,
          108,
          118,
          133,
          197,
          151,
          109,
          121,
          100,
          124,
          93,
          143,
          103,
          176,
          73,
          111,
          112,
          132,
          82,
          123,
          188,
          67,
          89,
          173,
          109,
          108,
          96,
          124,
          150,
          183,
          124,
          181,
          92,
          152,
          111,
          106,
          174,
          168,
          105,
          138,
          106,
          117,
          68,
          112,
          119,
          112,
          92,
          183,
          94,
          108,
          90,
          125,
          132,
          128,
          94,
          114,
          102,
          111,
          128,
          92,
          104,
          104,
          94,
          97,
          100,
          102,
          128,
          147,
          90,
          103,
          157,
          167,
          179,
          136,
          107,
          91,
          117,
          123,
          120,
          106,
          155,
          101,
          120,
          127,
          80,
          162,
          199,
          167,
          145,
          115,
          112,
          145,
          111,
          98,
          154,
          165,
          99,
          68,
          123,
          91,
          195,
          156,
          93,
          121,
          101,
          56,
          162,
          95,
          125,
          136,
          129,
          130,
          107,
          140,
          144,
          107,
          158,
          121,
          129,
          90,
          142,
          169,
          99,
          127,
          118,
          122,
          125,
          168,
          129,
          110,
          80,
          115,
          127,
          164,
          93,
          158,
          126,
          129,
          134,
          102,
          187,
          173,
          94,
          108,
          97,
          83,
          114,
          149,
          117,
          111,
          112,
          116,
          141,
          175,
          92,
          130,
          120,
          174,
          106,
          105,
          95,
          126,
          65,
          99,
          102,
          120,
          102,
          109,
          140,
          153,
          100,
          147,
          81,
          187,
          162,
          136,
          121,
          108,
          181,
          154,
          128,
          137,
          123,
          106,
          190,
          88,
          170,
          89,
          101,
          122,
          121,
          126,
          93
         ],
         "y0": " ",
         "yaxis": "y"
        }
       ],
       "layout": {
        "boxmode": "group",
        "legend": {
         "tracegroupgap": 0
        },
        "margin": {
         "t": 60
        },
        "template": {
         "data": {
          "bar": [
           {
            "error_x": {
             "color": "#2a3f5f"
            },
            "error_y": {
             "color": "#2a3f5f"
            },
            "marker": {
             "line": {
              "color": "#E5ECF6",
              "width": 0.5
             },
             "pattern": {
              "fillmode": "overlay",
              "size": 10,
              "solidity": 0.2
             }
            },
            "type": "bar"
           }
          ],
          "barpolar": [
           {
            "marker": {
             "line": {
              "color": "#E5ECF6",
              "width": 0.5
             },
             "pattern": {
              "fillmode": "overlay",
              "size": 10,
              "solidity": 0.2
             }
            },
            "type": "barpolar"
           }
          ],
          "carpet": [
           {
            "aaxis": {
             "endlinecolor": "#2a3f5f",
             "gridcolor": "white",
             "linecolor": "white",
             "minorgridcolor": "white",
             "startlinecolor": "#2a3f5f"
            },
            "baxis": {
             "endlinecolor": "#2a3f5f",
             "gridcolor": "white",
             "linecolor": "white",
             "minorgridcolor": "white",
             "startlinecolor": "#2a3f5f"
            },
            "type": "carpet"
           }
          ],
          "choropleth": [
           {
            "colorbar": {
             "outlinewidth": 0,
             "ticks": ""
            },
            "type": "choropleth"
           }
          ],
          "contour": [
           {
            "colorbar": {
             "outlinewidth": 0,
             "ticks": ""
            },
            "colorscale": [
             [
              0,
              "#0d0887"
             ],
             [
              0.1111111111111111,
              "#46039f"
             ],
             [
              0.2222222222222222,
              "#7201a8"
             ],
             [
              0.3333333333333333,
              "#9c179e"
             ],
             [
              0.4444444444444444,
              "#bd3786"
             ],
             [
              0.5555555555555556,
              "#d8576b"
             ],
             [
              0.6666666666666666,
              "#ed7953"
             ],
             [
              0.7777777777777778,
              "#fb9f3a"
             ],
             [
              0.8888888888888888,
              "#fdca26"
             ],
             [
              1,
              "#f0f921"
             ]
            ],
            "type": "contour"
           }
          ],
          "contourcarpet": [
           {
            "colorbar": {
             "outlinewidth": 0,
             "ticks": ""
            },
            "type": "contourcarpet"
           }
          ],
          "heatmap": [
           {
            "colorbar": {
             "outlinewidth": 0,
             "ticks": ""
            },
            "colorscale": [
             [
              0,
              "#0d0887"
             ],
             [
              0.1111111111111111,
              "#46039f"
             ],
             [
              0.2222222222222222,
              "#7201a8"
             ],
             [
              0.3333333333333333,
              "#9c179e"
             ],
             [
              0.4444444444444444,
              "#bd3786"
             ],
             [
              0.5555555555555556,
              "#d8576b"
             ],
             [
              0.6666666666666666,
              "#ed7953"
             ],
             [
              0.7777777777777778,
              "#fb9f3a"
             ],
             [
              0.8888888888888888,
              "#fdca26"
             ],
             [
              1,
              "#f0f921"
             ]
            ],
            "type": "heatmap"
           }
          ],
          "heatmapgl": [
           {
            "colorbar": {
             "outlinewidth": 0,
             "ticks": ""
            },
            "colorscale": [
             [
              0,
              "#0d0887"
             ],
             [
              0.1111111111111111,
              "#46039f"
             ],
             [
              0.2222222222222222,
              "#7201a8"
             ],
             [
              0.3333333333333333,
              "#9c179e"
             ],
             [
              0.4444444444444444,
              "#bd3786"
             ],
             [
              0.5555555555555556,
              "#d8576b"
             ],
             [
              0.6666666666666666,
              "#ed7953"
             ],
             [
              0.7777777777777778,
              "#fb9f3a"
             ],
             [
              0.8888888888888888,
              "#fdca26"
             ],
             [
              1,
              "#f0f921"
             ]
            ],
            "type": "heatmapgl"
           }
          ],
          "histogram": [
           {
            "marker": {
             "pattern": {
              "fillmode": "overlay",
              "size": 10,
              "solidity": 0.2
             }
            },
            "type": "histogram"
           }
          ],
          "histogram2d": [
           {
            "colorbar": {
             "outlinewidth": 0,
             "ticks": ""
            },
            "colorscale": [
             [
              0,
              "#0d0887"
             ],
             [
              0.1111111111111111,
              "#46039f"
             ],
             [
              0.2222222222222222,
              "#7201a8"
             ],
             [
              0.3333333333333333,
              "#9c179e"
             ],
             [
              0.4444444444444444,
              "#bd3786"
             ],
             [
              0.5555555555555556,
              "#d8576b"
             ],
             [
              0.6666666666666666,
              "#ed7953"
             ],
             [
              0.7777777777777778,
              "#fb9f3a"
             ],
             [
              0.8888888888888888,
              "#fdca26"
             ],
             [
              1,
              "#f0f921"
             ]
            ],
            "type": "histogram2d"
           }
          ],
          "histogram2dcontour": [
           {
            "colorbar": {
             "outlinewidth": 0,
             "ticks": ""
            },
            "colorscale": [
             [
              0,
              "#0d0887"
             ],
             [
              0.1111111111111111,
              "#46039f"
             ],
             [
              0.2222222222222222,
              "#7201a8"
             ],
             [
              0.3333333333333333,
              "#9c179e"
             ],
             [
              0.4444444444444444,
              "#bd3786"
             ],
             [
              0.5555555555555556,
              "#d8576b"
             ],
             [
              0.6666666666666666,
              "#ed7953"
             ],
             [
              0.7777777777777778,
              "#fb9f3a"
             ],
             [
              0.8888888888888888,
              "#fdca26"
             ],
             [
              1,
              "#f0f921"
             ]
            ],
            "type": "histogram2dcontour"
           }
          ],
          "mesh3d": [
           {
            "colorbar": {
             "outlinewidth": 0,
             "ticks": ""
            },
            "type": "mesh3d"
           }
          ],
          "parcoords": [
           {
            "line": {
             "colorbar": {
              "outlinewidth": 0,
              "ticks": ""
             }
            },
            "type": "parcoords"
           }
          ],
          "pie": [
           {
            "automargin": true,
            "type": "pie"
           }
          ],
          "scatter": [
           {
            "marker": {
             "colorbar": {
              "outlinewidth": 0,
              "ticks": ""
             }
            },
            "type": "scatter"
           }
          ],
          "scatter3d": [
           {
            "line": {
             "colorbar": {
              "outlinewidth": 0,
              "ticks": ""
             }
            },
            "marker": {
             "colorbar": {
              "outlinewidth": 0,
              "ticks": ""
             }
            },
            "type": "scatter3d"
           }
          ],
          "scattercarpet": [
           {
            "marker": {
             "colorbar": {
              "outlinewidth": 0,
              "ticks": ""
             }
            },
            "type": "scattercarpet"
           }
          ],
          "scattergeo": [
           {
            "marker": {
             "colorbar": {
              "outlinewidth": 0,
              "ticks": ""
             }
            },
            "type": "scattergeo"
           }
          ],
          "scattergl": [
           {
            "marker": {
             "colorbar": {
              "outlinewidth": 0,
              "ticks": ""
             }
            },
            "type": "scattergl"
           }
          ],
          "scattermapbox": [
           {
            "marker": {
             "colorbar": {
              "outlinewidth": 0,
              "ticks": ""
             }
            },
            "type": "scattermapbox"
           }
          ],
          "scatterpolar": [
           {
            "marker": {
             "colorbar": {
              "outlinewidth": 0,
              "ticks": ""
             }
            },
            "type": "scatterpolar"
           }
          ],
          "scatterpolargl": [
           {
            "marker": {
             "colorbar": {
              "outlinewidth": 0,
              "ticks": ""
             }
            },
            "type": "scatterpolargl"
           }
          ],
          "scatterternary": [
           {
            "marker": {
             "colorbar": {
              "outlinewidth": 0,
              "ticks": ""
             }
            },
            "type": "scatterternary"
           }
          ],
          "surface": [
           {
            "colorbar": {
             "outlinewidth": 0,
             "ticks": ""
            },
            "colorscale": [
             [
              0,
              "#0d0887"
             ],
             [
              0.1111111111111111,
              "#46039f"
             ],
             [
              0.2222222222222222,
              "#7201a8"
             ],
             [
              0.3333333333333333,
              "#9c179e"
             ],
             [
              0.4444444444444444,
              "#bd3786"
             ],
             [
              0.5555555555555556,
              "#d8576b"
             ],
             [
              0.6666666666666666,
              "#ed7953"
             ],
             [
              0.7777777777777778,
              "#fb9f3a"
             ],
             [
              0.8888888888888888,
              "#fdca26"
             ],
             [
              1,
              "#f0f921"
             ]
            ],
            "type": "surface"
           }
          ],
          "table": [
           {
            "cells": {
             "fill": {
              "color": "#EBF0F8"
             },
             "line": {
              "color": "white"
             }
            },
            "header": {
             "fill": {
              "color": "#C8D4E3"
             },
             "line": {
              "color": "white"
             }
            },
            "type": "table"
           }
          ]
         },
         "layout": {
          "annotationdefaults": {
           "arrowcolor": "#2a3f5f",
           "arrowhead": 0,
           "arrowwidth": 1
          },
          "autotypenumbers": "strict",
          "coloraxis": {
           "colorbar": {
            "outlinewidth": 0,
            "ticks": ""
           }
          },
          "colorscale": {
           "diverging": [
            [
             0,
             "#8e0152"
            ],
            [
             0.1,
             "#c51b7d"
            ],
            [
             0.2,
             "#de77ae"
            ],
            [
             0.3,
             "#f1b6da"
            ],
            [
             0.4,
             "#fde0ef"
            ],
            [
             0.5,
             "#f7f7f7"
            ],
            [
             0.6,
             "#e6f5d0"
            ],
            [
             0.7,
             "#b8e186"
            ],
            [
             0.8,
             "#7fbc41"
            ],
            [
             0.9,
             "#4d9221"
            ],
            [
             1,
             "#276419"
            ]
           ],
           "sequential": [
            [
             0,
             "#0d0887"
            ],
            [
             0.1111111111111111,
             "#46039f"
            ],
            [
             0.2222222222222222,
             "#7201a8"
            ],
            [
             0.3333333333333333,
             "#9c179e"
            ],
            [
             0.4444444444444444,
             "#bd3786"
            ],
            [
             0.5555555555555556,
             "#d8576b"
            ],
            [
             0.6666666666666666,
             "#ed7953"
            ],
            [
             0.7777777777777778,
             "#fb9f3a"
            ],
            [
             0.8888888888888888,
             "#fdca26"
            ],
            [
             1,
             "#f0f921"
            ]
           ],
           "sequentialminus": [
            [
             0,
             "#0d0887"
            ],
            [
             0.1111111111111111,
             "#46039f"
            ],
            [
             0.2222222222222222,
             "#7201a8"
            ],
            [
             0.3333333333333333,
             "#9c179e"
            ],
            [
             0.4444444444444444,
             "#bd3786"
            ],
            [
             0.5555555555555556,
             "#d8576b"
            ],
            [
             0.6666666666666666,
             "#ed7953"
            ],
            [
             0.7777777777777778,
             "#fb9f3a"
            ],
            [
             0.8888888888888888,
             "#fdca26"
            ],
            [
             1,
             "#f0f921"
            ]
           ]
          },
          "colorway": [
           "#636efa",
           "#EF553B",
           "#00cc96",
           "#ab63fa",
           "#FFA15A",
           "#19d3f3",
           "#FF6692",
           "#B6E880",
           "#FF97FF",
           "#FECB52"
          ],
          "font": {
           "color": "#2a3f5f"
          },
          "geo": {
           "bgcolor": "white",
           "lakecolor": "white",
           "landcolor": "#E5ECF6",
           "showlakes": true,
           "showland": true,
           "subunitcolor": "white"
          },
          "hoverlabel": {
           "align": "left"
          },
          "hovermode": "closest",
          "mapbox": {
           "style": "light"
          },
          "paper_bgcolor": "white",
          "plot_bgcolor": "#E5ECF6",
          "polar": {
           "angularaxis": {
            "gridcolor": "white",
            "linecolor": "white",
            "ticks": ""
           },
           "bgcolor": "#E5ECF6",
           "radialaxis": {
            "gridcolor": "white",
            "linecolor": "white",
            "ticks": ""
           }
          },
          "scene": {
           "xaxis": {
            "backgroundcolor": "#E5ECF6",
            "gridcolor": "white",
            "gridwidth": 2,
            "linecolor": "white",
            "showbackground": true,
            "ticks": "",
            "zerolinecolor": "white"
           },
           "yaxis": {
            "backgroundcolor": "#E5ECF6",
            "gridcolor": "white",
            "gridwidth": 2,
            "linecolor": "white",
            "showbackground": true,
            "ticks": "",
            "zerolinecolor": "white"
           },
           "zaxis": {
            "backgroundcolor": "#E5ECF6",
            "gridcolor": "white",
            "gridwidth": 2,
            "linecolor": "white",
            "showbackground": true,
            "ticks": "",
            "zerolinecolor": "white"
           }
          },
          "shapedefaults": {
           "line": {
            "color": "#2a3f5f"
           }
          },
          "ternary": {
           "aaxis": {
            "gridcolor": "white",
            "linecolor": "white",
            "ticks": ""
           },
           "baxis": {
            "gridcolor": "white",
            "linecolor": "white",
            "ticks": ""
           },
           "bgcolor": "#E5ECF6",
           "caxis": {
            "gridcolor": "white",
            "linecolor": "white",
            "ticks": ""
           }
          },
          "title": {
           "x": 0.05
          },
          "xaxis": {
           "automargin": true,
           "gridcolor": "white",
           "linecolor": "white",
           "ticks": "",
           "title": {
            "standoff": 15
           },
           "zerolinecolor": "white",
           "zerolinewidth": 2
          },
          "yaxis": {
           "automargin": true,
           "gridcolor": "white",
           "linecolor": "white",
           "ticks": "",
           "title": {
            "standoff": 15
           },
           "zerolinecolor": "white",
           "zerolinewidth": 2
          }
         }
        },
        "xaxis": {
         "anchor": "y",
         "domain": [
          0,
          1
         ],
         "title": {
          "text": "variable"
         }
        },
        "yaxis": {
         "anchor": "x",
         "domain": [
          0,
          1
         ],
         "title": {
          "text": "value"
         }
        }
       }
      },
      "text/html": [
       "<div>                            <div id=\"e660666e-87d2-4a00-a88b-f9231a0e7533\" class=\"plotly-graph-div\" style=\"height:525px; width:100%;\"></div>            <script type=\"text/javascript\">                require([\"plotly\"], function(Plotly) {                    window.PLOTLYENV=window.PLOTLYENV || {};                                    if (document.getElementById(\"e660666e-87d2-4a00-a88b-f9231a0e7533\")) {                    Plotly.newPlot(                        \"e660666e-87d2-4a00-a88b-f9231a0e7533\",                        [{\"alignmentgroup\":\"True\",\"hovertemplate\":\"variable=%{x}<br>value=%{y}<extra></extra>\",\"legendgroup\":\"\",\"marker\":{\"color\":\"#636efa\"},\"name\":\"\",\"notched\":false,\"offsetgroup\":\"\",\"orientation\":\"v\",\"showlegend\":false,\"type\":\"box\",\"x\":[\"glu\",\"glu\",\"glu\",\"glu\",\"glu\",\"glu\",\"glu\",\"glu\",\"glu\",\"glu\",\"glu\",\"glu\",\"glu\",\"glu\",\"glu\",\"glu\",\"glu\",\"glu\",\"glu\",\"glu\",\"glu\",\"glu\",\"glu\",\"glu\",\"glu\",\"glu\",\"glu\",\"glu\",\"glu\",\"glu\",\"glu\",\"glu\",\"glu\",\"glu\",\"glu\",\"glu\",\"glu\",\"glu\",\"glu\",\"glu\",\"glu\",\"glu\",\"glu\",\"glu\",\"glu\",\"glu\",\"glu\",\"glu\",\"glu\",\"glu\",\"glu\",\"glu\",\"glu\",\"glu\",\"glu\",\"glu\",\"glu\",\"glu\",\"glu\",\"glu\",\"glu\",\"glu\",\"glu\",\"glu\",\"glu\",\"glu\",\"glu\",\"glu\",\"glu\",\"glu\",\"glu\",\"glu\",\"glu\",\"glu\",\"glu\",\"glu\",\"glu\",\"glu\",\"glu\",\"glu\",\"glu\",\"glu\",\"glu\",\"glu\",\"glu\",\"glu\",\"glu\",\"glu\",\"glu\",\"glu\",\"glu\",\"glu\",\"glu\",\"glu\",\"glu\",\"glu\",\"glu\",\"glu\",\"glu\",\"glu\",\"glu\",\"glu\",\"glu\",\"glu\",\"glu\",\"glu\",\"glu\",\"glu\",\"glu\",\"glu\",\"glu\",\"glu\",\"glu\",\"glu\",\"glu\",\"glu\",\"glu\",\"glu\",\"glu\",\"glu\",\"glu\",\"glu\",\"glu\",\"glu\",\"glu\",\"glu\",\"glu\",\"glu\",\"glu\",\"glu\",\"glu\",\"glu\",\"glu\",\"glu\",\"glu\",\"glu\",\"glu\",\"glu\",\"glu\",\"glu\",\"glu\",\"glu\",\"glu\",\"glu\",\"glu\",\"glu\",\"glu\",\"glu\",\"glu\",\"glu\",\"glu\",\"glu\",\"glu\",\"glu\",\"glu\",\"glu\",\"glu\",\"glu\",\"glu\",\"glu\",\"glu\",\"glu\",\"glu\",\"glu\",\"glu\",\"glu\",\"glu\",\"glu\",\"glu\",\"glu\",\"glu\",\"glu\",\"glu\",\"glu\",\"glu\",\"glu\",\"glu\",\"glu\",\"glu\",\"glu\",\"glu\",\"glu\",\"glu\",\"glu\",\"glu\",\"glu\",\"glu\",\"glu\",\"glu\",\"glu\",\"glu\",\"glu\",\"glu\",\"glu\",\"glu\",\"glu\",\"glu\",\"glu\",\"glu\",\"glu\",\"glu\",\"glu\",\"glu\",\"glu\",\"glu\",\"glu\",\"glu\",\"glu\",\"glu\",\"glu\",\"glu\",\"glu\",\"glu\",\"glu\",\"glu\",\"glu\",\"glu\",\"glu\",\"glu\",\"glu\",\"glu\",\"glu\",\"glu\",\"glu\",\"glu\",\"glu\",\"glu\",\"glu\",\"glu\",\"glu\",\"glu\",\"glu\",\"glu\",\"glu\",\"glu\",\"glu\",\"glu\",\"glu\",\"glu\",\"glu\",\"glu\",\"glu\",\"glu\",\"glu\",\"glu\",\"glu\",\"glu\",\"glu\",\"glu\",\"glu\",\"glu\",\"glu\",\"glu\",\"glu\",\"glu\",\"glu\",\"glu\",\"glu\",\"glu\",\"glu\",\"glu\",\"glu\",\"glu\",\"glu\",\"glu\",\"glu\",\"glu\",\"glu\",\"glu\",\"glu\",\"glu\",\"glu\",\"glu\",\"glu\",\"glu\",\"glu\",\"glu\",\"glu\",\"glu\",\"glu\",\"glu\",\"glu\",\"glu\",\"glu\",\"glu\",\"glu\",\"glu\",\"glu\",\"glu\",\"glu\",\"glu\",\"glu\",\"glu\",\"glu\",\"glu\",\"glu\",\"glu\",\"glu\",\"glu\",\"glu\",\"glu\",\"glu\",\"glu\",\"glu\",\"glu\",\"glu\",\"glu\",\"glu\",\"glu\",\"glu\",\"glu\",\"glu\",\"glu\",\"glu\",\"glu\",\"glu\",\"glu\",\"glu\",\"glu\",\"glu\",\"glu\",\"glu\",\"glu\",\"glu\",\"glu\",\"glu\",\"glu\",\"glu\",\"glu\",\"glu\",\"glu\",\"glu\",\"glu\",\"glu\",\"glu\",\"glu\",\"glu\",\"glu\",\"glu\",\"glu\",\"glu\",\"glu\",\"glu\",\"glu\",\"glu\",\"glu\",\"glu\",\"glu\",\"glu\",\"glu\",\"glu\",\"glu\",\"glu\",\"glu\",\"glu\",\"glu\",\"glu\",\"glu\",\"glu\",\"glu\",\"glu\",\"glu\",\"glu\",\"glu\",\"glu\",\"glu\",\"glu\",\"glu\",\"glu\",\"glu\",\"glu\",\"glu\",\"glu\",\"glu\",\"glu\",\"glu\",\"glu\",\"glu\",\"glu\",\"glu\",\"glu\",\"glu\",\"glu\",\"glu\",\"glu\",\"glu\",\"glu\",\"glu\",\"glu\",\"glu\",\"glu\",\"glu\",\"glu\",\"glu\",\"glu\",\"glu\",\"glu\",\"glu\",\"glu\",\"glu\",\"glu\",\"glu\",\"glu\",\"glu\",\"glu\",\"glu\",\"glu\",\"glu\",\"glu\",\"glu\",\"glu\",\"glu\",\"glu\",\"glu\",\"glu\",\"glu\",\"glu\",\"glu\",\"glu\",\"glu\",\"glu\",\"glu\",\"glu\",\"glu\",\"glu\",\"glu\",\"glu\",\"glu\",\"glu\",\"glu\",\"glu\",\"glu\",\"glu\",\"glu\",\"glu\",\"glu\",\"glu\",\"glu\",\"glu\",\"glu\",\"glu\",\"glu\",\"glu\",\"glu\",\"glu\",\"glu\",\"glu\",\"glu\",\"glu\",\"glu\",\"glu\",\"glu\",\"glu\",\"glu\",\"glu\",\"glu\",\"glu\",\"glu\",\"glu\",\"glu\",\"glu\",\"glu\",\"glu\",\"glu\",\"glu\",\"glu\",\"glu\",\"glu\",\"glu\",\"glu\",\"glu\",\"glu\",\"glu\",\"glu\",\"glu\",\"glu\",\"glu\",\"glu\",\"glu\",\"glu\",\"glu\",\"glu\",\"glu\",\"glu\",\"glu\",\"glu\",\"glu\",\"glu\",\"glu\",\"glu\",\"glu\",\"glu\",\"glu\",\"glu\",\"glu\",\"glu\",\"glu\",\"glu\",\"glu\",\"glu\",\"glu\",\"glu\",\"glu\",\"glu\",\"glu\",\"glu\",\"glu\",\"glu\",\"glu\",\"glu\",\"glu\",\"glu\",\"glu\",\"glu\",\"glu\",\"glu\",\"glu\",\"glu\",\"glu\",\"glu\",\"glu\",\"glu\",\"glu\",\"glu\",\"glu\",\"glu\",\"glu\",\"glu\",\"glu\",\"glu\",\"glu\",\"glu\",\"glu\",\"glu\",\"glu\",\"glu\",\"glu\",\"glu\",\"glu\",\"glu\",\"glu\",\"glu\",\"glu\",\"glu\",\"glu\",\"glu\",\"glu\",\"glu\",\"glu\",\"glu\",\"glu\",\"glu\",\"glu\",\"glu\",\"glu\",\"glu\",\"glu\",\"glu\",\"glu\",\"glu\",\"glu\",\"glu\",\"glu\",\"glu\",\"glu\",\"glu\",\"glu\",\"glu\",\"glu\",\"glu\",\"glu\",\"glu\",\"glu\",\"glu\",\"glu\",\"glu\",\"glu\",\"glu\",\"glu\",\"glu\",\"glu\",\"glu\",\"glu\",\"glu\",\"glu\",\"glu\",\"glu\",\"glu\",\"glu\",\"glu\",\"glu\",\"glu\",\"glu\",\"glu\",\"glu\",\"glu\",\"glu\",\"glu\",\"glu\",\"glu\",\"glu\",\"glu\",\"glu\",\"glu\",\"glu\",\"glu\",\"glu\",\"glu\",\"glu\",\"glu\",\"glu\",\"glu\",\"glu\",\"glu\",\"glu\",\"glu\",\"glu\",\"glu\",\"glu\",\"glu\",\"glu\",\"glu\",\"glu\",\"glu\",\"glu\",\"glu\",\"glu\",\"glu\",\"glu\",\"glu\",\"glu\",\"glu\",\"glu\",\"glu\",\"glu\",\"glu\",\"glu\",\"glu\",\"glu\",\"glu\",\"glu\",\"glu\",\"glu\",\"glu\",\"glu\",\"glu\",\"glu\",\"glu\",\"glu\",\"glu\",\"glu\",\"glu\",\"glu\",\"glu\",\"glu\",\"glu\",\"glu\",\"glu\",\"glu\",\"glu\",\"glu\",\"glu\",\"glu\",\"glu\",\"glu\",\"glu\",\"glu\",\"glu\",\"glu\",\"glu\",\"glu\",\"glu\",\"glu\",\"glu\",\"glu\",\"glu\",\"glu\",\"glu\",\"glu\",\"glu\",\"glu\",\"glu\",\"glu\",\"glu\",\"glu\",\"glu\",\"glu\",\"glu\",\"glu\",\"glu\",\"glu\",\"glu\",\"glu\",\"glu\",\"glu\",\"glu\",\"glu\",\"glu\",\"glu\",\"glu\",\"glu\",\"glu\",\"glu\",\"glu\",\"glu\",\"glu\",\"glu\",\"glu\",\"glu\",\"glu\",\"glu\",\"glu\",\"glu\",\"glu\",\"glu\",\"glu\",\"glu\",\"glu\",\"glu\",\"glu\",\"glu\",\"glu\",\"glu\",\"glu\",\"glu\",\"glu\",\"glu\",\"glu\",\"glu\",\"glu\",\"glu\",\"glu\",\"glu\",\"glu\",\"glu\",\"glu\",\"glu\",\"glu\",\"glu\",\"glu\",\"glu\",\"glu\",\"glu\",\"glu\",\"glu\",\"glu\",\"glu\",\"glu\",\"glu\",\"glu\",\"glu\",\"glu\",\"glu\",\"glu\",\"glu\",\"glu\",\"glu\",\"glu\",\"glu\"],\"x0\":\" \",\"xaxis\":\"x\",\"y\":[148,85,183,89,137,116,78,115,197,125,110,168,139,189,166,100,118,107,103,115,126,99,196,119,143,125,147,97,145,117,109,158,88,92,122,103,138,102,90,111,180,133,106,171,159,180,146,71,103,105,103,101,88,176,150,73,187,100,146,105,84,133,44,141,114,99,109,109,95,146,100,139,126,129,79,62,95,131,112,113,74,83,101,137,110,106,100,107,80,123,81,134,142,144,92,71,93,122,163,151,125,81,85,126,96,144,83,95,171,155,89,76,160,146,124,78,97,99,162,111,107,132,113,88,120,118,117,105,173,122,170,84,96,125,100,93,129,105,128,106,108,108,154,102,57,106,147,90,136,114,156,153,188,152,99,109,88,151,102,114,100,131,104,148,120,110,111,102,134,87,79,75,179,85,129,143,130,87,119,73,141,194,181,128,109,139,111,123,159,135,85,158,105,107,109,148,113,138,108,99,103,111,196,162,96,184,81,147,179,140,112,151,109,125,85,112,177,158,119,142,100,87,101,162,197,117,142,134,79,122,74,171,181,179,164,104,91,91,139,119,146,184,122,165,124,111,106,129,90,86,92,113,111,114,193,155,191,141,95,142,123,96,138,128,102,146,101,108,122,71,106,100,106,104,114,108,146,129,133,161,108,136,155,119,96,108,78,107,128,128,161,151,146,126,112,167,144,77,115,150,120,161,137,128,124,80,106,155,113,109,112,99,182,115,194,129,112,124,152,112,157,122,179,102,105,118,87,180,106,95,165,117,115,152,178,130,95,122,95,126,139,116,99,92,137,61,90,90,165,125,129,88,196,189,158,103,146,147,99,124,101,81,133,173,118,84,105,122,140,98,87,156,93,107,105,109,90,125,119,116,105,144,100,100,166,131,116,158,127,96,131,82,193,95,137,136,72,168,123,115,101,197,172,102,112,143,143,138,173,97,144,83,129,119,94,102,115,151,184,94,181,135,95,99,89,80,139,90,141,140,147,97,107,189,83,117,108,117,180,100,95,104,120,82,134,91,119,100,135,86,148,134,120,71,74,88,115,124,74,97,120,154,144,137,119,136,114,137,105,114,126,132,158,123,85,84,145,135,139,173,99,194,83,89,99,125,80,166,110,81,195,154,117,84,94,96,75,180,130,84,120,84,139,91,91,99,163,145,125,76,129,68,124,114,130,125,87,97,116,117,111,122,107,86,91,77,132,105,57,127,129,100,128,90,84,88,186,187,131,164,189,116,84,114,88,84,124,97,110,103,85,125,198,87,99,91,95,99,92,154,121,78,130,111,98,143,119,108,118,133,197,151,109,121,100,124,93,143,103,176,73,111,112,132,82,123,188,67,89,173,109,108,96,124,150,183,124,181,92,152,111,106,174,168,105,138,106,117,68,112,119,112,92,183,94,108,90,125,132,128,94,114,102,111,128,92,104,104,94,97,100,102,128,147,90,103,157,167,179,136,107,91,117,123,120,106,155,101,120,127,80,162,199,167,145,115,112,145,111,98,154,165,99,68,123,91,195,156,93,121,101,56,162,95,125,136,129,130,107,140,144,107,158,121,129,90,142,169,99,127,118,122,125,168,129,110,80,115,127,164,93,158,126,129,134,102,187,173,94,108,97,83,114,149,117,111,112,116,141,175,92,130,120,174,106,105,95,126,65,99,102,120,102,109,140,153,100,147,81,187,162,136,121,108,181,154,128,137,123,106,190,88,170,89,101,122,121,126,93],\"y0\":\" \",\"yaxis\":\"y\"}],                        {\"boxmode\":\"group\",\"legend\":{\"tracegroupgap\":0},\"margin\":{\"t\":60},\"template\":{\"data\":{\"bar\":[{\"error_x\":{\"color\":\"#2a3f5f\"},\"error_y\":{\"color\":\"#2a3f5f\"},\"marker\":{\"line\":{\"color\":\"#E5ECF6\",\"width\":0.5},\"pattern\":{\"fillmode\":\"overlay\",\"size\":10,\"solidity\":0.2}},\"type\":\"bar\"}],\"barpolar\":[{\"marker\":{\"line\":{\"color\":\"#E5ECF6\",\"width\":0.5},\"pattern\":{\"fillmode\":\"overlay\",\"size\":10,\"solidity\":0.2}},\"type\":\"barpolar\"}],\"carpet\":[{\"aaxis\":{\"endlinecolor\":\"#2a3f5f\",\"gridcolor\":\"white\",\"linecolor\":\"white\",\"minorgridcolor\":\"white\",\"startlinecolor\":\"#2a3f5f\"},\"baxis\":{\"endlinecolor\":\"#2a3f5f\",\"gridcolor\":\"white\",\"linecolor\":\"white\",\"minorgridcolor\":\"white\",\"startlinecolor\":\"#2a3f5f\"},\"type\":\"carpet\"}],\"choropleth\":[{\"colorbar\":{\"outlinewidth\":0,\"ticks\":\"\"},\"type\":\"choropleth\"}],\"contour\":[{\"colorbar\":{\"outlinewidth\":0,\"ticks\":\"\"},\"colorscale\":[[0.0,\"#0d0887\"],[0.1111111111111111,\"#46039f\"],[0.2222222222222222,\"#7201a8\"],[0.3333333333333333,\"#9c179e\"],[0.4444444444444444,\"#bd3786\"],[0.5555555555555556,\"#d8576b\"],[0.6666666666666666,\"#ed7953\"],[0.7777777777777778,\"#fb9f3a\"],[0.8888888888888888,\"#fdca26\"],[1.0,\"#f0f921\"]],\"type\":\"contour\"}],\"contourcarpet\":[{\"colorbar\":{\"outlinewidth\":0,\"ticks\":\"\"},\"type\":\"contourcarpet\"}],\"heatmap\":[{\"colorbar\":{\"outlinewidth\":0,\"ticks\":\"\"},\"colorscale\":[[0.0,\"#0d0887\"],[0.1111111111111111,\"#46039f\"],[0.2222222222222222,\"#7201a8\"],[0.3333333333333333,\"#9c179e\"],[0.4444444444444444,\"#bd3786\"],[0.5555555555555556,\"#d8576b\"],[0.6666666666666666,\"#ed7953\"],[0.7777777777777778,\"#fb9f3a\"],[0.8888888888888888,\"#fdca26\"],[1.0,\"#f0f921\"]],\"type\":\"heatmap\"}],\"heatmapgl\":[{\"colorbar\":{\"outlinewidth\":0,\"ticks\":\"\"},\"colorscale\":[[0.0,\"#0d0887\"],[0.1111111111111111,\"#46039f\"],[0.2222222222222222,\"#7201a8\"],[0.3333333333333333,\"#9c179e\"],[0.4444444444444444,\"#bd3786\"],[0.5555555555555556,\"#d8576b\"],[0.6666666666666666,\"#ed7953\"],[0.7777777777777778,\"#fb9f3a\"],[0.8888888888888888,\"#fdca26\"],[1.0,\"#f0f921\"]],\"type\":\"heatmapgl\"}],\"histogram\":[{\"marker\":{\"pattern\":{\"fillmode\":\"overlay\",\"size\":10,\"solidity\":0.2}},\"type\":\"histogram\"}],\"histogram2d\":[{\"colorbar\":{\"outlinewidth\":0,\"ticks\":\"\"},\"colorscale\":[[0.0,\"#0d0887\"],[0.1111111111111111,\"#46039f\"],[0.2222222222222222,\"#7201a8\"],[0.3333333333333333,\"#9c179e\"],[0.4444444444444444,\"#bd3786\"],[0.5555555555555556,\"#d8576b\"],[0.6666666666666666,\"#ed7953\"],[0.7777777777777778,\"#fb9f3a\"],[0.8888888888888888,\"#fdca26\"],[1.0,\"#f0f921\"]],\"type\":\"histogram2d\"}],\"histogram2dcontour\":[{\"colorbar\":{\"outlinewidth\":0,\"ticks\":\"\"},\"colorscale\":[[0.0,\"#0d0887\"],[0.1111111111111111,\"#46039f\"],[0.2222222222222222,\"#7201a8\"],[0.3333333333333333,\"#9c179e\"],[0.4444444444444444,\"#bd3786\"],[0.5555555555555556,\"#d8576b\"],[0.6666666666666666,\"#ed7953\"],[0.7777777777777778,\"#fb9f3a\"],[0.8888888888888888,\"#fdca26\"],[1.0,\"#f0f921\"]],\"type\":\"histogram2dcontour\"}],\"mesh3d\":[{\"colorbar\":{\"outlinewidth\":0,\"ticks\":\"\"},\"type\":\"mesh3d\"}],\"parcoords\":[{\"line\":{\"colorbar\":{\"outlinewidth\":0,\"ticks\":\"\"}},\"type\":\"parcoords\"}],\"pie\":[{\"automargin\":true,\"type\":\"pie\"}],\"scatter\":[{\"marker\":{\"colorbar\":{\"outlinewidth\":0,\"ticks\":\"\"}},\"type\":\"scatter\"}],\"scatter3d\":[{\"line\":{\"colorbar\":{\"outlinewidth\":0,\"ticks\":\"\"}},\"marker\":{\"colorbar\":{\"outlinewidth\":0,\"ticks\":\"\"}},\"type\":\"scatter3d\"}],\"scattercarpet\":[{\"marker\":{\"colorbar\":{\"outlinewidth\":0,\"ticks\":\"\"}},\"type\":\"scattercarpet\"}],\"scattergeo\":[{\"marker\":{\"colorbar\":{\"outlinewidth\":0,\"ticks\":\"\"}},\"type\":\"scattergeo\"}],\"scattergl\":[{\"marker\":{\"colorbar\":{\"outlinewidth\":0,\"ticks\":\"\"}},\"type\":\"scattergl\"}],\"scattermapbox\":[{\"marker\":{\"colorbar\":{\"outlinewidth\":0,\"ticks\":\"\"}},\"type\":\"scattermapbox\"}],\"scatterpolar\":[{\"marker\":{\"colorbar\":{\"outlinewidth\":0,\"ticks\":\"\"}},\"type\":\"scatterpolar\"}],\"scatterpolargl\":[{\"marker\":{\"colorbar\":{\"outlinewidth\":0,\"ticks\":\"\"}},\"type\":\"scatterpolargl\"}],\"scatterternary\":[{\"marker\":{\"colorbar\":{\"outlinewidth\":0,\"ticks\":\"\"}},\"type\":\"scatterternary\"}],\"surface\":[{\"colorbar\":{\"outlinewidth\":0,\"ticks\":\"\"},\"colorscale\":[[0.0,\"#0d0887\"],[0.1111111111111111,\"#46039f\"],[0.2222222222222222,\"#7201a8\"],[0.3333333333333333,\"#9c179e\"],[0.4444444444444444,\"#bd3786\"],[0.5555555555555556,\"#d8576b\"],[0.6666666666666666,\"#ed7953\"],[0.7777777777777778,\"#fb9f3a\"],[0.8888888888888888,\"#fdca26\"],[1.0,\"#f0f921\"]],\"type\":\"surface\"}],\"table\":[{\"cells\":{\"fill\":{\"color\":\"#EBF0F8\"},\"line\":{\"color\":\"white\"}},\"header\":{\"fill\":{\"color\":\"#C8D4E3\"},\"line\":{\"color\":\"white\"}},\"type\":\"table\"}]},\"layout\":{\"annotationdefaults\":{\"arrowcolor\":\"#2a3f5f\",\"arrowhead\":0,\"arrowwidth\":1},\"autotypenumbers\":\"strict\",\"coloraxis\":{\"colorbar\":{\"outlinewidth\":0,\"ticks\":\"\"}},\"colorscale\":{\"diverging\":[[0,\"#8e0152\"],[0.1,\"#c51b7d\"],[0.2,\"#de77ae\"],[0.3,\"#f1b6da\"],[0.4,\"#fde0ef\"],[0.5,\"#f7f7f7\"],[0.6,\"#e6f5d0\"],[0.7,\"#b8e186\"],[0.8,\"#7fbc41\"],[0.9,\"#4d9221\"],[1,\"#276419\"]],\"sequential\":[[0.0,\"#0d0887\"],[0.1111111111111111,\"#46039f\"],[0.2222222222222222,\"#7201a8\"],[0.3333333333333333,\"#9c179e\"],[0.4444444444444444,\"#bd3786\"],[0.5555555555555556,\"#d8576b\"],[0.6666666666666666,\"#ed7953\"],[0.7777777777777778,\"#fb9f3a\"],[0.8888888888888888,\"#fdca26\"],[1.0,\"#f0f921\"]],\"sequentialminus\":[[0.0,\"#0d0887\"],[0.1111111111111111,\"#46039f\"],[0.2222222222222222,\"#7201a8\"],[0.3333333333333333,\"#9c179e\"],[0.4444444444444444,\"#bd3786\"],[0.5555555555555556,\"#d8576b\"],[0.6666666666666666,\"#ed7953\"],[0.7777777777777778,\"#fb9f3a\"],[0.8888888888888888,\"#fdca26\"],[1.0,\"#f0f921\"]]},\"colorway\":[\"#636efa\",\"#EF553B\",\"#00cc96\",\"#ab63fa\",\"#FFA15A\",\"#19d3f3\",\"#FF6692\",\"#B6E880\",\"#FF97FF\",\"#FECB52\"],\"font\":{\"color\":\"#2a3f5f\"},\"geo\":{\"bgcolor\":\"white\",\"lakecolor\":\"white\",\"landcolor\":\"#E5ECF6\",\"showlakes\":true,\"showland\":true,\"subunitcolor\":\"white\"},\"hoverlabel\":{\"align\":\"left\"},\"hovermode\":\"closest\",\"mapbox\":{\"style\":\"light\"},\"paper_bgcolor\":\"white\",\"plot_bgcolor\":\"#E5ECF6\",\"polar\":{\"angularaxis\":{\"gridcolor\":\"white\",\"linecolor\":\"white\",\"ticks\":\"\"},\"bgcolor\":\"#E5ECF6\",\"radialaxis\":{\"gridcolor\":\"white\",\"linecolor\":\"white\",\"ticks\":\"\"}},\"scene\":{\"xaxis\":{\"backgroundcolor\":\"#E5ECF6\",\"gridcolor\":\"white\",\"gridwidth\":2,\"linecolor\":\"white\",\"showbackground\":true,\"ticks\":\"\",\"zerolinecolor\":\"white\"},\"yaxis\":{\"backgroundcolor\":\"#E5ECF6\",\"gridcolor\":\"white\",\"gridwidth\":2,\"linecolor\":\"white\",\"showbackground\":true,\"ticks\":\"\",\"zerolinecolor\":\"white\"},\"zaxis\":{\"backgroundcolor\":\"#E5ECF6\",\"gridcolor\":\"white\",\"gridwidth\":2,\"linecolor\":\"white\",\"showbackground\":true,\"ticks\":\"\",\"zerolinecolor\":\"white\"}},\"shapedefaults\":{\"line\":{\"color\":\"#2a3f5f\"}},\"ternary\":{\"aaxis\":{\"gridcolor\":\"white\",\"linecolor\":\"white\",\"ticks\":\"\"},\"baxis\":{\"gridcolor\":\"white\",\"linecolor\":\"white\",\"ticks\":\"\"},\"bgcolor\":\"#E5ECF6\",\"caxis\":{\"gridcolor\":\"white\",\"linecolor\":\"white\",\"ticks\":\"\"}},\"title\":{\"x\":0.05},\"xaxis\":{\"automargin\":true,\"gridcolor\":\"white\",\"linecolor\":\"white\",\"ticks\":\"\",\"title\":{\"standoff\":15},\"zerolinecolor\":\"white\",\"zerolinewidth\":2},\"yaxis\":{\"automargin\":true,\"gridcolor\":\"white\",\"linecolor\":\"white\",\"ticks\":\"\",\"title\":{\"standoff\":15},\"zerolinecolor\":\"white\",\"zerolinewidth\":2}}},\"xaxis\":{\"anchor\":\"y\",\"domain\":[0.0,1.0],\"title\":{\"text\":\"variable\"}},\"yaxis\":{\"anchor\":\"x\",\"domain\":[0.0,1.0],\"title\":{\"text\":\"value\"}}},                        {\"responsive\": true}                    ).then(function(){\n",
       "                            \n",
       "var gd = document.getElementById('e660666e-87d2-4a00-a88b-f9231a0e7533');\n",
       "var x = new MutationObserver(function (mutations, observer) {{\n",
       "        var display = window.getComputedStyle(gd).display;\n",
       "        if (!display || display === 'none') {{\n",
       "            console.log([gd, 'removed!']);\n",
       "            Plotly.purge(gd);\n",
       "            observer.disconnect();\n",
       "        }}\n",
       "}});\n",
       "\n",
       "// Listen for the removal of the full notebook cells\n",
       "var notebookContainer = gd.closest('#notebook-container');\n",
       "if (notebookContainer) {{\n",
       "    x.observe(notebookContainer, {childList: true});\n",
       "}}\n",
       "\n",
       "// Listen for the clearing of the current output cell\n",
       "var outputEl = gd.closest('.output');\n",
       "if (outputEl) {{\n",
       "    x.observe(outputEl, {childList: true});\n",
       "}}\n",
       "\n",
       "                        })                };                });            </script>        </div>"
      ]
     },
     "metadata": {},
     "output_type": "display_data"
    }
   ],
   "source": [
    "px.box(df['glu'])"
   ]
  },
  {
   "cell_type": "code",
   "execution_count": 104,
   "id": "7e9cb46b",
   "metadata": {},
   "outputs": [
    {
     "data": {
      "application/vnd.plotly.v1+json": {
       "config": {
        "plotlyServerURL": "https://plot.ly"
       },
       "data": [
        {
         "alignmentgroup": "True",
         "hovertemplate": "variable=%{x}<br>value=%{y}<extra></extra>",
         "legendgroup": "",
         "marker": {
          "color": "#636efa"
         },
         "name": "",
         "notched": false,
         "offsetgroup": "",
         "orientation": "v",
         "showlegend": false,
         "type": "box",
         "x": [
          "bp",
          "bp",
          "bp",
          "bp",
          "bp",
          "bp",
          "bp",
          "bp",
          "bp",
          "bp",
          "bp",
          "bp",
          "bp",
          "bp",
          "bp",
          "bp",
          "bp",
          "bp",
          "bp",
          "bp",
          "bp",
          "bp",
          "bp",
          "bp",
          "bp",
          "bp",
          "bp",
          "bp",
          "bp",
          "bp",
          "bp",
          "bp",
          "bp",
          "bp",
          "bp",
          "bp",
          "bp",
          "bp",
          "bp",
          "bp",
          "bp",
          "bp",
          "bp",
          "bp",
          "bp",
          "bp",
          "bp",
          "bp",
          "bp",
          "bp",
          "bp",
          "bp",
          "bp",
          "bp",
          "bp",
          "bp",
          "bp",
          "bp",
          "bp",
          "bp",
          "bp",
          "bp",
          "bp",
          "bp",
          "bp",
          "bp",
          "bp",
          "bp",
          "bp",
          "bp",
          "bp",
          "bp",
          "bp",
          "bp",
          "bp",
          "bp",
          "bp",
          "bp",
          "bp",
          "bp",
          "bp",
          "bp",
          "bp",
          "bp",
          "bp",
          "bp",
          "bp",
          "bp",
          "bp",
          "bp",
          "bp",
          "bp",
          "bp",
          "bp",
          "bp",
          "bp",
          "bp",
          "bp",
          "bp",
          "bp",
          "bp",
          "bp",
          "bp",
          "bp",
          "bp",
          "bp",
          "bp",
          "bp",
          "bp",
          "bp",
          "bp",
          "bp",
          "bp",
          "bp",
          "bp",
          "bp",
          "bp",
          "bp",
          "bp",
          "bp",
          "bp",
          "bp",
          "bp",
          "bp",
          "bp",
          "bp",
          "bp",
          "bp",
          "bp",
          "bp",
          "bp",
          "bp",
          "bp",
          "bp",
          "bp",
          "bp",
          "bp",
          "bp",
          "bp",
          "bp",
          "bp",
          "bp",
          "bp",
          "bp",
          "bp",
          "bp",
          "bp",
          "bp",
          "bp",
          "bp",
          "bp",
          "bp",
          "bp",
          "bp",
          "bp",
          "bp",
          "bp",
          "bp",
          "bp",
          "bp",
          "bp",
          "bp",
          "bp",
          "bp",
          "bp",
          "bp",
          "bp",
          "bp",
          "bp",
          "bp",
          "bp",
          "bp",
          "bp",
          "bp",
          "bp",
          "bp",
          "bp",
          "bp",
          "bp",
          "bp",
          "bp",
          "bp",
          "bp",
          "bp",
          "bp",
          "bp",
          "bp",
          "bp",
          "bp",
          "bp",
          "bp",
          "bp",
          "bp",
          "bp",
          "bp",
          "bp",
          "bp",
          "bp",
          "bp",
          "bp",
          "bp",
          "bp",
          "bp",
          "bp",
          "bp",
          "bp",
          "bp",
          "bp",
          "bp",
          "bp",
          "bp",
          "bp",
          "bp",
          "bp",
          "bp",
          "bp",
          "bp",
          "bp",
          "bp",
          "bp",
          "bp",
          "bp",
          "bp",
          "bp",
          "bp",
          "bp",
          "bp",
          "bp",
          "bp",
          "bp",
          "bp",
          "bp",
          "bp",
          "bp",
          "bp",
          "bp",
          "bp",
          "bp",
          "bp",
          "bp",
          "bp",
          "bp",
          "bp",
          "bp",
          "bp",
          "bp",
          "bp",
          "bp",
          "bp",
          "bp",
          "bp",
          "bp",
          "bp",
          "bp",
          "bp",
          "bp",
          "bp",
          "bp",
          "bp",
          "bp",
          "bp",
          "bp",
          "bp",
          "bp",
          "bp",
          "bp",
          "bp",
          "bp",
          "bp",
          "bp",
          "bp",
          "bp",
          "bp",
          "bp",
          "bp",
          "bp",
          "bp",
          "bp",
          "bp",
          "bp",
          "bp",
          "bp",
          "bp",
          "bp",
          "bp",
          "bp",
          "bp",
          "bp",
          "bp",
          "bp",
          "bp",
          "bp",
          "bp",
          "bp",
          "bp",
          "bp",
          "bp",
          "bp",
          "bp",
          "bp",
          "bp",
          "bp",
          "bp",
          "bp",
          "bp",
          "bp",
          "bp",
          "bp",
          "bp",
          "bp",
          "bp",
          "bp",
          "bp",
          "bp",
          "bp",
          "bp",
          "bp",
          "bp",
          "bp",
          "bp",
          "bp",
          "bp",
          "bp",
          "bp",
          "bp",
          "bp",
          "bp",
          "bp",
          "bp",
          "bp",
          "bp",
          "bp",
          "bp",
          "bp",
          "bp",
          "bp",
          "bp",
          "bp",
          "bp",
          "bp",
          "bp",
          "bp",
          "bp",
          "bp",
          "bp",
          "bp",
          "bp",
          "bp",
          "bp",
          "bp",
          "bp",
          "bp",
          "bp",
          "bp",
          "bp",
          "bp",
          "bp",
          "bp",
          "bp",
          "bp",
          "bp",
          "bp",
          "bp",
          "bp",
          "bp",
          "bp",
          "bp",
          "bp",
          "bp",
          "bp",
          "bp",
          "bp",
          "bp",
          "bp",
          "bp",
          "bp",
          "bp",
          "bp",
          "bp",
          "bp",
          "bp",
          "bp",
          "bp",
          "bp",
          "bp",
          "bp",
          "bp",
          "bp",
          "bp",
          "bp",
          "bp",
          "bp",
          "bp",
          "bp",
          "bp",
          "bp",
          "bp",
          "bp",
          "bp",
          "bp",
          "bp",
          "bp",
          "bp",
          "bp",
          "bp",
          "bp",
          "bp",
          "bp",
          "bp",
          "bp",
          "bp",
          "bp",
          "bp",
          "bp",
          "bp",
          "bp",
          "bp",
          "bp",
          "bp",
          "bp",
          "bp",
          "bp",
          "bp",
          "bp",
          "bp",
          "bp",
          "bp",
          "bp",
          "bp",
          "bp",
          "bp",
          "bp",
          "bp",
          "bp",
          "bp",
          "bp",
          "bp",
          "bp",
          "bp",
          "bp",
          "bp",
          "bp",
          "bp",
          "bp",
          "bp",
          "bp",
          "bp",
          "bp",
          "bp",
          "bp",
          "bp",
          "bp",
          "bp",
          "bp",
          "bp",
          "bp",
          "bp",
          "bp",
          "bp",
          "bp",
          "bp",
          "bp",
          "bp",
          "bp",
          "bp",
          "bp",
          "bp",
          "bp",
          "bp",
          "bp",
          "bp",
          "bp",
          "bp",
          "bp",
          "bp",
          "bp",
          "bp",
          "bp",
          "bp",
          "bp",
          "bp",
          "bp",
          "bp",
          "bp",
          "bp",
          "bp",
          "bp",
          "bp",
          "bp",
          "bp",
          "bp",
          "bp",
          "bp",
          "bp",
          "bp",
          "bp",
          "bp",
          "bp",
          "bp",
          "bp",
          "bp",
          "bp",
          "bp",
          "bp",
          "bp",
          "bp",
          "bp",
          "bp",
          "bp",
          "bp",
          "bp",
          "bp",
          "bp",
          "bp",
          "bp",
          "bp",
          "bp",
          "bp",
          "bp",
          "bp",
          "bp",
          "bp",
          "bp",
          "bp",
          "bp",
          "bp",
          "bp",
          "bp",
          "bp",
          "bp",
          "bp",
          "bp",
          "bp",
          "bp",
          "bp",
          "bp",
          "bp",
          "bp",
          "bp",
          "bp",
          "bp",
          "bp",
          "bp",
          "bp",
          "bp",
          "bp",
          "bp",
          "bp",
          "bp",
          "bp",
          "bp",
          "bp",
          "bp",
          "bp",
          "bp",
          "bp",
          "bp",
          "bp",
          "bp",
          "bp",
          "bp",
          "bp",
          "bp",
          "bp",
          "bp",
          "bp",
          "bp",
          "bp",
          "bp",
          "bp",
          "bp",
          "bp",
          "bp",
          "bp",
          "bp",
          "bp",
          "bp",
          "bp",
          "bp",
          "bp",
          "bp",
          "bp",
          "bp",
          "bp",
          "bp",
          "bp",
          "bp",
          "bp",
          "bp",
          "bp",
          "bp",
          "bp",
          "bp",
          "bp",
          "bp",
          "bp",
          "bp",
          "bp",
          "bp",
          "bp",
          "bp",
          "bp",
          "bp",
          "bp",
          "bp",
          "bp",
          "bp",
          "bp",
          "bp",
          "bp",
          "bp",
          "bp",
          "bp",
          "bp",
          "bp",
          "bp",
          "bp",
          "bp",
          "bp",
          "bp",
          "bp",
          "bp",
          "bp",
          "bp",
          "bp",
          "bp",
          "bp",
          "bp",
          "bp",
          "bp",
          "bp",
          "bp",
          "bp",
          "bp",
          "bp",
          "bp",
          "bp",
          "bp",
          "bp",
          "bp",
          "bp",
          "bp",
          "bp",
          "bp",
          "bp",
          "bp",
          "bp",
          "bp",
          "bp",
          "bp",
          "bp",
          "bp",
          "bp",
          "bp",
          "bp",
          "bp",
          "bp",
          "bp",
          "bp",
          "bp",
          "bp",
          "bp",
          "bp",
          "bp",
          "bp",
          "bp",
          "bp",
          "bp",
          "bp",
          "bp",
          "bp",
          "bp",
          "bp",
          "bp",
          "bp",
          "bp",
          "bp",
          "bp",
          "bp",
          "bp",
          "bp",
          "bp",
          "bp",
          "bp",
          "bp",
          "bp",
          "bp",
          "bp",
          "bp",
          "bp",
          "bp",
          "bp",
          "bp",
          "bp",
          "bp",
          "bp",
          "bp",
          "bp",
          "bp",
          "bp",
          "bp",
          "bp",
          "bp",
          "bp",
          "bp",
          "bp",
          "bp",
          "bp",
          "bp",
          "bp",
          "bp",
          "bp",
          "bp",
          "bp",
          "bp",
          "bp",
          "bp",
          "bp",
          "bp",
          "bp",
          "bp",
          "bp",
          "bp",
          "bp",
          "bp",
          "bp",
          "bp",
          "bp",
          "bp",
          "bp",
          "bp",
          "bp",
          "bp",
          "bp",
          "bp",
          "bp",
          "bp",
          "bp",
          "bp",
          "bp",
          "bp",
          "bp",
          "bp",
          "bp",
          "bp",
          "bp",
          "bp",
          "bp",
          "bp",
          "bp",
          "bp",
          "bp",
          "bp",
          "bp",
          "bp",
          "bp",
          "bp",
          "bp",
          "bp"
         ],
         "x0": " ",
         "xaxis": "x",
         "y": [
          72,
          66,
          64,
          66,
          40,
          74,
          50,
          0,
          70,
          96,
          92,
          74,
          80,
          60,
          72,
          0,
          84,
          74,
          30,
          70,
          88,
          84,
          90,
          80,
          94,
          70,
          76,
          66,
          82,
          92,
          75,
          76,
          58,
          92,
          78,
          60,
          76,
          76,
          68,
          72,
          64,
          84,
          92,
          110,
          64,
          66,
          56,
          70,
          66,
          0,
          80,
          50,
          66,
          90,
          66,
          50,
          68,
          88,
          82,
          64,
          0,
          72,
          62,
          58,
          66,
          74,
          88,
          92,
          66,
          85,
          66,
          64,
          90,
          86,
          75,
          78,
          72,
          0,
          66,
          44,
          0,
          78,
          65,
          108,
          74,
          72,
          68,
          68,
          55,
          80,
          78,
          72,
          82,
          72,
          62,
          48,
          50,
          90,
          72,
          60,
          96,
          72,
          65,
          56,
          122,
          58,
          58,
          85,
          72,
          62,
          76,
          62,
          54,
          92,
          74,
          48,
          60,
          76,
          76,
          64,
          74,
          80,
          76,
          30,
          70,
          58,
          88,
          84,
          70,
          56,
          64,
          74,
          68,
          60,
          70,
          60,
          80,
          72,
          78,
          82,
          52,
          66,
          62,
          75,
          80,
          64,
          78,
          70,
          74,
          65,
          86,
          82,
          78,
          88,
          52,
          56,
          74,
          90,
          74,
          80,
          64,
          88,
          74,
          66,
          68,
          66,
          90,
          82,
          70,
          0,
          60,
          64,
          72,
          78,
          110,
          78,
          82,
          80,
          64,
          60,
          74,
          68,
          68,
          98,
          76,
          80,
          62,
          70,
          66,
          0,
          55,
          84,
          58,
          62,
          64,
          60,
          80,
          82,
          68,
          70,
          72,
          72,
          76,
          104,
          64,
          84,
          60,
          85,
          95,
          65,
          82,
          70,
          62,
          68,
          74,
          66,
          60,
          90,
          0,
          60,
          66,
          78,
          76,
          52,
          70,
          80,
          86,
          80,
          80,
          68,
          68,
          72,
          84,
          90,
          84,
          76,
          64,
          70,
          54,
          50,
          76,
          85,
          68,
          90,
          70,
          86,
          52,
          84,
          80,
          68,
          62,
          64,
          56,
          68,
          50,
          76,
          68,
          0,
          70,
          80,
          62,
          74,
          0,
          64,
          52,
          0,
          86,
          62,
          78,
          78,
          70,
          70,
          60,
          64,
          74,
          62,
          70,
          76,
          88,
          86,
          80,
          74,
          84,
          86,
          56,
          72,
          88,
          62,
          78,
          48,
          50,
          62,
          70,
          84,
          72,
          0,
          58,
          82,
          98,
          76,
          76,
          68,
          68,
          68,
          68,
          66,
          70,
          74,
          50,
          80,
          68,
          80,
          74,
          66,
          78,
          60,
          74,
          70,
          90,
          75,
          72,
          64,
          70,
          86,
          70,
          72,
          58,
          0,
          80,
          60,
          76,
          0,
          76,
          78,
          84,
          70,
          74,
          86,
          72,
          88,
          46,
          0,
          62,
          80,
          84,
          82,
          62,
          78,
          88,
          50,
          0,
          74,
          76,
          64,
          70,
          108,
          78,
          74,
          54,
          72,
          64,
          86,
          102,
          82,
          64,
          64,
          58,
          52,
          82,
          82,
          60,
          75,
          100,
          72,
          68,
          60,
          62,
          70,
          54,
          74,
          100,
          82,
          68,
          66,
          76,
          64,
          72,
          78,
          58,
          56,
          66,
          70,
          70,
          64,
          61,
          84,
          78,
          64,
          48,
          72,
          62,
          74,
          68,
          90,
          72,
          84,
          74,
          60,
          84,
          68,
          82,
          68,
          64,
          88,
          68,
          64,
          64,
          78,
          78,
          0,
          64,
          94,
          82,
          0,
          74,
          74,
          75,
          68,
          0,
          85,
          75,
          70,
          88,
          104,
          66,
          64,
          70,
          62,
          78,
          72,
          80,
          64,
          74,
          64,
          70,
          68,
          0,
          54,
          54,
          68,
          84,
          74,
          72,
          62,
          70,
          78,
          98,
          56,
          52,
          64,
          0,
          78,
          82,
          70,
          66,
          90,
          64,
          84,
          80,
          76,
          74,
          86,
          70,
          88,
          58,
          82,
          0,
          68,
          62,
          78,
          72,
          80,
          65,
          90,
          68,
          70,
          0,
          74,
          68,
          72,
          70,
          74,
          90,
          72,
          64,
          78,
          82,
          90,
          60,
          50,
          78,
          72,
          62,
          68,
          62,
          54,
          70,
          88,
          86,
          60,
          90,
          70,
          80,
          0,
          70,
          58,
          60,
          64,
          74,
          66,
          65,
          60,
          76,
          66,
          0,
          56,
          0,
          90,
          60,
          80,
          92,
          74,
          72,
          85,
          90,
          78,
          90,
          76,
          68,
          82,
          110,
          70,
          68,
          88,
          62,
          64,
          70,
          70,
          76,
          68,
          74,
          76,
          66,
          68,
          60,
          80,
          54,
          72,
          62,
          72,
          66,
          70,
          96,
          58,
          60,
          86,
          44,
          44,
          80,
          68,
          70,
          90,
          60,
          78,
          76,
          76,
          56,
          66,
          66,
          86,
          0,
          84,
          78,
          80,
          52,
          72,
          82,
          76,
          24,
          74,
          38,
          88,
          0,
          74,
          78,
          0,
          60,
          78,
          62,
          82,
          62,
          54,
          58,
          88,
          80,
          74,
          72,
          96,
          62,
          82,
          0,
          86,
          76,
          94,
          70,
          64,
          88,
          68,
          78,
          80,
          65,
          64,
          78,
          60,
          82,
          62,
          72,
          74,
          76,
          76,
          74,
          86,
          70,
          80,
          0,
          72,
          74,
          74,
          50,
          84,
          60,
          54,
          60,
          74,
          54,
          70,
          52,
          58,
          80,
          106,
          82,
          84,
          76,
          106,
          80,
          60,
          80,
          82,
          70,
          58,
          78,
          68,
          58,
          106,
          100,
          82,
          70,
          86,
          60,
          52,
          58,
          56,
          76,
          64,
          80,
          82,
          74,
          64,
          50,
          74,
          82,
          80,
          114,
          70,
          68,
          60,
          90,
          74,
          0,
          88,
          70,
          76,
          78,
          88,
          0,
          76,
          80,
          0,
          46,
          78,
          64,
          64,
          78,
          62,
          58,
          74,
          50,
          78,
          72,
          60,
          76,
          86,
          66,
          68,
          86,
          94,
          78,
          78,
          84,
          88,
          52,
          78,
          86,
          88,
          56,
          75,
          60,
          86,
          72,
          60,
          74,
          80,
          44,
          58,
          94,
          88,
          84,
          94,
          74,
          70,
          62,
          70,
          78,
          62,
          88,
          78,
          88,
          90,
          72,
          76,
          92,
          58,
          74,
          62,
          76,
          70,
          72,
          60,
          70
         ],
         "y0": " ",
         "yaxis": "y"
        }
       ],
       "layout": {
        "boxmode": "group",
        "legend": {
         "tracegroupgap": 0
        },
        "margin": {
         "t": 60
        },
        "template": {
         "data": {
          "bar": [
           {
            "error_x": {
             "color": "#2a3f5f"
            },
            "error_y": {
             "color": "#2a3f5f"
            },
            "marker": {
             "line": {
              "color": "#E5ECF6",
              "width": 0.5
             },
             "pattern": {
              "fillmode": "overlay",
              "size": 10,
              "solidity": 0.2
             }
            },
            "type": "bar"
           }
          ],
          "barpolar": [
           {
            "marker": {
             "line": {
              "color": "#E5ECF6",
              "width": 0.5
             },
             "pattern": {
              "fillmode": "overlay",
              "size": 10,
              "solidity": 0.2
             }
            },
            "type": "barpolar"
           }
          ],
          "carpet": [
           {
            "aaxis": {
             "endlinecolor": "#2a3f5f",
             "gridcolor": "white",
             "linecolor": "white",
             "minorgridcolor": "white",
             "startlinecolor": "#2a3f5f"
            },
            "baxis": {
             "endlinecolor": "#2a3f5f",
             "gridcolor": "white",
             "linecolor": "white",
             "minorgridcolor": "white",
             "startlinecolor": "#2a3f5f"
            },
            "type": "carpet"
           }
          ],
          "choropleth": [
           {
            "colorbar": {
             "outlinewidth": 0,
             "ticks": ""
            },
            "type": "choropleth"
           }
          ],
          "contour": [
           {
            "colorbar": {
             "outlinewidth": 0,
             "ticks": ""
            },
            "colorscale": [
             [
              0,
              "#0d0887"
             ],
             [
              0.1111111111111111,
              "#46039f"
             ],
             [
              0.2222222222222222,
              "#7201a8"
             ],
             [
              0.3333333333333333,
              "#9c179e"
             ],
             [
              0.4444444444444444,
              "#bd3786"
             ],
             [
              0.5555555555555556,
              "#d8576b"
             ],
             [
              0.6666666666666666,
              "#ed7953"
             ],
             [
              0.7777777777777778,
              "#fb9f3a"
             ],
             [
              0.8888888888888888,
              "#fdca26"
             ],
             [
              1,
              "#f0f921"
             ]
            ],
            "type": "contour"
           }
          ],
          "contourcarpet": [
           {
            "colorbar": {
             "outlinewidth": 0,
             "ticks": ""
            },
            "type": "contourcarpet"
           }
          ],
          "heatmap": [
           {
            "colorbar": {
             "outlinewidth": 0,
             "ticks": ""
            },
            "colorscale": [
             [
              0,
              "#0d0887"
             ],
             [
              0.1111111111111111,
              "#46039f"
             ],
             [
              0.2222222222222222,
              "#7201a8"
             ],
             [
              0.3333333333333333,
              "#9c179e"
             ],
             [
              0.4444444444444444,
              "#bd3786"
             ],
             [
              0.5555555555555556,
              "#d8576b"
             ],
             [
              0.6666666666666666,
              "#ed7953"
             ],
             [
              0.7777777777777778,
              "#fb9f3a"
             ],
             [
              0.8888888888888888,
              "#fdca26"
             ],
             [
              1,
              "#f0f921"
             ]
            ],
            "type": "heatmap"
           }
          ],
          "heatmapgl": [
           {
            "colorbar": {
             "outlinewidth": 0,
             "ticks": ""
            },
            "colorscale": [
             [
              0,
              "#0d0887"
             ],
             [
              0.1111111111111111,
              "#46039f"
             ],
             [
              0.2222222222222222,
              "#7201a8"
             ],
             [
              0.3333333333333333,
              "#9c179e"
             ],
             [
              0.4444444444444444,
              "#bd3786"
             ],
             [
              0.5555555555555556,
              "#d8576b"
             ],
             [
              0.6666666666666666,
              "#ed7953"
             ],
             [
              0.7777777777777778,
              "#fb9f3a"
             ],
             [
              0.8888888888888888,
              "#fdca26"
             ],
             [
              1,
              "#f0f921"
             ]
            ],
            "type": "heatmapgl"
           }
          ],
          "histogram": [
           {
            "marker": {
             "pattern": {
              "fillmode": "overlay",
              "size": 10,
              "solidity": 0.2
             }
            },
            "type": "histogram"
           }
          ],
          "histogram2d": [
           {
            "colorbar": {
             "outlinewidth": 0,
             "ticks": ""
            },
            "colorscale": [
             [
              0,
              "#0d0887"
             ],
             [
              0.1111111111111111,
              "#46039f"
             ],
             [
              0.2222222222222222,
              "#7201a8"
             ],
             [
              0.3333333333333333,
              "#9c179e"
             ],
             [
              0.4444444444444444,
              "#bd3786"
             ],
             [
              0.5555555555555556,
              "#d8576b"
             ],
             [
              0.6666666666666666,
              "#ed7953"
             ],
             [
              0.7777777777777778,
              "#fb9f3a"
             ],
             [
              0.8888888888888888,
              "#fdca26"
             ],
             [
              1,
              "#f0f921"
             ]
            ],
            "type": "histogram2d"
           }
          ],
          "histogram2dcontour": [
           {
            "colorbar": {
             "outlinewidth": 0,
             "ticks": ""
            },
            "colorscale": [
             [
              0,
              "#0d0887"
             ],
             [
              0.1111111111111111,
              "#46039f"
             ],
             [
              0.2222222222222222,
              "#7201a8"
             ],
             [
              0.3333333333333333,
              "#9c179e"
             ],
             [
              0.4444444444444444,
              "#bd3786"
             ],
             [
              0.5555555555555556,
              "#d8576b"
             ],
             [
              0.6666666666666666,
              "#ed7953"
             ],
             [
              0.7777777777777778,
              "#fb9f3a"
             ],
             [
              0.8888888888888888,
              "#fdca26"
             ],
             [
              1,
              "#f0f921"
             ]
            ],
            "type": "histogram2dcontour"
           }
          ],
          "mesh3d": [
           {
            "colorbar": {
             "outlinewidth": 0,
             "ticks": ""
            },
            "type": "mesh3d"
           }
          ],
          "parcoords": [
           {
            "line": {
             "colorbar": {
              "outlinewidth": 0,
              "ticks": ""
             }
            },
            "type": "parcoords"
           }
          ],
          "pie": [
           {
            "automargin": true,
            "type": "pie"
           }
          ],
          "scatter": [
           {
            "marker": {
             "colorbar": {
              "outlinewidth": 0,
              "ticks": ""
             }
            },
            "type": "scatter"
           }
          ],
          "scatter3d": [
           {
            "line": {
             "colorbar": {
              "outlinewidth": 0,
              "ticks": ""
             }
            },
            "marker": {
             "colorbar": {
              "outlinewidth": 0,
              "ticks": ""
             }
            },
            "type": "scatter3d"
           }
          ],
          "scattercarpet": [
           {
            "marker": {
             "colorbar": {
              "outlinewidth": 0,
              "ticks": ""
             }
            },
            "type": "scattercarpet"
           }
          ],
          "scattergeo": [
           {
            "marker": {
             "colorbar": {
              "outlinewidth": 0,
              "ticks": ""
             }
            },
            "type": "scattergeo"
           }
          ],
          "scattergl": [
           {
            "marker": {
             "colorbar": {
              "outlinewidth": 0,
              "ticks": ""
             }
            },
            "type": "scattergl"
           }
          ],
          "scattermapbox": [
           {
            "marker": {
             "colorbar": {
              "outlinewidth": 0,
              "ticks": ""
             }
            },
            "type": "scattermapbox"
           }
          ],
          "scatterpolar": [
           {
            "marker": {
             "colorbar": {
              "outlinewidth": 0,
              "ticks": ""
             }
            },
            "type": "scatterpolar"
           }
          ],
          "scatterpolargl": [
           {
            "marker": {
             "colorbar": {
              "outlinewidth": 0,
              "ticks": ""
             }
            },
            "type": "scatterpolargl"
           }
          ],
          "scatterternary": [
           {
            "marker": {
             "colorbar": {
              "outlinewidth": 0,
              "ticks": ""
             }
            },
            "type": "scatterternary"
           }
          ],
          "surface": [
           {
            "colorbar": {
             "outlinewidth": 0,
             "ticks": ""
            },
            "colorscale": [
             [
              0,
              "#0d0887"
             ],
             [
              0.1111111111111111,
              "#46039f"
             ],
             [
              0.2222222222222222,
              "#7201a8"
             ],
             [
              0.3333333333333333,
              "#9c179e"
             ],
             [
              0.4444444444444444,
              "#bd3786"
             ],
             [
              0.5555555555555556,
              "#d8576b"
             ],
             [
              0.6666666666666666,
              "#ed7953"
             ],
             [
              0.7777777777777778,
              "#fb9f3a"
             ],
             [
              0.8888888888888888,
              "#fdca26"
             ],
             [
              1,
              "#f0f921"
             ]
            ],
            "type": "surface"
           }
          ],
          "table": [
           {
            "cells": {
             "fill": {
              "color": "#EBF0F8"
             },
             "line": {
              "color": "white"
             }
            },
            "header": {
             "fill": {
              "color": "#C8D4E3"
             },
             "line": {
              "color": "white"
             }
            },
            "type": "table"
           }
          ]
         },
         "layout": {
          "annotationdefaults": {
           "arrowcolor": "#2a3f5f",
           "arrowhead": 0,
           "arrowwidth": 1
          },
          "autotypenumbers": "strict",
          "coloraxis": {
           "colorbar": {
            "outlinewidth": 0,
            "ticks": ""
           }
          },
          "colorscale": {
           "diverging": [
            [
             0,
             "#8e0152"
            ],
            [
             0.1,
             "#c51b7d"
            ],
            [
             0.2,
             "#de77ae"
            ],
            [
             0.3,
             "#f1b6da"
            ],
            [
             0.4,
             "#fde0ef"
            ],
            [
             0.5,
             "#f7f7f7"
            ],
            [
             0.6,
             "#e6f5d0"
            ],
            [
             0.7,
             "#b8e186"
            ],
            [
             0.8,
             "#7fbc41"
            ],
            [
             0.9,
             "#4d9221"
            ],
            [
             1,
             "#276419"
            ]
           ],
           "sequential": [
            [
             0,
             "#0d0887"
            ],
            [
             0.1111111111111111,
             "#46039f"
            ],
            [
             0.2222222222222222,
             "#7201a8"
            ],
            [
             0.3333333333333333,
             "#9c179e"
            ],
            [
             0.4444444444444444,
             "#bd3786"
            ],
            [
             0.5555555555555556,
             "#d8576b"
            ],
            [
             0.6666666666666666,
             "#ed7953"
            ],
            [
             0.7777777777777778,
             "#fb9f3a"
            ],
            [
             0.8888888888888888,
             "#fdca26"
            ],
            [
             1,
             "#f0f921"
            ]
           ],
           "sequentialminus": [
            [
             0,
             "#0d0887"
            ],
            [
             0.1111111111111111,
             "#46039f"
            ],
            [
             0.2222222222222222,
             "#7201a8"
            ],
            [
             0.3333333333333333,
             "#9c179e"
            ],
            [
             0.4444444444444444,
             "#bd3786"
            ],
            [
             0.5555555555555556,
             "#d8576b"
            ],
            [
             0.6666666666666666,
             "#ed7953"
            ],
            [
             0.7777777777777778,
             "#fb9f3a"
            ],
            [
             0.8888888888888888,
             "#fdca26"
            ],
            [
             1,
             "#f0f921"
            ]
           ]
          },
          "colorway": [
           "#636efa",
           "#EF553B",
           "#00cc96",
           "#ab63fa",
           "#FFA15A",
           "#19d3f3",
           "#FF6692",
           "#B6E880",
           "#FF97FF",
           "#FECB52"
          ],
          "font": {
           "color": "#2a3f5f"
          },
          "geo": {
           "bgcolor": "white",
           "lakecolor": "white",
           "landcolor": "#E5ECF6",
           "showlakes": true,
           "showland": true,
           "subunitcolor": "white"
          },
          "hoverlabel": {
           "align": "left"
          },
          "hovermode": "closest",
          "mapbox": {
           "style": "light"
          },
          "paper_bgcolor": "white",
          "plot_bgcolor": "#E5ECF6",
          "polar": {
           "angularaxis": {
            "gridcolor": "white",
            "linecolor": "white",
            "ticks": ""
           },
           "bgcolor": "#E5ECF6",
           "radialaxis": {
            "gridcolor": "white",
            "linecolor": "white",
            "ticks": ""
           }
          },
          "scene": {
           "xaxis": {
            "backgroundcolor": "#E5ECF6",
            "gridcolor": "white",
            "gridwidth": 2,
            "linecolor": "white",
            "showbackground": true,
            "ticks": "",
            "zerolinecolor": "white"
           },
           "yaxis": {
            "backgroundcolor": "#E5ECF6",
            "gridcolor": "white",
            "gridwidth": 2,
            "linecolor": "white",
            "showbackground": true,
            "ticks": "",
            "zerolinecolor": "white"
           },
           "zaxis": {
            "backgroundcolor": "#E5ECF6",
            "gridcolor": "white",
            "gridwidth": 2,
            "linecolor": "white",
            "showbackground": true,
            "ticks": "",
            "zerolinecolor": "white"
           }
          },
          "shapedefaults": {
           "line": {
            "color": "#2a3f5f"
           }
          },
          "ternary": {
           "aaxis": {
            "gridcolor": "white",
            "linecolor": "white",
            "ticks": ""
           },
           "baxis": {
            "gridcolor": "white",
            "linecolor": "white",
            "ticks": ""
           },
           "bgcolor": "#E5ECF6",
           "caxis": {
            "gridcolor": "white",
            "linecolor": "white",
            "ticks": ""
           }
          },
          "title": {
           "x": 0.05
          },
          "xaxis": {
           "automargin": true,
           "gridcolor": "white",
           "linecolor": "white",
           "ticks": "",
           "title": {
            "standoff": 15
           },
           "zerolinecolor": "white",
           "zerolinewidth": 2
          },
          "yaxis": {
           "automargin": true,
           "gridcolor": "white",
           "linecolor": "white",
           "ticks": "",
           "title": {
            "standoff": 15
           },
           "zerolinecolor": "white",
           "zerolinewidth": 2
          }
         }
        },
        "xaxis": {
         "anchor": "y",
         "domain": [
          0,
          1
         ],
         "title": {
          "text": "variable"
         }
        },
        "yaxis": {
         "anchor": "x",
         "domain": [
          0,
          1
         ],
         "title": {
          "text": "value"
         }
        }
       }
      },
      "text/html": [
       "<div>                            <div id=\"9d921840-e910-455c-bf04-5357a75d0dbf\" class=\"plotly-graph-div\" style=\"height:525px; width:100%;\"></div>            <script type=\"text/javascript\">                require([\"plotly\"], function(Plotly) {                    window.PLOTLYENV=window.PLOTLYENV || {};                                    if (document.getElementById(\"9d921840-e910-455c-bf04-5357a75d0dbf\")) {                    Plotly.newPlot(                        \"9d921840-e910-455c-bf04-5357a75d0dbf\",                        [{\"alignmentgroup\":\"True\",\"hovertemplate\":\"variable=%{x}<br>value=%{y}<extra></extra>\",\"legendgroup\":\"\",\"marker\":{\"color\":\"#636efa\"},\"name\":\"\",\"notched\":false,\"offsetgroup\":\"\",\"orientation\":\"v\",\"showlegend\":false,\"type\":\"box\",\"x\":[\"bp\",\"bp\",\"bp\",\"bp\",\"bp\",\"bp\",\"bp\",\"bp\",\"bp\",\"bp\",\"bp\",\"bp\",\"bp\",\"bp\",\"bp\",\"bp\",\"bp\",\"bp\",\"bp\",\"bp\",\"bp\",\"bp\",\"bp\",\"bp\",\"bp\",\"bp\",\"bp\",\"bp\",\"bp\",\"bp\",\"bp\",\"bp\",\"bp\",\"bp\",\"bp\",\"bp\",\"bp\",\"bp\",\"bp\",\"bp\",\"bp\",\"bp\",\"bp\",\"bp\",\"bp\",\"bp\",\"bp\",\"bp\",\"bp\",\"bp\",\"bp\",\"bp\",\"bp\",\"bp\",\"bp\",\"bp\",\"bp\",\"bp\",\"bp\",\"bp\",\"bp\",\"bp\",\"bp\",\"bp\",\"bp\",\"bp\",\"bp\",\"bp\",\"bp\",\"bp\",\"bp\",\"bp\",\"bp\",\"bp\",\"bp\",\"bp\",\"bp\",\"bp\",\"bp\",\"bp\",\"bp\",\"bp\",\"bp\",\"bp\",\"bp\",\"bp\",\"bp\",\"bp\",\"bp\",\"bp\",\"bp\",\"bp\",\"bp\",\"bp\",\"bp\",\"bp\",\"bp\",\"bp\",\"bp\",\"bp\",\"bp\",\"bp\",\"bp\",\"bp\",\"bp\",\"bp\",\"bp\",\"bp\",\"bp\",\"bp\",\"bp\",\"bp\",\"bp\",\"bp\",\"bp\",\"bp\",\"bp\",\"bp\",\"bp\",\"bp\",\"bp\",\"bp\",\"bp\",\"bp\",\"bp\",\"bp\",\"bp\",\"bp\",\"bp\",\"bp\",\"bp\",\"bp\",\"bp\",\"bp\",\"bp\",\"bp\",\"bp\",\"bp\",\"bp\",\"bp\",\"bp\",\"bp\",\"bp\",\"bp\",\"bp\",\"bp\",\"bp\",\"bp\",\"bp\",\"bp\",\"bp\",\"bp\",\"bp\",\"bp\",\"bp\",\"bp\",\"bp\",\"bp\",\"bp\",\"bp\",\"bp\",\"bp\",\"bp\",\"bp\",\"bp\",\"bp\",\"bp\",\"bp\",\"bp\",\"bp\",\"bp\",\"bp\",\"bp\",\"bp\",\"bp\",\"bp\",\"bp\",\"bp\",\"bp\",\"bp\",\"bp\",\"bp\",\"bp\",\"bp\",\"bp\",\"bp\",\"bp\",\"bp\",\"bp\",\"bp\",\"bp\",\"bp\",\"bp\",\"bp\",\"bp\",\"bp\",\"bp\",\"bp\",\"bp\",\"bp\",\"bp\",\"bp\",\"bp\",\"bp\",\"bp\",\"bp\",\"bp\",\"bp\",\"bp\",\"bp\",\"bp\",\"bp\",\"bp\",\"bp\",\"bp\",\"bp\",\"bp\",\"bp\",\"bp\",\"bp\",\"bp\",\"bp\",\"bp\",\"bp\",\"bp\",\"bp\",\"bp\",\"bp\",\"bp\",\"bp\",\"bp\",\"bp\",\"bp\",\"bp\",\"bp\",\"bp\",\"bp\",\"bp\",\"bp\",\"bp\",\"bp\",\"bp\",\"bp\",\"bp\",\"bp\",\"bp\",\"bp\",\"bp\",\"bp\",\"bp\",\"bp\",\"bp\",\"bp\",\"bp\",\"bp\",\"bp\",\"bp\",\"bp\",\"bp\",\"bp\",\"bp\",\"bp\",\"bp\",\"bp\",\"bp\",\"bp\",\"bp\",\"bp\",\"bp\",\"bp\",\"bp\",\"bp\",\"bp\",\"bp\",\"bp\",\"bp\",\"bp\",\"bp\",\"bp\",\"bp\",\"bp\",\"bp\",\"bp\",\"bp\",\"bp\",\"bp\",\"bp\",\"bp\",\"bp\",\"bp\",\"bp\",\"bp\",\"bp\",\"bp\",\"bp\",\"bp\",\"bp\",\"bp\",\"bp\",\"bp\",\"bp\",\"bp\",\"bp\",\"bp\",\"bp\",\"bp\",\"bp\",\"bp\",\"bp\",\"bp\",\"bp\",\"bp\",\"bp\",\"bp\",\"bp\",\"bp\",\"bp\",\"bp\",\"bp\",\"bp\",\"bp\",\"bp\",\"bp\",\"bp\",\"bp\",\"bp\",\"bp\",\"bp\",\"bp\",\"bp\",\"bp\",\"bp\",\"bp\",\"bp\",\"bp\",\"bp\",\"bp\",\"bp\",\"bp\",\"bp\",\"bp\",\"bp\",\"bp\",\"bp\",\"bp\",\"bp\",\"bp\",\"bp\",\"bp\",\"bp\",\"bp\",\"bp\",\"bp\",\"bp\",\"bp\",\"bp\",\"bp\",\"bp\",\"bp\",\"bp\",\"bp\",\"bp\",\"bp\",\"bp\",\"bp\",\"bp\",\"bp\",\"bp\",\"bp\",\"bp\",\"bp\",\"bp\",\"bp\",\"bp\",\"bp\",\"bp\",\"bp\",\"bp\",\"bp\",\"bp\",\"bp\",\"bp\",\"bp\",\"bp\",\"bp\",\"bp\",\"bp\",\"bp\",\"bp\",\"bp\",\"bp\",\"bp\",\"bp\",\"bp\",\"bp\",\"bp\",\"bp\",\"bp\",\"bp\",\"bp\",\"bp\",\"bp\",\"bp\",\"bp\",\"bp\",\"bp\",\"bp\",\"bp\",\"bp\",\"bp\",\"bp\",\"bp\",\"bp\",\"bp\",\"bp\",\"bp\",\"bp\",\"bp\",\"bp\",\"bp\",\"bp\",\"bp\",\"bp\",\"bp\",\"bp\",\"bp\",\"bp\",\"bp\",\"bp\",\"bp\",\"bp\",\"bp\",\"bp\",\"bp\",\"bp\",\"bp\",\"bp\",\"bp\",\"bp\",\"bp\",\"bp\",\"bp\",\"bp\",\"bp\",\"bp\",\"bp\",\"bp\",\"bp\",\"bp\",\"bp\",\"bp\",\"bp\",\"bp\",\"bp\",\"bp\",\"bp\",\"bp\",\"bp\",\"bp\",\"bp\",\"bp\",\"bp\",\"bp\",\"bp\",\"bp\",\"bp\",\"bp\",\"bp\",\"bp\",\"bp\",\"bp\",\"bp\",\"bp\",\"bp\",\"bp\",\"bp\",\"bp\",\"bp\",\"bp\",\"bp\",\"bp\",\"bp\",\"bp\",\"bp\",\"bp\",\"bp\",\"bp\",\"bp\",\"bp\",\"bp\",\"bp\",\"bp\",\"bp\",\"bp\",\"bp\",\"bp\",\"bp\",\"bp\",\"bp\",\"bp\",\"bp\",\"bp\",\"bp\",\"bp\",\"bp\",\"bp\",\"bp\",\"bp\",\"bp\",\"bp\",\"bp\",\"bp\",\"bp\",\"bp\",\"bp\",\"bp\",\"bp\",\"bp\",\"bp\",\"bp\",\"bp\",\"bp\",\"bp\",\"bp\",\"bp\",\"bp\",\"bp\",\"bp\",\"bp\",\"bp\",\"bp\",\"bp\",\"bp\",\"bp\",\"bp\",\"bp\",\"bp\",\"bp\",\"bp\",\"bp\",\"bp\",\"bp\",\"bp\",\"bp\",\"bp\",\"bp\",\"bp\",\"bp\",\"bp\",\"bp\",\"bp\",\"bp\",\"bp\",\"bp\",\"bp\",\"bp\",\"bp\",\"bp\",\"bp\",\"bp\",\"bp\",\"bp\",\"bp\",\"bp\",\"bp\",\"bp\",\"bp\",\"bp\",\"bp\",\"bp\",\"bp\",\"bp\",\"bp\",\"bp\",\"bp\",\"bp\",\"bp\",\"bp\",\"bp\",\"bp\",\"bp\",\"bp\",\"bp\",\"bp\",\"bp\",\"bp\",\"bp\",\"bp\",\"bp\",\"bp\",\"bp\",\"bp\",\"bp\",\"bp\",\"bp\",\"bp\",\"bp\",\"bp\",\"bp\",\"bp\",\"bp\",\"bp\",\"bp\",\"bp\",\"bp\",\"bp\",\"bp\",\"bp\",\"bp\",\"bp\",\"bp\",\"bp\",\"bp\",\"bp\",\"bp\",\"bp\",\"bp\",\"bp\",\"bp\",\"bp\",\"bp\",\"bp\",\"bp\",\"bp\",\"bp\",\"bp\",\"bp\",\"bp\",\"bp\",\"bp\",\"bp\",\"bp\",\"bp\",\"bp\",\"bp\",\"bp\",\"bp\",\"bp\",\"bp\",\"bp\",\"bp\",\"bp\",\"bp\",\"bp\",\"bp\",\"bp\",\"bp\",\"bp\",\"bp\",\"bp\",\"bp\",\"bp\",\"bp\",\"bp\",\"bp\",\"bp\",\"bp\",\"bp\",\"bp\",\"bp\",\"bp\",\"bp\",\"bp\",\"bp\",\"bp\",\"bp\",\"bp\",\"bp\",\"bp\",\"bp\",\"bp\",\"bp\",\"bp\",\"bp\",\"bp\",\"bp\",\"bp\",\"bp\",\"bp\",\"bp\",\"bp\",\"bp\",\"bp\",\"bp\",\"bp\",\"bp\",\"bp\",\"bp\",\"bp\",\"bp\",\"bp\",\"bp\",\"bp\",\"bp\",\"bp\",\"bp\",\"bp\",\"bp\",\"bp\",\"bp\",\"bp\",\"bp\",\"bp\",\"bp\",\"bp\",\"bp\",\"bp\",\"bp\",\"bp\",\"bp\",\"bp\",\"bp\",\"bp\",\"bp\",\"bp\",\"bp\",\"bp\",\"bp\",\"bp\",\"bp\",\"bp\",\"bp\",\"bp\",\"bp\",\"bp\",\"bp\",\"bp\",\"bp\",\"bp\",\"bp\",\"bp\",\"bp\",\"bp\",\"bp\",\"bp\",\"bp\",\"bp\",\"bp\",\"bp\",\"bp\",\"bp\",\"bp\",\"bp\",\"bp\",\"bp\",\"bp\",\"bp\",\"bp\",\"bp\",\"bp\",\"bp\",\"bp\",\"bp\",\"bp\",\"bp\",\"bp\",\"bp\",\"bp\",\"bp\"],\"x0\":\" \",\"xaxis\":\"x\",\"y\":[72,66,64,66,40,74,50,0,70,96,92,74,80,60,72,0,84,74,30,70,88,84,90,80,94,70,76,66,82,92,75,76,58,92,78,60,76,76,68,72,64,84,92,110,64,66,56,70,66,0,80,50,66,90,66,50,68,88,82,64,0,72,62,58,66,74,88,92,66,85,66,64,90,86,75,78,72,0,66,44,0,78,65,108,74,72,68,68,55,80,78,72,82,72,62,48,50,90,72,60,96,72,65,56,122,58,58,85,72,62,76,62,54,92,74,48,60,76,76,64,74,80,76,30,70,58,88,84,70,56,64,74,68,60,70,60,80,72,78,82,52,66,62,75,80,64,78,70,74,65,86,82,78,88,52,56,74,90,74,80,64,88,74,66,68,66,90,82,70,0,60,64,72,78,110,78,82,80,64,60,74,68,68,98,76,80,62,70,66,0,55,84,58,62,64,60,80,82,68,70,72,72,76,104,64,84,60,85,95,65,82,70,62,68,74,66,60,90,0,60,66,78,76,52,70,80,86,80,80,68,68,72,84,90,84,76,64,70,54,50,76,85,68,90,70,86,52,84,80,68,62,64,56,68,50,76,68,0,70,80,62,74,0,64,52,0,86,62,78,78,70,70,60,64,74,62,70,76,88,86,80,74,84,86,56,72,88,62,78,48,50,62,70,84,72,0,58,82,98,76,76,68,68,68,68,66,70,74,50,80,68,80,74,66,78,60,74,70,90,75,72,64,70,86,70,72,58,0,80,60,76,0,76,78,84,70,74,86,72,88,46,0,62,80,84,82,62,78,88,50,0,74,76,64,70,108,78,74,54,72,64,86,102,82,64,64,58,52,82,82,60,75,100,72,68,60,62,70,54,74,100,82,68,66,76,64,72,78,58,56,66,70,70,64,61,84,78,64,48,72,62,74,68,90,72,84,74,60,84,68,82,68,64,88,68,64,64,78,78,0,64,94,82,0,74,74,75,68,0,85,75,70,88,104,66,64,70,62,78,72,80,64,74,64,70,68,0,54,54,68,84,74,72,62,70,78,98,56,52,64,0,78,82,70,66,90,64,84,80,76,74,86,70,88,58,82,0,68,62,78,72,80,65,90,68,70,0,74,68,72,70,74,90,72,64,78,82,90,60,50,78,72,62,68,62,54,70,88,86,60,90,70,80,0,70,58,60,64,74,66,65,60,76,66,0,56,0,90,60,80,92,74,72,85,90,78,90,76,68,82,110,70,68,88,62,64,70,70,76,68,74,76,66,68,60,80,54,72,62,72,66,70,96,58,60,86,44,44,80,68,70,90,60,78,76,76,56,66,66,86,0,84,78,80,52,72,82,76,24,74,38,88,0,74,78,0,60,78,62,82,62,54,58,88,80,74,72,96,62,82,0,86,76,94,70,64,88,68,78,80,65,64,78,60,82,62,72,74,76,76,74,86,70,80,0,72,74,74,50,84,60,54,60,74,54,70,52,58,80,106,82,84,76,106,80,60,80,82,70,58,78,68,58,106,100,82,70,86,60,52,58,56,76,64,80,82,74,64,50,74,82,80,114,70,68,60,90,74,0,88,70,76,78,88,0,76,80,0,46,78,64,64,78,62,58,74,50,78,72,60,76,86,66,68,86,94,78,78,84,88,52,78,86,88,56,75,60,86,72,60,74,80,44,58,94,88,84,94,74,70,62,70,78,62,88,78,88,90,72,76,92,58,74,62,76,70,72,60,70],\"y0\":\" \",\"yaxis\":\"y\"}],                        {\"boxmode\":\"group\",\"legend\":{\"tracegroupgap\":0},\"margin\":{\"t\":60},\"template\":{\"data\":{\"bar\":[{\"error_x\":{\"color\":\"#2a3f5f\"},\"error_y\":{\"color\":\"#2a3f5f\"},\"marker\":{\"line\":{\"color\":\"#E5ECF6\",\"width\":0.5},\"pattern\":{\"fillmode\":\"overlay\",\"size\":10,\"solidity\":0.2}},\"type\":\"bar\"}],\"barpolar\":[{\"marker\":{\"line\":{\"color\":\"#E5ECF6\",\"width\":0.5},\"pattern\":{\"fillmode\":\"overlay\",\"size\":10,\"solidity\":0.2}},\"type\":\"barpolar\"}],\"carpet\":[{\"aaxis\":{\"endlinecolor\":\"#2a3f5f\",\"gridcolor\":\"white\",\"linecolor\":\"white\",\"minorgridcolor\":\"white\",\"startlinecolor\":\"#2a3f5f\"},\"baxis\":{\"endlinecolor\":\"#2a3f5f\",\"gridcolor\":\"white\",\"linecolor\":\"white\",\"minorgridcolor\":\"white\",\"startlinecolor\":\"#2a3f5f\"},\"type\":\"carpet\"}],\"choropleth\":[{\"colorbar\":{\"outlinewidth\":0,\"ticks\":\"\"},\"type\":\"choropleth\"}],\"contour\":[{\"colorbar\":{\"outlinewidth\":0,\"ticks\":\"\"},\"colorscale\":[[0.0,\"#0d0887\"],[0.1111111111111111,\"#46039f\"],[0.2222222222222222,\"#7201a8\"],[0.3333333333333333,\"#9c179e\"],[0.4444444444444444,\"#bd3786\"],[0.5555555555555556,\"#d8576b\"],[0.6666666666666666,\"#ed7953\"],[0.7777777777777778,\"#fb9f3a\"],[0.8888888888888888,\"#fdca26\"],[1.0,\"#f0f921\"]],\"type\":\"contour\"}],\"contourcarpet\":[{\"colorbar\":{\"outlinewidth\":0,\"ticks\":\"\"},\"type\":\"contourcarpet\"}],\"heatmap\":[{\"colorbar\":{\"outlinewidth\":0,\"ticks\":\"\"},\"colorscale\":[[0.0,\"#0d0887\"],[0.1111111111111111,\"#46039f\"],[0.2222222222222222,\"#7201a8\"],[0.3333333333333333,\"#9c179e\"],[0.4444444444444444,\"#bd3786\"],[0.5555555555555556,\"#d8576b\"],[0.6666666666666666,\"#ed7953\"],[0.7777777777777778,\"#fb9f3a\"],[0.8888888888888888,\"#fdca26\"],[1.0,\"#f0f921\"]],\"type\":\"heatmap\"}],\"heatmapgl\":[{\"colorbar\":{\"outlinewidth\":0,\"ticks\":\"\"},\"colorscale\":[[0.0,\"#0d0887\"],[0.1111111111111111,\"#46039f\"],[0.2222222222222222,\"#7201a8\"],[0.3333333333333333,\"#9c179e\"],[0.4444444444444444,\"#bd3786\"],[0.5555555555555556,\"#d8576b\"],[0.6666666666666666,\"#ed7953\"],[0.7777777777777778,\"#fb9f3a\"],[0.8888888888888888,\"#fdca26\"],[1.0,\"#f0f921\"]],\"type\":\"heatmapgl\"}],\"histogram\":[{\"marker\":{\"pattern\":{\"fillmode\":\"overlay\",\"size\":10,\"solidity\":0.2}},\"type\":\"histogram\"}],\"histogram2d\":[{\"colorbar\":{\"outlinewidth\":0,\"ticks\":\"\"},\"colorscale\":[[0.0,\"#0d0887\"],[0.1111111111111111,\"#46039f\"],[0.2222222222222222,\"#7201a8\"],[0.3333333333333333,\"#9c179e\"],[0.4444444444444444,\"#bd3786\"],[0.5555555555555556,\"#d8576b\"],[0.6666666666666666,\"#ed7953\"],[0.7777777777777778,\"#fb9f3a\"],[0.8888888888888888,\"#fdca26\"],[1.0,\"#f0f921\"]],\"type\":\"histogram2d\"}],\"histogram2dcontour\":[{\"colorbar\":{\"outlinewidth\":0,\"ticks\":\"\"},\"colorscale\":[[0.0,\"#0d0887\"],[0.1111111111111111,\"#46039f\"],[0.2222222222222222,\"#7201a8\"],[0.3333333333333333,\"#9c179e\"],[0.4444444444444444,\"#bd3786\"],[0.5555555555555556,\"#d8576b\"],[0.6666666666666666,\"#ed7953\"],[0.7777777777777778,\"#fb9f3a\"],[0.8888888888888888,\"#fdca26\"],[1.0,\"#f0f921\"]],\"type\":\"histogram2dcontour\"}],\"mesh3d\":[{\"colorbar\":{\"outlinewidth\":0,\"ticks\":\"\"},\"type\":\"mesh3d\"}],\"parcoords\":[{\"line\":{\"colorbar\":{\"outlinewidth\":0,\"ticks\":\"\"}},\"type\":\"parcoords\"}],\"pie\":[{\"automargin\":true,\"type\":\"pie\"}],\"scatter\":[{\"marker\":{\"colorbar\":{\"outlinewidth\":0,\"ticks\":\"\"}},\"type\":\"scatter\"}],\"scatter3d\":[{\"line\":{\"colorbar\":{\"outlinewidth\":0,\"ticks\":\"\"}},\"marker\":{\"colorbar\":{\"outlinewidth\":0,\"ticks\":\"\"}},\"type\":\"scatter3d\"}],\"scattercarpet\":[{\"marker\":{\"colorbar\":{\"outlinewidth\":0,\"ticks\":\"\"}},\"type\":\"scattercarpet\"}],\"scattergeo\":[{\"marker\":{\"colorbar\":{\"outlinewidth\":0,\"ticks\":\"\"}},\"type\":\"scattergeo\"}],\"scattergl\":[{\"marker\":{\"colorbar\":{\"outlinewidth\":0,\"ticks\":\"\"}},\"type\":\"scattergl\"}],\"scattermapbox\":[{\"marker\":{\"colorbar\":{\"outlinewidth\":0,\"ticks\":\"\"}},\"type\":\"scattermapbox\"}],\"scatterpolar\":[{\"marker\":{\"colorbar\":{\"outlinewidth\":0,\"ticks\":\"\"}},\"type\":\"scatterpolar\"}],\"scatterpolargl\":[{\"marker\":{\"colorbar\":{\"outlinewidth\":0,\"ticks\":\"\"}},\"type\":\"scatterpolargl\"}],\"scatterternary\":[{\"marker\":{\"colorbar\":{\"outlinewidth\":0,\"ticks\":\"\"}},\"type\":\"scatterternary\"}],\"surface\":[{\"colorbar\":{\"outlinewidth\":0,\"ticks\":\"\"},\"colorscale\":[[0.0,\"#0d0887\"],[0.1111111111111111,\"#46039f\"],[0.2222222222222222,\"#7201a8\"],[0.3333333333333333,\"#9c179e\"],[0.4444444444444444,\"#bd3786\"],[0.5555555555555556,\"#d8576b\"],[0.6666666666666666,\"#ed7953\"],[0.7777777777777778,\"#fb9f3a\"],[0.8888888888888888,\"#fdca26\"],[1.0,\"#f0f921\"]],\"type\":\"surface\"}],\"table\":[{\"cells\":{\"fill\":{\"color\":\"#EBF0F8\"},\"line\":{\"color\":\"white\"}},\"header\":{\"fill\":{\"color\":\"#C8D4E3\"},\"line\":{\"color\":\"white\"}},\"type\":\"table\"}]},\"layout\":{\"annotationdefaults\":{\"arrowcolor\":\"#2a3f5f\",\"arrowhead\":0,\"arrowwidth\":1},\"autotypenumbers\":\"strict\",\"coloraxis\":{\"colorbar\":{\"outlinewidth\":0,\"ticks\":\"\"}},\"colorscale\":{\"diverging\":[[0,\"#8e0152\"],[0.1,\"#c51b7d\"],[0.2,\"#de77ae\"],[0.3,\"#f1b6da\"],[0.4,\"#fde0ef\"],[0.5,\"#f7f7f7\"],[0.6,\"#e6f5d0\"],[0.7,\"#b8e186\"],[0.8,\"#7fbc41\"],[0.9,\"#4d9221\"],[1,\"#276419\"]],\"sequential\":[[0.0,\"#0d0887\"],[0.1111111111111111,\"#46039f\"],[0.2222222222222222,\"#7201a8\"],[0.3333333333333333,\"#9c179e\"],[0.4444444444444444,\"#bd3786\"],[0.5555555555555556,\"#d8576b\"],[0.6666666666666666,\"#ed7953\"],[0.7777777777777778,\"#fb9f3a\"],[0.8888888888888888,\"#fdca26\"],[1.0,\"#f0f921\"]],\"sequentialminus\":[[0.0,\"#0d0887\"],[0.1111111111111111,\"#46039f\"],[0.2222222222222222,\"#7201a8\"],[0.3333333333333333,\"#9c179e\"],[0.4444444444444444,\"#bd3786\"],[0.5555555555555556,\"#d8576b\"],[0.6666666666666666,\"#ed7953\"],[0.7777777777777778,\"#fb9f3a\"],[0.8888888888888888,\"#fdca26\"],[1.0,\"#f0f921\"]]},\"colorway\":[\"#636efa\",\"#EF553B\",\"#00cc96\",\"#ab63fa\",\"#FFA15A\",\"#19d3f3\",\"#FF6692\",\"#B6E880\",\"#FF97FF\",\"#FECB52\"],\"font\":{\"color\":\"#2a3f5f\"},\"geo\":{\"bgcolor\":\"white\",\"lakecolor\":\"white\",\"landcolor\":\"#E5ECF6\",\"showlakes\":true,\"showland\":true,\"subunitcolor\":\"white\"},\"hoverlabel\":{\"align\":\"left\"},\"hovermode\":\"closest\",\"mapbox\":{\"style\":\"light\"},\"paper_bgcolor\":\"white\",\"plot_bgcolor\":\"#E5ECF6\",\"polar\":{\"angularaxis\":{\"gridcolor\":\"white\",\"linecolor\":\"white\",\"ticks\":\"\"},\"bgcolor\":\"#E5ECF6\",\"radialaxis\":{\"gridcolor\":\"white\",\"linecolor\":\"white\",\"ticks\":\"\"}},\"scene\":{\"xaxis\":{\"backgroundcolor\":\"#E5ECF6\",\"gridcolor\":\"white\",\"gridwidth\":2,\"linecolor\":\"white\",\"showbackground\":true,\"ticks\":\"\",\"zerolinecolor\":\"white\"},\"yaxis\":{\"backgroundcolor\":\"#E5ECF6\",\"gridcolor\":\"white\",\"gridwidth\":2,\"linecolor\":\"white\",\"showbackground\":true,\"ticks\":\"\",\"zerolinecolor\":\"white\"},\"zaxis\":{\"backgroundcolor\":\"#E5ECF6\",\"gridcolor\":\"white\",\"gridwidth\":2,\"linecolor\":\"white\",\"showbackground\":true,\"ticks\":\"\",\"zerolinecolor\":\"white\"}},\"shapedefaults\":{\"line\":{\"color\":\"#2a3f5f\"}},\"ternary\":{\"aaxis\":{\"gridcolor\":\"white\",\"linecolor\":\"white\",\"ticks\":\"\"},\"baxis\":{\"gridcolor\":\"white\",\"linecolor\":\"white\",\"ticks\":\"\"},\"bgcolor\":\"#E5ECF6\",\"caxis\":{\"gridcolor\":\"white\",\"linecolor\":\"white\",\"ticks\":\"\"}},\"title\":{\"x\":0.05},\"xaxis\":{\"automargin\":true,\"gridcolor\":\"white\",\"linecolor\":\"white\",\"ticks\":\"\",\"title\":{\"standoff\":15},\"zerolinecolor\":\"white\",\"zerolinewidth\":2},\"yaxis\":{\"automargin\":true,\"gridcolor\":\"white\",\"linecolor\":\"white\",\"ticks\":\"\",\"title\":{\"standoff\":15},\"zerolinecolor\":\"white\",\"zerolinewidth\":2}}},\"xaxis\":{\"anchor\":\"y\",\"domain\":[0.0,1.0],\"title\":{\"text\":\"variable\"}},\"yaxis\":{\"anchor\":\"x\",\"domain\":[0.0,1.0],\"title\":{\"text\":\"value\"}}},                        {\"responsive\": true}                    ).then(function(){\n",
       "                            \n",
       "var gd = document.getElementById('9d921840-e910-455c-bf04-5357a75d0dbf');\n",
       "var x = new MutationObserver(function (mutations, observer) {{\n",
       "        var display = window.getComputedStyle(gd).display;\n",
       "        if (!display || display === 'none') {{\n",
       "            console.log([gd, 'removed!']);\n",
       "            Plotly.purge(gd);\n",
       "            observer.disconnect();\n",
       "        }}\n",
       "}});\n",
       "\n",
       "// Listen for the removal of the full notebook cells\n",
       "var notebookContainer = gd.closest('#notebook-container');\n",
       "if (notebookContainer) {{\n",
       "    x.observe(notebookContainer, {childList: true});\n",
       "}}\n",
       "\n",
       "// Listen for the clearing of the current output cell\n",
       "var outputEl = gd.closest('.output');\n",
       "if (outputEl) {{\n",
       "    x.observe(outputEl, {childList: true});\n",
       "}}\n",
       "\n",
       "                        })                };                });            </script>        </div>"
      ]
     },
     "metadata": {},
     "output_type": "display_data"
    }
   ],
   "source": [
    "px.box(df['bp'])"
   ]
  },
  {
   "cell_type": "code",
   "execution_count": 105,
   "id": "8eb2d8a6",
   "metadata": {},
   "outputs": [],
   "source": [
    "# Using IQR to remove outliers from 'bp'\n",
    "\n",
    "q1 = df.bp.quantile(0.25)\n",
    "q3 = df.bp.quantile(0.75)\n",
    "IQR = q3 - q1\n",
    "low = q1 - 1.5 * IQR\n",
    "high = q3 + 1.5 * IQR\n",
    "df.drop(df[df.bp < low].index, inplace = True)\n",
    "df.drop(df[df.bp > high].index, inplace = True)"
   ]
  },
  {
   "cell_type": "code",
   "execution_count": 106,
   "id": "b5a99a8e",
   "metadata": {},
   "outputs": [
    {
     "data": {
      "application/vnd.plotly.v1+json": {
       "config": {
        "plotlyServerURL": "https://plot.ly"
       },
       "data": [
        {
         "alignmentgroup": "True",
         "hovertemplate": "variable=%{x}<br>value=%{y}<extra></extra>",
         "legendgroup": "",
         "marker": {
          "color": "#636efa"
         },
         "name": "",
         "notched": false,
         "offsetgroup": "",
         "orientation": "v",
         "showlegend": false,
         "type": "box",
         "x": [
          "bp",
          "bp",
          "bp",
          "bp",
          "bp",
          "bp",
          "bp",
          "bp",
          "bp",
          "bp",
          "bp",
          "bp",
          "bp",
          "bp",
          "bp",
          "bp",
          "bp",
          "bp",
          "bp",
          "bp",
          "bp",
          "bp",
          "bp",
          "bp",
          "bp",
          "bp",
          "bp",
          "bp",
          "bp",
          "bp",
          "bp",
          "bp",
          "bp",
          "bp",
          "bp",
          "bp",
          "bp",
          "bp",
          "bp",
          "bp",
          "bp",
          "bp",
          "bp",
          "bp",
          "bp",
          "bp",
          "bp",
          "bp",
          "bp",
          "bp",
          "bp",
          "bp",
          "bp",
          "bp",
          "bp",
          "bp",
          "bp",
          "bp",
          "bp",
          "bp",
          "bp",
          "bp",
          "bp",
          "bp",
          "bp",
          "bp",
          "bp",
          "bp",
          "bp",
          "bp",
          "bp",
          "bp",
          "bp",
          "bp",
          "bp",
          "bp",
          "bp",
          "bp",
          "bp",
          "bp",
          "bp",
          "bp",
          "bp",
          "bp",
          "bp",
          "bp",
          "bp",
          "bp",
          "bp",
          "bp",
          "bp",
          "bp",
          "bp",
          "bp",
          "bp",
          "bp",
          "bp",
          "bp",
          "bp",
          "bp",
          "bp",
          "bp",
          "bp",
          "bp",
          "bp",
          "bp",
          "bp",
          "bp",
          "bp",
          "bp",
          "bp",
          "bp",
          "bp",
          "bp",
          "bp",
          "bp",
          "bp",
          "bp",
          "bp",
          "bp",
          "bp",
          "bp",
          "bp",
          "bp",
          "bp",
          "bp",
          "bp",
          "bp",
          "bp",
          "bp",
          "bp",
          "bp",
          "bp",
          "bp",
          "bp",
          "bp",
          "bp",
          "bp",
          "bp",
          "bp",
          "bp",
          "bp",
          "bp",
          "bp",
          "bp",
          "bp",
          "bp",
          "bp",
          "bp",
          "bp",
          "bp",
          "bp",
          "bp",
          "bp",
          "bp",
          "bp",
          "bp",
          "bp",
          "bp",
          "bp",
          "bp",
          "bp",
          "bp",
          "bp",
          "bp",
          "bp",
          "bp",
          "bp",
          "bp",
          "bp",
          "bp",
          "bp",
          "bp",
          "bp",
          "bp",
          "bp",
          "bp",
          "bp",
          "bp",
          "bp",
          "bp",
          "bp",
          "bp",
          "bp",
          "bp",
          "bp",
          "bp",
          "bp",
          "bp",
          "bp",
          "bp",
          "bp",
          "bp",
          "bp",
          "bp",
          "bp",
          "bp",
          "bp",
          "bp",
          "bp",
          "bp",
          "bp",
          "bp",
          "bp",
          "bp",
          "bp",
          "bp",
          "bp",
          "bp",
          "bp",
          "bp",
          "bp",
          "bp",
          "bp",
          "bp",
          "bp",
          "bp",
          "bp",
          "bp",
          "bp",
          "bp",
          "bp",
          "bp",
          "bp",
          "bp",
          "bp",
          "bp",
          "bp",
          "bp",
          "bp",
          "bp",
          "bp",
          "bp",
          "bp",
          "bp",
          "bp",
          "bp",
          "bp",
          "bp",
          "bp",
          "bp",
          "bp",
          "bp",
          "bp",
          "bp",
          "bp",
          "bp",
          "bp",
          "bp",
          "bp",
          "bp",
          "bp",
          "bp",
          "bp",
          "bp",
          "bp",
          "bp",
          "bp",
          "bp",
          "bp",
          "bp",
          "bp",
          "bp",
          "bp",
          "bp",
          "bp",
          "bp",
          "bp",
          "bp",
          "bp",
          "bp",
          "bp",
          "bp",
          "bp",
          "bp",
          "bp",
          "bp",
          "bp",
          "bp",
          "bp",
          "bp",
          "bp",
          "bp",
          "bp",
          "bp",
          "bp",
          "bp",
          "bp",
          "bp",
          "bp",
          "bp",
          "bp",
          "bp",
          "bp",
          "bp",
          "bp",
          "bp",
          "bp",
          "bp",
          "bp",
          "bp",
          "bp",
          "bp",
          "bp",
          "bp",
          "bp",
          "bp",
          "bp",
          "bp",
          "bp",
          "bp",
          "bp",
          "bp",
          "bp",
          "bp",
          "bp",
          "bp",
          "bp",
          "bp",
          "bp",
          "bp",
          "bp",
          "bp",
          "bp",
          "bp",
          "bp",
          "bp",
          "bp",
          "bp",
          "bp",
          "bp",
          "bp",
          "bp",
          "bp",
          "bp",
          "bp",
          "bp",
          "bp",
          "bp",
          "bp",
          "bp",
          "bp",
          "bp",
          "bp",
          "bp",
          "bp",
          "bp",
          "bp",
          "bp",
          "bp",
          "bp",
          "bp",
          "bp",
          "bp",
          "bp",
          "bp",
          "bp",
          "bp",
          "bp",
          "bp",
          "bp",
          "bp",
          "bp",
          "bp",
          "bp",
          "bp",
          "bp",
          "bp",
          "bp",
          "bp",
          "bp",
          "bp",
          "bp",
          "bp",
          "bp",
          "bp",
          "bp",
          "bp",
          "bp",
          "bp",
          "bp",
          "bp",
          "bp",
          "bp",
          "bp",
          "bp",
          "bp",
          "bp",
          "bp",
          "bp",
          "bp",
          "bp",
          "bp",
          "bp",
          "bp",
          "bp",
          "bp",
          "bp",
          "bp",
          "bp",
          "bp",
          "bp",
          "bp",
          "bp",
          "bp",
          "bp",
          "bp",
          "bp",
          "bp",
          "bp",
          "bp",
          "bp",
          "bp",
          "bp",
          "bp",
          "bp",
          "bp",
          "bp",
          "bp",
          "bp",
          "bp",
          "bp",
          "bp",
          "bp",
          "bp",
          "bp",
          "bp",
          "bp",
          "bp",
          "bp",
          "bp",
          "bp",
          "bp",
          "bp",
          "bp",
          "bp",
          "bp",
          "bp",
          "bp",
          "bp",
          "bp",
          "bp",
          "bp",
          "bp",
          "bp",
          "bp",
          "bp",
          "bp",
          "bp",
          "bp",
          "bp",
          "bp",
          "bp",
          "bp",
          "bp",
          "bp",
          "bp",
          "bp",
          "bp",
          "bp",
          "bp",
          "bp",
          "bp",
          "bp",
          "bp",
          "bp",
          "bp",
          "bp",
          "bp",
          "bp",
          "bp",
          "bp",
          "bp",
          "bp",
          "bp",
          "bp",
          "bp",
          "bp",
          "bp",
          "bp",
          "bp",
          "bp",
          "bp",
          "bp",
          "bp",
          "bp",
          "bp",
          "bp",
          "bp",
          "bp",
          "bp",
          "bp",
          "bp",
          "bp",
          "bp",
          "bp",
          "bp",
          "bp",
          "bp",
          "bp",
          "bp",
          "bp",
          "bp",
          "bp",
          "bp",
          "bp",
          "bp",
          "bp",
          "bp",
          "bp",
          "bp",
          "bp",
          "bp",
          "bp",
          "bp",
          "bp",
          "bp",
          "bp",
          "bp",
          "bp",
          "bp",
          "bp",
          "bp",
          "bp",
          "bp",
          "bp",
          "bp",
          "bp",
          "bp",
          "bp",
          "bp",
          "bp",
          "bp",
          "bp",
          "bp",
          "bp",
          "bp",
          "bp",
          "bp",
          "bp",
          "bp",
          "bp",
          "bp",
          "bp",
          "bp",
          "bp",
          "bp",
          "bp",
          "bp",
          "bp",
          "bp",
          "bp",
          "bp",
          "bp",
          "bp",
          "bp",
          "bp",
          "bp",
          "bp",
          "bp",
          "bp",
          "bp",
          "bp",
          "bp",
          "bp",
          "bp",
          "bp",
          "bp",
          "bp",
          "bp",
          "bp",
          "bp",
          "bp",
          "bp",
          "bp",
          "bp",
          "bp",
          "bp",
          "bp",
          "bp",
          "bp",
          "bp",
          "bp",
          "bp",
          "bp",
          "bp",
          "bp",
          "bp",
          "bp",
          "bp",
          "bp",
          "bp",
          "bp",
          "bp",
          "bp",
          "bp",
          "bp",
          "bp",
          "bp",
          "bp",
          "bp",
          "bp",
          "bp",
          "bp",
          "bp",
          "bp",
          "bp",
          "bp",
          "bp",
          "bp",
          "bp",
          "bp",
          "bp",
          "bp",
          "bp",
          "bp",
          "bp",
          "bp",
          "bp",
          "bp",
          "bp",
          "bp",
          "bp",
          "bp",
          "bp",
          "bp",
          "bp",
          "bp",
          "bp",
          "bp",
          "bp",
          "bp",
          "bp",
          "bp",
          "bp",
          "bp",
          "bp",
          "bp",
          "bp",
          "bp",
          "bp",
          "bp",
          "bp",
          "bp",
          "bp",
          "bp",
          "bp",
          "bp",
          "bp",
          "bp",
          "bp",
          "bp",
          "bp",
          "bp",
          "bp",
          "bp",
          "bp",
          "bp",
          "bp",
          "bp",
          "bp",
          "bp",
          "bp",
          "bp",
          "bp",
          "bp",
          "bp",
          "bp",
          "bp",
          "bp",
          "bp",
          "bp",
          "bp",
          "bp",
          "bp",
          "bp",
          "bp",
          "bp",
          "bp",
          "bp",
          "bp",
          "bp",
          "bp",
          "bp",
          "bp",
          "bp",
          "bp",
          "bp",
          "bp",
          "bp",
          "bp",
          "bp",
          "bp",
          "bp",
          "bp",
          "bp",
          "bp",
          "bp",
          "bp",
          "bp",
          "bp",
          "bp",
          "bp",
          "bp",
          "bp",
          "bp",
          "bp",
          "bp",
          "bp",
          "bp",
          "bp",
          "bp",
          "bp",
          "bp"
         ],
         "x0": " ",
         "xaxis": "x",
         "y": [
          72,
          66,
          64,
          66,
          40,
          74,
          50,
          70,
          96,
          92,
          74,
          80,
          60,
          72,
          84,
          74,
          70,
          88,
          84,
          90,
          80,
          94,
          70,
          76,
          66,
          82,
          92,
          75,
          76,
          58,
          92,
          78,
          60,
          76,
          76,
          68,
          72,
          64,
          84,
          92,
          64,
          66,
          56,
          70,
          66,
          80,
          50,
          66,
          90,
          66,
          50,
          68,
          88,
          82,
          64,
          72,
          62,
          58,
          66,
          74,
          88,
          92,
          66,
          85,
          66,
          64,
          90,
          86,
          75,
          78,
          72,
          66,
          44,
          78,
          65,
          74,
          72,
          68,
          68,
          55,
          80,
          78,
          72,
          82,
          72,
          62,
          48,
          50,
          90,
          72,
          60,
          96,
          72,
          65,
          56,
          58,
          58,
          85,
          72,
          62,
          76,
          62,
          54,
          92,
          74,
          48,
          60,
          76,
          76,
          64,
          74,
          80,
          76,
          70,
          58,
          88,
          84,
          70,
          56,
          64,
          74,
          68,
          60,
          70,
          60,
          80,
          72,
          78,
          82,
          52,
          66,
          62,
          75,
          80,
          64,
          78,
          70,
          74,
          65,
          86,
          82,
          78,
          88,
          52,
          56,
          74,
          90,
          74,
          80,
          64,
          88,
          74,
          66,
          68,
          66,
          90,
          82,
          70,
          60,
          64,
          72,
          78,
          78,
          82,
          80,
          64,
          60,
          74,
          68,
          68,
          98,
          76,
          80,
          62,
          70,
          66,
          55,
          84,
          58,
          62,
          64,
          60,
          80,
          82,
          68,
          70,
          72,
          72,
          76,
          104,
          64,
          84,
          60,
          85,
          95,
          65,
          82,
          70,
          62,
          68,
          74,
          66,
          60,
          90,
          60,
          66,
          78,
          76,
          52,
          70,
          80,
          86,
          80,
          80,
          68,
          68,
          72,
          84,
          90,
          84,
          76,
          64,
          70,
          54,
          50,
          76,
          85,
          68,
          90,
          70,
          86,
          52,
          84,
          80,
          68,
          62,
          64,
          56,
          68,
          50,
          76,
          68,
          70,
          80,
          62,
          74,
          64,
          52,
          86,
          62,
          78,
          78,
          70,
          70,
          60,
          64,
          74,
          62,
          70,
          76,
          88,
          86,
          80,
          74,
          84,
          86,
          56,
          72,
          88,
          62,
          78,
          48,
          50,
          62,
          70,
          84,
          72,
          58,
          82,
          98,
          76,
          76,
          68,
          68,
          68,
          68,
          66,
          70,
          74,
          50,
          80,
          68,
          80,
          74,
          66,
          78,
          60,
          74,
          70,
          90,
          75,
          72,
          64,
          70,
          86,
          70,
          72,
          58,
          80,
          60,
          76,
          76,
          78,
          84,
          70,
          74,
          86,
          72,
          88,
          46,
          62,
          80,
          84,
          82,
          62,
          78,
          88,
          50,
          74,
          76,
          64,
          70,
          78,
          74,
          54,
          72,
          64,
          86,
          102,
          82,
          64,
          64,
          58,
          52,
          82,
          82,
          60,
          75,
          100,
          72,
          68,
          60,
          62,
          70,
          54,
          74,
          100,
          82,
          68,
          66,
          76,
          64,
          72,
          78,
          58,
          56,
          66,
          70,
          70,
          64,
          61,
          84,
          78,
          64,
          48,
          72,
          62,
          74,
          68,
          90,
          72,
          84,
          74,
          60,
          84,
          68,
          82,
          68,
          64,
          88,
          68,
          64,
          64,
          78,
          78,
          64,
          94,
          82,
          74,
          74,
          75,
          68,
          85,
          75,
          70,
          88,
          104,
          66,
          64,
          70,
          62,
          78,
          72,
          80,
          64,
          74,
          64,
          70,
          68,
          54,
          54,
          68,
          84,
          74,
          72,
          62,
          70,
          78,
          98,
          56,
          52,
          64,
          78,
          82,
          70,
          66,
          90,
          64,
          84,
          80,
          76,
          74,
          86,
          70,
          88,
          58,
          82,
          68,
          62,
          78,
          72,
          80,
          65,
          90,
          68,
          70,
          74,
          68,
          72,
          70,
          74,
          90,
          72,
          64,
          78,
          82,
          90,
          60,
          50,
          78,
          72,
          62,
          68,
          62,
          54,
          70,
          88,
          86,
          60,
          90,
          70,
          80,
          70,
          58,
          60,
          64,
          74,
          66,
          65,
          60,
          76,
          66,
          56,
          90,
          60,
          80,
          92,
          74,
          72,
          85,
          90,
          78,
          90,
          76,
          68,
          82,
          70,
          68,
          88,
          62,
          64,
          70,
          70,
          76,
          68,
          74,
          76,
          66,
          68,
          60,
          80,
          54,
          72,
          62,
          72,
          66,
          70,
          96,
          58,
          60,
          86,
          44,
          44,
          80,
          68,
          70,
          90,
          60,
          78,
          76,
          76,
          56,
          66,
          66,
          86,
          84,
          78,
          80,
          52,
          72,
          82,
          76,
          74,
          38,
          88,
          74,
          78,
          60,
          78,
          62,
          82,
          62,
          54,
          58,
          88,
          80,
          74,
          72,
          96,
          62,
          82,
          86,
          76,
          94,
          70,
          64,
          88,
          68,
          78,
          80,
          65,
          64,
          78,
          60,
          82,
          62,
          72,
          74,
          76,
          76,
          74,
          86,
          70,
          80,
          72,
          74,
          74,
          50,
          84,
          60,
          54,
          60,
          74,
          54,
          70,
          52,
          58,
          80,
          106,
          82,
          84,
          76,
          106,
          80,
          60,
          80,
          82,
          70,
          58,
          78,
          68,
          58,
          106,
          100,
          82,
          70,
          86,
          60,
          52,
          58,
          56,
          76,
          64,
          80,
          82,
          74,
          64,
          50,
          74,
          82,
          80,
          70,
          68,
          60,
          90,
          74,
          88,
          70,
          76,
          78,
          88,
          76,
          80,
          46,
          78,
          64,
          64,
          78,
          62,
          58,
          74,
          50,
          78,
          72,
          60,
          76,
          86,
          66,
          68,
          86,
          94,
          78,
          78,
          84,
          88,
          52,
          78,
          86,
          88,
          56,
          75,
          60,
          86,
          72,
          60,
          74,
          80,
          44,
          58,
          94,
          88,
          84,
          94,
          74,
          70,
          62,
          70,
          78,
          62,
          88,
          78,
          88,
          90,
          72,
          76,
          92,
          58,
          74,
          62,
          76,
          70,
          72,
          60,
          70
         ],
         "y0": " ",
         "yaxis": "y"
        }
       ],
       "layout": {
        "boxmode": "group",
        "legend": {
         "tracegroupgap": 0
        },
        "margin": {
         "t": 60
        },
        "template": {
         "data": {
          "bar": [
           {
            "error_x": {
             "color": "#2a3f5f"
            },
            "error_y": {
             "color": "#2a3f5f"
            },
            "marker": {
             "line": {
              "color": "#E5ECF6",
              "width": 0.5
             },
             "pattern": {
              "fillmode": "overlay",
              "size": 10,
              "solidity": 0.2
             }
            },
            "type": "bar"
           }
          ],
          "barpolar": [
           {
            "marker": {
             "line": {
              "color": "#E5ECF6",
              "width": 0.5
             },
             "pattern": {
              "fillmode": "overlay",
              "size": 10,
              "solidity": 0.2
             }
            },
            "type": "barpolar"
           }
          ],
          "carpet": [
           {
            "aaxis": {
             "endlinecolor": "#2a3f5f",
             "gridcolor": "white",
             "linecolor": "white",
             "minorgridcolor": "white",
             "startlinecolor": "#2a3f5f"
            },
            "baxis": {
             "endlinecolor": "#2a3f5f",
             "gridcolor": "white",
             "linecolor": "white",
             "minorgridcolor": "white",
             "startlinecolor": "#2a3f5f"
            },
            "type": "carpet"
           }
          ],
          "choropleth": [
           {
            "colorbar": {
             "outlinewidth": 0,
             "ticks": ""
            },
            "type": "choropleth"
           }
          ],
          "contour": [
           {
            "colorbar": {
             "outlinewidth": 0,
             "ticks": ""
            },
            "colorscale": [
             [
              0,
              "#0d0887"
             ],
             [
              0.1111111111111111,
              "#46039f"
             ],
             [
              0.2222222222222222,
              "#7201a8"
             ],
             [
              0.3333333333333333,
              "#9c179e"
             ],
             [
              0.4444444444444444,
              "#bd3786"
             ],
             [
              0.5555555555555556,
              "#d8576b"
             ],
             [
              0.6666666666666666,
              "#ed7953"
             ],
             [
              0.7777777777777778,
              "#fb9f3a"
             ],
             [
              0.8888888888888888,
              "#fdca26"
             ],
             [
              1,
              "#f0f921"
             ]
            ],
            "type": "contour"
           }
          ],
          "contourcarpet": [
           {
            "colorbar": {
             "outlinewidth": 0,
             "ticks": ""
            },
            "type": "contourcarpet"
           }
          ],
          "heatmap": [
           {
            "colorbar": {
             "outlinewidth": 0,
             "ticks": ""
            },
            "colorscale": [
             [
              0,
              "#0d0887"
             ],
             [
              0.1111111111111111,
              "#46039f"
             ],
             [
              0.2222222222222222,
              "#7201a8"
             ],
             [
              0.3333333333333333,
              "#9c179e"
             ],
             [
              0.4444444444444444,
              "#bd3786"
             ],
             [
              0.5555555555555556,
              "#d8576b"
             ],
             [
              0.6666666666666666,
              "#ed7953"
             ],
             [
              0.7777777777777778,
              "#fb9f3a"
             ],
             [
              0.8888888888888888,
              "#fdca26"
             ],
             [
              1,
              "#f0f921"
             ]
            ],
            "type": "heatmap"
           }
          ],
          "heatmapgl": [
           {
            "colorbar": {
             "outlinewidth": 0,
             "ticks": ""
            },
            "colorscale": [
             [
              0,
              "#0d0887"
             ],
             [
              0.1111111111111111,
              "#46039f"
             ],
             [
              0.2222222222222222,
              "#7201a8"
             ],
             [
              0.3333333333333333,
              "#9c179e"
             ],
             [
              0.4444444444444444,
              "#bd3786"
             ],
             [
              0.5555555555555556,
              "#d8576b"
             ],
             [
              0.6666666666666666,
              "#ed7953"
             ],
             [
              0.7777777777777778,
              "#fb9f3a"
             ],
             [
              0.8888888888888888,
              "#fdca26"
             ],
             [
              1,
              "#f0f921"
             ]
            ],
            "type": "heatmapgl"
           }
          ],
          "histogram": [
           {
            "marker": {
             "pattern": {
              "fillmode": "overlay",
              "size": 10,
              "solidity": 0.2
             }
            },
            "type": "histogram"
           }
          ],
          "histogram2d": [
           {
            "colorbar": {
             "outlinewidth": 0,
             "ticks": ""
            },
            "colorscale": [
             [
              0,
              "#0d0887"
             ],
             [
              0.1111111111111111,
              "#46039f"
             ],
             [
              0.2222222222222222,
              "#7201a8"
             ],
             [
              0.3333333333333333,
              "#9c179e"
             ],
             [
              0.4444444444444444,
              "#bd3786"
             ],
             [
              0.5555555555555556,
              "#d8576b"
             ],
             [
              0.6666666666666666,
              "#ed7953"
             ],
             [
              0.7777777777777778,
              "#fb9f3a"
             ],
             [
              0.8888888888888888,
              "#fdca26"
             ],
             [
              1,
              "#f0f921"
             ]
            ],
            "type": "histogram2d"
           }
          ],
          "histogram2dcontour": [
           {
            "colorbar": {
             "outlinewidth": 0,
             "ticks": ""
            },
            "colorscale": [
             [
              0,
              "#0d0887"
             ],
             [
              0.1111111111111111,
              "#46039f"
             ],
             [
              0.2222222222222222,
              "#7201a8"
             ],
             [
              0.3333333333333333,
              "#9c179e"
             ],
             [
              0.4444444444444444,
              "#bd3786"
             ],
             [
              0.5555555555555556,
              "#d8576b"
             ],
             [
              0.6666666666666666,
              "#ed7953"
             ],
             [
              0.7777777777777778,
              "#fb9f3a"
             ],
             [
              0.8888888888888888,
              "#fdca26"
             ],
             [
              1,
              "#f0f921"
             ]
            ],
            "type": "histogram2dcontour"
           }
          ],
          "mesh3d": [
           {
            "colorbar": {
             "outlinewidth": 0,
             "ticks": ""
            },
            "type": "mesh3d"
           }
          ],
          "parcoords": [
           {
            "line": {
             "colorbar": {
              "outlinewidth": 0,
              "ticks": ""
             }
            },
            "type": "parcoords"
           }
          ],
          "pie": [
           {
            "automargin": true,
            "type": "pie"
           }
          ],
          "scatter": [
           {
            "marker": {
             "colorbar": {
              "outlinewidth": 0,
              "ticks": ""
             }
            },
            "type": "scatter"
           }
          ],
          "scatter3d": [
           {
            "line": {
             "colorbar": {
              "outlinewidth": 0,
              "ticks": ""
             }
            },
            "marker": {
             "colorbar": {
              "outlinewidth": 0,
              "ticks": ""
             }
            },
            "type": "scatter3d"
           }
          ],
          "scattercarpet": [
           {
            "marker": {
             "colorbar": {
              "outlinewidth": 0,
              "ticks": ""
             }
            },
            "type": "scattercarpet"
           }
          ],
          "scattergeo": [
           {
            "marker": {
             "colorbar": {
              "outlinewidth": 0,
              "ticks": ""
             }
            },
            "type": "scattergeo"
           }
          ],
          "scattergl": [
           {
            "marker": {
             "colorbar": {
              "outlinewidth": 0,
              "ticks": ""
             }
            },
            "type": "scattergl"
           }
          ],
          "scattermapbox": [
           {
            "marker": {
             "colorbar": {
              "outlinewidth": 0,
              "ticks": ""
             }
            },
            "type": "scattermapbox"
           }
          ],
          "scatterpolar": [
           {
            "marker": {
             "colorbar": {
              "outlinewidth": 0,
              "ticks": ""
             }
            },
            "type": "scatterpolar"
           }
          ],
          "scatterpolargl": [
           {
            "marker": {
             "colorbar": {
              "outlinewidth": 0,
              "ticks": ""
             }
            },
            "type": "scatterpolargl"
           }
          ],
          "scatterternary": [
           {
            "marker": {
             "colorbar": {
              "outlinewidth": 0,
              "ticks": ""
             }
            },
            "type": "scatterternary"
           }
          ],
          "surface": [
           {
            "colorbar": {
             "outlinewidth": 0,
             "ticks": ""
            },
            "colorscale": [
             [
              0,
              "#0d0887"
             ],
             [
              0.1111111111111111,
              "#46039f"
             ],
             [
              0.2222222222222222,
              "#7201a8"
             ],
             [
              0.3333333333333333,
              "#9c179e"
             ],
             [
              0.4444444444444444,
              "#bd3786"
             ],
             [
              0.5555555555555556,
              "#d8576b"
             ],
             [
              0.6666666666666666,
              "#ed7953"
             ],
             [
              0.7777777777777778,
              "#fb9f3a"
             ],
             [
              0.8888888888888888,
              "#fdca26"
             ],
             [
              1,
              "#f0f921"
             ]
            ],
            "type": "surface"
           }
          ],
          "table": [
           {
            "cells": {
             "fill": {
              "color": "#EBF0F8"
             },
             "line": {
              "color": "white"
             }
            },
            "header": {
             "fill": {
              "color": "#C8D4E3"
             },
             "line": {
              "color": "white"
             }
            },
            "type": "table"
           }
          ]
         },
         "layout": {
          "annotationdefaults": {
           "arrowcolor": "#2a3f5f",
           "arrowhead": 0,
           "arrowwidth": 1
          },
          "autotypenumbers": "strict",
          "coloraxis": {
           "colorbar": {
            "outlinewidth": 0,
            "ticks": ""
           }
          },
          "colorscale": {
           "diverging": [
            [
             0,
             "#8e0152"
            ],
            [
             0.1,
             "#c51b7d"
            ],
            [
             0.2,
             "#de77ae"
            ],
            [
             0.3,
             "#f1b6da"
            ],
            [
             0.4,
             "#fde0ef"
            ],
            [
             0.5,
             "#f7f7f7"
            ],
            [
             0.6,
             "#e6f5d0"
            ],
            [
             0.7,
             "#b8e186"
            ],
            [
             0.8,
             "#7fbc41"
            ],
            [
             0.9,
             "#4d9221"
            ],
            [
             1,
             "#276419"
            ]
           ],
           "sequential": [
            [
             0,
             "#0d0887"
            ],
            [
             0.1111111111111111,
             "#46039f"
            ],
            [
             0.2222222222222222,
             "#7201a8"
            ],
            [
             0.3333333333333333,
             "#9c179e"
            ],
            [
             0.4444444444444444,
             "#bd3786"
            ],
            [
             0.5555555555555556,
             "#d8576b"
            ],
            [
             0.6666666666666666,
             "#ed7953"
            ],
            [
             0.7777777777777778,
             "#fb9f3a"
            ],
            [
             0.8888888888888888,
             "#fdca26"
            ],
            [
             1,
             "#f0f921"
            ]
           ],
           "sequentialminus": [
            [
             0,
             "#0d0887"
            ],
            [
             0.1111111111111111,
             "#46039f"
            ],
            [
             0.2222222222222222,
             "#7201a8"
            ],
            [
             0.3333333333333333,
             "#9c179e"
            ],
            [
             0.4444444444444444,
             "#bd3786"
            ],
            [
             0.5555555555555556,
             "#d8576b"
            ],
            [
             0.6666666666666666,
             "#ed7953"
            ],
            [
             0.7777777777777778,
             "#fb9f3a"
            ],
            [
             0.8888888888888888,
             "#fdca26"
            ],
            [
             1,
             "#f0f921"
            ]
           ]
          },
          "colorway": [
           "#636efa",
           "#EF553B",
           "#00cc96",
           "#ab63fa",
           "#FFA15A",
           "#19d3f3",
           "#FF6692",
           "#B6E880",
           "#FF97FF",
           "#FECB52"
          ],
          "font": {
           "color": "#2a3f5f"
          },
          "geo": {
           "bgcolor": "white",
           "lakecolor": "white",
           "landcolor": "#E5ECF6",
           "showlakes": true,
           "showland": true,
           "subunitcolor": "white"
          },
          "hoverlabel": {
           "align": "left"
          },
          "hovermode": "closest",
          "mapbox": {
           "style": "light"
          },
          "paper_bgcolor": "white",
          "plot_bgcolor": "#E5ECF6",
          "polar": {
           "angularaxis": {
            "gridcolor": "white",
            "linecolor": "white",
            "ticks": ""
           },
           "bgcolor": "#E5ECF6",
           "radialaxis": {
            "gridcolor": "white",
            "linecolor": "white",
            "ticks": ""
           }
          },
          "scene": {
           "xaxis": {
            "backgroundcolor": "#E5ECF6",
            "gridcolor": "white",
            "gridwidth": 2,
            "linecolor": "white",
            "showbackground": true,
            "ticks": "",
            "zerolinecolor": "white"
           },
           "yaxis": {
            "backgroundcolor": "#E5ECF6",
            "gridcolor": "white",
            "gridwidth": 2,
            "linecolor": "white",
            "showbackground": true,
            "ticks": "",
            "zerolinecolor": "white"
           },
           "zaxis": {
            "backgroundcolor": "#E5ECF6",
            "gridcolor": "white",
            "gridwidth": 2,
            "linecolor": "white",
            "showbackground": true,
            "ticks": "",
            "zerolinecolor": "white"
           }
          },
          "shapedefaults": {
           "line": {
            "color": "#2a3f5f"
           }
          },
          "ternary": {
           "aaxis": {
            "gridcolor": "white",
            "linecolor": "white",
            "ticks": ""
           },
           "baxis": {
            "gridcolor": "white",
            "linecolor": "white",
            "ticks": ""
           },
           "bgcolor": "#E5ECF6",
           "caxis": {
            "gridcolor": "white",
            "linecolor": "white",
            "ticks": ""
           }
          },
          "title": {
           "x": 0.05
          },
          "xaxis": {
           "automargin": true,
           "gridcolor": "white",
           "linecolor": "white",
           "ticks": "",
           "title": {
            "standoff": 15
           },
           "zerolinecolor": "white",
           "zerolinewidth": 2
          },
          "yaxis": {
           "automargin": true,
           "gridcolor": "white",
           "linecolor": "white",
           "ticks": "",
           "title": {
            "standoff": 15
           },
           "zerolinecolor": "white",
           "zerolinewidth": 2
          }
         }
        },
        "xaxis": {
         "anchor": "y",
         "domain": [
          0,
          1
         ],
         "title": {
          "text": "variable"
         }
        },
        "yaxis": {
         "anchor": "x",
         "domain": [
          0,
          1
         ],
         "title": {
          "text": "value"
         }
        }
       }
      },
      "text/html": [
       "<div>                            <div id=\"a3c6df25-7650-42c4-a1d3-8b3c7872cafe\" class=\"plotly-graph-div\" style=\"height:525px; width:100%;\"></div>            <script type=\"text/javascript\">                require([\"plotly\"], function(Plotly) {                    window.PLOTLYENV=window.PLOTLYENV || {};                                    if (document.getElementById(\"a3c6df25-7650-42c4-a1d3-8b3c7872cafe\")) {                    Plotly.newPlot(                        \"a3c6df25-7650-42c4-a1d3-8b3c7872cafe\",                        [{\"alignmentgroup\":\"True\",\"hovertemplate\":\"variable=%{x}<br>value=%{y}<extra></extra>\",\"legendgroup\":\"\",\"marker\":{\"color\":\"#636efa\"},\"name\":\"\",\"notched\":false,\"offsetgroup\":\"\",\"orientation\":\"v\",\"showlegend\":false,\"type\":\"box\",\"x\":[\"bp\",\"bp\",\"bp\",\"bp\",\"bp\",\"bp\",\"bp\",\"bp\",\"bp\",\"bp\",\"bp\",\"bp\",\"bp\",\"bp\",\"bp\",\"bp\",\"bp\",\"bp\",\"bp\",\"bp\",\"bp\",\"bp\",\"bp\",\"bp\",\"bp\",\"bp\",\"bp\",\"bp\",\"bp\",\"bp\",\"bp\",\"bp\",\"bp\",\"bp\",\"bp\",\"bp\",\"bp\",\"bp\",\"bp\",\"bp\",\"bp\",\"bp\",\"bp\",\"bp\",\"bp\",\"bp\",\"bp\",\"bp\",\"bp\",\"bp\",\"bp\",\"bp\",\"bp\",\"bp\",\"bp\",\"bp\",\"bp\",\"bp\",\"bp\",\"bp\",\"bp\",\"bp\",\"bp\",\"bp\",\"bp\",\"bp\",\"bp\",\"bp\",\"bp\",\"bp\",\"bp\",\"bp\",\"bp\",\"bp\",\"bp\",\"bp\",\"bp\",\"bp\",\"bp\",\"bp\",\"bp\",\"bp\",\"bp\",\"bp\",\"bp\",\"bp\",\"bp\",\"bp\",\"bp\",\"bp\",\"bp\",\"bp\",\"bp\",\"bp\",\"bp\",\"bp\",\"bp\",\"bp\",\"bp\",\"bp\",\"bp\",\"bp\",\"bp\",\"bp\",\"bp\",\"bp\",\"bp\",\"bp\",\"bp\",\"bp\",\"bp\",\"bp\",\"bp\",\"bp\",\"bp\",\"bp\",\"bp\",\"bp\",\"bp\",\"bp\",\"bp\",\"bp\",\"bp\",\"bp\",\"bp\",\"bp\",\"bp\",\"bp\",\"bp\",\"bp\",\"bp\",\"bp\",\"bp\",\"bp\",\"bp\",\"bp\",\"bp\",\"bp\",\"bp\",\"bp\",\"bp\",\"bp\",\"bp\",\"bp\",\"bp\",\"bp\",\"bp\",\"bp\",\"bp\",\"bp\",\"bp\",\"bp\",\"bp\",\"bp\",\"bp\",\"bp\",\"bp\",\"bp\",\"bp\",\"bp\",\"bp\",\"bp\",\"bp\",\"bp\",\"bp\",\"bp\",\"bp\",\"bp\",\"bp\",\"bp\",\"bp\",\"bp\",\"bp\",\"bp\",\"bp\",\"bp\",\"bp\",\"bp\",\"bp\",\"bp\",\"bp\",\"bp\",\"bp\",\"bp\",\"bp\",\"bp\",\"bp\",\"bp\",\"bp\",\"bp\",\"bp\",\"bp\",\"bp\",\"bp\",\"bp\",\"bp\",\"bp\",\"bp\",\"bp\",\"bp\",\"bp\",\"bp\",\"bp\",\"bp\",\"bp\",\"bp\",\"bp\",\"bp\",\"bp\",\"bp\",\"bp\",\"bp\",\"bp\",\"bp\",\"bp\",\"bp\",\"bp\",\"bp\",\"bp\",\"bp\",\"bp\",\"bp\",\"bp\",\"bp\",\"bp\",\"bp\",\"bp\",\"bp\",\"bp\",\"bp\",\"bp\",\"bp\",\"bp\",\"bp\",\"bp\",\"bp\",\"bp\",\"bp\",\"bp\",\"bp\",\"bp\",\"bp\",\"bp\",\"bp\",\"bp\",\"bp\",\"bp\",\"bp\",\"bp\",\"bp\",\"bp\",\"bp\",\"bp\",\"bp\",\"bp\",\"bp\",\"bp\",\"bp\",\"bp\",\"bp\",\"bp\",\"bp\",\"bp\",\"bp\",\"bp\",\"bp\",\"bp\",\"bp\",\"bp\",\"bp\",\"bp\",\"bp\",\"bp\",\"bp\",\"bp\",\"bp\",\"bp\",\"bp\",\"bp\",\"bp\",\"bp\",\"bp\",\"bp\",\"bp\",\"bp\",\"bp\",\"bp\",\"bp\",\"bp\",\"bp\",\"bp\",\"bp\",\"bp\",\"bp\",\"bp\",\"bp\",\"bp\",\"bp\",\"bp\",\"bp\",\"bp\",\"bp\",\"bp\",\"bp\",\"bp\",\"bp\",\"bp\",\"bp\",\"bp\",\"bp\",\"bp\",\"bp\",\"bp\",\"bp\",\"bp\",\"bp\",\"bp\",\"bp\",\"bp\",\"bp\",\"bp\",\"bp\",\"bp\",\"bp\",\"bp\",\"bp\",\"bp\",\"bp\",\"bp\",\"bp\",\"bp\",\"bp\",\"bp\",\"bp\",\"bp\",\"bp\",\"bp\",\"bp\",\"bp\",\"bp\",\"bp\",\"bp\",\"bp\",\"bp\",\"bp\",\"bp\",\"bp\",\"bp\",\"bp\",\"bp\",\"bp\",\"bp\",\"bp\",\"bp\",\"bp\",\"bp\",\"bp\",\"bp\",\"bp\",\"bp\",\"bp\",\"bp\",\"bp\",\"bp\",\"bp\",\"bp\",\"bp\",\"bp\",\"bp\",\"bp\",\"bp\",\"bp\",\"bp\",\"bp\",\"bp\",\"bp\",\"bp\",\"bp\",\"bp\",\"bp\",\"bp\",\"bp\",\"bp\",\"bp\",\"bp\",\"bp\",\"bp\",\"bp\",\"bp\",\"bp\",\"bp\",\"bp\",\"bp\",\"bp\",\"bp\",\"bp\",\"bp\",\"bp\",\"bp\",\"bp\",\"bp\",\"bp\",\"bp\",\"bp\",\"bp\",\"bp\",\"bp\",\"bp\",\"bp\",\"bp\",\"bp\",\"bp\",\"bp\",\"bp\",\"bp\",\"bp\",\"bp\",\"bp\",\"bp\",\"bp\",\"bp\",\"bp\",\"bp\",\"bp\",\"bp\",\"bp\",\"bp\",\"bp\",\"bp\",\"bp\",\"bp\",\"bp\",\"bp\",\"bp\",\"bp\",\"bp\",\"bp\",\"bp\",\"bp\",\"bp\",\"bp\",\"bp\",\"bp\",\"bp\",\"bp\",\"bp\",\"bp\",\"bp\",\"bp\",\"bp\",\"bp\",\"bp\",\"bp\",\"bp\",\"bp\",\"bp\",\"bp\",\"bp\",\"bp\",\"bp\",\"bp\",\"bp\",\"bp\",\"bp\",\"bp\",\"bp\",\"bp\",\"bp\",\"bp\",\"bp\",\"bp\",\"bp\",\"bp\",\"bp\",\"bp\",\"bp\",\"bp\",\"bp\",\"bp\",\"bp\",\"bp\",\"bp\",\"bp\",\"bp\",\"bp\",\"bp\",\"bp\",\"bp\",\"bp\",\"bp\",\"bp\",\"bp\",\"bp\",\"bp\",\"bp\",\"bp\",\"bp\",\"bp\",\"bp\",\"bp\",\"bp\",\"bp\",\"bp\",\"bp\",\"bp\",\"bp\",\"bp\",\"bp\",\"bp\",\"bp\",\"bp\",\"bp\",\"bp\",\"bp\",\"bp\",\"bp\",\"bp\",\"bp\",\"bp\",\"bp\",\"bp\",\"bp\",\"bp\",\"bp\",\"bp\",\"bp\",\"bp\",\"bp\",\"bp\",\"bp\",\"bp\",\"bp\",\"bp\",\"bp\",\"bp\",\"bp\",\"bp\",\"bp\",\"bp\",\"bp\",\"bp\",\"bp\",\"bp\",\"bp\",\"bp\",\"bp\",\"bp\",\"bp\",\"bp\",\"bp\",\"bp\",\"bp\",\"bp\",\"bp\",\"bp\",\"bp\",\"bp\",\"bp\",\"bp\",\"bp\",\"bp\",\"bp\",\"bp\",\"bp\",\"bp\",\"bp\",\"bp\",\"bp\",\"bp\",\"bp\",\"bp\",\"bp\",\"bp\",\"bp\",\"bp\",\"bp\",\"bp\",\"bp\",\"bp\",\"bp\",\"bp\",\"bp\",\"bp\",\"bp\",\"bp\",\"bp\",\"bp\",\"bp\",\"bp\",\"bp\",\"bp\",\"bp\",\"bp\",\"bp\",\"bp\",\"bp\",\"bp\",\"bp\",\"bp\",\"bp\",\"bp\",\"bp\",\"bp\",\"bp\",\"bp\",\"bp\",\"bp\",\"bp\",\"bp\",\"bp\",\"bp\",\"bp\",\"bp\",\"bp\",\"bp\",\"bp\",\"bp\",\"bp\",\"bp\",\"bp\",\"bp\",\"bp\",\"bp\",\"bp\",\"bp\",\"bp\",\"bp\",\"bp\",\"bp\",\"bp\",\"bp\",\"bp\",\"bp\",\"bp\",\"bp\",\"bp\",\"bp\",\"bp\",\"bp\",\"bp\",\"bp\",\"bp\",\"bp\",\"bp\",\"bp\",\"bp\",\"bp\",\"bp\",\"bp\",\"bp\",\"bp\",\"bp\",\"bp\",\"bp\",\"bp\",\"bp\",\"bp\",\"bp\",\"bp\",\"bp\",\"bp\",\"bp\",\"bp\",\"bp\",\"bp\",\"bp\",\"bp\",\"bp\",\"bp\",\"bp\",\"bp\",\"bp\",\"bp\",\"bp\",\"bp\",\"bp\",\"bp\",\"bp\",\"bp\",\"bp\",\"bp\",\"bp\",\"bp\",\"bp\",\"bp\",\"bp\",\"bp\",\"bp\",\"bp\",\"bp\",\"bp\",\"bp\",\"bp\",\"bp\",\"bp\",\"bp\",\"bp\",\"bp\",\"bp\",\"bp\",\"bp\",\"bp\",\"bp\",\"bp\",\"bp\",\"bp\",\"bp\",\"bp\",\"bp\",\"bp\",\"bp\",\"bp\",\"bp\",\"bp\"],\"x0\":\" \",\"xaxis\":\"x\",\"y\":[72,66,64,66,40,74,50,70,96,92,74,80,60,72,84,74,70,88,84,90,80,94,70,76,66,82,92,75,76,58,92,78,60,76,76,68,72,64,84,92,64,66,56,70,66,80,50,66,90,66,50,68,88,82,64,72,62,58,66,74,88,92,66,85,66,64,90,86,75,78,72,66,44,78,65,74,72,68,68,55,80,78,72,82,72,62,48,50,90,72,60,96,72,65,56,58,58,85,72,62,76,62,54,92,74,48,60,76,76,64,74,80,76,70,58,88,84,70,56,64,74,68,60,70,60,80,72,78,82,52,66,62,75,80,64,78,70,74,65,86,82,78,88,52,56,74,90,74,80,64,88,74,66,68,66,90,82,70,60,64,72,78,78,82,80,64,60,74,68,68,98,76,80,62,70,66,55,84,58,62,64,60,80,82,68,70,72,72,76,104,64,84,60,85,95,65,82,70,62,68,74,66,60,90,60,66,78,76,52,70,80,86,80,80,68,68,72,84,90,84,76,64,70,54,50,76,85,68,90,70,86,52,84,80,68,62,64,56,68,50,76,68,70,80,62,74,64,52,86,62,78,78,70,70,60,64,74,62,70,76,88,86,80,74,84,86,56,72,88,62,78,48,50,62,70,84,72,58,82,98,76,76,68,68,68,68,66,70,74,50,80,68,80,74,66,78,60,74,70,90,75,72,64,70,86,70,72,58,80,60,76,76,78,84,70,74,86,72,88,46,62,80,84,82,62,78,88,50,74,76,64,70,78,74,54,72,64,86,102,82,64,64,58,52,82,82,60,75,100,72,68,60,62,70,54,74,100,82,68,66,76,64,72,78,58,56,66,70,70,64,61,84,78,64,48,72,62,74,68,90,72,84,74,60,84,68,82,68,64,88,68,64,64,78,78,64,94,82,74,74,75,68,85,75,70,88,104,66,64,70,62,78,72,80,64,74,64,70,68,54,54,68,84,74,72,62,70,78,98,56,52,64,78,82,70,66,90,64,84,80,76,74,86,70,88,58,82,68,62,78,72,80,65,90,68,70,74,68,72,70,74,90,72,64,78,82,90,60,50,78,72,62,68,62,54,70,88,86,60,90,70,80,70,58,60,64,74,66,65,60,76,66,56,90,60,80,92,74,72,85,90,78,90,76,68,82,70,68,88,62,64,70,70,76,68,74,76,66,68,60,80,54,72,62,72,66,70,96,58,60,86,44,44,80,68,70,90,60,78,76,76,56,66,66,86,84,78,80,52,72,82,76,74,38,88,74,78,60,78,62,82,62,54,58,88,80,74,72,96,62,82,86,76,94,70,64,88,68,78,80,65,64,78,60,82,62,72,74,76,76,74,86,70,80,72,74,74,50,84,60,54,60,74,54,70,52,58,80,106,82,84,76,106,80,60,80,82,70,58,78,68,58,106,100,82,70,86,60,52,58,56,76,64,80,82,74,64,50,74,82,80,70,68,60,90,74,88,70,76,78,88,76,80,46,78,64,64,78,62,58,74,50,78,72,60,76,86,66,68,86,94,78,78,84,88,52,78,86,88,56,75,60,86,72,60,74,80,44,58,94,88,84,94,74,70,62,70,78,62,88,78,88,90,72,76,92,58,74,62,76,70,72,60,70],\"y0\":\" \",\"yaxis\":\"y\"}],                        {\"boxmode\":\"group\",\"legend\":{\"tracegroupgap\":0},\"margin\":{\"t\":60},\"template\":{\"data\":{\"bar\":[{\"error_x\":{\"color\":\"#2a3f5f\"},\"error_y\":{\"color\":\"#2a3f5f\"},\"marker\":{\"line\":{\"color\":\"#E5ECF6\",\"width\":0.5},\"pattern\":{\"fillmode\":\"overlay\",\"size\":10,\"solidity\":0.2}},\"type\":\"bar\"}],\"barpolar\":[{\"marker\":{\"line\":{\"color\":\"#E5ECF6\",\"width\":0.5},\"pattern\":{\"fillmode\":\"overlay\",\"size\":10,\"solidity\":0.2}},\"type\":\"barpolar\"}],\"carpet\":[{\"aaxis\":{\"endlinecolor\":\"#2a3f5f\",\"gridcolor\":\"white\",\"linecolor\":\"white\",\"minorgridcolor\":\"white\",\"startlinecolor\":\"#2a3f5f\"},\"baxis\":{\"endlinecolor\":\"#2a3f5f\",\"gridcolor\":\"white\",\"linecolor\":\"white\",\"minorgridcolor\":\"white\",\"startlinecolor\":\"#2a3f5f\"},\"type\":\"carpet\"}],\"choropleth\":[{\"colorbar\":{\"outlinewidth\":0,\"ticks\":\"\"},\"type\":\"choropleth\"}],\"contour\":[{\"colorbar\":{\"outlinewidth\":0,\"ticks\":\"\"},\"colorscale\":[[0.0,\"#0d0887\"],[0.1111111111111111,\"#46039f\"],[0.2222222222222222,\"#7201a8\"],[0.3333333333333333,\"#9c179e\"],[0.4444444444444444,\"#bd3786\"],[0.5555555555555556,\"#d8576b\"],[0.6666666666666666,\"#ed7953\"],[0.7777777777777778,\"#fb9f3a\"],[0.8888888888888888,\"#fdca26\"],[1.0,\"#f0f921\"]],\"type\":\"contour\"}],\"contourcarpet\":[{\"colorbar\":{\"outlinewidth\":0,\"ticks\":\"\"},\"type\":\"contourcarpet\"}],\"heatmap\":[{\"colorbar\":{\"outlinewidth\":0,\"ticks\":\"\"},\"colorscale\":[[0.0,\"#0d0887\"],[0.1111111111111111,\"#46039f\"],[0.2222222222222222,\"#7201a8\"],[0.3333333333333333,\"#9c179e\"],[0.4444444444444444,\"#bd3786\"],[0.5555555555555556,\"#d8576b\"],[0.6666666666666666,\"#ed7953\"],[0.7777777777777778,\"#fb9f3a\"],[0.8888888888888888,\"#fdca26\"],[1.0,\"#f0f921\"]],\"type\":\"heatmap\"}],\"heatmapgl\":[{\"colorbar\":{\"outlinewidth\":0,\"ticks\":\"\"},\"colorscale\":[[0.0,\"#0d0887\"],[0.1111111111111111,\"#46039f\"],[0.2222222222222222,\"#7201a8\"],[0.3333333333333333,\"#9c179e\"],[0.4444444444444444,\"#bd3786\"],[0.5555555555555556,\"#d8576b\"],[0.6666666666666666,\"#ed7953\"],[0.7777777777777778,\"#fb9f3a\"],[0.8888888888888888,\"#fdca26\"],[1.0,\"#f0f921\"]],\"type\":\"heatmapgl\"}],\"histogram\":[{\"marker\":{\"pattern\":{\"fillmode\":\"overlay\",\"size\":10,\"solidity\":0.2}},\"type\":\"histogram\"}],\"histogram2d\":[{\"colorbar\":{\"outlinewidth\":0,\"ticks\":\"\"},\"colorscale\":[[0.0,\"#0d0887\"],[0.1111111111111111,\"#46039f\"],[0.2222222222222222,\"#7201a8\"],[0.3333333333333333,\"#9c179e\"],[0.4444444444444444,\"#bd3786\"],[0.5555555555555556,\"#d8576b\"],[0.6666666666666666,\"#ed7953\"],[0.7777777777777778,\"#fb9f3a\"],[0.8888888888888888,\"#fdca26\"],[1.0,\"#f0f921\"]],\"type\":\"histogram2d\"}],\"histogram2dcontour\":[{\"colorbar\":{\"outlinewidth\":0,\"ticks\":\"\"},\"colorscale\":[[0.0,\"#0d0887\"],[0.1111111111111111,\"#46039f\"],[0.2222222222222222,\"#7201a8\"],[0.3333333333333333,\"#9c179e\"],[0.4444444444444444,\"#bd3786\"],[0.5555555555555556,\"#d8576b\"],[0.6666666666666666,\"#ed7953\"],[0.7777777777777778,\"#fb9f3a\"],[0.8888888888888888,\"#fdca26\"],[1.0,\"#f0f921\"]],\"type\":\"histogram2dcontour\"}],\"mesh3d\":[{\"colorbar\":{\"outlinewidth\":0,\"ticks\":\"\"},\"type\":\"mesh3d\"}],\"parcoords\":[{\"line\":{\"colorbar\":{\"outlinewidth\":0,\"ticks\":\"\"}},\"type\":\"parcoords\"}],\"pie\":[{\"automargin\":true,\"type\":\"pie\"}],\"scatter\":[{\"marker\":{\"colorbar\":{\"outlinewidth\":0,\"ticks\":\"\"}},\"type\":\"scatter\"}],\"scatter3d\":[{\"line\":{\"colorbar\":{\"outlinewidth\":0,\"ticks\":\"\"}},\"marker\":{\"colorbar\":{\"outlinewidth\":0,\"ticks\":\"\"}},\"type\":\"scatter3d\"}],\"scattercarpet\":[{\"marker\":{\"colorbar\":{\"outlinewidth\":0,\"ticks\":\"\"}},\"type\":\"scattercarpet\"}],\"scattergeo\":[{\"marker\":{\"colorbar\":{\"outlinewidth\":0,\"ticks\":\"\"}},\"type\":\"scattergeo\"}],\"scattergl\":[{\"marker\":{\"colorbar\":{\"outlinewidth\":0,\"ticks\":\"\"}},\"type\":\"scattergl\"}],\"scattermapbox\":[{\"marker\":{\"colorbar\":{\"outlinewidth\":0,\"ticks\":\"\"}},\"type\":\"scattermapbox\"}],\"scatterpolar\":[{\"marker\":{\"colorbar\":{\"outlinewidth\":0,\"ticks\":\"\"}},\"type\":\"scatterpolar\"}],\"scatterpolargl\":[{\"marker\":{\"colorbar\":{\"outlinewidth\":0,\"ticks\":\"\"}},\"type\":\"scatterpolargl\"}],\"scatterternary\":[{\"marker\":{\"colorbar\":{\"outlinewidth\":0,\"ticks\":\"\"}},\"type\":\"scatterternary\"}],\"surface\":[{\"colorbar\":{\"outlinewidth\":0,\"ticks\":\"\"},\"colorscale\":[[0.0,\"#0d0887\"],[0.1111111111111111,\"#46039f\"],[0.2222222222222222,\"#7201a8\"],[0.3333333333333333,\"#9c179e\"],[0.4444444444444444,\"#bd3786\"],[0.5555555555555556,\"#d8576b\"],[0.6666666666666666,\"#ed7953\"],[0.7777777777777778,\"#fb9f3a\"],[0.8888888888888888,\"#fdca26\"],[1.0,\"#f0f921\"]],\"type\":\"surface\"}],\"table\":[{\"cells\":{\"fill\":{\"color\":\"#EBF0F8\"},\"line\":{\"color\":\"white\"}},\"header\":{\"fill\":{\"color\":\"#C8D4E3\"},\"line\":{\"color\":\"white\"}},\"type\":\"table\"}]},\"layout\":{\"annotationdefaults\":{\"arrowcolor\":\"#2a3f5f\",\"arrowhead\":0,\"arrowwidth\":1},\"autotypenumbers\":\"strict\",\"coloraxis\":{\"colorbar\":{\"outlinewidth\":0,\"ticks\":\"\"}},\"colorscale\":{\"diverging\":[[0,\"#8e0152\"],[0.1,\"#c51b7d\"],[0.2,\"#de77ae\"],[0.3,\"#f1b6da\"],[0.4,\"#fde0ef\"],[0.5,\"#f7f7f7\"],[0.6,\"#e6f5d0\"],[0.7,\"#b8e186\"],[0.8,\"#7fbc41\"],[0.9,\"#4d9221\"],[1,\"#276419\"]],\"sequential\":[[0.0,\"#0d0887\"],[0.1111111111111111,\"#46039f\"],[0.2222222222222222,\"#7201a8\"],[0.3333333333333333,\"#9c179e\"],[0.4444444444444444,\"#bd3786\"],[0.5555555555555556,\"#d8576b\"],[0.6666666666666666,\"#ed7953\"],[0.7777777777777778,\"#fb9f3a\"],[0.8888888888888888,\"#fdca26\"],[1.0,\"#f0f921\"]],\"sequentialminus\":[[0.0,\"#0d0887\"],[0.1111111111111111,\"#46039f\"],[0.2222222222222222,\"#7201a8\"],[0.3333333333333333,\"#9c179e\"],[0.4444444444444444,\"#bd3786\"],[0.5555555555555556,\"#d8576b\"],[0.6666666666666666,\"#ed7953\"],[0.7777777777777778,\"#fb9f3a\"],[0.8888888888888888,\"#fdca26\"],[1.0,\"#f0f921\"]]},\"colorway\":[\"#636efa\",\"#EF553B\",\"#00cc96\",\"#ab63fa\",\"#FFA15A\",\"#19d3f3\",\"#FF6692\",\"#B6E880\",\"#FF97FF\",\"#FECB52\"],\"font\":{\"color\":\"#2a3f5f\"},\"geo\":{\"bgcolor\":\"white\",\"lakecolor\":\"white\",\"landcolor\":\"#E5ECF6\",\"showlakes\":true,\"showland\":true,\"subunitcolor\":\"white\"},\"hoverlabel\":{\"align\":\"left\"},\"hovermode\":\"closest\",\"mapbox\":{\"style\":\"light\"},\"paper_bgcolor\":\"white\",\"plot_bgcolor\":\"#E5ECF6\",\"polar\":{\"angularaxis\":{\"gridcolor\":\"white\",\"linecolor\":\"white\",\"ticks\":\"\"},\"bgcolor\":\"#E5ECF6\",\"radialaxis\":{\"gridcolor\":\"white\",\"linecolor\":\"white\",\"ticks\":\"\"}},\"scene\":{\"xaxis\":{\"backgroundcolor\":\"#E5ECF6\",\"gridcolor\":\"white\",\"gridwidth\":2,\"linecolor\":\"white\",\"showbackground\":true,\"ticks\":\"\",\"zerolinecolor\":\"white\"},\"yaxis\":{\"backgroundcolor\":\"#E5ECF6\",\"gridcolor\":\"white\",\"gridwidth\":2,\"linecolor\":\"white\",\"showbackground\":true,\"ticks\":\"\",\"zerolinecolor\":\"white\"},\"zaxis\":{\"backgroundcolor\":\"#E5ECF6\",\"gridcolor\":\"white\",\"gridwidth\":2,\"linecolor\":\"white\",\"showbackground\":true,\"ticks\":\"\",\"zerolinecolor\":\"white\"}},\"shapedefaults\":{\"line\":{\"color\":\"#2a3f5f\"}},\"ternary\":{\"aaxis\":{\"gridcolor\":\"white\",\"linecolor\":\"white\",\"ticks\":\"\"},\"baxis\":{\"gridcolor\":\"white\",\"linecolor\":\"white\",\"ticks\":\"\"},\"bgcolor\":\"#E5ECF6\",\"caxis\":{\"gridcolor\":\"white\",\"linecolor\":\"white\",\"ticks\":\"\"}},\"title\":{\"x\":0.05},\"xaxis\":{\"automargin\":true,\"gridcolor\":\"white\",\"linecolor\":\"white\",\"ticks\":\"\",\"title\":{\"standoff\":15},\"zerolinecolor\":\"white\",\"zerolinewidth\":2},\"yaxis\":{\"automargin\":true,\"gridcolor\":\"white\",\"linecolor\":\"white\",\"ticks\":\"\",\"title\":{\"standoff\":15},\"zerolinecolor\":\"white\",\"zerolinewidth\":2}}},\"xaxis\":{\"anchor\":\"y\",\"domain\":[0.0,1.0],\"title\":{\"text\":\"variable\"}},\"yaxis\":{\"anchor\":\"x\",\"domain\":[0.0,1.0],\"title\":{\"text\":\"value\"}}},                        {\"responsive\": true}                    ).then(function(){\n",
       "                            \n",
       "var gd = document.getElementById('a3c6df25-7650-42c4-a1d3-8b3c7872cafe');\n",
       "var x = new MutationObserver(function (mutations, observer) {{\n",
       "        var display = window.getComputedStyle(gd).display;\n",
       "        if (!display || display === 'none') {{\n",
       "            console.log([gd, 'removed!']);\n",
       "            Plotly.purge(gd);\n",
       "            observer.disconnect();\n",
       "        }}\n",
       "}});\n",
       "\n",
       "// Listen for the removal of the full notebook cells\n",
       "var notebookContainer = gd.closest('#notebook-container');\n",
       "if (notebookContainer) {{\n",
       "    x.observe(notebookContainer, {childList: true});\n",
       "}}\n",
       "\n",
       "// Listen for the clearing of the current output cell\n",
       "var outputEl = gd.closest('.output');\n",
       "if (outputEl) {{\n",
       "    x.observe(outputEl, {childList: true});\n",
       "}}\n",
       "\n",
       "                        })                };                });            </script>        </div>"
      ]
     },
     "metadata": {},
     "output_type": "display_data"
    }
   ],
   "source": [
    "px.box(df['bp'])"
   ]
  },
  {
   "cell_type": "code",
   "execution_count": 107,
   "id": "51a6ebbe",
   "metadata": {},
   "outputs": [
    {
     "data": {
      "application/vnd.plotly.v1+json": {
       "config": {
        "plotlyServerURL": "https://plot.ly"
       },
       "data": [
        {
         "alignmentgroup": "True",
         "hovertemplate": "variable=%{x}<br>value=%{y}<extra></extra>",
         "legendgroup": "",
         "marker": {
          "color": "#636efa"
         },
         "name": "",
         "notched": false,
         "offsetgroup": "",
         "orientation": "v",
         "showlegend": false,
         "type": "box",
         "x": [
          "sft",
          "sft",
          "sft",
          "sft",
          "sft",
          "sft",
          "sft",
          "sft",
          "sft",
          "sft",
          "sft",
          "sft",
          "sft",
          "sft",
          "sft",
          "sft",
          "sft",
          "sft",
          "sft",
          "sft",
          "sft",
          "sft",
          "sft",
          "sft",
          "sft",
          "sft",
          "sft",
          "sft",
          "sft",
          "sft",
          "sft",
          "sft",
          "sft",
          "sft",
          "sft",
          "sft",
          "sft",
          "sft",
          "sft",
          "sft",
          "sft",
          "sft",
          "sft",
          "sft",
          "sft",
          "sft",
          "sft",
          "sft",
          "sft",
          "sft",
          "sft",
          "sft",
          "sft",
          "sft",
          "sft",
          "sft",
          "sft",
          "sft",
          "sft",
          "sft",
          "sft",
          "sft",
          "sft",
          "sft",
          "sft",
          "sft",
          "sft",
          "sft",
          "sft",
          "sft",
          "sft",
          "sft",
          "sft",
          "sft",
          "sft",
          "sft",
          "sft",
          "sft",
          "sft",
          "sft",
          "sft",
          "sft",
          "sft",
          "sft",
          "sft",
          "sft",
          "sft",
          "sft",
          "sft",
          "sft",
          "sft",
          "sft",
          "sft",
          "sft",
          "sft",
          "sft",
          "sft",
          "sft",
          "sft",
          "sft",
          "sft",
          "sft",
          "sft",
          "sft",
          "sft",
          "sft",
          "sft",
          "sft",
          "sft",
          "sft",
          "sft",
          "sft",
          "sft",
          "sft",
          "sft",
          "sft",
          "sft",
          "sft",
          "sft",
          "sft",
          "sft",
          "sft",
          "sft",
          "sft",
          "sft",
          "sft",
          "sft",
          "sft",
          "sft",
          "sft",
          "sft",
          "sft",
          "sft",
          "sft",
          "sft",
          "sft",
          "sft",
          "sft",
          "sft",
          "sft",
          "sft",
          "sft",
          "sft",
          "sft",
          "sft",
          "sft",
          "sft",
          "sft",
          "sft",
          "sft",
          "sft",
          "sft",
          "sft",
          "sft",
          "sft",
          "sft",
          "sft",
          "sft",
          "sft",
          "sft",
          "sft",
          "sft",
          "sft",
          "sft",
          "sft",
          "sft",
          "sft",
          "sft",
          "sft",
          "sft",
          "sft",
          "sft",
          "sft",
          "sft",
          "sft",
          "sft",
          "sft",
          "sft",
          "sft",
          "sft",
          "sft",
          "sft",
          "sft",
          "sft",
          "sft",
          "sft",
          "sft",
          "sft",
          "sft",
          "sft",
          "sft",
          "sft",
          "sft",
          "sft",
          "sft",
          "sft",
          "sft",
          "sft",
          "sft",
          "sft",
          "sft",
          "sft",
          "sft",
          "sft",
          "sft",
          "sft",
          "sft",
          "sft",
          "sft",
          "sft",
          "sft",
          "sft",
          "sft",
          "sft",
          "sft",
          "sft",
          "sft",
          "sft",
          "sft",
          "sft",
          "sft",
          "sft",
          "sft",
          "sft",
          "sft",
          "sft",
          "sft",
          "sft",
          "sft",
          "sft",
          "sft",
          "sft",
          "sft",
          "sft",
          "sft",
          "sft",
          "sft",
          "sft",
          "sft",
          "sft",
          "sft",
          "sft",
          "sft",
          "sft",
          "sft",
          "sft",
          "sft",
          "sft",
          "sft",
          "sft",
          "sft",
          "sft",
          "sft",
          "sft",
          "sft",
          "sft",
          "sft",
          "sft",
          "sft",
          "sft",
          "sft",
          "sft",
          "sft",
          "sft",
          "sft",
          "sft",
          "sft",
          "sft",
          "sft",
          "sft",
          "sft",
          "sft",
          "sft",
          "sft",
          "sft",
          "sft",
          "sft",
          "sft",
          "sft",
          "sft",
          "sft",
          "sft",
          "sft",
          "sft",
          "sft",
          "sft",
          "sft",
          "sft",
          "sft",
          "sft",
          "sft",
          "sft",
          "sft",
          "sft",
          "sft",
          "sft",
          "sft",
          "sft",
          "sft",
          "sft",
          "sft",
          "sft",
          "sft",
          "sft",
          "sft",
          "sft",
          "sft",
          "sft",
          "sft",
          "sft",
          "sft",
          "sft",
          "sft",
          "sft",
          "sft",
          "sft",
          "sft",
          "sft",
          "sft",
          "sft",
          "sft",
          "sft",
          "sft",
          "sft",
          "sft",
          "sft",
          "sft",
          "sft",
          "sft",
          "sft",
          "sft",
          "sft",
          "sft",
          "sft",
          "sft",
          "sft",
          "sft",
          "sft",
          "sft",
          "sft",
          "sft",
          "sft",
          "sft",
          "sft",
          "sft",
          "sft",
          "sft",
          "sft",
          "sft",
          "sft",
          "sft",
          "sft",
          "sft",
          "sft",
          "sft",
          "sft",
          "sft",
          "sft",
          "sft",
          "sft",
          "sft",
          "sft",
          "sft",
          "sft",
          "sft",
          "sft",
          "sft",
          "sft",
          "sft",
          "sft",
          "sft",
          "sft",
          "sft",
          "sft",
          "sft",
          "sft",
          "sft",
          "sft",
          "sft",
          "sft",
          "sft",
          "sft",
          "sft",
          "sft",
          "sft",
          "sft",
          "sft",
          "sft",
          "sft",
          "sft",
          "sft",
          "sft",
          "sft",
          "sft",
          "sft",
          "sft",
          "sft",
          "sft",
          "sft",
          "sft",
          "sft",
          "sft",
          "sft",
          "sft",
          "sft",
          "sft",
          "sft",
          "sft",
          "sft",
          "sft",
          "sft",
          "sft",
          "sft",
          "sft",
          "sft",
          "sft",
          "sft",
          "sft",
          "sft",
          "sft",
          "sft",
          "sft",
          "sft",
          "sft",
          "sft",
          "sft",
          "sft",
          "sft",
          "sft",
          "sft",
          "sft",
          "sft",
          "sft",
          "sft",
          "sft",
          "sft",
          "sft",
          "sft",
          "sft",
          "sft",
          "sft",
          "sft",
          "sft",
          "sft",
          "sft",
          "sft",
          "sft",
          "sft",
          "sft",
          "sft",
          "sft",
          "sft",
          "sft",
          "sft",
          "sft",
          "sft",
          "sft",
          "sft",
          "sft",
          "sft",
          "sft",
          "sft",
          "sft",
          "sft",
          "sft",
          "sft",
          "sft",
          "sft",
          "sft",
          "sft",
          "sft",
          "sft",
          "sft",
          "sft",
          "sft",
          "sft",
          "sft",
          "sft",
          "sft",
          "sft",
          "sft",
          "sft",
          "sft",
          "sft",
          "sft",
          "sft",
          "sft",
          "sft",
          "sft",
          "sft",
          "sft",
          "sft",
          "sft",
          "sft",
          "sft",
          "sft",
          "sft",
          "sft",
          "sft",
          "sft",
          "sft",
          "sft",
          "sft",
          "sft",
          "sft",
          "sft",
          "sft",
          "sft",
          "sft",
          "sft",
          "sft",
          "sft",
          "sft",
          "sft",
          "sft",
          "sft",
          "sft",
          "sft",
          "sft",
          "sft",
          "sft",
          "sft",
          "sft",
          "sft",
          "sft",
          "sft",
          "sft",
          "sft",
          "sft",
          "sft",
          "sft",
          "sft",
          "sft",
          "sft",
          "sft",
          "sft",
          "sft",
          "sft",
          "sft",
          "sft",
          "sft",
          "sft",
          "sft",
          "sft",
          "sft",
          "sft",
          "sft",
          "sft",
          "sft",
          "sft",
          "sft",
          "sft",
          "sft",
          "sft",
          "sft",
          "sft",
          "sft",
          "sft",
          "sft",
          "sft",
          "sft",
          "sft",
          "sft",
          "sft",
          "sft",
          "sft",
          "sft",
          "sft",
          "sft",
          "sft",
          "sft",
          "sft",
          "sft",
          "sft",
          "sft",
          "sft",
          "sft",
          "sft",
          "sft",
          "sft",
          "sft",
          "sft",
          "sft",
          "sft",
          "sft",
          "sft",
          "sft",
          "sft",
          "sft",
          "sft",
          "sft",
          "sft",
          "sft",
          "sft",
          "sft",
          "sft",
          "sft",
          "sft",
          "sft",
          "sft",
          "sft",
          "sft",
          "sft",
          "sft",
          "sft",
          "sft",
          "sft",
          "sft",
          "sft",
          "sft",
          "sft",
          "sft",
          "sft",
          "sft",
          "sft",
          "sft",
          "sft",
          "sft",
          "sft",
          "sft",
          "sft",
          "sft",
          "sft",
          "sft",
          "sft",
          "sft",
          "sft",
          "sft",
          "sft",
          "sft",
          "sft",
          "sft",
          "sft",
          "sft",
          "sft",
          "sft",
          "sft",
          "sft",
          "sft",
          "sft",
          "sft",
          "sft",
          "sft",
          "sft",
          "sft",
          "sft",
          "sft",
          "sft",
          "sft",
          "sft",
          "sft",
          "sft",
          "sft",
          "sft",
          "sft",
          "sft",
          "sft",
          "sft",
          "sft",
          "sft",
          "sft",
          "sft",
          "sft",
          "sft",
          "sft",
          "sft",
          "sft",
          "sft",
          "sft",
          "sft",
          "sft",
          "sft",
          "sft",
          "sft",
          "sft",
          "sft",
          "sft",
          "sft",
          "sft",
          "sft",
          "sft",
          "sft",
          "sft",
          "sft",
          "sft",
          "sft",
          "sft",
          "sft",
          "sft",
          "sft",
          "sft",
          "sft",
          "sft",
          "sft",
          "sft",
          "sft",
          "sft",
          "sft",
          "sft",
          "sft",
          "sft",
          "sft",
          "sft",
          "sft",
          "sft",
          "sft",
          "sft",
          "sft",
          "sft",
          "sft",
          "sft",
          "sft",
          "sft",
          "sft"
         ],
         "x0": " ",
         "xaxis": "x",
         "y": [
          35,
          29,
          0,
          23,
          35,
          0,
          32,
          45,
          0,
          0,
          0,
          0,
          23,
          19,
          47,
          0,
          30,
          41,
          0,
          0,
          35,
          33,
          26,
          0,
          15,
          19,
          0,
          26,
          36,
          11,
          0,
          31,
          33,
          0,
          37,
          42,
          47,
          25,
          0,
          18,
          0,
          39,
          0,
          27,
          32,
          11,
          15,
          21,
          34,
          42,
          10,
          39,
          60,
          0,
          41,
          0,
          0,
          34,
          0,
          27,
          30,
          0,
          13,
          27,
          20,
          35,
          0,
          20,
          30,
          0,
          33,
          22,
          13,
          26,
          28,
          29,
          54,
          25,
          19,
          0,
          15,
          40,
          0,
          18,
          27,
          28,
          18,
          30,
          51,
          0,
          0,
          0,
          18,
          0,
          29,
          28,
          31,
          25,
          33,
          26,
          34,
          0,
          32,
          0,
          0,
          0,
          23,
          15,
          56,
          39,
          30,
          0,
          0,
          30,
          36,
          24,
          0,
          14,
          0,
          37,
          31,
          13,
          20,
          26,
          25,
          0,
          29,
          0,
          30,
          26,
          0,
          31,
          23,
          37,
          35,
          0,
          17,
          50,
          0,
          28,
          42,
          0,
          44,
          15,
          21,
          19,
          38,
          40,
          34,
          23,
          0,
          18,
          25,
          0,
          0,
          12,
          0,
          23,
          42,
          24,
          42,
          0,
          0,
          0,
          0,
          18,
          0,
          0,
          28,
          36,
          41,
          39,
          35,
          0,
          44,
          0,
          20,
          41,
          0,
          13,
          44,
          27,
          16,
          0,
          20,
          16,
          32,
          28,
          29,
          0,
          27,
          33,
          22,
          54,
          31,
          26,
          32,
          40,
          41,
          30,
          22,
          0,
          29,
          0,
          33,
          15,
          27,
          0,
          38,
          39,
          31,
          0,
          37,
          25,
          0,
          28,
          0,
          21,
          27,
          21,
          0,
          24,
          32,
          0,
          22,
          35,
          15,
          0,
          33,
          33,
          19,
          0,
          0,
          14,
          32,
          7,
          35,
          39,
          22,
          16,
          28,
          15,
          32,
          15,
          0,
          18,
          42,
          0,
          37,
          32,
          0,
          50,
          0,
          52,
          24,
          23,
          0,
          10,
          0,
          28,
          15,
          0,
          0,
          26,
          44,
          39,
          17,
          43,
          29,
          30,
          37,
          45,
          0,
          31,
          38,
          29,
          0,
          33,
          41,
          0,
          0,
          37,
          23,
          14,
          19,
          28,
          30,
          37,
          17,
          10,
          31,
          22,
          11,
          0,
          39,
          0,
          12,
          30,
          20,
          33,
          32,
          21,
          32,
          0,
          36,
          32,
          19,
          16,
          0,
          18,
          43,
          0,
          34,
          0,
          13,
          21,
          0,
          0,
          36,
          19,
          19,
          0,
          0,
          28,
          12,
          0,
          0,
          40,
          40,
          36,
          33,
          0,
          0,
          25,
          28,
          0,
          17,
          16,
          28,
          48,
          23,
          22,
          40,
          43,
          43,
          15,
          37,
          0,
          39,
          30,
          22,
          8,
          18,
          24,
          13,
          29,
          36,
          26,
          23,
          29,
          0,
          14,
          12,
          0,
          24,
          34,
          40,
          0,
          31,
          0,
          0,
          41,
          25,
          0,
          32,
          0,
          0,
          0,
          49,
          39,
          30,
          23,
          22,
          35,
          33,
          21,
          32,
          0,
          29,
          41,
          18,
          46,
          22,
          32,
          39,
          30,
          46,
          25,
          16,
          11,
          0,
          8,
          33,
          0,
          15,
          0,
          25,
          23,
          27,
          0,
          12,
          63,
          12,
          45,
          37,
          18,
          13,
          0,
          32,
          28,
          0,
          28,
          48,
          33,
          22,
          0,
          40,
          30,
          0,
          13,
          10,
          36,
          41,
          40,
          38,
          27,
          0,
          0,
          27,
          45,
          17,
          38,
          31,
          30,
          37,
          22,
          31,
          42,
          41,
          32,
          17,
          0,
          28,
          30,
          38,
          18,
          0,
          0,
          15,
          33,
          32,
          19,
          32,
          25,
          39,
          0,
          26,
          23,
          23,
          0,
          31,
          17,
          0,
          0,
          19,
          18,
          34,
          0,
          0,
          7,
          32,
          33,
          0,
          0,
          18,
          19,
          15,
          31,
          0,
          18,
          0,
          52,
          30,
          0,
          0,
          37,
          49,
          40,
          25,
          32,
          23,
          29,
          35,
          27,
          21,
          43,
          28,
          30,
          0,
          24,
          23,
          33,
          40,
          0,
          40,
          0,
          0,
          32,
          34,
          19,
          0,
          14,
          30,
          32,
          29,
          30,
          0,
          0,
          31,
          17,
          30,
          47,
          20,
          0,
          0,
          99,
          46,
          27,
          17,
          0,
          24,
          11,
          0,
          0,
          27,
          40,
          50,
          0,
          22,
          45,
          14,
          0,
          0,
          18,
          19,
          36,
          29,
          32,
          42,
          25,
          39,
          13,
          21,
          22,
          42,
          28,
          26,
          0,
          0,
          13,
          24,
          42,
          20,
          0,
          27,
          0,
          47,
          0,
          0,
          0,
          22,
          0,
          40,
          0,
          17,
          0,
          0,
          0,
          18,
          32,
          12,
          17,
          0,
          0,
          30,
          35,
          17,
          36,
          35,
          25,
          25,
          23,
          40,
          0,
          28,
          27,
          35,
          48,
          0,
          31,
          0,
          43,
          46,
          46,
          39,
          45,
          18,
          27,
          33,
          30,
          26,
          10,
          23,
          35,
          0,
          0,
          0,
          0,
          0,
          17,
          28,
          36,
          39,
          0,
          0,
          26,
          0,
          19,
          26,
          46,
          0,
          32,
          49,
          0,
          24,
          19,
          11,
          0,
          27,
          31,
          29,
          20,
          36,
          21,
          0,
          32,
          13,
          27,
          36,
          20,
          0,
          33,
          39,
          18,
          46,
          27,
          19,
          36,
          29,
          30,
          0,
          40,
          29,
          26,
          0,
          0,
          23,
          0,
          37,
          27,
          0,
          32,
          27,
          23,
          17,
          0,
          37,
          20,
          18,
          0,
          37,
          33,
          41,
          41,
          22,
          0,
          0,
          39,
          24,
          44,
          32,
          39,
          41,
          0,
          0,
          0,
          26,
          31,
          0,
          48,
          27,
          23,
          0,
          31
         ],
         "y0": " ",
         "yaxis": "y"
        }
       ],
       "layout": {
        "boxmode": "group",
        "legend": {
         "tracegroupgap": 0
        },
        "margin": {
         "t": 60
        },
        "template": {
         "data": {
          "bar": [
           {
            "error_x": {
             "color": "#2a3f5f"
            },
            "error_y": {
             "color": "#2a3f5f"
            },
            "marker": {
             "line": {
              "color": "#E5ECF6",
              "width": 0.5
             },
             "pattern": {
              "fillmode": "overlay",
              "size": 10,
              "solidity": 0.2
             }
            },
            "type": "bar"
           }
          ],
          "barpolar": [
           {
            "marker": {
             "line": {
              "color": "#E5ECF6",
              "width": 0.5
             },
             "pattern": {
              "fillmode": "overlay",
              "size": 10,
              "solidity": 0.2
             }
            },
            "type": "barpolar"
           }
          ],
          "carpet": [
           {
            "aaxis": {
             "endlinecolor": "#2a3f5f",
             "gridcolor": "white",
             "linecolor": "white",
             "minorgridcolor": "white",
             "startlinecolor": "#2a3f5f"
            },
            "baxis": {
             "endlinecolor": "#2a3f5f",
             "gridcolor": "white",
             "linecolor": "white",
             "minorgridcolor": "white",
             "startlinecolor": "#2a3f5f"
            },
            "type": "carpet"
           }
          ],
          "choropleth": [
           {
            "colorbar": {
             "outlinewidth": 0,
             "ticks": ""
            },
            "type": "choropleth"
           }
          ],
          "contour": [
           {
            "colorbar": {
             "outlinewidth": 0,
             "ticks": ""
            },
            "colorscale": [
             [
              0,
              "#0d0887"
             ],
             [
              0.1111111111111111,
              "#46039f"
             ],
             [
              0.2222222222222222,
              "#7201a8"
             ],
             [
              0.3333333333333333,
              "#9c179e"
             ],
             [
              0.4444444444444444,
              "#bd3786"
             ],
             [
              0.5555555555555556,
              "#d8576b"
             ],
             [
              0.6666666666666666,
              "#ed7953"
             ],
             [
              0.7777777777777778,
              "#fb9f3a"
             ],
             [
              0.8888888888888888,
              "#fdca26"
             ],
             [
              1,
              "#f0f921"
             ]
            ],
            "type": "contour"
           }
          ],
          "contourcarpet": [
           {
            "colorbar": {
             "outlinewidth": 0,
             "ticks": ""
            },
            "type": "contourcarpet"
           }
          ],
          "heatmap": [
           {
            "colorbar": {
             "outlinewidth": 0,
             "ticks": ""
            },
            "colorscale": [
             [
              0,
              "#0d0887"
             ],
             [
              0.1111111111111111,
              "#46039f"
             ],
             [
              0.2222222222222222,
              "#7201a8"
             ],
             [
              0.3333333333333333,
              "#9c179e"
             ],
             [
              0.4444444444444444,
              "#bd3786"
             ],
             [
              0.5555555555555556,
              "#d8576b"
             ],
             [
              0.6666666666666666,
              "#ed7953"
             ],
             [
              0.7777777777777778,
              "#fb9f3a"
             ],
             [
              0.8888888888888888,
              "#fdca26"
             ],
             [
              1,
              "#f0f921"
             ]
            ],
            "type": "heatmap"
           }
          ],
          "heatmapgl": [
           {
            "colorbar": {
             "outlinewidth": 0,
             "ticks": ""
            },
            "colorscale": [
             [
              0,
              "#0d0887"
             ],
             [
              0.1111111111111111,
              "#46039f"
             ],
             [
              0.2222222222222222,
              "#7201a8"
             ],
             [
              0.3333333333333333,
              "#9c179e"
             ],
             [
              0.4444444444444444,
              "#bd3786"
             ],
             [
              0.5555555555555556,
              "#d8576b"
             ],
             [
              0.6666666666666666,
              "#ed7953"
             ],
             [
              0.7777777777777778,
              "#fb9f3a"
             ],
             [
              0.8888888888888888,
              "#fdca26"
             ],
             [
              1,
              "#f0f921"
             ]
            ],
            "type": "heatmapgl"
           }
          ],
          "histogram": [
           {
            "marker": {
             "pattern": {
              "fillmode": "overlay",
              "size": 10,
              "solidity": 0.2
             }
            },
            "type": "histogram"
           }
          ],
          "histogram2d": [
           {
            "colorbar": {
             "outlinewidth": 0,
             "ticks": ""
            },
            "colorscale": [
             [
              0,
              "#0d0887"
             ],
             [
              0.1111111111111111,
              "#46039f"
             ],
             [
              0.2222222222222222,
              "#7201a8"
             ],
             [
              0.3333333333333333,
              "#9c179e"
             ],
             [
              0.4444444444444444,
              "#bd3786"
             ],
             [
              0.5555555555555556,
              "#d8576b"
             ],
             [
              0.6666666666666666,
              "#ed7953"
             ],
             [
              0.7777777777777778,
              "#fb9f3a"
             ],
             [
              0.8888888888888888,
              "#fdca26"
             ],
             [
              1,
              "#f0f921"
             ]
            ],
            "type": "histogram2d"
           }
          ],
          "histogram2dcontour": [
           {
            "colorbar": {
             "outlinewidth": 0,
             "ticks": ""
            },
            "colorscale": [
             [
              0,
              "#0d0887"
             ],
             [
              0.1111111111111111,
              "#46039f"
             ],
             [
              0.2222222222222222,
              "#7201a8"
             ],
             [
              0.3333333333333333,
              "#9c179e"
             ],
             [
              0.4444444444444444,
              "#bd3786"
             ],
             [
              0.5555555555555556,
              "#d8576b"
             ],
             [
              0.6666666666666666,
              "#ed7953"
             ],
             [
              0.7777777777777778,
              "#fb9f3a"
             ],
             [
              0.8888888888888888,
              "#fdca26"
             ],
             [
              1,
              "#f0f921"
             ]
            ],
            "type": "histogram2dcontour"
           }
          ],
          "mesh3d": [
           {
            "colorbar": {
             "outlinewidth": 0,
             "ticks": ""
            },
            "type": "mesh3d"
           }
          ],
          "parcoords": [
           {
            "line": {
             "colorbar": {
              "outlinewidth": 0,
              "ticks": ""
             }
            },
            "type": "parcoords"
           }
          ],
          "pie": [
           {
            "automargin": true,
            "type": "pie"
           }
          ],
          "scatter": [
           {
            "marker": {
             "colorbar": {
              "outlinewidth": 0,
              "ticks": ""
             }
            },
            "type": "scatter"
           }
          ],
          "scatter3d": [
           {
            "line": {
             "colorbar": {
              "outlinewidth": 0,
              "ticks": ""
             }
            },
            "marker": {
             "colorbar": {
              "outlinewidth": 0,
              "ticks": ""
             }
            },
            "type": "scatter3d"
           }
          ],
          "scattercarpet": [
           {
            "marker": {
             "colorbar": {
              "outlinewidth": 0,
              "ticks": ""
             }
            },
            "type": "scattercarpet"
           }
          ],
          "scattergeo": [
           {
            "marker": {
             "colorbar": {
              "outlinewidth": 0,
              "ticks": ""
             }
            },
            "type": "scattergeo"
           }
          ],
          "scattergl": [
           {
            "marker": {
             "colorbar": {
              "outlinewidth": 0,
              "ticks": ""
             }
            },
            "type": "scattergl"
           }
          ],
          "scattermapbox": [
           {
            "marker": {
             "colorbar": {
              "outlinewidth": 0,
              "ticks": ""
             }
            },
            "type": "scattermapbox"
           }
          ],
          "scatterpolar": [
           {
            "marker": {
             "colorbar": {
              "outlinewidth": 0,
              "ticks": ""
             }
            },
            "type": "scatterpolar"
           }
          ],
          "scatterpolargl": [
           {
            "marker": {
             "colorbar": {
              "outlinewidth": 0,
              "ticks": ""
             }
            },
            "type": "scatterpolargl"
           }
          ],
          "scatterternary": [
           {
            "marker": {
             "colorbar": {
              "outlinewidth": 0,
              "ticks": ""
             }
            },
            "type": "scatterternary"
           }
          ],
          "surface": [
           {
            "colorbar": {
             "outlinewidth": 0,
             "ticks": ""
            },
            "colorscale": [
             [
              0,
              "#0d0887"
             ],
             [
              0.1111111111111111,
              "#46039f"
             ],
             [
              0.2222222222222222,
              "#7201a8"
             ],
             [
              0.3333333333333333,
              "#9c179e"
             ],
             [
              0.4444444444444444,
              "#bd3786"
             ],
             [
              0.5555555555555556,
              "#d8576b"
             ],
             [
              0.6666666666666666,
              "#ed7953"
             ],
             [
              0.7777777777777778,
              "#fb9f3a"
             ],
             [
              0.8888888888888888,
              "#fdca26"
             ],
             [
              1,
              "#f0f921"
             ]
            ],
            "type": "surface"
           }
          ],
          "table": [
           {
            "cells": {
             "fill": {
              "color": "#EBF0F8"
             },
             "line": {
              "color": "white"
             }
            },
            "header": {
             "fill": {
              "color": "#C8D4E3"
             },
             "line": {
              "color": "white"
             }
            },
            "type": "table"
           }
          ]
         },
         "layout": {
          "annotationdefaults": {
           "arrowcolor": "#2a3f5f",
           "arrowhead": 0,
           "arrowwidth": 1
          },
          "autotypenumbers": "strict",
          "coloraxis": {
           "colorbar": {
            "outlinewidth": 0,
            "ticks": ""
           }
          },
          "colorscale": {
           "diverging": [
            [
             0,
             "#8e0152"
            ],
            [
             0.1,
             "#c51b7d"
            ],
            [
             0.2,
             "#de77ae"
            ],
            [
             0.3,
             "#f1b6da"
            ],
            [
             0.4,
             "#fde0ef"
            ],
            [
             0.5,
             "#f7f7f7"
            ],
            [
             0.6,
             "#e6f5d0"
            ],
            [
             0.7,
             "#b8e186"
            ],
            [
             0.8,
             "#7fbc41"
            ],
            [
             0.9,
             "#4d9221"
            ],
            [
             1,
             "#276419"
            ]
           ],
           "sequential": [
            [
             0,
             "#0d0887"
            ],
            [
             0.1111111111111111,
             "#46039f"
            ],
            [
             0.2222222222222222,
             "#7201a8"
            ],
            [
             0.3333333333333333,
             "#9c179e"
            ],
            [
             0.4444444444444444,
             "#bd3786"
            ],
            [
             0.5555555555555556,
             "#d8576b"
            ],
            [
             0.6666666666666666,
             "#ed7953"
            ],
            [
             0.7777777777777778,
             "#fb9f3a"
            ],
            [
             0.8888888888888888,
             "#fdca26"
            ],
            [
             1,
             "#f0f921"
            ]
           ],
           "sequentialminus": [
            [
             0,
             "#0d0887"
            ],
            [
             0.1111111111111111,
             "#46039f"
            ],
            [
             0.2222222222222222,
             "#7201a8"
            ],
            [
             0.3333333333333333,
             "#9c179e"
            ],
            [
             0.4444444444444444,
             "#bd3786"
            ],
            [
             0.5555555555555556,
             "#d8576b"
            ],
            [
             0.6666666666666666,
             "#ed7953"
            ],
            [
             0.7777777777777778,
             "#fb9f3a"
            ],
            [
             0.8888888888888888,
             "#fdca26"
            ],
            [
             1,
             "#f0f921"
            ]
           ]
          },
          "colorway": [
           "#636efa",
           "#EF553B",
           "#00cc96",
           "#ab63fa",
           "#FFA15A",
           "#19d3f3",
           "#FF6692",
           "#B6E880",
           "#FF97FF",
           "#FECB52"
          ],
          "font": {
           "color": "#2a3f5f"
          },
          "geo": {
           "bgcolor": "white",
           "lakecolor": "white",
           "landcolor": "#E5ECF6",
           "showlakes": true,
           "showland": true,
           "subunitcolor": "white"
          },
          "hoverlabel": {
           "align": "left"
          },
          "hovermode": "closest",
          "mapbox": {
           "style": "light"
          },
          "paper_bgcolor": "white",
          "plot_bgcolor": "#E5ECF6",
          "polar": {
           "angularaxis": {
            "gridcolor": "white",
            "linecolor": "white",
            "ticks": ""
           },
           "bgcolor": "#E5ECF6",
           "radialaxis": {
            "gridcolor": "white",
            "linecolor": "white",
            "ticks": ""
           }
          },
          "scene": {
           "xaxis": {
            "backgroundcolor": "#E5ECF6",
            "gridcolor": "white",
            "gridwidth": 2,
            "linecolor": "white",
            "showbackground": true,
            "ticks": "",
            "zerolinecolor": "white"
           },
           "yaxis": {
            "backgroundcolor": "#E5ECF6",
            "gridcolor": "white",
            "gridwidth": 2,
            "linecolor": "white",
            "showbackground": true,
            "ticks": "",
            "zerolinecolor": "white"
           },
           "zaxis": {
            "backgroundcolor": "#E5ECF6",
            "gridcolor": "white",
            "gridwidth": 2,
            "linecolor": "white",
            "showbackground": true,
            "ticks": "",
            "zerolinecolor": "white"
           }
          },
          "shapedefaults": {
           "line": {
            "color": "#2a3f5f"
           }
          },
          "ternary": {
           "aaxis": {
            "gridcolor": "white",
            "linecolor": "white",
            "ticks": ""
           },
           "baxis": {
            "gridcolor": "white",
            "linecolor": "white",
            "ticks": ""
           },
           "bgcolor": "#E5ECF6",
           "caxis": {
            "gridcolor": "white",
            "linecolor": "white",
            "ticks": ""
           }
          },
          "title": {
           "x": 0.05
          },
          "xaxis": {
           "automargin": true,
           "gridcolor": "white",
           "linecolor": "white",
           "ticks": "",
           "title": {
            "standoff": 15
           },
           "zerolinecolor": "white",
           "zerolinewidth": 2
          },
          "yaxis": {
           "automargin": true,
           "gridcolor": "white",
           "linecolor": "white",
           "ticks": "",
           "title": {
            "standoff": 15
           },
           "zerolinecolor": "white",
           "zerolinewidth": 2
          }
         }
        },
        "xaxis": {
         "anchor": "y",
         "domain": [
          0,
          1
         ],
         "title": {
          "text": "variable"
         }
        },
        "yaxis": {
         "anchor": "x",
         "domain": [
          0,
          1
         ],
         "title": {
          "text": "value"
         }
        }
       }
      },
      "text/html": [
       "<div>                            <div id=\"de95347b-a1b4-47a9-b09a-64de79c9e0b8\" class=\"plotly-graph-div\" style=\"height:525px; width:100%;\"></div>            <script type=\"text/javascript\">                require([\"plotly\"], function(Plotly) {                    window.PLOTLYENV=window.PLOTLYENV || {};                                    if (document.getElementById(\"de95347b-a1b4-47a9-b09a-64de79c9e0b8\")) {                    Plotly.newPlot(                        \"de95347b-a1b4-47a9-b09a-64de79c9e0b8\",                        [{\"alignmentgroup\":\"True\",\"hovertemplate\":\"variable=%{x}<br>value=%{y}<extra></extra>\",\"legendgroup\":\"\",\"marker\":{\"color\":\"#636efa\"},\"name\":\"\",\"notched\":false,\"offsetgroup\":\"\",\"orientation\":\"v\",\"showlegend\":false,\"type\":\"box\",\"x\":[\"sft\",\"sft\",\"sft\",\"sft\",\"sft\",\"sft\",\"sft\",\"sft\",\"sft\",\"sft\",\"sft\",\"sft\",\"sft\",\"sft\",\"sft\",\"sft\",\"sft\",\"sft\",\"sft\",\"sft\",\"sft\",\"sft\",\"sft\",\"sft\",\"sft\",\"sft\",\"sft\",\"sft\",\"sft\",\"sft\",\"sft\",\"sft\",\"sft\",\"sft\",\"sft\",\"sft\",\"sft\",\"sft\",\"sft\",\"sft\",\"sft\",\"sft\",\"sft\",\"sft\",\"sft\",\"sft\",\"sft\",\"sft\",\"sft\",\"sft\",\"sft\",\"sft\",\"sft\",\"sft\",\"sft\",\"sft\",\"sft\",\"sft\",\"sft\",\"sft\",\"sft\",\"sft\",\"sft\",\"sft\",\"sft\",\"sft\",\"sft\",\"sft\",\"sft\",\"sft\",\"sft\",\"sft\",\"sft\",\"sft\",\"sft\",\"sft\",\"sft\",\"sft\",\"sft\",\"sft\",\"sft\",\"sft\",\"sft\",\"sft\",\"sft\",\"sft\",\"sft\",\"sft\",\"sft\",\"sft\",\"sft\",\"sft\",\"sft\",\"sft\",\"sft\",\"sft\",\"sft\",\"sft\",\"sft\",\"sft\",\"sft\",\"sft\",\"sft\",\"sft\",\"sft\",\"sft\",\"sft\",\"sft\",\"sft\",\"sft\",\"sft\",\"sft\",\"sft\",\"sft\",\"sft\",\"sft\",\"sft\",\"sft\",\"sft\",\"sft\",\"sft\",\"sft\",\"sft\",\"sft\",\"sft\",\"sft\",\"sft\",\"sft\",\"sft\",\"sft\",\"sft\",\"sft\",\"sft\",\"sft\",\"sft\",\"sft\",\"sft\",\"sft\",\"sft\",\"sft\",\"sft\",\"sft\",\"sft\",\"sft\",\"sft\",\"sft\",\"sft\",\"sft\",\"sft\",\"sft\",\"sft\",\"sft\",\"sft\",\"sft\",\"sft\",\"sft\",\"sft\",\"sft\",\"sft\",\"sft\",\"sft\",\"sft\",\"sft\",\"sft\",\"sft\",\"sft\",\"sft\",\"sft\",\"sft\",\"sft\",\"sft\",\"sft\",\"sft\",\"sft\",\"sft\",\"sft\",\"sft\",\"sft\",\"sft\",\"sft\",\"sft\",\"sft\",\"sft\",\"sft\",\"sft\",\"sft\",\"sft\",\"sft\",\"sft\",\"sft\",\"sft\",\"sft\",\"sft\",\"sft\",\"sft\",\"sft\",\"sft\",\"sft\",\"sft\",\"sft\",\"sft\",\"sft\",\"sft\",\"sft\",\"sft\",\"sft\",\"sft\",\"sft\",\"sft\",\"sft\",\"sft\",\"sft\",\"sft\",\"sft\",\"sft\",\"sft\",\"sft\",\"sft\",\"sft\",\"sft\",\"sft\",\"sft\",\"sft\",\"sft\",\"sft\",\"sft\",\"sft\",\"sft\",\"sft\",\"sft\",\"sft\",\"sft\",\"sft\",\"sft\",\"sft\",\"sft\",\"sft\",\"sft\",\"sft\",\"sft\",\"sft\",\"sft\",\"sft\",\"sft\",\"sft\",\"sft\",\"sft\",\"sft\",\"sft\",\"sft\",\"sft\",\"sft\",\"sft\",\"sft\",\"sft\",\"sft\",\"sft\",\"sft\",\"sft\",\"sft\",\"sft\",\"sft\",\"sft\",\"sft\",\"sft\",\"sft\",\"sft\",\"sft\",\"sft\",\"sft\",\"sft\",\"sft\",\"sft\",\"sft\",\"sft\",\"sft\",\"sft\",\"sft\",\"sft\",\"sft\",\"sft\",\"sft\",\"sft\",\"sft\",\"sft\",\"sft\",\"sft\",\"sft\",\"sft\",\"sft\",\"sft\",\"sft\",\"sft\",\"sft\",\"sft\",\"sft\",\"sft\",\"sft\",\"sft\",\"sft\",\"sft\",\"sft\",\"sft\",\"sft\",\"sft\",\"sft\",\"sft\",\"sft\",\"sft\",\"sft\",\"sft\",\"sft\",\"sft\",\"sft\",\"sft\",\"sft\",\"sft\",\"sft\",\"sft\",\"sft\",\"sft\",\"sft\",\"sft\",\"sft\",\"sft\",\"sft\",\"sft\",\"sft\",\"sft\",\"sft\",\"sft\",\"sft\",\"sft\",\"sft\",\"sft\",\"sft\",\"sft\",\"sft\",\"sft\",\"sft\",\"sft\",\"sft\",\"sft\",\"sft\",\"sft\",\"sft\",\"sft\",\"sft\",\"sft\",\"sft\",\"sft\",\"sft\",\"sft\",\"sft\",\"sft\",\"sft\",\"sft\",\"sft\",\"sft\",\"sft\",\"sft\",\"sft\",\"sft\",\"sft\",\"sft\",\"sft\",\"sft\",\"sft\",\"sft\",\"sft\",\"sft\",\"sft\",\"sft\",\"sft\",\"sft\",\"sft\",\"sft\",\"sft\",\"sft\",\"sft\",\"sft\",\"sft\",\"sft\",\"sft\",\"sft\",\"sft\",\"sft\",\"sft\",\"sft\",\"sft\",\"sft\",\"sft\",\"sft\",\"sft\",\"sft\",\"sft\",\"sft\",\"sft\",\"sft\",\"sft\",\"sft\",\"sft\",\"sft\",\"sft\",\"sft\",\"sft\",\"sft\",\"sft\",\"sft\",\"sft\",\"sft\",\"sft\",\"sft\",\"sft\",\"sft\",\"sft\",\"sft\",\"sft\",\"sft\",\"sft\",\"sft\",\"sft\",\"sft\",\"sft\",\"sft\",\"sft\",\"sft\",\"sft\",\"sft\",\"sft\",\"sft\",\"sft\",\"sft\",\"sft\",\"sft\",\"sft\",\"sft\",\"sft\",\"sft\",\"sft\",\"sft\",\"sft\",\"sft\",\"sft\",\"sft\",\"sft\",\"sft\",\"sft\",\"sft\",\"sft\",\"sft\",\"sft\",\"sft\",\"sft\",\"sft\",\"sft\",\"sft\",\"sft\",\"sft\",\"sft\",\"sft\",\"sft\",\"sft\",\"sft\",\"sft\",\"sft\",\"sft\",\"sft\",\"sft\",\"sft\",\"sft\",\"sft\",\"sft\",\"sft\",\"sft\",\"sft\",\"sft\",\"sft\",\"sft\",\"sft\",\"sft\",\"sft\",\"sft\",\"sft\",\"sft\",\"sft\",\"sft\",\"sft\",\"sft\",\"sft\",\"sft\",\"sft\",\"sft\",\"sft\",\"sft\",\"sft\",\"sft\",\"sft\",\"sft\",\"sft\",\"sft\",\"sft\",\"sft\",\"sft\",\"sft\",\"sft\",\"sft\",\"sft\",\"sft\",\"sft\",\"sft\",\"sft\",\"sft\",\"sft\",\"sft\",\"sft\",\"sft\",\"sft\",\"sft\",\"sft\",\"sft\",\"sft\",\"sft\",\"sft\",\"sft\",\"sft\",\"sft\",\"sft\",\"sft\",\"sft\",\"sft\",\"sft\",\"sft\",\"sft\",\"sft\",\"sft\",\"sft\",\"sft\",\"sft\",\"sft\",\"sft\",\"sft\",\"sft\",\"sft\",\"sft\",\"sft\",\"sft\",\"sft\",\"sft\",\"sft\",\"sft\",\"sft\",\"sft\",\"sft\",\"sft\",\"sft\",\"sft\",\"sft\",\"sft\",\"sft\",\"sft\",\"sft\",\"sft\",\"sft\",\"sft\",\"sft\",\"sft\",\"sft\",\"sft\",\"sft\",\"sft\",\"sft\",\"sft\",\"sft\",\"sft\",\"sft\",\"sft\",\"sft\",\"sft\",\"sft\",\"sft\",\"sft\",\"sft\",\"sft\",\"sft\",\"sft\",\"sft\",\"sft\",\"sft\",\"sft\",\"sft\",\"sft\",\"sft\",\"sft\",\"sft\",\"sft\",\"sft\",\"sft\",\"sft\",\"sft\",\"sft\",\"sft\",\"sft\",\"sft\",\"sft\",\"sft\",\"sft\",\"sft\",\"sft\",\"sft\",\"sft\",\"sft\",\"sft\",\"sft\",\"sft\",\"sft\",\"sft\",\"sft\",\"sft\",\"sft\",\"sft\",\"sft\",\"sft\",\"sft\",\"sft\",\"sft\",\"sft\",\"sft\",\"sft\",\"sft\",\"sft\",\"sft\",\"sft\",\"sft\",\"sft\",\"sft\",\"sft\",\"sft\",\"sft\",\"sft\",\"sft\",\"sft\",\"sft\",\"sft\",\"sft\",\"sft\",\"sft\",\"sft\",\"sft\",\"sft\",\"sft\",\"sft\",\"sft\",\"sft\",\"sft\",\"sft\",\"sft\",\"sft\",\"sft\",\"sft\",\"sft\",\"sft\",\"sft\",\"sft\",\"sft\",\"sft\",\"sft\",\"sft\",\"sft\",\"sft\",\"sft\",\"sft\",\"sft\",\"sft\",\"sft\",\"sft\",\"sft\",\"sft\",\"sft\",\"sft\",\"sft\",\"sft\",\"sft\",\"sft\",\"sft\",\"sft\",\"sft\",\"sft\",\"sft\",\"sft\",\"sft\",\"sft\",\"sft\",\"sft\",\"sft\",\"sft\",\"sft\",\"sft\",\"sft\",\"sft\",\"sft\",\"sft\",\"sft\",\"sft\",\"sft\",\"sft\",\"sft\",\"sft\",\"sft\",\"sft\",\"sft\",\"sft\",\"sft\",\"sft\"],\"x0\":\" \",\"xaxis\":\"x\",\"y\":[35,29,0,23,35,0,32,45,0,0,0,0,23,19,47,0,30,41,0,0,35,33,26,0,15,19,0,26,36,11,0,31,33,0,37,42,47,25,0,18,0,39,0,27,32,11,15,21,34,42,10,39,60,0,41,0,0,34,0,27,30,0,13,27,20,35,0,20,30,0,33,22,13,26,28,29,54,25,19,0,15,40,0,18,27,28,18,30,51,0,0,0,18,0,29,28,31,25,33,26,34,0,32,0,0,0,23,15,56,39,30,0,0,30,36,24,0,14,0,37,31,13,20,26,25,0,29,0,30,26,0,31,23,37,35,0,17,50,0,28,42,0,44,15,21,19,38,40,34,23,0,18,25,0,0,12,0,23,42,24,42,0,0,0,0,18,0,0,28,36,41,39,35,0,44,0,20,41,0,13,44,27,16,0,20,16,32,28,29,0,27,33,22,54,31,26,32,40,41,30,22,0,29,0,33,15,27,0,38,39,31,0,37,25,0,28,0,21,27,21,0,24,32,0,22,35,15,0,33,33,19,0,0,14,32,7,35,39,22,16,28,15,32,15,0,18,42,0,37,32,0,50,0,52,24,23,0,10,0,28,15,0,0,26,44,39,17,43,29,30,37,45,0,31,38,29,0,33,41,0,0,37,23,14,19,28,30,37,17,10,31,22,11,0,39,0,12,30,20,33,32,21,32,0,36,32,19,16,0,18,43,0,34,0,13,21,0,0,36,19,19,0,0,28,12,0,0,40,40,36,33,0,0,25,28,0,17,16,28,48,23,22,40,43,43,15,37,0,39,30,22,8,18,24,13,29,36,26,23,29,0,14,12,0,24,34,40,0,31,0,0,41,25,0,32,0,0,0,49,39,30,23,22,35,33,21,32,0,29,41,18,46,22,32,39,30,46,25,16,11,0,8,33,0,15,0,25,23,27,0,12,63,12,45,37,18,13,0,32,28,0,28,48,33,22,0,40,30,0,13,10,36,41,40,38,27,0,0,27,45,17,38,31,30,37,22,31,42,41,32,17,0,28,30,38,18,0,0,15,33,32,19,32,25,39,0,26,23,23,0,31,17,0,0,19,18,34,0,0,7,32,33,0,0,18,19,15,31,0,18,0,52,30,0,0,37,49,40,25,32,23,29,35,27,21,43,28,30,0,24,23,33,40,0,40,0,0,32,34,19,0,14,30,32,29,30,0,0,31,17,30,47,20,0,0,99,46,27,17,0,24,11,0,0,27,40,50,0,22,45,14,0,0,18,19,36,29,32,42,25,39,13,21,22,42,28,26,0,0,13,24,42,20,0,27,0,47,0,0,0,22,0,40,0,17,0,0,0,18,32,12,17,0,0,30,35,17,36,35,25,25,23,40,0,28,27,35,48,0,31,0,43,46,46,39,45,18,27,33,30,26,10,23,35,0,0,0,0,0,17,28,36,39,0,0,26,0,19,26,46,0,32,49,0,24,19,11,0,27,31,29,20,36,21,0,32,13,27,36,20,0,33,39,18,46,27,19,36,29,30,0,40,29,26,0,0,23,0,37,27,0,32,27,23,17,0,37,20,18,0,37,33,41,41,22,0,0,39,24,44,32,39,41,0,0,0,26,31,0,48,27,23,0,31],\"y0\":\" \",\"yaxis\":\"y\"}],                        {\"boxmode\":\"group\",\"legend\":{\"tracegroupgap\":0},\"margin\":{\"t\":60},\"template\":{\"data\":{\"bar\":[{\"error_x\":{\"color\":\"#2a3f5f\"},\"error_y\":{\"color\":\"#2a3f5f\"},\"marker\":{\"line\":{\"color\":\"#E5ECF6\",\"width\":0.5},\"pattern\":{\"fillmode\":\"overlay\",\"size\":10,\"solidity\":0.2}},\"type\":\"bar\"}],\"barpolar\":[{\"marker\":{\"line\":{\"color\":\"#E5ECF6\",\"width\":0.5},\"pattern\":{\"fillmode\":\"overlay\",\"size\":10,\"solidity\":0.2}},\"type\":\"barpolar\"}],\"carpet\":[{\"aaxis\":{\"endlinecolor\":\"#2a3f5f\",\"gridcolor\":\"white\",\"linecolor\":\"white\",\"minorgridcolor\":\"white\",\"startlinecolor\":\"#2a3f5f\"},\"baxis\":{\"endlinecolor\":\"#2a3f5f\",\"gridcolor\":\"white\",\"linecolor\":\"white\",\"minorgridcolor\":\"white\",\"startlinecolor\":\"#2a3f5f\"},\"type\":\"carpet\"}],\"choropleth\":[{\"colorbar\":{\"outlinewidth\":0,\"ticks\":\"\"},\"type\":\"choropleth\"}],\"contour\":[{\"colorbar\":{\"outlinewidth\":0,\"ticks\":\"\"},\"colorscale\":[[0.0,\"#0d0887\"],[0.1111111111111111,\"#46039f\"],[0.2222222222222222,\"#7201a8\"],[0.3333333333333333,\"#9c179e\"],[0.4444444444444444,\"#bd3786\"],[0.5555555555555556,\"#d8576b\"],[0.6666666666666666,\"#ed7953\"],[0.7777777777777778,\"#fb9f3a\"],[0.8888888888888888,\"#fdca26\"],[1.0,\"#f0f921\"]],\"type\":\"contour\"}],\"contourcarpet\":[{\"colorbar\":{\"outlinewidth\":0,\"ticks\":\"\"},\"type\":\"contourcarpet\"}],\"heatmap\":[{\"colorbar\":{\"outlinewidth\":0,\"ticks\":\"\"},\"colorscale\":[[0.0,\"#0d0887\"],[0.1111111111111111,\"#46039f\"],[0.2222222222222222,\"#7201a8\"],[0.3333333333333333,\"#9c179e\"],[0.4444444444444444,\"#bd3786\"],[0.5555555555555556,\"#d8576b\"],[0.6666666666666666,\"#ed7953\"],[0.7777777777777778,\"#fb9f3a\"],[0.8888888888888888,\"#fdca26\"],[1.0,\"#f0f921\"]],\"type\":\"heatmap\"}],\"heatmapgl\":[{\"colorbar\":{\"outlinewidth\":0,\"ticks\":\"\"},\"colorscale\":[[0.0,\"#0d0887\"],[0.1111111111111111,\"#46039f\"],[0.2222222222222222,\"#7201a8\"],[0.3333333333333333,\"#9c179e\"],[0.4444444444444444,\"#bd3786\"],[0.5555555555555556,\"#d8576b\"],[0.6666666666666666,\"#ed7953\"],[0.7777777777777778,\"#fb9f3a\"],[0.8888888888888888,\"#fdca26\"],[1.0,\"#f0f921\"]],\"type\":\"heatmapgl\"}],\"histogram\":[{\"marker\":{\"pattern\":{\"fillmode\":\"overlay\",\"size\":10,\"solidity\":0.2}},\"type\":\"histogram\"}],\"histogram2d\":[{\"colorbar\":{\"outlinewidth\":0,\"ticks\":\"\"},\"colorscale\":[[0.0,\"#0d0887\"],[0.1111111111111111,\"#46039f\"],[0.2222222222222222,\"#7201a8\"],[0.3333333333333333,\"#9c179e\"],[0.4444444444444444,\"#bd3786\"],[0.5555555555555556,\"#d8576b\"],[0.6666666666666666,\"#ed7953\"],[0.7777777777777778,\"#fb9f3a\"],[0.8888888888888888,\"#fdca26\"],[1.0,\"#f0f921\"]],\"type\":\"histogram2d\"}],\"histogram2dcontour\":[{\"colorbar\":{\"outlinewidth\":0,\"ticks\":\"\"},\"colorscale\":[[0.0,\"#0d0887\"],[0.1111111111111111,\"#46039f\"],[0.2222222222222222,\"#7201a8\"],[0.3333333333333333,\"#9c179e\"],[0.4444444444444444,\"#bd3786\"],[0.5555555555555556,\"#d8576b\"],[0.6666666666666666,\"#ed7953\"],[0.7777777777777778,\"#fb9f3a\"],[0.8888888888888888,\"#fdca26\"],[1.0,\"#f0f921\"]],\"type\":\"histogram2dcontour\"}],\"mesh3d\":[{\"colorbar\":{\"outlinewidth\":0,\"ticks\":\"\"},\"type\":\"mesh3d\"}],\"parcoords\":[{\"line\":{\"colorbar\":{\"outlinewidth\":0,\"ticks\":\"\"}},\"type\":\"parcoords\"}],\"pie\":[{\"automargin\":true,\"type\":\"pie\"}],\"scatter\":[{\"marker\":{\"colorbar\":{\"outlinewidth\":0,\"ticks\":\"\"}},\"type\":\"scatter\"}],\"scatter3d\":[{\"line\":{\"colorbar\":{\"outlinewidth\":0,\"ticks\":\"\"}},\"marker\":{\"colorbar\":{\"outlinewidth\":0,\"ticks\":\"\"}},\"type\":\"scatter3d\"}],\"scattercarpet\":[{\"marker\":{\"colorbar\":{\"outlinewidth\":0,\"ticks\":\"\"}},\"type\":\"scattercarpet\"}],\"scattergeo\":[{\"marker\":{\"colorbar\":{\"outlinewidth\":0,\"ticks\":\"\"}},\"type\":\"scattergeo\"}],\"scattergl\":[{\"marker\":{\"colorbar\":{\"outlinewidth\":0,\"ticks\":\"\"}},\"type\":\"scattergl\"}],\"scattermapbox\":[{\"marker\":{\"colorbar\":{\"outlinewidth\":0,\"ticks\":\"\"}},\"type\":\"scattermapbox\"}],\"scatterpolar\":[{\"marker\":{\"colorbar\":{\"outlinewidth\":0,\"ticks\":\"\"}},\"type\":\"scatterpolar\"}],\"scatterpolargl\":[{\"marker\":{\"colorbar\":{\"outlinewidth\":0,\"ticks\":\"\"}},\"type\":\"scatterpolargl\"}],\"scatterternary\":[{\"marker\":{\"colorbar\":{\"outlinewidth\":0,\"ticks\":\"\"}},\"type\":\"scatterternary\"}],\"surface\":[{\"colorbar\":{\"outlinewidth\":0,\"ticks\":\"\"},\"colorscale\":[[0.0,\"#0d0887\"],[0.1111111111111111,\"#46039f\"],[0.2222222222222222,\"#7201a8\"],[0.3333333333333333,\"#9c179e\"],[0.4444444444444444,\"#bd3786\"],[0.5555555555555556,\"#d8576b\"],[0.6666666666666666,\"#ed7953\"],[0.7777777777777778,\"#fb9f3a\"],[0.8888888888888888,\"#fdca26\"],[1.0,\"#f0f921\"]],\"type\":\"surface\"}],\"table\":[{\"cells\":{\"fill\":{\"color\":\"#EBF0F8\"},\"line\":{\"color\":\"white\"}},\"header\":{\"fill\":{\"color\":\"#C8D4E3\"},\"line\":{\"color\":\"white\"}},\"type\":\"table\"}]},\"layout\":{\"annotationdefaults\":{\"arrowcolor\":\"#2a3f5f\",\"arrowhead\":0,\"arrowwidth\":1},\"autotypenumbers\":\"strict\",\"coloraxis\":{\"colorbar\":{\"outlinewidth\":0,\"ticks\":\"\"}},\"colorscale\":{\"diverging\":[[0,\"#8e0152\"],[0.1,\"#c51b7d\"],[0.2,\"#de77ae\"],[0.3,\"#f1b6da\"],[0.4,\"#fde0ef\"],[0.5,\"#f7f7f7\"],[0.6,\"#e6f5d0\"],[0.7,\"#b8e186\"],[0.8,\"#7fbc41\"],[0.9,\"#4d9221\"],[1,\"#276419\"]],\"sequential\":[[0.0,\"#0d0887\"],[0.1111111111111111,\"#46039f\"],[0.2222222222222222,\"#7201a8\"],[0.3333333333333333,\"#9c179e\"],[0.4444444444444444,\"#bd3786\"],[0.5555555555555556,\"#d8576b\"],[0.6666666666666666,\"#ed7953\"],[0.7777777777777778,\"#fb9f3a\"],[0.8888888888888888,\"#fdca26\"],[1.0,\"#f0f921\"]],\"sequentialminus\":[[0.0,\"#0d0887\"],[0.1111111111111111,\"#46039f\"],[0.2222222222222222,\"#7201a8\"],[0.3333333333333333,\"#9c179e\"],[0.4444444444444444,\"#bd3786\"],[0.5555555555555556,\"#d8576b\"],[0.6666666666666666,\"#ed7953\"],[0.7777777777777778,\"#fb9f3a\"],[0.8888888888888888,\"#fdca26\"],[1.0,\"#f0f921\"]]},\"colorway\":[\"#636efa\",\"#EF553B\",\"#00cc96\",\"#ab63fa\",\"#FFA15A\",\"#19d3f3\",\"#FF6692\",\"#B6E880\",\"#FF97FF\",\"#FECB52\"],\"font\":{\"color\":\"#2a3f5f\"},\"geo\":{\"bgcolor\":\"white\",\"lakecolor\":\"white\",\"landcolor\":\"#E5ECF6\",\"showlakes\":true,\"showland\":true,\"subunitcolor\":\"white\"},\"hoverlabel\":{\"align\":\"left\"},\"hovermode\":\"closest\",\"mapbox\":{\"style\":\"light\"},\"paper_bgcolor\":\"white\",\"plot_bgcolor\":\"#E5ECF6\",\"polar\":{\"angularaxis\":{\"gridcolor\":\"white\",\"linecolor\":\"white\",\"ticks\":\"\"},\"bgcolor\":\"#E5ECF6\",\"radialaxis\":{\"gridcolor\":\"white\",\"linecolor\":\"white\",\"ticks\":\"\"}},\"scene\":{\"xaxis\":{\"backgroundcolor\":\"#E5ECF6\",\"gridcolor\":\"white\",\"gridwidth\":2,\"linecolor\":\"white\",\"showbackground\":true,\"ticks\":\"\",\"zerolinecolor\":\"white\"},\"yaxis\":{\"backgroundcolor\":\"#E5ECF6\",\"gridcolor\":\"white\",\"gridwidth\":2,\"linecolor\":\"white\",\"showbackground\":true,\"ticks\":\"\",\"zerolinecolor\":\"white\"},\"zaxis\":{\"backgroundcolor\":\"#E5ECF6\",\"gridcolor\":\"white\",\"gridwidth\":2,\"linecolor\":\"white\",\"showbackground\":true,\"ticks\":\"\",\"zerolinecolor\":\"white\"}},\"shapedefaults\":{\"line\":{\"color\":\"#2a3f5f\"}},\"ternary\":{\"aaxis\":{\"gridcolor\":\"white\",\"linecolor\":\"white\",\"ticks\":\"\"},\"baxis\":{\"gridcolor\":\"white\",\"linecolor\":\"white\",\"ticks\":\"\"},\"bgcolor\":\"#E5ECF6\",\"caxis\":{\"gridcolor\":\"white\",\"linecolor\":\"white\",\"ticks\":\"\"}},\"title\":{\"x\":0.05},\"xaxis\":{\"automargin\":true,\"gridcolor\":\"white\",\"linecolor\":\"white\",\"ticks\":\"\",\"title\":{\"standoff\":15},\"zerolinecolor\":\"white\",\"zerolinewidth\":2},\"yaxis\":{\"automargin\":true,\"gridcolor\":\"white\",\"linecolor\":\"white\",\"ticks\":\"\",\"title\":{\"standoff\":15},\"zerolinecolor\":\"white\",\"zerolinewidth\":2}}},\"xaxis\":{\"anchor\":\"y\",\"domain\":[0.0,1.0],\"title\":{\"text\":\"variable\"}},\"yaxis\":{\"anchor\":\"x\",\"domain\":[0.0,1.0],\"title\":{\"text\":\"value\"}}},                        {\"responsive\": true}                    ).then(function(){\n",
       "                            \n",
       "var gd = document.getElementById('de95347b-a1b4-47a9-b09a-64de79c9e0b8');\n",
       "var x = new MutationObserver(function (mutations, observer) {{\n",
       "        var display = window.getComputedStyle(gd).display;\n",
       "        if (!display || display === 'none') {{\n",
       "            console.log([gd, 'removed!']);\n",
       "            Plotly.purge(gd);\n",
       "            observer.disconnect();\n",
       "        }}\n",
       "}});\n",
       "\n",
       "// Listen for the removal of the full notebook cells\n",
       "var notebookContainer = gd.closest('#notebook-container');\n",
       "if (notebookContainer) {{\n",
       "    x.observe(notebookContainer, {childList: true});\n",
       "}}\n",
       "\n",
       "// Listen for the clearing of the current output cell\n",
       "var outputEl = gd.closest('.output');\n",
       "if (outputEl) {{\n",
       "    x.observe(outputEl, {childList: true});\n",
       "}}\n",
       "\n",
       "                        })                };                });            </script>        </div>"
      ]
     },
     "metadata": {},
     "output_type": "display_data"
    }
   ],
   "source": [
    "px.box(df['sft'])"
   ]
  },
  {
   "cell_type": "code",
   "execution_count": 108,
   "id": "03824625",
   "metadata": {},
   "outputs": [],
   "source": [
    "# Using IQR to remove outliers from 'sft'\n",
    "\n",
    "q1 = df.sft.quantile(0.25)\n",
    "q3 = df.sft.quantile(0.75)\n",
    "IQR = q3 - q1\n",
    "low = q1 - 1.5 * IQR\n",
    "high = q3 + 1.5 * IQR\n",
    "df.drop(df[df.sft < low].index, inplace = True)\n",
    "df.drop(df[df.sft > high].index, inplace = True)"
   ]
  },
  {
   "cell_type": "code",
   "execution_count": 109,
   "id": "3825b3ac",
   "metadata": {},
   "outputs": [
    {
     "data": {
      "application/vnd.plotly.v1+json": {
       "config": {
        "plotlyServerURL": "https://plot.ly"
       },
       "data": [
        {
         "alignmentgroup": "True",
         "hovertemplate": "variable=%{x}<br>value=%{y}<extra></extra>",
         "legendgroup": "",
         "marker": {
          "color": "#636efa"
         },
         "name": "",
         "notched": false,
         "offsetgroup": "",
         "orientation": "v",
         "showlegend": false,
         "type": "box",
         "x": [
          "sft",
          "sft",
          "sft",
          "sft",
          "sft",
          "sft",
          "sft",
          "sft",
          "sft",
          "sft",
          "sft",
          "sft",
          "sft",
          "sft",
          "sft",
          "sft",
          "sft",
          "sft",
          "sft",
          "sft",
          "sft",
          "sft",
          "sft",
          "sft",
          "sft",
          "sft",
          "sft",
          "sft",
          "sft",
          "sft",
          "sft",
          "sft",
          "sft",
          "sft",
          "sft",
          "sft",
          "sft",
          "sft",
          "sft",
          "sft",
          "sft",
          "sft",
          "sft",
          "sft",
          "sft",
          "sft",
          "sft",
          "sft",
          "sft",
          "sft",
          "sft",
          "sft",
          "sft",
          "sft",
          "sft",
          "sft",
          "sft",
          "sft",
          "sft",
          "sft",
          "sft",
          "sft",
          "sft",
          "sft",
          "sft",
          "sft",
          "sft",
          "sft",
          "sft",
          "sft",
          "sft",
          "sft",
          "sft",
          "sft",
          "sft",
          "sft",
          "sft",
          "sft",
          "sft",
          "sft",
          "sft",
          "sft",
          "sft",
          "sft",
          "sft",
          "sft",
          "sft",
          "sft",
          "sft",
          "sft",
          "sft",
          "sft",
          "sft",
          "sft",
          "sft",
          "sft",
          "sft",
          "sft",
          "sft",
          "sft",
          "sft",
          "sft",
          "sft",
          "sft",
          "sft",
          "sft",
          "sft",
          "sft",
          "sft",
          "sft",
          "sft",
          "sft",
          "sft",
          "sft",
          "sft",
          "sft",
          "sft",
          "sft",
          "sft",
          "sft",
          "sft",
          "sft",
          "sft",
          "sft",
          "sft",
          "sft",
          "sft",
          "sft",
          "sft",
          "sft",
          "sft",
          "sft",
          "sft",
          "sft",
          "sft",
          "sft",
          "sft",
          "sft",
          "sft",
          "sft",
          "sft",
          "sft",
          "sft",
          "sft",
          "sft",
          "sft",
          "sft",
          "sft",
          "sft",
          "sft",
          "sft",
          "sft",
          "sft",
          "sft",
          "sft",
          "sft",
          "sft",
          "sft",
          "sft",
          "sft",
          "sft",
          "sft",
          "sft",
          "sft",
          "sft",
          "sft",
          "sft",
          "sft",
          "sft",
          "sft",
          "sft",
          "sft",
          "sft",
          "sft",
          "sft",
          "sft",
          "sft",
          "sft",
          "sft",
          "sft",
          "sft",
          "sft",
          "sft",
          "sft",
          "sft",
          "sft",
          "sft",
          "sft",
          "sft",
          "sft",
          "sft",
          "sft",
          "sft",
          "sft",
          "sft",
          "sft",
          "sft",
          "sft",
          "sft",
          "sft",
          "sft",
          "sft",
          "sft",
          "sft",
          "sft",
          "sft",
          "sft",
          "sft",
          "sft",
          "sft",
          "sft",
          "sft",
          "sft",
          "sft",
          "sft",
          "sft",
          "sft",
          "sft",
          "sft",
          "sft",
          "sft",
          "sft",
          "sft",
          "sft",
          "sft",
          "sft",
          "sft",
          "sft",
          "sft",
          "sft",
          "sft",
          "sft",
          "sft",
          "sft",
          "sft",
          "sft",
          "sft",
          "sft",
          "sft",
          "sft",
          "sft",
          "sft",
          "sft",
          "sft",
          "sft",
          "sft",
          "sft",
          "sft",
          "sft",
          "sft",
          "sft",
          "sft",
          "sft",
          "sft",
          "sft",
          "sft",
          "sft",
          "sft",
          "sft",
          "sft",
          "sft",
          "sft",
          "sft",
          "sft",
          "sft",
          "sft",
          "sft",
          "sft",
          "sft",
          "sft",
          "sft",
          "sft",
          "sft",
          "sft",
          "sft",
          "sft",
          "sft",
          "sft",
          "sft",
          "sft",
          "sft",
          "sft",
          "sft",
          "sft",
          "sft",
          "sft",
          "sft",
          "sft",
          "sft",
          "sft",
          "sft",
          "sft",
          "sft",
          "sft",
          "sft",
          "sft",
          "sft",
          "sft",
          "sft",
          "sft",
          "sft",
          "sft",
          "sft",
          "sft",
          "sft",
          "sft",
          "sft",
          "sft",
          "sft",
          "sft",
          "sft",
          "sft",
          "sft",
          "sft",
          "sft",
          "sft",
          "sft",
          "sft",
          "sft",
          "sft",
          "sft",
          "sft",
          "sft",
          "sft",
          "sft",
          "sft",
          "sft",
          "sft",
          "sft",
          "sft",
          "sft",
          "sft",
          "sft",
          "sft",
          "sft",
          "sft",
          "sft",
          "sft",
          "sft",
          "sft",
          "sft",
          "sft",
          "sft",
          "sft",
          "sft",
          "sft",
          "sft",
          "sft",
          "sft",
          "sft",
          "sft",
          "sft",
          "sft",
          "sft",
          "sft",
          "sft",
          "sft",
          "sft",
          "sft",
          "sft",
          "sft",
          "sft",
          "sft",
          "sft",
          "sft",
          "sft",
          "sft",
          "sft",
          "sft",
          "sft",
          "sft",
          "sft",
          "sft",
          "sft",
          "sft",
          "sft",
          "sft",
          "sft",
          "sft",
          "sft",
          "sft",
          "sft",
          "sft",
          "sft",
          "sft",
          "sft",
          "sft",
          "sft",
          "sft",
          "sft",
          "sft",
          "sft",
          "sft",
          "sft",
          "sft",
          "sft",
          "sft",
          "sft",
          "sft",
          "sft",
          "sft",
          "sft",
          "sft",
          "sft",
          "sft",
          "sft",
          "sft",
          "sft",
          "sft",
          "sft",
          "sft",
          "sft",
          "sft",
          "sft",
          "sft",
          "sft",
          "sft",
          "sft",
          "sft",
          "sft",
          "sft",
          "sft",
          "sft",
          "sft",
          "sft",
          "sft",
          "sft",
          "sft",
          "sft",
          "sft",
          "sft",
          "sft",
          "sft",
          "sft",
          "sft",
          "sft",
          "sft",
          "sft",
          "sft",
          "sft",
          "sft",
          "sft",
          "sft",
          "sft",
          "sft",
          "sft",
          "sft",
          "sft",
          "sft",
          "sft",
          "sft",
          "sft",
          "sft",
          "sft",
          "sft",
          "sft",
          "sft",
          "sft",
          "sft",
          "sft",
          "sft",
          "sft",
          "sft",
          "sft",
          "sft",
          "sft",
          "sft",
          "sft",
          "sft",
          "sft",
          "sft",
          "sft",
          "sft",
          "sft",
          "sft",
          "sft",
          "sft",
          "sft",
          "sft",
          "sft",
          "sft",
          "sft",
          "sft",
          "sft",
          "sft",
          "sft",
          "sft",
          "sft",
          "sft",
          "sft",
          "sft",
          "sft",
          "sft",
          "sft",
          "sft",
          "sft",
          "sft",
          "sft",
          "sft",
          "sft",
          "sft",
          "sft",
          "sft",
          "sft",
          "sft",
          "sft",
          "sft",
          "sft",
          "sft",
          "sft",
          "sft",
          "sft",
          "sft",
          "sft",
          "sft",
          "sft",
          "sft",
          "sft",
          "sft",
          "sft",
          "sft",
          "sft",
          "sft",
          "sft",
          "sft",
          "sft",
          "sft",
          "sft",
          "sft",
          "sft",
          "sft",
          "sft",
          "sft",
          "sft",
          "sft",
          "sft",
          "sft",
          "sft",
          "sft",
          "sft",
          "sft",
          "sft",
          "sft",
          "sft",
          "sft",
          "sft",
          "sft",
          "sft",
          "sft",
          "sft",
          "sft",
          "sft",
          "sft",
          "sft",
          "sft",
          "sft",
          "sft",
          "sft",
          "sft",
          "sft",
          "sft",
          "sft",
          "sft",
          "sft",
          "sft",
          "sft",
          "sft",
          "sft",
          "sft",
          "sft",
          "sft",
          "sft",
          "sft",
          "sft",
          "sft",
          "sft",
          "sft",
          "sft",
          "sft",
          "sft",
          "sft",
          "sft",
          "sft",
          "sft",
          "sft",
          "sft",
          "sft",
          "sft",
          "sft",
          "sft",
          "sft",
          "sft",
          "sft",
          "sft",
          "sft",
          "sft",
          "sft",
          "sft",
          "sft",
          "sft",
          "sft",
          "sft",
          "sft",
          "sft",
          "sft",
          "sft",
          "sft",
          "sft",
          "sft",
          "sft",
          "sft",
          "sft",
          "sft",
          "sft",
          "sft",
          "sft",
          "sft",
          "sft",
          "sft",
          "sft",
          "sft",
          "sft",
          "sft",
          "sft",
          "sft",
          "sft",
          "sft",
          "sft",
          "sft",
          "sft",
          "sft",
          "sft",
          "sft",
          "sft",
          "sft",
          "sft",
          "sft",
          "sft",
          "sft",
          "sft",
          "sft",
          "sft",
          "sft",
          "sft",
          "sft",
          "sft",
          "sft",
          "sft",
          "sft",
          "sft",
          "sft",
          "sft",
          "sft",
          "sft",
          "sft",
          "sft",
          "sft",
          "sft",
          "sft",
          "sft",
          "sft",
          "sft",
          "sft",
          "sft",
          "sft",
          "sft",
          "sft",
          "sft",
          "sft",
          "sft",
          "sft",
          "sft",
          "sft",
          "sft",
          "sft",
          "sft",
          "sft",
          "sft",
          "sft",
          "sft",
          "sft",
          "sft",
          "sft",
          "sft",
          "sft",
          "sft",
          "sft",
          "sft",
          "sft",
          "sft",
          "sft",
          "sft",
          "sft",
          "sft",
          "sft",
          "sft",
          "sft",
          "sft",
          "sft",
          "sft",
          "sft",
          "sft",
          "sft",
          "sft",
          "sft",
          "sft",
          "sft",
          "sft",
          "sft",
          "sft",
          "sft",
          "sft",
          "sft"
         ],
         "x0": " ",
         "xaxis": "x",
         "y": [
          35,
          29,
          0,
          23,
          35,
          0,
          32,
          45,
          0,
          0,
          0,
          0,
          23,
          19,
          47,
          0,
          30,
          41,
          0,
          0,
          35,
          33,
          26,
          0,
          15,
          19,
          0,
          26,
          36,
          11,
          0,
          31,
          33,
          0,
          37,
          42,
          47,
          25,
          0,
          18,
          0,
          39,
          0,
          27,
          32,
          11,
          15,
          21,
          34,
          42,
          10,
          39,
          60,
          0,
          41,
          0,
          0,
          34,
          0,
          27,
          30,
          0,
          13,
          27,
          20,
          35,
          0,
          20,
          30,
          0,
          33,
          22,
          13,
          26,
          28,
          29,
          54,
          25,
          19,
          0,
          15,
          40,
          0,
          18,
          27,
          28,
          18,
          30,
          51,
          0,
          0,
          0,
          18,
          0,
          29,
          28,
          31,
          25,
          33,
          26,
          34,
          0,
          32,
          0,
          0,
          0,
          23,
          15,
          56,
          39,
          30,
          0,
          0,
          30,
          36,
          24,
          0,
          14,
          0,
          37,
          31,
          13,
          20,
          26,
          25,
          0,
          29,
          0,
          30,
          26,
          0,
          31,
          23,
          37,
          35,
          0,
          17,
          50,
          0,
          28,
          42,
          0,
          44,
          15,
          21,
          19,
          38,
          40,
          34,
          23,
          0,
          18,
          25,
          0,
          0,
          12,
          0,
          23,
          42,
          24,
          42,
          0,
          0,
          0,
          0,
          18,
          0,
          0,
          28,
          36,
          41,
          39,
          35,
          0,
          44,
          0,
          20,
          41,
          0,
          13,
          44,
          27,
          16,
          0,
          20,
          16,
          32,
          28,
          29,
          0,
          27,
          33,
          22,
          54,
          31,
          26,
          32,
          40,
          41,
          30,
          22,
          0,
          29,
          0,
          33,
          15,
          27,
          0,
          38,
          39,
          31,
          0,
          37,
          25,
          0,
          28,
          0,
          21,
          27,
          21,
          0,
          24,
          32,
          0,
          22,
          35,
          15,
          0,
          33,
          33,
          19,
          0,
          0,
          14,
          32,
          7,
          35,
          39,
          22,
          16,
          28,
          15,
          32,
          15,
          0,
          18,
          42,
          0,
          37,
          32,
          0,
          50,
          0,
          52,
          24,
          23,
          0,
          10,
          0,
          28,
          15,
          0,
          0,
          26,
          44,
          39,
          17,
          43,
          29,
          30,
          37,
          45,
          0,
          31,
          38,
          29,
          0,
          33,
          41,
          0,
          0,
          37,
          23,
          14,
          19,
          28,
          30,
          37,
          17,
          10,
          31,
          22,
          11,
          0,
          39,
          0,
          12,
          30,
          20,
          33,
          32,
          21,
          32,
          0,
          36,
          32,
          19,
          16,
          0,
          18,
          43,
          0,
          34,
          0,
          13,
          21,
          0,
          0,
          36,
          19,
          19,
          0,
          0,
          28,
          12,
          0,
          0,
          40,
          40,
          36,
          33,
          0,
          0,
          25,
          28,
          0,
          17,
          16,
          28,
          48,
          23,
          22,
          40,
          43,
          43,
          15,
          37,
          0,
          39,
          30,
          22,
          8,
          18,
          24,
          13,
          29,
          36,
          26,
          23,
          29,
          0,
          14,
          12,
          0,
          24,
          34,
          40,
          0,
          31,
          0,
          0,
          41,
          25,
          0,
          32,
          0,
          0,
          0,
          49,
          39,
          30,
          23,
          22,
          35,
          33,
          21,
          32,
          0,
          29,
          41,
          18,
          46,
          22,
          32,
          39,
          30,
          46,
          25,
          16,
          11,
          0,
          8,
          33,
          0,
          15,
          0,
          25,
          23,
          27,
          0,
          12,
          63,
          12,
          45,
          37,
          18,
          13,
          0,
          32,
          28,
          0,
          28,
          48,
          33,
          22,
          0,
          40,
          30,
          0,
          13,
          10,
          36,
          41,
          40,
          38,
          27,
          0,
          0,
          27,
          45,
          17,
          38,
          31,
          30,
          37,
          22,
          31,
          42,
          41,
          32,
          17,
          0,
          28,
          30,
          38,
          18,
          0,
          0,
          15,
          33,
          32,
          19,
          32,
          25,
          39,
          0,
          26,
          23,
          23,
          0,
          31,
          17,
          0,
          0,
          19,
          18,
          34,
          0,
          0,
          7,
          32,
          33,
          0,
          0,
          18,
          19,
          15,
          31,
          0,
          18,
          0,
          52,
          30,
          0,
          0,
          37,
          49,
          40,
          25,
          32,
          23,
          29,
          35,
          27,
          21,
          43,
          28,
          30,
          0,
          24,
          23,
          33,
          40,
          0,
          40,
          0,
          0,
          32,
          34,
          19,
          0,
          14,
          30,
          32,
          29,
          30,
          0,
          0,
          31,
          17,
          30,
          47,
          20,
          0,
          0,
          46,
          27,
          17,
          0,
          24,
          11,
          0,
          0,
          27,
          40,
          50,
          0,
          22,
          45,
          14,
          0,
          0,
          18,
          19,
          36,
          29,
          32,
          42,
          25,
          39,
          13,
          21,
          22,
          42,
          28,
          26,
          0,
          0,
          13,
          24,
          42,
          20,
          0,
          27,
          0,
          47,
          0,
          0,
          0,
          22,
          0,
          40,
          0,
          17,
          0,
          0,
          0,
          18,
          32,
          12,
          17,
          0,
          0,
          30,
          35,
          17,
          36,
          35,
          25,
          25,
          23,
          40,
          0,
          28,
          27,
          35,
          48,
          0,
          31,
          0,
          43,
          46,
          46,
          39,
          45,
          18,
          27,
          33,
          30,
          26,
          10,
          23,
          35,
          0,
          0,
          0,
          0,
          0,
          17,
          28,
          36,
          39,
          0,
          0,
          26,
          0,
          19,
          26,
          46,
          0,
          32,
          49,
          0,
          24,
          19,
          11,
          0,
          27,
          31,
          29,
          20,
          36,
          21,
          0,
          32,
          13,
          27,
          36,
          20,
          0,
          33,
          39,
          18,
          46,
          27,
          19,
          36,
          29,
          30,
          0,
          40,
          29,
          26,
          0,
          0,
          23,
          0,
          37,
          27,
          0,
          32,
          27,
          23,
          17,
          0,
          37,
          20,
          18,
          0,
          37,
          33,
          41,
          41,
          22,
          0,
          0,
          39,
          24,
          44,
          32,
          39,
          41,
          0,
          0,
          0,
          26,
          31,
          0,
          48,
          27,
          23,
          0,
          31
         ],
         "y0": " ",
         "yaxis": "y"
        }
       ],
       "layout": {
        "boxmode": "group",
        "legend": {
         "tracegroupgap": 0
        },
        "margin": {
         "t": 60
        },
        "template": {
         "data": {
          "bar": [
           {
            "error_x": {
             "color": "#2a3f5f"
            },
            "error_y": {
             "color": "#2a3f5f"
            },
            "marker": {
             "line": {
              "color": "#E5ECF6",
              "width": 0.5
             },
             "pattern": {
              "fillmode": "overlay",
              "size": 10,
              "solidity": 0.2
             }
            },
            "type": "bar"
           }
          ],
          "barpolar": [
           {
            "marker": {
             "line": {
              "color": "#E5ECF6",
              "width": 0.5
             },
             "pattern": {
              "fillmode": "overlay",
              "size": 10,
              "solidity": 0.2
             }
            },
            "type": "barpolar"
           }
          ],
          "carpet": [
           {
            "aaxis": {
             "endlinecolor": "#2a3f5f",
             "gridcolor": "white",
             "linecolor": "white",
             "minorgridcolor": "white",
             "startlinecolor": "#2a3f5f"
            },
            "baxis": {
             "endlinecolor": "#2a3f5f",
             "gridcolor": "white",
             "linecolor": "white",
             "minorgridcolor": "white",
             "startlinecolor": "#2a3f5f"
            },
            "type": "carpet"
           }
          ],
          "choropleth": [
           {
            "colorbar": {
             "outlinewidth": 0,
             "ticks": ""
            },
            "type": "choropleth"
           }
          ],
          "contour": [
           {
            "colorbar": {
             "outlinewidth": 0,
             "ticks": ""
            },
            "colorscale": [
             [
              0,
              "#0d0887"
             ],
             [
              0.1111111111111111,
              "#46039f"
             ],
             [
              0.2222222222222222,
              "#7201a8"
             ],
             [
              0.3333333333333333,
              "#9c179e"
             ],
             [
              0.4444444444444444,
              "#bd3786"
             ],
             [
              0.5555555555555556,
              "#d8576b"
             ],
             [
              0.6666666666666666,
              "#ed7953"
             ],
             [
              0.7777777777777778,
              "#fb9f3a"
             ],
             [
              0.8888888888888888,
              "#fdca26"
             ],
             [
              1,
              "#f0f921"
             ]
            ],
            "type": "contour"
           }
          ],
          "contourcarpet": [
           {
            "colorbar": {
             "outlinewidth": 0,
             "ticks": ""
            },
            "type": "contourcarpet"
           }
          ],
          "heatmap": [
           {
            "colorbar": {
             "outlinewidth": 0,
             "ticks": ""
            },
            "colorscale": [
             [
              0,
              "#0d0887"
             ],
             [
              0.1111111111111111,
              "#46039f"
             ],
             [
              0.2222222222222222,
              "#7201a8"
             ],
             [
              0.3333333333333333,
              "#9c179e"
             ],
             [
              0.4444444444444444,
              "#bd3786"
             ],
             [
              0.5555555555555556,
              "#d8576b"
             ],
             [
              0.6666666666666666,
              "#ed7953"
             ],
             [
              0.7777777777777778,
              "#fb9f3a"
             ],
             [
              0.8888888888888888,
              "#fdca26"
             ],
             [
              1,
              "#f0f921"
             ]
            ],
            "type": "heatmap"
           }
          ],
          "heatmapgl": [
           {
            "colorbar": {
             "outlinewidth": 0,
             "ticks": ""
            },
            "colorscale": [
             [
              0,
              "#0d0887"
             ],
             [
              0.1111111111111111,
              "#46039f"
             ],
             [
              0.2222222222222222,
              "#7201a8"
             ],
             [
              0.3333333333333333,
              "#9c179e"
             ],
             [
              0.4444444444444444,
              "#bd3786"
             ],
             [
              0.5555555555555556,
              "#d8576b"
             ],
             [
              0.6666666666666666,
              "#ed7953"
             ],
             [
              0.7777777777777778,
              "#fb9f3a"
             ],
             [
              0.8888888888888888,
              "#fdca26"
             ],
             [
              1,
              "#f0f921"
             ]
            ],
            "type": "heatmapgl"
           }
          ],
          "histogram": [
           {
            "marker": {
             "pattern": {
              "fillmode": "overlay",
              "size": 10,
              "solidity": 0.2
             }
            },
            "type": "histogram"
           }
          ],
          "histogram2d": [
           {
            "colorbar": {
             "outlinewidth": 0,
             "ticks": ""
            },
            "colorscale": [
             [
              0,
              "#0d0887"
             ],
             [
              0.1111111111111111,
              "#46039f"
             ],
             [
              0.2222222222222222,
              "#7201a8"
             ],
             [
              0.3333333333333333,
              "#9c179e"
             ],
             [
              0.4444444444444444,
              "#bd3786"
             ],
             [
              0.5555555555555556,
              "#d8576b"
             ],
             [
              0.6666666666666666,
              "#ed7953"
             ],
             [
              0.7777777777777778,
              "#fb9f3a"
             ],
             [
              0.8888888888888888,
              "#fdca26"
             ],
             [
              1,
              "#f0f921"
             ]
            ],
            "type": "histogram2d"
           }
          ],
          "histogram2dcontour": [
           {
            "colorbar": {
             "outlinewidth": 0,
             "ticks": ""
            },
            "colorscale": [
             [
              0,
              "#0d0887"
             ],
             [
              0.1111111111111111,
              "#46039f"
             ],
             [
              0.2222222222222222,
              "#7201a8"
             ],
             [
              0.3333333333333333,
              "#9c179e"
             ],
             [
              0.4444444444444444,
              "#bd3786"
             ],
             [
              0.5555555555555556,
              "#d8576b"
             ],
             [
              0.6666666666666666,
              "#ed7953"
             ],
             [
              0.7777777777777778,
              "#fb9f3a"
             ],
             [
              0.8888888888888888,
              "#fdca26"
             ],
             [
              1,
              "#f0f921"
             ]
            ],
            "type": "histogram2dcontour"
           }
          ],
          "mesh3d": [
           {
            "colorbar": {
             "outlinewidth": 0,
             "ticks": ""
            },
            "type": "mesh3d"
           }
          ],
          "parcoords": [
           {
            "line": {
             "colorbar": {
              "outlinewidth": 0,
              "ticks": ""
             }
            },
            "type": "parcoords"
           }
          ],
          "pie": [
           {
            "automargin": true,
            "type": "pie"
           }
          ],
          "scatter": [
           {
            "marker": {
             "colorbar": {
              "outlinewidth": 0,
              "ticks": ""
             }
            },
            "type": "scatter"
           }
          ],
          "scatter3d": [
           {
            "line": {
             "colorbar": {
              "outlinewidth": 0,
              "ticks": ""
             }
            },
            "marker": {
             "colorbar": {
              "outlinewidth": 0,
              "ticks": ""
             }
            },
            "type": "scatter3d"
           }
          ],
          "scattercarpet": [
           {
            "marker": {
             "colorbar": {
              "outlinewidth": 0,
              "ticks": ""
             }
            },
            "type": "scattercarpet"
           }
          ],
          "scattergeo": [
           {
            "marker": {
             "colorbar": {
              "outlinewidth": 0,
              "ticks": ""
             }
            },
            "type": "scattergeo"
           }
          ],
          "scattergl": [
           {
            "marker": {
             "colorbar": {
              "outlinewidth": 0,
              "ticks": ""
             }
            },
            "type": "scattergl"
           }
          ],
          "scattermapbox": [
           {
            "marker": {
             "colorbar": {
              "outlinewidth": 0,
              "ticks": ""
             }
            },
            "type": "scattermapbox"
           }
          ],
          "scatterpolar": [
           {
            "marker": {
             "colorbar": {
              "outlinewidth": 0,
              "ticks": ""
             }
            },
            "type": "scatterpolar"
           }
          ],
          "scatterpolargl": [
           {
            "marker": {
             "colorbar": {
              "outlinewidth": 0,
              "ticks": ""
             }
            },
            "type": "scatterpolargl"
           }
          ],
          "scatterternary": [
           {
            "marker": {
             "colorbar": {
              "outlinewidth": 0,
              "ticks": ""
             }
            },
            "type": "scatterternary"
           }
          ],
          "surface": [
           {
            "colorbar": {
             "outlinewidth": 0,
             "ticks": ""
            },
            "colorscale": [
             [
              0,
              "#0d0887"
             ],
             [
              0.1111111111111111,
              "#46039f"
             ],
             [
              0.2222222222222222,
              "#7201a8"
             ],
             [
              0.3333333333333333,
              "#9c179e"
             ],
             [
              0.4444444444444444,
              "#bd3786"
             ],
             [
              0.5555555555555556,
              "#d8576b"
             ],
             [
              0.6666666666666666,
              "#ed7953"
             ],
             [
              0.7777777777777778,
              "#fb9f3a"
             ],
             [
              0.8888888888888888,
              "#fdca26"
             ],
             [
              1,
              "#f0f921"
             ]
            ],
            "type": "surface"
           }
          ],
          "table": [
           {
            "cells": {
             "fill": {
              "color": "#EBF0F8"
             },
             "line": {
              "color": "white"
             }
            },
            "header": {
             "fill": {
              "color": "#C8D4E3"
             },
             "line": {
              "color": "white"
             }
            },
            "type": "table"
           }
          ]
         },
         "layout": {
          "annotationdefaults": {
           "arrowcolor": "#2a3f5f",
           "arrowhead": 0,
           "arrowwidth": 1
          },
          "autotypenumbers": "strict",
          "coloraxis": {
           "colorbar": {
            "outlinewidth": 0,
            "ticks": ""
           }
          },
          "colorscale": {
           "diverging": [
            [
             0,
             "#8e0152"
            ],
            [
             0.1,
             "#c51b7d"
            ],
            [
             0.2,
             "#de77ae"
            ],
            [
             0.3,
             "#f1b6da"
            ],
            [
             0.4,
             "#fde0ef"
            ],
            [
             0.5,
             "#f7f7f7"
            ],
            [
             0.6,
             "#e6f5d0"
            ],
            [
             0.7,
             "#b8e186"
            ],
            [
             0.8,
             "#7fbc41"
            ],
            [
             0.9,
             "#4d9221"
            ],
            [
             1,
             "#276419"
            ]
           ],
           "sequential": [
            [
             0,
             "#0d0887"
            ],
            [
             0.1111111111111111,
             "#46039f"
            ],
            [
             0.2222222222222222,
             "#7201a8"
            ],
            [
             0.3333333333333333,
             "#9c179e"
            ],
            [
             0.4444444444444444,
             "#bd3786"
            ],
            [
             0.5555555555555556,
             "#d8576b"
            ],
            [
             0.6666666666666666,
             "#ed7953"
            ],
            [
             0.7777777777777778,
             "#fb9f3a"
            ],
            [
             0.8888888888888888,
             "#fdca26"
            ],
            [
             1,
             "#f0f921"
            ]
           ],
           "sequentialminus": [
            [
             0,
             "#0d0887"
            ],
            [
             0.1111111111111111,
             "#46039f"
            ],
            [
             0.2222222222222222,
             "#7201a8"
            ],
            [
             0.3333333333333333,
             "#9c179e"
            ],
            [
             0.4444444444444444,
             "#bd3786"
            ],
            [
             0.5555555555555556,
             "#d8576b"
            ],
            [
             0.6666666666666666,
             "#ed7953"
            ],
            [
             0.7777777777777778,
             "#fb9f3a"
            ],
            [
             0.8888888888888888,
             "#fdca26"
            ],
            [
             1,
             "#f0f921"
            ]
           ]
          },
          "colorway": [
           "#636efa",
           "#EF553B",
           "#00cc96",
           "#ab63fa",
           "#FFA15A",
           "#19d3f3",
           "#FF6692",
           "#B6E880",
           "#FF97FF",
           "#FECB52"
          ],
          "font": {
           "color": "#2a3f5f"
          },
          "geo": {
           "bgcolor": "white",
           "lakecolor": "white",
           "landcolor": "#E5ECF6",
           "showlakes": true,
           "showland": true,
           "subunitcolor": "white"
          },
          "hoverlabel": {
           "align": "left"
          },
          "hovermode": "closest",
          "mapbox": {
           "style": "light"
          },
          "paper_bgcolor": "white",
          "plot_bgcolor": "#E5ECF6",
          "polar": {
           "angularaxis": {
            "gridcolor": "white",
            "linecolor": "white",
            "ticks": ""
           },
           "bgcolor": "#E5ECF6",
           "radialaxis": {
            "gridcolor": "white",
            "linecolor": "white",
            "ticks": ""
           }
          },
          "scene": {
           "xaxis": {
            "backgroundcolor": "#E5ECF6",
            "gridcolor": "white",
            "gridwidth": 2,
            "linecolor": "white",
            "showbackground": true,
            "ticks": "",
            "zerolinecolor": "white"
           },
           "yaxis": {
            "backgroundcolor": "#E5ECF6",
            "gridcolor": "white",
            "gridwidth": 2,
            "linecolor": "white",
            "showbackground": true,
            "ticks": "",
            "zerolinecolor": "white"
           },
           "zaxis": {
            "backgroundcolor": "#E5ECF6",
            "gridcolor": "white",
            "gridwidth": 2,
            "linecolor": "white",
            "showbackground": true,
            "ticks": "",
            "zerolinecolor": "white"
           }
          },
          "shapedefaults": {
           "line": {
            "color": "#2a3f5f"
           }
          },
          "ternary": {
           "aaxis": {
            "gridcolor": "white",
            "linecolor": "white",
            "ticks": ""
           },
           "baxis": {
            "gridcolor": "white",
            "linecolor": "white",
            "ticks": ""
           },
           "bgcolor": "#E5ECF6",
           "caxis": {
            "gridcolor": "white",
            "linecolor": "white",
            "ticks": ""
           }
          },
          "title": {
           "x": 0.05
          },
          "xaxis": {
           "automargin": true,
           "gridcolor": "white",
           "linecolor": "white",
           "ticks": "",
           "title": {
            "standoff": 15
           },
           "zerolinecolor": "white",
           "zerolinewidth": 2
          },
          "yaxis": {
           "automargin": true,
           "gridcolor": "white",
           "linecolor": "white",
           "ticks": "",
           "title": {
            "standoff": 15
           },
           "zerolinecolor": "white",
           "zerolinewidth": 2
          }
         }
        },
        "xaxis": {
         "anchor": "y",
         "domain": [
          0,
          1
         ],
         "title": {
          "text": "variable"
         }
        },
        "yaxis": {
         "anchor": "x",
         "domain": [
          0,
          1
         ],
         "title": {
          "text": "value"
         }
        }
       }
      },
      "text/html": [
       "<div>                            <div id=\"c55e08fa-3533-4008-905b-333b15512d6a\" class=\"plotly-graph-div\" style=\"height:525px; width:100%;\"></div>            <script type=\"text/javascript\">                require([\"plotly\"], function(Plotly) {                    window.PLOTLYENV=window.PLOTLYENV || {};                                    if (document.getElementById(\"c55e08fa-3533-4008-905b-333b15512d6a\")) {                    Plotly.newPlot(                        \"c55e08fa-3533-4008-905b-333b15512d6a\",                        [{\"alignmentgroup\":\"True\",\"hovertemplate\":\"variable=%{x}<br>value=%{y}<extra></extra>\",\"legendgroup\":\"\",\"marker\":{\"color\":\"#636efa\"},\"name\":\"\",\"notched\":false,\"offsetgroup\":\"\",\"orientation\":\"v\",\"showlegend\":false,\"type\":\"box\",\"x\":[\"sft\",\"sft\",\"sft\",\"sft\",\"sft\",\"sft\",\"sft\",\"sft\",\"sft\",\"sft\",\"sft\",\"sft\",\"sft\",\"sft\",\"sft\",\"sft\",\"sft\",\"sft\",\"sft\",\"sft\",\"sft\",\"sft\",\"sft\",\"sft\",\"sft\",\"sft\",\"sft\",\"sft\",\"sft\",\"sft\",\"sft\",\"sft\",\"sft\",\"sft\",\"sft\",\"sft\",\"sft\",\"sft\",\"sft\",\"sft\",\"sft\",\"sft\",\"sft\",\"sft\",\"sft\",\"sft\",\"sft\",\"sft\",\"sft\",\"sft\",\"sft\",\"sft\",\"sft\",\"sft\",\"sft\",\"sft\",\"sft\",\"sft\",\"sft\",\"sft\",\"sft\",\"sft\",\"sft\",\"sft\",\"sft\",\"sft\",\"sft\",\"sft\",\"sft\",\"sft\",\"sft\",\"sft\",\"sft\",\"sft\",\"sft\",\"sft\",\"sft\",\"sft\",\"sft\",\"sft\",\"sft\",\"sft\",\"sft\",\"sft\",\"sft\",\"sft\",\"sft\",\"sft\",\"sft\",\"sft\",\"sft\",\"sft\",\"sft\",\"sft\",\"sft\",\"sft\",\"sft\",\"sft\",\"sft\",\"sft\",\"sft\",\"sft\",\"sft\",\"sft\",\"sft\",\"sft\",\"sft\",\"sft\",\"sft\",\"sft\",\"sft\",\"sft\",\"sft\",\"sft\",\"sft\",\"sft\",\"sft\",\"sft\",\"sft\",\"sft\",\"sft\",\"sft\",\"sft\",\"sft\",\"sft\",\"sft\",\"sft\",\"sft\",\"sft\",\"sft\",\"sft\",\"sft\",\"sft\",\"sft\",\"sft\",\"sft\",\"sft\",\"sft\",\"sft\",\"sft\",\"sft\",\"sft\",\"sft\",\"sft\",\"sft\",\"sft\",\"sft\",\"sft\",\"sft\",\"sft\",\"sft\",\"sft\",\"sft\",\"sft\",\"sft\",\"sft\",\"sft\",\"sft\",\"sft\",\"sft\",\"sft\",\"sft\",\"sft\",\"sft\",\"sft\",\"sft\",\"sft\",\"sft\",\"sft\",\"sft\",\"sft\",\"sft\",\"sft\",\"sft\",\"sft\",\"sft\",\"sft\",\"sft\",\"sft\",\"sft\",\"sft\",\"sft\",\"sft\",\"sft\",\"sft\",\"sft\",\"sft\",\"sft\",\"sft\",\"sft\",\"sft\",\"sft\",\"sft\",\"sft\",\"sft\",\"sft\",\"sft\",\"sft\",\"sft\",\"sft\",\"sft\",\"sft\",\"sft\",\"sft\",\"sft\",\"sft\",\"sft\",\"sft\",\"sft\",\"sft\",\"sft\",\"sft\",\"sft\",\"sft\",\"sft\",\"sft\",\"sft\",\"sft\",\"sft\",\"sft\",\"sft\",\"sft\",\"sft\",\"sft\",\"sft\",\"sft\",\"sft\",\"sft\",\"sft\",\"sft\",\"sft\",\"sft\",\"sft\",\"sft\",\"sft\",\"sft\",\"sft\",\"sft\",\"sft\",\"sft\",\"sft\",\"sft\",\"sft\",\"sft\",\"sft\",\"sft\",\"sft\",\"sft\",\"sft\",\"sft\",\"sft\",\"sft\",\"sft\",\"sft\",\"sft\",\"sft\",\"sft\",\"sft\",\"sft\",\"sft\",\"sft\",\"sft\",\"sft\",\"sft\",\"sft\",\"sft\",\"sft\",\"sft\",\"sft\",\"sft\",\"sft\",\"sft\",\"sft\",\"sft\",\"sft\",\"sft\",\"sft\",\"sft\",\"sft\",\"sft\",\"sft\",\"sft\",\"sft\",\"sft\",\"sft\",\"sft\",\"sft\",\"sft\",\"sft\",\"sft\",\"sft\",\"sft\",\"sft\",\"sft\",\"sft\",\"sft\",\"sft\",\"sft\",\"sft\",\"sft\",\"sft\",\"sft\",\"sft\",\"sft\",\"sft\",\"sft\",\"sft\",\"sft\",\"sft\",\"sft\",\"sft\",\"sft\",\"sft\",\"sft\",\"sft\",\"sft\",\"sft\",\"sft\",\"sft\",\"sft\",\"sft\",\"sft\",\"sft\",\"sft\",\"sft\",\"sft\",\"sft\",\"sft\",\"sft\",\"sft\",\"sft\",\"sft\",\"sft\",\"sft\",\"sft\",\"sft\",\"sft\",\"sft\",\"sft\",\"sft\",\"sft\",\"sft\",\"sft\",\"sft\",\"sft\",\"sft\",\"sft\",\"sft\",\"sft\",\"sft\",\"sft\",\"sft\",\"sft\",\"sft\",\"sft\",\"sft\",\"sft\",\"sft\",\"sft\",\"sft\",\"sft\",\"sft\",\"sft\",\"sft\",\"sft\",\"sft\",\"sft\",\"sft\",\"sft\",\"sft\",\"sft\",\"sft\",\"sft\",\"sft\",\"sft\",\"sft\",\"sft\",\"sft\",\"sft\",\"sft\",\"sft\",\"sft\",\"sft\",\"sft\",\"sft\",\"sft\",\"sft\",\"sft\",\"sft\",\"sft\",\"sft\",\"sft\",\"sft\",\"sft\",\"sft\",\"sft\",\"sft\",\"sft\",\"sft\",\"sft\",\"sft\",\"sft\",\"sft\",\"sft\",\"sft\",\"sft\",\"sft\",\"sft\",\"sft\",\"sft\",\"sft\",\"sft\",\"sft\",\"sft\",\"sft\",\"sft\",\"sft\",\"sft\",\"sft\",\"sft\",\"sft\",\"sft\",\"sft\",\"sft\",\"sft\",\"sft\",\"sft\",\"sft\",\"sft\",\"sft\",\"sft\",\"sft\",\"sft\",\"sft\",\"sft\",\"sft\",\"sft\",\"sft\",\"sft\",\"sft\",\"sft\",\"sft\",\"sft\",\"sft\",\"sft\",\"sft\",\"sft\",\"sft\",\"sft\",\"sft\",\"sft\",\"sft\",\"sft\",\"sft\",\"sft\",\"sft\",\"sft\",\"sft\",\"sft\",\"sft\",\"sft\",\"sft\",\"sft\",\"sft\",\"sft\",\"sft\",\"sft\",\"sft\",\"sft\",\"sft\",\"sft\",\"sft\",\"sft\",\"sft\",\"sft\",\"sft\",\"sft\",\"sft\",\"sft\",\"sft\",\"sft\",\"sft\",\"sft\",\"sft\",\"sft\",\"sft\",\"sft\",\"sft\",\"sft\",\"sft\",\"sft\",\"sft\",\"sft\",\"sft\",\"sft\",\"sft\",\"sft\",\"sft\",\"sft\",\"sft\",\"sft\",\"sft\",\"sft\",\"sft\",\"sft\",\"sft\",\"sft\",\"sft\",\"sft\",\"sft\",\"sft\",\"sft\",\"sft\",\"sft\",\"sft\",\"sft\",\"sft\",\"sft\",\"sft\",\"sft\",\"sft\",\"sft\",\"sft\",\"sft\",\"sft\",\"sft\",\"sft\",\"sft\",\"sft\",\"sft\",\"sft\",\"sft\",\"sft\",\"sft\",\"sft\",\"sft\",\"sft\",\"sft\",\"sft\",\"sft\",\"sft\",\"sft\",\"sft\",\"sft\",\"sft\",\"sft\",\"sft\",\"sft\",\"sft\",\"sft\",\"sft\",\"sft\",\"sft\",\"sft\",\"sft\",\"sft\",\"sft\",\"sft\",\"sft\",\"sft\",\"sft\",\"sft\",\"sft\",\"sft\",\"sft\",\"sft\",\"sft\",\"sft\",\"sft\",\"sft\",\"sft\",\"sft\",\"sft\",\"sft\",\"sft\",\"sft\",\"sft\",\"sft\",\"sft\",\"sft\",\"sft\",\"sft\",\"sft\",\"sft\",\"sft\",\"sft\",\"sft\",\"sft\",\"sft\",\"sft\",\"sft\",\"sft\",\"sft\",\"sft\",\"sft\",\"sft\",\"sft\",\"sft\",\"sft\",\"sft\",\"sft\",\"sft\",\"sft\",\"sft\",\"sft\",\"sft\",\"sft\",\"sft\",\"sft\",\"sft\",\"sft\",\"sft\",\"sft\",\"sft\",\"sft\",\"sft\",\"sft\",\"sft\",\"sft\",\"sft\",\"sft\",\"sft\",\"sft\",\"sft\",\"sft\",\"sft\",\"sft\",\"sft\",\"sft\",\"sft\",\"sft\",\"sft\",\"sft\",\"sft\",\"sft\",\"sft\",\"sft\",\"sft\",\"sft\",\"sft\",\"sft\",\"sft\",\"sft\",\"sft\",\"sft\",\"sft\",\"sft\",\"sft\",\"sft\",\"sft\",\"sft\",\"sft\",\"sft\",\"sft\",\"sft\",\"sft\",\"sft\",\"sft\",\"sft\",\"sft\",\"sft\",\"sft\",\"sft\",\"sft\",\"sft\",\"sft\",\"sft\",\"sft\",\"sft\",\"sft\",\"sft\",\"sft\",\"sft\",\"sft\",\"sft\",\"sft\",\"sft\",\"sft\",\"sft\",\"sft\",\"sft\",\"sft\",\"sft\",\"sft\",\"sft\",\"sft\",\"sft\",\"sft\",\"sft\",\"sft\",\"sft\",\"sft\",\"sft\",\"sft\",\"sft\",\"sft\",\"sft\",\"sft\",\"sft\",\"sft\",\"sft\",\"sft\",\"sft\",\"sft\",\"sft\",\"sft\",\"sft\",\"sft\",\"sft\",\"sft\",\"sft\",\"sft\",\"sft\"],\"x0\":\" \",\"xaxis\":\"x\",\"y\":[35,29,0,23,35,0,32,45,0,0,0,0,23,19,47,0,30,41,0,0,35,33,26,0,15,19,0,26,36,11,0,31,33,0,37,42,47,25,0,18,0,39,0,27,32,11,15,21,34,42,10,39,60,0,41,0,0,34,0,27,30,0,13,27,20,35,0,20,30,0,33,22,13,26,28,29,54,25,19,0,15,40,0,18,27,28,18,30,51,0,0,0,18,0,29,28,31,25,33,26,34,0,32,0,0,0,23,15,56,39,30,0,0,30,36,24,0,14,0,37,31,13,20,26,25,0,29,0,30,26,0,31,23,37,35,0,17,50,0,28,42,0,44,15,21,19,38,40,34,23,0,18,25,0,0,12,0,23,42,24,42,0,0,0,0,18,0,0,28,36,41,39,35,0,44,0,20,41,0,13,44,27,16,0,20,16,32,28,29,0,27,33,22,54,31,26,32,40,41,30,22,0,29,0,33,15,27,0,38,39,31,0,37,25,0,28,0,21,27,21,0,24,32,0,22,35,15,0,33,33,19,0,0,14,32,7,35,39,22,16,28,15,32,15,0,18,42,0,37,32,0,50,0,52,24,23,0,10,0,28,15,0,0,26,44,39,17,43,29,30,37,45,0,31,38,29,0,33,41,0,0,37,23,14,19,28,30,37,17,10,31,22,11,0,39,0,12,30,20,33,32,21,32,0,36,32,19,16,0,18,43,0,34,0,13,21,0,0,36,19,19,0,0,28,12,0,0,40,40,36,33,0,0,25,28,0,17,16,28,48,23,22,40,43,43,15,37,0,39,30,22,8,18,24,13,29,36,26,23,29,0,14,12,0,24,34,40,0,31,0,0,41,25,0,32,0,0,0,49,39,30,23,22,35,33,21,32,0,29,41,18,46,22,32,39,30,46,25,16,11,0,8,33,0,15,0,25,23,27,0,12,63,12,45,37,18,13,0,32,28,0,28,48,33,22,0,40,30,0,13,10,36,41,40,38,27,0,0,27,45,17,38,31,30,37,22,31,42,41,32,17,0,28,30,38,18,0,0,15,33,32,19,32,25,39,0,26,23,23,0,31,17,0,0,19,18,34,0,0,7,32,33,0,0,18,19,15,31,0,18,0,52,30,0,0,37,49,40,25,32,23,29,35,27,21,43,28,30,0,24,23,33,40,0,40,0,0,32,34,19,0,14,30,32,29,30,0,0,31,17,30,47,20,0,0,46,27,17,0,24,11,0,0,27,40,50,0,22,45,14,0,0,18,19,36,29,32,42,25,39,13,21,22,42,28,26,0,0,13,24,42,20,0,27,0,47,0,0,0,22,0,40,0,17,0,0,0,18,32,12,17,0,0,30,35,17,36,35,25,25,23,40,0,28,27,35,48,0,31,0,43,46,46,39,45,18,27,33,30,26,10,23,35,0,0,0,0,0,17,28,36,39,0,0,26,0,19,26,46,0,32,49,0,24,19,11,0,27,31,29,20,36,21,0,32,13,27,36,20,0,33,39,18,46,27,19,36,29,30,0,40,29,26,0,0,23,0,37,27,0,32,27,23,17,0,37,20,18,0,37,33,41,41,22,0,0,39,24,44,32,39,41,0,0,0,26,31,0,48,27,23,0,31],\"y0\":\" \",\"yaxis\":\"y\"}],                        {\"boxmode\":\"group\",\"legend\":{\"tracegroupgap\":0},\"margin\":{\"t\":60},\"template\":{\"data\":{\"bar\":[{\"error_x\":{\"color\":\"#2a3f5f\"},\"error_y\":{\"color\":\"#2a3f5f\"},\"marker\":{\"line\":{\"color\":\"#E5ECF6\",\"width\":0.5},\"pattern\":{\"fillmode\":\"overlay\",\"size\":10,\"solidity\":0.2}},\"type\":\"bar\"}],\"barpolar\":[{\"marker\":{\"line\":{\"color\":\"#E5ECF6\",\"width\":0.5},\"pattern\":{\"fillmode\":\"overlay\",\"size\":10,\"solidity\":0.2}},\"type\":\"barpolar\"}],\"carpet\":[{\"aaxis\":{\"endlinecolor\":\"#2a3f5f\",\"gridcolor\":\"white\",\"linecolor\":\"white\",\"minorgridcolor\":\"white\",\"startlinecolor\":\"#2a3f5f\"},\"baxis\":{\"endlinecolor\":\"#2a3f5f\",\"gridcolor\":\"white\",\"linecolor\":\"white\",\"minorgridcolor\":\"white\",\"startlinecolor\":\"#2a3f5f\"},\"type\":\"carpet\"}],\"choropleth\":[{\"colorbar\":{\"outlinewidth\":0,\"ticks\":\"\"},\"type\":\"choropleth\"}],\"contour\":[{\"colorbar\":{\"outlinewidth\":0,\"ticks\":\"\"},\"colorscale\":[[0.0,\"#0d0887\"],[0.1111111111111111,\"#46039f\"],[0.2222222222222222,\"#7201a8\"],[0.3333333333333333,\"#9c179e\"],[0.4444444444444444,\"#bd3786\"],[0.5555555555555556,\"#d8576b\"],[0.6666666666666666,\"#ed7953\"],[0.7777777777777778,\"#fb9f3a\"],[0.8888888888888888,\"#fdca26\"],[1.0,\"#f0f921\"]],\"type\":\"contour\"}],\"contourcarpet\":[{\"colorbar\":{\"outlinewidth\":0,\"ticks\":\"\"},\"type\":\"contourcarpet\"}],\"heatmap\":[{\"colorbar\":{\"outlinewidth\":0,\"ticks\":\"\"},\"colorscale\":[[0.0,\"#0d0887\"],[0.1111111111111111,\"#46039f\"],[0.2222222222222222,\"#7201a8\"],[0.3333333333333333,\"#9c179e\"],[0.4444444444444444,\"#bd3786\"],[0.5555555555555556,\"#d8576b\"],[0.6666666666666666,\"#ed7953\"],[0.7777777777777778,\"#fb9f3a\"],[0.8888888888888888,\"#fdca26\"],[1.0,\"#f0f921\"]],\"type\":\"heatmap\"}],\"heatmapgl\":[{\"colorbar\":{\"outlinewidth\":0,\"ticks\":\"\"},\"colorscale\":[[0.0,\"#0d0887\"],[0.1111111111111111,\"#46039f\"],[0.2222222222222222,\"#7201a8\"],[0.3333333333333333,\"#9c179e\"],[0.4444444444444444,\"#bd3786\"],[0.5555555555555556,\"#d8576b\"],[0.6666666666666666,\"#ed7953\"],[0.7777777777777778,\"#fb9f3a\"],[0.8888888888888888,\"#fdca26\"],[1.0,\"#f0f921\"]],\"type\":\"heatmapgl\"}],\"histogram\":[{\"marker\":{\"pattern\":{\"fillmode\":\"overlay\",\"size\":10,\"solidity\":0.2}},\"type\":\"histogram\"}],\"histogram2d\":[{\"colorbar\":{\"outlinewidth\":0,\"ticks\":\"\"},\"colorscale\":[[0.0,\"#0d0887\"],[0.1111111111111111,\"#46039f\"],[0.2222222222222222,\"#7201a8\"],[0.3333333333333333,\"#9c179e\"],[0.4444444444444444,\"#bd3786\"],[0.5555555555555556,\"#d8576b\"],[0.6666666666666666,\"#ed7953\"],[0.7777777777777778,\"#fb9f3a\"],[0.8888888888888888,\"#fdca26\"],[1.0,\"#f0f921\"]],\"type\":\"histogram2d\"}],\"histogram2dcontour\":[{\"colorbar\":{\"outlinewidth\":0,\"ticks\":\"\"},\"colorscale\":[[0.0,\"#0d0887\"],[0.1111111111111111,\"#46039f\"],[0.2222222222222222,\"#7201a8\"],[0.3333333333333333,\"#9c179e\"],[0.4444444444444444,\"#bd3786\"],[0.5555555555555556,\"#d8576b\"],[0.6666666666666666,\"#ed7953\"],[0.7777777777777778,\"#fb9f3a\"],[0.8888888888888888,\"#fdca26\"],[1.0,\"#f0f921\"]],\"type\":\"histogram2dcontour\"}],\"mesh3d\":[{\"colorbar\":{\"outlinewidth\":0,\"ticks\":\"\"},\"type\":\"mesh3d\"}],\"parcoords\":[{\"line\":{\"colorbar\":{\"outlinewidth\":0,\"ticks\":\"\"}},\"type\":\"parcoords\"}],\"pie\":[{\"automargin\":true,\"type\":\"pie\"}],\"scatter\":[{\"marker\":{\"colorbar\":{\"outlinewidth\":0,\"ticks\":\"\"}},\"type\":\"scatter\"}],\"scatter3d\":[{\"line\":{\"colorbar\":{\"outlinewidth\":0,\"ticks\":\"\"}},\"marker\":{\"colorbar\":{\"outlinewidth\":0,\"ticks\":\"\"}},\"type\":\"scatter3d\"}],\"scattercarpet\":[{\"marker\":{\"colorbar\":{\"outlinewidth\":0,\"ticks\":\"\"}},\"type\":\"scattercarpet\"}],\"scattergeo\":[{\"marker\":{\"colorbar\":{\"outlinewidth\":0,\"ticks\":\"\"}},\"type\":\"scattergeo\"}],\"scattergl\":[{\"marker\":{\"colorbar\":{\"outlinewidth\":0,\"ticks\":\"\"}},\"type\":\"scattergl\"}],\"scattermapbox\":[{\"marker\":{\"colorbar\":{\"outlinewidth\":0,\"ticks\":\"\"}},\"type\":\"scattermapbox\"}],\"scatterpolar\":[{\"marker\":{\"colorbar\":{\"outlinewidth\":0,\"ticks\":\"\"}},\"type\":\"scatterpolar\"}],\"scatterpolargl\":[{\"marker\":{\"colorbar\":{\"outlinewidth\":0,\"ticks\":\"\"}},\"type\":\"scatterpolargl\"}],\"scatterternary\":[{\"marker\":{\"colorbar\":{\"outlinewidth\":0,\"ticks\":\"\"}},\"type\":\"scatterternary\"}],\"surface\":[{\"colorbar\":{\"outlinewidth\":0,\"ticks\":\"\"},\"colorscale\":[[0.0,\"#0d0887\"],[0.1111111111111111,\"#46039f\"],[0.2222222222222222,\"#7201a8\"],[0.3333333333333333,\"#9c179e\"],[0.4444444444444444,\"#bd3786\"],[0.5555555555555556,\"#d8576b\"],[0.6666666666666666,\"#ed7953\"],[0.7777777777777778,\"#fb9f3a\"],[0.8888888888888888,\"#fdca26\"],[1.0,\"#f0f921\"]],\"type\":\"surface\"}],\"table\":[{\"cells\":{\"fill\":{\"color\":\"#EBF0F8\"},\"line\":{\"color\":\"white\"}},\"header\":{\"fill\":{\"color\":\"#C8D4E3\"},\"line\":{\"color\":\"white\"}},\"type\":\"table\"}]},\"layout\":{\"annotationdefaults\":{\"arrowcolor\":\"#2a3f5f\",\"arrowhead\":0,\"arrowwidth\":1},\"autotypenumbers\":\"strict\",\"coloraxis\":{\"colorbar\":{\"outlinewidth\":0,\"ticks\":\"\"}},\"colorscale\":{\"diverging\":[[0,\"#8e0152\"],[0.1,\"#c51b7d\"],[0.2,\"#de77ae\"],[0.3,\"#f1b6da\"],[0.4,\"#fde0ef\"],[0.5,\"#f7f7f7\"],[0.6,\"#e6f5d0\"],[0.7,\"#b8e186\"],[0.8,\"#7fbc41\"],[0.9,\"#4d9221\"],[1,\"#276419\"]],\"sequential\":[[0.0,\"#0d0887\"],[0.1111111111111111,\"#46039f\"],[0.2222222222222222,\"#7201a8\"],[0.3333333333333333,\"#9c179e\"],[0.4444444444444444,\"#bd3786\"],[0.5555555555555556,\"#d8576b\"],[0.6666666666666666,\"#ed7953\"],[0.7777777777777778,\"#fb9f3a\"],[0.8888888888888888,\"#fdca26\"],[1.0,\"#f0f921\"]],\"sequentialminus\":[[0.0,\"#0d0887\"],[0.1111111111111111,\"#46039f\"],[0.2222222222222222,\"#7201a8\"],[0.3333333333333333,\"#9c179e\"],[0.4444444444444444,\"#bd3786\"],[0.5555555555555556,\"#d8576b\"],[0.6666666666666666,\"#ed7953\"],[0.7777777777777778,\"#fb9f3a\"],[0.8888888888888888,\"#fdca26\"],[1.0,\"#f0f921\"]]},\"colorway\":[\"#636efa\",\"#EF553B\",\"#00cc96\",\"#ab63fa\",\"#FFA15A\",\"#19d3f3\",\"#FF6692\",\"#B6E880\",\"#FF97FF\",\"#FECB52\"],\"font\":{\"color\":\"#2a3f5f\"},\"geo\":{\"bgcolor\":\"white\",\"lakecolor\":\"white\",\"landcolor\":\"#E5ECF6\",\"showlakes\":true,\"showland\":true,\"subunitcolor\":\"white\"},\"hoverlabel\":{\"align\":\"left\"},\"hovermode\":\"closest\",\"mapbox\":{\"style\":\"light\"},\"paper_bgcolor\":\"white\",\"plot_bgcolor\":\"#E5ECF6\",\"polar\":{\"angularaxis\":{\"gridcolor\":\"white\",\"linecolor\":\"white\",\"ticks\":\"\"},\"bgcolor\":\"#E5ECF6\",\"radialaxis\":{\"gridcolor\":\"white\",\"linecolor\":\"white\",\"ticks\":\"\"}},\"scene\":{\"xaxis\":{\"backgroundcolor\":\"#E5ECF6\",\"gridcolor\":\"white\",\"gridwidth\":2,\"linecolor\":\"white\",\"showbackground\":true,\"ticks\":\"\",\"zerolinecolor\":\"white\"},\"yaxis\":{\"backgroundcolor\":\"#E5ECF6\",\"gridcolor\":\"white\",\"gridwidth\":2,\"linecolor\":\"white\",\"showbackground\":true,\"ticks\":\"\",\"zerolinecolor\":\"white\"},\"zaxis\":{\"backgroundcolor\":\"#E5ECF6\",\"gridcolor\":\"white\",\"gridwidth\":2,\"linecolor\":\"white\",\"showbackground\":true,\"ticks\":\"\",\"zerolinecolor\":\"white\"}},\"shapedefaults\":{\"line\":{\"color\":\"#2a3f5f\"}},\"ternary\":{\"aaxis\":{\"gridcolor\":\"white\",\"linecolor\":\"white\",\"ticks\":\"\"},\"baxis\":{\"gridcolor\":\"white\",\"linecolor\":\"white\",\"ticks\":\"\"},\"bgcolor\":\"#E5ECF6\",\"caxis\":{\"gridcolor\":\"white\",\"linecolor\":\"white\",\"ticks\":\"\"}},\"title\":{\"x\":0.05},\"xaxis\":{\"automargin\":true,\"gridcolor\":\"white\",\"linecolor\":\"white\",\"ticks\":\"\",\"title\":{\"standoff\":15},\"zerolinecolor\":\"white\",\"zerolinewidth\":2},\"yaxis\":{\"automargin\":true,\"gridcolor\":\"white\",\"linecolor\":\"white\",\"ticks\":\"\",\"title\":{\"standoff\":15},\"zerolinecolor\":\"white\",\"zerolinewidth\":2}}},\"xaxis\":{\"anchor\":\"y\",\"domain\":[0.0,1.0],\"title\":{\"text\":\"variable\"}},\"yaxis\":{\"anchor\":\"x\",\"domain\":[0.0,1.0],\"title\":{\"text\":\"value\"}}},                        {\"responsive\": true}                    ).then(function(){\n",
       "                            \n",
       "var gd = document.getElementById('c55e08fa-3533-4008-905b-333b15512d6a');\n",
       "var x = new MutationObserver(function (mutations, observer) {{\n",
       "        var display = window.getComputedStyle(gd).display;\n",
       "        if (!display || display === 'none') {{\n",
       "            console.log([gd, 'removed!']);\n",
       "            Plotly.purge(gd);\n",
       "            observer.disconnect();\n",
       "        }}\n",
       "}});\n",
       "\n",
       "// Listen for the removal of the full notebook cells\n",
       "var notebookContainer = gd.closest('#notebook-container');\n",
       "if (notebookContainer) {{\n",
       "    x.observe(notebookContainer, {childList: true});\n",
       "}}\n",
       "\n",
       "// Listen for the clearing of the current output cell\n",
       "var outputEl = gd.closest('.output');\n",
       "if (outputEl) {{\n",
       "    x.observe(outputEl, {childList: true});\n",
       "}}\n",
       "\n",
       "                        })                };                });            </script>        </div>"
      ]
     },
     "metadata": {},
     "output_type": "display_data"
    }
   ],
   "source": [
    "px.box(df['sft'])"
   ]
  },
  {
   "cell_type": "code",
   "execution_count": 110,
   "id": "1c4aa2c4",
   "metadata": {},
   "outputs": [
    {
     "data": {
      "application/vnd.plotly.v1+json": {
       "config": {
        "plotlyServerURL": "https://plot.ly"
       },
       "data": [
        {
         "alignmentgroup": "True",
         "hovertemplate": "variable=%{x}<br>value=%{y}<extra></extra>",
         "legendgroup": "",
         "marker": {
          "color": "#636efa"
         },
         "name": "",
         "notched": false,
         "offsetgroup": "",
         "orientation": "v",
         "showlegend": false,
         "type": "box",
         "x": [
          "ins",
          "ins",
          "ins",
          "ins",
          "ins",
          "ins",
          "ins",
          "ins",
          "ins",
          "ins",
          "ins",
          "ins",
          "ins",
          "ins",
          "ins",
          "ins",
          "ins",
          "ins",
          "ins",
          "ins",
          "ins",
          "ins",
          "ins",
          "ins",
          "ins",
          "ins",
          "ins",
          "ins",
          "ins",
          "ins",
          "ins",
          "ins",
          "ins",
          "ins",
          "ins",
          "ins",
          "ins",
          "ins",
          "ins",
          "ins",
          "ins",
          "ins",
          "ins",
          "ins",
          "ins",
          "ins",
          "ins",
          "ins",
          "ins",
          "ins",
          "ins",
          "ins",
          "ins",
          "ins",
          "ins",
          "ins",
          "ins",
          "ins",
          "ins",
          "ins",
          "ins",
          "ins",
          "ins",
          "ins",
          "ins",
          "ins",
          "ins",
          "ins",
          "ins",
          "ins",
          "ins",
          "ins",
          "ins",
          "ins",
          "ins",
          "ins",
          "ins",
          "ins",
          "ins",
          "ins",
          "ins",
          "ins",
          "ins",
          "ins",
          "ins",
          "ins",
          "ins",
          "ins",
          "ins",
          "ins",
          "ins",
          "ins",
          "ins",
          "ins",
          "ins",
          "ins",
          "ins",
          "ins",
          "ins",
          "ins",
          "ins",
          "ins",
          "ins",
          "ins",
          "ins",
          "ins",
          "ins",
          "ins",
          "ins",
          "ins",
          "ins",
          "ins",
          "ins",
          "ins",
          "ins",
          "ins",
          "ins",
          "ins",
          "ins",
          "ins",
          "ins",
          "ins",
          "ins",
          "ins",
          "ins",
          "ins",
          "ins",
          "ins",
          "ins",
          "ins",
          "ins",
          "ins",
          "ins",
          "ins",
          "ins",
          "ins",
          "ins",
          "ins",
          "ins",
          "ins",
          "ins",
          "ins",
          "ins",
          "ins",
          "ins",
          "ins",
          "ins",
          "ins",
          "ins",
          "ins",
          "ins",
          "ins",
          "ins",
          "ins",
          "ins",
          "ins",
          "ins",
          "ins",
          "ins",
          "ins",
          "ins",
          "ins",
          "ins",
          "ins",
          "ins",
          "ins",
          "ins",
          "ins",
          "ins",
          "ins",
          "ins",
          "ins",
          "ins",
          "ins",
          "ins",
          "ins",
          "ins",
          "ins",
          "ins",
          "ins",
          "ins",
          "ins",
          "ins",
          "ins",
          "ins",
          "ins",
          "ins",
          "ins",
          "ins",
          "ins",
          "ins",
          "ins",
          "ins",
          "ins",
          "ins",
          "ins",
          "ins",
          "ins",
          "ins",
          "ins",
          "ins",
          "ins",
          "ins",
          "ins",
          "ins",
          "ins",
          "ins",
          "ins",
          "ins",
          "ins",
          "ins",
          "ins",
          "ins",
          "ins",
          "ins",
          "ins",
          "ins",
          "ins",
          "ins",
          "ins",
          "ins",
          "ins",
          "ins",
          "ins",
          "ins",
          "ins",
          "ins",
          "ins",
          "ins",
          "ins",
          "ins",
          "ins",
          "ins",
          "ins",
          "ins",
          "ins",
          "ins",
          "ins",
          "ins",
          "ins",
          "ins",
          "ins",
          "ins",
          "ins",
          "ins",
          "ins",
          "ins",
          "ins",
          "ins",
          "ins",
          "ins",
          "ins",
          "ins",
          "ins",
          "ins",
          "ins",
          "ins",
          "ins",
          "ins",
          "ins",
          "ins",
          "ins",
          "ins",
          "ins",
          "ins",
          "ins",
          "ins",
          "ins",
          "ins",
          "ins",
          "ins",
          "ins",
          "ins",
          "ins",
          "ins",
          "ins",
          "ins",
          "ins",
          "ins",
          "ins",
          "ins",
          "ins",
          "ins",
          "ins",
          "ins",
          "ins",
          "ins",
          "ins",
          "ins",
          "ins",
          "ins",
          "ins",
          "ins",
          "ins",
          "ins",
          "ins",
          "ins",
          "ins",
          "ins",
          "ins",
          "ins",
          "ins",
          "ins",
          "ins",
          "ins",
          "ins",
          "ins",
          "ins",
          "ins",
          "ins",
          "ins",
          "ins",
          "ins",
          "ins",
          "ins",
          "ins",
          "ins",
          "ins",
          "ins",
          "ins",
          "ins",
          "ins",
          "ins",
          "ins",
          "ins",
          "ins",
          "ins",
          "ins",
          "ins",
          "ins",
          "ins",
          "ins",
          "ins",
          "ins",
          "ins",
          "ins",
          "ins",
          "ins",
          "ins",
          "ins",
          "ins",
          "ins",
          "ins",
          "ins",
          "ins",
          "ins",
          "ins",
          "ins",
          "ins",
          "ins",
          "ins",
          "ins",
          "ins",
          "ins",
          "ins",
          "ins",
          "ins",
          "ins",
          "ins",
          "ins",
          "ins",
          "ins",
          "ins",
          "ins",
          "ins",
          "ins",
          "ins",
          "ins",
          "ins",
          "ins",
          "ins",
          "ins",
          "ins",
          "ins",
          "ins",
          "ins",
          "ins",
          "ins",
          "ins",
          "ins",
          "ins",
          "ins",
          "ins",
          "ins",
          "ins",
          "ins",
          "ins",
          "ins",
          "ins",
          "ins",
          "ins",
          "ins",
          "ins",
          "ins",
          "ins",
          "ins",
          "ins",
          "ins",
          "ins",
          "ins",
          "ins",
          "ins",
          "ins",
          "ins",
          "ins",
          "ins",
          "ins",
          "ins",
          "ins",
          "ins",
          "ins",
          "ins",
          "ins",
          "ins",
          "ins",
          "ins",
          "ins",
          "ins",
          "ins",
          "ins",
          "ins",
          "ins",
          "ins",
          "ins",
          "ins",
          "ins",
          "ins",
          "ins",
          "ins",
          "ins",
          "ins",
          "ins",
          "ins",
          "ins",
          "ins",
          "ins",
          "ins",
          "ins",
          "ins",
          "ins",
          "ins",
          "ins",
          "ins",
          "ins",
          "ins",
          "ins",
          "ins",
          "ins",
          "ins",
          "ins",
          "ins",
          "ins",
          "ins",
          "ins",
          "ins",
          "ins",
          "ins",
          "ins",
          "ins",
          "ins",
          "ins",
          "ins",
          "ins",
          "ins",
          "ins",
          "ins",
          "ins",
          "ins",
          "ins",
          "ins",
          "ins",
          "ins",
          "ins",
          "ins",
          "ins",
          "ins",
          "ins",
          "ins",
          "ins",
          "ins",
          "ins",
          "ins",
          "ins",
          "ins",
          "ins",
          "ins",
          "ins",
          "ins",
          "ins",
          "ins",
          "ins",
          "ins",
          "ins",
          "ins",
          "ins",
          "ins",
          "ins",
          "ins",
          "ins",
          "ins",
          "ins",
          "ins",
          "ins",
          "ins",
          "ins",
          "ins",
          "ins",
          "ins",
          "ins",
          "ins",
          "ins",
          "ins",
          "ins",
          "ins",
          "ins",
          "ins",
          "ins",
          "ins",
          "ins",
          "ins",
          "ins",
          "ins",
          "ins",
          "ins",
          "ins",
          "ins",
          "ins",
          "ins",
          "ins",
          "ins",
          "ins",
          "ins",
          "ins",
          "ins",
          "ins",
          "ins",
          "ins",
          "ins",
          "ins",
          "ins",
          "ins",
          "ins",
          "ins",
          "ins",
          "ins",
          "ins",
          "ins",
          "ins",
          "ins",
          "ins",
          "ins",
          "ins",
          "ins",
          "ins",
          "ins",
          "ins",
          "ins",
          "ins",
          "ins",
          "ins",
          "ins",
          "ins",
          "ins",
          "ins",
          "ins",
          "ins",
          "ins",
          "ins",
          "ins",
          "ins",
          "ins",
          "ins",
          "ins",
          "ins",
          "ins",
          "ins",
          "ins",
          "ins",
          "ins",
          "ins",
          "ins",
          "ins",
          "ins",
          "ins",
          "ins",
          "ins",
          "ins",
          "ins",
          "ins",
          "ins",
          "ins",
          "ins",
          "ins",
          "ins",
          "ins",
          "ins",
          "ins",
          "ins",
          "ins",
          "ins",
          "ins",
          "ins",
          "ins",
          "ins",
          "ins",
          "ins",
          "ins",
          "ins",
          "ins",
          "ins",
          "ins",
          "ins",
          "ins",
          "ins",
          "ins",
          "ins",
          "ins",
          "ins",
          "ins",
          "ins",
          "ins",
          "ins",
          "ins",
          "ins",
          "ins",
          "ins",
          "ins",
          "ins",
          "ins",
          "ins",
          "ins",
          "ins",
          "ins",
          "ins",
          "ins",
          "ins",
          "ins",
          "ins",
          "ins",
          "ins",
          "ins",
          "ins",
          "ins",
          "ins",
          "ins",
          "ins",
          "ins",
          "ins",
          "ins",
          "ins",
          "ins",
          "ins",
          "ins",
          "ins",
          "ins",
          "ins",
          "ins",
          "ins",
          "ins",
          "ins",
          "ins",
          "ins",
          "ins",
          "ins",
          "ins",
          "ins",
          "ins",
          "ins",
          "ins",
          "ins",
          "ins",
          "ins",
          "ins",
          "ins",
          "ins",
          "ins",
          "ins",
          "ins",
          "ins",
          "ins",
          "ins",
          "ins",
          "ins",
          "ins",
          "ins",
          "ins",
          "ins",
          "ins",
          "ins",
          "ins",
          "ins",
          "ins",
          "ins",
          "ins",
          "ins",
          "ins",
          "ins",
          "ins",
          "ins",
          "ins",
          "ins",
          "ins",
          "ins",
          "ins",
          "ins",
          "ins",
          "ins",
          "ins",
          "ins",
          "ins",
          "ins",
          "ins",
          "ins"
         ],
         "x0": " ",
         "xaxis": "x",
         "y": [
          0,
          0,
          0,
          94,
          168,
          0,
          88,
          543,
          0,
          0,
          0,
          0,
          846,
          175,
          230,
          0,
          96,
          235,
          0,
          0,
          0,
          146,
          115,
          0,
          140,
          110,
          0,
          0,
          245,
          54,
          0,
          0,
          192,
          0,
          0,
          0,
          207,
          70,
          0,
          0,
          0,
          0,
          0,
          0,
          0,
          82,
          36,
          23,
          300,
          342,
          0,
          304,
          110,
          0,
          142,
          0,
          0,
          128,
          0,
          0,
          0,
          0,
          38,
          100,
          90,
          140,
          0,
          270,
          0,
          0,
          0,
          0,
          0,
          71,
          0,
          125,
          0,
          71,
          0,
          0,
          176,
          48,
          0,
          64,
          228,
          0,
          76,
          64,
          220,
          0,
          0,
          0,
          40,
          0,
          152,
          140,
          18,
          36,
          135,
          495,
          37,
          0,
          175,
          0,
          0,
          0,
          0,
          51,
          100,
          0,
          100,
          0,
          0,
          135,
          94,
          145,
          0,
          168,
          0,
          225,
          0,
          49,
          140,
          50,
          92,
          0,
          325,
          0,
          0,
          63,
          0,
          284,
          0,
          0,
          119,
          0,
          0,
          204,
          0,
          155,
          485,
          0,
          0,
          94,
          135,
          53,
          0,
          105,
          285,
          0,
          0,
          156,
          0,
          0,
          0,
          78,
          0,
          130,
          48,
          55,
          130,
          0,
          0,
          0,
          0,
          92,
          0,
          0,
          0,
          495,
          58,
          114,
          160,
          0,
          94,
          0,
          0,
          210,
          0,
          48,
          99,
          318,
          0,
          0,
          0,
          44,
          190,
          0,
          280,
          0,
          87,
          0,
          0,
          0,
          0,
          130,
          175,
          271,
          129,
          120,
          0,
          0,
          478,
          0,
          190,
          56,
          32,
          0,
          0,
          744,
          53,
          0,
          370,
          37,
          0,
          45,
          0,
          192,
          0,
          0,
          0,
          0,
          88,
          0,
          176,
          194,
          0,
          0,
          680,
          402,
          0,
          0,
          0,
          55,
          0,
          258,
          0,
          0,
          0,
          375,
          150,
          130,
          0,
          0,
          0,
          67,
          0,
          0,
          0,
          56,
          0,
          45,
          0,
          57,
          0,
          116,
          0,
          278,
          0,
          122,
          155,
          0,
          0,
          135,
          545,
          220,
          49,
          75,
          40,
          74,
          182,
          194,
          0,
          120,
          360,
          215,
          0,
          135,
          42,
          0,
          0,
          105,
          132,
          148,
          180,
          205,
          0,
          148,
          96,
          85,
          0,
          94,
          64,
          0,
          140,
          0,
          231,
          0,
          0,
          29,
          0,
          168,
          156,
          0,
          120,
          68,
          0,
          52,
          0,
          58,
          255,
          0,
          171,
          0,
          105,
          73,
          0,
          0,
          108,
          83,
          74,
          0,
          0,
          0,
          43,
          0,
          0,
          167,
          54,
          249,
          325,
          0,
          0,
          293,
          83,
          0,
          0,
          66,
          140,
          465,
          89,
          66,
          94,
          158,
          325,
          84,
          75,
          0,
          72,
          82,
          0,
          182,
          59,
          110,
          50,
          0,
          0,
          285,
          81,
          196,
          0,
          415,
          87,
          0,
          275,
          115,
          0,
          0,
          0,
          0,
          0,
          88,
          0,
          0,
          165,
          0,
          0,
          0,
          579,
          0,
          176,
          310,
          61,
          167,
          474,
          0,
          0,
          0,
          115,
          170,
          76,
          78,
          0,
          210,
          277,
          180,
          145,
          180,
          85,
          60,
          0,
          0,
          0,
          0,
          0,
          0,
          0,
          50,
          120,
          0,
          0,
          14,
          70,
          92,
          64,
          63,
          95,
          0,
          210,
          105,
          0,
          71,
          237,
          60,
          56,
          0,
          49,
          0,
          0,
          105,
          36,
          100,
          140,
          0,
          0,
          0,
          0,
          0,
          0,
          191,
          110,
          75,
          0,
          328,
          0,
          49,
          125,
          250,
          480,
          265,
          0,
          0,
          66,
          0,
          0,
          122,
          0,
          0,
          76,
          145,
          193,
          71,
          0,
          79,
          0,
          0,
          90,
          170,
          76,
          0,
          0,
          210,
          0,
          0,
          86,
          105,
          165,
          0,
          0,
          326,
          66,
          130,
          0,
          0,
          0,
          82,
          105,
          188,
          0,
          106,
          0,
          65,
          56,
          0,
          0,
          210,
          155,
          215,
          190,
          0,
          56,
          76,
          225,
          207,
          166,
          67,
          0,
          106,
          0,
          44,
          115,
          215,
          0,
          0,
          0,
          0,
          0,
          274,
          77,
          54,
          0,
          88,
          18,
          126,
          126,
          165,
          0,
          0,
          44,
          120,
          330,
          63,
          130,
          0,
          0,
          0,
          0,
          0,
          0,
          600,
          0,
          0,
          0,
          156,
          0,
          140,
          0,
          115,
          230,
          185,
          0,
          0,
          120,
          0,
          0,
          126,
          0,
          293,
          41,
          272,
          182,
          158,
          194,
          321,
          0,
          144,
          0,
          0,
          15,
          0,
          160,
          0,
          0,
          115,
          0,
          54,
          0,
          0,
          0,
          0,
          0,
          90,
          0,
          183,
          0,
          0,
          0,
          66,
          91,
          46,
          105,
          0,
          0,
          152,
          440,
          144,
          159,
          130,
          0,
          100,
          106,
          77,
          0,
          135,
          540,
          90,
          200,
          0,
          70,
          0,
          0,
          231,
          130,
          0,
          132,
          0,
          0,
          190,
          100,
          168,
          0,
          49,
          240,
          0,
          0,
          0,
          0,
          0,
          265,
          45,
          0,
          105,
          0,
          0,
          205,
          0,
          0,
          180,
          180,
          0,
          95,
          125,
          0,
          480,
          125,
          155,
          0,
          200,
          0,
          0,
          100,
          0,
          335,
          0,
          160,
          387,
          22,
          0,
          291,
          0,
          392,
          185,
          0,
          178,
          0,
          0,
          200,
          127,
          105,
          0,
          0,
          180,
          0,
          0,
          0,
          79,
          0,
          120,
          165,
          0,
          0,
          120,
          0,
          160,
          0,
          150,
          94,
          116,
          0,
          140,
          105,
          0,
          57,
          200,
          0,
          0,
          74,
          0,
          510,
          0,
          110,
          0,
          0,
          0,
          0,
          16,
          0,
          0,
          180,
          0,
          112,
          0,
          0
         ],
         "y0": " ",
         "yaxis": "y"
        }
       ],
       "layout": {
        "boxmode": "group",
        "legend": {
         "tracegroupgap": 0
        },
        "margin": {
         "t": 60
        },
        "template": {
         "data": {
          "bar": [
           {
            "error_x": {
             "color": "#2a3f5f"
            },
            "error_y": {
             "color": "#2a3f5f"
            },
            "marker": {
             "line": {
              "color": "#E5ECF6",
              "width": 0.5
             },
             "pattern": {
              "fillmode": "overlay",
              "size": 10,
              "solidity": 0.2
             }
            },
            "type": "bar"
           }
          ],
          "barpolar": [
           {
            "marker": {
             "line": {
              "color": "#E5ECF6",
              "width": 0.5
             },
             "pattern": {
              "fillmode": "overlay",
              "size": 10,
              "solidity": 0.2
             }
            },
            "type": "barpolar"
           }
          ],
          "carpet": [
           {
            "aaxis": {
             "endlinecolor": "#2a3f5f",
             "gridcolor": "white",
             "linecolor": "white",
             "minorgridcolor": "white",
             "startlinecolor": "#2a3f5f"
            },
            "baxis": {
             "endlinecolor": "#2a3f5f",
             "gridcolor": "white",
             "linecolor": "white",
             "minorgridcolor": "white",
             "startlinecolor": "#2a3f5f"
            },
            "type": "carpet"
           }
          ],
          "choropleth": [
           {
            "colorbar": {
             "outlinewidth": 0,
             "ticks": ""
            },
            "type": "choropleth"
           }
          ],
          "contour": [
           {
            "colorbar": {
             "outlinewidth": 0,
             "ticks": ""
            },
            "colorscale": [
             [
              0,
              "#0d0887"
             ],
             [
              0.1111111111111111,
              "#46039f"
             ],
             [
              0.2222222222222222,
              "#7201a8"
             ],
             [
              0.3333333333333333,
              "#9c179e"
             ],
             [
              0.4444444444444444,
              "#bd3786"
             ],
             [
              0.5555555555555556,
              "#d8576b"
             ],
             [
              0.6666666666666666,
              "#ed7953"
             ],
             [
              0.7777777777777778,
              "#fb9f3a"
             ],
             [
              0.8888888888888888,
              "#fdca26"
             ],
             [
              1,
              "#f0f921"
             ]
            ],
            "type": "contour"
           }
          ],
          "contourcarpet": [
           {
            "colorbar": {
             "outlinewidth": 0,
             "ticks": ""
            },
            "type": "contourcarpet"
           }
          ],
          "heatmap": [
           {
            "colorbar": {
             "outlinewidth": 0,
             "ticks": ""
            },
            "colorscale": [
             [
              0,
              "#0d0887"
             ],
             [
              0.1111111111111111,
              "#46039f"
             ],
             [
              0.2222222222222222,
              "#7201a8"
             ],
             [
              0.3333333333333333,
              "#9c179e"
             ],
             [
              0.4444444444444444,
              "#bd3786"
             ],
             [
              0.5555555555555556,
              "#d8576b"
             ],
             [
              0.6666666666666666,
              "#ed7953"
             ],
             [
              0.7777777777777778,
              "#fb9f3a"
             ],
             [
              0.8888888888888888,
              "#fdca26"
             ],
             [
              1,
              "#f0f921"
             ]
            ],
            "type": "heatmap"
           }
          ],
          "heatmapgl": [
           {
            "colorbar": {
             "outlinewidth": 0,
             "ticks": ""
            },
            "colorscale": [
             [
              0,
              "#0d0887"
             ],
             [
              0.1111111111111111,
              "#46039f"
             ],
             [
              0.2222222222222222,
              "#7201a8"
             ],
             [
              0.3333333333333333,
              "#9c179e"
             ],
             [
              0.4444444444444444,
              "#bd3786"
             ],
             [
              0.5555555555555556,
              "#d8576b"
             ],
             [
              0.6666666666666666,
              "#ed7953"
             ],
             [
              0.7777777777777778,
              "#fb9f3a"
             ],
             [
              0.8888888888888888,
              "#fdca26"
             ],
             [
              1,
              "#f0f921"
             ]
            ],
            "type": "heatmapgl"
           }
          ],
          "histogram": [
           {
            "marker": {
             "pattern": {
              "fillmode": "overlay",
              "size": 10,
              "solidity": 0.2
             }
            },
            "type": "histogram"
           }
          ],
          "histogram2d": [
           {
            "colorbar": {
             "outlinewidth": 0,
             "ticks": ""
            },
            "colorscale": [
             [
              0,
              "#0d0887"
             ],
             [
              0.1111111111111111,
              "#46039f"
             ],
             [
              0.2222222222222222,
              "#7201a8"
             ],
             [
              0.3333333333333333,
              "#9c179e"
             ],
             [
              0.4444444444444444,
              "#bd3786"
             ],
             [
              0.5555555555555556,
              "#d8576b"
             ],
             [
              0.6666666666666666,
              "#ed7953"
             ],
             [
              0.7777777777777778,
              "#fb9f3a"
             ],
             [
              0.8888888888888888,
              "#fdca26"
             ],
             [
              1,
              "#f0f921"
             ]
            ],
            "type": "histogram2d"
           }
          ],
          "histogram2dcontour": [
           {
            "colorbar": {
             "outlinewidth": 0,
             "ticks": ""
            },
            "colorscale": [
             [
              0,
              "#0d0887"
             ],
             [
              0.1111111111111111,
              "#46039f"
             ],
             [
              0.2222222222222222,
              "#7201a8"
             ],
             [
              0.3333333333333333,
              "#9c179e"
             ],
             [
              0.4444444444444444,
              "#bd3786"
             ],
             [
              0.5555555555555556,
              "#d8576b"
             ],
             [
              0.6666666666666666,
              "#ed7953"
             ],
             [
              0.7777777777777778,
              "#fb9f3a"
             ],
             [
              0.8888888888888888,
              "#fdca26"
             ],
             [
              1,
              "#f0f921"
             ]
            ],
            "type": "histogram2dcontour"
           }
          ],
          "mesh3d": [
           {
            "colorbar": {
             "outlinewidth": 0,
             "ticks": ""
            },
            "type": "mesh3d"
           }
          ],
          "parcoords": [
           {
            "line": {
             "colorbar": {
              "outlinewidth": 0,
              "ticks": ""
             }
            },
            "type": "parcoords"
           }
          ],
          "pie": [
           {
            "automargin": true,
            "type": "pie"
           }
          ],
          "scatter": [
           {
            "marker": {
             "colorbar": {
              "outlinewidth": 0,
              "ticks": ""
             }
            },
            "type": "scatter"
           }
          ],
          "scatter3d": [
           {
            "line": {
             "colorbar": {
              "outlinewidth": 0,
              "ticks": ""
             }
            },
            "marker": {
             "colorbar": {
              "outlinewidth": 0,
              "ticks": ""
             }
            },
            "type": "scatter3d"
           }
          ],
          "scattercarpet": [
           {
            "marker": {
             "colorbar": {
              "outlinewidth": 0,
              "ticks": ""
             }
            },
            "type": "scattercarpet"
           }
          ],
          "scattergeo": [
           {
            "marker": {
             "colorbar": {
              "outlinewidth": 0,
              "ticks": ""
             }
            },
            "type": "scattergeo"
           }
          ],
          "scattergl": [
           {
            "marker": {
             "colorbar": {
              "outlinewidth": 0,
              "ticks": ""
             }
            },
            "type": "scattergl"
           }
          ],
          "scattermapbox": [
           {
            "marker": {
             "colorbar": {
              "outlinewidth": 0,
              "ticks": ""
             }
            },
            "type": "scattermapbox"
           }
          ],
          "scatterpolar": [
           {
            "marker": {
             "colorbar": {
              "outlinewidth": 0,
              "ticks": ""
             }
            },
            "type": "scatterpolar"
           }
          ],
          "scatterpolargl": [
           {
            "marker": {
             "colorbar": {
              "outlinewidth": 0,
              "ticks": ""
             }
            },
            "type": "scatterpolargl"
           }
          ],
          "scatterternary": [
           {
            "marker": {
             "colorbar": {
              "outlinewidth": 0,
              "ticks": ""
             }
            },
            "type": "scatterternary"
           }
          ],
          "surface": [
           {
            "colorbar": {
             "outlinewidth": 0,
             "ticks": ""
            },
            "colorscale": [
             [
              0,
              "#0d0887"
             ],
             [
              0.1111111111111111,
              "#46039f"
             ],
             [
              0.2222222222222222,
              "#7201a8"
             ],
             [
              0.3333333333333333,
              "#9c179e"
             ],
             [
              0.4444444444444444,
              "#bd3786"
             ],
             [
              0.5555555555555556,
              "#d8576b"
             ],
             [
              0.6666666666666666,
              "#ed7953"
             ],
             [
              0.7777777777777778,
              "#fb9f3a"
             ],
             [
              0.8888888888888888,
              "#fdca26"
             ],
             [
              1,
              "#f0f921"
             ]
            ],
            "type": "surface"
           }
          ],
          "table": [
           {
            "cells": {
             "fill": {
              "color": "#EBF0F8"
             },
             "line": {
              "color": "white"
             }
            },
            "header": {
             "fill": {
              "color": "#C8D4E3"
             },
             "line": {
              "color": "white"
             }
            },
            "type": "table"
           }
          ]
         },
         "layout": {
          "annotationdefaults": {
           "arrowcolor": "#2a3f5f",
           "arrowhead": 0,
           "arrowwidth": 1
          },
          "autotypenumbers": "strict",
          "coloraxis": {
           "colorbar": {
            "outlinewidth": 0,
            "ticks": ""
           }
          },
          "colorscale": {
           "diverging": [
            [
             0,
             "#8e0152"
            ],
            [
             0.1,
             "#c51b7d"
            ],
            [
             0.2,
             "#de77ae"
            ],
            [
             0.3,
             "#f1b6da"
            ],
            [
             0.4,
             "#fde0ef"
            ],
            [
             0.5,
             "#f7f7f7"
            ],
            [
             0.6,
             "#e6f5d0"
            ],
            [
             0.7,
             "#b8e186"
            ],
            [
             0.8,
             "#7fbc41"
            ],
            [
             0.9,
             "#4d9221"
            ],
            [
             1,
             "#276419"
            ]
           ],
           "sequential": [
            [
             0,
             "#0d0887"
            ],
            [
             0.1111111111111111,
             "#46039f"
            ],
            [
             0.2222222222222222,
             "#7201a8"
            ],
            [
             0.3333333333333333,
             "#9c179e"
            ],
            [
             0.4444444444444444,
             "#bd3786"
            ],
            [
             0.5555555555555556,
             "#d8576b"
            ],
            [
             0.6666666666666666,
             "#ed7953"
            ],
            [
             0.7777777777777778,
             "#fb9f3a"
            ],
            [
             0.8888888888888888,
             "#fdca26"
            ],
            [
             1,
             "#f0f921"
            ]
           ],
           "sequentialminus": [
            [
             0,
             "#0d0887"
            ],
            [
             0.1111111111111111,
             "#46039f"
            ],
            [
             0.2222222222222222,
             "#7201a8"
            ],
            [
             0.3333333333333333,
             "#9c179e"
            ],
            [
             0.4444444444444444,
             "#bd3786"
            ],
            [
             0.5555555555555556,
             "#d8576b"
            ],
            [
             0.6666666666666666,
             "#ed7953"
            ],
            [
             0.7777777777777778,
             "#fb9f3a"
            ],
            [
             0.8888888888888888,
             "#fdca26"
            ],
            [
             1,
             "#f0f921"
            ]
           ]
          },
          "colorway": [
           "#636efa",
           "#EF553B",
           "#00cc96",
           "#ab63fa",
           "#FFA15A",
           "#19d3f3",
           "#FF6692",
           "#B6E880",
           "#FF97FF",
           "#FECB52"
          ],
          "font": {
           "color": "#2a3f5f"
          },
          "geo": {
           "bgcolor": "white",
           "lakecolor": "white",
           "landcolor": "#E5ECF6",
           "showlakes": true,
           "showland": true,
           "subunitcolor": "white"
          },
          "hoverlabel": {
           "align": "left"
          },
          "hovermode": "closest",
          "mapbox": {
           "style": "light"
          },
          "paper_bgcolor": "white",
          "plot_bgcolor": "#E5ECF6",
          "polar": {
           "angularaxis": {
            "gridcolor": "white",
            "linecolor": "white",
            "ticks": ""
           },
           "bgcolor": "#E5ECF6",
           "radialaxis": {
            "gridcolor": "white",
            "linecolor": "white",
            "ticks": ""
           }
          },
          "scene": {
           "xaxis": {
            "backgroundcolor": "#E5ECF6",
            "gridcolor": "white",
            "gridwidth": 2,
            "linecolor": "white",
            "showbackground": true,
            "ticks": "",
            "zerolinecolor": "white"
           },
           "yaxis": {
            "backgroundcolor": "#E5ECF6",
            "gridcolor": "white",
            "gridwidth": 2,
            "linecolor": "white",
            "showbackground": true,
            "ticks": "",
            "zerolinecolor": "white"
           },
           "zaxis": {
            "backgroundcolor": "#E5ECF6",
            "gridcolor": "white",
            "gridwidth": 2,
            "linecolor": "white",
            "showbackground": true,
            "ticks": "",
            "zerolinecolor": "white"
           }
          },
          "shapedefaults": {
           "line": {
            "color": "#2a3f5f"
           }
          },
          "ternary": {
           "aaxis": {
            "gridcolor": "white",
            "linecolor": "white",
            "ticks": ""
           },
           "baxis": {
            "gridcolor": "white",
            "linecolor": "white",
            "ticks": ""
           },
           "bgcolor": "#E5ECF6",
           "caxis": {
            "gridcolor": "white",
            "linecolor": "white",
            "ticks": ""
           }
          },
          "title": {
           "x": 0.05
          },
          "xaxis": {
           "automargin": true,
           "gridcolor": "white",
           "linecolor": "white",
           "ticks": "",
           "title": {
            "standoff": 15
           },
           "zerolinecolor": "white",
           "zerolinewidth": 2
          },
          "yaxis": {
           "automargin": true,
           "gridcolor": "white",
           "linecolor": "white",
           "ticks": "",
           "title": {
            "standoff": 15
           },
           "zerolinecolor": "white",
           "zerolinewidth": 2
          }
         }
        },
        "xaxis": {
         "anchor": "y",
         "domain": [
          0,
          1
         ],
         "title": {
          "text": "variable"
         }
        },
        "yaxis": {
         "anchor": "x",
         "domain": [
          0,
          1
         ],
         "title": {
          "text": "value"
         }
        }
       }
      },
      "text/html": [
       "<div>                            <div id=\"6e68eab0-55fb-48ab-8d02-0d7290f035df\" class=\"plotly-graph-div\" style=\"height:525px; width:100%;\"></div>            <script type=\"text/javascript\">                require([\"plotly\"], function(Plotly) {                    window.PLOTLYENV=window.PLOTLYENV || {};                                    if (document.getElementById(\"6e68eab0-55fb-48ab-8d02-0d7290f035df\")) {                    Plotly.newPlot(                        \"6e68eab0-55fb-48ab-8d02-0d7290f035df\",                        [{\"alignmentgroup\":\"True\",\"hovertemplate\":\"variable=%{x}<br>value=%{y}<extra></extra>\",\"legendgroup\":\"\",\"marker\":{\"color\":\"#636efa\"},\"name\":\"\",\"notched\":false,\"offsetgroup\":\"\",\"orientation\":\"v\",\"showlegend\":false,\"type\":\"box\",\"x\":[\"ins\",\"ins\",\"ins\",\"ins\",\"ins\",\"ins\",\"ins\",\"ins\",\"ins\",\"ins\",\"ins\",\"ins\",\"ins\",\"ins\",\"ins\",\"ins\",\"ins\",\"ins\",\"ins\",\"ins\",\"ins\",\"ins\",\"ins\",\"ins\",\"ins\",\"ins\",\"ins\",\"ins\",\"ins\",\"ins\",\"ins\",\"ins\",\"ins\",\"ins\",\"ins\",\"ins\",\"ins\",\"ins\",\"ins\",\"ins\",\"ins\",\"ins\",\"ins\",\"ins\",\"ins\",\"ins\",\"ins\",\"ins\",\"ins\",\"ins\",\"ins\",\"ins\",\"ins\",\"ins\",\"ins\",\"ins\",\"ins\",\"ins\",\"ins\",\"ins\",\"ins\",\"ins\",\"ins\",\"ins\",\"ins\",\"ins\",\"ins\",\"ins\",\"ins\",\"ins\",\"ins\",\"ins\",\"ins\",\"ins\",\"ins\",\"ins\",\"ins\",\"ins\",\"ins\",\"ins\",\"ins\",\"ins\",\"ins\",\"ins\",\"ins\",\"ins\",\"ins\",\"ins\",\"ins\",\"ins\",\"ins\",\"ins\",\"ins\",\"ins\",\"ins\",\"ins\",\"ins\",\"ins\",\"ins\",\"ins\",\"ins\",\"ins\",\"ins\",\"ins\",\"ins\",\"ins\",\"ins\",\"ins\",\"ins\",\"ins\",\"ins\",\"ins\",\"ins\",\"ins\",\"ins\",\"ins\",\"ins\",\"ins\",\"ins\",\"ins\",\"ins\",\"ins\",\"ins\",\"ins\",\"ins\",\"ins\",\"ins\",\"ins\",\"ins\",\"ins\",\"ins\",\"ins\",\"ins\",\"ins\",\"ins\",\"ins\",\"ins\",\"ins\",\"ins\",\"ins\",\"ins\",\"ins\",\"ins\",\"ins\",\"ins\",\"ins\",\"ins\",\"ins\",\"ins\",\"ins\",\"ins\",\"ins\",\"ins\",\"ins\",\"ins\",\"ins\",\"ins\",\"ins\",\"ins\",\"ins\",\"ins\",\"ins\",\"ins\",\"ins\",\"ins\",\"ins\",\"ins\",\"ins\",\"ins\",\"ins\",\"ins\",\"ins\",\"ins\",\"ins\",\"ins\",\"ins\",\"ins\",\"ins\",\"ins\",\"ins\",\"ins\",\"ins\",\"ins\",\"ins\",\"ins\",\"ins\",\"ins\",\"ins\",\"ins\",\"ins\",\"ins\",\"ins\",\"ins\",\"ins\",\"ins\",\"ins\",\"ins\",\"ins\",\"ins\",\"ins\",\"ins\",\"ins\",\"ins\",\"ins\",\"ins\",\"ins\",\"ins\",\"ins\",\"ins\",\"ins\",\"ins\",\"ins\",\"ins\",\"ins\",\"ins\",\"ins\",\"ins\",\"ins\",\"ins\",\"ins\",\"ins\",\"ins\",\"ins\",\"ins\",\"ins\",\"ins\",\"ins\",\"ins\",\"ins\",\"ins\",\"ins\",\"ins\",\"ins\",\"ins\",\"ins\",\"ins\",\"ins\",\"ins\",\"ins\",\"ins\",\"ins\",\"ins\",\"ins\",\"ins\",\"ins\",\"ins\",\"ins\",\"ins\",\"ins\",\"ins\",\"ins\",\"ins\",\"ins\",\"ins\",\"ins\",\"ins\",\"ins\",\"ins\",\"ins\",\"ins\",\"ins\",\"ins\",\"ins\",\"ins\",\"ins\",\"ins\",\"ins\",\"ins\",\"ins\",\"ins\",\"ins\",\"ins\",\"ins\",\"ins\",\"ins\",\"ins\",\"ins\",\"ins\",\"ins\",\"ins\",\"ins\",\"ins\",\"ins\",\"ins\",\"ins\",\"ins\",\"ins\",\"ins\",\"ins\",\"ins\",\"ins\",\"ins\",\"ins\",\"ins\",\"ins\",\"ins\",\"ins\",\"ins\",\"ins\",\"ins\",\"ins\",\"ins\",\"ins\",\"ins\",\"ins\",\"ins\",\"ins\",\"ins\",\"ins\",\"ins\",\"ins\",\"ins\",\"ins\",\"ins\",\"ins\",\"ins\",\"ins\",\"ins\",\"ins\",\"ins\",\"ins\",\"ins\",\"ins\",\"ins\",\"ins\",\"ins\",\"ins\",\"ins\",\"ins\",\"ins\",\"ins\",\"ins\",\"ins\",\"ins\",\"ins\",\"ins\",\"ins\",\"ins\",\"ins\",\"ins\",\"ins\",\"ins\",\"ins\",\"ins\",\"ins\",\"ins\",\"ins\",\"ins\",\"ins\",\"ins\",\"ins\",\"ins\",\"ins\",\"ins\",\"ins\",\"ins\",\"ins\",\"ins\",\"ins\",\"ins\",\"ins\",\"ins\",\"ins\",\"ins\",\"ins\",\"ins\",\"ins\",\"ins\",\"ins\",\"ins\",\"ins\",\"ins\",\"ins\",\"ins\",\"ins\",\"ins\",\"ins\",\"ins\",\"ins\",\"ins\",\"ins\",\"ins\",\"ins\",\"ins\",\"ins\",\"ins\",\"ins\",\"ins\",\"ins\",\"ins\",\"ins\",\"ins\",\"ins\",\"ins\",\"ins\",\"ins\",\"ins\",\"ins\",\"ins\",\"ins\",\"ins\",\"ins\",\"ins\",\"ins\",\"ins\",\"ins\",\"ins\",\"ins\",\"ins\",\"ins\",\"ins\",\"ins\",\"ins\",\"ins\",\"ins\",\"ins\",\"ins\",\"ins\",\"ins\",\"ins\",\"ins\",\"ins\",\"ins\",\"ins\",\"ins\",\"ins\",\"ins\",\"ins\",\"ins\",\"ins\",\"ins\",\"ins\",\"ins\",\"ins\",\"ins\",\"ins\",\"ins\",\"ins\",\"ins\",\"ins\",\"ins\",\"ins\",\"ins\",\"ins\",\"ins\",\"ins\",\"ins\",\"ins\",\"ins\",\"ins\",\"ins\",\"ins\",\"ins\",\"ins\",\"ins\",\"ins\",\"ins\",\"ins\",\"ins\",\"ins\",\"ins\",\"ins\",\"ins\",\"ins\",\"ins\",\"ins\",\"ins\",\"ins\",\"ins\",\"ins\",\"ins\",\"ins\",\"ins\",\"ins\",\"ins\",\"ins\",\"ins\",\"ins\",\"ins\",\"ins\",\"ins\",\"ins\",\"ins\",\"ins\",\"ins\",\"ins\",\"ins\",\"ins\",\"ins\",\"ins\",\"ins\",\"ins\",\"ins\",\"ins\",\"ins\",\"ins\",\"ins\",\"ins\",\"ins\",\"ins\",\"ins\",\"ins\",\"ins\",\"ins\",\"ins\",\"ins\",\"ins\",\"ins\",\"ins\",\"ins\",\"ins\",\"ins\",\"ins\",\"ins\",\"ins\",\"ins\",\"ins\",\"ins\",\"ins\",\"ins\",\"ins\",\"ins\",\"ins\",\"ins\",\"ins\",\"ins\",\"ins\",\"ins\",\"ins\",\"ins\",\"ins\",\"ins\",\"ins\",\"ins\",\"ins\",\"ins\",\"ins\",\"ins\",\"ins\",\"ins\",\"ins\",\"ins\",\"ins\",\"ins\",\"ins\",\"ins\",\"ins\",\"ins\",\"ins\",\"ins\",\"ins\",\"ins\",\"ins\",\"ins\",\"ins\",\"ins\",\"ins\",\"ins\",\"ins\",\"ins\",\"ins\",\"ins\",\"ins\",\"ins\",\"ins\",\"ins\",\"ins\",\"ins\",\"ins\",\"ins\",\"ins\",\"ins\",\"ins\",\"ins\",\"ins\",\"ins\",\"ins\",\"ins\",\"ins\",\"ins\",\"ins\",\"ins\",\"ins\",\"ins\",\"ins\",\"ins\",\"ins\",\"ins\",\"ins\",\"ins\",\"ins\",\"ins\",\"ins\",\"ins\",\"ins\",\"ins\",\"ins\",\"ins\",\"ins\",\"ins\",\"ins\",\"ins\",\"ins\",\"ins\",\"ins\",\"ins\",\"ins\",\"ins\",\"ins\",\"ins\",\"ins\",\"ins\",\"ins\",\"ins\",\"ins\",\"ins\",\"ins\",\"ins\",\"ins\",\"ins\",\"ins\",\"ins\",\"ins\",\"ins\",\"ins\",\"ins\",\"ins\",\"ins\",\"ins\",\"ins\",\"ins\",\"ins\",\"ins\",\"ins\",\"ins\",\"ins\",\"ins\",\"ins\",\"ins\",\"ins\",\"ins\",\"ins\",\"ins\",\"ins\",\"ins\",\"ins\",\"ins\",\"ins\",\"ins\",\"ins\",\"ins\",\"ins\",\"ins\",\"ins\",\"ins\",\"ins\",\"ins\",\"ins\",\"ins\",\"ins\",\"ins\",\"ins\",\"ins\",\"ins\",\"ins\",\"ins\",\"ins\",\"ins\",\"ins\",\"ins\",\"ins\",\"ins\",\"ins\",\"ins\",\"ins\",\"ins\",\"ins\",\"ins\",\"ins\",\"ins\",\"ins\",\"ins\",\"ins\",\"ins\",\"ins\",\"ins\",\"ins\",\"ins\",\"ins\",\"ins\",\"ins\",\"ins\",\"ins\",\"ins\",\"ins\",\"ins\",\"ins\",\"ins\",\"ins\",\"ins\",\"ins\",\"ins\",\"ins\",\"ins\",\"ins\",\"ins\",\"ins\",\"ins\",\"ins\",\"ins\",\"ins\",\"ins\",\"ins\"],\"x0\":\" \",\"xaxis\":\"x\",\"y\":[0,0,0,94,168,0,88,543,0,0,0,0,846,175,230,0,96,235,0,0,0,146,115,0,140,110,0,0,245,54,0,0,192,0,0,0,207,70,0,0,0,0,0,0,0,82,36,23,300,342,0,304,110,0,142,0,0,128,0,0,0,0,38,100,90,140,0,270,0,0,0,0,0,71,0,125,0,71,0,0,176,48,0,64,228,0,76,64,220,0,0,0,40,0,152,140,18,36,135,495,37,0,175,0,0,0,0,51,100,0,100,0,0,135,94,145,0,168,0,225,0,49,140,50,92,0,325,0,0,63,0,284,0,0,119,0,0,204,0,155,485,0,0,94,135,53,0,105,285,0,0,156,0,0,0,78,0,130,48,55,130,0,0,0,0,92,0,0,0,495,58,114,160,0,94,0,0,210,0,48,99,318,0,0,0,44,190,0,280,0,87,0,0,0,0,130,175,271,129,120,0,0,478,0,190,56,32,0,0,744,53,0,370,37,0,45,0,192,0,0,0,0,88,0,176,194,0,0,680,402,0,0,0,55,0,258,0,0,0,375,150,130,0,0,0,67,0,0,0,56,0,45,0,57,0,116,0,278,0,122,155,0,0,135,545,220,49,75,40,74,182,194,0,120,360,215,0,135,42,0,0,105,132,148,180,205,0,148,96,85,0,94,64,0,140,0,231,0,0,29,0,168,156,0,120,68,0,52,0,58,255,0,171,0,105,73,0,0,108,83,74,0,0,0,43,0,0,167,54,249,325,0,0,293,83,0,0,66,140,465,89,66,94,158,325,84,75,0,72,82,0,182,59,110,50,0,0,285,81,196,0,415,87,0,275,115,0,0,0,0,0,88,0,0,165,0,0,0,579,0,176,310,61,167,474,0,0,0,115,170,76,78,0,210,277,180,145,180,85,60,0,0,0,0,0,0,0,50,120,0,0,14,70,92,64,63,95,0,210,105,0,71,237,60,56,0,49,0,0,105,36,100,140,0,0,0,0,0,0,191,110,75,0,328,0,49,125,250,480,265,0,0,66,0,0,122,0,0,76,145,193,71,0,79,0,0,90,170,76,0,0,210,0,0,86,105,165,0,0,326,66,130,0,0,0,82,105,188,0,106,0,65,56,0,0,210,155,215,190,0,56,76,225,207,166,67,0,106,0,44,115,215,0,0,0,0,0,274,77,54,0,88,18,126,126,165,0,0,44,120,330,63,130,0,0,0,0,0,0,600,0,0,0,156,0,140,0,115,230,185,0,0,120,0,0,126,0,293,41,272,182,158,194,321,0,144,0,0,15,0,160,0,0,115,0,54,0,0,0,0,0,90,0,183,0,0,0,66,91,46,105,0,0,152,440,144,159,130,0,100,106,77,0,135,540,90,200,0,70,0,0,231,130,0,132,0,0,190,100,168,0,49,240,0,0,0,0,0,265,45,0,105,0,0,205,0,0,180,180,0,95,125,0,480,125,155,0,200,0,0,100,0,335,0,160,387,22,0,291,0,392,185,0,178,0,0,200,127,105,0,0,180,0,0,0,79,0,120,165,0,0,120,0,160,0,150,94,116,0,140,105,0,57,200,0,0,74,0,510,0,110,0,0,0,0,16,0,0,180,0,112,0,0],\"y0\":\" \",\"yaxis\":\"y\"}],                        {\"boxmode\":\"group\",\"legend\":{\"tracegroupgap\":0},\"margin\":{\"t\":60},\"template\":{\"data\":{\"bar\":[{\"error_x\":{\"color\":\"#2a3f5f\"},\"error_y\":{\"color\":\"#2a3f5f\"},\"marker\":{\"line\":{\"color\":\"#E5ECF6\",\"width\":0.5},\"pattern\":{\"fillmode\":\"overlay\",\"size\":10,\"solidity\":0.2}},\"type\":\"bar\"}],\"barpolar\":[{\"marker\":{\"line\":{\"color\":\"#E5ECF6\",\"width\":0.5},\"pattern\":{\"fillmode\":\"overlay\",\"size\":10,\"solidity\":0.2}},\"type\":\"barpolar\"}],\"carpet\":[{\"aaxis\":{\"endlinecolor\":\"#2a3f5f\",\"gridcolor\":\"white\",\"linecolor\":\"white\",\"minorgridcolor\":\"white\",\"startlinecolor\":\"#2a3f5f\"},\"baxis\":{\"endlinecolor\":\"#2a3f5f\",\"gridcolor\":\"white\",\"linecolor\":\"white\",\"minorgridcolor\":\"white\",\"startlinecolor\":\"#2a3f5f\"},\"type\":\"carpet\"}],\"choropleth\":[{\"colorbar\":{\"outlinewidth\":0,\"ticks\":\"\"},\"type\":\"choropleth\"}],\"contour\":[{\"colorbar\":{\"outlinewidth\":0,\"ticks\":\"\"},\"colorscale\":[[0.0,\"#0d0887\"],[0.1111111111111111,\"#46039f\"],[0.2222222222222222,\"#7201a8\"],[0.3333333333333333,\"#9c179e\"],[0.4444444444444444,\"#bd3786\"],[0.5555555555555556,\"#d8576b\"],[0.6666666666666666,\"#ed7953\"],[0.7777777777777778,\"#fb9f3a\"],[0.8888888888888888,\"#fdca26\"],[1.0,\"#f0f921\"]],\"type\":\"contour\"}],\"contourcarpet\":[{\"colorbar\":{\"outlinewidth\":0,\"ticks\":\"\"},\"type\":\"contourcarpet\"}],\"heatmap\":[{\"colorbar\":{\"outlinewidth\":0,\"ticks\":\"\"},\"colorscale\":[[0.0,\"#0d0887\"],[0.1111111111111111,\"#46039f\"],[0.2222222222222222,\"#7201a8\"],[0.3333333333333333,\"#9c179e\"],[0.4444444444444444,\"#bd3786\"],[0.5555555555555556,\"#d8576b\"],[0.6666666666666666,\"#ed7953\"],[0.7777777777777778,\"#fb9f3a\"],[0.8888888888888888,\"#fdca26\"],[1.0,\"#f0f921\"]],\"type\":\"heatmap\"}],\"heatmapgl\":[{\"colorbar\":{\"outlinewidth\":0,\"ticks\":\"\"},\"colorscale\":[[0.0,\"#0d0887\"],[0.1111111111111111,\"#46039f\"],[0.2222222222222222,\"#7201a8\"],[0.3333333333333333,\"#9c179e\"],[0.4444444444444444,\"#bd3786\"],[0.5555555555555556,\"#d8576b\"],[0.6666666666666666,\"#ed7953\"],[0.7777777777777778,\"#fb9f3a\"],[0.8888888888888888,\"#fdca26\"],[1.0,\"#f0f921\"]],\"type\":\"heatmapgl\"}],\"histogram\":[{\"marker\":{\"pattern\":{\"fillmode\":\"overlay\",\"size\":10,\"solidity\":0.2}},\"type\":\"histogram\"}],\"histogram2d\":[{\"colorbar\":{\"outlinewidth\":0,\"ticks\":\"\"},\"colorscale\":[[0.0,\"#0d0887\"],[0.1111111111111111,\"#46039f\"],[0.2222222222222222,\"#7201a8\"],[0.3333333333333333,\"#9c179e\"],[0.4444444444444444,\"#bd3786\"],[0.5555555555555556,\"#d8576b\"],[0.6666666666666666,\"#ed7953\"],[0.7777777777777778,\"#fb9f3a\"],[0.8888888888888888,\"#fdca26\"],[1.0,\"#f0f921\"]],\"type\":\"histogram2d\"}],\"histogram2dcontour\":[{\"colorbar\":{\"outlinewidth\":0,\"ticks\":\"\"},\"colorscale\":[[0.0,\"#0d0887\"],[0.1111111111111111,\"#46039f\"],[0.2222222222222222,\"#7201a8\"],[0.3333333333333333,\"#9c179e\"],[0.4444444444444444,\"#bd3786\"],[0.5555555555555556,\"#d8576b\"],[0.6666666666666666,\"#ed7953\"],[0.7777777777777778,\"#fb9f3a\"],[0.8888888888888888,\"#fdca26\"],[1.0,\"#f0f921\"]],\"type\":\"histogram2dcontour\"}],\"mesh3d\":[{\"colorbar\":{\"outlinewidth\":0,\"ticks\":\"\"},\"type\":\"mesh3d\"}],\"parcoords\":[{\"line\":{\"colorbar\":{\"outlinewidth\":0,\"ticks\":\"\"}},\"type\":\"parcoords\"}],\"pie\":[{\"automargin\":true,\"type\":\"pie\"}],\"scatter\":[{\"marker\":{\"colorbar\":{\"outlinewidth\":0,\"ticks\":\"\"}},\"type\":\"scatter\"}],\"scatter3d\":[{\"line\":{\"colorbar\":{\"outlinewidth\":0,\"ticks\":\"\"}},\"marker\":{\"colorbar\":{\"outlinewidth\":0,\"ticks\":\"\"}},\"type\":\"scatter3d\"}],\"scattercarpet\":[{\"marker\":{\"colorbar\":{\"outlinewidth\":0,\"ticks\":\"\"}},\"type\":\"scattercarpet\"}],\"scattergeo\":[{\"marker\":{\"colorbar\":{\"outlinewidth\":0,\"ticks\":\"\"}},\"type\":\"scattergeo\"}],\"scattergl\":[{\"marker\":{\"colorbar\":{\"outlinewidth\":0,\"ticks\":\"\"}},\"type\":\"scattergl\"}],\"scattermapbox\":[{\"marker\":{\"colorbar\":{\"outlinewidth\":0,\"ticks\":\"\"}},\"type\":\"scattermapbox\"}],\"scatterpolar\":[{\"marker\":{\"colorbar\":{\"outlinewidth\":0,\"ticks\":\"\"}},\"type\":\"scatterpolar\"}],\"scatterpolargl\":[{\"marker\":{\"colorbar\":{\"outlinewidth\":0,\"ticks\":\"\"}},\"type\":\"scatterpolargl\"}],\"scatterternary\":[{\"marker\":{\"colorbar\":{\"outlinewidth\":0,\"ticks\":\"\"}},\"type\":\"scatterternary\"}],\"surface\":[{\"colorbar\":{\"outlinewidth\":0,\"ticks\":\"\"},\"colorscale\":[[0.0,\"#0d0887\"],[0.1111111111111111,\"#46039f\"],[0.2222222222222222,\"#7201a8\"],[0.3333333333333333,\"#9c179e\"],[0.4444444444444444,\"#bd3786\"],[0.5555555555555556,\"#d8576b\"],[0.6666666666666666,\"#ed7953\"],[0.7777777777777778,\"#fb9f3a\"],[0.8888888888888888,\"#fdca26\"],[1.0,\"#f0f921\"]],\"type\":\"surface\"}],\"table\":[{\"cells\":{\"fill\":{\"color\":\"#EBF0F8\"},\"line\":{\"color\":\"white\"}},\"header\":{\"fill\":{\"color\":\"#C8D4E3\"},\"line\":{\"color\":\"white\"}},\"type\":\"table\"}]},\"layout\":{\"annotationdefaults\":{\"arrowcolor\":\"#2a3f5f\",\"arrowhead\":0,\"arrowwidth\":1},\"autotypenumbers\":\"strict\",\"coloraxis\":{\"colorbar\":{\"outlinewidth\":0,\"ticks\":\"\"}},\"colorscale\":{\"diverging\":[[0,\"#8e0152\"],[0.1,\"#c51b7d\"],[0.2,\"#de77ae\"],[0.3,\"#f1b6da\"],[0.4,\"#fde0ef\"],[0.5,\"#f7f7f7\"],[0.6,\"#e6f5d0\"],[0.7,\"#b8e186\"],[0.8,\"#7fbc41\"],[0.9,\"#4d9221\"],[1,\"#276419\"]],\"sequential\":[[0.0,\"#0d0887\"],[0.1111111111111111,\"#46039f\"],[0.2222222222222222,\"#7201a8\"],[0.3333333333333333,\"#9c179e\"],[0.4444444444444444,\"#bd3786\"],[0.5555555555555556,\"#d8576b\"],[0.6666666666666666,\"#ed7953\"],[0.7777777777777778,\"#fb9f3a\"],[0.8888888888888888,\"#fdca26\"],[1.0,\"#f0f921\"]],\"sequentialminus\":[[0.0,\"#0d0887\"],[0.1111111111111111,\"#46039f\"],[0.2222222222222222,\"#7201a8\"],[0.3333333333333333,\"#9c179e\"],[0.4444444444444444,\"#bd3786\"],[0.5555555555555556,\"#d8576b\"],[0.6666666666666666,\"#ed7953\"],[0.7777777777777778,\"#fb9f3a\"],[0.8888888888888888,\"#fdca26\"],[1.0,\"#f0f921\"]]},\"colorway\":[\"#636efa\",\"#EF553B\",\"#00cc96\",\"#ab63fa\",\"#FFA15A\",\"#19d3f3\",\"#FF6692\",\"#B6E880\",\"#FF97FF\",\"#FECB52\"],\"font\":{\"color\":\"#2a3f5f\"},\"geo\":{\"bgcolor\":\"white\",\"lakecolor\":\"white\",\"landcolor\":\"#E5ECF6\",\"showlakes\":true,\"showland\":true,\"subunitcolor\":\"white\"},\"hoverlabel\":{\"align\":\"left\"},\"hovermode\":\"closest\",\"mapbox\":{\"style\":\"light\"},\"paper_bgcolor\":\"white\",\"plot_bgcolor\":\"#E5ECF6\",\"polar\":{\"angularaxis\":{\"gridcolor\":\"white\",\"linecolor\":\"white\",\"ticks\":\"\"},\"bgcolor\":\"#E5ECF6\",\"radialaxis\":{\"gridcolor\":\"white\",\"linecolor\":\"white\",\"ticks\":\"\"}},\"scene\":{\"xaxis\":{\"backgroundcolor\":\"#E5ECF6\",\"gridcolor\":\"white\",\"gridwidth\":2,\"linecolor\":\"white\",\"showbackground\":true,\"ticks\":\"\",\"zerolinecolor\":\"white\"},\"yaxis\":{\"backgroundcolor\":\"#E5ECF6\",\"gridcolor\":\"white\",\"gridwidth\":2,\"linecolor\":\"white\",\"showbackground\":true,\"ticks\":\"\",\"zerolinecolor\":\"white\"},\"zaxis\":{\"backgroundcolor\":\"#E5ECF6\",\"gridcolor\":\"white\",\"gridwidth\":2,\"linecolor\":\"white\",\"showbackground\":true,\"ticks\":\"\",\"zerolinecolor\":\"white\"}},\"shapedefaults\":{\"line\":{\"color\":\"#2a3f5f\"}},\"ternary\":{\"aaxis\":{\"gridcolor\":\"white\",\"linecolor\":\"white\",\"ticks\":\"\"},\"baxis\":{\"gridcolor\":\"white\",\"linecolor\":\"white\",\"ticks\":\"\"},\"bgcolor\":\"#E5ECF6\",\"caxis\":{\"gridcolor\":\"white\",\"linecolor\":\"white\",\"ticks\":\"\"}},\"title\":{\"x\":0.05},\"xaxis\":{\"automargin\":true,\"gridcolor\":\"white\",\"linecolor\":\"white\",\"ticks\":\"\",\"title\":{\"standoff\":15},\"zerolinecolor\":\"white\",\"zerolinewidth\":2},\"yaxis\":{\"automargin\":true,\"gridcolor\":\"white\",\"linecolor\":\"white\",\"ticks\":\"\",\"title\":{\"standoff\":15},\"zerolinecolor\":\"white\",\"zerolinewidth\":2}}},\"xaxis\":{\"anchor\":\"y\",\"domain\":[0.0,1.0],\"title\":{\"text\":\"variable\"}},\"yaxis\":{\"anchor\":\"x\",\"domain\":[0.0,1.0],\"title\":{\"text\":\"value\"}}},                        {\"responsive\": true}                    ).then(function(){\n",
       "                            \n",
       "var gd = document.getElementById('6e68eab0-55fb-48ab-8d02-0d7290f035df');\n",
       "var x = new MutationObserver(function (mutations, observer) {{\n",
       "        var display = window.getComputedStyle(gd).display;\n",
       "        if (!display || display === 'none') {{\n",
       "            console.log([gd, 'removed!']);\n",
       "            Plotly.purge(gd);\n",
       "            observer.disconnect();\n",
       "        }}\n",
       "}});\n",
       "\n",
       "// Listen for the removal of the full notebook cells\n",
       "var notebookContainer = gd.closest('#notebook-container');\n",
       "if (notebookContainer) {{\n",
       "    x.observe(notebookContainer, {childList: true});\n",
       "}}\n",
       "\n",
       "// Listen for the clearing of the current output cell\n",
       "var outputEl = gd.closest('.output');\n",
       "if (outputEl) {{\n",
       "    x.observe(outputEl, {childList: true});\n",
       "}}\n",
       "\n",
       "                        })                };                });            </script>        </div>"
      ]
     },
     "metadata": {},
     "output_type": "display_data"
    }
   ],
   "source": [
    "px.box(df['ins'])"
   ]
  },
  {
   "cell_type": "code",
   "execution_count": 111,
   "id": "dc3de5bf",
   "metadata": {},
   "outputs": [],
   "source": [
    "# Using IQR to remove outliers from 'ins'\n",
    "\n",
    "q1 = df.ins.quantile(0.25)\n",
    "q3 = df.ins.quantile(0.75)\n",
    "IQR = q3 - q1\n",
    "low = q1 - 1.5 * IQR\n",
    "high = q3 + 1.5 * IQR\n",
    "df.drop(df[df.ins < low].index, inplace = True)\n",
    "df.drop(df[df.ins > high].index, inplace = True)"
   ]
  },
  {
   "cell_type": "code",
   "execution_count": 112,
   "id": "4e1f4270",
   "metadata": {},
   "outputs": [
    {
     "data": {
      "application/vnd.plotly.v1+json": {
       "config": {
        "plotlyServerURL": "https://plot.ly"
       },
       "data": [
        {
         "alignmentgroup": "True",
         "hovertemplate": "variable=%{x}<br>value=%{y}<extra></extra>",
         "legendgroup": "",
         "marker": {
          "color": "#636efa"
         },
         "name": "",
         "notched": false,
         "offsetgroup": "",
         "orientation": "v",
         "showlegend": false,
         "type": "box",
         "x": [
          "ins",
          "ins",
          "ins",
          "ins",
          "ins",
          "ins",
          "ins",
          "ins",
          "ins",
          "ins",
          "ins",
          "ins",
          "ins",
          "ins",
          "ins",
          "ins",
          "ins",
          "ins",
          "ins",
          "ins",
          "ins",
          "ins",
          "ins",
          "ins",
          "ins",
          "ins",
          "ins",
          "ins",
          "ins",
          "ins",
          "ins",
          "ins",
          "ins",
          "ins",
          "ins",
          "ins",
          "ins",
          "ins",
          "ins",
          "ins",
          "ins",
          "ins",
          "ins",
          "ins",
          "ins",
          "ins",
          "ins",
          "ins",
          "ins",
          "ins",
          "ins",
          "ins",
          "ins",
          "ins",
          "ins",
          "ins",
          "ins",
          "ins",
          "ins",
          "ins",
          "ins",
          "ins",
          "ins",
          "ins",
          "ins",
          "ins",
          "ins",
          "ins",
          "ins",
          "ins",
          "ins",
          "ins",
          "ins",
          "ins",
          "ins",
          "ins",
          "ins",
          "ins",
          "ins",
          "ins",
          "ins",
          "ins",
          "ins",
          "ins",
          "ins",
          "ins",
          "ins",
          "ins",
          "ins",
          "ins",
          "ins",
          "ins",
          "ins",
          "ins",
          "ins",
          "ins",
          "ins",
          "ins",
          "ins",
          "ins",
          "ins",
          "ins",
          "ins",
          "ins",
          "ins",
          "ins",
          "ins",
          "ins",
          "ins",
          "ins",
          "ins",
          "ins",
          "ins",
          "ins",
          "ins",
          "ins",
          "ins",
          "ins",
          "ins",
          "ins",
          "ins",
          "ins",
          "ins",
          "ins",
          "ins",
          "ins",
          "ins",
          "ins",
          "ins",
          "ins",
          "ins",
          "ins",
          "ins",
          "ins",
          "ins",
          "ins",
          "ins",
          "ins",
          "ins",
          "ins",
          "ins",
          "ins",
          "ins",
          "ins",
          "ins",
          "ins",
          "ins",
          "ins",
          "ins",
          "ins",
          "ins",
          "ins",
          "ins",
          "ins",
          "ins",
          "ins",
          "ins",
          "ins",
          "ins",
          "ins",
          "ins",
          "ins",
          "ins",
          "ins",
          "ins",
          "ins",
          "ins",
          "ins",
          "ins",
          "ins",
          "ins",
          "ins",
          "ins",
          "ins",
          "ins",
          "ins",
          "ins",
          "ins",
          "ins",
          "ins",
          "ins",
          "ins",
          "ins",
          "ins",
          "ins",
          "ins",
          "ins",
          "ins",
          "ins",
          "ins",
          "ins",
          "ins",
          "ins",
          "ins",
          "ins",
          "ins",
          "ins",
          "ins",
          "ins",
          "ins",
          "ins",
          "ins",
          "ins",
          "ins",
          "ins",
          "ins",
          "ins",
          "ins",
          "ins",
          "ins",
          "ins",
          "ins",
          "ins",
          "ins",
          "ins",
          "ins",
          "ins",
          "ins",
          "ins",
          "ins",
          "ins",
          "ins",
          "ins",
          "ins",
          "ins",
          "ins",
          "ins",
          "ins",
          "ins",
          "ins",
          "ins",
          "ins",
          "ins",
          "ins",
          "ins",
          "ins",
          "ins",
          "ins",
          "ins",
          "ins",
          "ins",
          "ins",
          "ins",
          "ins",
          "ins",
          "ins",
          "ins",
          "ins",
          "ins",
          "ins",
          "ins",
          "ins",
          "ins",
          "ins",
          "ins",
          "ins",
          "ins",
          "ins",
          "ins",
          "ins",
          "ins",
          "ins",
          "ins",
          "ins",
          "ins",
          "ins",
          "ins",
          "ins",
          "ins",
          "ins",
          "ins",
          "ins",
          "ins",
          "ins",
          "ins",
          "ins",
          "ins",
          "ins",
          "ins",
          "ins",
          "ins",
          "ins",
          "ins",
          "ins",
          "ins",
          "ins",
          "ins",
          "ins",
          "ins",
          "ins",
          "ins",
          "ins",
          "ins",
          "ins",
          "ins",
          "ins",
          "ins",
          "ins",
          "ins",
          "ins",
          "ins",
          "ins",
          "ins",
          "ins",
          "ins",
          "ins",
          "ins",
          "ins",
          "ins",
          "ins",
          "ins",
          "ins",
          "ins",
          "ins",
          "ins",
          "ins",
          "ins",
          "ins",
          "ins",
          "ins",
          "ins",
          "ins",
          "ins",
          "ins",
          "ins",
          "ins",
          "ins",
          "ins",
          "ins",
          "ins",
          "ins",
          "ins",
          "ins",
          "ins",
          "ins",
          "ins",
          "ins",
          "ins",
          "ins",
          "ins",
          "ins",
          "ins",
          "ins",
          "ins",
          "ins",
          "ins",
          "ins",
          "ins",
          "ins",
          "ins",
          "ins",
          "ins",
          "ins",
          "ins",
          "ins",
          "ins",
          "ins",
          "ins",
          "ins",
          "ins",
          "ins",
          "ins",
          "ins",
          "ins",
          "ins",
          "ins",
          "ins",
          "ins",
          "ins",
          "ins",
          "ins",
          "ins",
          "ins",
          "ins",
          "ins",
          "ins",
          "ins",
          "ins",
          "ins",
          "ins",
          "ins",
          "ins",
          "ins",
          "ins",
          "ins",
          "ins",
          "ins",
          "ins",
          "ins",
          "ins",
          "ins",
          "ins",
          "ins",
          "ins",
          "ins",
          "ins",
          "ins",
          "ins",
          "ins",
          "ins",
          "ins",
          "ins",
          "ins",
          "ins",
          "ins",
          "ins",
          "ins",
          "ins",
          "ins",
          "ins",
          "ins",
          "ins",
          "ins",
          "ins",
          "ins",
          "ins",
          "ins",
          "ins",
          "ins",
          "ins",
          "ins",
          "ins",
          "ins",
          "ins",
          "ins",
          "ins",
          "ins",
          "ins",
          "ins",
          "ins",
          "ins",
          "ins",
          "ins",
          "ins",
          "ins",
          "ins",
          "ins",
          "ins",
          "ins",
          "ins",
          "ins",
          "ins",
          "ins",
          "ins",
          "ins",
          "ins",
          "ins",
          "ins",
          "ins",
          "ins",
          "ins",
          "ins",
          "ins",
          "ins",
          "ins",
          "ins",
          "ins",
          "ins",
          "ins",
          "ins",
          "ins",
          "ins",
          "ins",
          "ins",
          "ins",
          "ins",
          "ins",
          "ins",
          "ins",
          "ins",
          "ins",
          "ins",
          "ins",
          "ins",
          "ins",
          "ins",
          "ins",
          "ins",
          "ins",
          "ins",
          "ins",
          "ins",
          "ins",
          "ins",
          "ins",
          "ins",
          "ins",
          "ins",
          "ins",
          "ins",
          "ins",
          "ins",
          "ins",
          "ins",
          "ins",
          "ins",
          "ins",
          "ins",
          "ins",
          "ins",
          "ins",
          "ins",
          "ins",
          "ins",
          "ins",
          "ins",
          "ins",
          "ins",
          "ins",
          "ins",
          "ins",
          "ins",
          "ins",
          "ins",
          "ins",
          "ins",
          "ins",
          "ins",
          "ins",
          "ins",
          "ins",
          "ins",
          "ins",
          "ins",
          "ins",
          "ins",
          "ins",
          "ins",
          "ins",
          "ins",
          "ins",
          "ins",
          "ins",
          "ins",
          "ins",
          "ins",
          "ins",
          "ins",
          "ins",
          "ins",
          "ins",
          "ins",
          "ins",
          "ins",
          "ins",
          "ins",
          "ins",
          "ins",
          "ins",
          "ins",
          "ins",
          "ins",
          "ins",
          "ins",
          "ins",
          "ins",
          "ins",
          "ins",
          "ins",
          "ins",
          "ins",
          "ins",
          "ins",
          "ins",
          "ins",
          "ins",
          "ins",
          "ins",
          "ins",
          "ins",
          "ins",
          "ins",
          "ins",
          "ins",
          "ins",
          "ins",
          "ins",
          "ins",
          "ins",
          "ins",
          "ins",
          "ins",
          "ins",
          "ins",
          "ins",
          "ins",
          "ins",
          "ins",
          "ins",
          "ins",
          "ins",
          "ins",
          "ins",
          "ins",
          "ins",
          "ins",
          "ins",
          "ins",
          "ins",
          "ins",
          "ins",
          "ins",
          "ins",
          "ins",
          "ins",
          "ins",
          "ins",
          "ins",
          "ins",
          "ins",
          "ins",
          "ins",
          "ins",
          "ins",
          "ins",
          "ins",
          "ins",
          "ins",
          "ins",
          "ins",
          "ins",
          "ins",
          "ins",
          "ins",
          "ins",
          "ins",
          "ins",
          "ins",
          "ins",
          "ins",
          "ins",
          "ins",
          "ins",
          "ins",
          "ins",
          "ins",
          "ins",
          "ins",
          "ins",
          "ins",
          "ins",
          "ins",
          "ins",
          "ins",
          "ins",
          "ins",
          "ins",
          "ins",
          "ins",
          "ins",
          "ins",
          "ins",
          "ins",
          "ins",
          "ins",
          "ins",
          "ins",
          "ins",
          "ins",
          "ins",
          "ins",
          "ins",
          "ins",
          "ins",
          "ins",
          "ins",
          "ins",
          "ins",
          "ins",
          "ins",
          "ins",
          "ins",
          "ins",
          "ins",
          "ins",
          "ins",
          "ins",
          "ins",
          "ins",
          "ins",
          "ins",
          "ins",
          "ins",
          "ins",
          "ins",
          "ins"
         ],
         "x0": " ",
         "xaxis": "x",
         "y": [
          0,
          0,
          0,
          94,
          168,
          0,
          88,
          0,
          0,
          0,
          0,
          175,
          230,
          0,
          96,
          235,
          0,
          0,
          0,
          146,
          115,
          0,
          140,
          110,
          0,
          0,
          245,
          54,
          0,
          0,
          192,
          0,
          0,
          0,
          207,
          70,
          0,
          0,
          0,
          0,
          0,
          0,
          0,
          82,
          36,
          23,
          300,
          0,
          304,
          110,
          0,
          142,
          0,
          0,
          128,
          0,
          0,
          0,
          0,
          38,
          100,
          90,
          140,
          0,
          270,
          0,
          0,
          0,
          0,
          0,
          71,
          0,
          125,
          0,
          71,
          0,
          0,
          176,
          48,
          0,
          64,
          228,
          0,
          76,
          64,
          220,
          0,
          0,
          0,
          40,
          0,
          152,
          140,
          18,
          36,
          135,
          37,
          0,
          175,
          0,
          0,
          0,
          0,
          51,
          100,
          0,
          100,
          0,
          0,
          135,
          94,
          145,
          0,
          168,
          0,
          225,
          0,
          49,
          140,
          50,
          92,
          0,
          325,
          0,
          0,
          63,
          0,
          284,
          0,
          0,
          119,
          0,
          0,
          204,
          0,
          155,
          0,
          0,
          94,
          135,
          53,
          0,
          105,
          285,
          0,
          0,
          156,
          0,
          0,
          0,
          78,
          0,
          130,
          48,
          55,
          130,
          0,
          0,
          0,
          0,
          92,
          0,
          0,
          0,
          58,
          114,
          160,
          0,
          94,
          0,
          0,
          210,
          0,
          48,
          99,
          318,
          0,
          0,
          0,
          44,
          190,
          0,
          280,
          0,
          87,
          0,
          0,
          0,
          0,
          130,
          175,
          271,
          129,
          120,
          0,
          0,
          0,
          190,
          56,
          32,
          0,
          0,
          53,
          0,
          37,
          0,
          45,
          0,
          192,
          0,
          0,
          0,
          0,
          88,
          0,
          176,
          194,
          0,
          0,
          0,
          0,
          0,
          55,
          0,
          258,
          0,
          0,
          0,
          150,
          130,
          0,
          0,
          0,
          67,
          0,
          0,
          0,
          56,
          0,
          45,
          0,
          57,
          0,
          116,
          0,
          278,
          0,
          122,
          155,
          0,
          0,
          135,
          220,
          49,
          75,
          40,
          74,
          182,
          194,
          0,
          120,
          215,
          0,
          135,
          42,
          0,
          0,
          105,
          132,
          148,
          180,
          205,
          0,
          148,
          96,
          85,
          0,
          94,
          64,
          0,
          140,
          0,
          231,
          0,
          0,
          29,
          0,
          168,
          156,
          0,
          120,
          68,
          0,
          52,
          0,
          58,
          255,
          0,
          171,
          0,
          105,
          73,
          0,
          0,
          108,
          83,
          74,
          0,
          0,
          0,
          43,
          0,
          0,
          167,
          54,
          249,
          325,
          0,
          0,
          293,
          83,
          0,
          0,
          66,
          140,
          89,
          66,
          94,
          158,
          325,
          84,
          75,
          0,
          72,
          82,
          0,
          182,
          59,
          110,
          50,
          0,
          0,
          285,
          81,
          196,
          0,
          87,
          0,
          275,
          115,
          0,
          0,
          0,
          0,
          0,
          88,
          0,
          0,
          165,
          0,
          0,
          0,
          0,
          176,
          310,
          61,
          167,
          0,
          0,
          0,
          115,
          170,
          76,
          78,
          0,
          210,
          277,
          180,
          145,
          180,
          85,
          60,
          0,
          0,
          0,
          0,
          0,
          0,
          0,
          50,
          120,
          0,
          0,
          14,
          70,
          92,
          64,
          63,
          95,
          0,
          210,
          105,
          0,
          71,
          237,
          60,
          56,
          0,
          49,
          0,
          0,
          105,
          36,
          100,
          140,
          0,
          0,
          0,
          0,
          0,
          0,
          191,
          110,
          75,
          0,
          328,
          0,
          49,
          125,
          250,
          265,
          0,
          0,
          66,
          0,
          0,
          122,
          0,
          0,
          76,
          145,
          193,
          71,
          0,
          79,
          0,
          0,
          90,
          170,
          76,
          0,
          0,
          210,
          0,
          0,
          86,
          105,
          165,
          0,
          0,
          326,
          66,
          130,
          0,
          0,
          0,
          82,
          105,
          188,
          0,
          106,
          0,
          65,
          56,
          0,
          0,
          210,
          155,
          215,
          190,
          0,
          56,
          76,
          225,
          207,
          166,
          67,
          0,
          106,
          0,
          44,
          115,
          215,
          0,
          0,
          0,
          0,
          0,
          274,
          77,
          54,
          0,
          88,
          18,
          126,
          126,
          165,
          0,
          0,
          44,
          120,
          330,
          63,
          130,
          0,
          0,
          0,
          0,
          0,
          0,
          0,
          0,
          0,
          156,
          0,
          140,
          0,
          115,
          230,
          185,
          0,
          0,
          120,
          0,
          0,
          126,
          0,
          293,
          41,
          272,
          182,
          158,
          194,
          321,
          0,
          144,
          0,
          0,
          15,
          0,
          160,
          0,
          0,
          115,
          0,
          54,
          0,
          0,
          0,
          0,
          0,
          90,
          0,
          183,
          0,
          0,
          0,
          66,
          91,
          46,
          105,
          0,
          0,
          152,
          144,
          159,
          130,
          0,
          100,
          106,
          77,
          0,
          135,
          90,
          200,
          0,
          70,
          0,
          0,
          231,
          130,
          0,
          132,
          0,
          0,
          190,
          100,
          168,
          0,
          49,
          240,
          0,
          0,
          0,
          0,
          0,
          265,
          45,
          0,
          105,
          0,
          0,
          205,
          0,
          0,
          180,
          180,
          0,
          95,
          125,
          0,
          125,
          155,
          0,
          200,
          0,
          0,
          100,
          0,
          0,
          160,
          22,
          0,
          291,
          0,
          185,
          0,
          178,
          0,
          0,
          200,
          127,
          105,
          0,
          0,
          180,
          0,
          0,
          0,
          79,
          0,
          120,
          165,
          0,
          0,
          120,
          0,
          160,
          0,
          150,
          94,
          116,
          0,
          140,
          105,
          0,
          57,
          200,
          0,
          0,
          74,
          0,
          0,
          110,
          0,
          0,
          0,
          0,
          16,
          0,
          0,
          180,
          0,
          112,
          0,
          0
         ],
         "y0": " ",
         "yaxis": "y"
        }
       ],
       "layout": {
        "boxmode": "group",
        "legend": {
         "tracegroupgap": 0
        },
        "margin": {
         "t": 60
        },
        "template": {
         "data": {
          "bar": [
           {
            "error_x": {
             "color": "#2a3f5f"
            },
            "error_y": {
             "color": "#2a3f5f"
            },
            "marker": {
             "line": {
              "color": "#E5ECF6",
              "width": 0.5
             },
             "pattern": {
              "fillmode": "overlay",
              "size": 10,
              "solidity": 0.2
             }
            },
            "type": "bar"
           }
          ],
          "barpolar": [
           {
            "marker": {
             "line": {
              "color": "#E5ECF6",
              "width": 0.5
             },
             "pattern": {
              "fillmode": "overlay",
              "size": 10,
              "solidity": 0.2
             }
            },
            "type": "barpolar"
           }
          ],
          "carpet": [
           {
            "aaxis": {
             "endlinecolor": "#2a3f5f",
             "gridcolor": "white",
             "linecolor": "white",
             "minorgridcolor": "white",
             "startlinecolor": "#2a3f5f"
            },
            "baxis": {
             "endlinecolor": "#2a3f5f",
             "gridcolor": "white",
             "linecolor": "white",
             "minorgridcolor": "white",
             "startlinecolor": "#2a3f5f"
            },
            "type": "carpet"
           }
          ],
          "choropleth": [
           {
            "colorbar": {
             "outlinewidth": 0,
             "ticks": ""
            },
            "type": "choropleth"
           }
          ],
          "contour": [
           {
            "colorbar": {
             "outlinewidth": 0,
             "ticks": ""
            },
            "colorscale": [
             [
              0,
              "#0d0887"
             ],
             [
              0.1111111111111111,
              "#46039f"
             ],
             [
              0.2222222222222222,
              "#7201a8"
             ],
             [
              0.3333333333333333,
              "#9c179e"
             ],
             [
              0.4444444444444444,
              "#bd3786"
             ],
             [
              0.5555555555555556,
              "#d8576b"
             ],
             [
              0.6666666666666666,
              "#ed7953"
             ],
             [
              0.7777777777777778,
              "#fb9f3a"
             ],
             [
              0.8888888888888888,
              "#fdca26"
             ],
             [
              1,
              "#f0f921"
             ]
            ],
            "type": "contour"
           }
          ],
          "contourcarpet": [
           {
            "colorbar": {
             "outlinewidth": 0,
             "ticks": ""
            },
            "type": "contourcarpet"
           }
          ],
          "heatmap": [
           {
            "colorbar": {
             "outlinewidth": 0,
             "ticks": ""
            },
            "colorscale": [
             [
              0,
              "#0d0887"
             ],
             [
              0.1111111111111111,
              "#46039f"
             ],
             [
              0.2222222222222222,
              "#7201a8"
             ],
             [
              0.3333333333333333,
              "#9c179e"
             ],
             [
              0.4444444444444444,
              "#bd3786"
             ],
             [
              0.5555555555555556,
              "#d8576b"
             ],
             [
              0.6666666666666666,
              "#ed7953"
             ],
             [
              0.7777777777777778,
              "#fb9f3a"
             ],
             [
              0.8888888888888888,
              "#fdca26"
             ],
             [
              1,
              "#f0f921"
             ]
            ],
            "type": "heatmap"
           }
          ],
          "heatmapgl": [
           {
            "colorbar": {
             "outlinewidth": 0,
             "ticks": ""
            },
            "colorscale": [
             [
              0,
              "#0d0887"
             ],
             [
              0.1111111111111111,
              "#46039f"
             ],
             [
              0.2222222222222222,
              "#7201a8"
             ],
             [
              0.3333333333333333,
              "#9c179e"
             ],
             [
              0.4444444444444444,
              "#bd3786"
             ],
             [
              0.5555555555555556,
              "#d8576b"
             ],
             [
              0.6666666666666666,
              "#ed7953"
             ],
             [
              0.7777777777777778,
              "#fb9f3a"
             ],
             [
              0.8888888888888888,
              "#fdca26"
             ],
             [
              1,
              "#f0f921"
             ]
            ],
            "type": "heatmapgl"
           }
          ],
          "histogram": [
           {
            "marker": {
             "pattern": {
              "fillmode": "overlay",
              "size": 10,
              "solidity": 0.2
             }
            },
            "type": "histogram"
           }
          ],
          "histogram2d": [
           {
            "colorbar": {
             "outlinewidth": 0,
             "ticks": ""
            },
            "colorscale": [
             [
              0,
              "#0d0887"
             ],
             [
              0.1111111111111111,
              "#46039f"
             ],
             [
              0.2222222222222222,
              "#7201a8"
             ],
             [
              0.3333333333333333,
              "#9c179e"
             ],
             [
              0.4444444444444444,
              "#bd3786"
             ],
             [
              0.5555555555555556,
              "#d8576b"
             ],
             [
              0.6666666666666666,
              "#ed7953"
             ],
             [
              0.7777777777777778,
              "#fb9f3a"
             ],
             [
              0.8888888888888888,
              "#fdca26"
             ],
             [
              1,
              "#f0f921"
             ]
            ],
            "type": "histogram2d"
           }
          ],
          "histogram2dcontour": [
           {
            "colorbar": {
             "outlinewidth": 0,
             "ticks": ""
            },
            "colorscale": [
             [
              0,
              "#0d0887"
             ],
             [
              0.1111111111111111,
              "#46039f"
             ],
             [
              0.2222222222222222,
              "#7201a8"
             ],
             [
              0.3333333333333333,
              "#9c179e"
             ],
             [
              0.4444444444444444,
              "#bd3786"
             ],
             [
              0.5555555555555556,
              "#d8576b"
             ],
             [
              0.6666666666666666,
              "#ed7953"
             ],
             [
              0.7777777777777778,
              "#fb9f3a"
             ],
             [
              0.8888888888888888,
              "#fdca26"
             ],
             [
              1,
              "#f0f921"
             ]
            ],
            "type": "histogram2dcontour"
           }
          ],
          "mesh3d": [
           {
            "colorbar": {
             "outlinewidth": 0,
             "ticks": ""
            },
            "type": "mesh3d"
           }
          ],
          "parcoords": [
           {
            "line": {
             "colorbar": {
              "outlinewidth": 0,
              "ticks": ""
             }
            },
            "type": "parcoords"
           }
          ],
          "pie": [
           {
            "automargin": true,
            "type": "pie"
           }
          ],
          "scatter": [
           {
            "marker": {
             "colorbar": {
              "outlinewidth": 0,
              "ticks": ""
             }
            },
            "type": "scatter"
           }
          ],
          "scatter3d": [
           {
            "line": {
             "colorbar": {
              "outlinewidth": 0,
              "ticks": ""
             }
            },
            "marker": {
             "colorbar": {
              "outlinewidth": 0,
              "ticks": ""
             }
            },
            "type": "scatter3d"
           }
          ],
          "scattercarpet": [
           {
            "marker": {
             "colorbar": {
              "outlinewidth": 0,
              "ticks": ""
             }
            },
            "type": "scattercarpet"
           }
          ],
          "scattergeo": [
           {
            "marker": {
             "colorbar": {
              "outlinewidth": 0,
              "ticks": ""
             }
            },
            "type": "scattergeo"
           }
          ],
          "scattergl": [
           {
            "marker": {
             "colorbar": {
              "outlinewidth": 0,
              "ticks": ""
             }
            },
            "type": "scattergl"
           }
          ],
          "scattermapbox": [
           {
            "marker": {
             "colorbar": {
              "outlinewidth": 0,
              "ticks": ""
             }
            },
            "type": "scattermapbox"
           }
          ],
          "scatterpolar": [
           {
            "marker": {
             "colorbar": {
              "outlinewidth": 0,
              "ticks": ""
             }
            },
            "type": "scatterpolar"
           }
          ],
          "scatterpolargl": [
           {
            "marker": {
             "colorbar": {
              "outlinewidth": 0,
              "ticks": ""
             }
            },
            "type": "scatterpolargl"
           }
          ],
          "scatterternary": [
           {
            "marker": {
             "colorbar": {
              "outlinewidth": 0,
              "ticks": ""
             }
            },
            "type": "scatterternary"
           }
          ],
          "surface": [
           {
            "colorbar": {
             "outlinewidth": 0,
             "ticks": ""
            },
            "colorscale": [
             [
              0,
              "#0d0887"
             ],
             [
              0.1111111111111111,
              "#46039f"
             ],
             [
              0.2222222222222222,
              "#7201a8"
             ],
             [
              0.3333333333333333,
              "#9c179e"
             ],
             [
              0.4444444444444444,
              "#bd3786"
             ],
             [
              0.5555555555555556,
              "#d8576b"
             ],
             [
              0.6666666666666666,
              "#ed7953"
             ],
             [
              0.7777777777777778,
              "#fb9f3a"
             ],
             [
              0.8888888888888888,
              "#fdca26"
             ],
             [
              1,
              "#f0f921"
             ]
            ],
            "type": "surface"
           }
          ],
          "table": [
           {
            "cells": {
             "fill": {
              "color": "#EBF0F8"
             },
             "line": {
              "color": "white"
             }
            },
            "header": {
             "fill": {
              "color": "#C8D4E3"
             },
             "line": {
              "color": "white"
             }
            },
            "type": "table"
           }
          ]
         },
         "layout": {
          "annotationdefaults": {
           "arrowcolor": "#2a3f5f",
           "arrowhead": 0,
           "arrowwidth": 1
          },
          "autotypenumbers": "strict",
          "coloraxis": {
           "colorbar": {
            "outlinewidth": 0,
            "ticks": ""
           }
          },
          "colorscale": {
           "diverging": [
            [
             0,
             "#8e0152"
            ],
            [
             0.1,
             "#c51b7d"
            ],
            [
             0.2,
             "#de77ae"
            ],
            [
             0.3,
             "#f1b6da"
            ],
            [
             0.4,
             "#fde0ef"
            ],
            [
             0.5,
             "#f7f7f7"
            ],
            [
             0.6,
             "#e6f5d0"
            ],
            [
             0.7,
             "#b8e186"
            ],
            [
             0.8,
             "#7fbc41"
            ],
            [
             0.9,
             "#4d9221"
            ],
            [
             1,
             "#276419"
            ]
           ],
           "sequential": [
            [
             0,
             "#0d0887"
            ],
            [
             0.1111111111111111,
             "#46039f"
            ],
            [
             0.2222222222222222,
             "#7201a8"
            ],
            [
             0.3333333333333333,
             "#9c179e"
            ],
            [
             0.4444444444444444,
             "#bd3786"
            ],
            [
             0.5555555555555556,
             "#d8576b"
            ],
            [
             0.6666666666666666,
             "#ed7953"
            ],
            [
             0.7777777777777778,
             "#fb9f3a"
            ],
            [
             0.8888888888888888,
             "#fdca26"
            ],
            [
             1,
             "#f0f921"
            ]
           ],
           "sequentialminus": [
            [
             0,
             "#0d0887"
            ],
            [
             0.1111111111111111,
             "#46039f"
            ],
            [
             0.2222222222222222,
             "#7201a8"
            ],
            [
             0.3333333333333333,
             "#9c179e"
            ],
            [
             0.4444444444444444,
             "#bd3786"
            ],
            [
             0.5555555555555556,
             "#d8576b"
            ],
            [
             0.6666666666666666,
             "#ed7953"
            ],
            [
             0.7777777777777778,
             "#fb9f3a"
            ],
            [
             0.8888888888888888,
             "#fdca26"
            ],
            [
             1,
             "#f0f921"
            ]
           ]
          },
          "colorway": [
           "#636efa",
           "#EF553B",
           "#00cc96",
           "#ab63fa",
           "#FFA15A",
           "#19d3f3",
           "#FF6692",
           "#B6E880",
           "#FF97FF",
           "#FECB52"
          ],
          "font": {
           "color": "#2a3f5f"
          },
          "geo": {
           "bgcolor": "white",
           "lakecolor": "white",
           "landcolor": "#E5ECF6",
           "showlakes": true,
           "showland": true,
           "subunitcolor": "white"
          },
          "hoverlabel": {
           "align": "left"
          },
          "hovermode": "closest",
          "mapbox": {
           "style": "light"
          },
          "paper_bgcolor": "white",
          "plot_bgcolor": "#E5ECF6",
          "polar": {
           "angularaxis": {
            "gridcolor": "white",
            "linecolor": "white",
            "ticks": ""
           },
           "bgcolor": "#E5ECF6",
           "radialaxis": {
            "gridcolor": "white",
            "linecolor": "white",
            "ticks": ""
           }
          },
          "scene": {
           "xaxis": {
            "backgroundcolor": "#E5ECF6",
            "gridcolor": "white",
            "gridwidth": 2,
            "linecolor": "white",
            "showbackground": true,
            "ticks": "",
            "zerolinecolor": "white"
           },
           "yaxis": {
            "backgroundcolor": "#E5ECF6",
            "gridcolor": "white",
            "gridwidth": 2,
            "linecolor": "white",
            "showbackground": true,
            "ticks": "",
            "zerolinecolor": "white"
           },
           "zaxis": {
            "backgroundcolor": "#E5ECF6",
            "gridcolor": "white",
            "gridwidth": 2,
            "linecolor": "white",
            "showbackground": true,
            "ticks": "",
            "zerolinecolor": "white"
           }
          },
          "shapedefaults": {
           "line": {
            "color": "#2a3f5f"
           }
          },
          "ternary": {
           "aaxis": {
            "gridcolor": "white",
            "linecolor": "white",
            "ticks": ""
           },
           "baxis": {
            "gridcolor": "white",
            "linecolor": "white",
            "ticks": ""
           },
           "bgcolor": "#E5ECF6",
           "caxis": {
            "gridcolor": "white",
            "linecolor": "white",
            "ticks": ""
           }
          },
          "title": {
           "x": 0.05
          },
          "xaxis": {
           "automargin": true,
           "gridcolor": "white",
           "linecolor": "white",
           "ticks": "",
           "title": {
            "standoff": 15
           },
           "zerolinecolor": "white",
           "zerolinewidth": 2
          },
          "yaxis": {
           "automargin": true,
           "gridcolor": "white",
           "linecolor": "white",
           "ticks": "",
           "title": {
            "standoff": 15
           },
           "zerolinecolor": "white",
           "zerolinewidth": 2
          }
         }
        },
        "xaxis": {
         "anchor": "y",
         "domain": [
          0,
          1
         ],
         "title": {
          "text": "variable"
         }
        },
        "yaxis": {
         "anchor": "x",
         "domain": [
          0,
          1
         ],
         "title": {
          "text": "value"
         }
        }
       }
      },
      "text/html": [
       "<div>                            <div id=\"53f331d6-82ae-4d7e-8640-d66e6a822a5a\" class=\"plotly-graph-div\" style=\"height:525px; width:100%;\"></div>            <script type=\"text/javascript\">                require([\"plotly\"], function(Plotly) {                    window.PLOTLYENV=window.PLOTLYENV || {};                                    if (document.getElementById(\"53f331d6-82ae-4d7e-8640-d66e6a822a5a\")) {                    Plotly.newPlot(                        \"53f331d6-82ae-4d7e-8640-d66e6a822a5a\",                        [{\"alignmentgroup\":\"True\",\"hovertemplate\":\"variable=%{x}<br>value=%{y}<extra></extra>\",\"legendgroup\":\"\",\"marker\":{\"color\":\"#636efa\"},\"name\":\"\",\"notched\":false,\"offsetgroup\":\"\",\"orientation\":\"v\",\"showlegend\":false,\"type\":\"box\",\"x\":[\"ins\",\"ins\",\"ins\",\"ins\",\"ins\",\"ins\",\"ins\",\"ins\",\"ins\",\"ins\",\"ins\",\"ins\",\"ins\",\"ins\",\"ins\",\"ins\",\"ins\",\"ins\",\"ins\",\"ins\",\"ins\",\"ins\",\"ins\",\"ins\",\"ins\",\"ins\",\"ins\",\"ins\",\"ins\",\"ins\",\"ins\",\"ins\",\"ins\",\"ins\",\"ins\",\"ins\",\"ins\",\"ins\",\"ins\",\"ins\",\"ins\",\"ins\",\"ins\",\"ins\",\"ins\",\"ins\",\"ins\",\"ins\",\"ins\",\"ins\",\"ins\",\"ins\",\"ins\",\"ins\",\"ins\",\"ins\",\"ins\",\"ins\",\"ins\",\"ins\",\"ins\",\"ins\",\"ins\",\"ins\",\"ins\",\"ins\",\"ins\",\"ins\",\"ins\",\"ins\",\"ins\",\"ins\",\"ins\",\"ins\",\"ins\",\"ins\",\"ins\",\"ins\",\"ins\",\"ins\",\"ins\",\"ins\",\"ins\",\"ins\",\"ins\",\"ins\",\"ins\",\"ins\",\"ins\",\"ins\",\"ins\",\"ins\",\"ins\",\"ins\",\"ins\",\"ins\",\"ins\",\"ins\",\"ins\",\"ins\",\"ins\",\"ins\",\"ins\",\"ins\",\"ins\",\"ins\",\"ins\",\"ins\",\"ins\",\"ins\",\"ins\",\"ins\",\"ins\",\"ins\",\"ins\",\"ins\",\"ins\",\"ins\",\"ins\",\"ins\",\"ins\",\"ins\",\"ins\",\"ins\",\"ins\",\"ins\",\"ins\",\"ins\",\"ins\",\"ins\",\"ins\",\"ins\",\"ins\",\"ins\",\"ins\",\"ins\",\"ins\",\"ins\",\"ins\",\"ins\",\"ins\",\"ins\",\"ins\",\"ins\",\"ins\",\"ins\",\"ins\",\"ins\",\"ins\",\"ins\",\"ins\",\"ins\",\"ins\",\"ins\",\"ins\",\"ins\",\"ins\",\"ins\",\"ins\",\"ins\",\"ins\",\"ins\",\"ins\",\"ins\",\"ins\",\"ins\",\"ins\",\"ins\",\"ins\",\"ins\",\"ins\",\"ins\",\"ins\",\"ins\",\"ins\",\"ins\",\"ins\",\"ins\",\"ins\",\"ins\",\"ins\",\"ins\",\"ins\",\"ins\",\"ins\",\"ins\",\"ins\",\"ins\",\"ins\",\"ins\",\"ins\",\"ins\",\"ins\",\"ins\",\"ins\",\"ins\",\"ins\",\"ins\",\"ins\",\"ins\",\"ins\",\"ins\",\"ins\",\"ins\",\"ins\",\"ins\",\"ins\",\"ins\",\"ins\",\"ins\",\"ins\",\"ins\",\"ins\",\"ins\",\"ins\",\"ins\",\"ins\",\"ins\",\"ins\",\"ins\",\"ins\",\"ins\",\"ins\",\"ins\",\"ins\",\"ins\",\"ins\",\"ins\",\"ins\",\"ins\",\"ins\",\"ins\",\"ins\",\"ins\",\"ins\",\"ins\",\"ins\",\"ins\",\"ins\",\"ins\",\"ins\",\"ins\",\"ins\",\"ins\",\"ins\",\"ins\",\"ins\",\"ins\",\"ins\",\"ins\",\"ins\",\"ins\",\"ins\",\"ins\",\"ins\",\"ins\",\"ins\",\"ins\",\"ins\",\"ins\",\"ins\",\"ins\",\"ins\",\"ins\",\"ins\",\"ins\",\"ins\",\"ins\",\"ins\",\"ins\",\"ins\",\"ins\",\"ins\",\"ins\",\"ins\",\"ins\",\"ins\",\"ins\",\"ins\",\"ins\",\"ins\",\"ins\",\"ins\",\"ins\",\"ins\",\"ins\",\"ins\",\"ins\",\"ins\",\"ins\",\"ins\",\"ins\",\"ins\",\"ins\",\"ins\",\"ins\",\"ins\",\"ins\",\"ins\",\"ins\",\"ins\",\"ins\",\"ins\",\"ins\",\"ins\",\"ins\",\"ins\",\"ins\",\"ins\",\"ins\",\"ins\",\"ins\",\"ins\",\"ins\",\"ins\",\"ins\",\"ins\",\"ins\",\"ins\",\"ins\",\"ins\",\"ins\",\"ins\",\"ins\",\"ins\",\"ins\",\"ins\",\"ins\",\"ins\",\"ins\",\"ins\",\"ins\",\"ins\",\"ins\",\"ins\",\"ins\",\"ins\",\"ins\",\"ins\",\"ins\",\"ins\",\"ins\",\"ins\",\"ins\",\"ins\",\"ins\",\"ins\",\"ins\",\"ins\",\"ins\",\"ins\",\"ins\",\"ins\",\"ins\",\"ins\",\"ins\",\"ins\",\"ins\",\"ins\",\"ins\",\"ins\",\"ins\",\"ins\",\"ins\",\"ins\",\"ins\",\"ins\",\"ins\",\"ins\",\"ins\",\"ins\",\"ins\",\"ins\",\"ins\",\"ins\",\"ins\",\"ins\",\"ins\",\"ins\",\"ins\",\"ins\",\"ins\",\"ins\",\"ins\",\"ins\",\"ins\",\"ins\",\"ins\",\"ins\",\"ins\",\"ins\",\"ins\",\"ins\",\"ins\",\"ins\",\"ins\",\"ins\",\"ins\",\"ins\",\"ins\",\"ins\",\"ins\",\"ins\",\"ins\",\"ins\",\"ins\",\"ins\",\"ins\",\"ins\",\"ins\",\"ins\",\"ins\",\"ins\",\"ins\",\"ins\",\"ins\",\"ins\",\"ins\",\"ins\",\"ins\",\"ins\",\"ins\",\"ins\",\"ins\",\"ins\",\"ins\",\"ins\",\"ins\",\"ins\",\"ins\",\"ins\",\"ins\",\"ins\",\"ins\",\"ins\",\"ins\",\"ins\",\"ins\",\"ins\",\"ins\",\"ins\",\"ins\",\"ins\",\"ins\",\"ins\",\"ins\",\"ins\",\"ins\",\"ins\",\"ins\",\"ins\",\"ins\",\"ins\",\"ins\",\"ins\",\"ins\",\"ins\",\"ins\",\"ins\",\"ins\",\"ins\",\"ins\",\"ins\",\"ins\",\"ins\",\"ins\",\"ins\",\"ins\",\"ins\",\"ins\",\"ins\",\"ins\",\"ins\",\"ins\",\"ins\",\"ins\",\"ins\",\"ins\",\"ins\",\"ins\",\"ins\",\"ins\",\"ins\",\"ins\",\"ins\",\"ins\",\"ins\",\"ins\",\"ins\",\"ins\",\"ins\",\"ins\",\"ins\",\"ins\",\"ins\",\"ins\",\"ins\",\"ins\",\"ins\",\"ins\",\"ins\",\"ins\",\"ins\",\"ins\",\"ins\",\"ins\",\"ins\",\"ins\",\"ins\",\"ins\",\"ins\",\"ins\",\"ins\",\"ins\",\"ins\",\"ins\",\"ins\",\"ins\",\"ins\",\"ins\",\"ins\",\"ins\",\"ins\",\"ins\",\"ins\",\"ins\",\"ins\",\"ins\",\"ins\",\"ins\",\"ins\",\"ins\",\"ins\",\"ins\",\"ins\",\"ins\",\"ins\",\"ins\",\"ins\",\"ins\",\"ins\",\"ins\",\"ins\",\"ins\",\"ins\",\"ins\",\"ins\",\"ins\",\"ins\",\"ins\",\"ins\",\"ins\",\"ins\",\"ins\",\"ins\",\"ins\",\"ins\",\"ins\",\"ins\",\"ins\",\"ins\",\"ins\",\"ins\",\"ins\",\"ins\",\"ins\",\"ins\",\"ins\",\"ins\",\"ins\",\"ins\",\"ins\",\"ins\",\"ins\",\"ins\",\"ins\",\"ins\",\"ins\",\"ins\",\"ins\",\"ins\",\"ins\",\"ins\",\"ins\",\"ins\",\"ins\",\"ins\",\"ins\",\"ins\",\"ins\",\"ins\",\"ins\",\"ins\",\"ins\",\"ins\",\"ins\",\"ins\",\"ins\",\"ins\",\"ins\",\"ins\",\"ins\",\"ins\",\"ins\",\"ins\",\"ins\",\"ins\",\"ins\",\"ins\",\"ins\",\"ins\",\"ins\",\"ins\",\"ins\",\"ins\",\"ins\",\"ins\",\"ins\",\"ins\",\"ins\",\"ins\",\"ins\",\"ins\",\"ins\",\"ins\",\"ins\",\"ins\",\"ins\",\"ins\",\"ins\",\"ins\",\"ins\",\"ins\",\"ins\",\"ins\",\"ins\",\"ins\",\"ins\",\"ins\",\"ins\",\"ins\",\"ins\",\"ins\",\"ins\",\"ins\",\"ins\",\"ins\",\"ins\",\"ins\",\"ins\",\"ins\",\"ins\",\"ins\",\"ins\",\"ins\",\"ins\",\"ins\",\"ins\",\"ins\",\"ins\",\"ins\",\"ins\",\"ins\",\"ins\",\"ins\",\"ins\",\"ins\",\"ins\",\"ins\",\"ins\",\"ins\",\"ins\",\"ins\",\"ins\",\"ins\",\"ins\",\"ins\",\"ins\",\"ins\",\"ins\",\"ins\",\"ins\",\"ins\",\"ins\",\"ins\",\"ins\"],\"x0\":\" \",\"xaxis\":\"x\",\"y\":[0,0,0,94,168,0,88,0,0,0,0,175,230,0,96,235,0,0,0,146,115,0,140,110,0,0,245,54,0,0,192,0,0,0,207,70,0,0,0,0,0,0,0,82,36,23,300,0,304,110,0,142,0,0,128,0,0,0,0,38,100,90,140,0,270,0,0,0,0,0,71,0,125,0,71,0,0,176,48,0,64,228,0,76,64,220,0,0,0,40,0,152,140,18,36,135,37,0,175,0,0,0,0,51,100,0,100,0,0,135,94,145,0,168,0,225,0,49,140,50,92,0,325,0,0,63,0,284,0,0,119,0,0,204,0,155,0,0,94,135,53,0,105,285,0,0,156,0,0,0,78,0,130,48,55,130,0,0,0,0,92,0,0,0,58,114,160,0,94,0,0,210,0,48,99,318,0,0,0,44,190,0,280,0,87,0,0,0,0,130,175,271,129,120,0,0,0,190,56,32,0,0,53,0,37,0,45,0,192,0,0,0,0,88,0,176,194,0,0,0,0,0,55,0,258,0,0,0,150,130,0,0,0,67,0,0,0,56,0,45,0,57,0,116,0,278,0,122,155,0,0,135,220,49,75,40,74,182,194,0,120,215,0,135,42,0,0,105,132,148,180,205,0,148,96,85,0,94,64,0,140,0,231,0,0,29,0,168,156,0,120,68,0,52,0,58,255,0,171,0,105,73,0,0,108,83,74,0,0,0,43,0,0,167,54,249,325,0,0,293,83,0,0,66,140,89,66,94,158,325,84,75,0,72,82,0,182,59,110,50,0,0,285,81,196,0,87,0,275,115,0,0,0,0,0,88,0,0,165,0,0,0,0,176,310,61,167,0,0,0,115,170,76,78,0,210,277,180,145,180,85,60,0,0,0,0,0,0,0,50,120,0,0,14,70,92,64,63,95,0,210,105,0,71,237,60,56,0,49,0,0,105,36,100,140,0,0,0,0,0,0,191,110,75,0,328,0,49,125,250,265,0,0,66,0,0,122,0,0,76,145,193,71,0,79,0,0,90,170,76,0,0,210,0,0,86,105,165,0,0,326,66,130,0,0,0,82,105,188,0,106,0,65,56,0,0,210,155,215,190,0,56,76,225,207,166,67,0,106,0,44,115,215,0,0,0,0,0,274,77,54,0,88,18,126,126,165,0,0,44,120,330,63,130,0,0,0,0,0,0,0,0,0,156,0,140,0,115,230,185,0,0,120,0,0,126,0,293,41,272,182,158,194,321,0,144,0,0,15,0,160,0,0,115,0,54,0,0,0,0,0,90,0,183,0,0,0,66,91,46,105,0,0,152,144,159,130,0,100,106,77,0,135,90,200,0,70,0,0,231,130,0,132,0,0,190,100,168,0,49,240,0,0,0,0,0,265,45,0,105,0,0,205,0,0,180,180,0,95,125,0,125,155,0,200,0,0,100,0,0,160,22,0,291,0,185,0,178,0,0,200,127,105,0,0,180,0,0,0,79,0,120,165,0,0,120,0,160,0,150,94,116,0,140,105,0,57,200,0,0,74,0,0,110,0,0,0,0,16,0,0,180,0,112,0,0],\"y0\":\" \",\"yaxis\":\"y\"}],                        {\"boxmode\":\"group\",\"legend\":{\"tracegroupgap\":0},\"margin\":{\"t\":60},\"template\":{\"data\":{\"bar\":[{\"error_x\":{\"color\":\"#2a3f5f\"},\"error_y\":{\"color\":\"#2a3f5f\"},\"marker\":{\"line\":{\"color\":\"#E5ECF6\",\"width\":0.5},\"pattern\":{\"fillmode\":\"overlay\",\"size\":10,\"solidity\":0.2}},\"type\":\"bar\"}],\"barpolar\":[{\"marker\":{\"line\":{\"color\":\"#E5ECF6\",\"width\":0.5},\"pattern\":{\"fillmode\":\"overlay\",\"size\":10,\"solidity\":0.2}},\"type\":\"barpolar\"}],\"carpet\":[{\"aaxis\":{\"endlinecolor\":\"#2a3f5f\",\"gridcolor\":\"white\",\"linecolor\":\"white\",\"minorgridcolor\":\"white\",\"startlinecolor\":\"#2a3f5f\"},\"baxis\":{\"endlinecolor\":\"#2a3f5f\",\"gridcolor\":\"white\",\"linecolor\":\"white\",\"minorgridcolor\":\"white\",\"startlinecolor\":\"#2a3f5f\"},\"type\":\"carpet\"}],\"choropleth\":[{\"colorbar\":{\"outlinewidth\":0,\"ticks\":\"\"},\"type\":\"choropleth\"}],\"contour\":[{\"colorbar\":{\"outlinewidth\":0,\"ticks\":\"\"},\"colorscale\":[[0.0,\"#0d0887\"],[0.1111111111111111,\"#46039f\"],[0.2222222222222222,\"#7201a8\"],[0.3333333333333333,\"#9c179e\"],[0.4444444444444444,\"#bd3786\"],[0.5555555555555556,\"#d8576b\"],[0.6666666666666666,\"#ed7953\"],[0.7777777777777778,\"#fb9f3a\"],[0.8888888888888888,\"#fdca26\"],[1.0,\"#f0f921\"]],\"type\":\"contour\"}],\"contourcarpet\":[{\"colorbar\":{\"outlinewidth\":0,\"ticks\":\"\"},\"type\":\"contourcarpet\"}],\"heatmap\":[{\"colorbar\":{\"outlinewidth\":0,\"ticks\":\"\"},\"colorscale\":[[0.0,\"#0d0887\"],[0.1111111111111111,\"#46039f\"],[0.2222222222222222,\"#7201a8\"],[0.3333333333333333,\"#9c179e\"],[0.4444444444444444,\"#bd3786\"],[0.5555555555555556,\"#d8576b\"],[0.6666666666666666,\"#ed7953\"],[0.7777777777777778,\"#fb9f3a\"],[0.8888888888888888,\"#fdca26\"],[1.0,\"#f0f921\"]],\"type\":\"heatmap\"}],\"heatmapgl\":[{\"colorbar\":{\"outlinewidth\":0,\"ticks\":\"\"},\"colorscale\":[[0.0,\"#0d0887\"],[0.1111111111111111,\"#46039f\"],[0.2222222222222222,\"#7201a8\"],[0.3333333333333333,\"#9c179e\"],[0.4444444444444444,\"#bd3786\"],[0.5555555555555556,\"#d8576b\"],[0.6666666666666666,\"#ed7953\"],[0.7777777777777778,\"#fb9f3a\"],[0.8888888888888888,\"#fdca26\"],[1.0,\"#f0f921\"]],\"type\":\"heatmapgl\"}],\"histogram\":[{\"marker\":{\"pattern\":{\"fillmode\":\"overlay\",\"size\":10,\"solidity\":0.2}},\"type\":\"histogram\"}],\"histogram2d\":[{\"colorbar\":{\"outlinewidth\":0,\"ticks\":\"\"},\"colorscale\":[[0.0,\"#0d0887\"],[0.1111111111111111,\"#46039f\"],[0.2222222222222222,\"#7201a8\"],[0.3333333333333333,\"#9c179e\"],[0.4444444444444444,\"#bd3786\"],[0.5555555555555556,\"#d8576b\"],[0.6666666666666666,\"#ed7953\"],[0.7777777777777778,\"#fb9f3a\"],[0.8888888888888888,\"#fdca26\"],[1.0,\"#f0f921\"]],\"type\":\"histogram2d\"}],\"histogram2dcontour\":[{\"colorbar\":{\"outlinewidth\":0,\"ticks\":\"\"},\"colorscale\":[[0.0,\"#0d0887\"],[0.1111111111111111,\"#46039f\"],[0.2222222222222222,\"#7201a8\"],[0.3333333333333333,\"#9c179e\"],[0.4444444444444444,\"#bd3786\"],[0.5555555555555556,\"#d8576b\"],[0.6666666666666666,\"#ed7953\"],[0.7777777777777778,\"#fb9f3a\"],[0.8888888888888888,\"#fdca26\"],[1.0,\"#f0f921\"]],\"type\":\"histogram2dcontour\"}],\"mesh3d\":[{\"colorbar\":{\"outlinewidth\":0,\"ticks\":\"\"},\"type\":\"mesh3d\"}],\"parcoords\":[{\"line\":{\"colorbar\":{\"outlinewidth\":0,\"ticks\":\"\"}},\"type\":\"parcoords\"}],\"pie\":[{\"automargin\":true,\"type\":\"pie\"}],\"scatter\":[{\"marker\":{\"colorbar\":{\"outlinewidth\":0,\"ticks\":\"\"}},\"type\":\"scatter\"}],\"scatter3d\":[{\"line\":{\"colorbar\":{\"outlinewidth\":0,\"ticks\":\"\"}},\"marker\":{\"colorbar\":{\"outlinewidth\":0,\"ticks\":\"\"}},\"type\":\"scatter3d\"}],\"scattercarpet\":[{\"marker\":{\"colorbar\":{\"outlinewidth\":0,\"ticks\":\"\"}},\"type\":\"scattercarpet\"}],\"scattergeo\":[{\"marker\":{\"colorbar\":{\"outlinewidth\":0,\"ticks\":\"\"}},\"type\":\"scattergeo\"}],\"scattergl\":[{\"marker\":{\"colorbar\":{\"outlinewidth\":0,\"ticks\":\"\"}},\"type\":\"scattergl\"}],\"scattermapbox\":[{\"marker\":{\"colorbar\":{\"outlinewidth\":0,\"ticks\":\"\"}},\"type\":\"scattermapbox\"}],\"scatterpolar\":[{\"marker\":{\"colorbar\":{\"outlinewidth\":0,\"ticks\":\"\"}},\"type\":\"scatterpolar\"}],\"scatterpolargl\":[{\"marker\":{\"colorbar\":{\"outlinewidth\":0,\"ticks\":\"\"}},\"type\":\"scatterpolargl\"}],\"scatterternary\":[{\"marker\":{\"colorbar\":{\"outlinewidth\":0,\"ticks\":\"\"}},\"type\":\"scatterternary\"}],\"surface\":[{\"colorbar\":{\"outlinewidth\":0,\"ticks\":\"\"},\"colorscale\":[[0.0,\"#0d0887\"],[0.1111111111111111,\"#46039f\"],[0.2222222222222222,\"#7201a8\"],[0.3333333333333333,\"#9c179e\"],[0.4444444444444444,\"#bd3786\"],[0.5555555555555556,\"#d8576b\"],[0.6666666666666666,\"#ed7953\"],[0.7777777777777778,\"#fb9f3a\"],[0.8888888888888888,\"#fdca26\"],[1.0,\"#f0f921\"]],\"type\":\"surface\"}],\"table\":[{\"cells\":{\"fill\":{\"color\":\"#EBF0F8\"},\"line\":{\"color\":\"white\"}},\"header\":{\"fill\":{\"color\":\"#C8D4E3\"},\"line\":{\"color\":\"white\"}},\"type\":\"table\"}]},\"layout\":{\"annotationdefaults\":{\"arrowcolor\":\"#2a3f5f\",\"arrowhead\":0,\"arrowwidth\":1},\"autotypenumbers\":\"strict\",\"coloraxis\":{\"colorbar\":{\"outlinewidth\":0,\"ticks\":\"\"}},\"colorscale\":{\"diverging\":[[0,\"#8e0152\"],[0.1,\"#c51b7d\"],[0.2,\"#de77ae\"],[0.3,\"#f1b6da\"],[0.4,\"#fde0ef\"],[0.5,\"#f7f7f7\"],[0.6,\"#e6f5d0\"],[0.7,\"#b8e186\"],[0.8,\"#7fbc41\"],[0.9,\"#4d9221\"],[1,\"#276419\"]],\"sequential\":[[0.0,\"#0d0887\"],[0.1111111111111111,\"#46039f\"],[0.2222222222222222,\"#7201a8\"],[0.3333333333333333,\"#9c179e\"],[0.4444444444444444,\"#bd3786\"],[0.5555555555555556,\"#d8576b\"],[0.6666666666666666,\"#ed7953\"],[0.7777777777777778,\"#fb9f3a\"],[0.8888888888888888,\"#fdca26\"],[1.0,\"#f0f921\"]],\"sequentialminus\":[[0.0,\"#0d0887\"],[0.1111111111111111,\"#46039f\"],[0.2222222222222222,\"#7201a8\"],[0.3333333333333333,\"#9c179e\"],[0.4444444444444444,\"#bd3786\"],[0.5555555555555556,\"#d8576b\"],[0.6666666666666666,\"#ed7953\"],[0.7777777777777778,\"#fb9f3a\"],[0.8888888888888888,\"#fdca26\"],[1.0,\"#f0f921\"]]},\"colorway\":[\"#636efa\",\"#EF553B\",\"#00cc96\",\"#ab63fa\",\"#FFA15A\",\"#19d3f3\",\"#FF6692\",\"#B6E880\",\"#FF97FF\",\"#FECB52\"],\"font\":{\"color\":\"#2a3f5f\"},\"geo\":{\"bgcolor\":\"white\",\"lakecolor\":\"white\",\"landcolor\":\"#E5ECF6\",\"showlakes\":true,\"showland\":true,\"subunitcolor\":\"white\"},\"hoverlabel\":{\"align\":\"left\"},\"hovermode\":\"closest\",\"mapbox\":{\"style\":\"light\"},\"paper_bgcolor\":\"white\",\"plot_bgcolor\":\"#E5ECF6\",\"polar\":{\"angularaxis\":{\"gridcolor\":\"white\",\"linecolor\":\"white\",\"ticks\":\"\"},\"bgcolor\":\"#E5ECF6\",\"radialaxis\":{\"gridcolor\":\"white\",\"linecolor\":\"white\",\"ticks\":\"\"}},\"scene\":{\"xaxis\":{\"backgroundcolor\":\"#E5ECF6\",\"gridcolor\":\"white\",\"gridwidth\":2,\"linecolor\":\"white\",\"showbackground\":true,\"ticks\":\"\",\"zerolinecolor\":\"white\"},\"yaxis\":{\"backgroundcolor\":\"#E5ECF6\",\"gridcolor\":\"white\",\"gridwidth\":2,\"linecolor\":\"white\",\"showbackground\":true,\"ticks\":\"\",\"zerolinecolor\":\"white\"},\"zaxis\":{\"backgroundcolor\":\"#E5ECF6\",\"gridcolor\":\"white\",\"gridwidth\":2,\"linecolor\":\"white\",\"showbackground\":true,\"ticks\":\"\",\"zerolinecolor\":\"white\"}},\"shapedefaults\":{\"line\":{\"color\":\"#2a3f5f\"}},\"ternary\":{\"aaxis\":{\"gridcolor\":\"white\",\"linecolor\":\"white\",\"ticks\":\"\"},\"baxis\":{\"gridcolor\":\"white\",\"linecolor\":\"white\",\"ticks\":\"\"},\"bgcolor\":\"#E5ECF6\",\"caxis\":{\"gridcolor\":\"white\",\"linecolor\":\"white\",\"ticks\":\"\"}},\"title\":{\"x\":0.05},\"xaxis\":{\"automargin\":true,\"gridcolor\":\"white\",\"linecolor\":\"white\",\"ticks\":\"\",\"title\":{\"standoff\":15},\"zerolinecolor\":\"white\",\"zerolinewidth\":2},\"yaxis\":{\"automargin\":true,\"gridcolor\":\"white\",\"linecolor\":\"white\",\"ticks\":\"\",\"title\":{\"standoff\":15},\"zerolinecolor\":\"white\",\"zerolinewidth\":2}}},\"xaxis\":{\"anchor\":\"y\",\"domain\":[0.0,1.0],\"title\":{\"text\":\"variable\"}},\"yaxis\":{\"anchor\":\"x\",\"domain\":[0.0,1.0],\"title\":{\"text\":\"value\"}}},                        {\"responsive\": true}                    ).then(function(){\n",
       "                            \n",
       "var gd = document.getElementById('53f331d6-82ae-4d7e-8640-d66e6a822a5a');\n",
       "var x = new MutationObserver(function (mutations, observer) {{\n",
       "        var display = window.getComputedStyle(gd).display;\n",
       "        if (!display || display === 'none') {{\n",
       "            console.log([gd, 'removed!']);\n",
       "            Plotly.purge(gd);\n",
       "            observer.disconnect();\n",
       "        }}\n",
       "}});\n",
       "\n",
       "// Listen for the removal of the full notebook cells\n",
       "var notebookContainer = gd.closest('#notebook-container');\n",
       "if (notebookContainer) {{\n",
       "    x.observe(notebookContainer, {childList: true});\n",
       "}}\n",
       "\n",
       "// Listen for the clearing of the current output cell\n",
       "var outputEl = gd.closest('.output');\n",
       "if (outputEl) {{\n",
       "    x.observe(outputEl, {childList: true});\n",
       "}}\n",
       "\n",
       "                        })                };                });            </script>        </div>"
      ]
     },
     "metadata": {},
     "output_type": "display_data"
    }
   ],
   "source": [
    "px.box(df['ins'])"
   ]
  },
  {
   "cell_type": "code",
   "execution_count": 113,
   "id": "7477cf9a",
   "metadata": {},
   "outputs": [
    {
     "data": {
      "application/vnd.plotly.v1+json": {
       "config": {
        "plotlyServerURL": "https://plot.ly"
       },
       "data": [
        {
         "alignmentgroup": "True",
         "hovertemplate": "variable=%{x}<br>value=%{y}<extra></extra>",
         "legendgroup": "",
         "marker": {
          "color": "#636efa"
         },
         "name": "",
         "notched": false,
         "offsetgroup": "",
         "orientation": "v",
         "showlegend": false,
         "type": "box",
         "x": [
          "bmi",
          "bmi",
          "bmi",
          "bmi",
          "bmi",
          "bmi",
          "bmi",
          "bmi",
          "bmi",
          "bmi",
          "bmi",
          "bmi",
          "bmi",
          "bmi",
          "bmi",
          "bmi",
          "bmi",
          "bmi",
          "bmi",
          "bmi",
          "bmi",
          "bmi",
          "bmi",
          "bmi",
          "bmi",
          "bmi",
          "bmi",
          "bmi",
          "bmi",
          "bmi",
          "bmi",
          "bmi",
          "bmi",
          "bmi",
          "bmi",
          "bmi",
          "bmi",
          "bmi",
          "bmi",
          "bmi",
          "bmi",
          "bmi",
          "bmi",
          "bmi",
          "bmi",
          "bmi",
          "bmi",
          "bmi",
          "bmi",
          "bmi",
          "bmi",
          "bmi",
          "bmi",
          "bmi",
          "bmi",
          "bmi",
          "bmi",
          "bmi",
          "bmi",
          "bmi",
          "bmi",
          "bmi",
          "bmi",
          "bmi",
          "bmi",
          "bmi",
          "bmi",
          "bmi",
          "bmi",
          "bmi",
          "bmi",
          "bmi",
          "bmi",
          "bmi",
          "bmi",
          "bmi",
          "bmi",
          "bmi",
          "bmi",
          "bmi",
          "bmi",
          "bmi",
          "bmi",
          "bmi",
          "bmi",
          "bmi",
          "bmi",
          "bmi",
          "bmi",
          "bmi",
          "bmi",
          "bmi",
          "bmi",
          "bmi",
          "bmi",
          "bmi",
          "bmi",
          "bmi",
          "bmi",
          "bmi",
          "bmi",
          "bmi",
          "bmi",
          "bmi",
          "bmi",
          "bmi",
          "bmi",
          "bmi",
          "bmi",
          "bmi",
          "bmi",
          "bmi",
          "bmi",
          "bmi",
          "bmi",
          "bmi",
          "bmi",
          "bmi",
          "bmi",
          "bmi",
          "bmi",
          "bmi",
          "bmi",
          "bmi",
          "bmi",
          "bmi",
          "bmi",
          "bmi",
          "bmi",
          "bmi",
          "bmi",
          "bmi",
          "bmi",
          "bmi",
          "bmi",
          "bmi",
          "bmi",
          "bmi",
          "bmi",
          "bmi",
          "bmi",
          "bmi",
          "bmi",
          "bmi",
          "bmi",
          "bmi",
          "bmi",
          "bmi",
          "bmi",
          "bmi",
          "bmi",
          "bmi",
          "bmi",
          "bmi",
          "bmi",
          "bmi",
          "bmi",
          "bmi",
          "bmi",
          "bmi",
          "bmi",
          "bmi",
          "bmi",
          "bmi",
          "bmi",
          "bmi",
          "bmi",
          "bmi",
          "bmi",
          "bmi",
          "bmi",
          "bmi",
          "bmi",
          "bmi",
          "bmi",
          "bmi",
          "bmi",
          "bmi",
          "bmi",
          "bmi",
          "bmi",
          "bmi",
          "bmi",
          "bmi",
          "bmi",
          "bmi",
          "bmi",
          "bmi",
          "bmi",
          "bmi",
          "bmi",
          "bmi",
          "bmi",
          "bmi",
          "bmi",
          "bmi",
          "bmi",
          "bmi",
          "bmi",
          "bmi",
          "bmi",
          "bmi",
          "bmi",
          "bmi",
          "bmi",
          "bmi",
          "bmi",
          "bmi",
          "bmi",
          "bmi",
          "bmi",
          "bmi",
          "bmi",
          "bmi",
          "bmi",
          "bmi",
          "bmi",
          "bmi",
          "bmi",
          "bmi",
          "bmi",
          "bmi",
          "bmi",
          "bmi",
          "bmi",
          "bmi",
          "bmi",
          "bmi",
          "bmi",
          "bmi",
          "bmi",
          "bmi",
          "bmi",
          "bmi",
          "bmi",
          "bmi",
          "bmi",
          "bmi",
          "bmi",
          "bmi",
          "bmi",
          "bmi",
          "bmi",
          "bmi",
          "bmi",
          "bmi",
          "bmi",
          "bmi",
          "bmi",
          "bmi",
          "bmi",
          "bmi",
          "bmi",
          "bmi",
          "bmi",
          "bmi",
          "bmi",
          "bmi",
          "bmi",
          "bmi",
          "bmi",
          "bmi",
          "bmi",
          "bmi",
          "bmi",
          "bmi",
          "bmi",
          "bmi",
          "bmi",
          "bmi",
          "bmi",
          "bmi",
          "bmi",
          "bmi",
          "bmi",
          "bmi",
          "bmi",
          "bmi",
          "bmi",
          "bmi",
          "bmi",
          "bmi",
          "bmi",
          "bmi",
          "bmi",
          "bmi",
          "bmi",
          "bmi",
          "bmi",
          "bmi",
          "bmi",
          "bmi",
          "bmi",
          "bmi",
          "bmi",
          "bmi",
          "bmi",
          "bmi",
          "bmi",
          "bmi",
          "bmi",
          "bmi",
          "bmi",
          "bmi",
          "bmi",
          "bmi",
          "bmi",
          "bmi",
          "bmi",
          "bmi",
          "bmi",
          "bmi",
          "bmi",
          "bmi",
          "bmi",
          "bmi",
          "bmi",
          "bmi",
          "bmi",
          "bmi",
          "bmi",
          "bmi",
          "bmi",
          "bmi",
          "bmi",
          "bmi",
          "bmi",
          "bmi",
          "bmi",
          "bmi",
          "bmi",
          "bmi",
          "bmi",
          "bmi",
          "bmi",
          "bmi",
          "bmi",
          "bmi",
          "bmi",
          "bmi",
          "bmi",
          "bmi",
          "bmi",
          "bmi",
          "bmi",
          "bmi",
          "bmi",
          "bmi",
          "bmi",
          "bmi",
          "bmi",
          "bmi",
          "bmi",
          "bmi",
          "bmi",
          "bmi",
          "bmi",
          "bmi",
          "bmi",
          "bmi",
          "bmi",
          "bmi",
          "bmi",
          "bmi",
          "bmi",
          "bmi",
          "bmi",
          "bmi",
          "bmi",
          "bmi",
          "bmi",
          "bmi",
          "bmi",
          "bmi",
          "bmi",
          "bmi",
          "bmi",
          "bmi",
          "bmi",
          "bmi",
          "bmi",
          "bmi",
          "bmi",
          "bmi",
          "bmi",
          "bmi",
          "bmi",
          "bmi",
          "bmi",
          "bmi",
          "bmi",
          "bmi",
          "bmi",
          "bmi",
          "bmi",
          "bmi",
          "bmi",
          "bmi",
          "bmi",
          "bmi",
          "bmi",
          "bmi",
          "bmi",
          "bmi",
          "bmi",
          "bmi",
          "bmi",
          "bmi",
          "bmi",
          "bmi",
          "bmi",
          "bmi",
          "bmi",
          "bmi",
          "bmi",
          "bmi",
          "bmi",
          "bmi",
          "bmi",
          "bmi",
          "bmi",
          "bmi",
          "bmi",
          "bmi",
          "bmi",
          "bmi",
          "bmi",
          "bmi",
          "bmi",
          "bmi",
          "bmi",
          "bmi",
          "bmi",
          "bmi",
          "bmi",
          "bmi",
          "bmi",
          "bmi",
          "bmi",
          "bmi",
          "bmi",
          "bmi",
          "bmi",
          "bmi",
          "bmi",
          "bmi",
          "bmi",
          "bmi",
          "bmi",
          "bmi",
          "bmi",
          "bmi",
          "bmi",
          "bmi",
          "bmi",
          "bmi",
          "bmi",
          "bmi",
          "bmi",
          "bmi",
          "bmi",
          "bmi",
          "bmi",
          "bmi",
          "bmi",
          "bmi",
          "bmi",
          "bmi",
          "bmi",
          "bmi",
          "bmi",
          "bmi",
          "bmi",
          "bmi",
          "bmi",
          "bmi",
          "bmi",
          "bmi",
          "bmi",
          "bmi",
          "bmi",
          "bmi",
          "bmi",
          "bmi",
          "bmi",
          "bmi",
          "bmi",
          "bmi",
          "bmi",
          "bmi",
          "bmi",
          "bmi",
          "bmi",
          "bmi",
          "bmi",
          "bmi",
          "bmi",
          "bmi",
          "bmi",
          "bmi",
          "bmi",
          "bmi",
          "bmi",
          "bmi",
          "bmi",
          "bmi",
          "bmi",
          "bmi",
          "bmi",
          "bmi",
          "bmi",
          "bmi",
          "bmi",
          "bmi",
          "bmi",
          "bmi",
          "bmi",
          "bmi",
          "bmi",
          "bmi",
          "bmi",
          "bmi",
          "bmi",
          "bmi",
          "bmi",
          "bmi",
          "bmi",
          "bmi",
          "bmi",
          "bmi",
          "bmi",
          "bmi",
          "bmi",
          "bmi",
          "bmi",
          "bmi",
          "bmi",
          "bmi",
          "bmi",
          "bmi",
          "bmi",
          "bmi",
          "bmi",
          "bmi",
          "bmi",
          "bmi",
          "bmi",
          "bmi",
          "bmi",
          "bmi",
          "bmi",
          "bmi",
          "bmi",
          "bmi",
          "bmi",
          "bmi",
          "bmi",
          "bmi",
          "bmi",
          "bmi",
          "bmi",
          "bmi",
          "bmi",
          "bmi",
          "bmi",
          "bmi",
          "bmi",
          "bmi",
          "bmi",
          "bmi",
          "bmi",
          "bmi",
          "bmi",
          "bmi",
          "bmi",
          "bmi",
          "bmi",
          "bmi",
          "bmi",
          "bmi",
          "bmi",
          "bmi",
          "bmi",
          "bmi",
          "bmi",
          "bmi",
          "bmi",
          "bmi",
          "bmi",
          "bmi",
          "bmi",
          "bmi",
          "bmi",
          "bmi",
          "bmi",
          "bmi",
          "bmi",
          "bmi",
          "bmi",
          "bmi",
          "bmi",
          "bmi",
          "bmi",
          "bmi",
          "bmi",
          "bmi",
          "bmi",
          "bmi",
          "bmi",
          "bmi",
          "bmi",
          "bmi",
          "bmi",
          "bmi",
          "bmi",
          "bmi",
          "bmi",
          "bmi",
          "bmi",
          "bmi",
          "bmi",
          "bmi",
          "bmi",
          "bmi",
          "bmi",
          "bmi",
          "bmi",
          "bmi",
          "bmi",
          "bmi",
          "bmi",
          "bmi",
          "bmi",
          "bmi",
          "bmi",
          "bmi",
          "bmi",
          "bmi",
          "bmi",
          "bmi",
          "bmi",
          "bmi",
          "bmi",
          "bmi",
          "bmi",
          "bmi",
          "bmi",
          "bmi",
          "bmi",
          "bmi",
          "bmi",
          "bmi",
          "bmi",
          "bmi",
          "bmi",
          "bmi",
          "bmi",
          "bmi",
          "bmi",
          "bmi",
          "bmi",
          "bmi",
          "bmi",
          "bmi",
          "bmi",
          "bmi",
          "bmi",
          "bmi",
          "bmi",
          "bmi",
          "bmi",
          "bmi",
          "bmi",
          "bmi",
          "bmi",
          "bmi",
          "bmi",
          "bmi",
          "bmi",
          "bmi",
          "bmi",
          "bmi",
          "bmi",
          "bmi",
          "bmi",
          "bmi"
         ],
         "x0": " ",
         "xaxis": "x",
         "y": [
          33.6,
          26.6,
          23.3,
          28.1,
          43.1,
          25.6,
          31,
          0,
          37.6,
          38,
          27.1,
          25.8,
          45.8,
          29.6,
          34.6,
          39.3,
          35.4,
          39.8,
          29,
          36.6,
          31.1,
          39.4,
          23.2,
          22.2,
          34.1,
          36,
          31.6,
          24.8,
          19.9,
          27.6,
          24,
          33.2,
          32.9,
          38.2,
          37.1,
          34,
          40.2,
          22.7,
          27.4,
          42,
          29.7,
          28,
          39.1,
          19.4,
          24.2,
          24.4,
          33.7,
          23,
          37.7,
          46.8,
          40.5,
          41.5,
          32.9,
          25,
          25.4,
          32.8,
          29,
          32.5,
          42.7,
          19.6,
          28.9,
          32.9,
          28.6,
          43.4,
          35.1,
          32,
          32.6,
          37.7,
          25,
          22.4,
          29.3,
          24.6,
          32.4,
          36.6,
          38.5,
          26.5,
          19.1,
          32,
          46.7,
          23.8,
          24.7,
          33.9,
          31.6,
          20.4,
          28.7,
          49.7,
          39,
          26.1,
          22.5,
          26.6,
          39.6,
          28.7,
          29.5,
          34.3,
          37.4,
          33.3,
          31.2,
          34,
          30.5,
          31.2,
          34,
          33.7,
          28.2,
          23.2,
          53.2,
          34.2,
          33.6,
          26.8,
          33.3,
          42.9,
          33.3,
          34.5,
          27.9,
          29.7,
          33.3,
          34.5,
          38.3,
          21.1,
          33.8,
          30.8,
          28.7,
          31.2,
          36.9,
          21.1,
          39.5,
          32.5,
          32.4,
          32.8,
          0,
          32.8,
          30.5,
          33.7,
          27.3,
          37.4,
          21.9,
          34.3,
          47.9,
          50,
          24.6,
          25.2,
          29,
          29.7,
          37.2,
          44.2,
          29.7,
          31.6,
          29.9,
          32.5,
          29.6,
          31.9,
          28.4,
          30.8,
          35.4,
          43.5,
          29.7,
          32.7,
          31.2,
          45,
          39.1,
          23.2,
          34.9,
          26.8,
          27.6,
          35.9,
          32,
          27.9,
          31.6,
          22.6,
          33.1,
          30.4,
          24.4,
          39.4,
          24.3,
          22.9,
          34.8,
          30.9,
          31,
          40.1,
          27.3,
          20.4,
          37.7,
          23.9,
          37.5,
          37.7,
          33.2,
          35.5,
          27.7,
          42.8,
          34.2,
          42.6,
          34.2,
          41.8,
          35.8,
          30,
          29,
          37.8,
          31.6,
          28.8,
          23.6,
          34.6,
          35.7,
          37.2,
          45.2,
          44,
          25.4,
          35,
          29.7,
          43.6,
          35.9,
          44.1,
          30.8,
          18.4,
          29.2,
          33.1,
          25.6,
          27.1,
          38.2,
          30,
          31.2,
          30.1,
          31.2,
          28,
          24.4,
          35.8,
          27.6,
          33.6,
          30.1,
          28.7,
          33.3,
          30.9,
          32.1,
          32.4,
          32,
          33.6,
          40,
          25.1,
          45.6,
          25.2,
          23,
          33.2,
          34.2,
          40.5,
          26.5,
          27.8,
          24.9,
          25.3,
          37.9,
          35.9,
          32.4,
          30.4,
          27,
          26,
          45.6,
          20.8,
          36.1,
          36.9,
          36.6,
          43.3,
          40.5,
          21.9,
          35.5,
          30.7,
          23.6,
          31.6,
          35.8,
          52.9,
          21,
          39.7,
          25.5,
          24.8,
          30.5,
          32.9,
          26.2,
          39.4,
          26.6,
          29.5,
          35.9,
          34.1,
          19.3,
          30.5,
          38.1,
          23.5,
          27.5,
          31.6,
          27.4,
          26.8,
          35.7,
          25.6,
          35.1,
          35.1,
          45.5,
          30.8,
          23.1,
          32.7,
          23.6,
          23.9,
          47.9,
          31.2,
          34.2,
          39.9,
          25.9,
          25.9,
          34.7,
          36.8,
          38.5,
          28.7,
          21.8,
          42.2,
          31.2,
          34.4,
          27.2,
          42.7,
          30.4,
          33.3,
          35.3,
          36.5,
          31.2,
          29.8,
          38.5,
          34.9,
          34,
          27.6,
          21,
          27.5,
          32.8,
          0,
          35.8,
          34.9,
          36.2,
          39.2,
          25.2,
          37.2,
          48.3,
          43.4,
          30.8,
          20,
          25.4,
          25.1,
          24.3,
          22.3,
          32.3,
          43.3,
          32,
          31.6,
          32,
          45.7,
          22.1,
          32.9,
          27.7,
          24.7,
          34.3,
          21.1,
          34.9,
          32,
          24.2,
          35,
          31.6,
          32.9,
          42.1,
          28.9,
          21.9,
          25.9,
          35.7,
          34.4,
          42.4,
          26.2,
          34.6,
          27.2,
          38.5,
          18.2,
          26.4,
          45.3,
          26,
          40.6,
          30.8,
          42.9,
          37,
          34.1,
          40.6,
          35,
          30.4,
          30,
          25.6,
          24.5,
          37.4,
          29.9,
          18.2,
          36.8,
          34.3,
          32.2,
          33.2,
          30.5,
          29.7,
          59.4,
          25.3,
          36.5,
          33.6,
          30.5,
          21.2,
          28.9,
          39.9,
          37.8,
          26.7,
          30.2,
          37.6,
          25.9,
          20.8,
          21.8,
          35.3,
          27.6,
          24,
          21.8,
          27.8,
          36.8,
          46.1,
          41.3,
          33.2,
          38.8,
          29.9,
          28.9,
          27.3,
          33.7,
          23.8,
          25.9,
          28,
          35.5,
          35.2,
          27.8,
          38.2,
          42.3,
          46.5,
          25.6,
          26.1,
          36.8,
          33.5,
          32.8,
          28.9,
          26.6,
          26,
          30.1,
          25.1,
          29.3,
          25.2,
          37.2,
          33.3,
          37.3,
          33.3,
          36.5,
          28.6,
          30.4,
          25,
          29.7,
          22.1,
          24.2,
          27.3,
          25.6,
          31.6,
          30.3,
          37.6,
          32.8,
          19.6,
          25,
          33.2,
          34.2,
          31.6,
          21.8,
          18.2,
          26.3,
          30.8,
          24.6,
          29.8,
          45.3,
          41.3,
          33.3,
          29.6,
          21.7,
          36.3,
          36.4,
          39.4,
          32.4,
          34.9,
          39.5,
          32,
          34.5,
          43.6,
          33.1,
          32.8,
          27.4,
          31.9,
          27.8,
          29.9,
          36.9,
          25.5,
          38.1,
          27.8,
          46.2,
          30.1,
          33.8,
          41.3,
          37.6,
          26.9,
          32.4,
          26.1,
          38.6,
          32,
          31.3,
          34.3,
          32.5,
          22.6,
          29.5,
          34.7,
          30.1,
          35.5,
          24,
          42.9,
          27,
          42.1,
          25,
          26.5,
          38.7,
          22.5,
          34.9,
          24.3,
          33.3,
          46.8,
          39.4,
          34.4,
          28.5,
          33.6,
          32,
          45.3,
          36.8,
          23.1,
          27.1,
          27.8,
          35.2,
          35.8,
          40,
          19.5,
          41.5,
          24,
          30.9,
          32.9,
          38.2,
          32.5,
          36.1,
          25.8,
          28.7,
          20.1,
          28.2,
          38.4,
          24.2,
          40.8,
          43.5,
          30.8,
          37.7,
          24.7,
          32.4,
          34.6,
          24.7,
          27.4,
          34.5,
          26.2,
          27.5,
          25.9,
          31.2,
          28.8,
          31.6,
          40.9,
          19.5,
          29.3,
          34.3,
          29.5,
          27.6,
          23.4,
          37.8,
          28.3,
          26.4,
          25.2,
          33.8,
          34.1,
          26.8,
          34.2,
          21.8,
          38.9,
          39,
          34.2,
          27.7,
          42.9,
          37.6,
          37.9,
          33.7,
          34.8,
          32.5,
          27.5,
          34,
          30.9,
          33.6,
          25.4,
          35.5,
          57.3,
          35.6,
          30.9,
          24.8,
          35.3,
          36,
          24.2,
          24.2,
          49.6,
          44.6,
          32.3,
          0,
          33.2,
          23.1,
          28.3,
          24.1,
          46.1,
          24.6,
          39.1,
          38.5,
          23.5,
          29.9,
          34.5,
          44.5,
          35.9,
          27.6,
          35,
          28.4,
          39.8,
          32.8,
          38,
          29.6,
          41.2,
          26.4,
          29.5,
          33.8,
          23.1,
          35.5,
          35.6,
          29.3,
          38.1,
          29.3,
          39.1,
          32.8,
          39.4,
          36.1,
          32.4,
          22.9,
          30.1,
          28.4,
          28.4,
          44.5,
          29,
          23.3,
          35.4,
          27.4,
          32,
          36.6,
          39.5,
          42.3,
          30.8,
          28.5,
          32.7,
          40.6,
          30,
          49.3,
          46.3,
          36.4,
          24.3,
          31.2,
          39,
          26,
          32.4,
          36.5,
          32,
          36.3,
          37.5,
          35.5,
          28.4,
          44,
          22.5,
          32.9,
          36.8,
          26.2,
          30.1,
          30.4
         ],
         "y0": " ",
         "yaxis": "y"
        }
       ],
       "layout": {
        "boxmode": "group",
        "legend": {
         "tracegroupgap": 0
        },
        "margin": {
         "t": 60
        },
        "template": {
         "data": {
          "bar": [
           {
            "error_x": {
             "color": "#2a3f5f"
            },
            "error_y": {
             "color": "#2a3f5f"
            },
            "marker": {
             "line": {
              "color": "#E5ECF6",
              "width": 0.5
             },
             "pattern": {
              "fillmode": "overlay",
              "size": 10,
              "solidity": 0.2
             }
            },
            "type": "bar"
           }
          ],
          "barpolar": [
           {
            "marker": {
             "line": {
              "color": "#E5ECF6",
              "width": 0.5
             },
             "pattern": {
              "fillmode": "overlay",
              "size": 10,
              "solidity": 0.2
             }
            },
            "type": "barpolar"
           }
          ],
          "carpet": [
           {
            "aaxis": {
             "endlinecolor": "#2a3f5f",
             "gridcolor": "white",
             "linecolor": "white",
             "minorgridcolor": "white",
             "startlinecolor": "#2a3f5f"
            },
            "baxis": {
             "endlinecolor": "#2a3f5f",
             "gridcolor": "white",
             "linecolor": "white",
             "minorgridcolor": "white",
             "startlinecolor": "#2a3f5f"
            },
            "type": "carpet"
           }
          ],
          "choropleth": [
           {
            "colorbar": {
             "outlinewidth": 0,
             "ticks": ""
            },
            "type": "choropleth"
           }
          ],
          "contour": [
           {
            "colorbar": {
             "outlinewidth": 0,
             "ticks": ""
            },
            "colorscale": [
             [
              0,
              "#0d0887"
             ],
             [
              0.1111111111111111,
              "#46039f"
             ],
             [
              0.2222222222222222,
              "#7201a8"
             ],
             [
              0.3333333333333333,
              "#9c179e"
             ],
             [
              0.4444444444444444,
              "#bd3786"
             ],
             [
              0.5555555555555556,
              "#d8576b"
             ],
             [
              0.6666666666666666,
              "#ed7953"
             ],
             [
              0.7777777777777778,
              "#fb9f3a"
             ],
             [
              0.8888888888888888,
              "#fdca26"
             ],
             [
              1,
              "#f0f921"
             ]
            ],
            "type": "contour"
           }
          ],
          "contourcarpet": [
           {
            "colorbar": {
             "outlinewidth": 0,
             "ticks": ""
            },
            "type": "contourcarpet"
           }
          ],
          "heatmap": [
           {
            "colorbar": {
             "outlinewidth": 0,
             "ticks": ""
            },
            "colorscale": [
             [
              0,
              "#0d0887"
             ],
             [
              0.1111111111111111,
              "#46039f"
             ],
             [
              0.2222222222222222,
              "#7201a8"
             ],
             [
              0.3333333333333333,
              "#9c179e"
             ],
             [
              0.4444444444444444,
              "#bd3786"
             ],
             [
              0.5555555555555556,
              "#d8576b"
             ],
             [
              0.6666666666666666,
              "#ed7953"
             ],
             [
              0.7777777777777778,
              "#fb9f3a"
             ],
             [
              0.8888888888888888,
              "#fdca26"
             ],
             [
              1,
              "#f0f921"
             ]
            ],
            "type": "heatmap"
           }
          ],
          "heatmapgl": [
           {
            "colorbar": {
             "outlinewidth": 0,
             "ticks": ""
            },
            "colorscale": [
             [
              0,
              "#0d0887"
             ],
             [
              0.1111111111111111,
              "#46039f"
             ],
             [
              0.2222222222222222,
              "#7201a8"
             ],
             [
              0.3333333333333333,
              "#9c179e"
             ],
             [
              0.4444444444444444,
              "#bd3786"
             ],
             [
              0.5555555555555556,
              "#d8576b"
             ],
             [
              0.6666666666666666,
              "#ed7953"
             ],
             [
              0.7777777777777778,
              "#fb9f3a"
             ],
             [
              0.8888888888888888,
              "#fdca26"
             ],
             [
              1,
              "#f0f921"
             ]
            ],
            "type": "heatmapgl"
           }
          ],
          "histogram": [
           {
            "marker": {
             "pattern": {
              "fillmode": "overlay",
              "size": 10,
              "solidity": 0.2
             }
            },
            "type": "histogram"
           }
          ],
          "histogram2d": [
           {
            "colorbar": {
             "outlinewidth": 0,
             "ticks": ""
            },
            "colorscale": [
             [
              0,
              "#0d0887"
             ],
             [
              0.1111111111111111,
              "#46039f"
             ],
             [
              0.2222222222222222,
              "#7201a8"
             ],
             [
              0.3333333333333333,
              "#9c179e"
             ],
             [
              0.4444444444444444,
              "#bd3786"
             ],
             [
              0.5555555555555556,
              "#d8576b"
             ],
             [
              0.6666666666666666,
              "#ed7953"
             ],
             [
              0.7777777777777778,
              "#fb9f3a"
             ],
             [
              0.8888888888888888,
              "#fdca26"
             ],
             [
              1,
              "#f0f921"
             ]
            ],
            "type": "histogram2d"
           }
          ],
          "histogram2dcontour": [
           {
            "colorbar": {
             "outlinewidth": 0,
             "ticks": ""
            },
            "colorscale": [
             [
              0,
              "#0d0887"
             ],
             [
              0.1111111111111111,
              "#46039f"
             ],
             [
              0.2222222222222222,
              "#7201a8"
             ],
             [
              0.3333333333333333,
              "#9c179e"
             ],
             [
              0.4444444444444444,
              "#bd3786"
             ],
             [
              0.5555555555555556,
              "#d8576b"
             ],
             [
              0.6666666666666666,
              "#ed7953"
             ],
             [
              0.7777777777777778,
              "#fb9f3a"
             ],
             [
              0.8888888888888888,
              "#fdca26"
             ],
             [
              1,
              "#f0f921"
             ]
            ],
            "type": "histogram2dcontour"
           }
          ],
          "mesh3d": [
           {
            "colorbar": {
             "outlinewidth": 0,
             "ticks": ""
            },
            "type": "mesh3d"
           }
          ],
          "parcoords": [
           {
            "line": {
             "colorbar": {
              "outlinewidth": 0,
              "ticks": ""
             }
            },
            "type": "parcoords"
           }
          ],
          "pie": [
           {
            "automargin": true,
            "type": "pie"
           }
          ],
          "scatter": [
           {
            "marker": {
             "colorbar": {
              "outlinewidth": 0,
              "ticks": ""
             }
            },
            "type": "scatter"
           }
          ],
          "scatter3d": [
           {
            "line": {
             "colorbar": {
              "outlinewidth": 0,
              "ticks": ""
             }
            },
            "marker": {
             "colorbar": {
              "outlinewidth": 0,
              "ticks": ""
             }
            },
            "type": "scatter3d"
           }
          ],
          "scattercarpet": [
           {
            "marker": {
             "colorbar": {
              "outlinewidth": 0,
              "ticks": ""
             }
            },
            "type": "scattercarpet"
           }
          ],
          "scattergeo": [
           {
            "marker": {
             "colorbar": {
              "outlinewidth": 0,
              "ticks": ""
             }
            },
            "type": "scattergeo"
           }
          ],
          "scattergl": [
           {
            "marker": {
             "colorbar": {
              "outlinewidth": 0,
              "ticks": ""
             }
            },
            "type": "scattergl"
           }
          ],
          "scattermapbox": [
           {
            "marker": {
             "colorbar": {
              "outlinewidth": 0,
              "ticks": ""
             }
            },
            "type": "scattermapbox"
           }
          ],
          "scatterpolar": [
           {
            "marker": {
             "colorbar": {
              "outlinewidth": 0,
              "ticks": ""
             }
            },
            "type": "scatterpolar"
           }
          ],
          "scatterpolargl": [
           {
            "marker": {
             "colorbar": {
              "outlinewidth": 0,
              "ticks": ""
             }
            },
            "type": "scatterpolargl"
           }
          ],
          "scatterternary": [
           {
            "marker": {
             "colorbar": {
              "outlinewidth": 0,
              "ticks": ""
             }
            },
            "type": "scatterternary"
           }
          ],
          "surface": [
           {
            "colorbar": {
             "outlinewidth": 0,
             "ticks": ""
            },
            "colorscale": [
             [
              0,
              "#0d0887"
             ],
             [
              0.1111111111111111,
              "#46039f"
             ],
             [
              0.2222222222222222,
              "#7201a8"
             ],
             [
              0.3333333333333333,
              "#9c179e"
             ],
             [
              0.4444444444444444,
              "#bd3786"
             ],
             [
              0.5555555555555556,
              "#d8576b"
             ],
             [
              0.6666666666666666,
              "#ed7953"
             ],
             [
              0.7777777777777778,
              "#fb9f3a"
             ],
             [
              0.8888888888888888,
              "#fdca26"
             ],
             [
              1,
              "#f0f921"
             ]
            ],
            "type": "surface"
           }
          ],
          "table": [
           {
            "cells": {
             "fill": {
              "color": "#EBF0F8"
             },
             "line": {
              "color": "white"
             }
            },
            "header": {
             "fill": {
              "color": "#C8D4E3"
             },
             "line": {
              "color": "white"
             }
            },
            "type": "table"
           }
          ]
         },
         "layout": {
          "annotationdefaults": {
           "arrowcolor": "#2a3f5f",
           "arrowhead": 0,
           "arrowwidth": 1
          },
          "autotypenumbers": "strict",
          "coloraxis": {
           "colorbar": {
            "outlinewidth": 0,
            "ticks": ""
           }
          },
          "colorscale": {
           "diverging": [
            [
             0,
             "#8e0152"
            ],
            [
             0.1,
             "#c51b7d"
            ],
            [
             0.2,
             "#de77ae"
            ],
            [
             0.3,
             "#f1b6da"
            ],
            [
             0.4,
             "#fde0ef"
            ],
            [
             0.5,
             "#f7f7f7"
            ],
            [
             0.6,
             "#e6f5d0"
            ],
            [
             0.7,
             "#b8e186"
            ],
            [
             0.8,
             "#7fbc41"
            ],
            [
             0.9,
             "#4d9221"
            ],
            [
             1,
             "#276419"
            ]
           ],
           "sequential": [
            [
             0,
             "#0d0887"
            ],
            [
             0.1111111111111111,
             "#46039f"
            ],
            [
             0.2222222222222222,
             "#7201a8"
            ],
            [
             0.3333333333333333,
             "#9c179e"
            ],
            [
             0.4444444444444444,
             "#bd3786"
            ],
            [
             0.5555555555555556,
             "#d8576b"
            ],
            [
             0.6666666666666666,
             "#ed7953"
            ],
            [
             0.7777777777777778,
             "#fb9f3a"
            ],
            [
             0.8888888888888888,
             "#fdca26"
            ],
            [
             1,
             "#f0f921"
            ]
           ],
           "sequentialminus": [
            [
             0,
             "#0d0887"
            ],
            [
             0.1111111111111111,
             "#46039f"
            ],
            [
             0.2222222222222222,
             "#7201a8"
            ],
            [
             0.3333333333333333,
             "#9c179e"
            ],
            [
             0.4444444444444444,
             "#bd3786"
            ],
            [
             0.5555555555555556,
             "#d8576b"
            ],
            [
             0.6666666666666666,
             "#ed7953"
            ],
            [
             0.7777777777777778,
             "#fb9f3a"
            ],
            [
             0.8888888888888888,
             "#fdca26"
            ],
            [
             1,
             "#f0f921"
            ]
           ]
          },
          "colorway": [
           "#636efa",
           "#EF553B",
           "#00cc96",
           "#ab63fa",
           "#FFA15A",
           "#19d3f3",
           "#FF6692",
           "#B6E880",
           "#FF97FF",
           "#FECB52"
          ],
          "font": {
           "color": "#2a3f5f"
          },
          "geo": {
           "bgcolor": "white",
           "lakecolor": "white",
           "landcolor": "#E5ECF6",
           "showlakes": true,
           "showland": true,
           "subunitcolor": "white"
          },
          "hoverlabel": {
           "align": "left"
          },
          "hovermode": "closest",
          "mapbox": {
           "style": "light"
          },
          "paper_bgcolor": "white",
          "plot_bgcolor": "#E5ECF6",
          "polar": {
           "angularaxis": {
            "gridcolor": "white",
            "linecolor": "white",
            "ticks": ""
           },
           "bgcolor": "#E5ECF6",
           "radialaxis": {
            "gridcolor": "white",
            "linecolor": "white",
            "ticks": ""
           }
          },
          "scene": {
           "xaxis": {
            "backgroundcolor": "#E5ECF6",
            "gridcolor": "white",
            "gridwidth": 2,
            "linecolor": "white",
            "showbackground": true,
            "ticks": "",
            "zerolinecolor": "white"
           },
           "yaxis": {
            "backgroundcolor": "#E5ECF6",
            "gridcolor": "white",
            "gridwidth": 2,
            "linecolor": "white",
            "showbackground": true,
            "ticks": "",
            "zerolinecolor": "white"
           },
           "zaxis": {
            "backgroundcolor": "#E5ECF6",
            "gridcolor": "white",
            "gridwidth": 2,
            "linecolor": "white",
            "showbackground": true,
            "ticks": "",
            "zerolinecolor": "white"
           }
          },
          "shapedefaults": {
           "line": {
            "color": "#2a3f5f"
           }
          },
          "ternary": {
           "aaxis": {
            "gridcolor": "white",
            "linecolor": "white",
            "ticks": ""
           },
           "baxis": {
            "gridcolor": "white",
            "linecolor": "white",
            "ticks": ""
           },
           "bgcolor": "#E5ECF6",
           "caxis": {
            "gridcolor": "white",
            "linecolor": "white",
            "ticks": ""
           }
          },
          "title": {
           "x": 0.05
          },
          "xaxis": {
           "automargin": true,
           "gridcolor": "white",
           "linecolor": "white",
           "ticks": "",
           "title": {
            "standoff": 15
           },
           "zerolinecolor": "white",
           "zerolinewidth": 2
          },
          "yaxis": {
           "automargin": true,
           "gridcolor": "white",
           "linecolor": "white",
           "ticks": "",
           "title": {
            "standoff": 15
           },
           "zerolinecolor": "white",
           "zerolinewidth": 2
          }
         }
        },
        "xaxis": {
         "anchor": "y",
         "domain": [
          0,
          1
         ],
         "title": {
          "text": "variable"
         }
        },
        "yaxis": {
         "anchor": "x",
         "domain": [
          0,
          1
         ],
         "title": {
          "text": "value"
         }
        }
       }
      },
      "text/html": [
       "<div>                            <div id=\"5eb7bc4c-188c-4028-97b0-c0520e8ff622\" class=\"plotly-graph-div\" style=\"height:525px; width:100%;\"></div>            <script type=\"text/javascript\">                require([\"plotly\"], function(Plotly) {                    window.PLOTLYENV=window.PLOTLYENV || {};                                    if (document.getElementById(\"5eb7bc4c-188c-4028-97b0-c0520e8ff622\")) {                    Plotly.newPlot(                        \"5eb7bc4c-188c-4028-97b0-c0520e8ff622\",                        [{\"alignmentgroup\":\"True\",\"hovertemplate\":\"variable=%{x}<br>value=%{y}<extra></extra>\",\"legendgroup\":\"\",\"marker\":{\"color\":\"#636efa\"},\"name\":\"\",\"notched\":false,\"offsetgroup\":\"\",\"orientation\":\"v\",\"showlegend\":false,\"type\":\"box\",\"x\":[\"bmi\",\"bmi\",\"bmi\",\"bmi\",\"bmi\",\"bmi\",\"bmi\",\"bmi\",\"bmi\",\"bmi\",\"bmi\",\"bmi\",\"bmi\",\"bmi\",\"bmi\",\"bmi\",\"bmi\",\"bmi\",\"bmi\",\"bmi\",\"bmi\",\"bmi\",\"bmi\",\"bmi\",\"bmi\",\"bmi\",\"bmi\",\"bmi\",\"bmi\",\"bmi\",\"bmi\",\"bmi\",\"bmi\",\"bmi\",\"bmi\",\"bmi\",\"bmi\",\"bmi\",\"bmi\",\"bmi\",\"bmi\",\"bmi\",\"bmi\",\"bmi\",\"bmi\",\"bmi\",\"bmi\",\"bmi\",\"bmi\",\"bmi\",\"bmi\",\"bmi\",\"bmi\",\"bmi\",\"bmi\",\"bmi\",\"bmi\",\"bmi\",\"bmi\",\"bmi\",\"bmi\",\"bmi\",\"bmi\",\"bmi\",\"bmi\",\"bmi\",\"bmi\",\"bmi\",\"bmi\",\"bmi\",\"bmi\",\"bmi\",\"bmi\",\"bmi\",\"bmi\",\"bmi\",\"bmi\",\"bmi\",\"bmi\",\"bmi\",\"bmi\",\"bmi\",\"bmi\",\"bmi\",\"bmi\",\"bmi\",\"bmi\",\"bmi\",\"bmi\",\"bmi\",\"bmi\",\"bmi\",\"bmi\",\"bmi\",\"bmi\",\"bmi\",\"bmi\",\"bmi\",\"bmi\",\"bmi\",\"bmi\",\"bmi\",\"bmi\",\"bmi\",\"bmi\",\"bmi\",\"bmi\",\"bmi\",\"bmi\",\"bmi\",\"bmi\",\"bmi\",\"bmi\",\"bmi\",\"bmi\",\"bmi\",\"bmi\",\"bmi\",\"bmi\",\"bmi\",\"bmi\",\"bmi\",\"bmi\",\"bmi\",\"bmi\",\"bmi\",\"bmi\",\"bmi\",\"bmi\",\"bmi\",\"bmi\",\"bmi\",\"bmi\",\"bmi\",\"bmi\",\"bmi\",\"bmi\",\"bmi\",\"bmi\",\"bmi\",\"bmi\",\"bmi\",\"bmi\",\"bmi\",\"bmi\",\"bmi\",\"bmi\",\"bmi\",\"bmi\",\"bmi\",\"bmi\",\"bmi\",\"bmi\",\"bmi\",\"bmi\",\"bmi\",\"bmi\",\"bmi\",\"bmi\",\"bmi\",\"bmi\",\"bmi\",\"bmi\",\"bmi\",\"bmi\",\"bmi\",\"bmi\",\"bmi\",\"bmi\",\"bmi\",\"bmi\",\"bmi\",\"bmi\",\"bmi\",\"bmi\",\"bmi\",\"bmi\",\"bmi\",\"bmi\",\"bmi\",\"bmi\",\"bmi\",\"bmi\",\"bmi\",\"bmi\",\"bmi\",\"bmi\",\"bmi\",\"bmi\",\"bmi\",\"bmi\",\"bmi\",\"bmi\",\"bmi\",\"bmi\",\"bmi\",\"bmi\",\"bmi\",\"bmi\",\"bmi\",\"bmi\",\"bmi\",\"bmi\",\"bmi\",\"bmi\",\"bmi\",\"bmi\",\"bmi\",\"bmi\",\"bmi\",\"bmi\",\"bmi\",\"bmi\",\"bmi\",\"bmi\",\"bmi\",\"bmi\",\"bmi\",\"bmi\",\"bmi\",\"bmi\",\"bmi\",\"bmi\",\"bmi\",\"bmi\",\"bmi\",\"bmi\",\"bmi\",\"bmi\",\"bmi\",\"bmi\",\"bmi\",\"bmi\",\"bmi\",\"bmi\",\"bmi\",\"bmi\",\"bmi\",\"bmi\",\"bmi\",\"bmi\",\"bmi\",\"bmi\",\"bmi\",\"bmi\",\"bmi\",\"bmi\",\"bmi\",\"bmi\",\"bmi\",\"bmi\",\"bmi\",\"bmi\",\"bmi\",\"bmi\",\"bmi\",\"bmi\",\"bmi\",\"bmi\",\"bmi\",\"bmi\",\"bmi\",\"bmi\",\"bmi\",\"bmi\",\"bmi\",\"bmi\",\"bmi\",\"bmi\",\"bmi\",\"bmi\",\"bmi\",\"bmi\",\"bmi\",\"bmi\",\"bmi\",\"bmi\",\"bmi\",\"bmi\",\"bmi\",\"bmi\",\"bmi\",\"bmi\",\"bmi\",\"bmi\",\"bmi\",\"bmi\",\"bmi\",\"bmi\",\"bmi\",\"bmi\",\"bmi\",\"bmi\",\"bmi\",\"bmi\",\"bmi\",\"bmi\",\"bmi\",\"bmi\",\"bmi\",\"bmi\",\"bmi\",\"bmi\",\"bmi\",\"bmi\",\"bmi\",\"bmi\",\"bmi\",\"bmi\",\"bmi\",\"bmi\",\"bmi\",\"bmi\",\"bmi\",\"bmi\",\"bmi\",\"bmi\",\"bmi\",\"bmi\",\"bmi\",\"bmi\",\"bmi\",\"bmi\",\"bmi\",\"bmi\",\"bmi\",\"bmi\",\"bmi\",\"bmi\",\"bmi\",\"bmi\",\"bmi\",\"bmi\",\"bmi\",\"bmi\",\"bmi\",\"bmi\",\"bmi\",\"bmi\",\"bmi\",\"bmi\",\"bmi\",\"bmi\",\"bmi\",\"bmi\",\"bmi\",\"bmi\",\"bmi\",\"bmi\",\"bmi\",\"bmi\",\"bmi\",\"bmi\",\"bmi\",\"bmi\",\"bmi\",\"bmi\",\"bmi\",\"bmi\",\"bmi\",\"bmi\",\"bmi\",\"bmi\",\"bmi\",\"bmi\",\"bmi\",\"bmi\",\"bmi\",\"bmi\",\"bmi\",\"bmi\",\"bmi\",\"bmi\",\"bmi\",\"bmi\",\"bmi\",\"bmi\",\"bmi\",\"bmi\",\"bmi\",\"bmi\",\"bmi\",\"bmi\",\"bmi\",\"bmi\",\"bmi\",\"bmi\",\"bmi\",\"bmi\",\"bmi\",\"bmi\",\"bmi\",\"bmi\",\"bmi\",\"bmi\",\"bmi\",\"bmi\",\"bmi\",\"bmi\",\"bmi\",\"bmi\",\"bmi\",\"bmi\",\"bmi\",\"bmi\",\"bmi\",\"bmi\",\"bmi\",\"bmi\",\"bmi\",\"bmi\",\"bmi\",\"bmi\",\"bmi\",\"bmi\",\"bmi\",\"bmi\",\"bmi\",\"bmi\",\"bmi\",\"bmi\",\"bmi\",\"bmi\",\"bmi\",\"bmi\",\"bmi\",\"bmi\",\"bmi\",\"bmi\",\"bmi\",\"bmi\",\"bmi\",\"bmi\",\"bmi\",\"bmi\",\"bmi\",\"bmi\",\"bmi\",\"bmi\",\"bmi\",\"bmi\",\"bmi\",\"bmi\",\"bmi\",\"bmi\",\"bmi\",\"bmi\",\"bmi\",\"bmi\",\"bmi\",\"bmi\",\"bmi\",\"bmi\",\"bmi\",\"bmi\",\"bmi\",\"bmi\",\"bmi\",\"bmi\",\"bmi\",\"bmi\",\"bmi\",\"bmi\",\"bmi\",\"bmi\",\"bmi\",\"bmi\",\"bmi\",\"bmi\",\"bmi\",\"bmi\",\"bmi\",\"bmi\",\"bmi\",\"bmi\",\"bmi\",\"bmi\",\"bmi\",\"bmi\",\"bmi\",\"bmi\",\"bmi\",\"bmi\",\"bmi\",\"bmi\",\"bmi\",\"bmi\",\"bmi\",\"bmi\",\"bmi\",\"bmi\",\"bmi\",\"bmi\",\"bmi\",\"bmi\",\"bmi\",\"bmi\",\"bmi\",\"bmi\",\"bmi\",\"bmi\",\"bmi\",\"bmi\",\"bmi\",\"bmi\",\"bmi\",\"bmi\",\"bmi\",\"bmi\",\"bmi\",\"bmi\",\"bmi\",\"bmi\",\"bmi\",\"bmi\",\"bmi\",\"bmi\",\"bmi\",\"bmi\",\"bmi\",\"bmi\",\"bmi\",\"bmi\",\"bmi\",\"bmi\",\"bmi\",\"bmi\",\"bmi\",\"bmi\",\"bmi\",\"bmi\",\"bmi\",\"bmi\",\"bmi\",\"bmi\",\"bmi\",\"bmi\",\"bmi\",\"bmi\",\"bmi\",\"bmi\",\"bmi\",\"bmi\",\"bmi\",\"bmi\",\"bmi\",\"bmi\",\"bmi\",\"bmi\",\"bmi\",\"bmi\",\"bmi\",\"bmi\",\"bmi\",\"bmi\",\"bmi\",\"bmi\",\"bmi\",\"bmi\",\"bmi\",\"bmi\",\"bmi\",\"bmi\",\"bmi\",\"bmi\",\"bmi\",\"bmi\",\"bmi\",\"bmi\",\"bmi\",\"bmi\",\"bmi\",\"bmi\",\"bmi\",\"bmi\",\"bmi\",\"bmi\",\"bmi\",\"bmi\",\"bmi\",\"bmi\",\"bmi\",\"bmi\",\"bmi\",\"bmi\",\"bmi\",\"bmi\",\"bmi\",\"bmi\",\"bmi\",\"bmi\",\"bmi\",\"bmi\",\"bmi\",\"bmi\",\"bmi\",\"bmi\",\"bmi\",\"bmi\",\"bmi\",\"bmi\",\"bmi\",\"bmi\",\"bmi\",\"bmi\",\"bmi\",\"bmi\",\"bmi\",\"bmi\",\"bmi\",\"bmi\",\"bmi\",\"bmi\",\"bmi\",\"bmi\",\"bmi\",\"bmi\",\"bmi\",\"bmi\",\"bmi\",\"bmi\",\"bmi\",\"bmi\",\"bmi\",\"bmi\",\"bmi\",\"bmi\",\"bmi\",\"bmi\",\"bmi\",\"bmi\",\"bmi\",\"bmi\",\"bmi\",\"bmi\",\"bmi\",\"bmi\",\"bmi\",\"bmi\",\"bmi\",\"bmi\",\"bmi\",\"bmi\",\"bmi\",\"bmi\",\"bmi\",\"bmi\",\"bmi\",\"bmi\",\"bmi\",\"bmi\",\"bmi\",\"bmi\",\"bmi\",\"bmi\",\"bmi\",\"bmi\",\"bmi\",\"bmi\",\"bmi\",\"bmi\",\"bmi\",\"bmi\",\"bmi\",\"bmi\",\"bmi\",\"bmi\",\"bmi\",\"bmi\",\"bmi\",\"bmi\",\"bmi\",\"bmi\",\"bmi\",\"bmi\",\"bmi\",\"bmi\",\"bmi\",\"bmi\",\"bmi\",\"bmi\",\"bmi\",\"bmi\",\"bmi\",\"bmi\",\"bmi\"],\"x0\":\" \",\"xaxis\":\"x\",\"y\":[33.6,26.6,23.3,28.1,43.1,25.6,31.0,0.0,37.6,38.0,27.1,25.8,45.8,29.6,34.6,39.3,35.4,39.8,29.0,36.6,31.1,39.4,23.2,22.2,34.1,36.0,31.6,24.8,19.9,27.6,24.0,33.2,32.9,38.2,37.1,34.0,40.2,22.7,27.4,42.0,29.7,28.0,39.1,19.4,24.2,24.4,33.7,23.0,37.7,46.8,40.5,41.5,32.9,25.0,25.4,32.8,29.0,32.5,42.7,19.6,28.9,32.9,28.6,43.4,35.1,32.0,32.6,37.7,25.0,22.4,29.3,24.6,32.4,36.6,38.5,26.5,19.1,32.0,46.7,23.8,24.7,33.9,31.6,20.4,28.7,49.7,39.0,26.1,22.5,26.6,39.6,28.7,29.5,34.3,37.4,33.3,31.2,34.0,30.5,31.2,34.0,33.7,28.2,23.2,53.2,34.2,33.6,26.8,33.3,42.9,33.3,34.5,27.9,29.7,33.3,34.5,38.3,21.1,33.8,30.8,28.7,31.2,36.9,21.1,39.5,32.5,32.4,32.8,0.0,32.8,30.5,33.7,27.3,37.4,21.9,34.3,47.9,50.0,24.6,25.2,29.0,29.7,37.2,44.2,29.7,31.6,29.9,32.5,29.6,31.9,28.4,30.8,35.4,43.5,29.7,32.7,31.2,45.0,39.1,23.2,34.9,26.8,27.6,35.9,32.0,27.9,31.6,22.6,33.1,30.4,24.4,39.4,24.3,22.9,34.8,30.9,31.0,40.1,27.3,20.4,37.7,23.9,37.5,37.7,33.2,35.5,27.7,42.8,34.2,42.6,34.2,41.8,35.8,30.0,29.0,37.8,31.6,28.8,23.6,34.6,35.7,37.2,45.2,44.0,25.4,35.0,29.7,43.6,35.9,44.1,30.8,18.4,29.2,33.1,25.6,27.1,38.2,30.0,31.2,30.1,31.2,28.0,24.4,35.8,27.6,33.6,30.1,28.7,33.3,30.9,32.1,32.4,32.0,33.6,40.0,25.1,45.6,25.2,23.0,33.2,34.2,40.5,26.5,27.8,24.9,25.3,37.9,35.9,32.4,30.4,27.0,26.0,45.6,20.8,36.1,36.9,36.6,43.3,40.5,21.9,35.5,30.7,23.6,31.6,35.8,52.9,21.0,39.7,25.5,24.8,30.5,32.9,26.2,39.4,26.6,29.5,35.9,34.1,19.3,30.5,38.1,23.5,27.5,31.6,27.4,26.8,35.7,25.6,35.1,35.1,45.5,30.8,23.1,32.7,23.6,23.9,47.9,31.2,34.2,39.9,25.9,25.9,34.7,36.8,38.5,28.7,21.8,42.2,31.2,34.4,27.2,42.7,30.4,33.3,35.3,36.5,31.2,29.8,38.5,34.9,34.0,27.6,21.0,27.5,32.8,0.0,35.8,34.9,36.2,39.2,25.2,37.2,48.3,43.4,30.8,20.0,25.4,25.1,24.3,22.3,32.3,43.3,32.0,31.6,32.0,45.7,22.1,32.9,27.7,24.7,34.3,21.1,34.9,32.0,24.2,35.0,31.6,32.9,42.1,28.9,21.9,25.9,35.7,34.4,42.4,26.2,34.6,27.2,38.5,18.2,26.4,45.3,26.0,40.6,30.8,42.9,37.0,34.1,40.6,35.0,30.4,30.0,25.6,24.5,37.4,29.9,18.2,36.8,34.3,32.2,33.2,30.5,29.7,59.4,25.3,36.5,33.6,30.5,21.2,28.9,39.9,37.8,26.7,30.2,37.6,25.9,20.8,21.8,35.3,27.6,24.0,21.8,27.8,36.8,46.1,41.3,33.2,38.8,29.9,28.9,27.3,33.7,23.8,25.9,28.0,35.5,35.2,27.8,38.2,42.3,46.5,25.6,26.1,36.8,33.5,32.8,28.9,26.6,26.0,30.1,25.1,29.3,25.2,37.2,33.3,37.3,33.3,36.5,28.6,30.4,25.0,29.7,22.1,24.2,27.3,25.6,31.6,30.3,37.6,32.8,19.6,25.0,33.2,34.2,31.6,21.8,18.2,26.3,30.8,24.6,29.8,45.3,41.3,33.3,29.6,21.7,36.3,36.4,39.4,32.4,34.9,39.5,32.0,34.5,43.6,33.1,32.8,27.4,31.9,27.8,29.9,36.9,25.5,38.1,27.8,46.2,30.1,33.8,41.3,37.6,26.9,32.4,26.1,38.6,32.0,31.3,34.3,32.5,22.6,29.5,34.7,30.1,35.5,24.0,42.9,27.0,42.1,25.0,26.5,38.7,22.5,34.9,24.3,33.3,46.8,39.4,34.4,28.5,33.6,32.0,45.3,36.8,23.1,27.1,27.8,35.2,35.8,40.0,19.5,41.5,24.0,30.9,32.9,38.2,32.5,36.1,25.8,28.7,20.1,28.2,38.4,24.2,40.8,43.5,30.8,37.7,24.7,32.4,34.6,24.7,27.4,34.5,26.2,27.5,25.9,31.2,28.8,31.6,40.9,19.5,29.3,34.3,29.5,27.6,23.4,37.8,28.3,26.4,25.2,33.8,34.1,26.8,34.2,21.8,38.9,39.0,34.2,27.7,42.9,37.6,37.9,33.7,34.8,32.5,27.5,34.0,30.9,33.6,25.4,35.5,57.3,35.6,30.9,24.8,35.3,36.0,24.2,24.2,49.6,44.6,32.3,0.0,33.2,23.1,28.3,24.1,46.1,24.6,39.1,38.5,23.5,29.9,34.5,44.5,35.9,27.6,35.0,28.4,39.8,32.8,38.0,29.6,41.2,26.4,29.5,33.8,23.1,35.5,35.6,29.3,38.1,29.3,39.1,32.8,39.4,36.1,32.4,22.9,30.1,28.4,28.4,44.5,29.0,23.3,35.4,27.4,32.0,36.6,39.5,42.3,30.8,28.5,32.7,40.6,30.0,49.3,46.3,36.4,24.3,31.2,39.0,26.0,32.4,36.5,32.0,36.3,37.5,35.5,28.4,44.0,22.5,32.9,36.8,26.2,30.1,30.4],\"y0\":\" \",\"yaxis\":\"y\"}],                        {\"boxmode\":\"group\",\"legend\":{\"tracegroupgap\":0},\"margin\":{\"t\":60},\"template\":{\"data\":{\"bar\":[{\"error_x\":{\"color\":\"#2a3f5f\"},\"error_y\":{\"color\":\"#2a3f5f\"},\"marker\":{\"line\":{\"color\":\"#E5ECF6\",\"width\":0.5},\"pattern\":{\"fillmode\":\"overlay\",\"size\":10,\"solidity\":0.2}},\"type\":\"bar\"}],\"barpolar\":[{\"marker\":{\"line\":{\"color\":\"#E5ECF6\",\"width\":0.5},\"pattern\":{\"fillmode\":\"overlay\",\"size\":10,\"solidity\":0.2}},\"type\":\"barpolar\"}],\"carpet\":[{\"aaxis\":{\"endlinecolor\":\"#2a3f5f\",\"gridcolor\":\"white\",\"linecolor\":\"white\",\"minorgridcolor\":\"white\",\"startlinecolor\":\"#2a3f5f\"},\"baxis\":{\"endlinecolor\":\"#2a3f5f\",\"gridcolor\":\"white\",\"linecolor\":\"white\",\"minorgridcolor\":\"white\",\"startlinecolor\":\"#2a3f5f\"},\"type\":\"carpet\"}],\"choropleth\":[{\"colorbar\":{\"outlinewidth\":0,\"ticks\":\"\"},\"type\":\"choropleth\"}],\"contour\":[{\"colorbar\":{\"outlinewidth\":0,\"ticks\":\"\"},\"colorscale\":[[0.0,\"#0d0887\"],[0.1111111111111111,\"#46039f\"],[0.2222222222222222,\"#7201a8\"],[0.3333333333333333,\"#9c179e\"],[0.4444444444444444,\"#bd3786\"],[0.5555555555555556,\"#d8576b\"],[0.6666666666666666,\"#ed7953\"],[0.7777777777777778,\"#fb9f3a\"],[0.8888888888888888,\"#fdca26\"],[1.0,\"#f0f921\"]],\"type\":\"contour\"}],\"contourcarpet\":[{\"colorbar\":{\"outlinewidth\":0,\"ticks\":\"\"},\"type\":\"contourcarpet\"}],\"heatmap\":[{\"colorbar\":{\"outlinewidth\":0,\"ticks\":\"\"},\"colorscale\":[[0.0,\"#0d0887\"],[0.1111111111111111,\"#46039f\"],[0.2222222222222222,\"#7201a8\"],[0.3333333333333333,\"#9c179e\"],[0.4444444444444444,\"#bd3786\"],[0.5555555555555556,\"#d8576b\"],[0.6666666666666666,\"#ed7953\"],[0.7777777777777778,\"#fb9f3a\"],[0.8888888888888888,\"#fdca26\"],[1.0,\"#f0f921\"]],\"type\":\"heatmap\"}],\"heatmapgl\":[{\"colorbar\":{\"outlinewidth\":0,\"ticks\":\"\"},\"colorscale\":[[0.0,\"#0d0887\"],[0.1111111111111111,\"#46039f\"],[0.2222222222222222,\"#7201a8\"],[0.3333333333333333,\"#9c179e\"],[0.4444444444444444,\"#bd3786\"],[0.5555555555555556,\"#d8576b\"],[0.6666666666666666,\"#ed7953\"],[0.7777777777777778,\"#fb9f3a\"],[0.8888888888888888,\"#fdca26\"],[1.0,\"#f0f921\"]],\"type\":\"heatmapgl\"}],\"histogram\":[{\"marker\":{\"pattern\":{\"fillmode\":\"overlay\",\"size\":10,\"solidity\":0.2}},\"type\":\"histogram\"}],\"histogram2d\":[{\"colorbar\":{\"outlinewidth\":0,\"ticks\":\"\"},\"colorscale\":[[0.0,\"#0d0887\"],[0.1111111111111111,\"#46039f\"],[0.2222222222222222,\"#7201a8\"],[0.3333333333333333,\"#9c179e\"],[0.4444444444444444,\"#bd3786\"],[0.5555555555555556,\"#d8576b\"],[0.6666666666666666,\"#ed7953\"],[0.7777777777777778,\"#fb9f3a\"],[0.8888888888888888,\"#fdca26\"],[1.0,\"#f0f921\"]],\"type\":\"histogram2d\"}],\"histogram2dcontour\":[{\"colorbar\":{\"outlinewidth\":0,\"ticks\":\"\"},\"colorscale\":[[0.0,\"#0d0887\"],[0.1111111111111111,\"#46039f\"],[0.2222222222222222,\"#7201a8\"],[0.3333333333333333,\"#9c179e\"],[0.4444444444444444,\"#bd3786\"],[0.5555555555555556,\"#d8576b\"],[0.6666666666666666,\"#ed7953\"],[0.7777777777777778,\"#fb9f3a\"],[0.8888888888888888,\"#fdca26\"],[1.0,\"#f0f921\"]],\"type\":\"histogram2dcontour\"}],\"mesh3d\":[{\"colorbar\":{\"outlinewidth\":0,\"ticks\":\"\"},\"type\":\"mesh3d\"}],\"parcoords\":[{\"line\":{\"colorbar\":{\"outlinewidth\":0,\"ticks\":\"\"}},\"type\":\"parcoords\"}],\"pie\":[{\"automargin\":true,\"type\":\"pie\"}],\"scatter\":[{\"marker\":{\"colorbar\":{\"outlinewidth\":0,\"ticks\":\"\"}},\"type\":\"scatter\"}],\"scatter3d\":[{\"line\":{\"colorbar\":{\"outlinewidth\":0,\"ticks\":\"\"}},\"marker\":{\"colorbar\":{\"outlinewidth\":0,\"ticks\":\"\"}},\"type\":\"scatter3d\"}],\"scattercarpet\":[{\"marker\":{\"colorbar\":{\"outlinewidth\":0,\"ticks\":\"\"}},\"type\":\"scattercarpet\"}],\"scattergeo\":[{\"marker\":{\"colorbar\":{\"outlinewidth\":0,\"ticks\":\"\"}},\"type\":\"scattergeo\"}],\"scattergl\":[{\"marker\":{\"colorbar\":{\"outlinewidth\":0,\"ticks\":\"\"}},\"type\":\"scattergl\"}],\"scattermapbox\":[{\"marker\":{\"colorbar\":{\"outlinewidth\":0,\"ticks\":\"\"}},\"type\":\"scattermapbox\"}],\"scatterpolar\":[{\"marker\":{\"colorbar\":{\"outlinewidth\":0,\"ticks\":\"\"}},\"type\":\"scatterpolar\"}],\"scatterpolargl\":[{\"marker\":{\"colorbar\":{\"outlinewidth\":0,\"ticks\":\"\"}},\"type\":\"scatterpolargl\"}],\"scatterternary\":[{\"marker\":{\"colorbar\":{\"outlinewidth\":0,\"ticks\":\"\"}},\"type\":\"scatterternary\"}],\"surface\":[{\"colorbar\":{\"outlinewidth\":0,\"ticks\":\"\"},\"colorscale\":[[0.0,\"#0d0887\"],[0.1111111111111111,\"#46039f\"],[0.2222222222222222,\"#7201a8\"],[0.3333333333333333,\"#9c179e\"],[0.4444444444444444,\"#bd3786\"],[0.5555555555555556,\"#d8576b\"],[0.6666666666666666,\"#ed7953\"],[0.7777777777777778,\"#fb9f3a\"],[0.8888888888888888,\"#fdca26\"],[1.0,\"#f0f921\"]],\"type\":\"surface\"}],\"table\":[{\"cells\":{\"fill\":{\"color\":\"#EBF0F8\"},\"line\":{\"color\":\"white\"}},\"header\":{\"fill\":{\"color\":\"#C8D4E3\"},\"line\":{\"color\":\"white\"}},\"type\":\"table\"}]},\"layout\":{\"annotationdefaults\":{\"arrowcolor\":\"#2a3f5f\",\"arrowhead\":0,\"arrowwidth\":1},\"autotypenumbers\":\"strict\",\"coloraxis\":{\"colorbar\":{\"outlinewidth\":0,\"ticks\":\"\"}},\"colorscale\":{\"diverging\":[[0,\"#8e0152\"],[0.1,\"#c51b7d\"],[0.2,\"#de77ae\"],[0.3,\"#f1b6da\"],[0.4,\"#fde0ef\"],[0.5,\"#f7f7f7\"],[0.6,\"#e6f5d0\"],[0.7,\"#b8e186\"],[0.8,\"#7fbc41\"],[0.9,\"#4d9221\"],[1,\"#276419\"]],\"sequential\":[[0.0,\"#0d0887\"],[0.1111111111111111,\"#46039f\"],[0.2222222222222222,\"#7201a8\"],[0.3333333333333333,\"#9c179e\"],[0.4444444444444444,\"#bd3786\"],[0.5555555555555556,\"#d8576b\"],[0.6666666666666666,\"#ed7953\"],[0.7777777777777778,\"#fb9f3a\"],[0.8888888888888888,\"#fdca26\"],[1.0,\"#f0f921\"]],\"sequentialminus\":[[0.0,\"#0d0887\"],[0.1111111111111111,\"#46039f\"],[0.2222222222222222,\"#7201a8\"],[0.3333333333333333,\"#9c179e\"],[0.4444444444444444,\"#bd3786\"],[0.5555555555555556,\"#d8576b\"],[0.6666666666666666,\"#ed7953\"],[0.7777777777777778,\"#fb9f3a\"],[0.8888888888888888,\"#fdca26\"],[1.0,\"#f0f921\"]]},\"colorway\":[\"#636efa\",\"#EF553B\",\"#00cc96\",\"#ab63fa\",\"#FFA15A\",\"#19d3f3\",\"#FF6692\",\"#B6E880\",\"#FF97FF\",\"#FECB52\"],\"font\":{\"color\":\"#2a3f5f\"},\"geo\":{\"bgcolor\":\"white\",\"lakecolor\":\"white\",\"landcolor\":\"#E5ECF6\",\"showlakes\":true,\"showland\":true,\"subunitcolor\":\"white\"},\"hoverlabel\":{\"align\":\"left\"},\"hovermode\":\"closest\",\"mapbox\":{\"style\":\"light\"},\"paper_bgcolor\":\"white\",\"plot_bgcolor\":\"#E5ECF6\",\"polar\":{\"angularaxis\":{\"gridcolor\":\"white\",\"linecolor\":\"white\",\"ticks\":\"\"},\"bgcolor\":\"#E5ECF6\",\"radialaxis\":{\"gridcolor\":\"white\",\"linecolor\":\"white\",\"ticks\":\"\"}},\"scene\":{\"xaxis\":{\"backgroundcolor\":\"#E5ECF6\",\"gridcolor\":\"white\",\"gridwidth\":2,\"linecolor\":\"white\",\"showbackground\":true,\"ticks\":\"\",\"zerolinecolor\":\"white\"},\"yaxis\":{\"backgroundcolor\":\"#E5ECF6\",\"gridcolor\":\"white\",\"gridwidth\":2,\"linecolor\":\"white\",\"showbackground\":true,\"ticks\":\"\",\"zerolinecolor\":\"white\"},\"zaxis\":{\"backgroundcolor\":\"#E5ECF6\",\"gridcolor\":\"white\",\"gridwidth\":2,\"linecolor\":\"white\",\"showbackground\":true,\"ticks\":\"\",\"zerolinecolor\":\"white\"}},\"shapedefaults\":{\"line\":{\"color\":\"#2a3f5f\"}},\"ternary\":{\"aaxis\":{\"gridcolor\":\"white\",\"linecolor\":\"white\",\"ticks\":\"\"},\"baxis\":{\"gridcolor\":\"white\",\"linecolor\":\"white\",\"ticks\":\"\"},\"bgcolor\":\"#E5ECF6\",\"caxis\":{\"gridcolor\":\"white\",\"linecolor\":\"white\",\"ticks\":\"\"}},\"title\":{\"x\":0.05},\"xaxis\":{\"automargin\":true,\"gridcolor\":\"white\",\"linecolor\":\"white\",\"ticks\":\"\",\"title\":{\"standoff\":15},\"zerolinecolor\":\"white\",\"zerolinewidth\":2},\"yaxis\":{\"automargin\":true,\"gridcolor\":\"white\",\"linecolor\":\"white\",\"ticks\":\"\",\"title\":{\"standoff\":15},\"zerolinecolor\":\"white\",\"zerolinewidth\":2}}},\"xaxis\":{\"anchor\":\"y\",\"domain\":[0.0,1.0],\"title\":{\"text\":\"variable\"}},\"yaxis\":{\"anchor\":\"x\",\"domain\":[0.0,1.0],\"title\":{\"text\":\"value\"}}},                        {\"responsive\": true}                    ).then(function(){\n",
       "                            \n",
       "var gd = document.getElementById('5eb7bc4c-188c-4028-97b0-c0520e8ff622');\n",
       "var x = new MutationObserver(function (mutations, observer) {{\n",
       "        var display = window.getComputedStyle(gd).display;\n",
       "        if (!display || display === 'none') {{\n",
       "            console.log([gd, 'removed!']);\n",
       "            Plotly.purge(gd);\n",
       "            observer.disconnect();\n",
       "        }}\n",
       "}});\n",
       "\n",
       "// Listen for the removal of the full notebook cells\n",
       "var notebookContainer = gd.closest('#notebook-container');\n",
       "if (notebookContainer) {{\n",
       "    x.observe(notebookContainer, {childList: true});\n",
       "}}\n",
       "\n",
       "// Listen for the clearing of the current output cell\n",
       "var outputEl = gd.closest('.output');\n",
       "if (outputEl) {{\n",
       "    x.observe(outputEl, {childList: true});\n",
       "}}\n",
       "\n",
       "                        })                };                });            </script>        </div>"
      ]
     },
     "metadata": {},
     "output_type": "display_data"
    }
   ],
   "source": [
    "px.box(df['bmi'])"
   ]
  },
  {
   "cell_type": "code",
   "execution_count": 114,
   "id": "193ad7c6",
   "metadata": {},
   "outputs": [],
   "source": [
    "# Using IQR to remove outliers from 'bmi'\n",
    "\n",
    "q1 = df.bmi.quantile(0.25)\n",
    "q3 = df.bmi.quantile(0.75)\n",
    "IQR = q3 - q1\n",
    "low = q1 - 1.5 * IQR\n",
    "high = q3 + 1.5 * IQR\n",
    "df.drop(df[df.bmi < low].index, inplace = True)\n",
    "df.drop(df[df.bmi > high].index, inplace = True)"
   ]
  },
  {
   "cell_type": "code",
   "execution_count": 115,
   "id": "64422d5f",
   "metadata": {},
   "outputs": [
    {
     "data": {
      "application/vnd.plotly.v1+json": {
       "config": {
        "plotlyServerURL": "https://plot.ly"
       },
       "data": [
        {
         "alignmentgroup": "True",
         "hovertemplate": "variable=%{x}<br>value=%{y}<extra></extra>",
         "legendgroup": "",
         "marker": {
          "color": "#636efa"
         },
         "name": "",
         "notched": false,
         "offsetgroup": "",
         "orientation": "v",
         "showlegend": false,
         "type": "box",
         "x": [
          "bmi",
          "bmi",
          "bmi",
          "bmi",
          "bmi",
          "bmi",
          "bmi",
          "bmi",
          "bmi",
          "bmi",
          "bmi",
          "bmi",
          "bmi",
          "bmi",
          "bmi",
          "bmi",
          "bmi",
          "bmi",
          "bmi",
          "bmi",
          "bmi",
          "bmi",
          "bmi",
          "bmi",
          "bmi",
          "bmi",
          "bmi",
          "bmi",
          "bmi",
          "bmi",
          "bmi",
          "bmi",
          "bmi",
          "bmi",
          "bmi",
          "bmi",
          "bmi",
          "bmi",
          "bmi",
          "bmi",
          "bmi",
          "bmi",
          "bmi",
          "bmi",
          "bmi",
          "bmi",
          "bmi",
          "bmi",
          "bmi",
          "bmi",
          "bmi",
          "bmi",
          "bmi",
          "bmi",
          "bmi",
          "bmi",
          "bmi",
          "bmi",
          "bmi",
          "bmi",
          "bmi",
          "bmi",
          "bmi",
          "bmi",
          "bmi",
          "bmi",
          "bmi",
          "bmi",
          "bmi",
          "bmi",
          "bmi",
          "bmi",
          "bmi",
          "bmi",
          "bmi",
          "bmi",
          "bmi",
          "bmi",
          "bmi",
          "bmi",
          "bmi",
          "bmi",
          "bmi",
          "bmi",
          "bmi",
          "bmi",
          "bmi",
          "bmi",
          "bmi",
          "bmi",
          "bmi",
          "bmi",
          "bmi",
          "bmi",
          "bmi",
          "bmi",
          "bmi",
          "bmi",
          "bmi",
          "bmi",
          "bmi",
          "bmi",
          "bmi",
          "bmi",
          "bmi",
          "bmi",
          "bmi",
          "bmi",
          "bmi",
          "bmi",
          "bmi",
          "bmi",
          "bmi",
          "bmi",
          "bmi",
          "bmi",
          "bmi",
          "bmi",
          "bmi",
          "bmi",
          "bmi",
          "bmi",
          "bmi",
          "bmi",
          "bmi",
          "bmi",
          "bmi",
          "bmi",
          "bmi",
          "bmi",
          "bmi",
          "bmi",
          "bmi",
          "bmi",
          "bmi",
          "bmi",
          "bmi",
          "bmi",
          "bmi",
          "bmi",
          "bmi",
          "bmi",
          "bmi",
          "bmi",
          "bmi",
          "bmi",
          "bmi",
          "bmi",
          "bmi",
          "bmi",
          "bmi",
          "bmi",
          "bmi",
          "bmi",
          "bmi",
          "bmi",
          "bmi",
          "bmi",
          "bmi",
          "bmi",
          "bmi",
          "bmi",
          "bmi",
          "bmi",
          "bmi",
          "bmi",
          "bmi",
          "bmi",
          "bmi",
          "bmi",
          "bmi",
          "bmi",
          "bmi",
          "bmi",
          "bmi",
          "bmi",
          "bmi",
          "bmi",
          "bmi",
          "bmi",
          "bmi",
          "bmi",
          "bmi",
          "bmi",
          "bmi",
          "bmi",
          "bmi",
          "bmi",
          "bmi",
          "bmi",
          "bmi",
          "bmi",
          "bmi",
          "bmi",
          "bmi",
          "bmi",
          "bmi",
          "bmi",
          "bmi",
          "bmi",
          "bmi",
          "bmi",
          "bmi",
          "bmi",
          "bmi",
          "bmi",
          "bmi",
          "bmi",
          "bmi",
          "bmi",
          "bmi",
          "bmi",
          "bmi",
          "bmi",
          "bmi",
          "bmi",
          "bmi",
          "bmi",
          "bmi",
          "bmi",
          "bmi",
          "bmi",
          "bmi",
          "bmi",
          "bmi",
          "bmi",
          "bmi",
          "bmi",
          "bmi",
          "bmi",
          "bmi",
          "bmi",
          "bmi",
          "bmi",
          "bmi",
          "bmi",
          "bmi",
          "bmi",
          "bmi",
          "bmi",
          "bmi",
          "bmi",
          "bmi",
          "bmi",
          "bmi",
          "bmi",
          "bmi",
          "bmi",
          "bmi",
          "bmi",
          "bmi",
          "bmi",
          "bmi",
          "bmi",
          "bmi",
          "bmi",
          "bmi",
          "bmi",
          "bmi",
          "bmi",
          "bmi",
          "bmi",
          "bmi",
          "bmi",
          "bmi",
          "bmi",
          "bmi",
          "bmi",
          "bmi",
          "bmi",
          "bmi",
          "bmi",
          "bmi",
          "bmi",
          "bmi",
          "bmi",
          "bmi",
          "bmi",
          "bmi",
          "bmi",
          "bmi",
          "bmi",
          "bmi",
          "bmi",
          "bmi",
          "bmi",
          "bmi",
          "bmi",
          "bmi",
          "bmi",
          "bmi",
          "bmi",
          "bmi",
          "bmi",
          "bmi",
          "bmi",
          "bmi",
          "bmi",
          "bmi",
          "bmi",
          "bmi",
          "bmi",
          "bmi",
          "bmi",
          "bmi",
          "bmi",
          "bmi",
          "bmi",
          "bmi",
          "bmi",
          "bmi",
          "bmi",
          "bmi",
          "bmi",
          "bmi",
          "bmi",
          "bmi",
          "bmi",
          "bmi",
          "bmi",
          "bmi",
          "bmi",
          "bmi",
          "bmi",
          "bmi",
          "bmi",
          "bmi",
          "bmi",
          "bmi",
          "bmi",
          "bmi",
          "bmi",
          "bmi",
          "bmi",
          "bmi",
          "bmi",
          "bmi",
          "bmi",
          "bmi",
          "bmi",
          "bmi",
          "bmi",
          "bmi",
          "bmi",
          "bmi",
          "bmi",
          "bmi",
          "bmi",
          "bmi",
          "bmi",
          "bmi",
          "bmi",
          "bmi",
          "bmi",
          "bmi",
          "bmi",
          "bmi",
          "bmi",
          "bmi",
          "bmi",
          "bmi",
          "bmi",
          "bmi",
          "bmi",
          "bmi",
          "bmi",
          "bmi",
          "bmi",
          "bmi",
          "bmi",
          "bmi",
          "bmi",
          "bmi",
          "bmi",
          "bmi",
          "bmi",
          "bmi",
          "bmi",
          "bmi",
          "bmi",
          "bmi",
          "bmi",
          "bmi",
          "bmi",
          "bmi",
          "bmi",
          "bmi",
          "bmi",
          "bmi",
          "bmi",
          "bmi",
          "bmi",
          "bmi",
          "bmi",
          "bmi",
          "bmi",
          "bmi",
          "bmi",
          "bmi",
          "bmi",
          "bmi",
          "bmi",
          "bmi",
          "bmi",
          "bmi",
          "bmi",
          "bmi",
          "bmi",
          "bmi",
          "bmi",
          "bmi",
          "bmi",
          "bmi",
          "bmi",
          "bmi",
          "bmi",
          "bmi",
          "bmi",
          "bmi",
          "bmi",
          "bmi",
          "bmi",
          "bmi",
          "bmi",
          "bmi",
          "bmi",
          "bmi",
          "bmi",
          "bmi",
          "bmi",
          "bmi",
          "bmi",
          "bmi",
          "bmi",
          "bmi",
          "bmi",
          "bmi",
          "bmi",
          "bmi",
          "bmi",
          "bmi",
          "bmi",
          "bmi",
          "bmi",
          "bmi",
          "bmi",
          "bmi",
          "bmi",
          "bmi",
          "bmi",
          "bmi",
          "bmi",
          "bmi",
          "bmi",
          "bmi",
          "bmi",
          "bmi",
          "bmi",
          "bmi",
          "bmi",
          "bmi",
          "bmi",
          "bmi",
          "bmi",
          "bmi",
          "bmi",
          "bmi",
          "bmi",
          "bmi",
          "bmi",
          "bmi",
          "bmi",
          "bmi",
          "bmi",
          "bmi",
          "bmi",
          "bmi",
          "bmi",
          "bmi",
          "bmi",
          "bmi",
          "bmi",
          "bmi",
          "bmi",
          "bmi",
          "bmi",
          "bmi",
          "bmi",
          "bmi",
          "bmi",
          "bmi",
          "bmi",
          "bmi",
          "bmi",
          "bmi",
          "bmi",
          "bmi",
          "bmi",
          "bmi",
          "bmi",
          "bmi",
          "bmi",
          "bmi",
          "bmi",
          "bmi",
          "bmi",
          "bmi",
          "bmi",
          "bmi",
          "bmi",
          "bmi",
          "bmi",
          "bmi",
          "bmi",
          "bmi",
          "bmi",
          "bmi",
          "bmi",
          "bmi",
          "bmi",
          "bmi",
          "bmi",
          "bmi",
          "bmi",
          "bmi",
          "bmi",
          "bmi",
          "bmi",
          "bmi",
          "bmi",
          "bmi",
          "bmi",
          "bmi",
          "bmi",
          "bmi",
          "bmi",
          "bmi",
          "bmi",
          "bmi",
          "bmi",
          "bmi",
          "bmi",
          "bmi",
          "bmi",
          "bmi",
          "bmi",
          "bmi",
          "bmi",
          "bmi",
          "bmi",
          "bmi",
          "bmi",
          "bmi",
          "bmi",
          "bmi",
          "bmi",
          "bmi",
          "bmi",
          "bmi",
          "bmi",
          "bmi",
          "bmi",
          "bmi",
          "bmi",
          "bmi",
          "bmi",
          "bmi",
          "bmi",
          "bmi",
          "bmi",
          "bmi",
          "bmi",
          "bmi",
          "bmi",
          "bmi",
          "bmi",
          "bmi",
          "bmi",
          "bmi",
          "bmi",
          "bmi",
          "bmi",
          "bmi",
          "bmi",
          "bmi",
          "bmi",
          "bmi",
          "bmi",
          "bmi",
          "bmi",
          "bmi",
          "bmi",
          "bmi",
          "bmi",
          "bmi",
          "bmi",
          "bmi",
          "bmi",
          "bmi",
          "bmi",
          "bmi",
          "bmi",
          "bmi",
          "bmi",
          "bmi",
          "bmi",
          "bmi",
          "bmi",
          "bmi",
          "bmi",
          "bmi",
          "bmi",
          "bmi",
          "bmi",
          "bmi",
          "bmi",
          "bmi",
          "bmi",
          "bmi",
          "bmi",
          "bmi",
          "bmi",
          "bmi",
          "bmi",
          "bmi",
          "bmi",
          "bmi",
          "bmi",
          "bmi",
          "bmi",
          "bmi",
          "bmi",
          "bmi",
          "bmi",
          "bmi",
          "bmi",
          "bmi",
          "bmi",
          "bmi",
          "bmi",
          "bmi",
          "bmi",
          "bmi",
          "bmi",
          "bmi",
          "bmi",
          "bmi",
          "bmi",
          "bmi",
          "bmi",
          "bmi",
          "bmi",
          "bmi",
          "bmi",
          "bmi",
          "bmi",
          "bmi",
          "bmi",
          "bmi",
          "bmi",
          "bmi",
          "bmi",
          "bmi",
          "bmi",
          "bmi",
          "bmi",
          "bmi",
          "bmi",
          "bmi",
          "bmi",
          "bmi",
          "bmi",
          "bmi",
          "bmi",
          "bmi",
          "bmi"
         ],
         "x0": " ",
         "xaxis": "x",
         "y": [
          33.6,
          26.6,
          23.3,
          28.1,
          43.1,
          25.6,
          31,
          37.6,
          38,
          27.1,
          25.8,
          45.8,
          29.6,
          34.6,
          39.3,
          35.4,
          39.8,
          29,
          36.6,
          31.1,
          39.4,
          23.2,
          22.2,
          34.1,
          36,
          31.6,
          24.8,
          19.9,
          27.6,
          24,
          33.2,
          32.9,
          38.2,
          37.1,
          34,
          40.2,
          22.7,
          27.4,
          42,
          29.7,
          28,
          39.1,
          19.4,
          24.2,
          24.4,
          33.7,
          23,
          37.7,
          46.8,
          40.5,
          41.5,
          32.9,
          25,
          25.4,
          32.8,
          29,
          32.5,
          42.7,
          19.6,
          28.9,
          32.9,
          28.6,
          43.4,
          35.1,
          32,
          32.6,
          37.7,
          25,
          22.4,
          29.3,
          24.6,
          32.4,
          36.6,
          38.5,
          26.5,
          19.1,
          32,
          46.7,
          23.8,
          24.7,
          33.9,
          31.6,
          20.4,
          28.7,
          39,
          26.1,
          22.5,
          26.6,
          39.6,
          28.7,
          29.5,
          34.3,
          37.4,
          33.3,
          31.2,
          34,
          30.5,
          31.2,
          34,
          33.7,
          28.2,
          23.2,
          34.2,
          33.6,
          26.8,
          33.3,
          42.9,
          33.3,
          34.5,
          27.9,
          29.7,
          33.3,
          34.5,
          38.3,
          21.1,
          33.8,
          30.8,
          28.7,
          31.2,
          36.9,
          21.1,
          39.5,
          32.5,
          32.4,
          32.8,
          32.8,
          30.5,
          33.7,
          27.3,
          37.4,
          21.9,
          34.3,
          47.9,
          24.6,
          25.2,
          29,
          29.7,
          37.2,
          44.2,
          29.7,
          31.6,
          29.9,
          32.5,
          29.6,
          31.9,
          28.4,
          30.8,
          35.4,
          43.5,
          29.7,
          32.7,
          31.2,
          45,
          39.1,
          23.2,
          34.9,
          26.8,
          27.6,
          35.9,
          32,
          27.9,
          31.6,
          22.6,
          33.1,
          30.4,
          24.4,
          39.4,
          24.3,
          22.9,
          34.8,
          30.9,
          31,
          40.1,
          27.3,
          20.4,
          37.7,
          23.9,
          37.5,
          37.7,
          33.2,
          35.5,
          27.7,
          42.8,
          34.2,
          42.6,
          34.2,
          41.8,
          35.8,
          30,
          29,
          37.8,
          31.6,
          28.8,
          23.6,
          34.6,
          35.7,
          37.2,
          45.2,
          44,
          25.4,
          35,
          29.7,
          43.6,
          35.9,
          44.1,
          30.8,
          18.4,
          29.2,
          33.1,
          25.6,
          27.1,
          38.2,
          30,
          31.2,
          30.1,
          31.2,
          28,
          24.4,
          35.8,
          27.6,
          33.6,
          30.1,
          28.7,
          33.3,
          30.9,
          32.1,
          32.4,
          32,
          33.6,
          40,
          25.1,
          45.6,
          25.2,
          23,
          33.2,
          34.2,
          40.5,
          26.5,
          27.8,
          24.9,
          25.3,
          37.9,
          35.9,
          32.4,
          30.4,
          27,
          26,
          45.6,
          20.8,
          36.1,
          36.9,
          36.6,
          43.3,
          40.5,
          21.9,
          35.5,
          30.7,
          23.6,
          31.6,
          35.8,
          21,
          39.7,
          25.5,
          24.8,
          30.5,
          32.9,
          26.2,
          39.4,
          26.6,
          29.5,
          35.9,
          34.1,
          19.3,
          30.5,
          38.1,
          23.5,
          27.5,
          31.6,
          27.4,
          26.8,
          35.7,
          25.6,
          35.1,
          35.1,
          45.5,
          30.8,
          23.1,
          32.7,
          23.6,
          23.9,
          47.9,
          31.2,
          34.2,
          39.9,
          25.9,
          25.9,
          34.7,
          36.8,
          38.5,
          28.7,
          21.8,
          42.2,
          31.2,
          34.4,
          27.2,
          42.7,
          30.4,
          33.3,
          35.3,
          36.5,
          31.2,
          29.8,
          38.5,
          34.9,
          34,
          27.6,
          21,
          27.5,
          32.8,
          35.8,
          34.9,
          36.2,
          39.2,
          25.2,
          37.2,
          48.3,
          43.4,
          30.8,
          20,
          25.4,
          25.1,
          24.3,
          22.3,
          32.3,
          43.3,
          32,
          31.6,
          32,
          45.7,
          22.1,
          32.9,
          27.7,
          24.7,
          34.3,
          21.1,
          34.9,
          32,
          24.2,
          35,
          31.6,
          32.9,
          42.1,
          28.9,
          21.9,
          25.9,
          35.7,
          34.4,
          42.4,
          26.2,
          34.6,
          27.2,
          38.5,
          18.2,
          26.4,
          45.3,
          26,
          40.6,
          30.8,
          42.9,
          37,
          34.1,
          40.6,
          35,
          30.4,
          30,
          25.6,
          24.5,
          37.4,
          29.9,
          18.2,
          36.8,
          34.3,
          32.2,
          33.2,
          30.5,
          29.7,
          25.3,
          36.5,
          33.6,
          30.5,
          21.2,
          28.9,
          39.9,
          37.8,
          26.7,
          30.2,
          37.6,
          25.9,
          20.8,
          21.8,
          35.3,
          27.6,
          24,
          21.8,
          27.8,
          36.8,
          46.1,
          41.3,
          33.2,
          38.8,
          29.9,
          28.9,
          27.3,
          33.7,
          23.8,
          25.9,
          28,
          35.5,
          35.2,
          27.8,
          38.2,
          42.3,
          46.5,
          25.6,
          26.1,
          36.8,
          33.5,
          32.8,
          28.9,
          26.6,
          26,
          30.1,
          25.1,
          29.3,
          25.2,
          37.2,
          33.3,
          37.3,
          33.3,
          36.5,
          28.6,
          30.4,
          25,
          29.7,
          22.1,
          24.2,
          27.3,
          25.6,
          31.6,
          30.3,
          37.6,
          32.8,
          19.6,
          25,
          33.2,
          34.2,
          31.6,
          21.8,
          18.2,
          26.3,
          30.8,
          24.6,
          29.8,
          45.3,
          41.3,
          33.3,
          29.6,
          21.7,
          36.3,
          36.4,
          39.4,
          32.4,
          34.9,
          39.5,
          32,
          34.5,
          43.6,
          33.1,
          32.8,
          27.4,
          31.9,
          27.8,
          29.9,
          36.9,
          25.5,
          38.1,
          27.8,
          46.2,
          30.1,
          33.8,
          41.3,
          37.6,
          26.9,
          32.4,
          26.1,
          38.6,
          32,
          31.3,
          34.3,
          32.5,
          22.6,
          29.5,
          34.7,
          30.1,
          35.5,
          24,
          42.9,
          27,
          42.1,
          25,
          26.5,
          38.7,
          22.5,
          34.9,
          24.3,
          33.3,
          46.8,
          39.4,
          34.4,
          28.5,
          33.6,
          32,
          45.3,
          36.8,
          23.1,
          27.1,
          27.8,
          35.2,
          35.8,
          40,
          19.5,
          41.5,
          24,
          30.9,
          32.9,
          38.2,
          32.5,
          36.1,
          25.8,
          28.7,
          20.1,
          28.2,
          38.4,
          24.2,
          40.8,
          43.5,
          30.8,
          37.7,
          24.7,
          32.4,
          34.6,
          24.7,
          27.4,
          34.5,
          26.2,
          27.5,
          25.9,
          31.2,
          28.8,
          31.6,
          40.9,
          19.5,
          29.3,
          34.3,
          29.5,
          27.6,
          23.4,
          37.8,
          28.3,
          26.4,
          25.2,
          33.8,
          34.1,
          26.8,
          34.2,
          21.8,
          38.9,
          39,
          34.2,
          27.7,
          42.9,
          37.6,
          37.9,
          33.7,
          34.8,
          32.5,
          27.5,
          34,
          30.9,
          33.6,
          25.4,
          35.5,
          35.6,
          30.9,
          24.8,
          35.3,
          36,
          24.2,
          24.2,
          49.6,
          44.6,
          32.3,
          33.2,
          23.1,
          28.3,
          24.1,
          46.1,
          24.6,
          39.1,
          38.5,
          23.5,
          29.9,
          34.5,
          44.5,
          35.9,
          27.6,
          35,
          28.4,
          39.8,
          32.8,
          38,
          29.6,
          41.2,
          26.4,
          29.5,
          33.8,
          23.1,
          35.5,
          35.6,
          29.3,
          38.1,
          29.3,
          39.1,
          32.8,
          39.4,
          36.1,
          32.4,
          22.9,
          30.1,
          28.4,
          28.4,
          44.5,
          29,
          23.3,
          35.4,
          27.4,
          32,
          36.6,
          39.5,
          42.3,
          30.8,
          28.5,
          32.7,
          40.6,
          30,
          49.3,
          46.3,
          36.4,
          24.3,
          31.2,
          39,
          26,
          32.4,
          36.5,
          32,
          36.3,
          37.5,
          35.5,
          28.4,
          44,
          22.5,
          32.9,
          36.8,
          26.2,
          30.1,
          30.4
         ],
         "y0": " ",
         "yaxis": "y"
        }
       ],
       "layout": {
        "boxmode": "group",
        "legend": {
         "tracegroupgap": 0
        },
        "margin": {
         "t": 60
        },
        "template": {
         "data": {
          "bar": [
           {
            "error_x": {
             "color": "#2a3f5f"
            },
            "error_y": {
             "color": "#2a3f5f"
            },
            "marker": {
             "line": {
              "color": "#E5ECF6",
              "width": 0.5
             },
             "pattern": {
              "fillmode": "overlay",
              "size": 10,
              "solidity": 0.2
             }
            },
            "type": "bar"
           }
          ],
          "barpolar": [
           {
            "marker": {
             "line": {
              "color": "#E5ECF6",
              "width": 0.5
             },
             "pattern": {
              "fillmode": "overlay",
              "size": 10,
              "solidity": 0.2
             }
            },
            "type": "barpolar"
           }
          ],
          "carpet": [
           {
            "aaxis": {
             "endlinecolor": "#2a3f5f",
             "gridcolor": "white",
             "linecolor": "white",
             "minorgridcolor": "white",
             "startlinecolor": "#2a3f5f"
            },
            "baxis": {
             "endlinecolor": "#2a3f5f",
             "gridcolor": "white",
             "linecolor": "white",
             "minorgridcolor": "white",
             "startlinecolor": "#2a3f5f"
            },
            "type": "carpet"
           }
          ],
          "choropleth": [
           {
            "colorbar": {
             "outlinewidth": 0,
             "ticks": ""
            },
            "type": "choropleth"
           }
          ],
          "contour": [
           {
            "colorbar": {
             "outlinewidth": 0,
             "ticks": ""
            },
            "colorscale": [
             [
              0,
              "#0d0887"
             ],
             [
              0.1111111111111111,
              "#46039f"
             ],
             [
              0.2222222222222222,
              "#7201a8"
             ],
             [
              0.3333333333333333,
              "#9c179e"
             ],
             [
              0.4444444444444444,
              "#bd3786"
             ],
             [
              0.5555555555555556,
              "#d8576b"
             ],
             [
              0.6666666666666666,
              "#ed7953"
             ],
             [
              0.7777777777777778,
              "#fb9f3a"
             ],
             [
              0.8888888888888888,
              "#fdca26"
             ],
             [
              1,
              "#f0f921"
             ]
            ],
            "type": "contour"
           }
          ],
          "contourcarpet": [
           {
            "colorbar": {
             "outlinewidth": 0,
             "ticks": ""
            },
            "type": "contourcarpet"
           }
          ],
          "heatmap": [
           {
            "colorbar": {
             "outlinewidth": 0,
             "ticks": ""
            },
            "colorscale": [
             [
              0,
              "#0d0887"
             ],
             [
              0.1111111111111111,
              "#46039f"
             ],
             [
              0.2222222222222222,
              "#7201a8"
             ],
             [
              0.3333333333333333,
              "#9c179e"
             ],
             [
              0.4444444444444444,
              "#bd3786"
             ],
             [
              0.5555555555555556,
              "#d8576b"
             ],
             [
              0.6666666666666666,
              "#ed7953"
             ],
             [
              0.7777777777777778,
              "#fb9f3a"
             ],
             [
              0.8888888888888888,
              "#fdca26"
             ],
             [
              1,
              "#f0f921"
             ]
            ],
            "type": "heatmap"
           }
          ],
          "heatmapgl": [
           {
            "colorbar": {
             "outlinewidth": 0,
             "ticks": ""
            },
            "colorscale": [
             [
              0,
              "#0d0887"
             ],
             [
              0.1111111111111111,
              "#46039f"
             ],
             [
              0.2222222222222222,
              "#7201a8"
             ],
             [
              0.3333333333333333,
              "#9c179e"
             ],
             [
              0.4444444444444444,
              "#bd3786"
             ],
             [
              0.5555555555555556,
              "#d8576b"
             ],
             [
              0.6666666666666666,
              "#ed7953"
             ],
             [
              0.7777777777777778,
              "#fb9f3a"
             ],
             [
              0.8888888888888888,
              "#fdca26"
             ],
             [
              1,
              "#f0f921"
             ]
            ],
            "type": "heatmapgl"
           }
          ],
          "histogram": [
           {
            "marker": {
             "pattern": {
              "fillmode": "overlay",
              "size": 10,
              "solidity": 0.2
             }
            },
            "type": "histogram"
           }
          ],
          "histogram2d": [
           {
            "colorbar": {
             "outlinewidth": 0,
             "ticks": ""
            },
            "colorscale": [
             [
              0,
              "#0d0887"
             ],
             [
              0.1111111111111111,
              "#46039f"
             ],
             [
              0.2222222222222222,
              "#7201a8"
             ],
             [
              0.3333333333333333,
              "#9c179e"
             ],
             [
              0.4444444444444444,
              "#bd3786"
             ],
             [
              0.5555555555555556,
              "#d8576b"
             ],
             [
              0.6666666666666666,
              "#ed7953"
             ],
             [
              0.7777777777777778,
              "#fb9f3a"
             ],
             [
              0.8888888888888888,
              "#fdca26"
             ],
             [
              1,
              "#f0f921"
             ]
            ],
            "type": "histogram2d"
           }
          ],
          "histogram2dcontour": [
           {
            "colorbar": {
             "outlinewidth": 0,
             "ticks": ""
            },
            "colorscale": [
             [
              0,
              "#0d0887"
             ],
             [
              0.1111111111111111,
              "#46039f"
             ],
             [
              0.2222222222222222,
              "#7201a8"
             ],
             [
              0.3333333333333333,
              "#9c179e"
             ],
             [
              0.4444444444444444,
              "#bd3786"
             ],
             [
              0.5555555555555556,
              "#d8576b"
             ],
             [
              0.6666666666666666,
              "#ed7953"
             ],
             [
              0.7777777777777778,
              "#fb9f3a"
             ],
             [
              0.8888888888888888,
              "#fdca26"
             ],
             [
              1,
              "#f0f921"
             ]
            ],
            "type": "histogram2dcontour"
           }
          ],
          "mesh3d": [
           {
            "colorbar": {
             "outlinewidth": 0,
             "ticks": ""
            },
            "type": "mesh3d"
           }
          ],
          "parcoords": [
           {
            "line": {
             "colorbar": {
              "outlinewidth": 0,
              "ticks": ""
             }
            },
            "type": "parcoords"
           }
          ],
          "pie": [
           {
            "automargin": true,
            "type": "pie"
           }
          ],
          "scatter": [
           {
            "marker": {
             "colorbar": {
              "outlinewidth": 0,
              "ticks": ""
             }
            },
            "type": "scatter"
           }
          ],
          "scatter3d": [
           {
            "line": {
             "colorbar": {
              "outlinewidth": 0,
              "ticks": ""
             }
            },
            "marker": {
             "colorbar": {
              "outlinewidth": 0,
              "ticks": ""
             }
            },
            "type": "scatter3d"
           }
          ],
          "scattercarpet": [
           {
            "marker": {
             "colorbar": {
              "outlinewidth": 0,
              "ticks": ""
             }
            },
            "type": "scattercarpet"
           }
          ],
          "scattergeo": [
           {
            "marker": {
             "colorbar": {
              "outlinewidth": 0,
              "ticks": ""
             }
            },
            "type": "scattergeo"
           }
          ],
          "scattergl": [
           {
            "marker": {
             "colorbar": {
              "outlinewidth": 0,
              "ticks": ""
             }
            },
            "type": "scattergl"
           }
          ],
          "scattermapbox": [
           {
            "marker": {
             "colorbar": {
              "outlinewidth": 0,
              "ticks": ""
             }
            },
            "type": "scattermapbox"
           }
          ],
          "scatterpolar": [
           {
            "marker": {
             "colorbar": {
              "outlinewidth": 0,
              "ticks": ""
             }
            },
            "type": "scatterpolar"
           }
          ],
          "scatterpolargl": [
           {
            "marker": {
             "colorbar": {
              "outlinewidth": 0,
              "ticks": ""
             }
            },
            "type": "scatterpolargl"
           }
          ],
          "scatterternary": [
           {
            "marker": {
             "colorbar": {
              "outlinewidth": 0,
              "ticks": ""
             }
            },
            "type": "scatterternary"
           }
          ],
          "surface": [
           {
            "colorbar": {
             "outlinewidth": 0,
             "ticks": ""
            },
            "colorscale": [
             [
              0,
              "#0d0887"
             ],
             [
              0.1111111111111111,
              "#46039f"
             ],
             [
              0.2222222222222222,
              "#7201a8"
             ],
             [
              0.3333333333333333,
              "#9c179e"
             ],
             [
              0.4444444444444444,
              "#bd3786"
             ],
             [
              0.5555555555555556,
              "#d8576b"
             ],
             [
              0.6666666666666666,
              "#ed7953"
             ],
             [
              0.7777777777777778,
              "#fb9f3a"
             ],
             [
              0.8888888888888888,
              "#fdca26"
             ],
             [
              1,
              "#f0f921"
             ]
            ],
            "type": "surface"
           }
          ],
          "table": [
           {
            "cells": {
             "fill": {
              "color": "#EBF0F8"
             },
             "line": {
              "color": "white"
             }
            },
            "header": {
             "fill": {
              "color": "#C8D4E3"
             },
             "line": {
              "color": "white"
             }
            },
            "type": "table"
           }
          ]
         },
         "layout": {
          "annotationdefaults": {
           "arrowcolor": "#2a3f5f",
           "arrowhead": 0,
           "arrowwidth": 1
          },
          "autotypenumbers": "strict",
          "coloraxis": {
           "colorbar": {
            "outlinewidth": 0,
            "ticks": ""
           }
          },
          "colorscale": {
           "diverging": [
            [
             0,
             "#8e0152"
            ],
            [
             0.1,
             "#c51b7d"
            ],
            [
             0.2,
             "#de77ae"
            ],
            [
             0.3,
             "#f1b6da"
            ],
            [
             0.4,
             "#fde0ef"
            ],
            [
             0.5,
             "#f7f7f7"
            ],
            [
             0.6,
             "#e6f5d0"
            ],
            [
             0.7,
             "#b8e186"
            ],
            [
             0.8,
             "#7fbc41"
            ],
            [
             0.9,
             "#4d9221"
            ],
            [
             1,
             "#276419"
            ]
           ],
           "sequential": [
            [
             0,
             "#0d0887"
            ],
            [
             0.1111111111111111,
             "#46039f"
            ],
            [
             0.2222222222222222,
             "#7201a8"
            ],
            [
             0.3333333333333333,
             "#9c179e"
            ],
            [
             0.4444444444444444,
             "#bd3786"
            ],
            [
             0.5555555555555556,
             "#d8576b"
            ],
            [
             0.6666666666666666,
             "#ed7953"
            ],
            [
             0.7777777777777778,
             "#fb9f3a"
            ],
            [
             0.8888888888888888,
             "#fdca26"
            ],
            [
             1,
             "#f0f921"
            ]
           ],
           "sequentialminus": [
            [
             0,
             "#0d0887"
            ],
            [
             0.1111111111111111,
             "#46039f"
            ],
            [
             0.2222222222222222,
             "#7201a8"
            ],
            [
             0.3333333333333333,
             "#9c179e"
            ],
            [
             0.4444444444444444,
             "#bd3786"
            ],
            [
             0.5555555555555556,
             "#d8576b"
            ],
            [
             0.6666666666666666,
             "#ed7953"
            ],
            [
             0.7777777777777778,
             "#fb9f3a"
            ],
            [
             0.8888888888888888,
             "#fdca26"
            ],
            [
             1,
             "#f0f921"
            ]
           ]
          },
          "colorway": [
           "#636efa",
           "#EF553B",
           "#00cc96",
           "#ab63fa",
           "#FFA15A",
           "#19d3f3",
           "#FF6692",
           "#B6E880",
           "#FF97FF",
           "#FECB52"
          ],
          "font": {
           "color": "#2a3f5f"
          },
          "geo": {
           "bgcolor": "white",
           "lakecolor": "white",
           "landcolor": "#E5ECF6",
           "showlakes": true,
           "showland": true,
           "subunitcolor": "white"
          },
          "hoverlabel": {
           "align": "left"
          },
          "hovermode": "closest",
          "mapbox": {
           "style": "light"
          },
          "paper_bgcolor": "white",
          "plot_bgcolor": "#E5ECF6",
          "polar": {
           "angularaxis": {
            "gridcolor": "white",
            "linecolor": "white",
            "ticks": ""
           },
           "bgcolor": "#E5ECF6",
           "radialaxis": {
            "gridcolor": "white",
            "linecolor": "white",
            "ticks": ""
           }
          },
          "scene": {
           "xaxis": {
            "backgroundcolor": "#E5ECF6",
            "gridcolor": "white",
            "gridwidth": 2,
            "linecolor": "white",
            "showbackground": true,
            "ticks": "",
            "zerolinecolor": "white"
           },
           "yaxis": {
            "backgroundcolor": "#E5ECF6",
            "gridcolor": "white",
            "gridwidth": 2,
            "linecolor": "white",
            "showbackground": true,
            "ticks": "",
            "zerolinecolor": "white"
           },
           "zaxis": {
            "backgroundcolor": "#E5ECF6",
            "gridcolor": "white",
            "gridwidth": 2,
            "linecolor": "white",
            "showbackground": true,
            "ticks": "",
            "zerolinecolor": "white"
           }
          },
          "shapedefaults": {
           "line": {
            "color": "#2a3f5f"
           }
          },
          "ternary": {
           "aaxis": {
            "gridcolor": "white",
            "linecolor": "white",
            "ticks": ""
           },
           "baxis": {
            "gridcolor": "white",
            "linecolor": "white",
            "ticks": ""
           },
           "bgcolor": "#E5ECF6",
           "caxis": {
            "gridcolor": "white",
            "linecolor": "white",
            "ticks": ""
           }
          },
          "title": {
           "x": 0.05
          },
          "xaxis": {
           "automargin": true,
           "gridcolor": "white",
           "linecolor": "white",
           "ticks": "",
           "title": {
            "standoff": 15
           },
           "zerolinecolor": "white",
           "zerolinewidth": 2
          },
          "yaxis": {
           "automargin": true,
           "gridcolor": "white",
           "linecolor": "white",
           "ticks": "",
           "title": {
            "standoff": 15
           },
           "zerolinecolor": "white",
           "zerolinewidth": 2
          }
         }
        },
        "xaxis": {
         "anchor": "y",
         "domain": [
          0,
          1
         ],
         "title": {
          "text": "variable"
         }
        },
        "yaxis": {
         "anchor": "x",
         "domain": [
          0,
          1
         ],
         "title": {
          "text": "value"
         }
        }
       }
      },
      "text/html": [
       "<div>                            <div id=\"ef5b527f-7bc3-4ca8-a274-903e439d7f77\" class=\"plotly-graph-div\" style=\"height:525px; width:100%;\"></div>            <script type=\"text/javascript\">                require([\"plotly\"], function(Plotly) {                    window.PLOTLYENV=window.PLOTLYENV || {};                                    if (document.getElementById(\"ef5b527f-7bc3-4ca8-a274-903e439d7f77\")) {                    Plotly.newPlot(                        \"ef5b527f-7bc3-4ca8-a274-903e439d7f77\",                        [{\"alignmentgroup\":\"True\",\"hovertemplate\":\"variable=%{x}<br>value=%{y}<extra></extra>\",\"legendgroup\":\"\",\"marker\":{\"color\":\"#636efa\"},\"name\":\"\",\"notched\":false,\"offsetgroup\":\"\",\"orientation\":\"v\",\"showlegend\":false,\"type\":\"box\",\"x\":[\"bmi\",\"bmi\",\"bmi\",\"bmi\",\"bmi\",\"bmi\",\"bmi\",\"bmi\",\"bmi\",\"bmi\",\"bmi\",\"bmi\",\"bmi\",\"bmi\",\"bmi\",\"bmi\",\"bmi\",\"bmi\",\"bmi\",\"bmi\",\"bmi\",\"bmi\",\"bmi\",\"bmi\",\"bmi\",\"bmi\",\"bmi\",\"bmi\",\"bmi\",\"bmi\",\"bmi\",\"bmi\",\"bmi\",\"bmi\",\"bmi\",\"bmi\",\"bmi\",\"bmi\",\"bmi\",\"bmi\",\"bmi\",\"bmi\",\"bmi\",\"bmi\",\"bmi\",\"bmi\",\"bmi\",\"bmi\",\"bmi\",\"bmi\",\"bmi\",\"bmi\",\"bmi\",\"bmi\",\"bmi\",\"bmi\",\"bmi\",\"bmi\",\"bmi\",\"bmi\",\"bmi\",\"bmi\",\"bmi\",\"bmi\",\"bmi\",\"bmi\",\"bmi\",\"bmi\",\"bmi\",\"bmi\",\"bmi\",\"bmi\",\"bmi\",\"bmi\",\"bmi\",\"bmi\",\"bmi\",\"bmi\",\"bmi\",\"bmi\",\"bmi\",\"bmi\",\"bmi\",\"bmi\",\"bmi\",\"bmi\",\"bmi\",\"bmi\",\"bmi\",\"bmi\",\"bmi\",\"bmi\",\"bmi\",\"bmi\",\"bmi\",\"bmi\",\"bmi\",\"bmi\",\"bmi\",\"bmi\",\"bmi\",\"bmi\",\"bmi\",\"bmi\",\"bmi\",\"bmi\",\"bmi\",\"bmi\",\"bmi\",\"bmi\",\"bmi\",\"bmi\",\"bmi\",\"bmi\",\"bmi\",\"bmi\",\"bmi\",\"bmi\",\"bmi\",\"bmi\",\"bmi\",\"bmi\",\"bmi\",\"bmi\",\"bmi\",\"bmi\",\"bmi\",\"bmi\",\"bmi\",\"bmi\",\"bmi\",\"bmi\",\"bmi\",\"bmi\",\"bmi\",\"bmi\",\"bmi\",\"bmi\",\"bmi\",\"bmi\",\"bmi\",\"bmi\",\"bmi\",\"bmi\",\"bmi\",\"bmi\",\"bmi\",\"bmi\",\"bmi\",\"bmi\",\"bmi\",\"bmi\",\"bmi\",\"bmi\",\"bmi\",\"bmi\",\"bmi\",\"bmi\",\"bmi\",\"bmi\",\"bmi\",\"bmi\",\"bmi\",\"bmi\",\"bmi\",\"bmi\",\"bmi\",\"bmi\",\"bmi\",\"bmi\",\"bmi\",\"bmi\",\"bmi\",\"bmi\",\"bmi\",\"bmi\",\"bmi\",\"bmi\",\"bmi\",\"bmi\",\"bmi\",\"bmi\",\"bmi\",\"bmi\",\"bmi\",\"bmi\",\"bmi\",\"bmi\",\"bmi\",\"bmi\",\"bmi\",\"bmi\",\"bmi\",\"bmi\",\"bmi\",\"bmi\",\"bmi\",\"bmi\",\"bmi\",\"bmi\",\"bmi\",\"bmi\",\"bmi\",\"bmi\",\"bmi\",\"bmi\",\"bmi\",\"bmi\",\"bmi\",\"bmi\",\"bmi\",\"bmi\",\"bmi\",\"bmi\",\"bmi\",\"bmi\",\"bmi\",\"bmi\",\"bmi\",\"bmi\",\"bmi\",\"bmi\",\"bmi\",\"bmi\",\"bmi\",\"bmi\",\"bmi\",\"bmi\",\"bmi\",\"bmi\",\"bmi\",\"bmi\",\"bmi\",\"bmi\",\"bmi\",\"bmi\",\"bmi\",\"bmi\",\"bmi\",\"bmi\",\"bmi\",\"bmi\",\"bmi\",\"bmi\",\"bmi\",\"bmi\",\"bmi\",\"bmi\",\"bmi\",\"bmi\",\"bmi\",\"bmi\",\"bmi\",\"bmi\",\"bmi\",\"bmi\",\"bmi\",\"bmi\",\"bmi\",\"bmi\",\"bmi\",\"bmi\",\"bmi\",\"bmi\",\"bmi\",\"bmi\",\"bmi\",\"bmi\",\"bmi\",\"bmi\",\"bmi\",\"bmi\",\"bmi\",\"bmi\",\"bmi\",\"bmi\",\"bmi\",\"bmi\",\"bmi\",\"bmi\",\"bmi\",\"bmi\",\"bmi\",\"bmi\",\"bmi\",\"bmi\",\"bmi\",\"bmi\",\"bmi\",\"bmi\",\"bmi\",\"bmi\",\"bmi\",\"bmi\",\"bmi\",\"bmi\",\"bmi\",\"bmi\",\"bmi\",\"bmi\",\"bmi\",\"bmi\",\"bmi\",\"bmi\",\"bmi\",\"bmi\",\"bmi\",\"bmi\",\"bmi\",\"bmi\",\"bmi\",\"bmi\",\"bmi\",\"bmi\",\"bmi\",\"bmi\",\"bmi\",\"bmi\",\"bmi\",\"bmi\",\"bmi\",\"bmi\",\"bmi\",\"bmi\",\"bmi\",\"bmi\",\"bmi\",\"bmi\",\"bmi\",\"bmi\",\"bmi\",\"bmi\",\"bmi\",\"bmi\",\"bmi\",\"bmi\",\"bmi\",\"bmi\",\"bmi\",\"bmi\",\"bmi\",\"bmi\",\"bmi\",\"bmi\",\"bmi\",\"bmi\",\"bmi\",\"bmi\",\"bmi\",\"bmi\",\"bmi\",\"bmi\",\"bmi\",\"bmi\",\"bmi\",\"bmi\",\"bmi\",\"bmi\",\"bmi\",\"bmi\",\"bmi\",\"bmi\",\"bmi\",\"bmi\",\"bmi\",\"bmi\",\"bmi\",\"bmi\",\"bmi\",\"bmi\",\"bmi\",\"bmi\",\"bmi\",\"bmi\",\"bmi\",\"bmi\",\"bmi\",\"bmi\",\"bmi\",\"bmi\",\"bmi\",\"bmi\",\"bmi\",\"bmi\",\"bmi\",\"bmi\",\"bmi\",\"bmi\",\"bmi\",\"bmi\",\"bmi\",\"bmi\",\"bmi\",\"bmi\",\"bmi\",\"bmi\",\"bmi\",\"bmi\",\"bmi\",\"bmi\",\"bmi\",\"bmi\",\"bmi\",\"bmi\",\"bmi\",\"bmi\",\"bmi\",\"bmi\",\"bmi\",\"bmi\",\"bmi\",\"bmi\",\"bmi\",\"bmi\",\"bmi\",\"bmi\",\"bmi\",\"bmi\",\"bmi\",\"bmi\",\"bmi\",\"bmi\",\"bmi\",\"bmi\",\"bmi\",\"bmi\",\"bmi\",\"bmi\",\"bmi\",\"bmi\",\"bmi\",\"bmi\",\"bmi\",\"bmi\",\"bmi\",\"bmi\",\"bmi\",\"bmi\",\"bmi\",\"bmi\",\"bmi\",\"bmi\",\"bmi\",\"bmi\",\"bmi\",\"bmi\",\"bmi\",\"bmi\",\"bmi\",\"bmi\",\"bmi\",\"bmi\",\"bmi\",\"bmi\",\"bmi\",\"bmi\",\"bmi\",\"bmi\",\"bmi\",\"bmi\",\"bmi\",\"bmi\",\"bmi\",\"bmi\",\"bmi\",\"bmi\",\"bmi\",\"bmi\",\"bmi\",\"bmi\",\"bmi\",\"bmi\",\"bmi\",\"bmi\",\"bmi\",\"bmi\",\"bmi\",\"bmi\",\"bmi\",\"bmi\",\"bmi\",\"bmi\",\"bmi\",\"bmi\",\"bmi\",\"bmi\",\"bmi\",\"bmi\",\"bmi\",\"bmi\",\"bmi\",\"bmi\",\"bmi\",\"bmi\",\"bmi\",\"bmi\",\"bmi\",\"bmi\",\"bmi\",\"bmi\",\"bmi\",\"bmi\",\"bmi\",\"bmi\",\"bmi\",\"bmi\",\"bmi\",\"bmi\",\"bmi\",\"bmi\",\"bmi\",\"bmi\",\"bmi\",\"bmi\",\"bmi\",\"bmi\",\"bmi\",\"bmi\",\"bmi\",\"bmi\",\"bmi\",\"bmi\",\"bmi\",\"bmi\",\"bmi\",\"bmi\",\"bmi\",\"bmi\",\"bmi\",\"bmi\",\"bmi\",\"bmi\",\"bmi\",\"bmi\",\"bmi\",\"bmi\",\"bmi\",\"bmi\",\"bmi\",\"bmi\",\"bmi\",\"bmi\",\"bmi\",\"bmi\",\"bmi\",\"bmi\",\"bmi\",\"bmi\",\"bmi\",\"bmi\",\"bmi\",\"bmi\",\"bmi\",\"bmi\",\"bmi\",\"bmi\",\"bmi\",\"bmi\",\"bmi\",\"bmi\",\"bmi\",\"bmi\",\"bmi\",\"bmi\",\"bmi\",\"bmi\",\"bmi\",\"bmi\",\"bmi\",\"bmi\",\"bmi\",\"bmi\",\"bmi\",\"bmi\",\"bmi\",\"bmi\",\"bmi\",\"bmi\",\"bmi\",\"bmi\",\"bmi\",\"bmi\",\"bmi\",\"bmi\",\"bmi\",\"bmi\",\"bmi\",\"bmi\",\"bmi\",\"bmi\",\"bmi\",\"bmi\",\"bmi\",\"bmi\",\"bmi\",\"bmi\",\"bmi\",\"bmi\",\"bmi\",\"bmi\",\"bmi\",\"bmi\",\"bmi\",\"bmi\",\"bmi\",\"bmi\",\"bmi\",\"bmi\",\"bmi\",\"bmi\",\"bmi\",\"bmi\",\"bmi\",\"bmi\",\"bmi\",\"bmi\",\"bmi\",\"bmi\",\"bmi\",\"bmi\",\"bmi\",\"bmi\",\"bmi\",\"bmi\",\"bmi\",\"bmi\",\"bmi\",\"bmi\",\"bmi\",\"bmi\",\"bmi\",\"bmi\",\"bmi\",\"bmi\",\"bmi\",\"bmi\",\"bmi\",\"bmi\",\"bmi\",\"bmi\",\"bmi\",\"bmi\",\"bmi\",\"bmi\",\"bmi\",\"bmi\",\"bmi\",\"bmi\",\"bmi\",\"bmi\",\"bmi\",\"bmi\",\"bmi\",\"bmi\",\"bmi\",\"bmi\",\"bmi\",\"bmi\",\"bmi\",\"bmi\",\"bmi\",\"bmi\",\"bmi\",\"bmi\",\"bmi\",\"bmi\",\"bmi\",\"bmi\",\"bmi\",\"bmi\",\"bmi\",\"bmi\",\"bmi\",\"bmi\",\"bmi\",\"bmi\"],\"x0\":\" \",\"xaxis\":\"x\",\"y\":[33.6,26.6,23.3,28.1,43.1,25.6,31.0,37.6,38.0,27.1,25.8,45.8,29.6,34.6,39.3,35.4,39.8,29.0,36.6,31.1,39.4,23.2,22.2,34.1,36.0,31.6,24.8,19.9,27.6,24.0,33.2,32.9,38.2,37.1,34.0,40.2,22.7,27.4,42.0,29.7,28.0,39.1,19.4,24.2,24.4,33.7,23.0,37.7,46.8,40.5,41.5,32.9,25.0,25.4,32.8,29.0,32.5,42.7,19.6,28.9,32.9,28.6,43.4,35.1,32.0,32.6,37.7,25.0,22.4,29.3,24.6,32.4,36.6,38.5,26.5,19.1,32.0,46.7,23.8,24.7,33.9,31.6,20.4,28.7,39.0,26.1,22.5,26.6,39.6,28.7,29.5,34.3,37.4,33.3,31.2,34.0,30.5,31.2,34.0,33.7,28.2,23.2,34.2,33.6,26.8,33.3,42.9,33.3,34.5,27.9,29.7,33.3,34.5,38.3,21.1,33.8,30.8,28.7,31.2,36.9,21.1,39.5,32.5,32.4,32.8,32.8,30.5,33.7,27.3,37.4,21.9,34.3,47.9,24.6,25.2,29.0,29.7,37.2,44.2,29.7,31.6,29.9,32.5,29.6,31.9,28.4,30.8,35.4,43.5,29.7,32.7,31.2,45.0,39.1,23.2,34.9,26.8,27.6,35.9,32.0,27.9,31.6,22.6,33.1,30.4,24.4,39.4,24.3,22.9,34.8,30.9,31.0,40.1,27.3,20.4,37.7,23.9,37.5,37.7,33.2,35.5,27.7,42.8,34.2,42.6,34.2,41.8,35.8,30.0,29.0,37.8,31.6,28.8,23.6,34.6,35.7,37.2,45.2,44.0,25.4,35.0,29.7,43.6,35.9,44.1,30.8,18.4,29.2,33.1,25.6,27.1,38.2,30.0,31.2,30.1,31.2,28.0,24.4,35.8,27.6,33.6,30.1,28.7,33.3,30.9,32.1,32.4,32.0,33.6,40.0,25.1,45.6,25.2,23.0,33.2,34.2,40.5,26.5,27.8,24.9,25.3,37.9,35.9,32.4,30.4,27.0,26.0,45.6,20.8,36.1,36.9,36.6,43.3,40.5,21.9,35.5,30.7,23.6,31.6,35.8,21.0,39.7,25.5,24.8,30.5,32.9,26.2,39.4,26.6,29.5,35.9,34.1,19.3,30.5,38.1,23.5,27.5,31.6,27.4,26.8,35.7,25.6,35.1,35.1,45.5,30.8,23.1,32.7,23.6,23.9,47.9,31.2,34.2,39.9,25.9,25.9,34.7,36.8,38.5,28.7,21.8,42.2,31.2,34.4,27.2,42.7,30.4,33.3,35.3,36.5,31.2,29.8,38.5,34.9,34.0,27.6,21.0,27.5,32.8,35.8,34.9,36.2,39.2,25.2,37.2,48.3,43.4,30.8,20.0,25.4,25.1,24.3,22.3,32.3,43.3,32.0,31.6,32.0,45.7,22.1,32.9,27.7,24.7,34.3,21.1,34.9,32.0,24.2,35.0,31.6,32.9,42.1,28.9,21.9,25.9,35.7,34.4,42.4,26.2,34.6,27.2,38.5,18.2,26.4,45.3,26.0,40.6,30.8,42.9,37.0,34.1,40.6,35.0,30.4,30.0,25.6,24.5,37.4,29.9,18.2,36.8,34.3,32.2,33.2,30.5,29.7,25.3,36.5,33.6,30.5,21.2,28.9,39.9,37.8,26.7,30.2,37.6,25.9,20.8,21.8,35.3,27.6,24.0,21.8,27.8,36.8,46.1,41.3,33.2,38.8,29.9,28.9,27.3,33.7,23.8,25.9,28.0,35.5,35.2,27.8,38.2,42.3,46.5,25.6,26.1,36.8,33.5,32.8,28.9,26.6,26.0,30.1,25.1,29.3,25.2,37.2,33.3,37.3,33.3,36.5,28.6,30.4,25.0,29.7,22.1,24.2,27.3,25.6,31.6,30.3,37.6,32.8,19.6,25.0,33.2,34.2,31.6,21.8,18.2,26.3,30.8,24.6,29.8,45.3,41.3,33.3,29.6,21.7,36.3,36.4,39.4,32.4,34.9,39.5,32.0,34.5,43.6,33.1,32.8,27.4,31.9,27.8,29.9,36.9,25.5,38.1,27.8,46.2,30.1,33.8,41.3,37.6,26.9,32.4,26.1,38.6,32.0,31.3,34.3,32.5,22.6,29.5,34.7,30.1,35.5,24.0,42.9,27.0,42.1,25.0,26.5,38.7,22.5,34.9,24.3,33.3,46.8,39.4,34.4,28.5,33.6,32.0,45.3,36.8,23.1,27.1,27.8,35.2,35.8,40.0,19.5,41.5,24.0,30.9,32.9,38.2,32.5,36.1,25.8,28.7,20.1,28.2,38.4,24.2,40.8,43.5,30.8,37.7,24.7,32.4,34.6,24.7,27.4,34.5,26.2,27.5,25.9,31.2,28.8,31.6,40.9,19.5,29.3,34.3,29.5,27.6,23.4,37.8,28.3,26.4,25.2,33.8,34.1,26.8,34.2,21.8,38.9,39.0,34.2,27.7,42.9,37.6,37.9,33.7,34.8,32.5,27.5,34.0,30.9,33.6,25.4,35.5,35.6,30.9,24.8,35.3,36.0,24.2,24.2,49.6,44.6,32.3,33.2,23.1,28.3,24.1,46.1,24.6,39.1,38.5,23.5,29.9,34.5,44.5,35.9,27.6,35.0,28.4,39.8,32.8,38.0,29.6,41.2,26.4,29.5,33.8,23.1,35.5,35.6,29.3,38.1,29.3,39.1,32.8,39.4,36.1,32.4,22.9,30.1,28.4,28.4,44.5,29.0,23.3,35.4,27.4,32.0,36.6,39.5,42.3,30.8,28.5,32.7,40.6,30.0,49.3,46.3,36.4,24.3,31.2,39.0,26.0,32.4,36.5,32.0,36.3,37.5,35.5,28.4,44.0,22.5,32.9,36.8,26.2,30.1,30.4],\"y0\":\" \",\"yaxis\":\"y\"}],                        {\"boxmode\":\"group\",\"legend\":{\"tracegroupgap\":0},\"margin\":{\"t\":60},\"template\":{\"data\":{\"bar\":[{\"error_x\":{\"color\":\"#2a3f5f\"},\"error_y\":{\"color\":\"#2a3f5f\"},\"marker\":{\"line\":{\"color\":\"#E5ECF6\",\"width\":0.5},\"pattern\":{\"fillmode\":\"overlay\",\"size\":10,\"solidity\":0.2}},\"type\":\"bar\"}],\"barpolar\":[{\"marker\":{\"line\":{\"color\":\"#E5ECF6\",\"width\":0.5},\"pattern\":{\"fillmode\":\"overlay\",\"size\":10,\"solidity\":0.2}},\"type\":\"barpolar\"}],\"carpet\":[{\"aaxis\":{\"endlinecolor\":\"#2a3f5f\",\"gridcolor\":\"white\",\"linecolor\":\"white\",\"minorgridcolor\":\"white\",\"startlinecolor\":\"#2a3f5f\"},\"baxis\":{\"endlinecolor\":\"#2a3f5f\",\"gridcolor\":\"white\",\"linecolor\":\"white\",\"minorgridcolor\":\"white\",\"startlinecolor\":\"#2a3f5f\"},\"type\":\"carpet\"}],\"choropleth\":[{\"colorbar\":{\"outlinewidth\":0,\"ticks\":\"\"},\"type\":\"choropleth\"}],\"contour\":[{\"colorbar\":{\"outlinewidth\":0,\"ticks\":\"\"},\"colorscale\":[[0.0,\"#0d0887\"],[0.1111111111111111,\"#46039f\"],[0.2222222222222222,\"#7201a8\"],[0.3333333333333333,\"#9c179e\"],[0.4444444444444444,\"#bd3786\"],[0.5555555555555556,\"#d8576b\"],[0.6666666666666666,\"#ed7953\"],[0.7777777777777778,\"#fb9f3a\"],[0.8888888888888888,\"#fdca26\"],[1.0,\"#f0f921\"]],\"type\":\"contour\"}],\"contourcarpet\":[{\"colorbar\":{\"outlinewidth\":0,\"ticks\":\"\"},\"type\":\"contourcarpet\"}],\"heatmap\":[{\"colorbar\":{\"outlinewidth\":0,\"ticks\":\"\"},\"colorscale\":[[0.0,\"#0d0887\"],[0.1111111111111111,\"#46039f\"],[0.2222222222222222,\"#7201a8\"],[0.3333333333333333,\"#9c179e\"],[0.4444444444444444,\"#bd3786\"],[0.5555555555555556,\"#d8576b\"],[0.6666666666666666,\"#ed7953\"],[0.7777777777777778,\"#fb9f3a\"],[0.8888888888888888,\"#fdca26\"],[1.0,\"#f0f921\"]],\"type\":\"heatmap\"}],\"heatmapgl\":[{\"colorbar\":{\"outlinewidth\":0,\"ticks\":\"\"},\"colorscale\":[[0.0,\"#0d0887\"],[0.1111111111111111,\"#46039f\"],[0.2222222222222222,\"#7201a8\"],[0.3333333333333333,\"#9c179e\"],[0.4444444444444444,\"#bd3786\"],[0.5555555555555556,\"#d8576b\"],[0.6666666666666666,\"#ed7953\"],[0.7777777777777778,\"#fb9f3a\"],[0.8888888888888888,\"#fdca26\"],[1.0,\"#f0f921\"]],\"type\":\"heatmapgl\"}],\"histogram\":[{\"marker\":{\"pattern\":{\"fillmode\":\"overlay\",\"size\":10,\"solidity\":0.2}},\"type\":\"histogram\"}],\"histogram2d\":[{\"colorbar\":{\"outlinewidth\":0,\"ticks\":\"\"},\"colorscale\":[[0.0,\"#0d0887\"],[0.1111111111111111,\"#46039f\"],[0.2222222222222222,\"#7201a8\"],[0.3333333333333333,\"#9c179e\"],[0.4444444444444444,\"#bd3786\"],[0.5555555555555556,\"#d8576b\"],[0.6666666666666666,\"#ed7953\"],[0.7777777777777778,\"#fb9f3a\"],[0.8888888888888888,\"#fdca26\"],[1.0,\"#f0f921\"]],\"type\":\"histogram2d\"}],\"histogram2dcontour\":[{\"colorbar\":{\"outlinewidth\":0,\"ticks\":\"\"},\"colorscale\":[[0.0,\"#0d0887\"],[0.1111111111111111,\"#46039f\"],[0.2222222222222222,\"#7201a8\"],[0.3333333333333333,\"#9c179e\"],[0.4444444444444444,\"#bd3786\"],[0.5555555555555556,\"#d8576b\"],[0.6666666666666666,\"#ed7953\"],[0.7777777777777778,\"#fb9f3a\"],[0.8888888888888888,\"#fdca26\"],[1.0,\"#f0f921\"]],\"type\":\"histogram2dcontour\"}],\"mesh3d\":[{\"colorbar\":{\"outlinewidth\":0,\"ticks\":\"\"},\"type\":\"mesh3d\"}],\"parcoords\":[{\"line\":{\"colorbar\":{\"outlinewidth\":0,\"ticks\":\"\"}},\"type\":\"parcoords\"}],\"pie\":[{\"automargin\":true,\"type\":\"pie\"}],\"scatter\":[{\"marker\":{\"colorbar\":{\"outlinewidth\":0,\"ticks\":\"\"}},\"type\":\"scatter\"}],\"scatter3d\":[{\"line\":{\"colorbar\":{\"outlinewidth\":0,\"ticks\":\"\"}},\"marker\":{\"colorbar\":{\"outlinewidth\":0,\"ticks\":\"\"}},\"type\":\"scatter3d\"}],\"scattercarpet\":[{\"marker\":{\"colorbar\":{\"outlinewidth\":0,\"ticks\":\"\"}},\"type\":\"scattercarpet\"}],\"scattergeo\":[{\"marker\":{\"colorbar\":{\"outlinewidth\":0,\"ticks\":\"\"}},\"type\":\"scattergeo\"}],\"scattergl\":[{\"marker\":{\"colorbar\":{\"outlinewidth\":0,\"ticks\":\"\"}},\"type\":\"scattergl\"}],\"scattermapbox\":[{\"marker\":{\"colorbar\":{\"outlinewidth\":0,\"ticks\":\"\"}},\"type\":\"scattermapbox\"}],\"scatterpolar\":[{\"marker\":{\"colorbar\":{\"outlinewidth\":0,\"ticks\":\"\"}},\"type\":\"scatterpolar\"}],\"scatterpolargl\":[{\"marker\":{\"colorbar\":{\"outlinewidth\":0,\"ticks\":\"\"}},\"type\":\"scatterpolargl\"}],\"scatterternary\":[{\"marker\":{\"colorbar\":{\"outlinewidth\":0,\"ticks\":\"\"}},\"type\":\"scatterternary\"}],\"surface\":[{\"colorbar\":{\"outlinewidth\":0,\"ticks\":\"\"},\"colorscale\":[[0.0,\"#0d0887\"],[0.1111111111111111,\"#46039f\"],[0.2222222222222222,\"#7201a8\"],[0.3333333333333333,\"#9c179e\"],[0.4444444444444444,\"#bd3786\"],[0.5555555555555556,\"#d8576b\"],[0.6666666666666666,\"#ed7953\"],[0.7777777777777778,\"#fb9f3a\"],[0.8888888888888888,\"#fdca26\"],[1.0,\"#f0f921\"]],\"type\":\"surface\"}],\"table\":[{\"cells\":{\"fill\":{\"color\":\"#EBF0F8\"},\"line\":{\"color\":\"white\"}},\"header\":{\"fill\":{\"color\":\"#C8D4E3\"},\"line\":{\"color\":\"white\"}},\"type\":\"table\"}]},\"layout\":{\"annotationdefaults\":{\"arrowcolor\":\"#2a3f5f\",\"arrowhead\":0,\"arrowwidth\":1},\"autotypenumbers\":\"strict\",\"coloraxis\":{\"colorbar\":{\"outlinewidth\":0,\"ticks\":\"\"}},\"colorscale\":{\"diverging\":[[0,\"#8e0152\"],[0.1,\"#c51b7d\"],[0.2,\"#de77ae\"],[0.3,\"#f1b6da\"],[0.4,\"#fde0ef\"],[0.5,\"#f7f7f7\"],[0.6,\"#e6f5d0\"],[0.7,\"#b8e186\"],[0.8,\"#7fbc41\"],[0.9,\"#4d9221\"],[1,\"#276419\"]],\"sequential\":[[0.0,\"#0d0887\"],[0.1111111111111111,\"#46039f\"],[0.2222222222222222,\"#7201a8\"],[0.3333333333333333,\"#9c179e\"],[0.4444444444444444,\"#bd3786\"],[0.5555555555555556,\"#d8576b\"],[0.6666666666666666,\"#ed7953\"],[0.7777777777777778,\"#fb9f3a\"],[0.8888888888888888,\"#fdca26\"],[1.0,\"#f0f921\"]],\"sequentialminus\":[[0.0,\"#0d0887\"],[0.1111111111111111,\"#46039f\"],[0.2222222222222222,\"#7201a8\"],[0.3333333333333333,\"#9c179e\"],[0.4444444444444444,\"#bd3786\"],[0.5555555555555556,\"#d8576b\"],[0.6666666666666666,\"#ed7953\"],[0.7777777777777778,\"#fb9f3a\"],[0.8888888888888888,\"#fdca26\"],[1.0,\"#f0f921\"]]},\"colorway\":[\"#636efa\",\"#EF553B\",\"#00cc96\",\"#ab63fa\",\"#FFA15A\",\"#19d3f3\",\"#FF6692\",\"#B6E880\",\"#FF97FF\",\"#FECB52\"],\"font\":{\"color\":\"#2a3f5f\"},\"geo\":{\"bgcolor\":\"white\",\"lakecolor\":\"white\",\"landcolor\":\"#E5ECF6\",\"showlakes\":true,\"showland\":true,\"subunitcolor\":\"white\"},\"hoverlabel\":{\"align\":\"left\"},\"hovermode\":\"closest\",\"mapbox\":{\"style\":\"light\"},\"paper_bgcolor\":\"white\",\"plot_bgcolor\":\"#E5ECF6\",\"polar\":{\"angularaxis\":{\"gridcolor\":\"white\",\"linecolor\":\"white\",\"ticks\":\"\"},\"bgcolor\":\"#E5ECF6\",\"radialaxis\":{\"gridcolor\":\"white\",\"linecolor\":\"white\",\"ticks\":\"\"}},\"scene\":{\"xaxis\":{\"backgroundcolor\":\"#E5ECF6\",\"gridcolor\":\"white\",\"gridwidth\":2,\"linecolor\":\"white\",\"showbackground\":true,\"ticks\":\"\",\"zerolinecolor\":\"white\"},\"yaxis\":{\"backgroundcolor\":\"#E5ECF6\",\"gridcolor\":\"white\",\"gridwidth\":2,\"linecolor\":\"white\",\"showbackground\":true,\"ticks\":\"\",\"zerolinecolor\":\"white\"},\"zaxis\":{\"backgroundcolor\":\"#E5ECF6\",\"gridcolor\":\"white\",\"gridwidth\":2,\"linecolor\":\"white\",\"showbackground\":true,\"ticks\":\"\",\"zerolinecolor\":\"white\"}},\"shapedefaults\":{\"line\":{\"color\":\"#2a3f5f\"}},\"ternary\":{\"aaxis\":{\"gridcolor\":\"white\",\"linecolor\":\"white\",\"ticks\":\"\"},\"baxis\":{\"gridcolor\":\"white\",\"linecolor\":\"white\",\"ticks\":\"\"},\"bgcolor\":\"#E5ECF6\",\"caxis\":{\"gridcolor\":\"white\",\"linecolor\":\"white\",\"ticks\":\"\"}},\"title\":{\"x\":0.05},\"xaxis\":{\"automargin\":true,\"gridcolor\":\"white\",\"linecolor\":\"white\",\"ticks\":\"\",\"title\":{\"standoff\":15},\"zerolinecolor\":\"white\",\"zerolinewidth\":2},\"yaxis\":{\"automargin\":true,\"gridcolor\":\"white\",\"linecolor\":\"white\",\"ticks\":\"\",\"title\":{\"standoff\":15},\"zerolinecolor\":\"white\",\"zerolinewidth\":2}}},\"xaxis\":{\"anchor\":\"y\",\"domain\":[0.0,1.0],\"title\":{\"text\":\"variable\"}},\"yaxis\":{\"anchor\":\"x\",\"domain\":[0.0,1.0],\"title\":{\"text\":\"value\"}}},                        {\"responsive\": true}                    ).then(function(){\n",
       "                            \n",
       "var gd = document.getElementById('ef5b527f-7bc3-4ca8-a274-903e439d7f77');\n",
       "var x = new MutationObserver(function (mutations, observer) {{\n",
       "        var display = window.getComputedStyle(gd).display;\n",
       "        if (!display || display === 'none') {{\n",
       "            console.log([gd, 'removed!']);\n",
       "            Plotly.purge(gd);\n",
       "            observer.disconnect();\n",
       "        }}\n",
       "}});\n",
       "\n",
       "// Listen for the removal of the full notebook cells\n",
       "var notebookContainer = gd.closest('#notebook-container');\n",
       "if (notebookContainer) {{\n",
       "    x.observe(notebookContainer, {childList: true});\n",
       "}}\n",
       "\n",
       "// Listen for the clearing of the current output cell\n",
       "var outputEl = gd.closest('.output');\n",
       "if (outputEl) {{\n",
       "    x.observe(outputEl, {childList: true});\n",
       "}}\n",
       "\n",
       "                        })                };                });            </script>        </div>"
      ]
     },
     "metadata": {},
     "output_type": "display_data"
    }
   ],
   "source": [
    "px.box(df['bmi'])"
   ]
  },
  {
   "cell_type": "code",
   "execution_count": 116,
   "id": "3c3df2f1",
   "metadata": {},
   "outputs": [
    {
     "data": {
      "application/vnd.plotly.v1+json": {
       "config": {
        "plotlyServerURL": "https://plot.ly"
       },
       "data": [
        {
         "alignmentgroup": "True",
         "hovertemplate": "variable=%{x}<br>value=%{y}<extra></extra>",
         "legendgroup": "",
         "marker": {
          "color": "#636efa"
         },
         "name": "",
         "notched": false,
         "offsetgroup": "",
         "orientation": "v",
         "showlegend": false,
         "type": "box",
         "x": [
          "age",
          "age",
          "age",
          "age",
          "age",
          "age",
          "age",
          "age",
          "age",
          "age",
          "age",
          "age",
          "age",
          "age",
          "age",
          "age",
          "age",
          "age",
          "age",
          "age",
          "age",
          "age",
          "age",
          "age",
          "age",
          "age",
          "age",
          "age",
          "age",
          "age",
          "age",
          "age",
          "age",
          "age",
          "age",
          "age",
          "age",
          "age",
          "age",
          "age",
          "age",
          "age",
          "age",
          "age",
          "age",
          "age",
          "age",
          "age",
          "age",
          "age",
          "age",
          "age",
          "age",
          "age",
          "age",
          "age",
          "age",
          "age",
          "age",
          "age",
          "age",
          "age",
          "age",
          "age",
          "age",
          "age",
          "age",
          "age",
          "age",
          "age",
          "age",
          "age",
          "age",
          "age",
          "age",
          "age",
          "age",
          "age",
          "age",
          "age",
          "age",
          "age",
          "age",
          "age",
          "age",
          "age",
          "age",
          "age",
          "age",
          "age",
          "age",
          "age",
          "age",
          "age",
          "age",
          "age",
          "age",
          "age",
          "age",
          "age",
          "age",
          "age",
          "age",
          "age",
          "age",
          "age",
          "age",
          "age",
          "age",
          "age",
          "age",
          "age",
          "age",
          "age",
          "age",
          "age",
          "age",
          "age",
          "age",
          "age",
          "age",
          "age",
          "age",
          "age",
          "age",
          "age",
          "age",
          "age",
          "age",
          "age",
          "age",
          "age",
          "age",
          "age",
          "age",
          "age",
          "age",
          "age",
          "age",
          "age",
          "age",
          "age",
          "age",
          "age",
          "age",
          "age",
          "age",
          "age",
          "age",
          "age",
          "age",
          "age",
          "age",
          "age",
          "age",
          "age",
          "age",
          "age",
          "age",
          "age",
          "age",
          "age",
          "age",
          "age",
          "age",
          "age",
          "age",
          "age",
          "age",
          "age",
          "age",
          "age",
          "age",
          "age",
          "age",
          "age",
          "age",
          "age",
          "age",
          "age",
          "age",
          "age",
          "age",
          "age",
          "age",
          "age",
          "age",
          "age",
          "age",
          "age",
          "age",
          "age",
          "age",
          "age",
          "age",
          "age",
          "age",
          "age",
          "age",
          "age",
          "age",
          "age",
          "age",
          "age",
          "age",
          "age",
          "age",
          "age",
          "age",
          "age",
          "age",
          "age",
          "age",
          "age",
          "age",
          "age",
          "age",
          "age",
          "age",
          "age",
          "age",
          "age",
          "age",
          "age",
          "age",
          "age",
          "age",
          "age",
          "age",
          "age",
          "age",
          "age",
          "age",
          "age",
          "age",
          "age",
          "age",
          "age",
          "age",
          "age",
          "age",
          "age",
          "age",
          "age",
          "age",
          "age",
          "age",
          "age",
          "age",
          "age",
          "age",
          "age",
          "age",
          "age",
          "age",
          "age",
          "age",
          "age",
          "age",
          "age",
          "age",
          "age",
          "age",
          "age",
          "age",
          "age",
          "age",
          "age",
          "age",
          "age",
          "age",
          "age",
          "age",
          "age",
          "age",
          "age",
          "age",
          "age",
          "age",
          "age",
          "age",
          "age",
          "age",
          "age",
          "age",
          "age",
          "age",
          "age",
          "age",
          "age",
          "age",
          "age",
          "age",
          "age",
          "age",
          "age",
          "age",
          "age",
          "age",
          "age",
          "age",
          "age",
          "age",
          "age",
          "age",
          "age",
          "age",
          "age",
          "age",
          "age",
          "age",
          "age",
          "age",
          "age",
          "age",
          "age",
          "age",
          "age",
          "age",
          "age",
          "age",
          "age",
          "age",
          "age",
          "age",
          "age",
          "age",
          "age",
          "age",
          "age",
          "age",
          "age",
          "age",
          "age",
          "age",
          "age",
          "age",
          "age",
          "age",
          "age",
          "age",
          "age",
          "age",
          "age",
          "age",
          "age",
          "age",
          "age",
          "age",
          "age",
          "age",
          "age",
          "age",
          "age",
          "age",
          "age",
          "age",
          "age",
          "age",
          "age",
          "age",
          "age",
          "age",
          "age",
          "age",
          "age",
          "age",
          "age",
          "age",
          "age",
          "age",
          "age",
          "age",
          "age",
          "age",
          "age",
          "age",
          "age",
          "age",
          "age",
          "age",
          "age",
          "age",
          "age",
          "age",
          "age",
          "age",
          "age",
          "age",
          "age",
          "age",
          "age",
          "age",
          "age",
          "age",
          "age",
          "age",
          "age",
          "age",
          "age",
          "age",
          "age",
          "age",
          "age",
          "age",
          "age",
          "age",
          "age",
          "age",
          "age",
          "age",
          "age",
          "age",
          "age",
          "age",
          "age",
          "age",
          "age",
          "age",
          "age",
          "age",
          "age",
          "age",
          "age",
          "age",
          "age",
          "age",
          "age",
          "age",
          "age",
          "age",
          "age",
          "age",
          "age",
          "age",
          "age",
          "age",
          "age",
          "age",
          "age",
          "age",
          "age",
          "age",
          "age",
          "age",
          "age",
          "age",
          "age",
          "age",
          "age",
          "age",
          "age",
          "age",
          "age",
          "age",
          "age",
          "age",
          "age",
          "age",
          "age",
          "age",
          "age",
          "age",
          "age",
          "age",
          "age",
          "age",
          "age",
          "age",
          "age",
          "age",
          "age",
          "age",
          "age",
          "age",
          "age",
          "age",
          "age",
          "age",
          "age",
          "age",
          "age",
          "age",
          "age",
          "age",
          "age",
          "age",
          "age",
          "age",
          "age",
          "age",
          "age",
          "age",
          "age",
          "age",
          "age",
          "age",
          "age",
          "age",
          "age",
          "age",
          "age",
          "age",
          "age",
          "age",
          "age",
          "age",
          "age",
          "age",
          "age",
          "age",
          "age",
          "age",
          "age",
          "age",
          "age",
          "age",
          "age",
          "age",
          "age",
          "age",
          "age",
          "age",
          "age",
          "age",
          "age",
          "age",
          "age",
          "age",
          "age",
          "age",
          "age",
          "age",
          "age",
          "age",
          "age",
          "age",
          "age",
          "age",
          "age",
          "age",
          "age",
          "age",
          "age",
          "age",
          "age",
          "age",
          "age",
          "age",
          "age",
          "age",
          "age",
          "age",
          "age",
          "age",
          "age",
          "age",
          "age",
          "age",
          "age",
          "age",
          "age",
          "age",
          "age",
          "age",
          "age",
          "age",
          "age",
          "age",
          "age",
          "age",
          "age",
          "age",
          "age",
          "age",
          "age",
          "age",
          "age",
          "age",
          "age",
          "age",
          "age",
          "age",
          "age",
          "age",
          "age",
          "age",
          "age",
          "age",
          "age",
          "age",
          "age",
          "age",
          "age",
          "age",
          "age",
          "age",
          "age",
          "age",
          "age",
          "age",
          "age",
          "age",
          "age",
          "age",
          "age",
          "age",
          "age",
          "age",
          "age",
          "age",
          "age",
          "age",
          "age",
          "age",
          "age",
          "age",
          "age",
          "age",
          "age",
          "age",
          "age",
          "age",
          "age",
          "age",
          "age",
          "age",
          "age",
          "age",
          "age",
          "age",
          "age",
          "age",
          "age",
          "age",
          "age",
          "age",
          "age",
          "age",
          "age",
          "age",
          "age",
          "age",
          "age",
          "age",
          "age",
          "age",
          "age",
          "age",
          "age",
          "age",
          "age",
          "age",
          "age",
          "age",
          "age",
          "age",
          "age",
          "age",
          "age",
          "age",
          "age",
          "age",
          "age",
          "age",
          "age",
          "age",
          "age",
          "age",
          "age",
          "age",
          "age",
          "age",
          "age",
          "age",
          "age"
         ],
         "x0": " ",
         "xaxis": "x",
         "y": [
          50,
          31,
          32,
          21,
          33,
          30,
          26,
          30,
          34,
          57,
          51,
          31,
          31,
          32,
          27,
          50,
          41,
          29,
          51,
          41,
          43,
          22,
          57,
          38,
          60,
          28,
          22,
          28,
          45,
          33,
          35,
          46,
          27,
          56,
          26,
          37,
          48,
          40,
          25,
          29,
          22,
          31,
          22,
          26,
          30,
          58,
          21,
          41,
          31,
          44,
          22,
          39,
          36,
          24,
          42,
          32,
          38,
          54,
          25,
          27,
          28,
          26,
          42,
          23,
          22,
          41,
          27,
          24,
          22,
          36,
          22,
          27,
          45,
          26,
          24,
          21,
          34,
          42,
          60,
          21,
          40,
          24,
          22,
          23,
          33,
          22,
          21,
          24,
          27,
          21,
          37,
          25,
          24,
          24,
          23,
          25,
          39,
          61,
          38,
          25,
          22,
          21,
          24,
          23,
          69,
          23,
          30,
          23,
          40,
          62,
          33,
          33,
          30,
          39,
          26,
          31,
          21,
          22,
          29,
          28,
          55,
          38,
          22,
          42,
          23,
          41,
          34,
          65,
          22,
          24,
          37,
          42,
          43,
          21,
          23,
          22,
          36,
          45,
          27,
          21,
          32,
          41,
          22,
          34,
          29,
          29,
          36,
          29,
          23,
          33,
          36,
          42,
          47,
          37,
          32,
          23,
          27,
          40,
          41,
          33,
          31,
          25,
          21,
          40,
          36,
          42,
          29,
          21,
          23,
          26,
          29,
          21,
          28,
          32,
          27,
          55,
          27,
          57,
          52,
          21,
          41,
          25,
          24,
          60,
          24,
          36,
          38,
          25,
          32,
          32,
          41,
          66,
          61,
          26,
          22,
          26,
          24,
          24,
          22,
          22,
          29,
          23,
          26,
          51,
          23,
          32,
          27,
          21,
          22,
          22,
          33,
          29,
          49,
          41,
          23,
          42,
          27,
          24,
          25,
          44,
          21,
          30,
          25,
          51,
          34,
          24,
          63,
          35,
          43,
          24,
          21,
          38,
          21,
          40,
          21,
          52,
          25,
          29,
          23,
          57,
          22,
          28,
          39,
          37,
          47,
          52,
          51,
          29,
          26,
          33,
          21,
          25,
          31,
          24,
          65,
          28,
          24,
          58,
          25,
          35,
          37,
          29,
          47,
          21,
          25,
          30,
          41,
          22,
          27,
          25,
          43,
          26,
          30,
          29,
          28,
          59,
          31,
          25,
          36,
          43,
          21,
          24,
          30,
          37,
          23,
          37,
          46,
          25,
          44,
          22,
          26,
          44,
          33,
          41,
          22,
          36,
          33,
          57,
          49,
          22,
          26,
          29,
          30,
          46,
          24,
          21,
          49,
          28,
          48,
          29,
          29,
          63,
          67,
          30,
          30,
          29,
          21,
          22,
          45,
          21,
          25,
          28,
          58,
          22,
          22,
          32,
          35,
          24,
          22,
          21,
          25,
          25,
          24,
          35,
          45,
          58,
          28,
          42,
          27,
          37,
          31,
          25,
          39,
          22,
          25,
          25,
          31,
          55,
          35,
          38,
          41,
          26,
          46,
          25,
          39,
          28,
          25,
          22,
          21,
          21,
          22,
          37,
          27,
          28,
          26,
          21,
          21,
          21,
          36,
          31,
          38,
          26,
          43,
          38,
          22,
          29,
          36,
          41,
          28,
          21,
          31,
          41,
          22,
          24,
          33,
          30,
          28,
          26,
          22,
          26,
          23,
          23,
          25,
          24,
          62,
          24,
          51,
          81,
          48,
          26,
          39,
          37,
          34,
          21,
          22,
          25,
          27,
          28,
          22,
          22,
          50,
          24,
          59,
          29,
          31,
          39,
          63,
          35,
          29,
          28,
          23,
          24,
          58,
          28,
          67,
          24,
          42,
          33,
          45,
          66,
          30,
          25,
          55,
          39,
          21,
          28,
          41,
          40,
          38,
          35,
          21,
          21,
          64,
          46,
          21,
          58,
          22,
          24,
          28,
          53,
          51,
          41,
          60,
          25,
          26,
          45,
          24,
          21,
          21,
          24,
          22,
          31,
          22,
          24,
          29,
          24,
          46,
          67,
          23,
          32,
          43,
          27,
          56,
          25,
          29,
          37,
          53,
          28,
          50,
          21,
          25,
          66,
          23,
          28,
          37,
          30,
          58,
          42,
          35,
          54,
          28,
          24,
          32,
          27,
          22,
          21,
          46,
          37,
          33,
          39,
          21,
          22,
          22,
          23,
          25,
          35,
          21,
          36,
          21,
          27,
          62,
          42,
          22,
          41,
          29,
          52,
          45,
          24,
          44,
          25,
          34,
          22,
          46,
          38,
          26,
          24,
          30,
          54,
          21,
          22,
          25,
          27,
          23,
          24,
          36,
          40,
          26,
          50,
          27,
          30,
          23,
          50,
          28,
          28,
          45,
          21,
          21,
          29,
          21,
          21,
          45,
          21,
          34,
          24,
          23,
          22,
          31,
          38,
          48,
          23,
          32,
          28,
          27,
          24,
          50,
          27,
          33,
          22,
          42,
          23,
          23,
          27,
          28,
          27,
          22,
          22,
          41,
          51,
          27,
          54,
          22,
          43,
          40,
          40,
          24,
          70,
          40,
          43,
          45,
          49,
          21,
          47,
          68,
          31,
          53,
          25,
          25,
          23,
          22,
          26,
          22,
          27,
          25,
          22,
          29,
          23,
          46,
          34,
          23,
          43,
          25,
          31,
          28,
          26,
          26,
          49,
          52,
          27,
          28,
          45,
          23,
          40,
          38,
          21,
          32,
          31,
          56,
          24,
          52,
          34,
          21,
          42,
          42,
          45,
          38,
          25,
          22,
          22,
          22,
          34,
          22,
          24,
          22,
          53,
          28,
          21,
          42,
          21,
          42,
          48,
          26,
          22,
          45,
          39,
          46,
          27,
          32,
          36,
          50,
          22,
          28,
          25,
          45,
          37,
          39,
          52,
          26,
          66,
          22,
          43,
          33,
          63,
          27,
          30,
          47,
          23
         ],
         "y0": " ",
         "yaxis": "y"
        }
       ],
       "layout": {
        "boxmode": "group",
        "legend": {
         "tracegroupgap": 0
        },
        "margin": {
         "t": 60
        },
        "template": {
         "data": {
          "bar": [
           {
            "error_x": {
             "color": "#2a3f5f"
            },
            "error_y": {
             "color": "#2a3f5f"
            },
            "marker": {
             "line": {
              "color": "#E5ECF6",
              "width": 0.5
             },
             "pattern": {
              "fillmode": "overlay",
              "size": 10,
              "solidity": 0.2
             }
            },
            "type": "bar"
           }
          ],
          "barpolar": [
           {
            "marker": {
             "line": {
              "color": "#E5ECF6",
              "width": 0.5
             },
             "pattern": {
              "fillmode": "overlay",
              "size": 10,
              "solidity": 0.2
             }
            },
            "type": "barpolar"
           }
          ],
          "carpet": [
           {
            "aaxis": {
             "endlinecolor": "#2a3f5f",
             "gridcolor": "white",
             "linecolor": "white",
             "minorgridcolor": "white",
             "startlinecolor": "#2a3f5f"
            },
            "baxis": {
             "endlinecolor": "#2a3f5f",
             "gridcolor": "white",
             "linecolor": "white",
             "minorgridcolor": "white",
             "startlinecolor": "#2a3f5f"
            },
            "type": "carpet"
           }
          ],
          "choropleth": [
           {
            "colorbar": {
             "outlinewidth": 0,
             "ticks": ""
            },
            "type": "choropleth"
           }
          ],
          "contour": [
           {
            "colorbar": {
             "outlinewidth": 0,
             "ticks": ""
            },
            "colorscale": [
             [
              0,
              "#0d0887"
             ],
             [
              0.1111111111111111,
              "#46039f"
             ],
             [
              0.2222222222222222,
              "#7201a8"
             ],
             [
              0.3333333333333333,
              "#9c179e"
             ],
             [
              0.4444444444444444,
              "#bd3786"
             ],
             [
              0.5555555555555556,
              "#d8576b"
             ],
             [
              0.6666666666666666,
              "#ed7953"
             ],
             [
              0.7777777777777778,
              "#fb9f3a"
             ],
             [
              0.8888888888888888,
              "#fdca26"
             ],
             [
              1,
              "#f0f921"
             ]
            ],
            "type": "contour"
           }
          ],
          "contourcarpet": [
           {
            "colorbar": {
             "outlinewidth": 0,
             "ticks": ""
            },
            "type": "contourcarpet"
           }
          ],
          "heatmap": [
           {
            "colorbar": {
             "outlinewidth": 0,
             "ticks": ""
            },
            "colorscale": [
             [
              0,
              "#0d0887"
             ],
             [
              0.1111111111111111,
              "#46039f"
             ],
             [
              0.2222222222222222,
              "#7201a8"
             ],
             [
              0.3333333333333333,
              "#9c179e"
             ],
             [
              0.4444444444444444,
              "#bd3786"
             ],
             [
              0.5555555555555556,
              "#d8576b"
             ],
             [
              0.6666666666666666,
              "#ed7953"
             ],
             [
              0.7777777777777778,
              "#fb9f3a"
             ],
             [
              0.8888888888888888,
              "#fdca26"
             ],
             [
              1,
              "#f0f921"
             ]
            ],
            "type": "heatmap"
           }
          ],
          "heatmapgl": [
           {
            "colorbar": {
             "outlinewidth": 0,
             "ticks": ""
            },
            "colorscale": [
             [
              0,
              "#0d0887"
             ],
             [
              0.1111111111111111,
              "#46039f"
             ],
             [
              0.2222222222222222,
              "#7201a8"
             ],
             [
              0.3333333333333333,
              "#9c179e"
             ],
             [
              0.4444444444444444,
              "#bd3786"
             ],
             [
              0.5555555555555556,
              "#d8576b"
             ],
             [
              0.6666666666666666,
              "#ed7953"
             ],
             [
              0.7777777777777778,
              "#fb9f3a"
             ],
             [
              0.8888888888888888,
              "#fdca26"
             ],
             [
              1,
              "#f0f921"
             ]
            ],
            "type": "heatmapgl"
           }
          ],
          "histogram": [
           {
            "marker": {
             "pattern": {
              "fillmode": "overlay",
              "size": 10,
              "solidity": 0.2
             }
            },
            "type": "histogram"
           }
          ],
          "histogram2d": [
           {
            "colorbar": {
             "outlinewidth": 0,
             "ticks": ""
            },
            "colorscale": [
             [
              0,
              "#0d0887"
             ],
             [
              0.1111111111111111,
              "#46039f"
             ],
             [
              0.2222222222222222,
              "#7201a8"
             ],
             [
              0.3333333333333333,
              "#9c179e"
             ],
             [
              0.4444444444444444,
              "#bd3786"
             ],
             [
              0.5555555555555556,
              "#d8576b"
             ],
             [
              0.6666666666666666,
              "#ed7953"
             ],
             [
              0.7777777777777778,
              "#fb9f3a"
             ],
             [
              0.8888888888888888,
              "#fdca26"
             ],
             [
              1,
              "#f0f921"
             ]
            ],
            "type": "histogram2d"
           }
          ],
          "histogram2dcontour": [
           {
            "colorbar": {
             "outlinewidth": 0,
             "ticks": ""
            },
            "colorscale": [
             [
              0,
              "#0d0887"
             ],
             [
              0.1111111111111111,
              "#46039f"
             ],
             [
              0.2222222222222222,
              "#7201a8"
             ],
             [
              0.3333333333333333,
              "#9c179e"
             ],
             [
              0.4444444444444444,
              "#bd3786"
             ],
             [
              0.5555555555555556,
              "#d8576b"
             ],
             [
              0.6666666666666666,
              "#ed7953"
             ],
             [
              0.7777777777777778,
              "#fb9f3a"
             ],
             [
              0.8888888888888888,
              "#fdca26"
             ],
             [
              1,
              "#f0f921"
             ]
            ],
            "type": "histogram2dcontour"
           }
          ],
          "mesh3d": [
           {
            "colorbar": {
             "outlinewidth": 0,
             "ticks": ""
            },
            "type": "mesh3d"
           }
          ],
          "parcoords": [
           {
            "line": {
             "colorbar": {
              "outlinewidth": 0,
              "ticks": ""
             }
            },
            "type": "parcoords"
           }
          ],
          "pie": [
           {
            "automargin": true,
            "type": "pie"
           }
          ],
          "scatter": [
           {
            "marker": {
             "colorbar": {
              "outlinewidth": 0,
              "ticks": ""
             }
            },
            "type": "scatter"
           }
          ],
          "scatter3d": [
           {
            "line": {
             "colorbar": {
              "outlinewidth": 0,
              "ticks": ""
             }
            },
            "marker": {
             "colorbar": {
              "outlinewidth": 0,
              "ticks": ""
             }
            },
            "type": "scatter3d"
           }
          ],
          "scattercarpet": [
           {
            "marker": {
             "colorbar": {
              "outlinewidth": 0,
              "ticks": ""
             }
            },
            "type": "scattercarpet"
           }
          ],
          "scattergeo": [
           {
            "marker": {
             "colorbar": {
              "outlinewidth": 0,
              "ticks": ""
             }
            },
            "type": "scattergeo"
           }
          ],
          "scattergl": [
           {
            "marker": {
             "colorbar": {
              "outlinewidth": 0,
              "ticks": ""
             }
            },
            "type": "scattergl"
           }
          ],
          "scattermapbox": [
           {
            "marker": {
             "colorbar": {
              "outlinewidth": 0,
              "ticks": ""
             }
            },
            "type": "scattermapbox"
           }
          ],
          "scatterpolar": [
           {
            "marker": {
             "colorbar": {
              "outlinewidth": 0,
              "ticks": ""
             }
            },
            "type": "scatterpolar"
           }
          ],
          "scatterpolargl": [
           {
            "marker": {
             "colorbar": {
              "outlinewidth": 0,
              "ticks": ""
             }
            },
            "type": "scatterpolargl"
           }
          ],
          "scatterternary": [
           {
            "marker": {
             "colorbar": {
              "outlinewidth": 0,
              "ticks": ""
             }
            },
            "type": "scatterternary"
           }
          ],
          "surface": [
           {
            "colorbar": {
             "outlinewidth": 0,
             "ticks": ""
            },
            "colorscale": [
             [
              0,
              "#0d0887"
             ],
             [
              0.1111111111111111,
              "#46039f"
             ],
             [
              0.2222222222222222,
              "#7201a8"
             ],
             [
              0.3333333333333333,
              "#9c179e"
             ],
             [
              0.4444444444444444,
              "#bd3786"
             ],
             [
              0.5555555555555556,
              "#d8576b"
             ],
             [
              0.6666666666666666,
              "#ed7953"
             ],
             [
              0.7777777777777778,
              "#fb9f3a"
             ],
             [
              0.8888888888888888,
              "#fdca26"
             ],
             [
              1,
              "#f0f921"
             ]
            ],
            "type": "surface"
           }
          ],
          "table": [
           {
            "cells": {
             "fill": {
              "color": "#EBF0F8"
             },
             "line": {
              "color": "white"
             }
            },
            "header": {
             "fill": {
              "color": "#C8D4E3"
             },
             "line": {
              "color": "white"
             }
            },
            "type": "table"
           }
          ]
         },
         "layout": {
          "annotationdefaults": {
           "arrowcolor": "#2a3f5f",
           "arrowhead": 0,
           "arrowwidth": 1
          },
          "autotypenumbers": "strict",
          "coloraxis": {
           "colorbar": {
            "outlinewidth": 0,
            "ticks": ""
           }
          },
          "colorscale": {
           "diverging": [
            [
             0,
             "#8e0152"
            ],
            [
             0.1,
             "#c51b7d"
            ],
            [
             0.2,
             "#de77ae"
            ],
            [
             0.3,
             "#f1b6da"
            ],
            [
             0.4,
             "#fde0ef"
            ],
            [
             0.5,
             "#f7f7f7"
            ],
            [
             0.6,
             "#e6f5d0"
            ],
            [
             0.7,
             "#b8e186"
            ],
            [
             0.8,
             "#7fbc41"
            ],
            [
             0.9,
             "#4d9221"
            ],
            [
             1,
             "#276419"
            ]
           ],
           "sequential": [
            [
             0,
             "#0d0887"
            ],
            [
             0.1111111111111111,
             "#46039f"
            ],
            [
             0.2222222222222222,
             "#7201a8"
            ],
            [
             0.3333333333333333,
             "#9c179e"
            ],
            [
             0.4444444444444444,
             "#bd3786"
            ],
            [
             0.5555555555555556,
             "#d8576b"
            ],
            [
             0.6666666666666666,
             "#ed7953"
            ],
            [
             0.7777777777777778,
             "#fb9f3a"
            ],
            [
             0.8888888888888888,
             "#fdca26"
            ],
            [
             1,
             "#f0f921"
            ]
           ],
           "sequentialminus": [
            [
             0,
             "#0d0887"
            ],
            [
             0.1111111111111111,
             "#46039f"
            ],
            [
             0.2222222222222222,
             "#7201a8"
            ],
            [
             0.3333333333333333,
             "#9c179e"
            ],
            [
             0.4444444444444444,
             "#bd3786"
            ],
            [
             0.5555555555555556,
             "#d8576b"
            ],
            [
             0.6666666666666666,
             "#ed7953"
            ],
            [
             0.7777777777777778,
             "#fb9f3a"
            ],
            [
             0.8888888888888888,
             "#fdca26"
            ],
            [
             1,
             "#f0f921"
            ]
           ]
          },
          "colorway": [
           "#636efa",
           "#EF553B",
           "#00cc96",
           "#ab63fa",
           "#FFA15A",
           "#19d3f3",
           "#FF6692",
           "#B6E880",
           "#FF97FF",
           "#FECB52"
          ],
          "font": {
           "color": "#2a3f5f"
          },
          "geo": {
           "bgcolor": "white",
           "lakecolor": "white",
           "landcolor": "#E5ECF6",
           "showlakes": true,
           "showland": true,
           "subunitcolor": "white"
          },
          "hoverlabel": {
           "align": "left"
          },
          "hovermode": "closest",
          "mapbox": {
           "style": "light"
          },
          "paper_bgcolor": "white",
          "plot_bgcolor": "#E5ECF6",
          "polar": {
           "angularaxis": {
            "gridcolor": "white",
            "linecolor": "white",
            "ticks": ""
           },
           "bgcolor": "#E5ECF6",
           "radialaxis": {
            "gridcolor": "white",
            "linecolor": "white",
            "ticks": ""
           }
          },
          "scene": {
           "xaxis": {
            "backgroundcolor": "#E5ECF6",
            "gridcolor": "white",
            "gridwidth": 2,
            "linecolor": "white",
            "showbackground": true,
            "ticks": "",
            "zerolinecolor": "white"
           },
           "yaxis": {
            "backgroundcolor": "#E5ECF6",
            "gridcolor": "white",
            "gridwidth": 2,
            "linecolor": "white",
            "showbackground": true,
            "ticks": "",
            "zerolinecolor": "white"
           },
           "zaxis": {
            "backgroundcolor": "#E5ECF6",
            "gridcolor": "white",
            "gridwidth": 2,
            "linecolor": "white",
            "showbackground": true,
            "ticks": "",
            "zerolinecolor": "white"
           }
          },
          "shapedefaults": {
           "line": {
            "color": "#2a3f5f"
           }
          },
          "ternary": {
           "aaxis": {
            "gridcolor": "white",
            "linecolor": "white",
            "ticks": ""
           },
           "baxis": {
            "gridcolor": "white",
            "linecolor": "white",
            "ticks": ""
           },
           "bgcolor": "#E5ECF6",
           "caxis": {
            "gridcolor": "white",
            "linecolor": "white",
            "ticks": ""
           }
          },
          "title": {
           "x": 0.05
          },
          "xaxis": {
           "automargin": true,
           "gridcolor": "white",
           "linecolor": "white",
           "ticks": "",
           "title": {
            "standoff": 15
           },
           "zerolinecolor": "white",
           "zerolinewidth": 2
          },
          "yaxis": {
           "automargin": true,
           "gridcolor": "white",
           "linecolor": "white",
           "ticks": "",
           "title": {
            "standoff": 15
           },
           "zerolinecolor": "white",
           "zerolinewidth": 2
          }
         }
        },
        "xaxis": {
         "anchor": "y",
         "domain": [
          0,
          1
         ],
         "title": {
          "text": "variable"
         }
        },
        "yaxis": {
         "anchor": "x",
         "domain": [
          0,
          1
         ],
         "title": {
          "text": "value"
         }
        }
       }
      },
      "text/html": [
       "<div>                            <div id=\"509decb3-1d00-417e-965e-e063a449d7f8\" class=\"plotly-graph-div\" style=\"height:525px; width:100%;\"></div>            <script type=\"text/javascript\">                require([\"plotly\"], function(Plotly) {                    window.PLOTLYENV=window.PLOTLYENV || {};                                    if (document.getElementById(\"509decb3-1d00-417e-965e-e063a449d7f8\")) {                    Plotly.newPlot(                        \"509decb3-1d00-417e-965e-e063a449d7f8\",                        [{\"alignmentgroup\":\"True\",\"hovertemplate\":\"variable=%{x}<br>value=%{y}<extra></extra>\",\"legendgroup\":\"\",\"marker\":{\"color\":\"#636efa\"},\"name\":\"\",\"notched\":false,\"offsetgroup\":\"\",\"orientation\":\"v\",\"showlegend\":false,\"type\":\"box\",\"x\":[\"age\",\"age\",\"age\",\"age\",\"age\",\"age\",\"age\",\"age\",\"age\",\"age\",\"age\",\"age\",\"age\",\"age\",\"age\",\"age\",\"age\",\"age\",\"age\",\"age\",\"age\",\"age\",\"age\",\"age\",\"age\",\"age\",\"age\",\"age\",\"age\",\"age\",\"age\",\"age\",\"age\",\"age\",\"age\",\"age\",\"age\",\"age\",\"age\",\"age\",\"age\",\"age\",\"age\",\"age\",\"age\",\"age\",\"age\",\"age\",\"age\",\"age\",\"age\",\"age\",\"age\",\"age\",\"age\",\"age\",\"age\",\"age\",\"age\",\"age\",\"age\",\"age\",\"age\",\"age\",\"age\",\"age\",\"age\",\"age\",\"age\",\"age\",\"age\",\"age\",\"age\",\"age\",\"age\",\"age\",\"age\",\"age\",\"age\",\"age\",\"age\",\"age\",\"age\",\"age\",\"age\",\"age\",\"age\",\"age\",\"age\",\"age\",\"age\",\"age\",\"age\",\"age\",\"age\",\"age\",\"age\",\"age\",\"age\",\"age\",\"age\",\"age\",\"age\",\"age\",\"age\",\"age\",\"age\",\"age\",\"age\",\"age\",\"age\",\"age\",\"age\",\"age\",\"age\",\"age\",\"age\",\"age\",\"age\",\"age\",\"age\",\"age\",\"age\",\"age\",\"age\",\"age\",\"age\",\"age\",\"age\",\"age\",\"age\",\"age\",\"age\",\"age\",\"age\",\"age\",\"age\",\"age\",\"age\",\"age\",\"age\",\"age\",\"age\",\"age\",\"age\",\"age\",\"age\",\"age\",\"age\",\"age\",\"age\",\"age\",\"age\",\"age\",\"age\",\"age\",\"age\",\"age\",\"age\",\"age\",\"age\",\"age\",\"age\",\"age\",\"age\",\"age\",\"age\",\"age\",\"age\",\"age\",\"age\",\"age\",\"age\",\"age\",\"age\",\"age\",\"age\",\"age\",\"age\",\"age\",\"age\",\"age\",\"age\",\"age\",\"age\",\"age\",\"age\",\"age\",\"age\",\"age\",\"age\",\"age\",\"age\",\"age\",\"age\",\"age\",\"age\",\"age\",\"age\",\"age\",\"age\",\"age\",\"age\",\"age\",\"age\",\"age\",\"age\",\"age\",\"age\",\"age\",\"age\",\"age\",\"age\",\"age\",\"age\",\"age\",\"age\",\"age\",\"age\",\"age\",\"age\",\"age\",\"age\",\"age\",\"age\",\"age\",\"age\",\"age\",\"age\",\"age\",\"age\",\"age\",\"age\",\"age\",\"age\",\"age\",\"age\",\"age\",\"age\",\"age\",\"age\",\"age\",\"age\",\"age\",\"age\",\"age\",\"age\",\"age\",\"age\",\"age\",\"age\",\"age\",\"age\",\"age\",\"age\",\"age\",\"age\",\"age\",\"age\",\"age\",\"age\",\"age\",\"age\",\"age\",\"age\",\"age\",\"age\",\"age\",\"age\",\"age\",\"age\",\"age\",\"age\",\"age\",\"age\",\"age\",\"age\",\"age\",\"age\",\"age\",\"age\",\"age\",\"age\",\"age\",\"age\",\"age\",\"age\",\"age\",\"age\",\"age\",\"age\",\"age\",\"age\",\"age\",\"age\",\"age\",\"age\",\"age\",\"age\",\"age\",\"age\",\"age\",\"age\",\"age\",\"age\",\"age\",\"age\",\"age\",\"age\",\"age\",\"age\",\"age\",\"age\",\"age\",\"age\",\"age\",\"age\",\"age\",\"age\",\"age\",\"age\",\"age\",\"age\",\"age\",\"age\",\"age\",\"age\",\"age\",\"age\",\"age\",\"age\",\"age\",\"age\",\"age\",\"age\",\"age\",\"age\",\"age\",\"age\",\"age\",\"age\",\"age\",\"age\",\"age\",\"age\",\"age\",\"age\",\"age\",\"age\",\"age\",\"age\",\"age\",\"age\",\"age\",\"age\",\"age\",\"age\",\"age\",\"age\",\"age\",\"age\",\"age\",\"age\",\"age\",\"age\",\"age\",\"age\",\"age\",\"age\",\"age\",\"age\",\"age\",\"age\",\"age\",\"age\",\"age\",\"age\",\"age\",\"age\",\"age\",\"age\",\"age\",\"age\",\"age\",\"age\",\"age\",\"age\",\"age\",\"age\",\"age\",\"age\",\"age\",\"age\",\"age\",\"age\",\"age\",\"age\",\"age\",\"age\",\"age\",\"age\",\"age\",\"age\",\"age\",\"age\",\"age\",\"age\",\"age\",\"age\",\"age\",\"age\",\"age\",\"age\",\"age\",\"age\",\"age\",\"age\",\"age\",\"age\",\"age\",\"age\",\"age\",\"age\",\"age\",\"age\",\"age\",\"age\",\"age\",\"age\",\"age\",\"age\",\"age\",\"age\",\"age\",\"age\",\"age\",\"age\",\"age\",\"age\",\"age\",\"age\",\"age\",\"age\",\"age\",\"age\",\"age\",\"age\",\"age\",\"age\",\"age\",\"age\",\"age\",\"age\",\"age\",\"age\",\"age\",\"age\",\"age\",\"age\",\"age\",\"age\",\"age\",\"age\",\"age\",\"age\",\"age\",\"age\",\"age\",\"age\",\"age\",\"age\",\"age\",\"age\",\"age\",\"age\",\"age\",\"age\",\"age\",\"age\",\"age\",\"age\",\"age\",\"age\",\"age\",\"age\",\"age\",\"age\",\"age\",\"age\",\"age\",\"age\",\"age\",\"age\",\"age\",\"age\",\"age\",\"age\",\"age\",\"age\",\"age\",\"age\",\"age\",\"age\",\"age\",\"age\",\"age\",\"age\",\"age\",\"age\",\"age\",\"age\",\"age\",\"age\",\"age\",\"age\",\"age\",\"age\",\"age\",\"age\",\"age\",\"age\",\"age\",\"age\",\"age\",\"age\",\"age\",\"age\",\"age\",\"age\",\"age\",\"age\",\"age\",\"age\",\"age\",\"age\",\"age\",\"age\",\"age\",\"age\",\"age\",\"age\",\"age\",\"age\",\"age\",\"age\",\"age\",\"age\",\"age\",\"age\",\"age\",\"age\",\"age\",\"age\",\"age\",\"age\",\"age\",\"age\",\"age\",\"age\",\"age\",\"age\",\"age\",\"age\",\"age\",\"age\",\"age\",\"age\",\"age\",\"age\",\"age\",\"age\",\"age\",\"age\",\"age\",\"age\",\"age\",\"age\",\"age\",\"age\",\"age\",\"age\",\"age\",\"age\",\"age\",\"age\",\"age\",\"age\",\"age\",\"age\",\"age\",\"age\",\"age\",\"age\",\"age\",\"age\",\"age\",\"age\",\"age\",\"age\",\"age\",\"age\",\"age\",\"age\",\"age\",\"age\",\"age\",\"age\",\"age\",\"age\",\"age\",\"age\",\"age\",\"age\",\"age\",\"age\",\"age\",\"age\",\"age\",\"age\",\"age\",\"age\",\"age\",\"age\",\"age\",\"age\",\"age\",\"age\",\"age\",\"age\",\"age\",\"age\",\"age\",\"age\",\"age\",\"age\",\"age\",\"age\",\"age\",\"age\",\"age\",\"age\",\"age\",\"age\",\"age\",\"age\",\"age\",\"age\",\"age\",\"age\",\"age\",\"age\",\"age\",\"age\",\"age\",\"age\",\"age\",\"age\",\"age\",\"age\",\"age\",\"age\",\"age\",\"age\",\"age\",\"age\",\"age\",\"age\",\"age\",\"age\",\"age\",\"age\",\"age\",\"age\",\"age\",\"age\",\"age\"],\"x0\":\" \",\"xaxis\":\"x\",\"y\":[50,31,32,21,33,30,26,30,34,57,51,31,31,32,27,50,41,29,51,41,43,22,57,38,60,28,22,28,45,33,35,46,27,56,26,37,48,40,25,29,22,31,22,26,30,58,21,41,31,44,22,39,36,24,42,32,38,54,25,27,28,26,42,23,22,41,27,24,22,36,22,27,45,26,24,21,34,42,60,21,40,24,22,23,33,22,21,24,27,21,37,25,24,24,23,25,39,61,38,25,22,21,24,23,69,23,30,23,40,62,33,33,30,39,26,31,21,22,29,28,55,38,22,42,23,41,34,65,22,24,37,42,43,21,23,22,36,45,27,21,32,41,22,34,29,29,36,29,23,33,36,42,47,37,32,23,27,40,41,33,31,25,21,40,36,42,29,21,23,26,29,21,28,32,27,55,27,57,52,21,41,25,24,60,24,36,38,25,32,32,41,66,61,26,22,26,24,24,22,22,29,23,26,51,23,32,27,21,22,22,33,29,49,41,23,42,27,24,25,44,21,30,25,51,34,24,63,35,43,24,21,38,21,40,21,52,25,29,23,57,22,28,39,37,47,52,51,29,26,33,21,25,31,24,65,28,24,58,25,35,37,29,47,21,25,30,41,22,27,25,43,26,30,29,28,59,31,25,36,43,21,24,30,37,23,37,46,25,44,22,26,44,33,41,22,36,33,57,49,22,26,29,30,46,24,21,49,28,48,29,29,63,67,30,30,29,21,22,45,21,25,28,58,22,22,32,35,24,22,21,25,25,24,35,45,58,28,42,27,37,31,25,39,22,25,25,31,55,35,38,41,26,46,25,39,28,25,22,21,21,22,37,27,28,26,21,21,21,36,31,38,26,43,38,22,29,36,41,28,21,31,41,22,24,33,30,28,26,22,26,23,23,25,24,62,24,51,81,48,26,39,37,34,21,22,25,27,28,22,22,50,24,59,29,31,39,63,35,29,28,23,24,58,28,67,24,42,33,45,66,30,25,55,39,21,28,41,40,38,35,21,21,64,46,21,58,22,24,28,53,51,41,60,25,26,45,24,21,21,24,22,31,22,24,29,24,46,67,23,32,43,27,56,25,29,37,53,28,50,21,25,66,23,28,37,30,58,42,35,54,28,24,32,27,22,21,46,37,33,39,21,22,22,23,25,35,21,36,21,27,62,42,22,41,29,52,45,24,44,25,34,22,46,38,26,24,30,54,21,22,25,27,23,24,36,40,26,50,27,30,23,50,28,28,45,21,21,29,21,21,45,21,34,24,23,22,31,38,48,23,32,28,27,24,50,27,33,22,42,23,23,27,28,27,22,22,41,51,27,54,22,43,40,40,24,70,40,43,45,49,21,47,68,31,53,25,25,23,22,26,22,27,25,22,29,23,46,34,23,43,25,31,28,26,26,49,52,27,28,45,23,40,38,21,32,31,56,24,52,34,21,42,42,45,38,25,22,22,22,34,22,24,22,53,28,21,42,21,42,48,26,22,45,39,46,27,32,36,50,22,28,25,45,37,39,52,26,66,22,43,33,63,27,30,47,23],\"y0\":\" \",\"yaxis\":\"y\"}],                        {\"boxmode\":\"group\",\"legend\":{\"tracegroupgap\":0},\"margin\":{\"t\":60},\"template\":{\"data\":{\"bar\":[{\"error_x\":{\"color\":\"#2a3f5f\"},\"error_y\":{\"color\":\"#2a3f5f\"},\"marker\":{\"line\":{\"color\":\"#E5ECF6\",\"width\":0.5},\"pattern\":{\"fillmode\":\"overlay\",\"size\":10,\"solidity\":0.2}},\"type\":\"bar\"}],\"barpolar\":[{\"marker\":{\"line\":{\"color\":\"#E5ECF6\",\"width\":0.5},\"pattern\":{\"fillmode\":\"overlay\",\"size\":10,\"solidity\":0.2}},\"type\":\"barpolar\"}],\"carpet\":[{\"aaxis\":{\"endlinecolor\":\"#2a3f5f\",\"gridcolor\":\"white\",\"linecolor\":\"white\",\"minorgridcolor\":\"white\",\"startlinecolor\":\"#2a3f5f\"},\"baxis\":{\"endlinecolor\":\"#2a3f5f\",\"gridcolor\":\"white\",\"linecolor\":\"white\",\"minorgridcolor\":\"white\",\"startlinecolor\":\"#2a3f5f\"},\"type\":\"carpet\"}],\"choropleth\":[{\"colorbar\":{\"outlinewidth\":0,\"ticks\":\"\"},\"type\":\"choropleth\"}],\"contour\":[{\"colorbar\":{\"outlinewidth\":0,\"ticks\":\"\"},\"colorscale\":[[0.0,\"#0d0887\"],[0.1111111111111111,\"#46039f\"],[0.2222222222222222,\"#7201a8\"],[0.3333333333333333,\"#9c179e\"],[0.4444444444444444,\"#bd3786\"],[0.5555555555555556,\"#d8576b\"],[0.6666666666666666,\"#ed7953\"],[0.7777777777777778,\"#fb9f3a\"],[0.8888888888888888,\"#fdca26\"],[1.0,\"#f0f921\"]],\"type\":\"contour\"}],\"contourcarpet\":[{\"colorbar\":{\"outlinewidth\":0,\"ticks\":\"\"},\"type\":\"contourcarpet\"}],\"heatmap\":[{\"colorbar\":{\"outlinewidth\":0,\"ticks\":\"\"},\"colorscale\":[[0.0,\"#0d0887\"],[0.1111111111111111,\"#46039f\"],[0.2222222222222222,\"#7201a8\"],[0.3333333333333333,\"#9c179e\"],[0.4444444444444444,\"#bd3786\"],[0.5555555555555556,\"#d8576b\"],[0.6666666666666666,\"#ed7953\"],[0.7777777777777778,\"#fb9f3a\"],[0.8888888888888888,\"#fdca26\"],[1.0,\"#f0f921\"]],\"type\":\"heatmap\"}],\"heatmapgl\":[{\"colorbar\":{\"outlinewidth\":0,\"ticks\":\"\"},\"colorscale\":[[0.0,\"#0d0887\"],[0.1111111111111111,\"#46039f\"],[0.2222222222222222,\"#7201a8\"],[0.3333333333333333,\"#9c179e\"],[0.4444444444444444,\"#bd3786\"],[0.5555555555555556,\"#d8576b\"],[0.6666666666666666,\"#ed7953\"],[0.7777777777777778,\"#fb9f3a\"],[0.8888888888888888,\"#fdca26\"],[1.0,\"#f0f921\"]],\"type\":\"heatmapgl\"}],\"histogram\":[{\"marker\":{\"pattern\":{\"fillmode\":\"overlay\",\"size\":10,\"solidity\":0.2}},\"type\":\"histogram\"}],\"histogram2d\":[{\"colorbar\":{\"outlinewidth\":0,\"ticks\":\"\"},\"colorscale\":[[0.0,\"#0d0887\"],[0.1111111111111111,\"#46039f\"],[0.2222222222222222,\"#7201a8\"],[0.3333333333333333,\"#9c179e\"],[0.4444444444444444,\"#bd3786\"],[0.5555555555555556,\"#d8576b\"],[0.6666666666666666,\"#ed7953\"],[0.7777777777777778,\"#fb9f3a\"],[0.8888888888888888,\"#fdca26\"],[1.0,\"#f0f921\"]],\"type\":\"histogram2d\"}],\"histogram2dcontour\":[{\"colorbar\":{\"outlinewidth\":0,\"ticks\":\"\"},\"colorscale\":[[0.0,\"#0d0887\"],[0.1111111111111111,\"#46039f\"],[0.2222222222222222,\"#7201a8\"],[0.3333333333333333,\"#9c179e\"],[0.4444444444444444,\"#bd3786\"],[0.5555555555555556,\"#d8576b\"],[0.6666666666666666,\"#ed7953\"],[0.7777777777777778,\"#fb9f3a\"],[0.8888888888888888,\"#fdca26\"],[1.0,\"#f0f921\"]],\"type\":\"histogram2dcontour\"}],\"mesh3d\":[{\"colorbar\":{\"outlinewidth\":0,\"ticks\":\"\"},\"type\":\"mesh3d\"}],\"parcoords\":[{\"line\":{\"colorbar\":{\"outlinewidth\":0,\"ticks\":\"\"}},\"type\":\"parcoords\"}],\"pie\":[{\"automargin\":true,\"type\":\"pie\"}],\"scatter\":[{\"marker\":{\"colorbar\":{\"outlinewidth\":0,\"ticks\":\"\"}},\"type\":\"scatter\"}],\"scatter3d\":[{\"line\":{\"colorbar\":{\"outlinewidth\":0,\"ticks\":\"\"}},\"marker\":{\"colorbar\":{\"outlinewidth\":0,\"ticks\":\"\"}},\"type\":\"scatter3d\"}],\"scattercarpet\":[{\"marker\":{\"colorbar\":{\"outlinewidth\":0,\"ticks\":\"\"}},\"type\":\"scattercarpet\"}],\"scattergeo\":[{\"marker\":{\"colorbar\":{\"outlinewidth\":0,\"ticks\":\"\"}},\"type\":\"scattergeo\"}],\"scattergl\":[{\"marker\":{\"colorbar\":{\"outlinewidth\":0,\"ticks\":\"\"}},\"type\":\"scattergl\"}],\"scattermapbox\":[{\"marker\":{\"colorbar\":{\"outlinewidth\":0,\"ticks\":\"\"}},\"type\":\"scattermapbox\"}],\"scatterpolar\":[{\"marker\":{\"colorbar\":{\"outlinewidth\":0,\"ticks\":\"\"}},\"type\":\"scatterpolar\"}],\"scatterpolargl\":[{\"marker\":{\"colorbar\":{\"outlinewidth\":0,\"ticks\":\"\"}},\"type\":\"scatterpolargl\"}],\"scatterternary\":[{\"marker\":{\"colorbar\":{\"outlinewidth\":0,\"ticks\":\"\"}},\"type\":\"scatterternary\"}],\"surface\":[{\"colorbar\":{\"outlinewidth\":0,\"ticks\":\"\"},\"colorscale\":[[0.0,\"#0d0887\"],[0.1111111111111111,\"#46039f\"],[0.2222222222222222,\"#7201a8\"],[0.3333333333333333,\"#9c179e\"],[0.4444444444444444,\"#bd3786\"],[0.5555555555555556,\"#d8576b\"],[0.6666666666666666,\"#ed7953\"],[0.7777777777777778,\"#fb9f3a\"],[0.8888888888888888,\"#fdca26\"],[1.0,\"#f0f921\"]],\"type\":\"surface\"}],\"table\":[{\"cells\":{\"fill\":{\"color\":\"#EBF0F8\"},\"line\":{\"color\":\"white\"}},\"header\":{\"fill\":{\"color\":\"#C8D4E3\"},\"line\":{\"color\":\"white\"}},\"type\":\"table\"}]},\"layout\":{\"annotationdefaults\":{\"arrowcolor\":\"#2a3f5f\",\"arrowhead\":0,\"arrowwidth\":1},\"autotypenumbers\":\"strict\",\"coloraxis\":{\"colorbar\":{\"outlinewidth\":0,\"ticks\":\"\"}},\"colorscale\":{\"diverging\":[[0,\"#8e0152\"],[0.1,\"#c51b7d\"],[0.2,\"#de77ae\"],[0.3,\"#f1b6da\"],[0.4,\"#fde0ef\"],[0.5,\"#f7f7f7\"],[0.6,\"#e6f5d0\"],[0.7,\"#b8e186\"],[0.8,\"#7fbc41\"],[0.9,\"#4d9221\"],[1,\"#276419\"]],\"sequential\":[[0.0,\"#0d0887\"],[0.1111111111111111,\"#46039f\"],[0.2222222222222222,\"#7201a8\"],[0.3333333333333333,\"#9c179e\"],[0.4444444444444444,\"#bd3786\"],[0.5555555555555556,\"#d8576b\"],[0.6666666666666666,\"#ed7953\"],[0.7777777777777778,\"#fb9f3a\"],[0.8888888888888888,\"#fdca26\"],[1.0,\"#f0f921\"]],\"sequentialminus\":[[0.0,\"#0d0887\"],[0.1111111111111111,\"#46039f\"],[0.2222222222222222,\"#7201a8\"],[0.3333333333333333,\"#9c179e\"],[0.4444444444444444,\"#bd3786\"],[0.5555555555555556,\"#d8576b\"],[0.6666666666666666,\"#ed7953\"],[0.7777777777777778,\"#fb9f3a\"],[0.8888888888888888,\"#fdca26\"],[1.0,\"#f0f921\"]]},\"colorway\":[\"#636efa\",\"#EF553B\",\"#00cc96\",\"#ab63fa\",\"#FFA15A\",\"#19d3f3\",\"#FF6692\",\"#B6E880\",\"#FF97FF\",\"#FECB52\"],\"font\":{\"color\":\"#2a3f5f\"},\"geo\":{\"bgcolor\":\"white\",\"lakecolor\":\"white\",\"landcolor\":\"#E5ECF6\",\"showlakes\":true,\"showland\":true,\"subunitcolor\":\"white\"},\"hoverlabel\":{\"align\":\"left\"},\"hovermode\":\"closest\",\"mapbox\":{\"style\":\"light\"},\"paper_bgcolor\":\"white\",\"plot_bgcolor\":\"#E5ECF6\",\"polar\":{\"angularaxis\":{\"gridcolor\":\"white\",\"linecolor\":\"white\",\"ticks\":\"\"},\"bgcolor\":\"#E5ECF6\",\"radialaxis\":{\"gridcolor\":\"white\",\"linecolor\":\"white\",\"ticks\":\"\"}},\"scene\":{\"xaxis\":{\"backgroundcolor\":\"#E5ECF6\",\"gridcolor\":\"white\",\"gridwidth\":2,\"linecolor\":\"white\",\"showbackground\":true,\"ticks\":\"\",\"zerolinecolor\":\"white\"},\"yaxis\":{\"backgroundcolor\":\"#E5ECF6\",\"gridcolor\":\"white\",\"gridwidth\":2,\"linecolor\":\"white\",\"showbackground\":true,\"ticks\":\"\",\"zerolinecolor\":\"white\"},\"zaxis\":{\"backgroundcolor\":\"#E5ECF6\",\"gridcolor\":\"white\",\"gridwidth\":2,\"linecolor\":\"white\",\"showbackground\":true,\"ticks\":\"\",\"zerolinecolor\":\"white\"}},\"shapedefaults\":{\"line\":{\"color\":\"#2a3f5f\"}},\"ternary\":{\"aaxis\":{\"gridcolor\":\"white\",\"linecolor\":\"white\",\"ticks\":\"\"},\"baxis\":{\"gridcolor\":\"white\",\"linecolor\":\"white\",\"ticks\":\"\"},\"bgcolor\":\"#E5ECF6\",\"caxis\":{\"gridcolor\":\"white\",\"linecolor\":\"white\",\"ticks\":\"\"}},\"title\":{\"x\":0.05},\"xaxis\":{\"automargin\":true,\"gridcolor\":\"white\",\"linecolor\":\"white\",\"ticks\":\"\",\"title\":{\"standoff\":15},\"zerolinecolor\":\"white\",\"zerolinewidth\":2},\"yaxis\":{\"automargin\":true,\"gridcolor\":\"white\",\"linecolor\":\"white\",\"ticks\":\"\",\"title\":{\"standoff\":15},\"zerolinecolor\":\"white\",\"zerolinewidth\":2}}},\"xaxis\":{\"anchor\":\"y\",\"domain\":[0.0,1.0],\"title\":{\"text\":\"variable\"}},\"yaxis\":{\"anchor\":\"x\",\"domain\":[0.0,1.0],\"title\":{\"text\":\"value\"}}},                        {\"responsive\": true}                    ).then(function(){\n",
       "                            \n",
       "var gd = document.getElementById('509decb3-1d00-417e-965e-e063a449d7f8');\n",
       "var x = new MutationObserver(function (mutations, observer) {{\n",
       "        var display = window.getComputedStyle(gd).display;\n",
       "        if (!display || display === 'none') {{\n",
       "            console.log([gd, 'removed!']);\n",
       "            Plotly.purge(gd);\n",
       "            observer.disconnect();\n",
       "        }}\n",
       "}});\n",
       "\n",
       "// Listen for the removal of the full notebook cells\n",
       "var notebookContainer = gd.closest('#notebook-container');\n",
       "if (notebookContainer) {{\n",
       "    x.observe(notebookContainer, {childList: true});\n",
       "}}\n",
       "\n",
       "// Listen for the clearing of the current output cell\n",
       "var outputEl = gd.closest('.output');\n",
       "if (outputEl) {{\n",
       "    x.observe(outputEl, {childList: true});\n",
       "}}\n",
       "\n",
       "                        })                };                });            </script>        </div>"
      ]
     },
     "metadata": {},
     "output_type": "display_data"
    }
   ],
   "source": [
    "px.box(df['age'])"
   ]
  },
  {
   "cell_type": "code",
   "execution_count": 117,
   "id": "1c0b5218",
   "metadata": {},
   "outputs": [],
   "source": [
    "# Using IQR to remove outliers from 'age'\n",
    "\n",
    "q1 = df.age.quantile(0.25)\n",
    "q3 = df.age.quantile(0.75)\n",
    "IQR = q3 - q1\n",
    "low = q1 - 1.5 * IQR\n",
    "high = q3 + 1.5 * IQR\n",
    "df.drop(df[df.age < low].index, inplace = True)\n",
    "df.drop(df[df.age > high].index, inplace = True)"
   ]
  },
  {
   "cell_type": "code",
   "execution_count": 118,
   "id": "5898aa22",
   "metadata": {},
   "outputs": [
    {
     "data": {
      "application/vnd.plotly.v1+json": {
       "config": {
        "plotlyServerURL": "https://plot.ly"
       },
       "data": [
        {
         "alignmentgroup": "True",
         "hovertemplate": "variable=%{x}<br>value=%{y}<extra></extra>",
         "legendgroup": "",
         "marker": {
          "color": "#636efa"
         },
         "name": "",
         "notched": false,
         "offsetgroup": "",
         "orientation": "v",
         "showlegend": false,
         "type": "box",
         "x": [
          "age",
          "age",
          "age",
          "age",
          "age",
          "age",
          "age",
          "age",
          "age",
          "age",
          "age",
          "age",
          "age",
          "age",
          "age",
          "age",
          "age",
          "age",
          "age",
          "age",
          "age",
          "age",
          "age",
          "age",
          "age",
          "age",
          "age",
          "age",
          "age",
          "age",
          "age",
          "age",
          "age",
          "age",
          "age",
          "age",
          "age",
          "age",
          "age",
          "age",
          "age",
          "age",
          "age",
          "age",
          "age",
          "age",
          "age",
          "age",
          "age",
          "age",
          "age",
          "age",
          "age",
          "age",
          "age",
          "age",
          "age",
          "age",
          "age",
          "age",
          "age",
          "age",
          "age",
          "age",
          "age",
          "age",
          "age",
          "age",
          "age",
          "age",
          "age",
          "age",
          "age",
          "age",
          "age",
          "age",
          "age",
          "age",
          "age",
          "age",
          "age",
          "age",
          "age",
          "age",
          "age",
          "age",
          "age",
          "age",
          "age",
          "age",
          "age",
          "age",
          "age",
          "age",
          "age",
          "age",
          "age",
          "age",
          "age",
          "age",
          "age",
          "age",
          "age",
          "age",
          "age",
          "age",
          "age",
          "age",
          "age",
          "age",
          "age",
          "age",
          "age",
          "age",
          "age",
          "age",
          "age",
          "age",
          "age",
          "age",
          "age",
          "age",
          "age",
          "age",
          "age",
          "age",
          "age",
          "age",
          "age",
          "age",
          "age",
          "age",
          "age",
          "age",
          "age",
          "age",
          "age",
          "age",
          "age",
          "age",
          "age",
          "age",
          "age",
          "age",
          "age",
          "age",
          "age",
          "age",
          "age",
          "age",
          "age",
          "age",
          "age",
          "age",
          "age",
          "age",
          "age",
          "age",
          "age",
          "age",
          "age",
          "age",
          "age",
          "age",
          "age",
          "age",
          "age",
          "age",
          "age",
          "age",
          "age",
          "age",
          "age",
          "age",
          "age",
          "age",
          "age",
          "age",
          "age",
          "age",
          "age",
          "age",
          "age",
          "age",
          "age",
          "age",
          "age",
          "age",
          "age",
          "age",
          "age",
          "age",
          "age",
          "age",
          "age",
          "age",
          "age",
          "age",
          "age",
          "age",
          "age",
          "age",
          "age",
          "age",
          "age",
          "age",
          "age",
          "age",
          "age",
          "age",
          "age",
          "age",
          "age",
          "age",
          "age",
          "age",
          "age",
          "age",
          "age",
          "age",
          "age",
          "age",
          "age",
          "age",
          "age",
          "age",
          "age",
          "age",
          "age",
          "age",
          "age",
          "age",
          "age",
          "age",
          "age",
          "age",
          "age",
          "age",
          "age",
          "age",
          "age",
          "age",
          "age",
          "age",
          "age",
          "age",
          "age",
          "age",
          "age",
          "age",
          "age",
          "age",
          "age",
          "age",
          "age",
          "age",
          "age",
          "age",
          "age",
          "age",
          "age",
          "age",
          "age",
          "age",
          "age",
          "age",
          "age",
          "age",
          "age",
          "age",
          "age",
          "age",
          "age",
          "age",
          "age",
          "age",
          "age",
          "age",
          "age",
          "age",
          "age",
          "age",
          "age",
          "age",
          "age",
          "age",
          "age",
          "age",
          "age",
          "age",
          "age",
          "age",
          "age",
          "age",
          "age",
          "age",
          "age",
          "age",
          "age",
          "age",
          "age",
          "age",
          "age",
          "age",
          "age",
          "age",
          "age",
          "age",
          "age",
          "age",
          "age",
          "age",
          "age",
          "age",
          "age",
          "age",
          "age",
          "age",
          "age",
          "age",
          "age",
          "age",
          "age",
          "age",
          "age",
          "age",
          "age",
          "age",
          "age",
          "age",
          "age",
          "age",
          "age",
          "age",
          "age",
          "age",
          "age",
          "age",
          "age",
          "age",
          "age",
          "age",
          "age",
          "age",
          "age",
          "age",
          "age",
          "age",
          "age",
          "age",
          "age",
          "age",
          "age",
          "age",
          "age",
          "age",
          "age",
          "age",
          "age",
          "age",
          "age",
          "age",
          "age",
          "age",
          "age",
          "age",
          "age",
          "age",
          "age",
          "age",
          "age",
          "age",
          "age",
          "age",
          "age",
          "age",
          "age",
          "age",
          "age",
          "age",
          "age",
          "age",
          "age",
          "age",
          "age",
          "age",
          "age",
          "age",
          "age",
          "age",
          "age",
          "age",
          "age",
          "age",
          "age",
          "age",
          "age",
          "age",
          "age",
          "age",
          "age",
          "age",
          "age",
          "age",
          "age",
          "age",
          "age",
          "age",
          "age",
          "age",
          "age",
          "age",
          "age",
          "age",
          "age",
          "age",
          "age",
          "age",
          "age",
          "age",
          "age",
          "age",
          "age",
          "age",
          "age",
          "age",
          "age",
          "age",
          "age",
          "age",
          "age",
          "age",
          "age",
          "age",
          "age",
          "age",
          "age",
          "age",
          "age",
          "age",
          "age",
          "age",
          "age",
          "age",
          "age",
          "age",
          "age",
          "age",
          "age",
          "age",
          "age",
          "age",
          "age",
          "age",
          "age",
          "age",
          "age",
          "age",
          "age",
          "age",
          "age",
          "age",
          "age",
          "age",
          "age",
          "age",
          "age",
          "age",
          "age",
          "age",
          "age",
          "age",
          "age",
          "age",
          "age",
          "age",
          "age",
          "age",
          "age",
          "age",
          "age",
          "age",
          "age",
          "age",
          "age",
          "age",
          "age",
          "age",
          "age",
          "age",
          "age",
          "age",
          "age",
          "age",
          "age",
          "age",
          "age",
          "age",
          "age",
          "age",
          "age",
          "age",
          "age",
          "age",
          "age",
          "age",
          "age",
          "age",
          "age",
          "age",
          "age",
          "age",
          "age",
          "age",
          "age",
          "age",
          "age",
          "age",
          "age",
          "age",
          "age",
          "age",
          "age",
          "age",
          "age",
          "age",
          "age",
          "age",
          "age",
          "age",
          "age",
          "age",
          "age",
          "age",
          "age",
          "age",
          "age",
          "age",
          "age",
          "age",
          "age",
          "age",
          "age",
          "age",
          "age",
          "age",
          "age",
          "age",
          "age",
          "age",
          "age",
          "age",
          "age",
          "age",
          "age",
          "age",
          "age",
          "age",
          "age",
          "age",
          "age",
          "age",
          "age",
          "age",
          "age",
          "age",
          "age",
          "age",
          "age",
          "age",
          "age",
          "age",
          "age",
          "age",
          "age",
          "age",
          "age",
          "age",
          "age",
          "age",
          "age",
          "age",
          "age",
          "age",
          "age",
          "age",
          "age",
          "age",
          "age",
          "age",
          "age",
          "age",
          "age",
          "age",
          "age",
          "age",
          "age",
          "age",
          "age",
          "age",
          "age",
          "age",
          "age",
          "age",
          "age",
          "age",
          "age",
          "age",
          "age",
          "age",
          "age",
          "age",
          "age",
          "age",
          "age",
          "age",
          "age",
          "age",
          "age",
          "age",
          "age",
          "age",
          "age",
          "age",
          "age",
          "age",
          "age",
          "age",
          "age",
          "age",
          "age",
          "age",
          "age",
          "age",
          "age",
          "age",
          "age",
          "age",
          "age",
          "age",
          "age",
          "age",
          "age",
          "age",
          "age",
          "age",
          "age",
          "age",
          "age",
          "age",
          "age",
          "age",
          "age",
          "age",
          "age",
          "age",
          "age",
          "age",
          "age",
          "age",
          "age",
          "age",
          "age",
          "age",
          "age",
          "age",
          "age",
          "age",
          "age"
         ],
         "x0": " ",
         "xaxis": "x",
         "y": [
          50,
          31,
          32,
          21,
          33,
          30,
          26,
          30,
          34,
          57,
          51,
          31,
          31,
          32,
          27,
          50,
          41,
          29,
          51,
          41,
          43,
          22,
          57,
          38,
          60,
          28,
          22,
          28,
          45,
          33,
          35,
          46,
          27,
          56,
          26,
          37,
          48,
          40,
          25,
          29,
          22,
          31,
          22,
          26,
          30,
          58,
          21,
          41,
          31,
          44,
          22,
          39,
          36,
          24,
          42,
          32,
          38,
          54,
          25,
          27,
          28,
          26,
          42,
          23,
          22,
          41,
          27,
          24,
          22,
          36,
          22,
          27,
          45,
          26,
          24,
          21,
          34,
          42,
          60,
          21,
          40,
          24,
          22,
          23,
          33,
          22,
          21,
          24,
          27,
          21,
          37,
          25,
          24,
          24,
          23,
          25,
          39,
          61,
          38,
          25,
          22,
          21,
          24,
          23,
          23,
          30,
          23,
          40,
          62,
          33,
          33,
          30,
          39,
          26,
          31,
          21,
          22,
          29,
          28,
          55,
          38,
          22,
          42,
          23,
          41,
          34,
          65,
          22,
          24,
          37,
          42,
          43,
          21,
          23,
          22,
          36,
          45,
          27,
          21,
          32,
          41,
          22,
          34,
          29,
          29,
          36,
          29,
          23,
          33,
          36,
          42,
          47,
          37,
          32,
          23,
          27,
          40,
          41,
          33,
          31,
          25,
          21,
          40,
          36,
          42,
          29,
          21,
          23,
          26,
          29,
          21,
          28,
          32,
          27,
          55,
          27,
          57,
          52,
          21,
          41,
          25,
          24,
          60,
          24,
          36,
          38,
          25,
          32,
          32,
          41,
          66,
          61,
          26,
          22,
          26,
          24,
          24,
          22,
          22,
          29,
          23,
          26,
          51,
          23,
          32,
          27,
          21,
          22,
          22,
          33,
          29,
          49,
          41,
          23,
          42,
          27,
          24,
          25,
          44,
          21,
          30,
          25,
          51,
          34,
          24,
          63,
          35,
          43,
          24,
          21,
          38,
          21,
          40,
          21,
          52,
          25,
          29,
          23,
          57,
          22,
          28,
          39,
          37,
          47,
          52,
          51,
          29,
          26,
          33,
          21,
          25,
          31,
          24,
          65,
          28,
          24,
          58,
          25,
          35,
          37,
          29,
          47,
          21,
          25,
          30,
          41,
          22,
          27,
          25,
          43,
          26,
          30,
          29,
          28,
          59,
          31,
          25,
          36,
          43,
          21,
          24,
          30,
          37,
          23,
          37,
          46,
          25,
          44,
          22,
          26,
          44,
          33,
          41,
          22,
          36,
          33,
          57,
          49,
          22,
          26,
          29,
          30,
          46,
          24,
          21,
          49,
          28,
          48,
          29,
          29,
          63,
          30,
          30,
          29,
          21,
          22,
          45,
          21,
          25,
          28,
          58,
          22,
          22,
          32,
          35,
          24,
          22,
          21,
          25,
          25,
          24,
          35,
          45,
          58,
          28,
          42,
          27,
          37,
          31,
          25,
          39,
          22,
          25,
          25,
          31,
          55,
          35,
          38,
          41,
          26,
          46,
          25,
          39,
          28,
          25,
          22,
          21,
          21,
          22,
          37,
          27,
          28,
          26,
          21,
          21,
          21,
          36,
          31,
          38,
          26,
          43,
          38,
          22,
          29,
          36,
          41,
          28,
          21,
          31,
          41,
          22,
          24,
          33,
          30,
          28,
          26,
          22,
          26,
          23,
          23,
          25,
          24,
          62,
          24,
          51,
          48,
          26,
          39,
          37,
          34,
          21,
          22,
          25,
          27,
          28,
          22,
          22,
          50,
          24,
          59,
          29,
          31,
          39,
          63,
          35,
          29,
          28,
          23,
          24,
          58,
          28,
          24,
          42,
          33,
          45,
          66,
          30,
          25,
          55,
          39,
          21,
          28,
          41,
          40,
          38,
          35,
          21,
          21,
          64,
          46,
          21,
          58,
          22,
          24,
          28,
          53,
          51,
          41,
          60,
          25,
          26,
          45,
          24,
          21,
          21,
          24,
          22,
          31,
          22,
          24,
          29,
          24,
          46,
          23,
          32,
          43,
          27,
          56,
          25,
          29,
          37,
          53,
          28,
          50,
          21,
          25,
          66,
          23,
          28,
          37,
          30,
          58,
          42,
          35,
          54,
          28,
          24,
          32,
          27,
          22,
          21,
          46,
          37,
          33,
          39,
          21,
          22,
          22,
          23,
          25,
          35,
          21,
          36,
          21,
          27,
          62,
          42,
          22,
          41,
          29,
          52,
          45,
          24,
          44,
          25,
          34,
          22,
          46,
          38,
          26,
          24,
          30,
          54,
          21,
          22,
          25,
          27,
          23,
          24,
          36,
          40,
          26,
          50,
          27,
          30,
          23,
          50,
          28,
          28,
          45,
          21,
          21,
          29,
          21,
          21,
          45,
          21,
          34,
          24,
          23,
          22,
          31,
          38,
          48,
          23,
          32,
          28,
          27,
          24,
          50,
          27,
          33,
          22,
          42,
          23,
          23,
          27,
          28,
          27,
          22,
          22,
          41,
          51,
          27,
          54,
          22,
          43,
          40,
          40,
          24,
          40,
          43,
          45,
          49,
          21,
          47,
          31,
          53,
          25,
          25,
          23,
          22,
          26,
          22,
          27,
          25,
          22,
          29,
          23,
          46,
          34,
          23,
          43,
          25,
          31,
          28,
          26,
          26,
          49,
          52,
          27,
          28,
          45,
          23,
          40,
          38,
          21,
          32,
          31,
          56,
          24,
          52,
          34,
          21,
          42,
          42,
          45,
          38,
          25,
          22,
          22,
          22,
          34,
          22,
          24,
          22,
          53,
          28,
          21,
          42,
          21,
          42,
          48,
          26,
          22,
          45,
          39,
          46,
          27,
          32,
          36,
          50,
          22,
          28,
          25,
          45,
          37,
          39,
          52,
          26,
          66,
          22,
          43,
          33,
          63,
          27,
          30,
          47,
          23
         ],
         "y0": " ",
         "yaxis": "y"
        }
       ],
       "layout": {
        "boxmode": "group",
        "legend": {
         "tracegroupgap": 0
        },
        "margin": {
         "t": 60
        },
        "template": {
         "data": {
          "bar": [
           {
            "error_x": {
             "color": "#2a3f5f"
            },
            "error_y": {
             "color": "#2a3f5f"
            },
            "marker": {
             "line": {
              "color": "#E5ECF6",
              "width": 0.5
             },
             "pattern": {
              "fillmode": "overlay",
              "size": 10,
              "solidity": 0.2
             }
            },
            "type": "bar"
           }
          ],
          "barpolar": [
           {
            "marker": {
             "line": {
              "color": "#E5ECF6",
              "width": 0.5
             },
             "pattern": {
              "fillmode": "overlay",
              "size": 10,
              "solidity": 0.2
             }
            },
            "type": "barpolar"
           }
          ],
          "carpet": [
           {
            "aaxis": {
             "endlinecolor": "#2a3f5f",
             "gridcolor": "white",
             "linecolor": "white",
             "minorgridcolor": "white",
             "startlinecolor": "#2a3f5f"
            },
            "baxis": {
             "endlinecolor": "#2a3f5f",
             "gridcolor": "white",
             "linecolor": "white",
             "minorgridcolor": "white",
             "startlinecolor": "#2a3f5f"
            },
            "type": "carpet"
           }
          ],
          "choropleth": [
           {
            "colorbar": {
             "outlinewidth": 0,
             "ticks": ""
            },
            "type": "choropleth"
           }
          ],
          "contour": [
           {
            "colorbar": {
             "outlinewidth": 0,
             "ticks": ""
            },
            "colorscale": [
             [
              0,
              "#0d0887"
             ],
             [
              0.1111111111111111,
              "#46039f"
             ],
             [
              0.2222222222222222,
              "#7201a8"
             ],
             [
              0.3333333333333333,
              "#9c179e"
             ],
             [
              0.4444444444444444,
              "#bd3786"
             ],
             [
              0.5555555555555556,
              "#d8576b"
             ],
             [
              0.6666666666666666,
              "#ed7953"
             ],
             [
              0.7777777777777778,
              "#fb9f3a"
             ],
             [
              0.8888888888888888,
              "#fdca26"
             ],
             [
              1,
              "#f0f921"
             ]
            ],
            "type": "contour"
           }
          ],
          "contourcarpet": [
           {
            "colorbar": {
             "outlinewidth": 0,
             "ticks": ""
            },
            "type": "contourcarpet"
           }
          ],
          "heatmap": [
           {
            "colorbar": {
             "outlinewidth": 0,
             "ticks": ""
            },
            "colorscale": [
             [
              0,
              "#0d0887"
             ],
             [
              0.1111111111111111,
              "#46039f"
             ],
             [
              0.2222222222222222,
              "#7201a8"
             ],
             [
              0.3333333333333333,
              "#9c179e"
             ],
             [
              0.4444444444444444,
              "#bd3786"
             ],
             [
              0.5555555555555556,
              "#d8576b"
             ],
             [
              0.6666666666666666,
              "#ed7953"
             ],
             [
              0.7777777777777778,
              "#fb9f3a"
             ],
             [
              0.8888888888888888,
              "#fdca26"
             ],
             [
              1,
              "#f0f921"
             ]
            ],
            "type": "heatmap"
           }
          ],
          "heatmapgl": [
           {
            "colorbar": {
             "outlinewidth": 0,
             "ticks": ""
            },
            "colorscale": [
             [
              0,
              "#0d0887"
             ],
             [
              0.1111111111111111,
              "#46039f"
             ],
             [
              0.2222222222222222,
              "#7201a8"
             ],
             [
              0.3333333333333333,
              "#9c179e"
             ],
             [
              0.4444444444444444,
              "#bd3786"
             ],
             [
              0.5555555555555556,
              "#d8576b"
             ],
             [
              0.6666666666666666,
              "#ed7953"
             ],
             [
              0.7777777777777778,
              "#fb9f3a"
             ],
             [
              0.8888888888888888,
              "#fdca26"
             ],
             [
              1,
              "#f0f921"
             ]
            ],
            "type": "heatmapgl"
           }
          ],
          "histogram": [
           {
            "marker": {
             "pattern": {
              "fillmode": "overlay",
              "size": 10,
              "solidity": 0.2
             }
            },
            "type": "histogram"
           }
          ],
          "histogram2d": [
           {
            "colorbar": {
             "outlinewidth": 0,
             "ticks": ""
            },
            "colorscale": [
             [
              0,
              "#0d0887"
             ],
             [
              0.1111111111111111,
              "#46039f"
             ],
             [
              0.2222222222222222,
              "#7201a8"
             ],
             [
              0.3333333333333333,
              "#9c179e"
             ],
             [
              0.4444444444444444,
              "#bd3786"
             ],
             [
              0.5555555555555556,
              "#d8576b"
             ],
             [
              0.6666666666666666,
              "#ed7953"
             ],
             [
              0.7777777777777778,
              "#fb9f3a"
             ],
             [
              0.8888888888888888,
              "#fdca26"
             ],
             [
              1,
              "#f0f921"
             ]
            ],
            "type": "histogram2d"
           }
          ],
          "histogram2dcontour": [
           {
            "colorbar": {
             "outlinewidth": 0,
             "ticks": ""
            },
            "colorscale": [
             [
              0,
              "#0d0887"
             ],
             [
              0.1111111111111111,
              "#46039f"
             ],
             [
              0.2222222222222222,
              "#7201a8"
             ],
             [
              0.3333333333333333,
              "#9c179e"
             ],
             [
              0.4444444444444444,
              "#bd3786"
             ],
             [
              0.5555555555555556,
              "#d8576b"
             ],
             [
              0.6666666666666666,
              "#ed7953"
             ],
             [
              0.7777777777777778,
              "#fb9f3a"
             ],
             [
              0.8888888888888888,
              "#fdca26"
             ],
             [
              1,
              "#f0f921"
             ]
            ],
            "type": "histogram2dcontour"
           }
          ],
          "mesh3d": [
           {
            "colorbar": {
             "outlinewidth": 0,
             "ticks": ""
            },
            "type": "mesh3d"
           }
          ],
          "parcoords": [
           {
            "line": {
             "colorbar": {
              "outlinewidth": 0,
              "ticks": ""
             }
            },
            "type": "parcoords"
           }
          ],
          "pie": [
           {
            "automargin": true,
            "type": "pie"
           }
          ],
          "scatter": [
           {
            "marker": {
             "colorbar": {
              "outlinewidth": 0,
              "ticks": ""
             }
            },
            "type": "scatter"
           }
          ],
          "scatter3d": [
           {
            "line": {
             "colorbar": {
              "outlinewidth": 0,
              "ticks": ""
             }
            },
            "marker": {
             "colorbar": {
              "outlinewidth": 0,
              "ticks": ""
             }
            },
            "type": "scatter3d"
           }
          ],
          "scattercarpet": [
           {
            "marker": {
             "colorbar": {
              "outlinewidth": 0,
              "ticks": ""
             }
            },
            "type": "scattercarpet"
           }
          ],
          "scattergeo": [
           {
            "marker": {
             "colorbar": {
              "outlinewidth": 0,
              "ticks": ""
             }
            },
            "type": "scattergeo"
           }
          ],
          "scattergl": [
           {
            "marker": {
             "colorbar": {
              "outlinewidth": 0,
              "ticks": ""
             }
            },
            "type": "scattergl"
           }
          ],
          "scattermapbox": [
           {
            "marker": {
             "colorbar": {
              "outlinewidth": 0,
              "ticks": ""
             }
            },
            "type": "scattermapbox"
           }
          ],
          "scatterpolar": [
           {
            "marker": {
             "colorbar": {
              "outlinewidth": 0,
              "ticks": ""
             }
            },
            "type": "scatterpolar"
           }
          ],
          "scatterpolargl": [
           {
            "marker": {
             "colorbar": {
              "outlinewidth": 0,
              "ticks": ""
             }
            },
            "type": "scatterpolargl"
           }
          ],
          "scatterternary": [
           {
            "marker": {
             "colorbar": {
              "outlinewidth": 0,
              "ticks": ""
             }
            },
            "type": "scatterternary"
           }
          ],
          "surface": [
           {
            "colorbar": {
             "outlinewidth": 0,
             "ticks": ""
            },
            "colorscale": [
             [
              0,
              "#0d0887"
             ],
             [
              0.1111111111111111,
              "#46039f"
             ],
             [
              0.2222222222222222,
              "#7201a8"
             ],
             [
              0.3333333333333333,
              "#9c179e"
             ],
             [
              0.4444444444444444,
              "#bd3786"
             ],
             [
              0.5555555555555556,
              "#d8576b"
             ],
             [
              0.6666666666666666,
              "#ed7953"
             ],
             [
              0.7777777777777778,
              "#fb9f3a"
             ],
             [
              0.8888888888888888,
              "#fdca26"
             ],
             [
              1,
              "#f0f921"
             ]
            ],
            "type": "surface"
           }
          ],
          "table": [
           {
            "cells": {
             "fill": {
              "color": "#EBF0F8"
             },
             "line": {
              "color": "white"
             }
            },
            "header": {
             "fill": {
              "color": "#C8D4E3"
             },
             "line": {
              "color": "white"
             }
            },
            "type": "table"
           }
          ]
         },
         "layout": {
          "annotationdefaults": {
           "arrowcolor": "#2a3f5f",
           "arrowhead": 0,
           "arrowwidth": 1
          },
          "autotypenumbers": "strict",
          "coloraxis": {
           "colorbar": {
            "outlinewidth": 0,
            "ticks": ""
           }
          },
          "colorscale": {
           "diverging": [
            [
             0,
             "#8e0152"
            ],
            [
             0.1,
             "#c51b7d"
            ],
            [
             0.2,
             "#de77ae"
            ],
            [
             0.3,
             "#f1b6da"
            ],
            [
             0.4,
             "#fde0ef"
            ],
            [
             0.5,
             "#f7f7f7"
            ],
            [
             0.6,
             "#e6f5d0"
            ],
            [
             0.7,
             "#b8e186"
            ],
            [
             0.8,
             "#7fbc41"
            ],
            [
             0.9,
             "#4d9221"
            ],
            [
             1,
             "#276419"
            ]
           ],
           "sequential": [
            [
             0,
             "#0d0887"
            ],
            [
             0.1111111111111111,
             "#46039f"
            ],
            [
             0.2222222222222222,
             "#7201a8"
            ],
            [
             0.3333333333333333,
             "#9c179e"
            ],
            [
             0.4444444444444444,
             "#bd3786"
            ],
            [
             0.5555555555555556,
             "#d8576b"
            ],
            [
             0.6666666666666666,
             "#ed7953"
            ],
            [
             0.7777777777777778,
             "#fb9f3a"
            ],
            [
             0.8888888888888888,
             "#fdca26"
            ],
            [
             1,
             "#f0f921"
            ]
           ],
           "sequentialminus": [
            [
             0,
             "#0d0887"
            ],
            [
             0.1111111111111111,
             "#46039f"
            ],
            [
             0.2222222222222222,
             "#7201a8"
            ],
            [
             0.3333333333333333,
             "#9c179e"
            ],
            [
             0.4444444444444444,
             "#bd3786"
            ],
            [
             0.5555555555555556,
             "#d8576b"
            ],
            [
             0.6666666666666666,
             "#ed7953"
            ],
            [
             0.7777777777777778,
             "#fb9f3a"
            ],
            [
             0.8888888888888888,
             "#fdca26"
            ],
            [
             1,
             "#f0f921"
            ]
           ]
          },
          "colorway": [
           "#636efa",
           "#EF553B",
           "#00cc96",
           "#ab63fa",
           "#FFA15A",
           "#19d3f3",
           "#FF6692",
           "#B6E880",
           "#FF97FF",
           "#FECB52"
          ],
          "font": {
           "color": "#2a3f5f"
          },
          "geo": {
           "bgcolor": "white",
           "lakecolor": "white",
           "landcolor": "#E5ECF6",
           "showlakes": true,
           "showland": true,
           "subunitcolor": "white"
          },
          "hoverlabel": {
           "align": "left"
          },
          "hovermode": "closest",
          "mapbox": {
           "style": "light"
          },
          "paper_bgcolor": "white",
          "plot_bgcolor": "#E5ECF6",
          "polar": {
           "angularaxis": {
            "gridcolor": "white",
            "linecolor": "white",
            "ticks": ""
           },
           "bgcolor": "#E5ECF6",
           "radialaxis": {
            "gridcolor": "white",
            "linecolor": "white",
            "ticks": ""
           }
          },
          "scene": {
           "xaxis": {
            "backgroundcolor": "#E5ECF6",
            "gridcolor": "white",
            "gridwidth": 2,
            "linecolor": "white",
            "showbackground": true,
            "ticks": "",
            "zerolinecolor": "white"
           },
           "yaxis": {
            "backgroundcolor": "#E5ECF6",
            "gridcolor": "white",
            "gridwidth": 2,
            "linecolor": "white",
            "showbackground": true,
            "ticks": "",
            "zerolinecolor": "white"
           },
           "zaxis": {
            "backgroundcolor": "#E5ECF6",
            "gridcolor": "white",
            "gridwidth": 2,
            "linecolor": "white",
            "showbackground": true,
            "ticks": "",
            "zerolinecolor": "white"
           }
          },
          "shapedefaults": {
           "line": {
            "color": "#2a3f5f"
           }
          },
          "ternary": {
           "aaxis": {
            "gridcolor": "white",
            "linecolor": "white",
            "ticks": ""
           },
           "baxis": {
            "gridcolor": "white",
            "linecolor": "white",
            "ticks": ""
           },
           "bgcolor": "#E5ECF6",
           "caxis": {
            "gridcolor": "white",
            "linecolor": "white",
            "ticks": ""
           }
          },
          "title": {
           "x": 0.05
          },
          "xaxis": {
           "automargin": true,
           "gridcolor": "white",
           "linecolor": "white",
           "ticks": "",
           "title": {
            "standoff": 15
           },
           "zerolinecolor": "white",
           "zerolinewidth": 2
          },
          "yaxis": {
           "automargin": true,
           "gridcolor": "white",
           "linecolor": "white",
           "ticks": "",
           "title": {
            "standoff": 15
           },
           "zerolinecolor": "white",
           "zerolinewidth": 2
          }
         }
        },
        "xaxis": {
         "anchor": "y",
         "domain": [
          0,
          1
         ],
         "title": {
          "text": "variable"
         }
        },
        "yaxis": {
         "anchor": "x",
         "domain": [
          0,
          1
         ],
         "title": {
          "text": "value"
         }
        }
       }
      },
      "text/html": [
       "<div>                            <div id=\"4d1898cd-f081-4e16-9a56-def56717bde0\" class=\"plotly-graph-div\" style=\"height:525px; width:100%;\"></div>            <script type=\"text/javascript\">                require([\"plotly\"], function(Plotly) {                    window.PLOTLYENV=window.PLOTLYENV || {};                                    if (document.getElementById(\"4d1898cd-f081-4e16-9a56-def56717bde0\")) {                    Plotly.newPlot(                        \"4d1898cd-f081-4e16-9a56-def56717bde0\",                        [{\"alignmentgroup\":\"True\",\"hovertemplate\":\"variable=%{x}<br>value=%{y}<extra></extra>\",\"legendgroup\":\"\",\"marker\":{\"color\":\"#636efa\"},\"name\":\"\",\"notched\":false,\"offsetgroup\":\"\",\"orientation\":\"v\",\"showlegend\":false,\"type\":\"box\",\"x\":[\"age\",\"age\",\"age\",\"age\",\"age\",\"age\",\"age\",\"age\",\"age\",\"age\",\"age\",\"age\",\"age\",\"age\",\"age\",\"age\",\"age\",\"age\",\"age\",\"age\",\"age\",\"age\",\"age\",\"age\",\"age\",\"age\",\"age\",\"age\",\"age\",\"age\",\"age\",\"age\",\"age\",\"age\",\"age\",\"age\",\"age\",\"age\",\"age\",\"age\",\"age\",\"age\",\"age\",\"age\",\"age\",\"age\",\"age\",\"age\",\"age\",\"age\",\"age\",\"age\",\"age\",\"age\",\"age\",\"age\",\"age\",\"age\",\"age\",\"age\",\"age\",\"age\",\"age\",\"age\",\"age\",\"age\",\"age\",\"age\",\"age\",\"age\",\"age\",\"age\",\"age\",\"age\",\"age\",\"age\",\"age\",\"age\",\"age\",\"age\",\"age\",\"age\",\"age\",\"age\",\"age\",\"age\",\"age\",\"age\",\"age\",\"age\",\"age\",\"age\",\"age\",\"age\",\"age\",\"age\",\"age\",\"age\",\"age\",\"age\",\"age\",\"age\",\"age\",\"age\",\"age\",\"age\",\"age\",\"age\",\"age\",\"age\",\"age\",\"age\",\"age\",\"age\",\"age\",\"age\",\"age\",\"age\",\"age\",\"age\",\"age\",\"age\",\"age\",\"age\",\"age\",\"age\",\"age\",\"age\",\"age\",\"age\",\"age\",\"age\",\"age\",\"age\",\"age\",\"age\",\"age\",\"age\",\"age\",\"age\",\"age\",\"age\",\"age\",\"age\",\"age\",\"age\",\"age\",\"age\",\"age\",\"age\",\"age\",\"age\",\"age\",\"age\",\"age\",\"age\",\"age\",\"age\",\"age\",\"age\",\"age\",\"age\",\"age\",\"age\",\"age\",\"age\",\"age\",\"age\",\"age\",\"age\",\"age\",\"age\",\"age\",\"age\",\"age\",\"age\",\"age\",\"age\",\"age\",\"age\",\"age\",\"age\",\"age\",\"age\",\"age\",\"age\",\"age\",\"age\",\"age\",\"age\",\"age\",\"age\",\"age\",\"age\",\"age\",\"age\",\"age\",\"age\",\"age\",\"age\",\"age\",\"age\",\"age\",\"age\",\"age\",\"age\",\"age\",\"age\",\"age\",\"age\",\"age\",\"age\",\"age\",\"age\",\"age\",\"age\",\"age\",\"age\",\"age\",\"age\",\"age\",\"age\",\"age\",\"age\",\"age\",\"age\",\"age\",\"age\",\"age\",\"age\",\"age\",\"age\",\"age\",\"age\",\"age\",\"age\",\"age\",\"age\",\"age\",\"age\",\"age\",\"age\",\"age\",\"age\",\"age\",\"age\",\"age\",\"age\",\"age\",\"age\",\"age\",\"age\",\"age\",\"age\",\"age\",\"age\",\"age\",\"age\",\"age\",\"age\",\"age\",\"age\",\"age\",\"age\",\"age\",\"age\",\"age\",\"age\",\"age\",\"age\",\"age\",\"age\",\"age\",\"age\",\"age\",\"age\",\"age\",\"age\",\"age\",\"age\",\"age\",\"age\",\"age\",\"age\",\"age\",\"age\",\"age\",\"age\",\"age\",\"age\",\"age\",\"age\",\"age\",\"age\",\"age\",\"age\",\"age\",\"age\",\"age\",\"age\",\"age\",\"age\",\"age\",\"age\",\"age\",\"age\",\"age\",\"age\",\"age\",\"age\",\"age\",\"age\",\"age\",\"age\",\"age\",\"age\",\"age\",\"age\",\"age\",\"age\",\"age\",\"age\",\"age\",\"age\",\"age\",\"age\",\"age\",\"age\",\"age\",\"age\",\"age\",\"age\",\"age\",\"age\",\"age\",\"age\",\"age\",\"age\",\"age\",\"age\",\"age\",\"age\",\"age\",\"age\",\"age\",\"age\",\"age\",\"age\",\"age\",\"age\",\"age\",\"age\",\"age\",\"age\",\"age\",\"age\",\"age\",\"age\",\"age\",\"age\",\"age\",\"age\",\"age\",\"age\",\"age\",\"age\",\"age\",\"age\",\"age\",\"age\",\"age\",\"age\",\"age\",\"age\",\"age\",\"age\",\"age\",\"age\",\"age\",\"age\",\"age\",\"age\",\"age\",\"age\",\"age\",\"age\",\"age\",\"age\",\"age\",\"age\",\"age\",\"age\",\"age\",\"age\",\"age\",\"age\",\"age\",\"age\",\"age\",\"age\",\"age\",\"age\",\"age\",\"age\",\"age\",\"age\",\"age\",\"age\",\"age\",\"age\",\"age\",\"age\",\"age\",\"age\",\"age\",\"age\",\"age\",\"age\",\"age\",\"age\",\"age\",\"age\",\"age\",\"age\",\"age\",\"age\",\"age\",\"age\",\"age\",\"age\",\"age\",\"age\",\"age\",\"age\",\"age\",\"age\",\"age\",\"age\",\"age\",\"age\",\"age\",\"age\",\"age\",\"age\",\"age\",\"age\",\"age\",\"age\",\"age\",\"age\",\"age\",\"age\",\"age\",\"age\",\"age\",\"age\",\"age\",\"age\",\"age\",\"age\",\"age\",\"age\",\"age\",\"age\",\"age\",\"age\",\"age\",\"age\",\"age\",\"age\",\"age\",\"age\",\"age\",\"age\",\"age\",\"age\",\"age\",\"age\",\"age\",\"age\",\"age\",\"age\",\"age\",\"age\",\"age\",\"age\",\"age\",\"age\",\"age\",\"age\",\"age\",\"age\",\"age\",\"age\",\"age\",\"age\",\"age\",\"age\",\"age\",\"age\",\"age\",\"age\",\"age\",\"age\",\"age\",\"age\",\"age\",\"age\",\"age\",\"age\",\"age\",\"age\",\"age\",\"age\",\"age\",\"age\",\"age\",\"age\",\"age\",\"age\",\"age\",\"age\",\"age\",\"age\",\"age\",\"age\",\"age\",\"age\",\"age\",\"age\",\"age\",\"age\",\"age\",\"age\",\"age\",\"age\",\"age\",\"age\",\"age\",\"age\",\"age\",\"age\",\"age\",\"age\",\"age\",\"age\",\"age\",\"age\",\"age\",\"age\",\"age\",\"age\",\"age\",\"age\",\"age\",\"age\",\"age\",\"age\",\"age\",\"age\",\"age\",\"age\",\"age\",\"age\",\"age\",\"age\",\"age\",\"age\",\"age\",\"age\",\"age\",\"age\",\"age\",\"age\",\"age\",\"age\",\"age\",\"age\",\"age\",\"age\",\"age\",\"age\",\"age\",\"age\",\"age\",\"age\",\"age\",\"age\",\"age\",\"age\",\"age\",\"age\",\"age\",\"age\",\"age\",\"age\",\"age\",\"age\",\"age\",\"age\",\"age\",\"age\",\"age\",\"age\",\"age\",\"age\",\"age\",\"age\",\"age\",\"age\",\"age\",\"age\",\"age\",\"age\",\"age\",\"age\",\"age\",\"age\",\"age\",\"age\",\"age\",\"age\",\"age\",\"age\",\"age\",\"age\",\"age\",\"age\",\"age\",\"age\",\"age\",\"age\",\"age\",\"age\",\"age\",\"age\",\"age\",\"age\",\"age\",\"age\",\"age\",\"age\",\"age\",\"age\",\"age\",\"age\",\"age\",\"age\",\"age\",\"age\",\"age\",\"age\",\"age\",\"age\",\"age\",\"age\",\"age\",\"age\",\"age\",\"age\",\"age\",\"age\",\"age\",\"age\",\"age\",\"age\",\"age\",\"age\",\"age\"],\"x0\":\" \",\"xaxis\":\"x\",\"y\":[50,31,32,21,33,30,26,30,34,57,51,31,31,32,27,50,41,29,51,41,43,22,57,38,60,28,22,28,45,33,35,46,27,56,26,37,48,40,25,29,22,31,22,26,30,58,21,41,31,44,22,39,36,24,42,32,38,54,25,27,28,26,42,23,22,41,27,24,22,36,22,27,45,26,24,21,34,42,60,21,40,24,22,23,33,22,21,24,27,21,37,25,24,24,23,25,39,61,38,25,22,21,24,23,23,30,23,40,62,33,33,30,39,26,31,21,22,29,28,55,38,22,42,23,41,34,65,22,24,37,42,43,21,23,22,36,45,27,21,32,41,22,34,29,29,36,29,23,33,36,42,47,37,32,23,27,40,41,33,31,25,21,40,36,42,29,21,23,26,29,21,28,32,27,55,27,57,52,21,41,25,24,60,24,36,38,25,32,32,41,66,61,26,22,26,24,24,22,22,29,23,26,51,23,32,27,21,22,22,33,29,49,41,23,42,27,24,25,44,21,30,25,51,34,24,63,35,43,24,21,38,21,40,21,52,25,29,23,57,22,28,39,37,47,52,51,29,26,33,21,25,31,24,65,28,24,58,25,35,37,29,47,21,25,30,41,22,27,25,43,26,30,29,28,59,31,25,36,43,21,24,30,37,23,37,46,25,44,22,26,44,33,41,22,36,33,57,49,22,26,29,30,46,24,21,49,28,48,29,29,63,30,30,29,21,22,45,21,25,28,58,22,22,32,35,24,22,21,25,25,24,35,45,58,28,42,27,37,31,25,39,22,25,25,31,55,35,38,41,26,46,25,39,28,25,22,21,21,22,37,27,28,26,21,21,21,36,31,38,26,43,38,22,29,36,41,28,21,31,41,22,24,33,30,28,26,22,26,23,23,25,24,62,24,51,48,26,39,37,34,21,22,25,27,28,22,22,50,24,59,29,31,39,63,35,29,28,23,24,58,28,24,42,33,45,66,30,25,55,39,21,28,41,40,38,35,21,21,64,46,21,58,22,24,28,53,51,41,60,25,26,45,24,21,21,24,22,31,22,24,29,24,46,23,32,43,27,56,25,29,37,53,28,50,21,25,66,23,28,37,30,58,42,35,54,28,24,32,27,22,21,46,37,33,39,21,22,22,23,25,35,21,36,21,27,62,42,22,41,29,52,45,24,44,25,34,22,46,38,26,24,30,54,21,22,25,27,23,24,36,40,26,50,27,30,23,50,28,28,45,21,21,29,21,21,45,21,34,24,23,22,31,38,48,23,32,28,27,24,50,27,33,22,42,23,23,27,28,27,22,22,41,51,27,54,22,43,40,40,24,40,43,45,49,21,47,31,53,25,25,23,22,26,22,27,25,22,29,23,46,34,23,43,25,31,28,26,26,49,52,27,28,45,23,40,38,21,32,31,56,24,52,34,21,42,42,45,38,25,22,22,22,34,22,24,22,53,28,21,42,21,42,48,26,22,45,39,46,27,32,36,50,22,28,25,45,37,39,52,26,66,22,43,33,63,27,30,47,23],\"y0\":\" \",\"yaxis\":\"y\"}],                        {\"boxmode\":\"group\",\"legend\":{\"tracegroupgap\":0},\"margin\":{\"t\":60},\"template\":{\"data\":{\"bar\":[{\"error_x\":{\"color\":\"#2a3f5f\"},\"error_y\":{\"color\":\"#2a3f5f\"},\"marker\":{\"line\":{\"color\":\"#E5ECF6\",\"width\":0.5},\"pattern\":{\"fillmode\":\"overlay\",\"size\":10,\"solidity\":0.2}},\"type\":\"bar\"}],\"barpolar\":[{\"marker\":{\"line\":{\"color\":\"#E5ECF6\",\"width\":0.5},\"pattern\":{\"fillmode\":\"overlay\",\"size\":10,\"solidity\":0.2}},\"type\":\"barpolar\"}],\"carpet\":[{\"aaxis\":{\"endlinecolor\":\"#2a3f5f\",\"gridcolor\":\"white\",\"linecolor\":\"white\",\"minorgridcolor\":\"white\",\"startlinecolor\":\"#2a3f5f\"},\"baxis\":{\"endlinecolor\":\"#2a3f5f\",\"gridcolor\":\"white\",\"linecolor\":\"white\",\"minorgridcolor\":\"white\",\"startlinecolor\":\"#2a3f5f\"},\"type\":\"carpet\"}],\"choropleth\":[{\"colorbar\":{\"outlinewidth\":0,\"ticks\":\"\"},\"type\":\"choropleth\"}],\"contour\":[{\"colorbar\":{\"outlinewidth\":0,\"ticks\":\"\"},\"colorscale\":[[0.0,\"#0d0887\"],[0.1111111111111111,\"#46039f\"],[0.2222222222222222,\"#7201a8\"],[0.3333333333333333,\"#9c179e\"],[0.4444444444444444,\"#bd3786\"],[0.5555555555555556,\"#d8576b\"],[0.6666666666666666,\"#ed7953\"],[0.7777777777777778,\"#fb9f3a\"],[0.8888888888888888,\"#fdca26\"],[1.0,\"#f0f921\"]],\"type\":\"contour\"}],\"contourcarpet\":[{\"colorbar\":{\"outlinewidth\":0,\"ticks\":\"\"},\"type\":\"contourcarpet\"}],\"heatmap\":[{\"colorbar\":{\"outlinewidth\":0,\"ticks\":\"\"},\"colorscale\":[[0.0,\"#0d0887\"],[0.1111111111111111,\"#46039f\"],[0.2222222222222222,\"#7201a8\"],[0.3333333333333333,\"#9c179e\"],[0.4444444444444444,\"#bd3786\"],[0.5555555555555556,\"#d8576b\"],[0.6666666666666666,\"#ed7953\"],[0.7777777777777778,\"#fb9f3a\"],[0.8888888888888888,\"#fdca26\"],[1.0,\"#f0f921\"]],\"type\":\"heatmap\"}],\"heatmapgl\":[{\"colorbar\":{\"outlinewidth\":0,\"ticks\":\"\"},\"colorscale\":[[0.0,\"#0d0887\"],[0.1111111111111111,\"#46039f\"],[0.2222222222222222,\"#7201a8\"],[0.3333333333333333,\"#9c179e\"],[0.4444444444444444,\"#bd3786\"],[0.5555555555555556,\"#d8576b\"],[0.6666666666666666,\"#ed7953\"],[0.7777777777777778,\"#fb9f3a\"],[0.8888888888888888,\"#fdca26\"],[1.0,\"#f0f921\"]],\"type\":\"heatmapgl\"}],\"histogram\":[{\"marker\":{\"pattern\":{\"fillmode\":\"overlay\",\"size\":10,\"solidity\":0.2}},\"type\":\"histogram\"}],\"histogram2d\":[{\"colorbar\":{\"outlinewidth\":0,\"ticks\":\"\"},\"colorscale\":[[0.0,\"#0d0887\"],[0.1111111111111111,\"#46039f\"],[0.2222222222222222,\"#7201a8\"],[0.3333333333333333,\"#9c179e\"],[0.4444444444444444,\"#bd3786\"],[0.5555555555555556,\"#d8576b\"],[0.6666666666666666,\"#ed7953\"],[0.7777777777777778,\"#fb9f3a\"],[0.8888888888888888,\"#fdca26\"],[1.0,\"#f0f921\"]],\"type\":\"histogram2d\"}],\"histogram2dcontour\":[{\"colorbar\":{\"outlinewidth\":0,\"ticks\":\"\"},\"colorscale\":[[0.0,\"#0d0887\"],[0.1111111111111111,\"#46039f\"],[0.2222222222222222,\"#7201a8\"],[0.3333333333333333,\"#9c179e\"],[0.4444444444444444,\"#bd3786\"],[0.5555555555555556,\"#d8576b\"],[0.6666666666666666,\"#ed7953\"],[0.7777777777777778,\"#fb9f3a\"],[0.8888888888888888,\"#fdca26\"],[1.0,\"#f0f921\"]],\"type\":\"histogram2dcontour\"}],\"mesh3d\":[{\"colorbar\":{\"outlinewidth\":0,\"ticks\":\"\"},\"type\":\"mesh3d\"}],\"parcoords\":[{\"line\":{\"colorbar\":{\"outlinewidth\":0,\"ticks\":\"\"}},\"type\":\"parcoords\"}],\"pie\":[{\"automargin\":true,\"type\":\"pie\"}],\"scatter\":[{\"marker\":{\"colorbar\":{\"outlinewidth\":0,\"ticks\":\"\"}},\"type\":\"scatter\"}],\"scatter3d\":[{\"line\":{\"colorbar\":{\"outlinewidth\":0,\"ticks\":\"\"}},\"marker\":{\"colorbar\":{\"outlinewidth\":0,\"ticks\":\"\"}},\"type\":\"scatter3d\"}],\"scattercarpet\":[{\"marker\":{\"colorbar\":{\"outlinewidth\":0,\"ticks\":\"\"}},\"type\":\"scattercarpet\"}],\"scattergeo\":[{\"marker\":{\"colorbar\":{\"outlinewidth\":0,\"ticks\":\"\"}},\"type\":\"scattergeo\"}],\"scattergl\":[{\"marker\":{\"colorbar\":{\"outlinewidth\":0,\"ticks\":\"\"}},\"type\":\"scattergl\"}],\"scattermapbox\":[{\"marker\":{\"colorbar\":{\"outlinewidth\":0,\"ticks\":\"\"}},\"type\":\"scattermapbox\"}],\"scatterpolar\":[{\"marker\":{\"colorbar\":{\"outlinewidth\":0,\"ticks\":\"\"}},\"type\":\"scatterpolar\"}],\"scatterpolargl\":[{\"marker\":{\"colorbar\":{\"outlinewidth\":0,\"ticks\":\"\"}},\"type\":\"scatterpolargl\"}],\"scatterternary\":[{\"marker\":{\"colorbar\":{\"outlinewidth\":0,\"ticks\":\"\"}},\"type\":\"scatterternary\"}],\"surface\":[{\"colorbar\":{\"outlinewidth\":0,\"ticks\":\"\"},\"colorscale\":[[0.0,\"#0d0887\"],[0.1111111111111111,\"#46039f\"],[0.2222222222222222,\"#7201a8\"],[0.3333333333333333,\"#9c179e\"],[0.4444444444444444,\"#bd3786\"],[0.5555555555555556,\"#d8576b\"],[0.6666666666666666,\"#ed7953\"],[0.7777777777777778,\"#fb9f3a\"],[0.8888888888888888,\"#fdca26\"],[1.0,\"#f0f921\"]],\"type\":\"surface\"}],\"table\":[{\"cells\":{\"fill\":{\"color\":\"#EBF0F8\"},\"line\":{\"color\":\"white\"}},\"header\":{\"fill\":{\"color\":\"#C8D4E3\"},\"line\":{\"color\":\"white\"}},\"type\":\"table\"}]},\"layout\":{\"annotationdefaults\":{\"arrowcolor\":\"#2a3f5f\",\"arrowhead\":0,\"arrowwidth\":1},\"autotypenumbers\":\"strict\",\"coloraxis\":{\"colorbar\":{\"outlinewidth\":0,\"ticks\":\"\"}},\"colorscale\":{\"diverging\":[[0,\"#8e0152\"],[0.1,\"#c51b7d\"],[0.2,\"#de77ae\"],[0.3,\"#f1b6da\"],[0.4,\"#fde0ef\"],[0.5,\"#f7f7f7\"],[0.6,\"#e6f5d0\"],[0.7,\"#b8e186\"],[0.8,\"#7fbc41\"],[0.9,\"#4d9221\"],[1,\"#276419\"]],\"sequential\":[[0.0,\"#0d0887\"],[0.1111111111111111,\"#46039f\"],[0.2222222222222222,\"#7201a8\"],[0.3333333333333333,\"#9c179e\"],[0.4444444444444444,\"#bd3786\"],[0.5555555555555556,\"#d8576b\"],[0.6666666666666666,\"#ed7953\"],[0.7777777777777778,\"#fb9f3a\"],[0.8888888888888888,\"#fdca26\"],[1.0,\"#f0f921\"]],\"sequentialminus\":[[0.0,\"#0d0887\"],[0.1111111111111111,\"#46039f\"],[0.2222222222222222,\"#7201a8\"],[0.3333333333333333,\"#9c179e\"],[0.4444444444444444,\"#bd3786\"],[0.5555555555555556,\"#d8576b\"],[0.6666666666666666,\"#ed7953\"],[0.7777777777777778,\"#fb9f3a\"],[0.8888888888888888,\"#fdca26\"],[1.0,\"#f0f921\"]]},\"colorway\":[\"#636efa\",\"#EF553B\",\"#00cc96\",\"#ab63fa\",\"#FFA15A\",\"#19d3f3\",\"#FF6692\",\"#B6E880\",\"#FF97FF\",\"#FECB52\"],\"font\":{\"color\":\"#2a3f5f\"},\"geo\":{\"bgcolor\":\"white\",\"lakecolor\":\"white\",\"landcolor\":\"#E5ECF6\",\"showlakes\":true,\"showland\":true,\"subunitcolor\":\"white\"},\"hoverlabel\":{\"align\":\"left\"},\"hovermode\":\"closest\",\"mapbox\":{\"style\":\"light\"},\"paper_bgcolor\":\"white\",\"plot_bgcolor\":\"#E5ECF6\",\"polar\":{\"angularaxis\":{\"gridcolor\":\"white\",\"linecolor\":\"white\",\"ticks\":\"\"},\"bgcolor\":\"#E5ECF6\",\"radialaxis\":{\"gridcolor\":\"white\",\"linecolor\":\"white\",\"ticks\":\"\"}},\"scene\":{\"xaxis\":{\"backgroundcolor\":\"#E5ECF6\",\"gridcolor\":\"white\",\"gridwidth\":2,\"linecolor\":\"white\",\"showbackground\":true,\"ticks\":\"\",\"zerolinecolor\":\"white\"},\"yaxis\":{\"backgroundcolor\":\"#E5ECF6\",\"gridcolor\":\"white\",\"gridwidth\":2,\"linecolor\":\"white\",\"showbackground\":true,\"ticks\":\"\",\"zerolinecolor\":\"white\"},\"zaxis\":{\"backgroundcolor\":\"#E5ECF6\",\"gridcolor\":\"white\",\"gridwidth\":2,\"linecolor\":\"white\",\"showbackground\":true,\"ticks\":\"\",\"zerolinecolor\":\"white\"}},\"shapedefaults\":{\"line\":{\"color\":\"#2a3f5f\"}},\"ternary\":{\"aaxis\":{\"gridcolor\":\"white\",\"linecolor\":\"white\",\"ticks\":\"\"},\"baxis\":{\"gridcolor\":\"white\",\"linecolor\":\"white\",\"ticks\":\"\"},\"bgcolor\":\"#E5ECF6\",\"caxis\":{\"gridcolor\":\"white\",\"linecolor\":\"white\",\"ticks\":\"\"}},\"title\":{\"x\":0.05},\"xaxis\":{\"automargin\":true,\"gridcolor\":\"white\",\"linecolor\":\"white\",\"ticks\":\"\",\"title\":{\"standoff\":15},\"zerolinecolor\":\"white\",\"zerolinewidth\":2},\"yaxis\":{\"automargin\":true,\"gridcolor\":\"white\",\"linecolor\":\"white\",\"ticks\":\"\",\"title\":{\"standoff\":15},\"zerolinecolor\":\"white\",\"zerolinewidth\":2}}},\"xaxis\":{\"anchor\":\"y\",\"domain\":[0.0,1.0],\"title\":{\"text\":\"variable\"}},\"yaxis\":{\"anchor\":\"x\",\"domain\":[0.0,1.0],\"title\":{\"text\":\"value\"}}},                        {\"responsive\": true}                    ).then(function(){\n",
       "                            \n",
       "var gd = document.getElementById('4d1898cd-f081-4e16-9a56-def56717bde0');\n",
       "var x = new MutationObserver(function (mutations, observer) {{\n",
       "        var display = window.getComputedStyle(gd).display;\n",
       "        if (!display || display === 'none') {{\n",
       "            console.log([gd, 'removed!']);\n",
       "            Plotly.purge(gd);\n",
       "            observer.disconnect();\n",
       "        }}\n",
       "}});\n",
       "\n",
       "// Listen for the removal of the full notebook cells\n",
       "var notebookContainer = gd.closest('#notebook-container');\n",
       "if (notebookContainer) {{\n",
       "    x.observe(notebookContainer, {childList: true});\n",
       "}}\n",
       "\n",
       "// Listen for the clearing of the current output cell\n",
       "var outputEl = gd.closest('.output');\n",
       "if (outputEl) {{\n",
       "    x.observe(outputEl, {childList: true});\n",
       "}}\n",
       "\n",
       "                        })                };                });            </script>        </div>"
      ]
     },
     "metadata": {},
     "output_type": "display_data"
    }
   ],
   "source": [
    "px.box(df['age'])"
   ]
  },
  {
   "cell_type": "code",
   "execution_count": 119,
   "id": "cbc73773",
   "metadata": {},
   "outputs": [
    {
     "data": {
      "application/vnd.plotly.v1+json": {
       "config": {
        "plotlyServerURL": "https://plot.ly"
       },
       "data": [
        {
         "alignmentgroup": "True",
         "hovertemplate": "variable=%{x}<br>value=%{y}<extra></extra>",
         "legendgroup": "",
         "marker": {
          "color": "#636efa"
         },
         "name": "",
         "notched": false,
         "offsetgroup": "",
         "orientation": "v",
         "showlegend": false,
         "type": "box",
         "x": [
          "outcome",
          "outcome",
          "outcome",
          "outcome",
          "outcome",
          "outcome",
          "outcome",
          "outcome",
          "outcome",
          "outcome",
          "outcome",
          "outcome",
          "outcome",
          "outcome",
          "outcome",
          "outcome",
          "outcome",
          "outcome",
          "outcome",
          "outcome",
          "outcome",
          "outcome",
          "outcome",
          "outcome",
          "outcome",
          "outcome",
          "outcome",
          "outcome",
          "outcome",
          "outcome",
          "outcome",
          "outcome",
          "outcome",
          "outcome",
          "outcome",
          "outcome",
          "outcome",
          "outcome",
          "outcome",
          "outcome",
          "outcome",
          "outcome",
          "outcome",
          "outcome",
          "outcome",
          "outcome",
          "outcome",
          "outcome",
          "outcome",
          "outcome",
          "outcome",
          "outcome",
          "outcome",
          "outcome",
          "outcome",
          "outcome",
          "outcome",
          "outcome",
          "outcome",
          "outcome",
          "outcome",
          "outcome",
          "outcome",
          "outcome",
          "outcome",
          "outcome",
          "outcome",
          "outcome",
          "outcome",
          "outcome",
          "outcome",
          "outcome",
          "outcome",
          "outcome",
          "outcome",
          "outcome",
          "outcome",
          "outcome",
          "outcome",
          "outcome",
          "outcome",
          "outcome",
          "outcome",
          "outcome",
          "outcome",
          "outcome",
          "outcome",
          "outcome",
          "outcome",
          "outcome",
          "outcome",
          "outcome",
          "outcome",
          "outcome",
          "outcome",
          "outcome",
          "outcome",
          "outcome",
          "outcome",
          "outcome",
          "outcome",
          "outcome",
          "outcome",
          "outcome",
          "outcome",
          "outcome",
          "outcome",
          "outcome",
          "outcome",
          "outcome",
          "outcome",
          "outcome",
          "outcome",
          "outcome",
          "outcome",
          "outcome",
          "outcome",
          "outcome",
          "outcome",
          "outcome",
          "outcome",
          "outcome",
          "outcome",
          "outcome",
          "outcome",
          "outcome",
          "outcome",
          "outcome",
          "outcome",
          "outcome",
          "outcome",
          "outcome",
          "outcome",
          "outcome",
          "outcome",
          "outcome",
          "outcome",
          "outcome",
          "outcome",
          "outcome",
          "outcome",
          "outcome",
          "outcome",
          "outcome",
          "outcome",
          "outcome",
          "outcome",
          "outcome",
          "outcome",
          "outcome",
          "outcome",
          "outcome",
          "outcome",
          "outcome",
          "outcome",
          "outcome",
          "outcome",
          "outcome",
          "outcome",
          "outcome",
          "outcome",
          "outcome",
          "outcome",
          "outcome",
          "outcome",
          "outcome",
          "outcome",
          "outcome",
          "outcome",
          "outcome",
          "outcome",
          "outcome",
          "outcome",
          "outcome",
          "outcome",
          "outcome",
          "outcome",
          "outcome",
          "outcome",
          "outcome",
          "outcome",
          "outcome",
          "outcome",
          "outcome",
          "outcome",
          "outcome",
          "outcome",
          "outcome",
          "outcome",
          "outcome",
          "outcome",
          "outcome",
          "outcome",
          "outcome",
          "outcome",
          "outcome",
          "outcome",
          "outcome",
          "outcome",
          "outcome",
          "outcome",
          "outcome",
          "outcome",
          "outcome",
          "outcome",
          "outcome",
          "outcome",
          "outcome",
          "outcome",
          "outcome",
          "outcome",
          "outcome",
          "outcome",
          "outcome",
          "outcome",
          "outcome",
          "outcome",
          "outcome",
          "outcome",
          "outcome",
          "outcome",
          "outcome",
          "outcome",
          "outcome",
          "outcome",
          "outcome",
          "outcome",
          "outcome",
          "outcome",
          "outcome",
          "outcome",
          "outcome",
          "outcome",
          "outcome",
          "outcome",
          "outcome",
          "outcome",
          "outcome",
          "outcome",
          "outcome",
          "outcome",
          "outcome",
          "outcome",
          "outcome",
          "outcome",
          "outcome",
          "outcome",
          "outcome",
          "outcome",
          "outcome",
          "outcome",
          "outcome",
          "outcome",
          "outcome",
          "outcome",
          "outcome",
          "outcome",
          "outcome",
          "outcome",
          "outcome",
          "outcome",
          "outcome",
          "outcome",
          "outcome",
          "outcome",
          "outcome",
          "outcome",
          "outcome",
          "outcome",
          "outcome",
          "outcome",
          "outcome",
          "outcome",
          "outcome",
          "outcome",
          "outcome",
          "outcome",
          "outcome",
          "outcome",
          "outcome",
          "outcome",
          "outcome",
          "outcome",
          "outcome",
          "outcome",
          "outcome",
          "outcome",
          "outcome",
          "outcome",
          "outcome",
          "outcome",
          "outcome",
          "outcome",
          "outcome",
          "outcome",
          "outcome",
          "outcome",
          "outcome",
          "outcome",
          "outcome",
          "outcome",
          "outcome",
          "outcome",
          "outcome",
          "outcome",
          "outcome",
          "outcome",
          "outcome",
          "outcome",
          "outcome",
          "outcome",
          "outcome",
          "outcome",
          "outcome",
          "outcome",
          "outcome",
          "outcome",
          "outcome",
          "outcome",
          "outcome",
          "outcome",
          "outcome",
          "outcome",
          "outcome",
          "outcome",
          "outcome",
          "outcome",
          "outcome",
          "outcome",
          "outcome",
          "outcome",
          "outcome",
          "outcome",
          "outcome",
          "outcome",
          "outcome",
          "outcome",
          "outcome",
          "outcome",
          "outcome",
          "outcome",
          "outcome",
          "outcome",
          "outcome",
          "outcome",
          "outcome",
          "outcome",
          "outcome",
          "outcome",
          "outcome",
          "outcome",
          "outcome",
          "outcome",
          "outcome",
          "outcome",
          "outcome",
          "outcome",
          "outcome",
          "outcome",
          "outcome",
          "outcome",
          "outcome",
          "outcome",
          "outcome",
          "outcome",
          "outcome",
          "outcome",
          "outcome",
          "outcome",
          "outcome",
          "outcome",
          "outcome",
          "outcome",
          "outcome",
          "outcome",
          "outcome",
          "outcome",
          "outcome",
          "outcome",
          "outcome",
          "outcome",
          "outcome",
          "outcome",
          "outcome",
          "outcome",
          "outcome",
          "outcome",
          "outcome",
          "outcome",
          "outcome",
          "outcome",
          "outcome",
          "outcome",
          "outcome",
          "outcome",
          "outcome",
          "outcome",
          "outcome",
          "outcome",
          "outcome",
          "outcome",
          "outcome",
          "outcome",
          "outcome",
          "outcome",
          "outcome",
          "outcome",
          "outcome",
          "outcome",
          "outcome",
          "outcome",
          "outcome",
          "outcome",
          "outcome",
          "outcome",
          "outcome",
          "outcome",
          "outcome",
          "outcome",
          "outcome",
          "outcome",
          "outcome",
          "outcome",
          "outcome",
          "outcome",
          "outcome",
          "outcome",
          "outcome",
          "outcome",
          "outcome",
          "outcome",
          "outcome",
          "outcome",
          "outcome",
          "outcome",
          "outcome",
          "outcome",
          "outcome",
          "outcome",
          "outcome",
          "outcome",
          "outcome",
          "outcome",
          "outcome",
          "outcome",
          "outcome",
          "outcome",
          "outcome",
          "outcome",
          "outcome",
          "outcome",
          "outcome",
          "outcome",
          "outcome",
          "outcome",
          "outcome",
          "outcome",
          "outcome",
          "outcome",
          "outcome",
          "outcome",
          "outcome",
          "outcome",
          "outcome",
          "outcome",
          "outcome",
          "outcome",
          "outcome",
          "outcome",
          "outcome",
          "outcome",
          "outcome",
          "outcome",
          "outcome",
          "outcome",
          "outcome",
          "outcome",
          "outcome",
          "outcome",
          "outcome",
          "outcome",
          "outcome",
          "outcome",
          "outcome",
          "outcome",
          "outcome",
          "outcome",
          "outcome",
          "outcome",
          "outcome",
          "outcome",
          "outcome",
          "outcome",
          "outcome",
          "outcome",
          "outcome",
          "outcome",
          "outcome",
          "outcome",
          "outcome",
          "outcome",
          "outcome",
          "outcome",
          "outcome",
          "outcome",
          "outcome",
          "outcome",
          "outcome",
          "outcome",
          "outcome",
          "outcome",
          "outcome",
          "outcome",
          "outcome",
          "outcome",
          "outcome",
          "outcome",
          "outcome",
          "outcome",
          "outcome",
          "outcome",
          "outcome",
          "outcome",
          "outcome",
          "outcome",
          "outcome",
          "outcome",
          "outcome",
          "outcome",
          "outcome",
          "outcome",
          "outcome",
          "outcome",
          "outcome",
          "outcome",
          "outcome",
          "outcome",
          "outcome",
          "outcome",
          "outcome",
          "outcome",
          "outcome",
          "outcome",
          "outcome",
          "outcome",
          "outcome",
          "outcome",
          "outcome",
          "outcome",
          "outcome",
          "outcome",
          "outcome",
          "outcome",
          "outcome",
          "outcome",
          "outcome",
          "outcome",
          "outcome",
          "outcome",
          "outcome",
          "outcome",
          "outcome",
          "outcome",
          "outcome",
          "outcome",
          "outcome",
          "outcome",
          "outcome",
          "outcome",
          "outcome",
          "outcome",
          "outcome",
          "outcome",
          "outcome",
          "outcome",
          "outcome",
          "outcome",
          "outcome",
          "outcome",
          "outcome",
          "outcome",
          "outcome",
          "outcome",
          "outcome",
          "outcome",
          "outcome",
          "outcome",
          "outcome",
          "outcome",
          "outcome",
          "outcome",
          "outcome",
          "outcome",
          "outcome",
          "outcome",
          "outcome",
          "outcome",
          "outcome",
          "outcome",
          "outcome",
          "outcome",
          "outcome",
          "outcome",
          "outcome",
          "outcome",
          "outcome",
          "outcome",
          "outcome",
          "outcome",
          "outcome",
          "outcome",
          "outcome",
          "outcome",
          "outcome",
          "outcome",
          "outcome",
          "outcome",
          "outcome",
          "outcome",
          "outcome",
          "outcome",
          "outcome",
          "outcome",
          "outcome",
          "outcome",
          "outcome",
          "outcome",
          "outcome",
          "outcome",
          "outcome",
          "outcome",
          "outcome",
          "outcome",
          "outcome",
          "outcome",
          "outcome",
          "outcome",
          "outcome",
          "outcome",
          "outcome",
          "outcome",
          "outcome",
          "outcome",
          "outcome",
          "outcome",
          "outcome",
          "outcome",
          "outcome",
          "outcome",
          "outcome",
          "outcome",
          "outcome",
          "outcome",
          "outcome",
          "outcome",
          "outcome",
          "outcome",
          "outcome",
          "outcome",
          "outcome",
          "outcome",
          "outcome",
          "outcome",
          "outcome",
          "outcome",
          "outcome",
          "outcome",
          "outcome",
          "outcome"
         ],
         "x0": " ",
         "xaxis": "x",
         "y": [
          1,
          0,
          1,
          0,
          1,
          0,
          1,
          0,
          1,
          0,
          1,
          1,
          1,
          1,
          0,
          0,
          1,
          1,
          1,
          1,
          1,
          0,
          0,
          0,
          0,
          1,
          0,
          0,
          0,
          0,
          0,
          1,
          1,
          1,
          0,
          0,
          0,
          0,
          1,
          0,
          0,
          1,
          0,
          0,
          0,
          1,
          0,
          1,
          0,
          0,
          0,
          1,
          0,
          0,
          1,
          0,
          1,
          0,
          0,
          0,
          1,
          0,
          1,
          0,
          0,
          0,
          0,
          0,
          0,
          0,
          0,
          0,
          0,
          0,
          0,
          0,
          0,
          0,
          1,
          0,
          0,
          0,
          0,
          0,
          1,
          0,
          0,
          0,
          0,
          0,
          0,
          0,
          1,
          1,
          0,
          0,
          1,
          1,
          1,
          0,
          0,
          0,
          0,
          0,
          1,
          0,
          0,
          1,
          1,
          1,
          1,
          1,
          0,
          0,
          0,
          0,
          0,
          0,
          0,
          0,
          0,
          0,
          1,
          0,
          0,
          0,
          0,
          0,
          0,
          0,
          1,
          1,
          0,
          0,
          0,
          0,
          0,
          0,
          0,
          1,
          1,
          0,
          0,
          0,
          0,
          1,
          1,
          0,
          0,
          1,
          0,
          0,
          1,
          0,
          0,
          0,
          0,
          1,
          1,
          1,
          1,
          0,
          0,
          1,
          0,
          1,
          0,
          1,
          1,
          1,
          0,
          0,
          0,
          0,
          0,
          0,
          1,
          1,
          0,
          1,
          0,
          0,
          0,
          1,
          1,
          1,
          1,
          0,
          1,
          1,
          1,
          0,
          0,
          0,
          0,
          1,
          0,
          1,
          0,
          0,
          0,
          1,
          1,
          1,
          1,
          0,
          0,
          0,
          1,
          1,
          0,
          1,
          0,
          0,
          0,
          0,
          0,
          0,
          1,
          1,
          0,
          0,
          1,
          0,
          0,
          0,
          1,
          0,
          0,
          0,
          1,
          0,
          0,
          0,
          0,
          0,
          1,
          0,
          0,
          0,
          1,
          0,
          0,
          1,
          1,
          0,
          1,
          0,
          0,
          0,
          1,
          1,
          1,
          0,
          0,
          0,
          0,
          1,
          0,
          0,
          0,
          1,
          0,
          1,
          1,
          0,
          0,
          1,
          0,
          1,
          0,
          0,
          1,
          0,
          1,
          0,
          1,
          1,
          1,
          0,
          0,
          1,
          0,
          1,
          0,
          0,
          0,
          0,
          0,
          0,
          1,
          1,
          1,
          0,
          0,
          0,
          0,
          0,
          0,
          0,
          0,
          0,
          0,
          0,
          0,
          1,
          1,
          0,
          1,
          1,
          0,
          0,
          0,
          1,
          0,
          0,
          1,
          0,
          0,
          0,
          1,
          0,
          0,
          1,
          0,
          0,
          0,
          0,
          0,
          0,
          0,
          1,
          1,
          1,
          0,
          0,
          1,
          0,
          1,
          0,
          0,
          1,
          0,
          1,
          1,
          0,
          1,
          0,
          1,
          0,
          1,
          0,
          1,
          0,
          0,
          0,
          0,
          1,
          0,
          1,
          0,
          1,
          0,
          0,
          0,
          0,
          1,
          1,
          1,
          0,
          1,
          0,
          0,
          0,
          0,
          0,
          0,
          0,
          0,
          1,
          0,
          0,
          1,
          1,
          0,
          0,
          1,
          0,
          0,
          1,
          0,
          0,
          0,
          0,
          1,
          0,
          0,
          0,
          0,
          0,
          0,
          0,
          0,
          0,
          0,
          0,
          0,
          0,
          0,
          0,
          1,
          0,
          0,
          0,
          1,
          0,
          0,
          0,
          1,
          0,
          0,
          0,
          0,
          0,
          1,
          0,
          0,
          0,
          1,
          0,
          0,
          0,
          0,
          0,
          0,
          1,
          0,
          0,
          0,
          1,
          0,
          0,
          0,
          0,
          1,
          1,
          0,
          0,
          0,
          0,
          0,
          1,
          0,
          0,
          0,
          0,
          0,
          0,
          0,
          0,
          0,
          0,
          0,
          0,
          1,
          1,
          1,
          1,
          0,
          0,
          1,
          1,
          0,
          0,
          0,
          0,
          0,
          0,
          0,
          0,
          0,
          0,
          0,
          0,
          1,
          1,
          0,
          0,
          0,
          0,
          0,
          0,
          0,
          1,
          0,
          0,
          0,
          0,
          0,
          0,
          0,
          1,
          0,
          1,
          0,
          0,
          0,
          0,
          1,
          0,
          1,
          1,
          0,
          1,
          0,
          0,
          1,
          0,
          1,
          0,
          0,
          0,
          1,
          0,
          1,
          0,
          0,
          0,
          0,
          1,
          1,
          0,
          1,
          0,
          0,
          0,
          1,
          0,
          0,
          0,
          0,
          0,
          0,
          0,
          0,
          0,
          0,
          1,
          0,
          0,
          0,
          0,
          1,
          0,
          0,
          1,
          0,
          0,
          0,
          1,
          0,
          1,
          1,
          1,
          0,
          0,
          0,
          0,
          0,
          0,
          0,
          0,
          0,
          1,
          0,
          1,
          1,
          1,
          1,
          0,
          1,
          0,
          0,
          0,
          0,
          0,
          1,
          1,
          0,
          1,
          0,
          0,
          1,
          0,
          1,
          0,
          0,
          0,
          0,
          1,
          0,
          0,
          1,
          0,
          1,
          0,
          0,
          0,
          1,
          1,
          0,
          0,
          1,
          1,
          0,
          1,
          0,
          0,
          1,
          0,
          0,
          1,
          0,
          0,
          1,
          0,
          0,
          0,
          0,
          0,
          0,
          0,
          1,
          1,
          1,
          0,
          0,
          0,
          0,
          0,
          0,
          1,
          1,
          0,
          0,
          1,
          0,
          0,
          1,
          0,
          1,
          1,
          1,
          0,
          0,
          1,
          1,
          0,
          1,
          0,
          1,
          0,
          1,
          0,
          0,
          0,
          0,
          1,
          0
         ],
         "y0": " ",
         "yaxis": "y"
        }
       ],
       "layout": {
        "boxmode": "group",
        "legend": {
         "tracegroupgap": 0
        },
        "margin": {
         "t": 60
        },
        "template": {
         "data": {
          "bar": [
           {
            "error_x": {
             "color": "#2a3f5f"
            },
            "error_y": {
             "color": "#2a3f5f"
            },
            "marker": {
             "line": {
              "color": "#E5ECF6",
              "width": 0.5
             },
             "pattern": {
              "fillmode": "overlay",
              "size": 10,
              "solidity": 0.2
             }
            },
            "type": "bar"
           }
          ],
          "barpolar": [
           {
            "marker": {
             "line": {
              "color": "#E5ECF6",
              "width": 0.5
             },
             "pattern": {
              "fillmode": "overlay",
              "size": 10,
              "solidity": 0.2
             }
            },
            "type": "barpolar"
           }
          ],
          "carpet": [
           {
            "aaxis": {
             "endlinecolor": "#2a3f5f",
             "gridcolor": "white",
             "linecolor": "white",
             "minorgridcolor": "white",
             "startlinecolor": "#2a3f5f"
            },
            "baxis": {
             "endlinecolor": "#2a3f5f",
             "gridcolor": "white",
             "linecolor": "white",
             "minorgridcolor": "white",
             "startlinecolor": "#2a3f5f"
            },
            "type": "carpet"
           }
          ],
          "choropleth": [
           {
            "colorbar": {
             "outlinewidth": 0,
             "ticks": ""
            },
            "type": "choropleth"
           }
          ],
          "contour": [
           {
            "colorbar": {
             "outlinewidth": 0,
             "ticks": ""
            },
            "colorscale": [
             [
              0,
              "#0d0887"
             ],
             [
              0.1111111111111111,
              "#46039f"
             ],
             [
              0.2222222222222222,
              "#7201a8"
             ],
             [
              0.3333333333333333,
              "#9c179e"
             ],
             [
              0.4444444444444444,
              "#bd3786"
             ],
             [
              0.5555555555555556,
              "#d8576b"
             ],
             [
              0.6666666666666666,
              "#ed7953"
             ],
             [
              0.7777777777777778,
              "#fb9f3a"
             ],
             [
              0.8888888888888888,
              "#fdca26"
             ],
             [
              1,
              "#f0f921"
             ]
            ],
            "type": "contour"
           }
          ],
          "contourcarpet": [
           {
            "colorbar": {
             "outlinewidth": 0,
             "ticks": ""
            },
            "type": "contourcarpet"
           }
          ],
          "heatmap": [
           {
            "colorbar": {
             "outlinewidth": 0,
             "ticks": ""
            },
            "colorscale": [
             [
              0,
              "#0d0887"
             ],
             [
              0.1111111111111111,
              "#46039f"
             ],
             [
              0.2222222222222222,
              "#7201a8"
             ],
             [
              0.3333333333333333,
              "#9c179e"
             ],
             [
              0.4444444444444444,
              "#bd3786"
             ],
             [
              0.5555555555555556,
              "#d8576b"
             ],
             [
              0.6666666666666666,
              "#ed7953"
             ],
             [
              0.7777777777777778,
              "#fb9f3a"
             ],
             [
              0.8888888888888888,
              "#fdca26"
             ],
             [
              1,
              "#f0f921"
             ]
            ],
            "type": "heatmap"
           }
          ],
          "heatmapgl": [
           {
            "colorbar": {
             "outlinewidth": 0,
             "ticks": ""
            },
            "colorscale": [
             [
              0,
              "#0d0887"
             ],
             [
              0.1111111111111111,
              "#46039f"
             ],
             [
              0.2222222222222222,
              "#7201a8"
             ],
             [
              0.3333333333333333,
              "#9c179e"
             ],
             [
              0.4444444444444444,
              "#bd3786"
             ],
             [
              0.5555555555555556,
              "#d8576b"
             ],
             [
              0.6666666666666666,
              "#ed7953"
             ],
             [
              0.7777777777777778,
              "#fb9f3a"
             ],
             [
              0.8888888888888888,
              "#fdca26"
             ],
             [
              1,
              "#f0f921"
             ]
            ],
            "type": "heatmapgl"
           }
          ],
          "histogram": [
           {
            "marker": {
             "pattern": {
              "fillmode": "overlay",
              "size": 10,
              "solidity": 0.2
             }
            },
            "type": "histogram"
           }
          ],
          "histogram2d": [
           {
            "colorbar": {
             "outlinewidth": 0,
             "ticks": ""
            },
            "colorscale": [
             [
              0,
              "#0d0887"
             ],
             [
              0.1111111111111111,
              "#46039f"
             ],
             [
              0.2222222222222222,
              "#7201a8"
             ],
             [
              0.3333333333333333,
              "#9c179e"
             ],
             [
              0.4444444444444444,
              "#bd3786"
             ],
             [
              0.5555555555555556,
              "#d8576b"
             ],
             [
              0.6666666666666666,
              "#ed7953"
             ],
             [
              0.7777777777777778,
              "#fb9f3a"
             ],
             [
              0.8888888888888888,
              "#fdca26"
             ],
             [
              1,
              "#f0f921"
             ]
            ],
            "type": "histogram2d"
           }
          ],
          "histogram2dcontour": [
           {
            "colorbar": {
             "outlinewidth": 0,
             "ticks": ""
            },
            "colorscale": [
             [
              0,
              "#0d0887"
             ],
             [
              0.1111111111111111,
              "#46039f"
             ],
             [
              0.2222222222222222,
              "#7201a8"
             ],
             [
              0.3333333333333333,
              "#9c179e"
             ],
             [
              0.4444444444444444,
              "#bd3786"
             ],
             [
              0.5555555555555556,
              "#d8576b"
             ],
             [
              0.6666666666666666,
              "#ed7953"
             ],
             [
              0.7777777777777778,
              "#fb9f3a"
             ],
             [
              0.8888888888888888,
              "#fdca26"
             ],
             [
              1,
              "#f0f921"
             ]
            ],
            "type": "histogram2dcontour"
           }
          ],
          "mesh3d": [
           {
            "colorbar": {
             "outlinewidth": 0,
             "ticks": ""
            },
            "type": "mesh3d"
           }
          ],
          "parcoords": [
           {
            "line": {
             "colorbar": {
              "outlinewidth": 0,
              "ticks": ""
             }
            },
            "type": "parcoords"
           }
          ],
          "pie": [
           {
            "automargin": true,
            "type": "pie"
           }
          ],
          "scatter": [
           {
            "marker": {
             "colorbar": {
              "outlinewidth": 0,
              "ticks": ""
             }
            },
            "type": "scatter"
           }
          ],
          "scatter3d": [
           {
            "line": {
             "colorbar": {
              "outlinewidth": 0,
              "ticks": ""
             }
            },
            "marker": {
             "colorbar": {
              "outlinewidth": 0,
              "ticks": ""
             }
            },
            "type": "scatter3d"
           }
          ],
          "scattercarpet": [
           {
            "marker": {
             "colorbar": {
              "outlinewidth": 0,
              "ticks": ""
             }
            },
            "type": "scattercarpet"
           }
          ],
          "scattergeo": [
           {
            "marker": {
             "colorbar": {
              "outlinewidth": 0,
              "ticks": ""
             }
            },
            "type": "scattergeo"
           }
          ],
          "scattergl": [
           {
            "marker": {
             "colorbar": {
              "outlinewidth": 0,
              "ticks": ""
             }
            },
            "type": "scattergl"
           }
          ],
          "scattermapbox": [
           {
            "marker": {
             "colorbar": {
              "outlinewidth": 0,
              "ticks": ""
             }
            },
            "type": "scattermapbox"
           }
          ],
          "scatterpolar": [
           {
            "marker": {
             "colorbar": {
              "outlinewidth": 0,
              "ticks": ""
             }
            },
            "type": "scatterpolar"
           }
          ],
          "scatterpolargl": [
           {
            "marker": {
             "colorbar": {
              "outlinewidth": 0,
              "ticks": ""
             }
            },
            "type": "scatterpolargl"
           }
          ],
          "scatterternary": [
           {
            "marker": {
             "colorbar": {
              "outlinewidth": 0,
              "ticks": ""
             }
            },
            "type": "scatterternary"
           }
          ],
          "surface": [
           {
            "colorbar": {
             "outlinewidth": 0,
             "ticks": ""
            },
            "colorscale": [
             [
              0,
              "#0d0887"
             ],
             [
              0.1111111111111111,
              "#46039f"
             ],
             [
              0.2222222222222222,
              "#7201a8"
             ],
             [
              0.3333333333333333,
              "#9c179e"
             ],
             [
              0.4444444444444444,
              "#bd3786"
             ],
             [
              0.5555555555555556,
              "#d8576b"
             ],
             [
              0.6666666666666666,
              "#ed7953"
             ],
             [
              0.7777777777777778,
              "#fb9f3a"
             ],
             [
              0.8888888888888888,
              "#fdca26"
             ],
             [
              1,
              "#f0f921"
             ]
            ],
            "type": "surface"
           }
          ],
          "table": [
           {
            "cells": {
             "fill": {
              "color": "#EBF0F8"
             },
             "line": {
              "color": "white"
             }
            },
            "header": {
             "fill": {
              "color": "#C8D4E3"
             },
             "line": {
              "color": "white"
             }
            },
            "type": "table"
           }
          ]
         },
         "layout": {
          "annotationdefaults": {
           "arrowcolor": "#2a3f5f",
           "arrowhead": 0,
           "arrowwidth": 1
          },
          "autotypenumbers": "strict",
          "coloraxis": {
           "colorbar": {
            "outlinewidth": 0,
            "ticks": ""
           }
          },
          "colorscale": {
           "diverging": [
            [
             0,
             "#8e0152"
            ],
            [
             0.1,
             "#c51b7d"
            ],
            [
             0.2,
             "#de77ae"
            ],
            [
             0.3,
             "#f1b6da"
            ],
            [
             0.4,
             "#fde0ef"
            ],
            [
             0.5,
             "#f7f7f7"
            ],
            [
             0.6,
             "#e6f5d0"
            ],
            [
             0.7,
             "#b8e186"
            ],
            [
             0.8,
             "#7fbc41"
            ],
            [
             0.9,
             "#4d9221"
            ],
            [
             1,
             "#276419"
            ]
           ],
           "sequential": [
            [
             0,
             "#0d0887"
            ],
            [
             0.1111111111111111,
             "#46039f"
            ],
            [
             0.2222222222222222,
             "#7201a8"
            ],
            [
             0.3333333333333333,
             "#9c179e"
            ],
            [
             0.4444444444444444,
             "#bd3786"
            ],
            [
             0.5555555555555556,
             "#d8576b"
            ],
            [
             0.6666666666666666,
             "#ed7953"
            ],
            [
             0.7777777777777778,
             "#fb9f3a"
            ],
            [
             0.8888888888888888,
             "#fdca26"
            ],
            [
             1,
             "#f0f921"
            ]
           ],
           "sequentialminus": [
            [
             0,
             "#0d0887"
            ],
            [
             0.1111111111111111,
             "#46039f"
            ],
            [
             0.2222222222222222,
             "#7201a8"
            ],
            [
             0.3333333333333333,
             "#9c179e"
            ],
            [
             0.4444444444444444,
             "#bd3786"
            ],
            [
             0.5555555555555556,
             "#d8576b"
            ],
            [
             0.6666666666666666,
             "#ed7953"
            ],
            [
             0.7777777777777778,
             "#fb9f3a"
            ],
            [
             0.8888888888888888,
             "#fdca26"
            ],
            [
             1,
             "#f0f921"
            ]
           ]
          },
          "colorway": [
           "#636efa",
           "#EF553B",
           "#00cc96",
           "#ab63fa",
           "#FFA15A",
           "#19d3f3",
           "#FF6692",
           "#B6E880",
           "#FF97FF",
           "#FECB52"
          ],
          "font": {
           "color": "#2a3f5f"
          },
          "geo": {
           "bgcolor": "white",
           "lakecolor": "white",
           "landcolor": "#E5ECF6",
           "showlakes": true,
           "showland": true,
           "subunitcolor": "white"
          },
          "hoverlabel": {
           "align": "left"
          },
          "hovermode": "closest",
          "mapbox": {
           "style": "light"
          },
          "paper_bgcolor": "white",
          "plot_bgcolor": "#E5ECF6",
          "polar": {
           "angularaxis": {
            "gridcolor": "white",
            "linecolor": "white",
            "ticks": ""
           },
           "bgcolor": "#E5ECF6",
           "radialaxis": {
            "gridcolor": "white",
            "linecolor": "white",
            "ticks": ""
           }
          },
          "scene": {
           "xaxis": {
            "backgroundcolor": "#E5ECF6",
            "gridcolor": "white",
            "gridwidth": 2,
            "linecolor": "white",
            "showbackground": true,
            "ticks": "",
            "zerolinecolor": "white"
           },
           "yaxis": {
            "backgroundcolor": "#E5ECF6",
            "gridcolor": "white",
            "gridwidth": 2,
            "linecolor": "white",
            "showbackground": true,
            "ticks": "",
            "zerolinecolor": "white"
           },
           "zaxis": {
            "backgroundcolor": "#E5ECF6",
            "gridcolor": "white",
            "gridwidth": 2,
            "linecolor": "white",
            "showbackground": true,
            "ticks": "",
            "zerolinecolor": "white"
           }
          },
          "shapedefaults": {
           "line": {
            "color": "#2a3f5f"
           }
          },
          "ternary": {
           "aaxis": {
            "gridcolor": "white",
            "linecolor": "white",
            "ticks": ""
           },
           "baxis": {
            "gridcolor": "white",
            "linecolor": "white",
            "ticks": ""
           },
           "bgcolor": "#E5ECF6",
           "caxis": {
            "gridcolor": "white",
            "linecolor": "white",
            "ticks": ""
           }
          },
          "title": {
           "x": 0.05
          },
          "xaxis": {
           "automargin": true,
           "gridcolor": "white",
           "linecolor": "white",
           "ticks": "",
           "title": {
            "standoff": 15
           },
           "zerolinecolor": "white",
           "zerolinewidth": 2
          },
          "yaxis": {
           "automargin": true,
           "gridcolor": "white",
           "linecolor": "white",
           "ticks": "",
           "title": {
            "standoff": 15
           },
           "zerolinecolor": "white",
           "zerolinewidth": 2
          }
         }
        },
        "xaxis": {
         "anchor": "y",
         "domain": [
          0,
          1
         ],
         "title": {
          "text": "variable"
         }
        },
        "yaxis": {
         "anchor": "x",
         "domain": [
          0,
          1
         ],
         "title": {
          "text": "value"
         }
        }
       }
      },
      "text/html": [
       "<div>                            <div id=\"2d77214e-7d3c-4014-a078-27d1c30d08ed\" class=\"plotly-graph-div\" style=\"height:525px; width:100%;\"></div>            <script type=\"text/javascript\">                require([\"plotly\"], function(Plotly) {                    window.PLOTLYENV=window.PLOTLYENV || {};                                    if (document.getElementById(\"2d77214e-7d3c-4014-a078-27d1c30d08ed\")) {                    Plotly.newPlot(                        \"2d77214e-7d3c-4014-a078-27d1c30d08ed\",                        [{\"alignmentgroup\":\"True\",\"hovertemplate\":\"variable=%{x}<br>value=%{y}<extra></extra>\",\"legendgroup\":\"\",\"marker\":{\"color\":\"#636efa\"},\"name\":\"\",\"notched\":false,\"offsetgroup\":\"\",\"orientation\":\"v\",\"showlegend\":false,\"type\":\"box\",\"x\":[\"outcome\",\"outcome\",\"outcome\",\"outcome\",\"outcome\",\"outcome\",\"outcome\",\"outcome\",\"outcome\",\"outcome\",\"outcome\",\"outcome\",\"outcome\",\"outcome\",\"outcome\",\"outcome\",\"outcome\",\"outcome\",\"outcome\",\"outcome\",\"outcome\",\"outcome\",\"outcome\",\"outcome\",\"outcome\",\"outcome\",\"outcome\",\"outcome\",\"outcome\",\"outcome\",\"outcome\",\"outcome\",\"outcome\",\"outcome\",\"outcome\",\"outcome\",\"outcome\",\"outcome\",\"outcome\",\"outcome\",\"outcome\",\"outcome\",\"outcome\",\"outcome\",\"outcome\",\"outcome\",\"outcome\",\"outcome\",\"outcome\",\"outcome\",\"outcome\",\"outcome\",\"outcome\",\"outcome\",\"outcome\",\"outcome\",\"outcome\",\"outcome\",\"outcome\",\"outcome\",\"outcome\",\"outcome\",\"outcome\",\"outcome\",\"outcome\",\"outcome\",\"outcome\",\"outcome\",\"outcome\",\"outcome\",\"outcome\",\"outcome\",\"outcome\",\"outcome\",\"outcome\",\"outcome\",\"outcome\",\"outcome\",\"outcome\",\"outcome\",\"outcome\",\"outcome\",\"outcome\",\"outcome\",\"outcome\",\"outcome\",\"outcome\",\"outcome\",\"outcome\",\"outcome\",\"outcome\",\"outcome\",\"outcome\",\"outcome\",\"outcome\",\"outcome\",\"outcome\",\"outcome\",\"outcome\",\"outcome\",\"outcome\",\"outcome\",\"outcome\",\"outcome\",\"outcome\",\"outcome\",\"outcome\",\"outcome\",\"outcome\",\"outcome\",\"outcome\",\"outcome\",\"outcome\",\"outcome\",\"outcome\",\"outcome\",\"outcome\",\"outcome\",\"outcome\",\"outcome\",\"outcome\",\"outcome\",\"outcome\",\"outcome\",\"outcome\",\"outcome\",\"outcome\",\"outcome\",\"outcome\",\"outcome\",\"outcome\",\"outcome\",\"outcome\",\"outcome\",\"outcome\",\"outcome\",\"outcome\",\"outcome\",\"outcome\",\"outcome\",\"outcome\",\"outcome\",\"outcome\",\"outcome\",\"outcome\",\"outcome\",\"outcome\",\"outcome\",\"outcome\",\"outcome\",\"outcome\",\"outcome\",\"outcome\",\"outcome\",\"outcome\",\"outcome\",\"outcome\",\"outcome\",\"outcome\",\"outcome\",\"outcome\",\"outcome\",\"outcome\",\"outcome\",\"outcome\",\"outcome\",\"outcome\",\"outcome\",\"outcome\",\"outcome\",\"outcome\",\"outcome\",\"outcome\",\"outcome\",\"outcome\",\"outcome\",\"outcome\",\"outcome\",\"outcome\",\"outcome\",\"outcome\",\"outcome\",\"outcome\",\"outcome\",\"outcome\",\"outcome\",\"outcome\",\"outcome\",\"outcome\",\"outcome\",\"outcome\",\"outcome\",\"outcome\",\"outcome\",\"outcome\",\"outcome\",\"outcome\",\"outcome\",\"outcome\",\"outcome\",\"outcome\",\"outcome\",\"outcome\",\"outcome\",\"outcome\",\"outcome\",\"outcome\",\"outcome\",\"outcome\",\"outcome\",\"outcome\",\"outcome\",\"outcome\",\"outcome\",\"outcome\",\"outcome\",\"outcome\",\"outcome\",\"outcome\",\"outcome\",\"outcome\",\"outcome\",\"outcome\",\"outcome\",\"outcome\",\"outcome\",\"outcome\",\"outcome\",\"outcome\",\"outcome\",\"outcome\",\"outcome\",\"outcome\",\"outcome\",\"outcome\",\"outcome\",\"outcome\",\"outcome\",\"outcome\",\"outcome\",\"outcome\",\"outcome\",\"outcome\",\"outcome\",\"outcome\",\"outcome\",\"outcome\",\"outcome\",\"outcome\",\"outcome\",\"outcome\",\"outcome\",\"outcome\",\"outcome\",\"outcome\",\"outcome\",\"outcome\",\"outcome\",\"outcome\",\"outcome\",\"outcome\",\"outcome\",\"outcome\",\"outcome\",\"outcome\",\"outcome\",\"outcome\",\"outcome\",\"outcome\",\"outcome\",\"outcome\",\"outcome\",\"outcome\",\"outcome\",\"outcome\",\"outcome\",\"outcome\",\"outcome\",\"outcome\",\"outcome\",\"outcome\",\"outcome\",\"outcome\",\"outcome\",\"outcome\",\"outcome\",\"outcome\",\"outcome\",\"outcome\",\"outcome\",\"outcome\",\"outcome\",\"outcome\",\"outcome\",\"outcome\",\"outcome\",\"outcome\",\"outcome\",\"outcome\",\"outcome\",\"outcome\",\"outcome\",\"outcome\",\"outcome\",\"outcome\",\"outcome\",\"outcome\",\"outcome\",\"outcome\",\"outcome\",\"outcome\",\"outcome\",\"outcome\",\"outcome\",\"outcome\",\"outcome\",\"outcome\",\"outcome\",\"outcome\",\"outcome\",\"outcome\",\"outcome\",\"outcome\",\"outcome\",\"outcome\",\"outcome\",\"outcome\",\"outcome\",\"outcome\",\"outcome\",\"outcome\",\"outcome\",\"outcome\",\"outcome\",\"outcome\",\"outcome\",\"outcome\",\"outcome\",\"outcome\",\"outcome\",\"outcome\",\"outcome\",\"outcome\",\"outcome\",\"outcome\",\"outcome\",\"outcome\",\"outcome\",\"outcome\",\"outcome\",\"outcome\",\"outcome\",\"outcome\",\"outcome\",\"outcome\",\"outcome\",\"outcome\",\"outcome\",\"outcome\",\"outcome\",\"outcome\",\"outcome\",\"outcome\",\"outcome\",\"outcome\",\"outcome\",\"outcome\",\"outcome\",\"outcome\",\"outcome\",\"outcome\",\"outcome\",\"outcome\",\"outcome\",\"outcome\",\"outcome\",\"outcome\",\"outcome\",\"outcome\",\"outcome\",\"outcome\",\"outcome\",\"outcome\",\"outcome\",\"outcome\",\"outcome\",\"outcome\",\"outcome\",\"outcome\",\"outcome\",\"outcome\",\"outcome\",\"outcome\",\"outcome\",\"outcome\",\"outcome\",\"outcome\",\"outcome\",\"outcome\",\"outcome\",\"outcome\",\"outcome\",\"outcome\",\"outcome\",\"outcome\",\"outcome\",\"outcome\",\"outcome\",\"outcome\",\"outcome\",\"outcome\",\"outcome\",\"outcome\",\"outcome\",\"outcome\",\"outcome\",\"outcome\",\"outcome\",\"outcome\",\"outcome\",\"outcome\",\"outcome\",\"outcome\",\"outcome\",\"outcome\",\"outcome\",\"outcome\",\"outcome\",\"outcome\",\"outcome\",\"outcome\",\"outcome\",\"outcome\",\"outcome\",\"outcome\",\"outcome\",\"outcome\",\"outcome\",\"outcome\",\"outcome\",\"outcome\",\"outcome\",\"outcome\",\"outcome\",\"outcome\",\"outcome\",\"outcome\",\"outcome\",\"outcome\",\"outcome\",\"outcome\",\"outcome\",\"outcome\",\"outcome\",\"outcome\",\"outcome\",\"outcome\",\"outcome\",\"outcome\",\"outcome\",\"outcome\",\"outcome\",\"outcome\",\"outcome\",\"outcome\",\"outcome\",\"outcome\",\"outcome\",\"outcome\",\"outcome\",\"outcome\",\"outcome\",\"outcome\",\"outcome\",\"outcome\",\"outcome\",\"outcome\",\"outcome\",\"outcome\",\"outcome\",\"outcome\",\"outcome\",\"outcome\",\"outcome\",\"outcome\",\"outcome\",\"outcome\",\"outcome\",\"outcome\",\"outcome\",\"outcome\",\"outcome\",\"outcome\",\"outcome\",\"outcome\",\"outcome\",\"outcome\",\"outcome\",\"outcome\",\"outcome\",\"outcome\",\"outcome\",\"outcome\",\"outcome\",\"outcome\",\"outcome\",\"outcome\",\"outcome\",\"outcome\",\"outcome\",\"outcome\",\"outcome\",\"outcome\",\"outcome\",\"outcome\",\"outcome\",\"outcome\",\"outcome\",\"outcome\",\"outcome\",\"outcome\",\"outcome\",\"outcome\",\"outcome\",\"outcome\",\"outcome\",\"outcome\",\"outcome\",\"outcome\",\"outcome\",\"outcome\",\"outcome\",\"outcome\",\"outcome\",\"outcome\",\"outcome\",\"outcome\",\"outcome\",\"outcome\",\"outcome\",\"outcome\",\"outcome\",\"outcome\",\"outcome\",\"outcome\",\"outcome\",\"outcome\",\"outcome\",\"outcome\",\"outcome\",\"outcome\",\"outcome\",\"outcome\",\"outcome\",\"outcome\",\"outcome\",\"outcome\",\"outcome\",\"outcome\",\"outcome\",\"outcome\",\"outcome\",\"outcome\",\"outcome\",\"outcome\",\"outcome\",\"outcome\",\"outcome\",\"outcome\",\"outcome\",\"outcome\",\"outcome\",\"outcome\",\"outcome\",\"outcome\",\"outcome\",\"outcome\",\"outcome\",\"outcome\",\"outcome\",\"outcome\",\"outcome\",\"outcome\",\"outcome\",\"outcome\",\"outcome\",\"outcome\",\"outcome\",\"outcome\",\"outcome\",\"outcome\",\"outcome\",\"outcome\",\"outcome\",\"outcome\",\"outcome\",\"outcome\",\"outcome\",\"outcome\",\"outcome\",\"outcome\",\"outcome\",\"outcome\",\"outcome\",\"outcome\",\"outcome\",\"outcome\",\"outcome\",\"outcome\",\"outcome\",\"outcome\",\"outcome\",\"outcome\",\"outcome\",\"outcome\",\"outcome\",\"outcome\",\"outcome\",\"outcome\",\"outcome\",\"outcome\",\"outcome\",\"outcome\",\"outcome\",\"outcome\",\"outcome\",\"outcome\",\"outcome\",\"outcome\",\"outcome\",\"outcome\",\"outcome\",\"outcome\",\"outcome\",\"outcome\",\"outcome\",\"outcome\",\"outcome\",\"outcome\",\"outcome\",\"outcome\",\"outcome\",\"outcome\",\"outcome\",\"outcome\",\"outcome\",\"outcome\",\"outcome\",\"outcome\",\"outcome\",\"outcome\",\"outcome\",\"outcome\",\"outcome\",\"outcome\",\"outcome\",\"outcome\",\"outcome\",\"outcome\",\"outcome\",\"outcome\",\"outcome\",\"outcome\",\"outcome\",\"outcome\",\"outcome\",\"outcome\",\"outcome\",\"outcome\"],\"x0\":\" \",\"xaxis\":\"x\",\"y\":[1,0,1,0,1,0,1,0,1,0,1,1,1,1,0,0,1,1,1,1,1,0,0,0,0,1,0,0,0,0,0,1,1,1,0,0,0,0,1,0,0,1,0,0,0,1,0,1,0,0,0,1,0,0,1,0,1,0,0,0,1,0,1,0,0,0,0,0,0,0,0,0,0,0,0,0,0,0,1,0,0,0,0,0,1,0,0,0,0,0,0,0,1,1,0,0,1,1,1,0,0,0,0,0,1,0,0,1,1,1,1,1,0,0,0,0,0,0,0,0,0,0,1,0,0,0,0,0,0,0,1,1,0,0,0,0,0,0,0,1,1,0,0,0,0,1,1,0,0,1,0,0,1,0,0,0,0,1,1,1,1,0,0,1,0,1,0,1,1,1,0,0,0,0,0,0,1,1,0,1,0,0,0,1,1,1,1,0,1,1,1,0,0,0,0,1,0,1,0,0,0,1,1,1,1,0,0,0,1,1,0,1,0,0,0,0,0,0,1,1,0,0,1,0,0,0,1,0,0,0,1,0,0,0,0,0,1,0,0,0,1,0,0,1,1,0,1,0,0,0,1,1,1,0,0,0,0,1,0,0,0,1,0,1,1,0,0,1,0,1,0,0,1,0,1,0,1,1,1,0,0,1,0,1,0,0,0,0,0,0,1,1,1,0,0,0,0,0,0,0,0,0,0,0,0,1,1,0,1,1,0,0,0,1,0,0,1,0,0,0,1,0,0,1,0,0,0,0,0,0,0,1,1,1,0,0,1,0,1,0,0,1,0,1,1,0,1,0,1,0,1,0,1,0,0,0,0,1,0,1,0,1,0,0,0,0,1,1,1,0,1,0,0,0,0,0,0,0,0,1,0,0,1,1,0,0,1,0,0,1,0,0,0,0,1,0,0,0,0,0,0,0,0,0,0,0,0,0,0,0,1,0,0,0,1,0,0,0,1,0,0,0,0,0,1,0,0,0,1,0,0,0,0,0,0,1,0,0,0,1,0,0,0,0,1,1,0,0,0,0,0,1,0,0,0,0,0,0,0,0,0,0,0,0,1,1,1,1,0,0,1,1,0,0,0,0,0,0,0,0,0,0,0,0,1,1,0,0,0,0,0,0,0,1,0,0,0,0,0,0,0,1,0,1,0,0,0,0,1,0,1,1,0,1,0,0,1,0,1,0,0,0,1,0,1,0,0,0,0,1,1,0,1,0,0,0,1,0,0,0,0,0,0,0,0,0,0,1,0,0,0,0,1,0,0,1,0,0,0,1,0,1,1,1,0,0,0,0,0,0,0,0,0,1,0,1,1,1,1,0,1,0,0,0,0,0,1,1,0,1,0,0,1,0,1,0,0,0,0,1,0,0,1,0,1,0,0,0,1,1,0,0,1,1,0,1,0,0,1,0,0,1,0,0,1,0,0,0,0,0,0,0,1,1,1,0,0,0,0,0,0,1,1,0,0,1,0,0,1,0,1,1,1,0,0,1,1,0,1,0,1,0,1,0,0,0,0,1,0],\"y0\":\" \",\"yaxis\":\"y\"}],                        {\"boxmode\":\"group\",\"legend\":{\"tracegroupgap\":0},\"margin\":{\"t\":60},\"template\":{\"data\":{\"bar\":[{\"error_x\":{\"color\":\"#2a3f5f\"},\"error_y\":{\"color\":\"#2a3f5f\"},\"marker\":{\"line\":{\"color\":\"#E5ECF6\",\"width\":0.5},\"pattern\":{\"fillmode\":\"overlay\",\"size\":10,\"solidity\":0.2}},\"type\":\"bar\"}],\"barpolar\":[{\"marker\":{\"line\":{\"color\":\"#E5ECF6\",\"width\":0.5},\"pattern\":{\"fillmode\":\"overlay\",\"size\":10,\"solidity\":0.2}},\"type\":\"barpolar\"}],\"carpet\":[{\"aaxis\":{\"endlinecolor\":\"#2a3f5f\",\"gridcolor\":\"white\",\"linecolor\":\"white\",\"minorgridcolor\":\"white\",\"startlinecolor\":\"#2a3f5f\"},\"baxis\":{\"endlinecolor\":\"#2a3f5f\",\"gridcolor\":\"white\",\"linecolor\":\"white\",\"minorgridcolor\":\"white\",\"startlinecolor\":\"#2a3f5f\"},\"type\":\"carpet\"}],\"choropleth\":[{\"colorbar\":{\"outlinewidth\":0,\"ticks\":\"\"},\"type\":\"choropleth\"}],\"contour\":[{\"colorbar\":{\"outlinewidth\":0,\"ticks\":\"\"},\"colorscale\":[[0.0,\"#0d0887\"],[0.1111111111111111,\"#46039f\"],[0.2222222222222222,\"#7201a8\"],[0.3333333333333333,\"#9c179e\"],[0.4444444444444444,\"#bd3786\"],[0.5555555555555556,\"#d8576b\"],[0.6666666666666666,\"#ed7953\"],[0.7777777777777778,\"#fb9f3a\"],[0.8888888888888888,\"#fdca26\"],[1.0,\"#f0f921\"]],\"type\":\"contour\"}],\"contourcarpet\":[{\"colorbar\":{\"outlinewidth\":0,\"ticks\":\"\"},\"type\":\"contourcarpet\"}],\"heatmap\":[{\"colorbar\":{\"outlinewidth\":0,\"ticks\":\"\"},\"colorscale\":[[0.0,\"#0d0887\"],[0.1111111111111111,\"#46039f\"],[0.2222222222222222,\"#7201a8\"],[0.3333333333333333,\"#9c179e\"],[0.4444444444444444,\"#bd3786\"],[0.5555555555555556,\"#d8576b\"],[0.6666666666666666,\"#ed7953\"],[0.7777777777777778,\"#fb9f3a\"],[0.8888888888888888,\"#fdca26\"],[1.0,\"#f0f921\"]],\"type\":\"heatmap\"}],\"heatmapgl\":[{\"colorbar\":{\"outlinewidth\":0,\"ticks\":\"\"},\"colorscale\":[[0.0,\"#0d0887\"],[0.1111111111111111,\"#46039f\"],[0.2222222222222222,\"#7201a8\"],[0.3333333333333333,\"#9c179e\"],[0.4444444444444444,\"#bd3786\"],[0.5555555555555556,\"#d8576b\"],[0.6666666666666666,\"#ed7953\"],[0.7777777777777778,\"#fb9f3a\"],[0.8888888888888888,\"#fdca26\"],[1.0,\"#f0f921\"]],\"type\":\"heatmapgl\"}],\"histogram\":[{\"marker\":{\"pattern\":{\"fillmode\":\"overlay\",\"size\":10,\"solidity\":0.2}},\"type\":\"histogram\"}],\"histogram2d\":[{\"colorbar\":{\"outlinewidth\":0,\"ticks\":\"\"},\"colorscale\":[[0.0,\"#0d0887\"],[0.1111111111111111,\"#46039f\"],[0.2222222222222222,\"#7201a8\"],[0.3333333333333333,\"#9c179e\"],[0.4444444444444444,\"#bd3786\"],[0.5555555555555556,\"#d8576b\"],[0.6666666666666666,\"#ed7953\"],[0.7777777777777778,\"#fb9f3a\"],[0.8888888888888888,\"#fdca26\"],[1.0,\"#f0f921\"]],\"type\":\"histogram2d\"}],\"histogram2dcontour\":[{\"colorbar\":{\"outlinewidth\":0,\"ticks\":\"\"},\"colorscale\":[[0.0,\"#0d0887\"],[0.1111111111111111,\"#46039f\"],[0.2222222222222222,\"#7201a8\"],[0.3333333333333333,\"#9c179e\"],[0.4444444444444444,\"#bd3786\"],[0.5555555555555556,\"#d8576b\"],[0.6666666666666666,\"#ed7953\"],[0.7777777777777778,\"#fb9f3a\"],[0.8888888888888888,\"#fdca26\"],[1.0,\"#f0f921\"]],\"type\":\"histogram2dcontour\"}],\"mesh3d\":[{\"colorbar\":{\"outlinewidth\":0,\"ticks\":\"\"},\"type\":\"mesh3d\"}],\"parcoords\":[{\"line\":{\"colorbar\":{\"outlinewidth\":0,\"ticks\":\"\"}},\"type\":\"parcoords\"}],\"pie\":[{\"automargin\":true,\"type\":\"pie\"}],\"scatter\":[{\"marker\":{\"colorbar\":{\"outlinewidth\":0,\"ticks\":\"\"}},\"type\":\"scatter\"}],\"scatter3d\":[{\"line\":{\"colorbar\":{\"outlinewidth\":0,\"ticks\":\"\"}},\"marker\":{\"colorbar\":{\"outlinewidth\":0,\"ticks\":\"\"}},\"type\":\"scatter3d\"}],\"scattercarpet\":[{\"marker\":{\"colorbar\":{\"outlinewidth\":0,\"ticks\":\"\"}},\"type\":\"scattercarpet\"}],\"scattergeo\":[{\"marker\":{\"colorbar\":{\"outlinewidth\":0,\"ticks\":\"\"}},\"type\":\"scattergeo\"}],\"scattergl\":[{\"marker\":{\"colorbar\":{\"outlinewidth\":0,\"ticks\":\"\"}},\"type\":\"scattergl\"}],\"scattermapbox\":[{\"marker\":{\"colorbar\":{\"outlinewidth\":0,\"ticks\":\"\"}},\"type\":\"scattermapbox\"}],\"scatterpolar\":[{\"marker\":{\"colorbar\":{\"outlinewidth\":0,\"ticks\":\"\"}},\"type\":\"scatterpolar\"}],\"scatterpolargl\":[{\"marker\":{\"colorbar\":{\"outlinewidth\":0,\"ticks\":\"\"}},\"type\":\"scatterpolargl\"}],\"scatterternary\":[{\"marker\":{\"colorbar\":{\"outlinewidth\":0,\"ticks\":\"\"}},\"type\":\"scatterternary\"}],\"surface\":[{\"colorbar\":{\"outlinewidth\":0,\"ticks\":\"\"},\"colorscale\":[[0.0,\"#0d0887\"],[0.1111111111111111,\"#46039f\"],[0.2222222222222222,\"#7201a8\"],[0.3333333333333333,\"#9c179e\"],[0.4444444444444444,\"#bd3786\"],[0.5555555555555556,\"#d8576b\"],[0.6666666666666666,\"#ed7953\"],[0.7777777777777778,\"#fb9f3a\"],[0.8888888888888888,\"#fdca26\"],[1.0,\"#f0f921\"]],\"type\":\"surface\"}],\"table\":[{\"cells\":{\"fill\":{\"color\":\"#EBF0F8\"},\"line\":{\"color\":\"white\"}},\"header\":{\"fill\":{\"color\":\"#C8D4E3\"},\"line\":{\"color\":\"white\"}},\"type\":\"table\"}]},\"layout\":{\"annotationdefaults\":{\"arrowcolor\":\"#2a3f5f\",\"arrowhead\":0,\"arrowwidth\":1},\"autotypenumbers\":\"strict\",\"coloraxis\":{\"colorbar\":{\"outlinewidth\":0,\"ticks\":\"\"}},\"colorscale\":{\"diverging\":[[0,\"#8e0152\"],[0.1,\"#c51b7d\"],[0.2,\"#de77ae\"],[0.3,\"#f1b6da\"],[0.4,\"#fde0ef\"],[0.5,\"#f7f7f7\"],[0.6,\"#e6f5d0\"],[0.7,\"#b8e186\"],[0.8,\"#7fbc41\"],[0.9,\"#4d9221\"],[1,\"#276419\"]],\"sequential\":[[0.0,\"#0d0887\"],[0.1111111111111111,\"#46039f\"],[0.2222222222222222,\"#7201a8\"],[0.3333333333333333,\"#9c179e\"],[0.4444444444444444,\"#bd3786\"],[0.5555555555555556,\"#d8576b\"],[0.6666666666666666,\"#ed7953\"],[0.7777777777777778,\"#fb9f3a\"],[0.8888888888888888,\"#fdca26\"],[1.0,\"#f0f921\"]],\"sequentialminus\":[[0.0,\"#0d0887\"],[0.1111111111111111,\"#46039f\"],[0.2222222222222222,\"#7201a8\"],[0.3333333333333333,\"#9c179e\"],[0.4444444444444444,\"#bd3786\"],[0.5555555555555556,\"#d8576b\"],[0.6666666666666666,\"#ed7953\"],[0.7777777777777778,\"#fb9f3a\"],[0.8888888888888888,\"#fdca26\"],[1.0,\"#f0f921\"]]},\"colorway\":[\"#636efa\",\"#EF553B\",\"#00cc96\",\"#ab63fa\",\"#FFA15A\",\"#19d3f3\",\"#FF6692\",\"#B6E880\",\"#FF97FF\",\"#FECB52\"],\"font\":{\"color\":\"#2a3f5f\"},\"geo\":{\"bgcolor\":\"white\",\"lakecolor\":\"white\",\"landcolor\":\"#E5ECF6\",\"showlakes\":true,\"showland\":true,\"subunitcolor\":\"white\"},\"hoverlabel\":{\"align\":\"left\"},\"hovermode\":\"closest\",\"mapbox\":{\"style\":\"light\"},\"paper_bgcolor\":\"white\",\"plot_bgcolor\":\"#E5ECF6\",\"polar\":{\"angularaxis\":{\"gridcolor\":\"white\",\"linecolor\":\"white\",\"ticks\":\"\"},\"bgcolor\":\"#E5ECF6\",\"radialaxis\":{\"gridcolor\":\"white\",\"linecolor\":\"white\",\"ticks\":\"\"}},\"scene\":{\"xaxis\":{\"backgroundcolor\":\"#E5ECF6\",\"gridcolor\":\"white\",\"gridwidth\":2,\"linecolor\":\"white\",\"showbackground\":true,\"ticks\":\"\",\"zerolinecolor\":\"white\"},\"yaxis\":{\"backgroundcolor\":\"#E5ECF6\",\"gridcolor\":\"white\",\"gridwidth\":2,\"linecolor\":\"white\",\"showbackground\":true,\"ticks\":\"\",\"zerolinecolor\":\"white\"},\"zaxis\":{\"backgroundcolor\":\"#E5ECF6\",\"gridcolor\":\"white\",\"gridwidth\":2,\"linecolor\":\"white\",\"showbackground\":true,\"ticks\":\"\",\"zerolinecolor\":\"white\"}},\"shapedefaults\":{\"line\":{\"color\":\"#2a3f5f\"}},\"ternary\":{\"aaxis\":{\"gridcolor\":\"white\",\"linecolor\":\"white\",\"ticks\":\"\"},\"baxis\":{\"gridcolor\":\"white\",\"linecolor\":\"white\",\"ticks\":\"\"},\"bgcolor\":\"#E5ECF6\",\"caxis\":{\"gridcolor\":\"white\",\"linecolor\":\"white\",\"ticks\":\"\"}},\"title\":{\"x\":0.05},\"xaxis\":{\"automargin\":true,\"gridcolor\":\"white\",\"linecolor\":\"white\",\"ticks\":\"\",\"title\":{\"standoff\":15},\"zerolinecolor\":\"white\",\"zerolinewidth\":2},\"yaxis\":{\"automargin\":true,\"gridcolor\":\"white\",\"linecolor\":\"white\",\"ticks\":\"\",\"title\":{\"standoff\":15},\"zerolinecolor\":\"white\",\"zerolinewidth\":2}}},\"xaxis\":{\"anchor\":\"y\",\"domain\":[0.0,1.0],\"title\":{\"text\":\"variable\"}},\"yaxis\":{\"anchor\":\"x\",\"domain\":[0.0,1.0],\"title\":{\"text\":\"value\"}}},                        {\"responsive\": true}                    ).then(function(){\n",
       "                            \n",
       "var gd = document.getElementById('2d77214e-7d3c-4014-a078-27d1c30d08ed');\n",
       "var x = new MutationObserver(function (mutations, observer) {{\n",
       "        var display = window.getComputedStyle(gd).display;\n",
       "        if (!display || display === 'none') {{\n",
       "            console.log([gd, 'removed!']);\n",
       "            Plotly.purge(gd);\n",
       "            observer.disconnect();\n",
       "        }}\n",
       "}});\n",
       "\n",
       "// Listen for the removal of the full notebook cells\n",
       "var notebookContainer = gd.closest('#notebook-container');\n",
       "if (notebookContainer) {{\n",
       "    x.observe(notebookContainer, {childList: true});\n",
       "}}\n",
       "\n",
       "// Listen for the clearing of the current output cell\n",
       "var outputEl = gd.closest('.output');\n",
       "if (outputEl) {{\n",
       "    x.observe(outputEl, {childList: true});\n",
       "}}\n",
       "\n",
       "                        })                };                });            </script>        </div>"
      ]
     },
     "metadata": {},
     "output_type": "display_data"
    }
   ],
   "source": [
    "px.box(df['outcome'])"
   ]
  },
  {
   "cell_type": "markdown",
   "id": "40b3a389",
   "metadata": {},
   "source": [
    "# Categorizing the data (binning)"
   ]
  },
  {
   "cell_type": "code",
   "execution_count": 120,
   "id": "00a24209",
   "metadata": {},
   "outputs": [
    {
     "data": {
      "text/plain": [
       "Index(['preg', 'glu', 'bp', 'sft', 'ins', 'bmi', 'age', 'outcome'], dtype='object')"
      ]
     },
     "execution_count": 120,
     "metadata": {},
     "output_type": "execute_result"
    }
   ],
   "source": [
    "df.columns"
   ]
  },
  {
   "cell_type": "code",
   "execution_count": 121,
   "id": "0db753d3",
   "metadata": {},
   "outputs": [
    {
     "data": {
      "text/plain": [
       "1     120\n",
       "0      92\n",
       "2      90\n",
       "3      68\n",
       "4      61\n",
       "5      50\n",
       "6      45\n",
       "7      38\n",
       "8      31\n",
       "9      25\n",
       "10     22\n",
       "11     10\n",
       "12      9\n",
       "13      8\n",
       "Name: preg, dtype: int64"
      ]
     },
     "execution_count": 121,
     "metadata": {},
     "output_type": "execute_result"
    }
   ],
   "source": [
    "df['preg'].value_counts()"
   ]
  },
  {
   "cell_type": "code",
   "execution_count": 122,
   "id": "8c09523a",
   "metadata": {},
   "outputs": [],
   "source": [
    "#Dividing 'preg' into 3 groups i.e 0 - 5, 5 - 10, and 10 - 15\n",
    "\n",
    "def preg_cat(x):\n",
    "    if x >= 0 and x <= 5:\n",
    "        return '0 - 5'\n",
    "    elif x >= 6 and x <= 10:\n",
    "        return '5 - 10'\n",
    "    else:\n",
    "        return '10 - 15'"
   ]
  },
  {
   "cell_type": "code",
   "execution_count": 123,
   "id": "75aecd33",
   "metadata": {},
   "outputs": [],
   "source": [
    "df['preg'] = df['preg'].apply(preg_cat)"
   ]
  },
  {
   "cell_type": "code",
   "execution_count": 124,
   "id": "b404aa11",
   "metadata": {},
   "outputs": [
    {
     "data": {
      "text/plain": [
       "0 - 5      481\n",
       "5 - 10     161\n",
       "10 - 15     27\n",
       "Name: preg, dtype: int64"
      ]
     },
     "execution_count": 124,
     "metadata": {},
     "output_type": "execute_result"
    }
   ],
   "source": [
    "df['preg'].value_counts()"
   ]
  },
  {
   "cell_type": "code",
   "execution_count": 125,
   "id": "c6d12963",
   "metadata": {},
   "outputs": [
    {
     "data": {
      "text/plain": [
       "100    15\n",
       "99     15\n",
       "106    14\n",
       "111    14\n",
       "108    13\n",
       "       ..\n",
       "65      1\n",
       "62      1\n",
       "61      1\n",
       "57      1\n",
       "199     1\n",
       "Name: glu, Length: 133, dtype: int64"
      ]
     },
     "execution_count": 125,
     "metadata": {},
     "output_type": "execute_result"
    }
   ],
   "source": [
    "df['glu'].value_counts()"
   ]
  },
  {
   "cell_type": "code",
   "execution_count": 126,
   "id": "5b374717",
   "metadata": {},
   "outputs": [
    {
     "data": {
      "text/plain": [
       "count    669.000000\n",
       "mean     119.762332\n",
       "std       29.622708\n",
       "min       44.000000\n",
       "25%       99.000000\n",
       "50%      114.000000\n",
       "75%      138.000000\n",
       "max      199.000000\n",
       "Name: glu, dtype: float64"
      ]
     },
     "execution_count": 126,
     "metadata": {},
     "output_type": "execute_result"
    }
   ],
   "source": [
    "df['glu'].describe()"
   ]
  },
  {
   "cell_type": "code",
   "execution_count": 127,
   "id": "cf7b8f18",
   "metadata": {},
   "outputs": [
    {
     "data": {
      "text/plain": [
       "array([148,  85, 183,  89, 137, 116,  78, 110, 168, 139, 166, 118, 107,\n",
       "       115, 126,  99, 196, 119, 143, 125, 147,  97, 145, 117, 109, 158,\n",
       "        88,  92, 122, 103, 138, 102,  90, 111, 180, 133, 106, 159, 146,\n",
       "        71, 101, 176,  73, 187, 100, 105,  44, 141, 114,  95, 129,  79,\n",
       "        62, 112, 113,  83,  80, 123,  81, 134, 142, 144,  93, 163, 151,\n",
       "       171,  76, 160, 124, 120, 173, 170,  84,  96, 128, 108, 154,  57,\n",
       "       136, 156, 188, 131, 104,  75, 179, 130,  87, 194, 162, 184, 140,\n",
       "        74, 181, 164,  91,  86, 155, 191, 161,  77, 150, 182, 152, 157,\n",
       "       165, 178,  61, 189,  98, 127,  82, 193,  72, 197,  94, 135, 132,\n",
       "       195,  68, 186, 198, 121,  67, 174, 167, 199,  56, 169, 149, 175,\n",
       "        65, 153, 190], dtype=int64)"
      ]
     },
     "execution_count": 127,
     "metadata": {},
     "output_type": "execute_result"
    }
   ],
   "source": [
    "df['glu'].unique()"
   ]
  },
  {
   "cell_type": "code",
   "execution_count": 128,
   "id": "c761dc9a",
   "metadata": {},
   "outputs": [],
   "source": [
    "# Dividing 'glu' into 4 categories based on glucose levels\n",
    "\n",
    "def glu_cat(x):\n",
    "    if x >= 40 and x <= 90:\n",
    "        return 'Low'\n",
    "    elif x >= 90 and x <= 120:\n",
    "        return 'Normal'\n",
    "    elif x >= 120 and x <= 160:\n",
    "        return 'Medium to high'\n",
    "    else:\n",
    "        return 'High'"
   ]
  },
  {
   "cell_type": "code",
   "execution_count": 129,
   "id": "9581d656",
   "metadata": {},
   "outputs": [],
   "source": [
    "df['glu'] = df['glu'].apply(glu_cat)"
   ]
  },
  {
   "cell_type": "code",
   "execution_count": 130,
   "id": "e6f97b1a",
   "metadata": {},
   "outputs": [
    {
     "data": {
      "text/plain": [
       "Normal            280\n",
       "Medium to high    210\n",
       "Low               101\n",
       "High               78\n",
       "Name: glu, dtype: int64"
      ]
     },
     "execution_count": 130,
     "metadata": {},
     "output_type": "execute_result"
    }
   ],
   "source": [
    "df['glu'].value_counts()"
   ]
  },
  {
   "cell_type": "code",
   "execution_count": 131,
   "id": "ad8252c4",
   "metadata": {},
   "outputs": [
    {
     "data": {
      "text/plain": [
       "70     51\n",
       "74     49\n",
       "72     43\n",
       "78     42\n",
       "68     41\n",
       "64     40\n",
       "76     37\n",
       "80     36\n",
       "60     34\n",
       "62     31\n",
       "66     29\n",
       "82     25\n",
       "88     23\n",
       "86     21\n",
       "84     21\n",
       "58     21\n",
       "90     19\n",
       "56     12\n",
       "50     11\n",
       "54     11\n",
       "52     10\n",
       "92      8\n",
       "75      7\n",
       "65      7\n",
       "94      6\n",
       "85      6\n",
       "48      4\n",
       "44      4\n",
       "96      3\n",
       "106     3\n",
       "55      2\n",
       "98      2\n",
       "100     2\n",
       "104     2\n",
       "40      1\n",
       "61      1\n",
       "95      1\n",
       "46      1\n",
       "102     1\n",
       "38      1\n",
       "Name: bp, dtype: int64"
      ]
     },
     "execution_count": 131,
     "metadata": {},
     "output_type": "execute_result"
    }
   ],
   "source": [
    "df['bp'].value_counts()"
   ]
  },
  {
   "cell_type": "code",
   "execution_count": 132,
   "id": "f7d225ff",
   "metadata": {},
   "outputs": [
    {
     "data": {
      "text/plain": [
       "count    669.000000\n",
       "mean      72.125561\n",
       "std       11.407363\n",
       "min       38.000000\n",
       "25%       64.000000\n",
       "50%       72.000000\n",
       "75%       80.000000\n",
       "max      106.000000\n",
       "Name: bp, dtype: float64"
      ]
     },
     "execution_count": 132,
     "metadata": {},
     "output_type": "execute_result"
    }
   ],
   "source": [
    "df.bp.describe()"
   ]
  },
  {
   "cell_type": "code",
   "execution_count": 133,
   "id": "1fd545e1",
   "metadata": {},
   "outputs": [],
   "source": [
    "# Dividing 'bp' into 3 categories based on diastolic pressure\n",
    "\n",
    "def bp_cat(x):\n",
    "    if x >= 30 and x <= 80:\n",
    "        return 'Normal'\n",
    "    elif x >= 80 and x <= 89:\n",
    "        return 'Medium to high'\n",
    "    else:\n",
    "        return 'High'"
   ]
  },
  {
   "cell_type": "code",
   "execution_count": 134,
   "id": "17e2c855",
   "metadata": {},
   "outputs": [],
   "source": [
    "df['bp'] = df['bp'].apply(bp_cat)"
   ]
  },
  {
   "cell_type": "code",
   "execution_count": 135,
   "id": "ac5faff2",
   "metadata": {},
   "outputs": [
    {
     "data": {
      "text/plain": [
       "Normal            526\n",
       "Medium to high     96\n",
       "High               47\n",
       "Name: bp, dtype: int64"
      ]
     },
     "execution_count": 135,
     "metadata": {},
     "output_type": "execute_result"
    }
   ],
   "source": [
    "df['bp'].value_counts()"
   ]
  },
  {
   "cell_type": "code",
   "execution_count": 136,
   "id": "6ec5a6f9",
   "metadata": {},
   "outputs": [
    {
     "data": {
      "text/plain": [
       "0     183\n",
       "32     29\n",
       "30     25\n",
       "27     22\n",
       "28     20\n",
       "18     19\n",
       "31     18\n",
       "23     18\n",
       "39     17\n",
       "19     17\n",
       "40     16\n",
       "22     16\n",
       "29     16\n",
       "25     15\n",
       "33     15\n",
       "26     15\n",
       "17     14\n",
       "37     14\n",
       "15     14\n",
       "36     13\n",
       "41     12\n",
       "35     12\n",
       "20     11\n",
       "13     10\n",
       "21      9\n",
       "24      9\n",
       "34      8\n",
       "42      8\n",
       "12      7\n",
       "46      7\n",
       "11      6\n",
       "43      6\n",
       "45      5\n",
       "10      5\n",
       "38      5\n",
       "16      5\n",
       "14      5\n",
       "47      4\n",
       "50      3\n",
       "48      3\n",
       "54      2\n",
       "52      2\n",
       "8       2\n",
       "49      2\n",
       "44      2\n",
       "7       2\n",
       "60      1\n",
       "Name: sft, dtype: int64"
      ]
     },
     "execution_count": 136,
     "metadata": {},
     "output_type": "execute_result"
    }
   ],
   "source": [
    "df['sft'].value_counts()"
   ]
  },
  {
   "cell_type": "code",
   "execution_count": 137,
   "id": "f0c6356e",
   "metadata": {},
   "outputs": [
    {
     "data": {
      "text/plain": [
       "count    669.000000\n",
       "mean      20.735426\n",
       "std       15.247959\n",
       "min        0.000000\n",
       "25%        0.000000\n",
       "50%       23.000000\n",
       "75%       32.000000\n",
       "max       60.000000\n",
       "Name: sft, dtype: float64"
      ]
     },
     "execution_count": 137,
     "metadata": {},
     "output_type": "execute_result"
    }
   ],
   "source": [
    "df['sft'].describe()"
   ]
  },
  {
   "cell_type": "code",
   "execution_count": 138,
   "id": "78cfb9f7",
   "metadata": {},
   "outputs": [],
   "source": [
    "# Dividing 'sft' (solitary fibrous tumour) into 2 categories \n",
    "\n",
    "def sft_cat(x):\n",
    "    if x >= 0 and x <= 30:\n",
    "        return 'Safe'\n",
    "    else:\n",
    "        return 'Not safe'"
   ]
  },
  {
   "cell_type": "code",
   "execution_count": 139,
   "id": "2fc32132",
   "metadata": {},
   "outputs": [],
   "source": [
    "df['sft'] = df['sft'].apply(sft_cat)"
   ]
  },
  {
   "cell_type": "code",
   "execution_count": 140,
   "id": "96c293d0",
   "metadata": {},
   "outputs": [
    {
     "data": {
      "text/plain": [
       "Safe        465\n",
       "Not safe    204\n",
       "Name: sft, dtype: int64"
      ]
     },
     "execution_count": 140,
     "metadata": {},
     "output_type": "execute_result"
    }
   ],
   "source": [
    "df['sft'].value_counts()"
   ]
  },
  {
   "cell_type": "code",
   "execution_count": 141,
   "id": "0958e249",
   "metadata": {},
   "outputs": [
    {
     "data": {
      "text/plain": [
       "0      317\n",
       "105     11\n",
       "140      9\n",
       "130      8\n",
       "120      8\n",
       "      ... \n",
       "112      1\n",
       "108      1\n",
       "99       1\n",
       "91       1\n",
       "330      1\n",
       "Name: ins, Length: 156, dtype: int64"
      ]
     },
     "execution_count": 141,
     "metadata": {},
     "output_type": "execute_result"
    }
   ],
   "source": [
    "df['ins'].value_counts()"
   ]
  },
  {
   "cell_type": "code",
   "execution_count": 142,
   "id": "5d52cdba",
   "metadata": {},
   "outputs": [
    {
     "data": {
      "text/plain": [
       "count    669.000000\n",
       "mean      69.204783\n",
       "std       83.890228\n",
       "min        0.000000\n",
       "25%        0.000000\n",
       "50%       42.000000\n",
       "75%      125.000000\n",
       "max      330.000000\n",
       "Name: ins, dtype: float64"
      ]
     },
     "execution_count": 142,
     "metadata": {},
     "output_type": "execute_result"
    }
   ],
   "source": [
    "df['ins'].describe()"
   ]
  },
  {
   "cell_type": "code",
   "execution_count": 143,
   "id": "897bff05",
   "metadata": {},
   "outputs": [],
   "source": [
    "# Dividing 'ins' (insulin secretion) into 3 categories based on insulin level in blood\n",
    "\n",
    "def ins_cat(x):\n",
    "    if x <= 100:\n",
    "        return 'Normal'\n",
    "    elif x > 100 and x <= 125:\n",
    "        return 'Medium'\n",
    "    else:\n",
    "        return 'High'"
   ]
  },
  {
   "cell_type": "code",
   "execution_count": 144,
   "id": "4bef2889",
   "metadata": {},
   "outputs": [],
   "source": [
    "df['ins'] = df['ins'].apply(ins_cat)"
   ]
  },
  {
   "cell_type": "code",
   "execution_count": 145,
   "id": "8a208482",
   "metadata": {},
   "outputs": [
    {
     "data": {
      "text/plain": [
       "Normal    460\n",
       "High      164\n",
       "Medium     45\n",
       "Name: ins, dtype: int64"
      ]
     },
     "execution_count": 145,
     "metadata": {},
     "output_type": "execute_result"
    }
   ],
   "source": [
    "df['ins'].value_counts()"
   ]
  },
  {
   "cell_type": "code",
   "execution_count": 146,
   "id": "447f95d7",
   "metadata": {},
   "outputs": [
    {
     "data": {
      "text/plain": [
       "32.0    12\n",
       "31.6    12\n",
       "31.2    11\n",
       "33.3    10\n",
       "32.8     9\n",
       "        ..\n",
       "24.9     1\n",
       "46.3     1\n",
       "40.9     1\n",
       "45.7     1\n",
       "48.3     1\n",
       "Name: bmi, Length: 230, dtype: int64"
      ]
     },
     "execution_count": 146,
     "metadata": {},
     "output_type": "execute_result"
    }
   ],
   "source": [
    "df['bmi'].value_counts()"
   ]
  },
  {
   "cell_type": "code",
   "execution_count": 147,
   "id": "c92fe300",
   "metadata": {},
   "outputs": [
    {
     "data": {
      "text/plain": [
       "count    669.000000\n",
       "mean      32.010762\n",
       "std        6.372051\n",
       "min       18.200000\n",
       "25%       27.300000\n",
       "50%       32.000000\n",
       "75%       36.100000\n",
       "max       49.600000\n",
       "Name: bmi, dtype: float64"
      ]
     },
     "execution_count": 147,
     "metadata": {},
     "output_type": "execute_result"
    }
   ],
   "source": [
    "df['bmi'].describe()"
   ]
  },
  {
   "cell_type": "code",
   "execution_count": 148,
   "id": "72f55188",
   "metadata": {},
   "outputs": [],
   "source": [
    "def bmi_cat(x):\n",
    "    if x <= 19:\n",
    "        return 'Underweight'\n",
    "    elif x > 19 and x <= 25:\n",
    "        return 'Normal'\n",
    "    elif x > 25 and x <= 30:\n",
    "        return 'Overweight'\n",
    "    else:\n",
    "        return 'Obese'"
   ]
  },
  {
   "cell_type": "code",
   "execution_count": 149,
   "id": "afe90dfa",
   "metadata": {},
   "outputs": [],
   "source": [
    "df['bmi'] = df['bmi'].apply(bmi_cat)"
   ]
  },
  {
   "cell_type": "code",
   "execution_count": 150,
   "id": "f5456022",
   "metadata": {},
   "outputs": [
    {
     "data": {
      "text/plain": [
       "Obese          405\n",
       "Overweight     162\n",
       "Normal          98\n",
       "Underweight      4\n",
       "Name: bmi, dtype: int64"
      ]
     },
     "execution_count": 150,
     "metadata": {},
     "output_type": "execute_result"
    }
   ],
   "source": [
    "df['bmi'].value_counts()"
   ]
  },
  {
   "cell_type": "code",
   "execution_count": 151,
   "id": "e7419dce",
   "metadata": {},
   "outputs": [
    {
     "data": {
      "text/plain": [
       "22    64\n",
       "21    55\n",
       "24    42\n",
       "25    40\n",
       "23    33\n",
       "28    31\n",
       "27    30\n",
       "26    28\n",
       "29    26\n",
       "31    19\n",
       "41    19\n",
       "30    18\n",
       "42    17\n",
       "33    16\n",
       "32    15\n",
       "45    15\n",
       "37    15\n",
       "36    14\n",
       "38    14\n",
       "39    12\n",
       "40    12\n",
       "43    11\n",
       "34    11\n",
       "35    10\n",
       "46    10\n",
       "51     8\n",
       "50     8\n",
       "58     7\n",
       "52     7\n",
       "57     5\n",
       "44     5\n",
       "49     5\n",
       "48     5\n",
       "47     5\n",
       "53     4\n",
       "54     4\n",
       "55     4\n",
       "60     4\n",
       "63     4\n",
       "66     4\n",
       "56     3\n",
       "62     3\n",
       "59     2\n",
       "61     2\n",
       "65     2\n",
       "64     1\n",
       "Name: age, dtype: int64"
      ]
     },
     "execution_count": 151,
     "metadata": {},
     "output_type": "execute_result"
    }
   ],
   "source": [
    "df['age'].value_counts()"
   ]
  },
  {
   "cell_type": "code",
   "execution_count": 152,
   "id": "09fc967f",
   "metadata": {},
   "outputs": [
    {
     "data": {
      "text/plain": [
       "count    669.000000\n",
       "mean      32.863976\n",
       "std       11.148603\n",
       "min       21.000000\n",
       "25%       24.000000\n",
       "50%       29.000000\n",
       "75%       40.000000\n",
       "max       66.000000\n",
       "Name: age, dtype: float64"
      ]
     },
     "execution_count": 152,
     "metadata": {},
     "output_type": "execute_result"
    }
   ],
   "source": [
    "df['age'].describe()"
   ]
  },
  {
   "cell_type": "code",
   "execution_count": 153,
   "id": "3706c363",
   "metadata": {},
   "outputs": [],
   "source": [
    "# Dividing 'age' into 4 categories \n",
    "\n",
    "def age_cat(x):\n",
    "    if x <= 15:\n",
    "        return 'Child'\n",
    "    elif x > 15 and x <= 24:\n",
    "        return 'Youth'\n",
    "    elif x > 24 and x <= 64:\n",
    "        return 'Adult'\n",
    "    else:\n",
    "        return 'Senior'"
   ]
  },
  {
   "cell_type": "code",
   "execution_count": 154,
   "id": "cb19818a",
   "metadata": {},
   "outputs": [],
   "source": [
    "df['age'] = df['age'].apply(age_cat)"
   ]
  },
  {
   "cell_type": "code",
   "execution_count": 155,
   "id": "b43a85da",
   "metadata": {},
   "outputs": [
    {
     "data": {
      "text/plain": [
       "Adult     469\n",
       "Youth     194\n",
       "Senior      6\n",
       "Name: age, dtype: int64"
      ]
     },
     "execution_count": 155,
     "metadata": {},
     "output_type": "execute_result"
    }
   ],
   "source": [
    "df['age'].value_counts()"
   ]
  },
  {
   "cell_type": "code",
   "execution_count": 156,
   "id": "ed276a74",
   "metadata": {},
   "outputs": [
    {
     "data": {
      "text/html": [
       "<div>\n",
       "<style scoped>\n",
       "    .dataframe tbody tr th:only-of-type {\n",
       "        vertical-align: middle;\n",
       "    }\n",
       "\n",
       "    .dataframe tbody tr th {\n",
       "        vertical-align: top;\n",
       "    }\n",
       "\n",
       "    .dataframe thead th {\n",
       "        text-align: right;\n",
       "    }\n",
       "</style>\n",
       "<table border=\"1\" class=\"dataframe\">\n",
       "  <thead>\n",
       "    <tr style=\"text-align: right;\">\n",
       "      <th></th>\n",
       "      <th>preg</th>\n",
       "      <th>glu</th>\n",
       "      <th>bp</th>\n",
       "      <th>sft</th>\n",
       "      <th>ins</th>\n",
       "      <th>bmi</th>\n",
       "      <th>age</th>\n",
       "      <th>outcome</th>\n",
       "    </tr>\n",
       "  </thead>\n",
       "  <tbody>\n",
       "    <tr>\n",
       "      <th>0</th>\n",
       "      <td>5 - 10</td>\n",
       "      <td>Medium to high</td>\n",
       "      <td>Normal</td>\n",
       "      <td>Not safe</td>\n",
       "      <td>Normal</td>\n",
       "      <td>Obese</td>\n",
       "      <td>Adult</td>\n",
       "      <td>1</td>\n",
       "    </tr>\n",
       "    <tr>\n",
       "      <th>1</th>\n",
       "      <td>0 - 5</td>\n",
       "      <td>Low</td>\n",
       "      <td>Normal</td>\n",
       "      <td>Safe</td>\n",
       "      <td>Normal</td>\n",
       "      <td>Overweight</td>\n",
       "      <td>Adult</td>\n",
       "      <td>0</td>\n",
       "    </tr>\n",
       "    <tr>\n",
       "      <th>2</th>\n",
       "      <td>5 - 10</td>\n",
       "      <td>High</td>\n",
       "      <td>Normal</td>\n",
       "      <td>Safe</td>\n",
       "      <td>Normal</td>\n",
       "      <td>Normal</td>\n",
       "      <td>Adult</td>\n",
       "      <td>1</td>\n",
       "    </tr>\n",
       "    <tr>\n",
       "      <th>3</th>\n",
       "      <td>0 - 5</td>\n",
       "      <td>Low</td>\n",
       "      <td>Normal</td>\n",
       "      <td>Safe</td>\n",
       "      <td>Normal</td>\n",
       "      <td>Overweight</td>\n",
       "      <td>Youth</td>\n",
       "      <td>0</td>\n",
       "    </tr>\n",
       "    <tr>\n",
       "      <th>4</th>\n",
       "      <td>0 - 5</td>\n",
       "      <td>Medium to high</td>\n",
       "      <td>Normal</td>\n",
       "      <td>Not safe</td>\n",
       "      <td>High</td>\n",
       "      <td>Obese</td>\n",
       "      <td>Adult</td>\n",
       "      <td>1</td>\n",
       "    </tr>\n",
       "  </tbody>\n",
       "</table>\n",
       "</div>"
      ],
      "text/plain": [
       "     preg             glu      bp       sft     ins         bmi    age  \\\n",
       "0  5 - 10  Medium to high  Normal  Not safe  Normal       Obese  Adult   \n",
       "1   0 - 5             Low  Normal      Safe  Normal  Overweight  Adult   \n",
       "2  5 - 10            High  Normal      Safe  Normal      Normal  Adult   \n",
       "3   0 - 5             Low  Normal      Safe  Normal  Overweight  Youth   \n",
       "4   0 - 5  Medium to high  Normal  Not safe    High       Obese  Adult   \n",
       "\n",
       "   outcome  \n",
       "0        1  \n",
       "1        0  \n",
       "2        1  \n",
       "3        0  \n",
       "4        1  "
      ]
     },
     "execution_count": 156,
     "metadata": {},
     "output_type": "execute_result"
    }
   ],
   "source": [
    "df.head()"
   ]
  },
  {
   "cell_type": "markdown",
   "id": "f50fda0e",
   "metadata": {},
   "source": [
    "# Encoding the data"
   ]
  },
  {
   "cell_type": "code",
   "execution_count": 157,
   "id": "03642581",
   "metadata": {},
   "outputs": [],
   "source": [
    "from sklearn.preprocessing import LabelEncoder\n",
    "le = LabelEncoder()\n",
    "\n",
    "df['preg_new'] = le.fit_transform(df['preg'])\n",
    "df['glu_new'] = le.fit_transform(df['glu'])\n",
    "df['bp_new'] = le.fit_transform(df['bp'])\n",
    "df['sft_new'] = le.fit_transform(df['sft'])\n",
    "df['ins_new'] = le.fit_transform(df['ins'])\n",
    "df['bmi_new'] = le.fit_transform(df['bmi'])\n",
    "df['age_new'] = le.fit_transform(df['age'])\n",
    "\n",
    "df['outcome'] = df['outcome'].replace({0:'Healthy', 1:'Diabetic'})\n",
    "df['outcome'] = df.outcome.astype('category')"
   ]
  },
  {
   "cell_type": "code",
   "execution_count": 158,
   "id": "379fc00a",
   "metadata": {},
   "outputs": [
    {
     "data": {
      "text/html": [
       "<div>\n",
       "<style scoped>\n",
       "    .dataframe tbody tr th:only-of-type {\n",
       "        vertical-align: middle;\n",
       "    }\n",
       "\n",
       "    .dataframe tbody tr th {\n",
       "        vertical-align: top;\n",
       "    }\n",
       "\n",
       "    .dataframe thead th {\n",
       "        text-align: right;\n",
       "    }\n",
       "</style>\n",
       "<table border=\"1\" class=\"dataframe\">\n",
       "  <thead>\n",
       "    <tr style=\"text-align: right;\">\n",
       "      <th></th>\n",
       "      <th>preg</th>\n",
       "      <th>glu</th>\n",
       "      <th>bp</th>\n",
       "      <th>sft</th>\n",
       "      <th>ins</th>\n",
       "      <th>bmi</th>\n",
       "      <th>age</th>\n",
       "      <th>outcome</th>\n",
       "      <th>preg_new</th>\n",
       "      <th>glu_new</th>\n",
       "      <th>bp_new</th>\n",
       "      <th>sft_new</th>\n",
       "      <th>ins_new</th>\n",
       "      <th>bmi_new</th>\n",
       "      <th>age_new</th>\n",
       "    </tr>\n",
       "  </thead>\n",
       "  <tbody>\n",
       "    <tr>\n",
       "      <th>0</th>\n",
       "      <td>5 - 10</td>\n",
       "      <td>Medium to high</td>\n",
       "      <td>Normal</td>\n",
       "      <td>Not safe</td>\n",
       "      <td>Normal</td>\n",
       "      <td>Obese</td>\n",
       "      <td>Adult</td>\n",
       "      <td>Diabetic</td>\n",
       "      <td>2</td>\n",
       "      <td>2</td>\n",
       "      <td>2</td>\n",
       "      <td>0</td>\n",
       "      <td>2</td>\n",
       "      <td>1</td>\n",
       "      <td>0</td>\n",
       "    </tr>\n",
       "    <tr>\n",
       "      <th>1</th>\n",
       "      <td>0 - 5</td>\n",
       "      <td>Low</td>\n",
       "      <td>Normal</td>\n",
       "      <td>Safe</td>\n",
       "      <td>Normal</td>\n",
       "      <td>Overweight</td>\n",
       "      <td>Adult</td>\n",
       "      <td>Healthy</td>\n",
       "      <td>0</td>\n",
       "      <td>1</td>\n",
       "      <td>2</td>\n",
       "      <td>1</td>\n",
       "      <td>2</td>\n",
       "      <td>2</td>\n",
       "      <td>0</td>\n",
       "    </tr>\n",
       "    <tr>\n",
       "      <th>2</th>\n",
       "      <td>5 - 10</td>\n",
       "      <td>High</td>\n",
       "      <td>Normal</td>\n",
       "      <td>Safe</td>\n",
       "      <td>Normal</td>\n",
       "      <td>Normal</td>\n",
       "      <td>Adult</td>\n",
       "      <td>Diabetic</td>\n",
       "      <td>2</td>\n",
       "      <td>0</td>\n",
       "      <td>2</td>\n",
       "      <td>1</td>\n",
       "      <td>2</td>\n",
       "      <td>0</td>\n",
       "      <td>0</td>\n",
       "    </tr>\n",
       "    <tr>\n",
       "      <th>3</th>\n",
       "      <td>0 - 5</td>\n",
       "      <td>Low</td>\n",
       "      <td>Normal</td>\n",
       "      <td>Safe</td>\n",
       "      <td>Normal</td>\n",
       "      <td>Overweight</td>\n",
       "      <td>Youth</td>\n",
       "      <td>Healthy</td>\n",
       "      <td>0</td>\n",
       "      <td>1</td>\n",
       "      <td>2</td>\n",
       "      <td>1</td>\n",
       "      <td>2</td>\n",
       "      <td>2</td>\n",
       "      <td>2</td>\n",
       "    </tr>\n",
       "    <tr>\n",
       "      <th>4</th>\n",
       "      <td>0 - 5</td>\n",
       "      <td>Medium to high</td>\n",
       "      <td>Normal</td>\n",
       "      <td>Not safe</td>\n",
       "      <td>High</td>\n",
       "      <td>Obese</td>\n",
       "      <td>Adult</td>\n",
       "      <td>Diabetic</td>\n",
       "      <td>0</td>\n",
       "      <td>2</td>\n",
       "      <td>2</td>\n",
       "      <td>0</td>\n",
       "      <td>0</td>\n",
       "      <td>1</td>\n",
       "      <td>0</td>\n",
       "    </tr>\n",
       "  </tbody>\n",
       "</table>\n",
       "</div>"
      ],
      "text/plain": [
       "     preg             glu      bp       sft     ins         bmi    age  \\\n",
       "0  5 - 10  Medium to high  Normal  Not safe  Normal       Obese  Adult   \n",
       "1   0 - 5             Low  Normal      Safe  Normal  Overweight  Adult   \n",
       "2  5 - 10            High  Normal      Safe  Normal      Normal  Adult   \n",
       "3   0 - 5             Low  Normal      Safe  Normal  Overweight  Youth   \n",
       "4   0 - 5  Medium to high  Normal  Not safe    High       Obese  Adult   \n",
       "\n",
       "    outcome  preg_new  glu_new  bp_new  sft_new  ins_new  bmi_new  age_new  \n",
       "0  Diabetic         2        2       2        0        2        1        0  \n",
       "1   Healthy         0        1       2        1        2        2        0  \n",
       "2  Diabetic         2        0       2        1        2        0        0  \n",
       "3   Healthy         0        1       2        1        2        2        2  \n",
       "4  Diabetic         0        2       2        0        0        1        0  "
      ]
     },
     "execution_count": 158,
     "metadata": {},
     "output_type": "execute_result"
    }
   ],
   "source": [
    "df.head()"
   ]
  },
  {
   "cell_type": "markdown",
   "id": "84f06ee7",
   "metadata": {},
   "source": [
    "# Using the data in the model"
   ]
  },
  {
   "cell_type": "code",
   "execution_count": 238,
   "id": "74b61b02",
   "metadata": {},
   "outputs": [
    {
     "name": "stdout",
     "output_type": "stream",
     "text": [
      "Accuracy: 76%\n"
     ]
    }
   ],
   "source": [
    "from sklearn.model_selection import train_test_split\n",
    "from sklearn import metrics\n",
    "from sklearn.tree import DecisionTreeClassifier\n",
    "from sklearn.metrics import roc_curve, auc\n",
    "\n",
    "x = df[['preg_new', 'glu_new', 'bp_new', 'sft_new', 'ins_new', 'bmi_new', 'age_new']]\n",
    "y = df['outcome']\n",
    "\n",
    "x_train, x_test, y_train, y_test = train_test_split(x, y, train_size = 0.30, random_state = 1)\n",
    "\n",
    "X_train = np.array(x_train)\n",
    "X_test = np.array(x_test)\n",
    "Y_train = np.array(y_train)\n",
    "Y_test = np.array(y_test)\n",
    "\n",
    "mo = DecisionTreeClassifier(criterion = 'entropy', max_depth = 7, splitter = 'best', max_leaf_nodes = 2)\n",
    "mo.fit(X_train, Y_train)\n",
    "\n",
    "pred = mo.predict(X_test)\n",
    "\n",
    "acc = metrics.accuracy_score(Y_test, pred)\n",
    "print ('Accuracy: {}%'.format(round(acc * 100), 2))"
   ]
  },
  {
   "cell_type": "code",
   "execution_count": 239,
   "id": "303d7375",
   "metadata": {},
   "outputs": [
    {
     "name": "stdout",
     "output_type": "stream",
     "text": [
      "Confusion matrix:\n",
      "[[ 46 105]\n",
      " [  9 309]]\n"
     ]
    }
   ],
   "source": [
    "# Printing the confusion matrix\n",
    "\n",
    "from sklearn.metrics import confusion_matrix, classification_report\n",
    "\n",
    "print ('Confusion matrix:')\n",
    "print (metrics.confusion_matrix(Y_test, pred))"
   ]
  },
  {
   "cell_type": "code",
   "execution_count": 240,
   "id": "1ebf3430",
   "metadata": {},
   "outputs": [
    {
     "name": "stdout",
     "output_type": "stream",
     "text": [
      "Classification report:\n",
      "              precision    recall  f1-score   support\n",
      "\n",
      "    Diabetic       0.84      0.30      0.45       151\n",
      "     Healthy       0.75      0.97      0.84       318\n",
      "\n",
      "    accuracy                           0.76       469\n",
      "   macro avg       0.79      0.64      0.65       469\n",
      "weighted avg       0.78      0.76      0.72       469\n",
      "\n"
     ]
    }
   ],
   "source": [
    "# Printing the classification report\n",
    "\n",
    "print ('Classification report:')\n",
    "print (metrics.classification_report(Y_test, pred))"
   ]
  },
  {
   "cell_type": "code",
   "execution_count": null,
   "id": "2901d858",
   "metadata": {},
   "outputs": [],
   "source": []
  }
 ],
 "metadata": {
  "kernelspec": {
   "display_name": "Python 3",
   "language": "python",
   "name": "python3"
  },
  "language_info": {
   "codemirror_mode": {
    "name": "ipython",
    "version": 3
   },
   "file_extension": ".py",
   "mimetype": "text/x-python",
   "name": "python",
   "nbconvert_exporter": "python",
   "pygments_lexer": "ipython3",
   "version": "3.9.1"
  }
 },
 "nbformat": 4,
 "nbformat_minor": 5
}
