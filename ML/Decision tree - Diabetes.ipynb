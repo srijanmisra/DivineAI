{
 "cells": [
  {
   "cell_type": "code",
   "execution_count": 1,
   "id": "51643014",
   "metadata": {},
   "outputs": [],
   "source": [
    "import pandas as pd\n",
    "import numpy as np\n",
    "import plotly_express as px\n",
    "import seaborn as sns\n",
    "import matplotlib.pyplot as plt\n",
    "%matplotlib inline"
   ]
  },
  {
   "cell_type": "code",
   "execution_count": 2,
   "id": "c12abbad",
   "metadata": {},
   "outputs": [],
   "source": [
    "col_name = ['preg', 'glu', 'bp', 'sft', 'ins', 'bmi', 'dpf', 'age', 'outcome']\n",
    "df = pd.read_csv('pima-indians-diabetes-2.data', names = col_name)"
   ]
  },
  {
   "cell_type": "code",
   "execution_count": 3,
   "id": "f674fdf0",
   "metadata": {},
   "outputs": [
    {
     "data": {
      "text/plain": [
       "(768, 9)"
      ]
     },
     "execution_count": 3,
     "metadata": {},
     "output_type": "execute_result"
    }
   ],
   "source": [
    "df.shape"
   ]
  },
  {
   "cell_type": "code",
   "execution_count": 4,
   "id": "0376a30a",
   "metadata": {},
   "outputs": [
    {
     "data": {
      "text/html": [
       "<div>\n",
       "<style scoped>\n",
       "    .dataframe tbody tr th:only-of-type {\n",
       "        vertical-align: middle;\n",
       "    }\n",
       "\n",
       "    .dataframe tbody tr th {\n",
       "        vertical-align: top;\n",
       "    }\n",
       "\n",
       "    .dataframe thead th {\n",
       "        text-align: right;\n",
       "    }\n",
       "</style>\n",
       "<table border=\"1\" class=\"dataframe\">\n",
       "  <thead>\n",
       "    <tr style=\"text-align: right;\">\n",
       "      <th></th>\n",
       "      <th>preg</th>\n",
       "      <th>glu</th>\n",
       "      <th>bp</th>\n",
       "      <th>sft</th>\n",
       "      <th>ins</th>\n",
       "      <th>bmi</th>\n",
       "      <th>dpf</th>\n",
       "      <th>age</th>\n",
       "      <th>outcome</th>\n",
       "    </tr>\n",
       "  </thead>\n",
       "  <tbody>\n",
       "    <tr>\n",
       "      <th>0</th>\n",
       "      <td>6</td>\n",
       "      <td>148</td>\n",
       "      <td>72</td>\n",
       "      <td>35</td>\n",
       "      <td>0</td>\n",
       "      <td>33.6</td>\n",
       "      <td>0.627</td>\n",
       "      <td>50</td>\n",
       "      <td>1</td>\n",
       "    </tr>\n",
       "    <tr>\n",
       "      <th>1</th>\n",
       "      <td>1</td>\n",
       "      <td>85</td>\n",
       "      <td>66</td>\n",
       "      <td>29</td>\n",
       "      <td>0</td>\n",
       "      <td>26.6</td>\n",
       "      <td>0.351</td>\n",
       "      <td>31</td>\n",
       "      <td>0</td>\n",
       "    </tr>\n",
       "    <tr>\n",
       "      <th>2</th>\n",
       "      <td>8</td>\n",
       "      <td>183</td>\n",
       "      <td>64</td>\n",
       "      <td>0</td>\n",
       "      <td>0</td>\n",
       "      <td>23.3</td>\n",
       "      <td>0.672</td>\n",
       "      <td>32</td>\n",
       "      <td>1</td>\n",
       "    </tr>\n",
       "    <tr>\n",
       "      <th>3</th>\n",
       "      <td>1</td>\n",
       "      <td>89</td>\n",
       "      <td>66</td>\n",
       "      <td>23</td>\n",
       "      <td>94</td>\n",
       "      <td>28.1</td>\n",
       "      <td>0.167</td>\n",
       "      <td>21</td>\n",
       "      <td>0</td>\n",
       "    </tr>\n",
       "    <tr>\n",
       "      <th>4</th>\n",
       "      <td>0</td>\n",
       "      <td>137</td>\n",
       "      <td>40</td>\n",
       "      <td>35</td>\n",
       "      <td>168</td>\n",
       "      <td>43.1</td>\n",
       "      <td>2.288</td>\n",
       "      <td>33</td>\n",
       "      <td>1</td>\n",
       "    </tr>\n",
       "  </tbody>\n",
       "</table>\n",
       "</div>"
      ],
      "text/plain": [
       "   preg  glu  bp  sft  ins   bmi    dpf  age  outcome\n",
       "0     6  148  72   35    0  33.6  0.627   50        1\n",
       "1     1   85  66   29    0  26.6  0.351   31        0\n",
       "2     8  183  64    0    0  23.3  0.672   32        1\n",
       "3     1   89  66   23   94  28.1  0.167   21        0\n",
       "4     0  137  40   35  168  43.1  2.288   33        1"
      ]
     },
     "execution_count": 4,
     "metadata": {},
     "output_type": "execute_result"
    }
   ],
   "source": [
    "df.head()"
   ]
  },
  {
   "cell_type": "code",
   "execution_count": 5,
   "id": "956c4378",
   "metadata": {},
   "outputs": [
    {
     "data": {
      "text/plain": [
       "0    500\n",
       "1    268\n",
       "Name: outcome, dtype: int64"
      ]
     },
     "execution_count": 5,
     "metadata": {},
     "output_type": "execute_result"
    }
   ],
   "source": [
    "df['outcome'].value_counts()"
   ]
  },
  {
   "cell_type": "code",
   "execution_count": 6,
   "id": "3e3744f1",
   "metadata": {},
   "outputs": [],
   "source": [
    "# Replacing 0 as 'Healthy' and 1 as 'Diabetic'\n",
    "\n",
    "df['outcome'] = df['outcome'].replace({0:'Healthy', 1:'Diabetic'})"
   ]
  },
  {
   "cell_type": "code",
   "execution_count": 7,
   "id": "08195fd2",
   "metadata": {},
   "outputs": [],
   "source": [
    "# Converting 'outcome' to category type\n",
    "\n",
    "df['outcome'] = df.outcome.astype('category')"
   ]
  },
  {
   "cell_type": "code",
   "execution_count": 8,
   "id": "9ab42db9",
   "metadata": {},
   "outputs": [],
   "source": [
    "from sklearn.model_selection import train_test_split\n",
    "from sklearn import metrics\n",
    "from sklearn.tree import DecisionTreeClassifier\n",
    "from sklearn.metrics import roc_curve, auc"
   ]
  },
  {
   "cell_type": "code",
   "execution_count": 9,
   "id": "9c533d1a",
   "metadata": {},
   "outputs": [],
   "source": [
    "# Separating dependent and independent variables\n",
    "\n",
    "x = df[['preg', 'glu', 'bp', 'sft', 'ins', 'bmi', 'dpf', 'age']]\n",
    "y = df['outcome']"
   ]
  },
  {
   "cell_type": "code",
   "execution_count": 10,
   "id": "8dc015d9",
   "metadata": {},
   "outputs": [],
   "source": [
    "# Splitting the data for train and test\n",
    "\n",
    "x_train, x_test, y_train, y_test = train_test_split(x, y, train_size = 0.30, random_state = 1)"
   ]
  },
  {
   "cell_type": "code",
   "execution_count": 11,
   "id": "dca0ed9a",
   "metadata": {},
   "outputs": [],
   "source": [
    "# Converting x and y to array\n",
    "\n",
    "X_train = np.array(x_train)\n",
    "X_test = np.array(x_test)\n",
    "Y_train = np.array(y_train)\n",
    "Y_test = np.array(y_test)"
   ]
  },
  {
   "cell_type": "code",
   "execution_count": 12,
   "id": "a49ecf93",
   "metadata": {},
   "outputs": [
    {
     "data": {
      "text/plain": [
       "DecisionTreeClassifier(criterion='entropy')"
      ]
     },
     "execution_count": 12,
     "metadata": {},
     "output_type": "execute_result"
    }
   ],
   "source": [
    "# Training the model\n",
    "\n",
    "mo = DecisionTreeClassifier(criterion = 'entropy')\n",
    "mo.fit(X_train, Y_train)"
   ]
  },
  {
   "cell_type": "code",
   "execution_count": 13,
   "id": "704fb213",
   "metadata": {},
   "outputs": [],
   "source": [
    "# Prediction\n",
    "\n",
    "pred = mo.predict(X_test)"
   ]
  },
  {
   "cell_type": "code",
   "execution_count": 14,
   "id": "321f6948",
   "metadata": {},
   "outputs": [
    {
     "name": "stdout",
     "output_type": "stream",
     "text": [
      "Accuracy: 66.91449814126395\n"
     ]
    }
   ],
   "source": [
    "# Checking the accuracy\n",
    "\n",
    "acc = metrics.accuracy_score(Y_test, pred)\n",
    "print ('Accuracy:', acc * 100)"
   ]
  },
  {
   "cell_type": "code",
   "execution_count": 15,
   "id": "b2b9bb5d",
   "metadata": {},
   "outputs": [
    {
     "name": "stdout",
     "output_type": "stream",
     "text": [
      "              precision    recall  f1-score   support\n",
      "\n",
      "    Diabetic       0.52      0.49      0.50       184\n",
      "     Healthy       0.74      0.76      0.75       354\n",
      "\n",
      "    accuracy                           0.67       538\n",
      "   macro avg       0.63      0.63      0.63       538\n",
      "weighted avg       0.66      0.67      0.67       538\n",
      "\n"
     ]
    }
   ],
   "source": [
    "# Classification report\n",
    "\n",
    "print (metrics.classification_report(Y_test, pred))"
   ]
  },
  {
   "cell_type": "code",
   "execution_count": 16,
   "id": "b42af388",
   "metadata": {},
   "outputs": [
    {
     "name": "stdout",
     "output_type": "stream",
     "text": [
      "[[ 90  94]\n",
      " [ 84 270]]\n"
     ]
    }
   ],
   "source": [
    "# Confusion matrix\n",
    "\n",
    "print (metrics.confusion_matrix(Y_test, pred))"
   ]
  },
  {
   "cell_type": "code",
   "execution_count": 17,
   "id": "38fc1ca8",
   "metadata": {},
   "outputs": [
    {
     "name": "stdout",
     "output_type": "stream",
     "text": [
      "           Imp\n",
      "preg  0.021339\n",
      "glu   0.195956\n",
      "bp    0.072435\n",
      "sft   0.022428\n",
      "ins   0.033724\n",
      "bmi   0.244415\n",
      "dpf   0.090737\n",
      "age   0.318964\n"
     ]
    }
   ],
   "source": [
    "# Importance of columns for the outcome\n",
    "\n",
    "print (pd.DataFrame(mo.feature_importances_, columns = ['Imp'], index = x_train.columns))"
   ]
  },
  {
   "cell_type": "code",
   "execution_count": 18,
   "id": "198c172f",
   "metadata": {},
   "outputs": [
    {
     "data": {
      "text/plain": [
       "DecisionTreeClassifier(criterion='entropy', max_depth=5)"
      ]
     },
     "execution_count": 18,
     "metadata": {},
     "output_type": "execute_result"
    }
   ],
   "source": [
    "# Setting max_depth for the decision tree\n",
    "\n",
    "mo2 = DecisionTreeClassifier(criterion = 'entropy', max_depth = 5)\n",
    "mo2.fit(X_train, Y_train)"
   ]
  },
  {
   "cell_type": "code",
   "execution_count": 19,
   "id": "eb6302b3",
   "metadata": {},
   "outputs": [],
   "source": [
    "new_pred = mo2.predict(X_test)"
   ]
  },
  {
   "cell_type": "code",
   "execution_count": 21,
   "id": "a0b7dc1b",
   "metadata": {},
   "outputs": [
    {
     "name": "stdout",
     "output_type": "stream",
     "text": [
      "Accuracy: 70.26022304832715\n"
     ]
    }
   ],
   "source": [
    "# New accuracy\n",
    "\n",
    "new_acc = metrics.accuracy_score(Y_test, new_pred)\n",
    "print ('Accuracy:', new_acc * 100)"
   ]
  },
  {
   "cell_type": "markdown",
   "id": "e13f943c",
   "metadata": {},
   "source": [
    "Accuracy improved."
   ]
  },
  {
   "cell_type": "code",
   "execution_count": 22,
   "id": "647eec0f",
   "metadata": {},
   "outputs": [
    {
     "name": "stdout",
     "output_type": "stream",
     "text": [
      "[[109  75]\n",
      " [ 85 269]]\n"
     ]
    }
   ],
   "source": [
    "print(metrics.confusion_matrix(Y_test, new_pred))"
   ]
  },
  {
   "cell_type": "code",
   "execution_count": 23,
   "id": "ee18e2be",
   "metadata": {},
   "outputs": [
    {
     "name": "stdout",
     "output_type": "stream",
     "text": [
      "              precision    recall  f1-score   support\n",
      "\n",
      "    Diabetic       0.56      0.59      0.58       184\n",
      "     Healthy       0.78      0.76      0.77       354\n",
      "\n",
      "    accuracy                           0.70       538\n",
      "   macro avg       0.67      0.68      0.67       538\n",
      "weighted avg       0.71      0.70      0.70       538\n",
      "\n"
     ]
    }
   ],
   "source": [
    "print(metrics.classification_report(Y_test, new_pred))"
   ]
  },
  {
   "cell_type": "code",
   "execution_count": 25,
   "id": "a7180a0f",
   "metadata": {},
   "outputs": [],
   "source": [
    "# Exporting the tree diagram\n",
    "\n",
    "from IPython.display import Image\n",
    "from sklearn import tree\n",
    "from os import system\n",
    "\n",
    "tree_diag = open('decision_tree_diabetes.dot', 'w')\n",
    "dot = tree.export_graphviz(mo2, out_file = tree_diag, feature_names = list(x_train), class_names = list(y_train))\n",
    "tree_diag.close()"
   ]
  },
  {
   "cell_type": "code",
   "execution_count": 26,
   "id": "36925c31",
   "metadata": {},
   "outputs": [],
   "source": [
    "# To check flow diagram of the the decision tree\n",
    "# http://graphviz.it/"
   ]
  },
  {
   "cell_type": "code",
   "execution_count": null,
   "id": "e87cf14e",
   "metadata": {},
   "outputs": [],
   "source": []
  }
 ],
 "metadata": {
  "kernelspec": {
   "display_name": "Python 3",
   "language": "python",
   "name": "python3"
  },
  "language_info": {
   "codemirror_mode": {
    "name": "ipython",
    "version": 3
   },
   "file_extension": ".py",
   "mimetype": "text/x-python",
   "name": "python",
   "nbconvert_exporter": "python",
   "pygments_lexer": "ipython3",
   "version": "3.9.1"
  }
 },
 "nbformat": 4,
 "nbformat_minor": 5
}
