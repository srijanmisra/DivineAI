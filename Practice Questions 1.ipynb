{
 "cells": [
  {
   "cell_type": "markdown",
   "id": "domestic-boulder",
   "metadata": {},
   "source": [
    "# Python Program to Convert Kilometers to Miles"
   ]
  },
  {
   "cell_type": "code",
   "execution_count": 1,
   "id": "meaning-calvin",
   "metadata": {},
   "outputs": [
    {
     "name": "stdout",
     "output_type": "stream",
     "text": [
      "Enter distance in Kilometer:43\n",
      "Distance in Miles: 26.72467371037912\n"
     ]
    }
   ],
   "source": [
    "dist = int(input(\"Enter distance in Kilometer:\"))\n",
    "print (\"Distance in Miles:\", dist / 1.609)"
   ]
  },
  {
   "cell_type": "markdown",
   "id": "ranging-dakota",
   "metadata": {},
   "source": [
    "# Python Program to Convert Celsius To Fahrenheit"
   ]
  },
  {
   "cell_type": "code",
   "execution_count": 2,
   "id": "several-seminar",
   "metadata": {},
   "outputs": [
    {
     "name": "stdout",
     "output_type": "stream",
     "text": [
      "Enter temperature in Celsius:39\n",
      "Temperature in Fahrenheit: 102.2\n"
     ]
    }
   ],
   "source": [
    "cel = int(input(\"Enter temperature in Celsius:\"))\n",
    "print (\"Temperature in Fahrenheit:\", (cel * 1.8) + 32)"
   ]
  },
  {
   "cell_type": "markdown",
   "id": "human-gibraltar",
   "metadata": {},
   "source": [
    "# Python Program to Check if a Number is Positive, Negative or 0"
   ]
  },
  {
   "cell_type": "code",
   "execution_count": 3,
   "id": "underlying-worse",
   "metadata": {},
   "outputs": [
    {
     "name": "stdout",
     "output_type": "stream",
     "text": [
      "Enter a number:32\n",
      "Number is positive\n"
     ]
    }
   ],
   "source": [
    "num = int(input(\"Enter a number:\"))\n",
    "if (num > 0):\n",
    "    print (\"Number is positive\")\n",
    "elif (num == 0):\n",
    "    print (\"Number is 0\")\n",
    "else:\n",
    "    print (\"Number is negative\")"
   ]
  },
  {
   "cell_type": "markdown",
   "id": "aquatic-democrat",
   "metadata": {},
   "source": [
    "# Python Program to Check if a Number is Odd or Even"
   ]
  },
  {
   "cell_type": "code",
   "execution_count": 4,
   "id": "welcome-wedding",
   "metadata": {},
   "outputs": [
    {
     "name": "stdout",
     "output_type": "stream",
     "text": [
      "Enter a number:21\n",
      "21 is odd\n"
     ]
    }
   ],
   "source": [
    "num = int(input(\"Enter a number:\"))\n",
    "if (num % 2 == 0):\n",
    "    print (\"{} is even\".format(num))\n",
    "else:\n",
    "    print (\"{} is odd\".format(num))"
   ]
  },
  {
   "cell_type": "markdown",
   "id": "fitted-breakdown",
   "metadata": {},
   "source": [
    "# Python Program to Check Leap Year"
   ]
  },
  {
   "cell_type": "code",
   "execution_count": 5,
   "id": "boring-mining",
   "metadata": {},
   "outputs": [
    {
     "name": "stdout",
     "output_type": "stream",
     "text": [
      "Enter an year:2021\n",
      "2021 is not a leap year\n"
     ]
    }
   ],
   "source": [
    "year = int(input(\"Enter an year:\"))\n",
    "if (year % 4 == 0):\n",
    "    if (year % 100 == 0):\n",
    "        if (year % 400 == 0):\n",
    "            print (\"{} is a leap year\".format(year))\n",
    "        else:\n",
    "            print (\"{} is not a leap year\".format(year))\n",
    "    else:\n",
    "         print (\"{} is a leap year\".format(year))\n",
    "else:\n",
    "     print (\"{} is not a leap year\".format(year))\n"
   ]
  },
  {
   "cell_type": "markdown",
   "id": "forty-satellite",
   "metadata": {},
   "source": [
    "# Python Program to Find the Largest Among Three Numbers"
   ]
  },
  {
   "cell_type": "code",
   "execution_count": 6,
   "id": "tired-jurisdiction",
   "metadata": {},
   "outputs": [
    {
     "name": "stdout",
     "output_type": "stream",
     "text": [
      "Enter num 1:34\n",
      "Enter num 2:23\n",
      "Enter num 3:21\n",
      "34 is greatest\n"
     ]
    }
   ],
   "source": [
    "a = int(input(\"Enter num 1:\"))\n",
    "b = int(input(\"Enter num 2:\"))\n",
    "c = int(input(\"Enter num 3:\"))\n",
    "if (a > b and a > c):\n",
    "    print(\"{} is greatest\".format(a))\n",
    "elif (b > a and b > c):\n",
    "    print (\"{} is greatest\".format(b))\n",
    "else:\n",
    "    print (\"{} is greatest\".format(c))"
   ]
  },
  {
   "cell_type": "markdown",
   "id": "military-cocktail",
   "metadata": {},
   "source": [
    "# Write a Python Program to check if a number is prime or not"
   ]
  },
  {
   "cell_type": "code",
   "execution_count": 7,
   "id": "numerous-inventory",
   "metadata": {},
   "outputs": [
    {
     "name": "stdout",
     "output_type": "stream",
     "text": [
      "Enter a number:45\n",
      "45 is not prime\n"
     ]
    }
   ],
   "source": [
    "num = int(input(\"Enter a number:\"))\n",
    "flag = 0\n",
    "for i in range (2, num):\n",
    "    if (num % i == 0):\n",
    "        flag = 1\n",
    "        \n",
    "if (flag == 1):\n",
    "    print (\"{} is not prime\".format(num))\n",
    "else:\n",
    "    print (\"{} is a prime number\".format(num))"
   ]
  },
  {
   "cell_type": "markdown",
   "id": "checked-black",
   "metadata": {},
   "source": [
    "# Python program to display all the prime numbers within an interval"
   ]
  },
  {
   "cell_type": "code",
   "execution_count": 8,
   "id": "sensitive-genetics",
   "metadata": {},
   "outputs": [
    {
     "name": "stdout",
     "output_type": "stream",
     "text": [
      "Enter lower limit of the range:21\n",
      "Enter upper limit of the range:45\n",
      "List of prime numbers between 21 and 45 are --\n",
      "23\n",
      "29\n",
      "31\n",
      "37\n",
      "41\n",
      "43\n"
     ]
    }
   ],
   "source": [
    "low = int(input(\"Enter lower limit of the range:\"))\n",
    "up = int(input(\"Enter upper limit of the range:\"))\n",
    "print (\"List of prime numbers between {} and {} are --\".format(low, up))\n",
    "for i in range (low, up + 1):\n",
    "    for j in range(2, i):\n",
    "        if (i > 1):\n",
    "            if (i % j == 0):\n",
    "                 break\n",
    "    else:\n",
    "        print(i)"
   ]
  },
  {
   "cell_type": "markdown",
   "id": "decent-universal",
   "metadata": {},
   "source": [
    "# Python program to find the factorial of a number"
   ]
  },
  {
   "cell_type": "code",
   "execution_count": 9,
   "id": "received-oracle",
   "metadata": {},
   "outputs": [
    {
     "name": "stdout",
     "output_type": "stream",
     "text": [
      "Enter a number:21\n",
      "Factorial: 51090942171709440000\n"
     ]
    }
   ],
   "source": [
    "num = int(input(\"Enter a number:\"))\n",
    "fact = 1\n",
    "if (num == 0):\n",
    "    print (\"Factorial: 0\")\n",
    "elif (num == 1):\n",
    "    print (\"Factorial: 1\")\n",
    "else:\n",
    "    for i in range (num, 0, -1):\n",
    "        fact = fact * i\n",
    "print (\"Factorial:\", fact)\n"
   ]
  },
  {
   "cell_type": "markdown",
   "id": "little-disaster",
   "metadata": {},
   "source": [
    "# Python Program to Display the multiplication Table"
   ]
  },
  {
   "cell_type": "code",
   "execution_count": 10,
   "id": "short-jurisdiction",
   "metadata": {},
   "outputs": [
    {
     "name": "stdout",
     "output_type": "stream",
     "text": [
      "Enter a number:21\n",
      "Multiplication table of 21 --\n",
      "21 x 1 = 21\n",
      "21 x 2 = 42\n",
      "21 x 3 = 63\n",
      "21 x 4 = 84\n",
      "21 x 5 = 105\n",
      "21 x 6 = 126\n",
      "21 x 7 = 147\n",
      "21 x 8 = 168\n",
      "21 x 9 = 189\n",
      "21 x 10 = 210\n"
     ]
    }
   ],
   "source": [
    "num = int(input(\"Enter a number:\"))\n",
    "print (\"Multiplication table of {} --\".format(num))\n",
    "for i in range (1, 11):\n",
    "    print (num, \"x\", i, \"=\", num * i)"
   ]
  },
  {
   "cell_type": "markdown",
   "id": "significant-awareness",
   "metadata": {},
   "source": [
    "# Python Program to Print the Fibonacci sequence\n"
   ]
  },
  {
   "cell_type": "code",
   "execution_count": 11,
   "id": "encouraging-beijing",
   "metadata": {},
   "outputs": [
    {
     "name": "stdout",
     "output_type": "stream",
     "text": [
      "Enter a number:20\n",
      "Fibonacci series for 20 --\n",
      "0\n",
      "1\n",
      "1\n",
      "2\n",
      "3\n",
      "5\n",
      "8\n",
      "13\n",
      "21\n",
      "34\n",
      "55\n",
      "89\n",
      "144\n",
      "233\n",
      "377\n",
      "610\n",
      "987\n",
      "1597\n",
      "2584\n",
      "4181\n",
      "6765\n"
     ]
    }
   ],
   "source": [
    "num = int(input(\"Enter a number:\"))\n",
    "a = 0\n",
    "b = 1\n",
    "print (\"Fibonacci series for {} --\".format(num))\n",
    "if num == 0:\n",
    "    print (a)\n",
    "elif num == 1:\n",
    "    print (b)\n",
    "else:\n",
    "    print (a)\n",
    "    print (b)\n",
    "    for i in range(2, num + 1):\n",
    "        c = a + b\n",
    "        a, b = b, c\n",
    "        print (c)"
   ]
  },
  {
   "cell_type": "markdown",
   "id": "discrete-moral",
   "metadata": {},
   "source": [
    "# Python Program to Check Armstrong Number (for 3 digits)"
   ]
  },
  {
   "cell_type": "code",
   "execution_count": 12,
   "id": "compound-participant",
   "metadata": {},
   "outputs": [
    {
     "name": "stdout",
     "output_type": "stream",
     "text": [
      "Enter a number:67\n",
      "67 is not an Armstrong number\n"
     ]
    }
   ],
   "source": [
    "num = int(input(\"Enter a number:\"))\n",
    "l = len(str(num))\n",
    "check = 0\n",
    "temp = num\n",
    "while (temp > 0):\n",
    "    d = temp % 10\n",
    "    check += d ** l\n",
    "    temp //= 10\n",
    "    \n",
    "if (check == num):\n",
    "    print (\"{} is an Armstrong number\".format(num))\n",
    "else:\n",
    "    print (\"{} is not an Armstrong number\".format(num))\n"
   ]
  }
 ],
 "metadata": {
  "kernelspec": {
   "display_name": "Python 3",
   "language": "python",
   "name": "python3"
  },
  "language_info": {
   "codemirror_mode": {
    "name": "ipython",
    "version": 3
   },
   "file_extension": ".py",
   "mimetype": "text/x-python",
   "name": "python",
   "nbconvert_exporter": "python",
   "pygments_lexer": "ipython3",
   "version": "3.7.6"
  }
 },
 "nbformat": 4,
 "nbformat_minor": 5
}
