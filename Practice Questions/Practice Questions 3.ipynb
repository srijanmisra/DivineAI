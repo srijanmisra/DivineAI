{
 "cells": [
  {
   "cell_type": "markdown",
   "id": "czech-parks",
   "metadata": {},
   "source": [
    "# Python Program to Remove Punctuations From a String "
   ]
  },
  {
   "cell_type": "code",
   "execution_count": 1,
   "id": "indoor-consideration",
   "metadata": {},
   "outputs": [
    {
     "name": "stdout",
     "output_type": "stream",
     "text": [
      "Given sentence: The boy was happy, eager and full of anticipation at the start of his summer holiday.\n",
      "Punctuations removed: The boy was happy eager and full of anticipation at the start of his summer holiday\n"
     ]
    }
   ],
   "source": [
    "text = \"The boy was happy, eager and full of anticipation at the start of his summer holiday.\"\n",
    "t = list(text)\n",
    "print (\"Given sentence:\", text)\n",
    "for i in t:\n",
    "    if (i == ',' or i == '.' or i == '!' or i == '?' or i == ':' or i == ';' or i == \"'\" or i == '-' or i == '()' or i == '[]' or i == '/'):\n",
    "        t.remove(i)\n",
    "t2 = ''.join(map(str, t))\n",
    "print (\"Punctuations removed:\", t2)"
   ]
  },
  {
   "cell_type": "markdown",
   "id": "divine-quarter",
   "metadata": {},
   "source": [
    "# Python Program Given a sorted integer array without duplicates, return the summary of its ranges."
   ]
  },
  {
   "cell_type": "code",
   "execution_count": 2,
   "id": "loving-diana",
   "metadata": {},
   "outputs": [
    {
     "name": "stdout",
     "output_type": "stream",
     "text": [
      "['[0]->[1]', '[1]->[2]', '[2]->[3]', '[4]->[5]', '[5]->[6]', '[7]']\n"
     ]
    }
   ],
   "source": [
    "array = [0, 1, 2, 4, 5, 7]\n",
    "empty = []\n",
    "for i in array:\n",
    "    if (i != i+1 and 0 <= i <= 2):\n",
    "        empty.append(\"[{}]->[{}]\".format(i, i+1))\n",
    "    elif (i != i+1 and 4 <= i <= 5):\n",
    "        empty.append(\"[{}]->[{}]\".format(i, i+1))\n",
    "    else:\n",
    "        empty.append(\"[{}]\".format(i))\n",
    "print (empty)"
   ]
  },
  {
   "cell_type": "markdown",
   "id": "scenic-battle",
   "metadata": {},
   "source": [
    "# Python Program Given a list slice it into a 3 equal chunks and revert each list"
   ]
  },
  {
   "cell_type": "code",
   "execution_count": 3,
   "id": "tutorial-moderator",
   "metadata": {},
   "outputs": [
    {
     "name": "stdout",
     "output_type": "stream",
     "text": [
      "[[1, 2, 3], [4, 5, 6], [7, 8, 9]]\n"
     ]
    }
   ],
   "source": [
    "def chunk(l, n):\n",
    "    for i in range(0, len(l), n):\n",
    "        yield l[i : i + n]\n",
    "\n",
    "num = [1, 2, 3, 4, 5, 6, 7, 8, 9]\n",
    "a = list(chunk(num, 3))\n",
    "print (a)"
   ]
  },
  {
   "cell_type": "markdown",
   "id": "determined-louis",
   "metadata": {},
   "source": [
    "# Python Program to Consider an array of non-negative integers. A second array is formed by shuffling the elements of the first array and deleting a random element\n"
   ]
  },
  {
   "cell_type": "code",
   "execution_count": 4,
   "id": "hollywood-wilderness",
   "metadata": {},
   "outputs": [
    {
     "name": "stdout",
     "output_type": "stream",
     "text": [
      "First array: [2, 3, 7, 1, 0, 8, 4]\n",
      "Second array: [3, 2, 7, 0, 8, 4]\n"
     ]
    }
   ],
   "source": [
    "import random\n",
    "arr_1 = [2, 3, 7, 1, 0, 8, 4]\n",
    "print (\"First array:\", arr_1)\n",
    "random.shuffle(arr_1)\n",
    "a = random.choice(arr_1)\n",
    "arr_1.remove(a)\n",
    "print (\"Second array:\", arr_1)"
   ]
  },
  {
   "cell_type": "markdown",
   "id": "relative-civilian",
   "metadata": {},
   "source": [
    "# Python Program to Add Two Matrices"
   ]
  },
  {
   "cell_type": "code",
   "execution_count": 5,
   "id": "patient-ability",
   "metadata": {},
   "outputs": [
    {
     "name": "stdout",
     "output_type": "stream",
     "text": [
      "Array 1: [1, 2, 3, 4, 5, 6]\n",
      "Array 2: [7, 8, 9, 10, 11, 12]\n",
      "Sum of array: [8, 10, 12, 14, 16, 18]\n"
     ]
    }
   ],
   "source": [
    "l = [1, 2, 3, 4, 5, 6]\n",
    "m = [7, 8, 9, 10, 11, 12]\n",
    "sum_arr = []\n",
    "for i in range (0, len(l)):\n",
    "    sum_arr.append(l[i] + m[i])\n",
    "print (\"Array 1:\", l)\n",
    "print (\"Array 2:\", m)\n",
    "print (\"Sum of array:\", sum_arr)"
   ]
  },
  {
   "cell_type": "markdown",
   "id": "cutting-saskatchewan",
   "metadata": {},
   "source": [
    "# Python Program to Rotate an array of n elements to the right by k steps."
   ]
  },
  {
   "cell_type": "code",
   "execution_count": 6,
   "id": "qualified-identification",
   "metadata": {},
   "outputs": [
    {
     "name": "stdout",
     "output_type": "stream",
     "text": [
      "5 7 9 1 3 \n",
      "\n"
     ]
    }
   ],
   "source": [
    "def rotate(a, n, k):\n",
    "    k = k % n\n",
    "    for i in range(0, n):\n",
    "        if (i < k):\n",
    "            print (a[n + i - k], end = \" \")\n",
    "        else:\n",
    "            print (a[i - k], end = \" \")\n",
    "    print (\"\\n\")\n",
    "\n",
    "num = [1, 3, 5, 7, 9]\n",
    "n = len(num)\n",
    "k = 3\n",
    "rotate (num, n, k)"
   ]
  },
  {
   "cell_type": "markdown",
   "id": "active-baker",
   "metadata": {},
   "source": [
    "# Python Program to Count the Number of Each Vowel Using a list and a dictionary comprehension"
   ]
  },
  {
   "cell_type": "code",
   "execution_count": 7,
   "id": "periodic-palestine",
   "metadata": {},
   "outputs": [
    {
     "name": "stdout",
     "output_type": "stream",
     "text": [
      "Given text: The boy was happy, eager and full of anticipation at the start of his summer holiday\n",
      "{'a': 9, 'e': 5, 'i': 5, 'o': 5, 'u': 2}\n"
     ]
    }
   ],
   "source": [
    "text = \"The boy was happy, eager and full of anticipation at the start of his summer holiday\"\n",
    "print (\"Given text:\", text)\n",
    "text = text.casefold()\n",
    "count = {k:sum([1 for char in text if char == k]) for k in 'aeiou'}\n",
    "print (count)"
   ]
  },
  {
   "cell_type": "markdown",
   "id": "standard-restriction",
   "metadata": {},
   "source": [
    "# Python Program to Add Two Matrices using nested loop\n"
   ]
  },
  {
   "cell_type": "code",
   "execution_count": 8,
   "id": "still-reminder",
   "metadata": {},
   "outputs": [
    {
     "name": "stdout",
     "output_type": "stream",
     "text": [
      "[3, 6, 9]\n",
      "[9, 12, 10]\n",
      "[10, 18, 2]\n"
     ]
    }
   ],
   "source": [
    "x = [[2, 3, 4],\n",
    "    [5, 6, 7],\n",
    "    [8, 9, 1]]\n",
    "\n",
    "y = [[1, 3, 5],\n",
    "    [4, 6, 3],\n",
    "    [2, 9, 1]]\n",
    "\n",
    "result =  [[0, 0, 0],\n",
    "           [0, 0, 0],\n",
    "           [0, 0, 0]]\n",
    "\n",
    "for i in range (len(x)):\n",
    "    for j in range (len(x[0])):\n",
    "        result[i][j] = x[i][j] + y[i][j]\n",
    "        \n",
    "for r in result:\n",
    "    print (r)"
   ]
  },
  {
   "cell_type": "markdown",
   "id": "challenging-better",
   "metadata": {},
   "source": [
    "# Python Program to Transpose a Matrix using Nested List Comprehension"
   ]
  },
  {
   "cell_type": "code",
   "execution_count": 12,
   "id": "acute-channels",
   "metadata": {},
   "outputs": [
    {
     "name": "stdout",
     "output_type": "stream",
     "text": [
      "[12, 4, 3]\n",
      "[7, 5, 8]\n"
     ]
    }
   ],
   "source": [
    "X = [[12,7],\n",
    "    [4 ,5],\n",
    "    [3 ,8]]\n",
    "\n",
    "result = [[X[j][i] for j in range(len(X))] for i in range(len(X[0]))]\n",
    "\n",
    "for r in result:\n",
    "   print(r)"
   ]
  },
  {
   "cell_type": "markdown",
   "id": "registered-reaction",
   "metadata": {},
   "source": [
    "# Evaluate a string and a number"
   ]
  },
  {
   "cell_type": "code",
   "execution_count": 13,
   "id": "popular-boating",
   "metadata": {},
   "outputs": [
    {
     "name": "stdout",
     "output_type": "stream",
     "text": [
      "8\n"
     ]
    }
   ],
   "source": [
    "print (eval(\"5 + 3\"))"
   ]
  },
  {
   "cell_type": "markdown",
   "id": "rubber-spell",
   "metadata": {},
   "source": [
    "# Calculate length of a string"
   ]
  },
  {
   "cell_type": "code",
   "execution_count": 14,
   "id": "level-dressing",
   "metadata": {},
   "outputs": [
    {
     "name": "stdout",
     "output_type": "stream",
     "text": [
      "Given text: I am using python\n",
      "Length of string: 17\n"
     ]
    }
   ],
   "source": [
    "text = \"I am using python\"\n",
    "print (\"Given text:\", text)\n",
    "print(\"Length of string:\", len(text))"
   ]
  },
  {
   "cell_type": "markdown",
   "id": "danish-ready",
   "metadata": {},
   "source": [
    "# Count the number of spaces in a string"
   ]
  },
  {
   "cell_type": "code",
   "execution_count": 43,
   "id": "adequate-saver",
   "metadata": {},
   "outputs": [
    {
     "name": "stdout",
     "output_type": "stream",
     "text": [
      "Given text: I am using python\n",
      "Number of spaces in the text: 3\n"
     ]
    }
   ],
   "source": [
    "text = \"I am using python\"\n",
    "print (\"Given text:\", text)\n",
    "count = 0\n",
    "for i in text:\n",
    "    if (i == \" \"):\n",
    "        count = count + 1\n",
    "print (\"Number of spaces in the text:\", count)"
   ]
  },
  {
   "cell_type": "markdown",
   "id": "driving-companion",
   "metadata": {},
   "source": [
    "# Check if all char are alphanumeric"
   ]
  },
  {
   "cell_type": "code",
   "execution_count": 50,
   "id": "seeing-player",
   "metadata": {},
   "outputs": [
    {
     "name": "stdout",
     "output_type": "stream",
     "text": [
      "Enter a text:@sds\n",
      "The character is alphabetic: False\n"
     ]
    }
   ],
   "source": [
    "text = input(\"Enter a text:\")\n",
    "print (\"The character is alphabetic:\", text.isalnum())"
   ]
  },
  {
   "cell_type": "markdown",
   "id": "adjacent-tucson",
   "metadata": {},
   "source": [
    "# Python program to remove leading characters"
   ]
  },
  {
   "cell_type": "code",
   "execution_count": 44,
   "id": "bronze-flash",
   "metadata": {},
   "outputs": [
    {
     "name": "stdout",
     "output_type": "stream",
     "text": [
      "Given text: Number of spaces in the text\n",
      "Removing leading characters: umber of spaces in the text\n"
     ]
    }
   ],
   "source": [
    "text = \"Number of spaces in the text\"\n",
    "print (\"Given text:\", text)\n",
    "print (\"Removing leading characters:\", text.lstrip(\"N\"))"
   ]
  },
  {
   "cell_type": "markdown",
   "id": "received-picking",
   "metadata": {},
   "source": [
    "# Test if string contains digits"
   ]
  },
  {
   "cell_type": "code",
   "execution_count": 24,
   "id": "sixth-tooth",
   "metadata": {},
   "outputs": [
    {
     "name": "stdout",
     "output_type": "stream",
     "text": [
      "Enter a string:I am Srijan\n",
      "String doesn't have digit\n"
     ]
    }
   ],
   "source": [
    "text = input(\"Enter a string:\")\n",
    "flag = 0\n",
    "for i in text:\n",
    "    if (i.isdigit() == True):\n",
    "        flag = 1\n",
    "    else:\n",
    "        flag = 0\n",
    "        \n",
    "if (flag == 1):\n",
    "    print (\"String contains digit\") \n",
    "else:\n",
    "    print (\"String doesn't have digit\")"
   ]
  },
  {
   "cell_type": "markdown",
   "id": "initial-group",
   "metadata": {},
   "source": [
    "# Python program to removes trailing characters"
   ]
  },
  {
   "cell_type": "code",
   "execution_count": 45,
   "id": "flying-adolescent",
   "metadata": {},
   "outputs": [
    {
     "name": "stdout",
     "output_type": "stream",
     "text": [
      "Given text: Number of spaces in the text\n",
      "Removing trailing characters: Number of spaces in the tex\n"
     ]
    }
   ],
   "source": [
    "text = \"Number of spaces in the text\"\n",
    "print (\"Given text:\", text)\n",
    "print (\"Removing trailing characters:\", text.rstrip(\"t\"))"
   ]
  },
  {
   "cell_type": "markdown",
   "id": "undefined-table",
   "metadata": {},
   "source": [
    "# Test if string contains upper case"
   ]
  },
  {
   "cell_type": "code",
   "execution_count": 29,
   "id": "southwest-sapphire",
   "metadata": {},
   "outputs": [
    {
     "name": "stdout",
     "output_type": "stream",
     "text": [
      "Enter a string:ABC 123\n",
      "String contains uppercase letter\n"
     ]
    }
   ],
   "source": [
    "text = input(\"Enter a string:\")\n",
    "flag = 0\n",
    "for i in text:\n",
    "    if (i.isupper() == True):\n",
    "        flag = 1\n",
    "        break\n",
    "    else:\n",
    "        flag = 0\n",
    "        \n",
    "if (flag == 1):\n",
    "    print (\"String contains uppercase letter\") \n",
    "else:\n",
    "    print (\"String doesn't have uppercase letter\")"
   ]
  },
  {
   "cell_type": "markdown",
   "id": "studied-hostel",
   "metadata": {},
   "source": [
    "# Test if string starts with H"
   ]
  },
  {
   "cell_type": "code",
   "execution_count": 30,
   "id": "educated-marriage",
   "metadata": {},
   "outputs": [
    {
     "name": "stdout",
     "output_type": "stream",
     "text": [
      "Enter a string:Soft\n",
      "String isn't starting with H\n"
     ]
    }
   ],
   "source": [
    "text = input(\"Enter a string:\")\n",
    "flag = 0\n",
    "if(text.startswith(\"H\") == True):\n",
    "    print (\"String starts with H\")\n",
    "else:\n",
    "    print (\"String isn't starting with H\")"
   ]
  },
  {
   "cell_type": "markdown",
   "id": "clear-chorus",
   "metadata": {},
   "source": [
    "# Check if all char in the string are alphabetic"
   ]
  },
  {
   "cell_type": "code",
   "execution_count": 46,
   "id": "activated-adolescent",
   "metadata": {},
   "outputs": [
    {
     "name": "stdout",
     "output_type": "stream",
     "text": [
      "Enter a text:ADCsd\n",
      "The character is alphabetic: True\n"
     ]
    }
   ],
   "source": [
    "text = input(\"Enter a text:\")\n",
    "print (\"The character is alphabetic:\", text.isalpha())"
   ]
  },
  {
   "cell_type": "markdown",
   "id": "daily-burns",
   "metadata": {},
   "source": [
    "# Returns an integer value for the given character"
   ]
  },
  {
   "cell_type": "code",
   "execution_count": 32,
   "id": "steady-amsterdam",
   "metadata": {},
   "outputs": [
    {
     "name": "stdout",
     "output_type": "stream",
     "text": [
      "Enter any alphabet:A\n",
      "Integer value of A is: 1\n"
     ]
    }
   ],
   "source": [
    "char = input(\"Enter any alphabet:\")\n",
    "if (char.isupper() == True):\n",
    "    print (\"Integer value of {} is:\".format(char), ord(char)-64)\n",
    "else:\n",
    "    print (\"Integer value of {} is:\".format(char), ord(char)-96)"
   ]
  },
  {
   "cell_type": "markdown",
   "id": "empirical-utilization",
   "metadata": {},
   "source": [
    "# Counting total Digits in a string"
   ]
  },
  {
   "cell_type": "code",
   "execution_count": 33,
   "id": "private-colombia",
   "metadata": {},
   "outputs": [
    {
     "name": "stdout",
     "output_type": "stream",
     "text": [
      "Enter a string:45\n",
      "Total no. of digits in the string: 2\n"
     ]
    }
   ],
   "source": [
    "char = input(\"Enter a string:\")\n",
    "count = 0\n",
    "for i in char:\n",
    "    if (i.isdigit() == True):\n",
    "        count = count + 1\n",
    "print (\"Total no. of digits in the string:\", count)"
   ]
  },
  {
   "cell_type": "markdown",
   "id": "accredited-copyright",
   "metadata": {},
   "source": [
    "# Counting total alphanumeric in a string\n"
   ]
  },
  {
   "cell_type": "code",
   "execution_count": 35,
   "id": "meaningful-driving",
   "metadata": {},
   "outputs": [
    {
     "name": "stdout",
     "output_type": "stream",
     "text": [
      "Enter a string:35\n",
      "Total no. of alphanumerics in the string: 2\n"
     ]
    }
   ],
   "source": [
    "char = input(\"Enter a string:\")\n",
    "count = 0\n",
    "for i in char:\n",
    "    if (i.isalnum() == True):\n",
    "        count = count + 1\n",
    "print (\"Total no. of alphanumerics in the string:\", count)"
   ]
  },
  {
   "cell_type": "markdown",
   "id": "twenty-omega",
   "metadata": {},
   "source": [
    "# Counting total Upper Case in a string"
   ]
  },
  {
   "cell_type": "code",
   "execution_count": 36,
   "id": "convertible-footwear",
   "metadata": {},
   "outputs": [
    {
     "name": "stdout",
     "output_type": "stream",
     "text": [
      "Enter a string:Srijan4799\n",
      "Total no. of uppercase letters in the string: 1\n"
     ]
    }
   ],
   "source": [
    "char = input(\"Enter a string:\")\n",
    "count = 0\n",
    "for i in char:\n",
    "    if (i.isupper() == True):\n",
    "        count = count + 1\n",
    "print (\"Total no. of uppercase letters in the string:\", count)"
   ]
  },
  {
   "cell_type": "markdown",
   "id": "powerful-paris",
   "metadata": {},
   "source": [
    "# Counting total Digits in a string"
   ]
  },
  {
   "cell_type": "code",
   "execution_count": 37,
   "id": "proprietary-consequence",
   "metadata": {},
   "outputs": [
    {
     "name": "stdout",
     "output_type": "stream",
     "text": [
      "Enter a string:Srijan1999\n",
      "Total no. of lowercase letters in the string: 5\n"
     ]
    }
   ],
   "source": [
    "char = input(\"Enter a string:\")\n",
    "count = 0\n",
    "for i in char:\n",
    "    if (i.islower() == True):\n",
    "        count = count + 1\n",
    "print (\"Total no. of lowercase letters in the string:\", count)"
   ]
  },
  {
   "cell_type": "markdown",
   "id": "social-supervision",
   "metadata": {},
   "source": [
    "# Bubble sort in python"
   ]
  },
  {
   "cell_type": "code",
   "execution_count": 38,
   "id": "bulgarian-adams",
   "metadata": {},
   "outputs": [
    {
     "name": "stdout",
     "output_type": "stream",
     "text": [
      "Before sorting: [1, 4, 8, 9, 0, 3, 2]\n",
      "After sorting: [0, 1, 2, 3, 4, 8, 9]\n"
     ]
    }
   ],
   "source": [
    "def bubbleSort(a):\n",
    "    l = len(a)\n",
    "    for i in range (0, l-1):\n",
    "        for j in range (l-1):\n",
    "            if (a[j] > a[j+1]):\n",
    "                temp = a[j]\n",
    "                a[j] = a[j+1]\n",
    "                a[j+1] = temp\n",
    "                 \n",
    "    return a\n",
    "\n",
    "arr = [1, 4, 8, 9, 0, 3, 2]\n",
    "print (\"Before sorting:\", arr)\n",
    "print (\"After sorting:\", bubbleSort(arr))"
   ]
  },
  {
   "cell_type": "markdown",
   "id": "occupational-diagnosis",
   "metadata": {},
   "source": [
    "# Compute the product of every pair of numbers from two lists"
   ]
  },
  {
   "cell_type": "code",
   "execution_count": 39,
   "id": "chicken-horizontal",
   "metadata": {},
   "outputs": [
    {
     "name": "stdout",
     "output_type": "stream",
     "text": [
      "Given list: [2, 4, 6, 8, 10, 12]\n",
      "Product of each pair: [8, 12, 16, 20, 24, 24, 32, 40, 48, 48, 60, 72, 80, 96, 120]\n"
     ]
    }
   ],
   "source": [
    "l = [2, 4, 6, 8, 10, 12]\n",
    "p = []\n",
    "#product = 0\n",
    "for i in range(0, len(l)):\n",
    "    for j in range(i+1, len(l)):\n",
    "        product = l[i] * l[j]\n",
    "        p.append(product)\n",
    "print (\"Given list:\", l)\n",
    "print (\"Product of each pair:\", p)"
   ]
  },
  {
   "cell_type": "markdown",
   "id": "welsh-future",
   "metadata": {},
   "source": [
    "# Compute the product of two lists"
   ]
  },
  {
   "cell_type": "code",
   "execution_count": 40,
   "id": "agricultural-gazette",
   "metadata": {},
   "outputs": [
    {
     "name": "stdout",
     "output_type": "stream",
     "text": [
      "Given lists: [2, 3, 4, 5, 6] [7, 8, 9, 10, 11]\n",
      "Product of the lists: [14, 24, 36, 50, 66]\n"
     ]
    }
   ],
   "source": [
    "l1 = [2, 3, 4, 5, 6]\n",
    "l2 = [7, 8, 9, 10, 11]\n",
    "l3 = []\n",
    "for i in range(len(l1)):\n",
    "    l3.append(l1[i] * l2[i])\n",
    "print (\"Given lists:\", l1, l2)\n",
    "print (\"Product of the lists:\", l3)"
   ]
  },
  {
   "cell_type": "markdown",
   "id": "brown-polymer",
   "metadata": {},
   "source": [
    "# Calculate the sum of every pair of numbers from two lists"
   ]
  },
  {
   "cell_type": "code",
   "execution_count": 51,
   "id": "thorough-passing",
   "metadata": {},
   "outputs": [
    {
     "name": "stdout",
     "output_type": "stream",
     "text": [
      "Given lists: [2, 3, 4, 5, 6] [7, 8, 9, 10, 11]\n",
      "Sum of the list: [9, 11, 13, 15, 17]\n"
     ]
    }
   ],
   "source": [
    "l1 = [2, 3, 4, 5, 6]\n",
    "l2 = [7, 8, 9, 10, 11]\n",
    "l3 = []\n",
    "for i in range(len(l1)):\n",
    "    l3.append(l1[i] + l2[i])\n",
    "print (\"Given lists:\", l1, l2)\n",
    "print (\"Sum of the list:\", l3)"
   ]
  },
  {
   "cell_type": "code",
   "execution_count": 52,
   "id": "stone-cliff",
   "metadata": {},
   "outputs": [
    {
     "name": "stdout",
     "output_type": "stream",
     "text": [
      "Given lists: [2, 3, 4, 5, 6] [7, 8, 9]\n",
      "Sum of the list: [9, 10, 11, 10, 11, 12, 11, 12, 13, 12, 13, 14, 13, 14, 15]\n"
     ]
    }
   ],
   "source": [
    "l1 = [2, 3, 4, 5, 6]\n",
    "l2 = [7, 8, 9]\n",
    "l3 = []\n",
    "for i in range(len(l1)):\n",
    "    for j in range(len(l2)):\n",
    "        l3.append(l1[i] + l2[j])\n",
    "print (\"Given lists:\", l1, l2)\n",
    "print (\"Sum of the list:\", l3)"
   ]
  },
  {
   "cell_type": "markdown",
   "id": "studied-meaning",
   "metadata": {},
   "source": [
    "# Calculate the pair-wise product of two lists\n"
   ]
  },
  {
   "cell_type": "code",
   "execution_count": 41,
   "id": "medical-message",
   "metadata": {},
   "outputs": [
    {
     "name": "stdout",
     "output_type": "stream",
     "text": [
      "List 1: [2, 3, 4, 5, 6, 8]\n",
      "6 12 20 30 48 \n",
      "List 2: [7, 8, 9, 10, 11, 13]\n",
      "56 72 90 110 143 "
     ]
    }
   ],
   "source": [
    "def pairProd(a):\n",
    "    n = len(a)\n",
    "    prod = 1\n",
    "    for i in range(n - 1):\n",
    "        prod = a[i] * a[i+1]\n",
    "        print (prod, end = \" \")\n",
    "\n",
    "l1 = [2, 3, 4, 5, 6, 8]\n",
    "l2 = [7, 8, 9, 10, 11, 13]\n",
    "print (\"List 1:\", l1)\n",
    "pairProd(l1)\n",
    "print (\"\\nList 2:\", l2)\n",
    "pairProd(l2)"
   ]
  },
  {
   "cell_type": "markdown",
   "id": "selected-batman",
   "metadata": {},
   "source": [
    "# Remove the last element from the stack"
   ]
  },
  {
   "cell_type": "code",
   "execution_count": 42,
   "id": "accepting-mustang",
   "metadata": {},
   "outputs": [
    {
     "name": "stdout",
     "output_type": "stream",
     "text": [
      "Given stack: [1, 2, 3, 4, 5, 6]\n",
      "Last element removed: [1, 2, 3, 4, 5]\n"
     ]
    }
   ],
   "source": [
    "stack = [1, 2, 3, 4, 5, 6]\n",
    "print (\"Given stack:\", stack)\n",
    "stack.pop()\n",
    "print (\"Last element removed:\", stack)"
   ]
  }
 ],
 "metadata": {
  "kernelspec": {
   "display_name": "Python 3",
   "language": "python",
   "name": "python3"
  }
 },
 "nbformat": 4,
 "nbformat_minor": 5
}
