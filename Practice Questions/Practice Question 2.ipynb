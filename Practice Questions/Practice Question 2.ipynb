{
 "cells": [
  {
   "cell_type": "markdown",
   "id": "plain-brazil",
   "metadata": {},
   "source": [
    "# Find the sum of the cube of each digit"
   ]
  },
  {
   "cell_type": "code",
   "execution_count": 1,
   "id": "fourth-tuition",
   "metadata": {},
   "outputs": [
    {
     "name": "stdout",
     "output_type": "stream",
     "text": [
      "Enter a number:34\n",
      "Sum of cube of each digit : 91\n"
     ]
    }
   ],
   "source": [
    "num = int(input(\"Enter a number:\"))\n",
    "sum_1 = 0\n",
    "while num > 0:\n",
    "    d = num % 10\n",
    "    sum_1 = sum_1 + d ** 3\n",
    "    num //= 10\n",
    "print (\"Sum of cube of each digit :\", sum_1)"
   ]
  },
  {
   "cell_type": "markdown",
   "id": "future-blink",
   "metadata": {},
   "source": [
    "# Python Program to Find Armstrong Number in an Interval"
   ]
  },
  {
   "cell_type": "code",
   "execution_count": 20,
   "id": "spanish-relationship",
   "metadata": {},
   "outputs": [
    {
     "name": "stdout",
     "output_type": "stream",
     "text": [
      "Enter lower limit:21\n",
      "Enter upper limit:1000\n",
      "153\n",
      "370\n",
      "371\n",
      "407\n"
     ]
    }
   ],
   "source": [
    "low = int(input(\"Enter lower limit:\"))\n",
    "up = int(input(\"Enter upper limit:\"))\n",
    "ls = []\n",
    "for i in range(low, up+1):\n",
    "    temp = i\n",
    "    l = len(str(i))\n",
    "    check = 0\n",
    "    while temp > 0:\n",
    "        d = temp % 10\n",
    "        check = check + d ** l\n",
    "        temp //= 10\n",
    "    if (check == i):\n",
    "        ls.append(i)\n",
    "        \n",
    "if not ls:\n",
    "    print(\"No element found\")\n",
    "\n",
    "for i in range(len(ls)):\n",
    "    print(ls[i])\n",
    "    \n",
    "        "
   ]
  },
  {
   "cell_type": "markdown",
   "id": "hungarian-enterprise",
   "metadata": {},
   "source": [
    "# Python Program to Find the Sum of Natural Numbers"
   ]
  },
  {
   "cell_type": "code",
   "execution_count": 21,
   "id": "strategic-desktop",
   "metadata": {},
   "outputs": [
    {
     "name": "stdout",
     "output_type": "stream",
     "text": [
      "Enter the number upto which you want the sum:13\n",
      "Sum: 91\n"
     ]
    }
   ],
   "source": [
    "num = int(input(\"Enter the number upto which you want the sum:\"))\n",
    "sum_1 = 0\n",
    "for i in range (1, num+1):\n",
    "    sum_1 = sum_1 + i\n",
    "print (\"Sum:\", sum_1)"
   ]
  },
  {
   "cell_type": "markdown",
   "id": "finished-fossil",
   "metadata": {},
   "source": [
    "# Python Program To Display Powers of 2 Using Anonymous Function"
   ]
  },
  {
   "cell_type": "code",
   "execution_count": 22,
   "id": "hidden-villa",
   "metadata": {},
   "outputs": [
    {
     "name": "stdout",
     "output_type": "stream",
     "text": [
      "Power of 2:\n",
      "[2, 4, 8, 16, 32]\n"
     ]
    }
   ],
   "source": [
    "power = [1, 2, 3, 4, 5]\n",
    "print (\"Power of 2:\")\n",
    "print(list(map(lambda n: 2 ** n, power)))"
   ]
  },
  {
   "cell_type": "markdown",
   "id": "likely-methodology",
   "metadata": {},
   "source": [
    "# Python Program to Find Numbers Divisible by Another Number\n"
   ]
  },
  {
   "cell_type": "code",
   "execution_count": 25,
   "id": "isolated-arrow",
   "metadata": {},
   "outputs": [
    {
     "name": "stdout",
     "output_type": "stream",
     "text": [
      "[1, 2, 3, 4, 5, 6, 7, 8, 9, 10, 11, 12, 13, 14, 15]\n",
      "Enter a number:4\n",
      "Numbers divisible by 4 are --\n",
      "4\n",
      "8\n",
      "12\n"
     ]
    }
   ],
   "source": [
    "l = [1, 2, 3, 4, 5, 6, 7, 8, 9, 10, 11, 12, 13, 14, 15]\n",
    "print (l)\n",
    "ls = []\n",
    "num = int(input(\"Enter a number:\"))\n",
    "print (\"Numbers divisible by {} are --\".format(num))\n",
    "for i in l:\n",
    "    if (i % num == 0):\n",
    "        ls.append(i)\n",
    "\n",
    "for i in range(len(ls)):\n",
    "    print(ls[i])\n",
    "    \n",
    "if not ls:\n",
    "    print(\"None\")"
   ]
  },
  {
   "cell_type": "markdown",
   "id": "modern-bandwidth",
   "metadata": {},
   "source": [
    "# Python Program to Convert Decimal to Binary"
   ]
  },
  {
   "cell_type": "code",
   "execution_count": 26,
   "id": "executed-monitor",
   "metadata": {},
   "outputs": [
    {
     "name": "stdout",
     "output_type": "stream",
     "text": [
      "Enter a decimal number:23\n",
      "Binary representation of 23 is:  10111\n"
     ]
    }
   ],
   "source": [
    "num = int(input(\"Enter a decimal number:\"))\n",
    "print (\"Binary representation of {} is:\".format(num), bin(num).replace(\"0b\", \" \"))\n"
   ]
  },
  {
   "cell_type": "markdown",
   "id": "preceding-restaurant",
   "metadata": {},
   "source": [
    "# Python Program to Convert Decimal to Hexadecimal"
   ]
  },
  {
   "cell_type": "code",
   "execution_count": 31,
   "id": "gentle-water",
   "metadata": {},
   "outputs": [
    {
     "name": "stdout",
     "output_type": "stream",
     "text": [
      "Enter a decimal number:17\n",
      "Hexadecimal representation of 17 is: 11\n"
     ]
    }
   ],
   "source": [
    "num = int(input(\"Enter a decimal number:\"))\n",
    "print (\"Hexadecimal representation of {} is:\".format(num), hex(num).replace(\"0x\", \"\").upper())"
   ]
  },
  {
   "cell_type": "markdown",
   "id": "sublime-magazine",
   "metadata": {},
   "source": [
    "# Python Program to Find ASCII Value of Character\n"
   ]
  },
  {
   "cell_type": "code",
   "execution_count": 32,
   "id": "olive-research",
   "metadata": {},
   "outputs": [
    {
     "name": "stdout",
     "output_type": "stream",
     "text": [
      "Enter a character:z\n",
      "ASCII value of z is: 122\n"
     ]
    }
   ],
   "source": [
    "val = input(\"Enter a character:\")\n",
    "print (\"ASCII value of {} is:\".format(val), ord(val))"
   ]
  },
  {
   "cell_type": "markdown",
   "id": "verbal-unemployment",
   "metadata": {},
   "source": [
    "# Python program to compute sum of digits in number"
   ]
  },
  {
   "cell_type": "code",
   "execution_count": 34,
   "id": "signed-ordinary",
   "metadata": {},
   "outputs": [
    {
     "name": "stdout",
     "output_type": "stream",
     "text": [
      "Enter a number:2314567810\n",
      "Sum of the digits of 2314567810 is: 37\n"
     ]
    }
   ],
   "source": [
    "num = int(input(\"Enter a number:\"))\n",
    "temp = num\n",
    "sum_1 = 0\n",
    "while num > 0:\n",
    "    d = num % 10\n",
    "    sum_1 = sum_1 + d\n",
    "    num //= 10\n",
    "print (\"Sum of the digits of {} is:\".format(temp), sum_1)"
   ]
  },
  {
   "cell_type": "markdown",
   "id": "attractive-architecture",
   "metadata": {},
   "source": [
    "# Write a program to find and print the remainder of two number"
   ]
  },
  {
   "cell_type": "code",
   "execution_count": 35,
   "id": "proved-intervention",
   "metadata": {},
   "outputs": [
    {
     "name": "stdout",
     "output_type": "stream",
     "text": [
      "Enter first number:23\n",
      "Enter second number:21\n",
      "Remainder when 23 is divided by 21: 2\n"
     ]
    }
   ],
   "source": [
    "num1 = int(input(\"Enter first number:\"))\n",
    "num2 = int(input(\"Enter second number:\"))\n",
    "print (\"Remainder when {} is divided by {}:\".format(num1, num2), num1 % num2)"
   ]
  },
  {
   "cell_type": "markdown",
   "id": "accepted-pacific",
   "metadata": {},
   "source": [
    "# Python program to Sort the list in ascending order"
   ]
  },
  {
   "cell_type": "code",
   "execution_count": 36,
   "id": "cardiovascular-rwanda",
   "metadata": {},
   "outputs": [
    {
     "name": "stdout",
     "output_type": "stream",
     "text": [
      "List before sorting: ['Apple', 'Cat', 'Zero', 'Rain', 'Joke', 'Mail']\n",
      "List after sorting: ['Apple', 'Cat', 'Joke', 'Mail', 'Rain', 'Zero']\n"
     ]
    }
   ],
   "source": [
    "l = [\"Apple\", \"Cat\", \"Zero\", \"Rain\", \"Joke\", \"Mail\"]\n",
    "print (\"List before sorting:\", l)\n",
    "l.sort()\n",
    "print (\"List after sorting:\", l)"
   ]
  },
  {
   "cell_type": "markdown",
   "id": "original-headset",
   "metadata": {},
   "source": [
    "# Python program to Sort the list in descending order"
   ]
  },
  {
   "cell_type": "code",
   "execution_count": 67,
   "id": "broad-potato",
   "metadata": {},
   "outputs": [
    {
     "name": "stdout",
     "output_type": "stream",
     "text": [
      "List before sorting: ['Apple', 'Cat', 'Zero', 'Rain', 'Joke', 'Mail']\n",
      "List after sorting: ['Zero', 'Rain', 'Mail', 'Joke', 'Cat', 'Apple']\n"
     ]
    }
   ],
   "source": [
    "l = [\"Apple\", \"Cat\", \"Zero\", \"Rain\", \"Joke\", \"Mail\"]\n",
    "print (\"List before sorting:\", l)\n",
    "l.sort(reverse = True)\n",
    "print (\"List after sorting:\", l)"
   ]
  },
  {
   "cell_type": "markdown",
   "id": "cheap-rolling",
   "metadata": {},
   "source": [
    "# Removes the item at the given index from the list and returns the removed item"
   ]
  },
  {
   "cell_type": "code",
   "execution_count": 38,
   "id": "continuing-terminology",
   "metadata": {},
   "outputs": [
    {
     "name": "stdout",
     "output_type": "stream",
     "text": [
      "['Apple', 'Cat', 'Zero', 'Rain', 'Joke', 'Mail']\n",
      "Enter the index number of the element you want to remove:4\n",
      "Item to remove: Joke\n",
      "List after removal of item: ['Apple', 'Cat', 'Zero', 'Rain', 'Mail']\n"
     ]
    }
   ],
   "source": [
    "l = [\"Apple\", \"Cat\", \"Zero\", \"Rain\", \"Joke\", \"Mail\"]\n",
    "print (l)\n",
    "index = int(input(\"Enter the index number of the element you want to remove:\"))\n",
    "print (\"Item to remove:\", l[index])\n",
    "del l[index]\n",
    "print (\"List after removal of item:\", l)"
   ]
  },
  {
   "cell_type": "markdown",
   "id": "comic-father",
   "metadata": {},
   "source": [
    "# Returns the number of times the specified element appears in the list"
   ]
  },
  {
   "cell_type": "code",
   "execution_count": 39,
   "id": "clinical-japan",
   "metadata": {},
   "outputs": [
    {
     "name": "stdout",
     "output_type": "stream",
     "text": [
      "Enter the element you want to count:Zero\n",
      "Number of times Zero appeared in the list: 1\n"
     ]
    }
   ],
   "source": [
    "l = [\"Apple\", \"Cat\", \"Zero\", \"Rain\", \"Joke\", \"Mail\", \"Apple\", \"Joke\"]\n",
    "ele = input(\"Enter the element you want to count:\")\n",
    "print (\"Number of times {} appeared in the list:\".format(ele), l.count(ele))"
   ]
  },
  {
   "cell_type": "markdown",
   "id": "human-music",
   "metadata": {},
   "source": [
    "# Access first characters in a string"
   ]
  },
  {
   "cell_type": "code",
   "execution_count": 40,
   "id": "successful-netscape",
   "metadata": {},
   "outputs": [
    {
     "name": "stdout",
     "output_type": "stream",
     "text": [
      "Enter a string:Srijan Misra\n",
      "First character of string: S\n"
     ]
    }
   ],
   "source": [
    "ele = input(\"Enter a string:\")\n",
    "print (\"First character of string:\", ele[0])"
   ]
  },
  {
   "cell_type": "markdown",
   "id": "injured-framework",
   "metadata": {},
   "source": [
    "# Access Last characters in a string"
   ]
  },
  {
   "cell_type": "code",
   "execution_count": 41,
   "id": "stylish-biotechnology",
   "metadata": {},
   "outputs": [
    {
     "name": "stdout",
     "output_type": "stream",
     "text": [
      "Enter a string:Srijan Misra\n",
      "Last character of string: a\n"
     ]
    }
   ],
   "source": [
    "ele = input(\"Enter a string:\")\n",
    "print (\"Last character of string:\", ele[-1])"
   ]
  },
  {
   "cell_type": "markdown",
   "id": "material-sussex",
   "metadata": {},
   "source": [
    "# Generate a list by list comprehension\n"
   ]
  },
  {
   "cell_type": "code",
   "execution_count": 42,
   "id": "ordinary-castle",
   "metadata": {},
   "outputs": [
    {
     "name": "stdout",
     "output_type": "stream",
     "text": [
      "[0, 1, 2, 3, 4]\n"
     ]
    }
   ],
   "source": [
    "new = [i for i in range(5)]\n",
    "print (new)"
   ]
  },
  {
   "cell_type": "markdown",
   "id": "isolated-coral",
   "metadata": {},
   "source": [
    "# Set the values in the new list to upper case"
   ]
  },
  {
   "cell_type": "code",
   "execution_count": 43,
   "id": "capital-works",
   "metadata": {},
   "outputs": [
    {
     "name": "stdout",
     "output_type": "stream",
     "text": [
      "Provided list: ['Apple', 'Cat', 'Zero', 'Rain', 'Joke', 'Mail']\n",
      "List in upper case: ['APPLE', 'CAT', 'ZERO', 'RAIN', 'JOKE', 'MAIL']\n"
     ]
    }
   ],
   "source": [
    "l = [\"Apple\", \"Cat\", \"Zero\", \"Rain\", \"Joke\", \"Mail\"]\n",
    "m = []\n",
    "print (\"Provided list:\", l)\n",
    "for i in l:\n",
    "    m.append(i.upper())\n",
    "print (\"List in upper case:\", m)"
   ]
  },
  {
   "cell_type": "markdown",
   "id": "seasonal-desire",
   "metadata": {},
   "source": [
    "# Sort the string list alphabetically"
   ]
  },
  {
   "cell_type": "code",
   "execution_count": 44,
   "id": "covered-welding",
   "metadata": {},
   "outputs": [
    {
     "name": "stdout",
     "output_type": "stream",
     "text": [
      "List before sorting: ['Apple', 'Cat', 'Zero', 'Rain', 'Joke', 'Mail']\n",
      "List after sorting: ['Apple', 'Cat', 'Joke', 'Mail', 'Rain', 'Zero']\n"
     ]
    }
   ],
   "source": [
    "l = [\"Apple\", \"Cat\", \"Zero\", \"Rain\", \"Joke\", \"Mail\"]\n",
    "print (\"List before sorting:\", l)\n",
    "l.sort()\n",
    "print (\"List after sorting:\", l)"
   ]
  },
  {
   "cell_type": "markdown",
   "id": "structured-liberal",
   "metadata": {},
   "source": [
    "# Join Two Sets"
   ]
  },
  {
   "cell_type": "code",
   "execution_count": 45,
   "id": "engaged-chick",
   "metadata": {},
   "outputs": [
    {
     "name": "stdout",
     "output_type": "stream",
     "text": [
      "Set 1: {1, 2, 4, 5, 6}\n",
      "Set 2: {8, 9, 7}\n",
      "Joining both the lists: {1, 2, 4, 5, 6, 7, 8, 9}\n"
     ]
    }
   ],
   "source": [
    "s1 = {1, 2, 4, 5, 6}\n",
    "s2 = {7, 8, 9}\n",
    "print (\"Set 1:\", s1)\n",
    "print (\"Set 2:\", s2)\n",
    "print (\"Joining both the lists:\", s1.union(s2))"
   ]
  },
  {
   "cell_type": "markdown",
   "id": "vital-creativity",
   "metadata": {},
   "source": [
    "# Keep only the items that are present in both sets"
   ]
  },
  {
   "cell_type": "code",
   "execution_count": 46,
   "id": "designed-moisture",
   "metadata": {},
   "outputs": [
    {
     "name": "stdout",
     "output_type": "stream",
     "text": [
      "Set 1: {1, 2, 4, 5, 6}\n",
      "Set 2: {5, 6, 7, 8, 9}\n",
      "Joining both the lists: {5, 6}\n"
     ]
    }
   ],
   "source": [
    "s1 = {1, 2, 4, 5, 6}\n",
    "s2 = {7, 8, 9, 5, 6}\n",
    "print (\"Set 1:\", s1)\n",
    "print (\"Set 2:\", s2)\n",
    "print (\"Joining both the lists:\", s1.intersection(s2))"
   ]
  },
  {
   "cell_type": "markdown",
   "id": "specialized-carrier",
   "metadata": {},
   "source": [
    "# Keep All items from List But NOT the Duplicates"
   ]
  },
  {
   "cell_type": "code",
   "execution_count": 47,
   "id": "norwegian-magnitude",
   "metadata": {},
   "outputs": [
    {
     "name": "stdout",
     "output_type": "stream",
     "text": [
      "List: ['Apple', 'Cat', 'Zero', 'Rain', 'Joke', 'Mail', 'Apple', 'Joke']\n",
      "After removing duplicates: ['Cat', 'Zero', 'Apple', 'Mail', 'Joke', 'Rain']\n"
     ]
    }
   ],
   "source": [
    "l = [\"Apple\", \"Cat\", \"Zero\", \"Rain\", \"Joke\", \"Mail\", \"Apple\", \"Joke\"]\n",
    "print (\"List:\", l)\n",
    "s = set(l)\n",
    "l = list(s)\n",
    "print (\"After removing duplicates:\", l)"
   ]
  },
  {
   "cell_type": "markdown",
   "id": "roman-block",
   "metadata": {},
   "source": [
    "# Create and print a dictionary\n"
   ]
  },
  {
   "cell_type": "code",
   "execution_count": 48,
   "id": "recreational-jaguar",
   "metadata": {},
   "outputs": [
    {
     "name": "stdout",
     "output_type": "stream",
     "text": [
      "Dictionary: {'Red': 7, 'Green': 5, 'Blue': 6, 'Black': 1, 'White': 2}\n"
     ]
    }
   ],
   "source": [
    "dic = {\"Red\" : 7, \"Green\" : 5, \"Blue\" : 6, \"Black\": 1, \"White\" : 2}\n",
    "print (\"Dictionary:\", dic)"
   ]
  },
  {
   "cell_type": "markdown",
   "id": "interpreted-adrian",
   "metadata": {},
   "source": [
    "# Calculate the length of dictionary\n"
   ]
  },
  {
   "cell_type": "code",
   "execution_count": 49,
   "id": "accredited-casino",
   "metadata": {},
   "outputs": [
    {
     "name": "stdout",
     "output_type": "stream",
     "text": [
      "Length of the dictionary: 5\n"
     ]
    }
   ],
   "source": [
    "dic = {\"Red\" : 7, \"Green\" : 5, \"Blue\" : 6, \"Black\": 1, \"White\" : 2}\n",
    "print (\"Length of the dictionary:\", len(dic))"
   ]
  },
  {
   "cell_type": "markdown",
   "id": "exceptional-missile",
   "metadata": {},
   "source": [
    "# Python Program to Find HCF or GCD\n"
   ]
  },
  {
   "cell_type": "code",
   "execution_count": 50,
   "id": "surface-cargo",
   "metadata": {},
   "outputs": [
    {
     "name": "stdout",
     "output_type": "stream",
     "text": [
      "Enter first number:123\n",
      "Enter second number:456\n",
      "HCF of 123 and 456 is: 3\n"
     ]
    }
   ],
   "source": [
    "num1 = int(input(\"Enter first number:\"))\n",
    "num2 = int(input(\"Enter second number:\"))\n",
    "if (num1 > num2):\n",
    "    smaller = num2\n",
    "elif (num2 > num1):\n",
    "    smaller = num1\n",
    "for i in range(1, smaller+1):\n",
    "    if ((num1 % i == 0) and (num2 % i == 0)):\n",
    "        hcf = i\n",
    "print (\"HCF of {} and {} is:\".format(num1, num2), hcf)"
   ]
  },
  {
   "cell_type": "markdown",
   "id": "considered-invalid",
   "metadata": {},
   "source": [
    "# Write a python function to find HCf or GCD and return the value\n"
   ]
  },
  {
   "cell_type": "code",
   "execution_count": 51,
   "id": "victorian-chocolate",
   "metadata": {},
   "outputs": [
    {
     "name": "stdout",
     "output_type": "stream",
     "text": [
      "Enter first number:34\n",
      "Enter second number:21\n",
      "HCF of 34 and 21 is: 1\n"
     ]
    }
   ],
   "source": [
    "def hcf(x, y):\n",
    "    if (x > y):\n",
    "        smaller = y\n",
    "    elif (y > x):\n",
    "        smaller = x\n",
    "    for i in range(1, smaller+1):\n",
    "        if ((x % i == 0) and (y % i == 0)):\n",
    "            hcf = i\n",
    "    return hcf\n",
    "\n",
    "num1 = int(input(\"Enter first number:\"))\n",
    "num2 = int(input(\"Enter second number:\"))\n",
    "print(\"HCF of {} and {} is:\".format(num1, num2), hcf(num1, num2))\n"
   ]
  },
  {
   "cell_type": "markdown",
   "id": "looking-dubai",
   "metadata": {},
   "source": [
    "# Write a python function to find HCf or GCD and return the value using euclidian Algorithm"
   ]
  },
  {
   "cell_type": "code",
   "execution_count": 52,
   "id": "colonial-owner",
   "metadata": {},
   "outputs": [
    {
     "name": "stdout",
     "output_type": "stream",
     "text": [
      "Enter first number:12\n",
      "Enter second number:123\n",
      "HCF of the numbers using Euclidean algorithm: 3\n"
     ]
    }
   ],
   "source": [
    "def euclidean(x, y):\n",
    "    while (y):\n",
    "        x, y = y, x % y\n",
    "    return x\n",
    "\n",
    "num1 = int(input(\"Enter first number:\"))\n",
    "num2 = int(input(\"Enter second number:\"))\n",
    "print (\"HCF of the numbers using Euclidean algorithm:\", euclidean(num1, num2))"
   ]
  },
  {
   "cell_type": "markdown",
   "id": "inside-breathing",
   "metadata": {},
   "source": [
    "# Write a python program to find HCf or GCD using euclidian Algorithm"
   ]
  },
  {
   "cell_type": "code",
   "execution_count": 53,
   "id": "ready-agriculture",
   "metadata": {},
   "outputs": [
    {
     "name": "stdout",
     "output_type": "stream",
     "text": [
      "Enter first number:45\n",
      "Enter second number:67\n",
      "HCF of the numbers using Euclidean algorithm: 1\n"
     ]
    }
   ],
   "source": [
    "num1 = int(input(\"Enter first number:\"))\n",
    "num2 = int(input(\"Enter second number:\"))\n",
    "while (num2):\n",
    "    num1, num2 = num2, num1 % num2\n",
    "    \n",
    "print (\"HCF of the numbers using Euclidean algorithm:\", num1)"
   ]
  },
  {
   "cell_type": "markdown",
   "id": "brilliant-novelty",
   "metadata": {},
   "source": [
    "# Python Program to Find LCM\n"
   ]
  },
  {
   "cell_type": "code",
   "execution_count": 54,
   "id": "neutral-thomson",
   "metadata": {},
   "outputs": [
    {
     "name": "stdout",
     "output_type": "stream",
     "text": [
      "Enter first number:34\n",
      "Enter second number:45\n",
      "LCM of 34 and 45 is: 1530\n"
     ]
    }
   ],
   "source": [
    "num1 = int(input(\"Enter first number:\"))\n",
    "num2 = int(input(\"Enter second number:\"))\n",
    "if (num1 > num2):\n",
    "    greater = num1\n",
    "else:\n",
    "    greater = num2\n",
    "while (True):\n",
    "    if ((greater % num1 == 0) and (greater % num2 == 0)):\n",
    "        lcm = greater\n",
    "        break\n",
    "    greater = greater + 1\n",
    "print (\"LCM of {} and {} is:\".format(num1, num2), lcm)"
   ]
  },
  {
   "cell_type": "markdown",
   "id": "stuffed-briefs",
   "metadata": {},
   "source": [
    "# Write a Python function to Find LCM and return the value\n"
   ]
  },
  {
   "cell_type": "code",
   "execution_count": 55,
   "id": "about-circus",
   "metadata": {},
   "outputs": [
    {
     "name": "stdout",
     "output_type": "stream",
     "text": [
      "Enter first number:45\n",
      "Enter second number:55\n",
      "LCM of 45 and 55 is: 495\n"
     ]
    }
   ],
   "source": [
    "def lcm(x, y):\n",
    "    if (x > y):\n",
    "        greater = x\n",
    "    else:\n",
    "        greater = y\n",
    "    while (True):\n",
    "        if ((greater % x == 0) and (greater % y == 0)):\n",
    "            lcm = greater\n",
    "            break\n",
    "        greater = greater + 1\n",
    "    return lcm\n",
    "\n",
    "num1 = int(input(\"Enter first number:\"))\n",
    "num2 = int(input(\"Enter second number:\"))\n",
    "print (\"LCM of {} and {} is:\".format(num1, num2), lcm(num1, num2))\n"
   ]
  },
  {
   "cell_type": "markdown",
   "id": "liquid-locator",
   "metadata": {},
   "source": [
    "# Python Program to Compute LCM Using GCD"
   ]
  },
  {
   "cell_type": "code",
   "execution_count": 56,
   "id": "hawaiian-invite",
   "metadata": {},
   "outputs": [
    {
     "name": "stdout",
     "output_type": "stream",
     "text": [
      "Enter first number:45\n",
      "Enter second number:56\n",
      "LCM of 45 and 56 is: 2520.0\n"
     ]
    }
   ],
   "source": [
    "def euclidean(x, y):\n",
    "    while (y):\n",
    "        x, y = y, x % y\n",
    "    return x\n",
    "\n",
    "def lcm(x, y):\n",
    "    return (x / euclidean(x, y)) * y\n",
    "\n",
    "num1 = int(input(\"Enter first number:\"))\n",
    "num2 = int(input(\"Enter second number:\"))\n",
    "print (\"LCM of {} and {} is:\".format(num1, num2), lcm(num1, num2))"
   ]
  },
  {
   "cell_type": "markdown",
   "id": "valued-restriction",
   "metadata": {},
   "source": [
    "# Python funcction to Find the Factors of a Number"
   ]
  },
  {
   "cell_type": "code",
   "execution_count": 58,
   "id": "hazardous-consent",
   "metadata": {},
   "outputs": [
    {
     "name": "stdout",
     "output_type": "stream",
     "text": [
      "Enter a number:33\n",
      "Factors of 33 are:\n",
      "1\n",
      "3\n",
      "11\n",
      "33\n"
     ]
    }
   ],
   "source": [
    "num = int(input(\"Enter a number:\"))\n",
    "print (\"Factors of {} are:\".format(num))\n",
    "for i in range (1, num + 1):\n",
    "    if (num % i == 0):\n",
    "        print (i)"
   ]
  },
  {
   "cell_type": "markdown",
   "id": "saved-while",
   "metadata": {},
   "source": [
    "# Python Program to Make a Simple Calculator"
   ]
  },
  {
   "cell_type": "code",
   "execution_count": 59,
   "id": "great-cathedral",
   "metadata": {},
   "outputs": [
    {
     "name": "stdout",
     "output_type": "stream",
     "text": [
      "Enter first number:45\n",
      "Enter sencond number:56\n",
      "Enter number corresponding to the operation you want to perform --\n",
      "1. Addition\n",
      "2. Subtraction\n",
      "3. Multiplication\n",
      "4. Division\n",
      "3\n",
      "Product of the numbers: 2520\n"
     ]
    }
   ],
   "source": [
    "def add(x, y):\n",
    "    return x + y\n",
    "\n",
    "def sub(x, y):\n",
    "    return x - y\n",
    "\n",
    "def mul(x, y):\n",
    "    return x * y\n",
    "\n",
    "def div(x, y):\n",
    "    return x / y\n",
    "\n",
    "num1 = int(input(\"Enter first number:\"))\n",
    "num2 = int(input(\"Enter sencond number:\"))\n",
    "q = '''Enter number corresponding to the operation you want to perform --\n",
    "1. Addition\n",
    "2. Subtraction\n",
    "3. Multiplication\n",
    "4. Division'''\n",
    "print (q)\n",
    "choice = int(input())\n",
    "if (choice == 1):\n",
    "    print (\"Sum of the numbers:\", add(num1, num2))\n",
    "elif (choice == 2):\n",
    "    print (\"Difference of the numbers:\", sub(num1, num2))\n",
    "elif (choice == 3):\n",
    "    print (\"Product of the numbers:\", mul(num1, num2))\n",
    "elif (choice == 4):\n",
    "    print (\"Divison of the numbers:\", div(num1, num2))\n",
    "else:\n",
    "    print (\"Invalid choice\")"
   ]
  },
  {
   "cell_type": "markdown",
   "id": "civil-arizona",
   "metadata": {},
   "source": [
    "# Python Program to Check Whether a String is Palindrome or Not"
   ]
  },
  {
   "cell_type": "code",
   "execution_count": 60,
   "id": "sporting-delicious",
   "metadata": {},
   "outputs": [
    {
     "name": "stdout",
     "output_type": "stream",
     "text": [
      "Enter a value:19\n",
      "Not a palindrome\n"
     ]
    }
   ],
   "source": [
    "val = input(\"Enter a value:\")\n",
    "flag = 1\n",
    "for i in val:\n",
    "    if (val == val[::-1]):\n",
    "        flag = 0\n",
    "    else:\n",
    "        flag = 1\n",
    "if (flag == 0):\n",
    "    print (\"It is a palindrome\")\n",
    "else:\n",
    "    print (\"Not a palindrome\")"
   ]
  },
  {
   "cell_type": "markdown",
   "id": "adapted-organ",
   "metadata": {},
   "source": [
    "# Python Program to Display Fibonacci Sequence Using Recursion"
   ]
  },
  {
   "cell_type": "code",
   "execution_count": 62,
   "id": "coated-basket",
   "metadata": {},
   "outputs": [
    {
     "name": "stdout",
     "output_type": "stream",
     "text": [
      "Enter the number upto which you want the series:10\n",
      "0\n",
      "1\n",
      "1\n",
      "2\n",
      "3\n",
      "5\n",
      "8\n",
      "13\n",
      "21\n",
      "34\n",
      "55\n"
     ]
    }
   ],
   "source": [
    "def fibonacci(n):\n",
    "    if n <= 1:\n",
    "        return n\n",
    "    else:\n",
    "        return (fibonacci(n - 1) + fibonacci(n - 2))\n",
    "    \n",
    "num = int(input(\"Enter the number upto which you want the series:\"))\n",
    "if num < 0:\n",
    "    print (\"Enter a positive number\")\n",
    "else:\n",
    "    for i in range(num+1):\n",
    "        print (fibonacci(i))\n"
   ]
  },
  {
   "cell_type": "markdown",
   "id": "ranking-remains",
   "metadata": {},
   "source": [
    "# Python Program to Find Sum of Natural Numbers Using Recursion\n"
   ]
  },
  {
   "cell_type": "code",
   "execution_count": 63,
   "id": "congressional-season",
   "metadata": {},
   "outputs": [
    {
     "name": "stdout",
     "output_type": "stream",
     "text": [
      "Enter a number upto which you want the sum:34\n",
      "Sum is: 595\n"
     ]
    }
   ],
   "source": [
    "def nsum(n):\n",
    "    if n <= 1:\n",
    "        return n\n",
    "    else:\n",
    "        return n + nsum(n - 1)\n",
    "\n",
    "num = int(input(\"Enter a number upto which you want the sum:\"))\n",
    "if (num < 0):\n",
    "    print (\"Enter a positive number\")\n",
    "else:\n",
    "    print (\"Sum is:\", nsum(num))"
   ]
  },
  {
   "cell_type": "markdown",
   "id": "planned-lincoln",
   "metadata": {},
   "source": [
    "# Python Program to Find Factorial of Number Using Recursion"
   ]
  },
  {
   "cell_type": "code",
   "execution_count": 64,
   "id": "liberal-magnet",
   "metadata": {},
   "outputs": [
    {
     "name": "stdout",
     "output_type": "stream",
     "text": [
      "Enter a number:32\n",
      "Factorial: 263130836933693530167218012160000000\n"
     ]
    }
   ],
   "source": [
    "def fact(n):\n",
    "    if (n == 1):\n",
    "        return n\n",
    "    else:\n",
    "        return n * fact(n - 1)\n",
    "num = int(input(\"Enter a number:\"))\n",
    "if (num < 0):\n",
    "    print (\"Factorial doesn't exists\")\n",
    "elif (num == 0):\n",
    "    print (\"Factorial is: 1\")\n",
    "else:\n",
    "    print (\"Factorial:\", fact(num))"
   ]
  },
  {
   "cell_type": "markdown",
   "id": "architectural-thirty",
   "metadata": {},
   "source": [
    "# Python Program to Add Two Matrices"
   ]
  },
  {
   "cell_type": "code",
   "execution_count": 65,
   "id": "accredited-occurrence",
   "metadata": {},
   "outputs": [
    {
     "name": "stdout",
     "output_type": "stream",
     "text": [
      "[17, 15, 4]\n",
      "[10, 12, 9]\n",
      "[11, 13, 18]\n"
     ]
    }
   ],
   "source": [
    "X = [[12,7,3],\n",
    "    [4 ,5,6],\n",
    "    [7 ,8,9]]\n",
    "\n",
    "Y = [[5,8,1],\n",
    "    [6,7,3],\n",
    "    [4,5,9]]\n",
    "\n",
    "result = [[0,0,0],\n",
    "         [0,0,0],\n",
    "         [0,0,0]]\n",
    "\n",
    "# iterate through rows\n",
    "for i in range(len(X)):\n",
    "   # iterate through columns\n",
    "   for j in range(len(X[0])):\n",
    "       result[i][j] = X[i][j] + Y[i][j]\n",
    "\n",
    "for r in result:\n",
    "   print(r)"
   ]
  },
  {
   "cell_type": "markdown",
   "id": "small-contrary",
   "metadata": {},
   "source": [
    "# Python Program to Add Two Matrices using Nested List Comprehension"
   ]
  },
  {
   "cell_type": "code",
   "execution_count": 66,
   "id": "alien-residence",
   "metadata": {},
   "outputs": [
    {
     "name": "stdout",
     "output_type": "stream",
     "text": [
      "[17, 15, 4]\n",
      "[10, 12, 9]\n",
      "[11, 13, 18]\n"
     ]
    }
   ],
   "source": [
    "X = [[12,7,3],\n",
    "    [4 ,5,6],\n",
    "    [7 ,8,9]]\n",
    "\n",
    "Y = [[5,8,1],\n",
    "    [6,7,3],\n",
    "    [4,5,9]]\n",
    "\n",
    "result = [[X[i][j] + Y[i][j]  for j in range(len(X[0]))] for i in range(len(X))]\n",
    "\n",
    "for r in result:\n",
    "   print(r)"
   ]
  }
 ],
 "metadata": {
  "kernelspec": {
   "display_name": "Python 3",
   "language": "python",
   "name": "python3"
  }
 },
 "nbformat": 4,
 "nbformat_minor": 5
}
