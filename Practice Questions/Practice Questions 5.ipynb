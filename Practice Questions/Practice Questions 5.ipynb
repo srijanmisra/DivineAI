{
 "cells": [
  {
   "cell_type": "markdown",
   "id": "considerable-empire",
   "metadata": {},
   "source": [
    " # WAP to print table of n, where n is entered by the user\n"
   ]
  },
  {
   "cell_type": "code",
   "execution_count": 1,
   "id": "immune-candle",
   "metadata": {},
   "outputs": [
    {
     "name": "stdout",
     "output_type": "stream",
     "text": [
      "Enter a number:3\n",
      "3 x 1 = 3\n",
      "3 x 2 = 6\n",
      "3 x 3 = 9\n",
      "3 x 4 = 12\n",
      "3 x 5 = 15\n",
      "3 x 6 = 18\n",
      "3 x 7 = 21\n",
      "3 x 8 = 24\n",
      "3 x 9 = 27\n",
      "3 x 10 = 30\n"
     ]
    }
   ],
   "source": [
    "n = int(input(\"Enter a number:\"))\n",
    "for i in range (1, 11):\n",
    "    print (n, \"x\", i, \"=\", n * i)"
   ]
  },
  {
   "cell_type": "markdown",
   "id": "purple-while",
   "metadata": {},
   "source": [
    "# WAP to print sum of n natural numbers, where n is entered by the user"
   ]
  },
  {
   "cell_type": "code",
   "execution_count": 2,
   "id": "unsigned-award",
   "metadata": {},
   "outputs": [
    {
     "name": "stdout",
     "output_type": "stream",
     "text": [
      "Enter a number:45\n",
      "Sum of 45 natural numbers is: 1035\n"
     ]
    }
   ],
   "source": [
    "n = int(input(\"Enter a number:\"))\n",
    "sum_1 = 0\n",
    "for i in range (1, n+1):\n",
    "    sum_1 = sum_1 + i\n",
    "print (\"Sum of {} natural numbers is:\".format(n), sum_1)"
   ]
  },
  {
   "cell_type": "markdown",
   "id": "southeast-haiti",
   "metadata": {},
   "source": [
    "# WAP to print the factorial of the given number, where number is entered by the user\n"
   ]
  },
  {
   "cell_type": "code",
   "execution_count": 3,
   "id": "cubic-afghanistan",
   "metadata": {},
   "outputs": [
    {
     "name": "stdout",
     "output_type": "stream",
     "text": [
      "Enter a number:23\n",
      "Factorial is : 25852016738884976640000\n"
     ]
    }
   ],
   "source": [
    "n = int(input(\"Enter a number:\"))\n",
    "fact = 1\n",
    "if (n == 0):\n",
    "    print (\"Factorial is: 0\")\n",
    "elif (n == 1):\n",
    "    print (\"Factorial is: 1\")\n",
    "else:\n",
    "    for i in range (1, n+1):\n",
    "        fact = fact * i\n",
    "    print (\"Factorial is :\", fact)"
   ]
  },
  {
   "cell_type": "markdown",
   "id": "announced-absorption",
   "metadata": {},
   "source": [
    "# WAP to input sales of the month and calculate the average sales of that month\n"
   ]
  },
  {
   "cell_type": "code",
   "execution_count": 4,
   "id": "embedded-greek",
   "metadata": {},
   "outputs": [
    {
     "name": "stdout",
     "output_type": "stream",
     "text": [
      "Enter number of days in the month:31\n",
      "Enter sales of day 1 :45\n",
      "Enter sales of day 2 :32\n",
      "Enter sales of day 3 :67\n",
      "Enter sales of day 4 :32\n",
      "Enter sales of day 5 :44\n",
      "Enter sales of day 6 :78\n",
      "Enter sales of day 7 :12\n",
      "Enter sales of day 8 :109\n",
      "Enter sales of day 9 :21\n",
      "Enter sales of day 10 :34\n",
      "Enter sales of day 11 :55\n",
      "Enter sales of day 12 :67\n",
      "Enter sales of day 13 :78\n",
      "Enter sales of day 14 :89\n",
      "Enter sales of day 15 :98\n",
      "Enter sales of day 16 :97\n",
      "Enter sales of day 17 :45\n",
      "Enter sales of day 18 :21\n",
      "Enter sales of day 19 :21\n",
      "Enter sales of day 20 :23\n",
      "Enter sales of day 21 :24\n",
      "Enter sales of day 22 :25\n",
      "Enter sales of day 23 :20\n",
      "Enter sales of day 24 :209\n",
      "Enter sales of day 25 :167\n",
      "Enter sales of day 26 :66\n",
      "Enter sales of day 27 :78\n",
      "Enter sales of day 28 :98\n",
      "Enter sales of day 29 :87\n",
      "Enter sales of day 30 :88\n",
      "Enter sales of day 31 :12\n",
      "Average sales of the month: 62.645161290322584\n"
     ]
    }
   ],
   "source": [
    "n = int(input(\"Enter number of days in the month:\"))\n",
    "l = []\n",
    "\n",
    "for i in range (1, n+1):\n",
    "    sale = int(input(\"Enter sales of day {} :\".format(i)))\n",
    "    l.append(sale)\n",
    "sum_1 = sum(l)\n",
    "avg = sum_1 / n\n",
    "print (\"Average sales of the month:\", avg)"
   ]
  },
  {
   "cell_type": "markdown",
   "id": "hazardous-pickup",
   "metadata": {},
   "source": [
    "# Print all the prime numbers within a user defined range"
   ]
  },
  {
   "cell_type": "code",
   "execution_count": 5,
   "id": "revised-borough",
   "metadata": {},
   "outputs": [
    {
     "name": "stdout",
     "output_type": "stream",
     "text": [
      "Enter the lower limit:23\n",
      "Enter the upper limit:34\n",
      "23\n",
      "29\n",
      "31\n"
     ]
    }
   ],
   "source": [
    "low = int(input(\"Enter the lower limit:\"))\n",
    "up = int(input(\"Enter the upper limit:\"))\n",
    "for num in range (low, up+1):\n",
    "    if (num > 1):\n",
    "        for i in range (2, num):\n",
    "            if (num % i == 0):\n",
    "                break\n",
    "        else:\n",
    "            print (num)"
   ]
  },
  {
   "cell_type": "markdown",
   "id": "subsequent-session",
   "metadata": {},
   "source": [
    "# Our juniors has just entered in coding community. Their first task is to find the frequency of Best numbers present in given list of elements. Best numbers are numbers which are divisible by 2."
   ]
  },
  {
   "cell_type": "code",
   "execution_count": 10,
   "id": "damaged-tours",
   "metadata": {},
   "outputs": [
    {
     "name": "stdout",
     "output_type": "stream",
     "text": [
      "No. of test cases:3\n",
      "No. of elements to be inserted:2\n",
      "Element:23\n",
      "Element:45\n",
      "No. of elements to be inserted:3\n",
      "Element:2\n",
      "Element:4\n",
      "Element:6\n",
      "No. of elements to be inserted:1\n",
      "Element:22\n",
      "4\n",
      "4\n"
     ]
    }
   ],
   "source": [
    "n = int(input(\"No. of test cases:\"))\n",
    "l = []\n",
    "count = 0\n",
    "count_1 = 0\n",
    "for i in range (n):\n",
    "    a = int(input(\"No. of elements to be inserted:\"))\n",
    "    for k in range (a):\n",
    "        b = int(input(\"Element:\"))\n",
    "        l.append(b)\n",
    "        if b % 2 == 0:\n",
    "            count_1 = count_1 + 1\n",
    "    \n",
    "for j in l:\n",
    "    if j % 2 == 0:\n",
    "        count = count + 1\n",
    "            \n",
    "\n",
    "            \n",
    "print (count_1)\n",
    "print (count)"
   ]
  },
  {
   "cell_type": "markdown",
   "id": "electoral-cowboy",
   "metadata": {},
   "source": [
    "# CALCULATE THE TOTAL NUMBERS WHICH ARE DIVISBLE BY 10 "
   ]
  },
  {
   "cell_type": "code",
   "execution_count": 13,
   "id": "latin-newspaper",
   "metadata": {},
   "outputs": [
    {
     "name": "stdout",
     "output_type": "stream",
     "text": [
      "No. of test cases:2\n",
      "No. of elements to be inserted:4\n",
      "Element:10\n",
      "Element:20\n",
      "Element:33\n",
      "Element:44\n",
      "No. of elements to be inserted:1\n",
      "Element:109\n",
      "NUMBERS DIVISIBLE BY 10 are:-  2\n"
     ]
    }
   ],
   "source": [
    "n = int(input(\"No. of test cases:\"))\n",
    "l = []\n",
    "count = 0\n",
    "for i in range (n):\n",
    "    a = int(input(\"No. of elements to be inserted:\"))\n",
    "    for k in range (a):\n",
    "        b = int(input(\"Element:\"))\n",
    "        d = b % 10\n",
    "        if d == 0:\n",
    "            l.append(b)\n",
    "print (\"NUMBERS DIVISIBLE BY 10 are:- \",len(l))"
   ]
  },
  {
   "cell_type": "code",
   "execution_count": null,
   "id": "effective-office",
   "metadata": {},
   "outputs": [],
   "source": []
  }
 ],
 "metadata": {
  "kernelspec": {
   "display_name": "Python 3",
   "language": "python",
   "name": "python3"
  }
 },
 "nbformat": 4,
 "nbformat_minor": 5
}
