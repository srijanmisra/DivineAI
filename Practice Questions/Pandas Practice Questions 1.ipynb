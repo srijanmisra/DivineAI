{
 "cells": [
  {
   "cell_type": "markdown",
   "id": "tough-infrastructure",
   "metadata": {},
   "source": [
    "# Reading a csv file using pandas"
   ]
  },
  {
   "cell_type": "code",
   "execution_count": 59,
   "id": "natural-straight",
   "metadata": {},
   "outputs": [
    {
     "data": {
      "text/html": [
       "<div>\n",
       "<style scoped>\n",
       "    .dataframe tbody tr th:only-of-type {\n",
       "        vertical-align: middle;\n",
       "    }\n",
       "\n",
       "    .dataframe tbody tr th {\n",
       "        vertical-align: top;\n",
       "    }\n",
       "\n",
       "    .dataframe thead th {\n",
       "        text-align: right;\n",
       "    }\n",
       "</style>\n",
       "<table border=\"1\" class=\"dataframe\">\n",
       "  <thead>\n",
       "    <tr style=\"text-align: right;\">\n",
       "      <th></th>\n",
       "      <th>Date</th>\n",
       "      <th>Open</th>\n",
       "      <th>High</th>\n",
       "      <th>Low</th>\n",
       "      <th>Close</th>\n",
       "      <th>Volume</th>\n",
       "      <th>Adj Close</th>\n",
       "    </tr>\n",
       "  </thead>\n",
       "  <tbody>\n",
       "    <tr>\n",
       "      <th>0</th>\n",
       "      <td>2014-03-03</td>\n",
       "      <td>523.42</td>\n",
       "      <td>549.00</td>\n",
       "      <td>522.81</td>\n",
       "      <td>536.74</td>\n",
       "      <td>8791300</td>\n",
       "      <td>536.74</td>\n",
       "    </tr>\n",
       "    <tr>\n",
       "      <th>1</th>\n",
       "      <td>2014-02-03</td>\n",
       "      <td>502.61</td>\n",
       "      <td>551.19</td>\n",
       "      <td>499.30</td>\n",
       "      <td>526.24</td>\n",
       "      <td>11752500</td>\n",
       "      <td>526.24</td>\n",
       "    </tr>\n",
       "    <tr>\n",
       "      <th>2</th>\n",
       "      <td>2014-01-02</td>\n",
       "      <td>555.68</td>\n",
       "      <td>560.20</td>\n",
       "      <td>493.55</td>\n",
       "      <td>500.60</td>\n",
       "      <td>15698500</td>\n",
       "      <td>497.62</td>\n",
       "    </tr>\n",
       "    <tr>\n",
       "      <th>3</th>\n",
       "      <td>2013-12-02</td>\n",
       "      <td>558.00</td>\n",
       "      <td>575.14</td>\n",
       "      <td>538.80</td>\n",
       "      <td>561.02</td>\n",
       "      <td>12382100</td>\n",
       "      <td>557.68</td>\n",
       "    </tr>\n",
       "    <tr>\n",
       "      <th>4</th>\n",
       "      <td>2013-11-01</td>\n",
       "      <td>524.02</td>\n",
       "      <td>558.33</td>\n",
       "      <td>512.38</td>\n",
       "      <td>556.07</td>\n",
       "      <td>9898700</td>\n",
       "      <td>552.76</td>\n",
       "    </tr>\n",
       "    <tr>\n",
       "      <th>...</th>\n",
       "      <td>...</td>\n",
       "      <td>...</td>\n",
       "      <td>...</td>\n",
       "      <td>...</td>\n",
       "      <td>...</td>\n",
       "      <td>...</td>\n",
       "      <td>...</td>\n",
       "    </tr>\n",
       "    <tr>\n",
       "      <th>106</th>\n",
       "      <td>2005-05-02</td>\n",
       "      <td>36.21</td>\n",
       "      <td>40.94</td>\n",
       "      <td>33.11</td>\n",
       "      <td>39.76</td>\n",
       "      <td>22555200</td>\n",
       "      <td>38.22</td>\n",
       "    </tr>\n",
       "    <tr>\n",
       "      <th>107</th>\n",
       "      <td>2005-04-01</td>\n",
       "      <td>42.09</td>\n",
       "      <td>44.45</td>\n",
       "      <td>34.00</td>\n",
       "      <td>36.06</td>\n",
       "      <td>34093700</td>\n",
       "      <td>34.66</td>\n",
       "    </tr>\n",
       "    <tr>\n",
       "      <th>108</th>\n",
       "      <td>2005-03-01</td>\n",
       "      <td>44.99</td>\n",
       "      <td>45.11</td>\n",
       "      <td>38.83</td>\n",
       "      <td>41.67</td>\n",
       "      <td>24857200</td>\n",
       "      <td>40.05</td>\n",
       "    </tr>\n",
       "    <tr>\n",
       "      <th>109</th>\n",
       "      <td>2005-02-01</td>\n",
       "      <td>77.05</td>\n",
       "      <td>90.88</td>\n",
       "      <td>43.96</td>\n",
       "      <td>44.86</td>\n",
       "      <td>41542400</td>\n",
       "      <td>43.12</td>\n",
       "    </tr>\n",
       "    <tr>\n",
       "      <th>110</th>\n",
       "      <td>2005-01-03</td>\n",
       "      <td>64.78</td>\n",
       "      <td>77.89</td>\n",
       "      <td>62.60</td>\n",
       "      <td>76.90</td>\n",
       "      <td>48909500</td>\n",
       "      <td>36.96</td>\n",
       "    </tr>\n",
       "  </tbody>\n",
       "</table>\n",
       "<p>111 rows × 7 columns</p>\n",
       "</div>"
      ],
      "text/plain": [
       "           Date    Open    High     Low   Close    Volume  Adj Close\n",
       "0    2014-03-03  523.42  549.00  522.81  536.74   8791300     536.74\n",
       "1    2014-02-03  502.61  551.19  499.30  526.24  11752500     526.24\n",
       "2    2014-01-02  555.68  560.20  493.55  500.60  15698500     497.62\n",
       "3    2013-12-02  558.00  575.14  538.80  561.02  12382100     557.68\n",
       "4    2013-11-01  524.02  558.33  512.38  556.07   9898700     552.76\n",
       "..          ...     ...     ...     ...     ...       ...        ...\n",
       "106  2005-05-02   36.21   40.94   33.11   39.76  22555200      38.22\n",
       "107  2005-04-01   42.09   44.45   34.00   36.06  34093700      34.66\n",
       "108  2005-03-01   44.99   45.11   38.83   41.67  24857200      40.05\n",
       "109  2005-02-01   77.05   90.88   43.96   44.86  41542400      43.12\n",
       "110  2005-01-03   64.78   77.89   62.60   76.90  48909500      36.96\n",
       "\n",
       "[111 rows x 7 columns]"
      ]
     },
     "execution_count": 59,
     "metadata": {},
     "output_type": "execute_result"
    }
   ],
   "source": [
    "import pandas as pd\n",
    "data = pd.read_csv('Apple.csv')\n",
    "# Displaying the csv file\n",
    "data"
   ]
  },
  {
   "cell_type": "markdown",
   "id": "nutritional-martial",
   "metadata": {},
   "source": [
    "# To get the starting & ending index along with step size"
   ]
  },
  {
   "cell_type": "code",
   "execution_count": 5,
   "id": "similar-rapid",
   "metadata": {},
   "outputs": [
    {
     "data": {
      "text/plain": [
       "RangeIndex(start=0, stop=111, step=1)"
      ]
     },
     "execution_count": 5,
     "metadata": {},
     "output_type": "execute_result"
    }
   ],
   "source": [
    "data.index"
   ]
  },
  {
   "cell_type": "markdown",
   "id": "immediate-detroit",
   "metadata": {},
   "source": [
    "# To get the descriptive statistics\n"
   ]
  },
  {
   "cell_type": "code",
   "execution_count": 6,
   "id": "searching-maldives",
   "metadata": {},
   "outputs": [
    {
     "data": {
      "text/plain": [
       "<bound method NDFrame.describe of            Date    Open    High     Low   Close    Volume  Adj Close\n",
       "0    2014-03-03  523.42  549.00  522.81  536.74   8791300     536.74\n",
       "1    2014-02-03  502.61  551.19  499.30  526.24  11752500     526.24\n",
       "2    2014-01-02  555.68  560.20  493.55  500.60  15698500     497.62\n",
       "3    2013-12-02  558.00  575.14  538.80  561.02  12382100     557.68\n",
       "4    2013-11-01  524.02  558.33  512.38  556.07   9898700     552.76\n",
       "..          ...     ...     ...     ...     ...       ...        ...\n",
       "106  2005-05-02   36.21   40.94   33.11   39.76  22555200      38.22\n",
       "107  2005-04-01   42.09   44.45   34.00   36.06  34093700      34.66\n",
       "108  2005-03-01   44.99   45.11   38.83   41.67  24857200      40.05\n",
       "109  2005-02-01   77.05   90.88   43.96   44.86  41542400      43.12\n",
       "110  2005-01-03   64.78   77.89   62.60   76.90  48909500      36.96\n",
       "\n",
       "[111 rows x 7 columns]>"
      ]
     },
     "execution_count": 6,
     "metadata": {},
     "output_type": "execute_result"
    }
   ],
   "source": [
    "data.describe"
   ]
  },
  {
   "cell_type": "markdown",
   "id": "graphic-zoning",
   "metadata": {},
   "source": [
    "# To get the numpy representation of a dataframe\n",
    "# Only the values in the dataframe is displayed, the label name is removed"
   ]
  },
  {
   "cell_type": "code",
   "execution_count": 7,
   "id": "administrative-kitchen",
   "metadata": {},
   "outputs": [
    {
     "data": {
      "text/plain": [
       "array([['2014-03-03', 523.42, 549.0, 522.81, 536.74, 8791300, 536.74],\n",
       "       ['2014-02-03', 502.61, 551.19, 499.3, 526.24, 11752500, 526.24],\n",
       "       ['2014-01-02', 555.68, 560.2, 493.55, 500.6, 15698500, 497.62],\n",
       "       ['2013-12-02', 558.0, 575.14, 538.8, 561.02, 12382100, 557.68],\n",
       "       ['2013-11-01', 524.02, 558.33, 512.38, 556.07, 9898700, 552.76],\n",
       "       ['2013-10-01', 478.45, 539.25, 478.28, 522.7, 12598400, 516.57],\n",
       "       ['2013-09-03', 493.1, 507.92, 447.22, 476.75, 15876900, 471.16],\n",
       "       ['2013-08-01', 455.75, 513.74, 453.26, 487.22, 13523700, 481.51],\n",
       "       ['2013-07-01', 402.69, 457.34, 401.22, 452.53, 11138100, 444.29],\n",
       "       ['2013-06-03', 450.73, 454.43, 388.87, 396.53, 13566100, 389.31],\n",
       "       ['2013-05-01', 444.46, 465.75, 418.9, 449.73, 15960700, 441.54],\n",
       "       ['2013-04-01', 441.9, 445.25, 385.1, 442.78, 18920500, 431.86],\n",
       "       ['2013-03-01', 438.0, 469.95, 419.0, 442.66, 17178000, 431.74],\n",
       "       ['2013-02-01', 459.11, 484.94, 437.66, 441.4, 18170200, 430.52],\n",
       "       ['2013-01-02', 553.82, 555.0, 435.0, 455.49, 22861800, 441.68],\n",
       "       ['2012-12-03', 593.65, 594.59, 501.23, 532.17, 22843200, 516.04],\n",
       "       ['2012-11-01', 598.22, 603.0, 505.75, 585.28, 22655000, 567.54],\n",
       "       ['2012-10-01', 671.16, 676.75, 587.7, 595.32, 21518400, 574.65],\n",
       "       ['2012-09-04', 665.76, 705.07, 656.0, 667.1, 18297200, 643.94],\n",
       "       ['2012-08-01', 615.91, 680.87, 600.25, 665.24, 13376500, 642.14],\n",
       "       ['2012-07-02', 584.73, 619.87, 570.0, 610.76, 15938700, 587.03],\n",
       "       ['2012-06-01', 569.16, 590.0, 548.5, 584.0, 14077000, 561.31],\n",
       "       ['2012-05-01', 584.9, 596.76, 522.18, 577.73, 18827900, 555.29],\n",
       "       ['2012-04-02', 601.83, 644.0, 555.0, 583.98, 28759100, 561.29],\n",
       "       ['2012-03-01', 548.17, 621.45, 516.22, 599.55, 26486000, 576.26],\n",
       "       ['2012-02-01', 458.41, 547.61, 453.98, 542.44, 22001000, 521.37],\n",
       "       ['2012-01-03', 409.4, 458.24, 409.0, 456.48, 12949100, 438.75],\n",
       "       ['2011-12-01', 382.54, 409.09, 377.68, 405.0, 11030900, 389.27],\n",
       "       ['2011-11-01', 397.41, 408.0, 363.32, 382.2, 15936300, 367.35],\n",
       "       ['2011-10-03', 380.37, 426.7, 354.24, 404.78, 23004900, 389.06],\n",
       "       ['2011-09-01', 385.82, 422.86, 366.48, 381.32, 21301100, 366.51],\n",
       "       ['2011-08-01', 397.78, 399.5, 353.02, 384.83, 25877600, 369.88],\n",
       "       ['2011-07-01', 335.95, 404.5, 334.2, 390.48, 20155000, 375.31],\n",
       "       ['2011-06-01', 348.87, 352.13, 310.5, 335.67, 15563200, 322.63],\n",
       "       ['2011-05-02', 349.74, 351.83, 329.42, 347.83, 12465600, 334.32],\n",
       "       ['2011-04-01', 351.11, 355.13, 320.16, 350.13, 18321700, 336.53],\n",
       "       ['2011-03-01', 355.47, 361.67, 326.26, 348.51, 17982100, 334.97],\n",
       "       ['2011-02-01', 341.3, 364.9, 337.72, 353.21, 18231200, 339.49],\n",
       "       ['2011-01-03', 325.64, 348.6, 324.84, 339.32, 20033500, 326.14],\n",
       "       ['2010-12-01', 315.27, 326.66, 314.89, 322.56, 11634300, 310.03],\n",
       "       ['2010-11-01', 302.22, 321.3, 297.76, 311.15, 17023700, 299.06],\n",
       "       ['2010-10-01', 286.15, 319.0, 277.77, 300.98, 21539200, 289.29],\n",
       "       ['2010-09-01', 247.47, 294.73, 246.28, 283.75, 21298100, 272.73],\n",
       "       ['2010-08-02', 260.44, 264.28, 235.56, 243.1, 16249800, 233.66],\n",
       "       ['2010-07-01', 254.3, 265.99, 239.6, 257.25, 27411400, 247.26],\n",
       "       ['2010-06-01', 259.69, 279.01, 242.2, 251.53, 28231600, 241.76],\n",
       "       ['2010-05-03', 263.84, 267.88, 199.25, 256.88, 33746900, 246.9],\n",
       "       ['2010-04-01', 237.41, 272.46, 232.75, 261.09, 21955000, 250.95],\n",
       "       ['2010-03-01', 205.75, 237.48, 205.45, 235.0, 19541600, 225.87],\n",
       "       ['2010-02-01', 192.37, 205.17, 190.85, 204.62, 21209600, 196.67],\n",
       "       ['2010-01-04', 213.43, 215.59, 190.25, 192.06, 30855100, 184.6],\n",
       "       ['2009-12-01', 202.24, 213.95, 188.68, 210.73, 19068700, 202.54],\n",
       "       ['2009-11-02', 189.8, 208.0, 185.57, 199.91, 15856500, 192.14],\n",
       "       ['2009-10-01', 185.35, 208.71, 180.7, 188.5, 22197500, 181.18],\n",
       "       ['2009-09-01', 167.99, 188.9, 164.11, 185.35, 17906300, 178.15],\n",
       "       ['2009-08-03', 165.21, 172.49, 159.42, 168.21, 14415700, 161.68],\n",
       "       ['2009-07-01', 143.5, 165.0, 134.42, 163.39, 18449100, 157.04],\n",
       "       ['2009-06-01', 136.47, 146.4, 132.88, 142.43, 21282100, 136.9],\n",
       "       ['2009-05-01', 125.8, 135.9, 119.38, 135.81, 17702900, 130.53],\n",
       "       ['2009-04-01', 104.09, 127.2, 103.89, 125.83, 20952600, 120.94],\n",
       "       ['2009-03-02', 88.12, 109.98, 82.33, 105.12, 25963400, 101.04],\n",
       "       ['2009-02-02', 89.1, 103.0, 86.51, 89.31, 27394900, 85.84],\n",
       "       ['2009-01-02', 85.88, 97.17, 78.2, 90.13, 33487900, 86.63],\n",
       "       ['2008-12-01', 91.3, 103.6, 84.55, 85.35, 33800900, 82.03],\n",
       "       ['2008-11-03', 105.93, 111.79, 79.14, 92.67, 44957200, 89.07],\n",
       "       ['2008-10-01', 111.92, 116.4, 85.0, 107.59, 66902300, 103.41],\n",
       "       ['2008-09-02', 172.4, 173.5, 100.59, 113.66, 43697600, 109.24],\n",
       "       ['2008-08-01', 159.9, 180.45, 152.91, 169.53, 23273800, 162.94],\n",
       "       ['2008-07-01', 164.23, 180.91, 146.53, 158.95, 33096200, 152.78],\n",
       "       ['2008-06-02', 188.6, 189.95, 164.15, 167.44, 34281100, 160.94],\n",
       "       ['2008-05-01', 174.96, 192.24, 172.0, 188.75, 32650300, 181.42],\n",
       "       ['2008-04-01', 146.3, 180.0, 143.61, 173.95, 38841700, 167.19],\n",
       "       ['2008-03-03', 124.44, 145.74, 118.0, 143.5, 42313100, 137.93],\n",
       "       ['2008-02-01', 136.24, 136.59, 115.44, 125.02, 46645400, 120.16],\n",
       "       ['2008-01-02', 199.27, 200.26, 126.14, 135.36, 62108100, 130.1],\n",
       "       ['2007-12-03', 181.86, 202.96, 176.99, 198.08, 31771400, 190.39],\n",
       "       ['2007-11-01', 188.6, 192.68, 150.63, 182.22, 46553700, 175.14],\n",
       "       ['2007-10-01', 154.63, 190.12, 152.93, 189.95, 37438400, 182.57],\n",
       "       ['2007-09-04', 139.94, 155.0, 130.0, 153.47, 40500600, 147.51],\n",
       "       ['2007-08-01', 133.64, 139.65, 111.62, 138.48, 39188900, 133.1],\n",
       "       ['2007-07-02', 121.05, 148.92, 119.3, 131.76, 43845100, 126.64],\n",
       "       ['2007-06-01', 121.1, 127.61, 115.4, 122.04, 41526100, 117.3],\n",
       "       ['2007-05-01', 99.59, 122.17, 98.55, 121.19, 30295600, 116.48],\n",
       "       ['2007-04-02', 94.14, 102.5, 89.6, 99.8, 25136100, 95.92],\n",
       "       ['2007-03-01', 84.03, 96.83, 83.75, 92.91, 26816800, 89.3],\n",
       "       ['2007-02-01', 86.23, 90.81, 82.86, 84.61, 27522200, 81.32],\n",
       "       ['2007-01-03', 86.29, 97.8, 81.9, 85.73, 50117500, 82.4],\n",
       "       ['2006-12-01', 91.8, 92.33, 76.77, 84.84, 32084300, 81.54],\n",
       "       ['2006-11-01', 81.1, 93.16, 77.79, 91.66, 25009100, 88.1],\n",
       "       ['2006-10-02', 75.1, 82.6, 72.6, 81.08, 24171100, 77.93],\n",
       "       ['2006-09-01', 68.48, 77.78, 67.82, 76.98, 32370300, 73.99],\n",
       "       ['2006-08-01', 67.22, 70.0, 62.58, 67.85, 28668200, 65.21],\n",
       "       ['2006-07-03', 57.52, 68.63, 50.16, 67.96, 32808100, 65.32],\n",
       "       ['2006-06-01', 59.85, 63.1, 55.41, 57.27, 30318700, 55.05],\n",
       "       ['2006-05-01', 70.77, 73.8, 58.69, 59.77, 27418400, 57.45],\n",
       "       ['2006-04-03', 63.67, 72.05, 61.05, 70.39, 39246800, 67.66],\n",
       "       ['2006-03-01', 68.84, 69.99, 57.67, 62.72, 37277000, 60.28],\n",
       "       ['2006-02-01', 74.95, 76.46, 62.9, 68.49, 37646000, 65.83],\n",
       "       ['2006-01-03', 72.38, 86.4, 70.87, 75.51, 40699800, 72.58],\n",
       "       ['2005-12-01', 68.95, 75.46, 68.81, 71.89, 23279600, 69.1],\n",
       "       ['2005-11-01', 57.24, 71.07, 56.87, 67.82, 23898100, 65.19],\n",
       "       ['2005-10-03', 54.16, 57.98, 47.87, 57.59, 33306600, 55.35],\n",
       "       ['2005-09-01', 47.0, 54.56, 46.09, 53.61, 21903700, 51.53],\n",
       "       ['2005-08-01', 42.57, 48.33, 42.02, 46.89, 15223200, 45.07],\n",
       "       ['2005-07-01', 36.83, 44.38, 36.29, 42.65, 19029100, 40.99],\n",
       "       ['2005-06-01', 39.89, 40.76, 35.52, 36.81, 19067500, 35.38],\n",
       "       ['2005-05-02', 36.21, 40.94, 33.11, 39.76, 22555200, 38.22],\n",
       "       ['2005-04-01', 42.09, 44.45, 34.0, 36.06, 34093700, 34.66],\n",
       "       ['2005-03-01', 44.99, 45.11, 38.83, 41.67, 24857200, 40.05],\n",
       "       ['2005-02-01', 77.05, 90.88, 43.96, 44.86, 41542400, 43.12],\n",
       "       ['2005-01-03', 64.78, 77.89, 62.6, 76.9, 48909500, 36.96]],\n",
       "      dtype=object)"
      ]
     },
     "execution_count": 7,
     "metadata": {},
     "output_type": "execute_result"
    }
   ],
   "source": [
    "data.values"
   ]
  },
  {
   "cell_type": "markdown",
   "id": "perfect-webmaster",
   "metadata": {},
   "source": [
    "# To get the top 'n' values from the dataframe"
   ]
  },
  {
   "cell_type": "code",
   "execution_count": 8,
   "id": "explicit-magic",
   "metadata": {},
   "outputs": [
    {
     "data": {
      "text/html": [
       "<div>\n",
       "<style scoped>\n",
       "    .dataframe tbody tr th:only-of-type {\n",
       "        vertical-align: middle;\n",
       "    }\n",
       "\n",
       "    .dataframe tbody tr th {\n",
       "        vertical-align: top;\n",
       "    }\n",
       "\n",
       "    .dataframe thead th {\n",
       "        text-align: right;\n",
       "    }\n",
       "</style>\n",
       "<table border=\"1\" class=\"dataframe\">\n",
       "  <thead>\n",
       "    <tr style=\"text-align: right;\">\n",
       "      <th></th>\n",
       "      <th>Date</th>\n",
       "      <th>Open</th>\n",
       "      <th>High</th>\n",
       "      <th>Low</th>\n",
       "      <th>Close</th>\n",
       "      <th>Volume</th>\n",
       "      <th>Adj Close</th>\n",
       "    </tr>\n",
       "  </thead>\n",
       "  <tbody>\n",
       "    <tr>\n",
       "      <th>0</th>\n",
       "      <td>2014-03-03</td>\n",
       "      <td>523.42</td>\n",
       "      <td>549.00</td>\n",
       "      <td>522.81</td>\n",
       "      <td>536.74</td>\n",
       "      <td>8791300</td>\n",
       "      <td>536.74</td>\n",
       "    </tr>\n",
       "    <tr>\n",
       "      <th>1</th>\n",
       "      <td>2014-02-03</td>\n",
       "      <td>502.61</td>\n",
       "      <td>551.19</td>\n",
       "      <td>499.30</td>\n",
       "      <td>526.24</td>\n",
       "      <td>11752500</td>\n",
       "      <td>526.24</td>\n",
       "    </tr>\n",
       "    <tr>\n",
       "      <th>2</th>\n",
       "      <td>2014-01-02</td>\n",
       "      <td>555.68</td>\n",
       "      <td>560.20</td>\n",
       "      <td>493.55</td>\n",
       "      <td>500.60</td>\n",
       "      <td>15698500</td>\n",
       "      <td>497.62</td>\n",
       "    </tr>\n",
       "    <tr>\n",
       "      <th>3</th>\n",
       "      <td>2013-12-02</td>\n",
       "      <td>558.00</td>\n",
       "      <td>575.14</td>\n",
       "      <td>538.80</td>\n",
       "      <td>561.02</td>\n",
       "      <td>12382100</td>\n",
       "      <td>557.68</td>\n",
       "    </tr>\n",
       "    <tr>\n",
       "      <th>4</th>\n",
       "      <td>2013-11-01</td>\n",
       "      <td>524.02</td>\n",
       "      <td>558.33</td>\n",
       "      <td>512.38</td>\n",
       "      <td>556.07</td>\n",
       "      <td>9898700</td>\n",
       "      <td>552.76</td>\n",
       "    </tr>\n",
       "    <tr>\n",
       "      <th>5</th>\n",
       "      <td>2013-10-01</td>\n",
       "      <td>478.45</td>\n",
       "      <td>539.25</td>\n",
       "      <td>478.28</td>\n",
       "      <td>522.70</td>\n",
       "      <td>12598400</td>\n",
       "      <td>516.57</td>\n",
       "    </tr>\n",
       "    <tr>\n",
       "      <th>6</th>\n",
       "      <td>2013-09-03</td>\n",
       "      <td>493.10</td>\n",
       "      <td>507.92</td>\n",
       "      <td>447.22</td>\n",
       "      <td>476.75</td>\n",
       "      <td>15876900</td>\n",
       "      <td>471.16</td>\n",
       "    </tr>\n",
       "    <tr>\n",
       "      <th>7</th>\n",
       "      <td>2013-08-01</td>\n",
       "      <td>455.75</td>\n",
       "      <td>513.74</td>\n",
       "      <td>453.26</td>\n",
       "      <td>487.22</td>\n",
       "      <td>13523700</td>\n",
       "      <td>481.51</td>\n",
       "    </tr>\n",
       "  </tbody>\n",
       "</table>\n",
       "</div>"
      ],
      "text/plain": [
       "         Date    Open    High     Low   Close    Volume  Adj Close\n",
       "0  2014-03-03  523.42  549.00  522.81  536.74   8791300     536.74\n",
       "1  2014-02-03  502.61  551.19  499.30  526.24  11752500     526.24\n",
       "2  2014-01-02  555.68  560.20  493.55  500.60  15698500     497.62\n",
       "3  2013-12-02  558.00  575.14  538.80  561.02  12382100     557.68\n",
       "4  2013-11-01  524.02  558.33  512.38  556.07   9898700     552.76\n",
       "5  2013-10-01  478.45  539.25  478.28  522.70  12598400     516.57\n",
       "6  2013-09-03  493.10  507.92  447.22  476.75  15876900     471.16\n",
       "7  2013-08-01  455.75  513.74  453.26  487.22  13523700     481.51"
      ]
     },
     "execution_count": 8,
     "metadata": {},
     "output_type": "execute_result"
    }
   ],
   "source": [
    "data.head(8)"
   ]
  },
  {
   "cell_type": "markdown",
   "id": "extra-shakespeare",
   "metadata": {},
   "source": [
    "# Reading an excel file using pandas\n"
   ]
  },
  {
   "cell_type": "code",
   "execution_count": 12,
   "id": "solid-metallic",
   "metadata": {},
   "outputs": [],
   "source": [
    "df = pd.read_csv('IRIS.csv')"
   ]
  },
  {
   "cell_type": "markdown",
   "id": "sophisticated-civilian",
   "metadata": {},
   "source": [
    "# By default, head() shows top 5 values of the dataframe"
   ]
  },
  {
   "cell_type": "code",
   "execution_count": 13,
   "id": "olive-situation",
   "metadata": {},
   "outputs": [
    {
     "data": {
      "text/html": [
       "<div>\n",
       "<style scoped>\n",
       "    .dataframe tbody tr th:only-of-type {\n",
       "        vertical-align: middle;\n",
       "    }\n",
       "\n",
       "    .dataframe tbody tr th {\n",
       "        vertical-align: top;\n",
       "    }\n",
       "\n",
       "    .dataframe thead th {\n",
       "        text-align: right;\n",
       "    }\n",
       "</style>\n",
       "<table border=\"1\" class=\"dataframe\">\n",
       "  <thead>\n",
       "    <tr style=\"text-align: right;\">\n",
       "      <th></th>\n",
       "      <th>sepal_length</th>\n",
       "      <th>sepal_width</th>\n",
       "      <th>petal_length</th>\n",
       "      <th>petal_width</th>\n",
       "      <th>species</th>\n",
       "    </tr>\n",
       "  </thead>\n",
       "  <tbody>\n",
       "    <tr>\n",
       "      <th>0</th>\n",
       "      <td>5.1</td>\n",
       "      <td>3.5</td>\n",
       "      <td>1.4</td>\n",
       "      <td>0.2</td>\n",
       "      <td>Iris-setosa</td>\n",
       "    </tr>\n",
       "    <tr>\n",
       "      <th>1</th>\n",
       "      <td>4.9</td>\n",
       "      <td>3.0</td>\n",
       "      <td>1.4</td>\n",
       "      <td>0.2</td>\n",
       "      <td>Iris-setosa</td>\n",
       "    </tr>\n",
       "    <tr>\n",
       "      <th>2</th>\n",
       "      <td>4.7</td>\n",
       "      <td>3.2</td>\n",
       "      <td>1.3</td>\n",
       "      <td>0.2</td>\n",
       "      <td>Iris-setosa</td>\n",
       "    </tr>\n",
       "    <tr>\n",
       "      <th>3</th>\n",
       "      <td>4.6</td>\n",
       "      <td>3.1</td>\n",
       "      <td>1.5</td>\n",
       "      <td>0.2</td>\n",
       "      <td>Iris-setosa</td>\n",
       "    </tr>\n",
       "    <tr>\n",
       "      <th>4</th>\n",
       "      <td>5.0</td>\n",
       "      <td>3.6</td>\n",
       "      <td>1.4</td>\n",
       "      <td>0.2</td>\n",
       "      <td>Iris-setosa</td>\n",
       "    </tr>\n",
       "  </tbody>\n",
       "</table>\n",
       "</div>"
      ],
      "text/plain": [
       "   sepal_length  sepal_width  petal_length  petal_width      species\n",
       "0           5.1          3.5           1.4          0.2  Iris-setosa\n",
       "1           4.9          3.0           1.4          0.2  Iris-setosa\n",
       "2           4.7          3.2           1.3          0.2  Iris-setosa\n",
       "3           4.6          3.1           1.5          0.2  Iris-setosa\n",
       "4           5.0          3.6           1.4          0.2  Iris-setosa"
      ]
     },
     "execution_count": 13,
     "metadata": {},
     "output_type": "execute_result"
    }
   ],
   "source": [
    "df.head()"
   ]
  },
  {
   "cell_type": "markdown",
   "id": "actual-count",
   "metadata": {},
   "source": [
    "# To get how many values of each catagory is present in a column\n"
   ]
  },
  {
   "cell_type": "code",
   "execution_count": 15,
   "id": "pleasant-revolution",
   "metadata": {},
   "outputs": [
    {
     "data": {
      "text/plain": [
       "Iris-versicolor    50\n",
       "Iris-setosa        50\n",
       "Iris-virginica     50\n",
       "Name: species, dtype: int64"
      ]
     },
     "execution_count": 15,
     "metadata": {},
     "output_type": "execute_result"
    }
   ],
   "source": [
    "df['species'].value_counts()"
   ]
  },
  {
   "cell_type": "code",
   "execution_count": 17,
   "id": "focused-denial",
   "metadata": {},
   "outputs": [
    {
     "data": {
      "text/plain": [
       "1.5    14\n",
       "1.4    12\n",
       "5.1     8\n",
       "4.5     8\n",
       "1.6     7\n",
       "1.3     7\n",
       "5.6     6\n",
       "4.0     5\n",
       "4.9     5\n",
       "4.7     5\n",
       "5.0     4\n",
       "1.7     4\n",
       "4.8     4\n",
       "4.4     4\n",
       "4.2     4\n",
       "4.1     3\n",
       "5.7     3\n",
       "5.5     3\n",
       "6.1     3\n",
       "3.9     3\n",
       "4.6     3\n",
       "5.8     3\n",
       "5.2     2\n",
       "1.9     2\n",
       "6.0     2\n",
       "1.2     2\n",
       "4.3     2\n",
       "5.3     2\n",
       "5.4     2\n",
       "3.3     2\n",
       "6.7     2\n",
       "3.5     2\n",
       "5.9     2\n",
       "3.6     1\n",
       "3.8     1\n",
       "1.0     1\n",
       "3.0     1\n",
       "6.3     1\n",
       "6.6     1\n",
       "3.7     1\n",
       "1.1     1\n",
       "6.4     1\n",
       "6.9     1\n",
       "Name: petal_length, dtype: int64"
      ]
     },
     "execution_count": 17,
     "metadata": {},
     "output_type": "execute_result"
    }
   ],
   "source": [
    "df['petal_length'].value_counts()"
   ]
  },
  {
   "cell_type": "markdown",
   "id": "humanitarian-charles",
   "metadata": {},
   "source": [
    "# To count the number of unique values in a column"
   ]
  },
  {
   "cell_type": "code",
   "execution_count": 18,
   "id": "stone-canvas",
   "metadata": {},
   "outputs": [
    {
     "data": {
      "text/plain": [
       "3"
      ]
     },
     "execution_count": 18,
     "metadata": {},
     "output_type": "execute_result"
    }
   ],
   "source": [
    "df['species'].nunique()"
   ]
  },
  {
   "cell_type": "code",
   "execution_count": 19,
   "id": "sunrise-pharmaceutical",
   "metadata": {},
   "outputs": [
    {
     "data": {
      "text/plain": [
       "43"
      ]
     },
     "execution_count": 19,
     "metadata": {},
     "output_type": "execute_result"
    }
   ],
   "source": [
    "df['petal_length'].nunique()"
   ]
  },
  {
   "cell_type": "markdown",
   "id": "nominated-boulder",
   "metadata": {},
   "source": [
    "# To get the values which are unique"
   ]
  },
  {
   "cell_type": "code",
   "execution_count": 20,
   "id": "juvenile-savings",
   "metadata": {},
   "outputs": [
    {
     "data": {
      "text/plain": [
       "array(['Iris-setosa', 'Iris-versicolor', 'Iris-virginica'], dtype=object)"
      ]
     },
     "execution_count": 20,
     "metadata": {},
     "output_type": "execute_result"
    }
   ],
   "source": [
    "df['species'].unique()"
   ]
  },
  {
   "cell_type": "code",
   "execution_count": 21,
   "id": "viral-recall",
   "metadata": {},
   "outputs": [
    {
     "data": {
      "text/plain": [
       "array([1.4, 1.3, 1.5, 1.7, 1.6, 1.1, 1.2, 1. , 1.9, 4.7, 4.5, 4.9, 4. ,\n",
       "       4.6, 3.3, 3.9, 3.5, 4.2, 3.6, 4.4, 4.1, 4.8, 4.3, 5. , 3.8, 3.7,\n",
       "       5.1, 3. , 6. , 5.9, 5.6, 5.8, 6.6, 6.3, 6.1, 5.3, 5.5, 6.7, 6.9,\n",
       "       5.7, 6.4, 5.4, 5.2])"
      ]
     },
     "execution_count": 21,
     "metadata": {},
     "output_type": "execute_result"
    }
   ],
   "source": [
    "df['petal_length'].unique()"
   ]
  },
  {
   "cell_type": "markdown",
   "id": "english-prediction",
   "metadata": {},
   "source": [
    "# To plot a graph on the basis of value counts"
   ]
  },
  {
   "cell_type": "code",
   "execution_count": 22,
   "id": "public-clear",
   "metadata": {},
   "outputs": [
    {
     "data": {
      "text/plain": [
       "<AxesSubplot:>"
      ]
     },
     "execution_count": 22,
     "metadata": {},
     "output_type": "execute_result"
    },
    {
     "data": {
      "image/png": "[encoded data removed]",
      "text/plain": [
       "<Figure size 432x288 with 1 Axes>"
      ]
     },
     "metadata": {
      "needs_background": "light"
     },
     "output_type": "display_data"
    }
   ],
   "source": [
    "df['species'].value_counts().plot(kind = 'bar')"
   ]
  },
  {
   "cell_type": "code",
   "execution_count": 23,
   "id": "representative-climate",
   "metadata": {},
   "outputs": [
    {
     "data": {
      "text/plain": [
       "<AxesSubplot:>"
      ]
     },
     "execution_count": 23,
     "metadata": {},
     "output_type": "execute_result"
    },
    {
     "data": {
      "image/png": "[encoded data removed]",
      "text/plain": [
       "<Figure size 432x288 with 1 Axes>"
      ]
     },
     "metadata": {
      "needs_background": "light"
     },
     "output_type": "display_data"
    }
   ],
   "source": [
    "df['petal_length'].value_counts().plot(kind = 'line')"
   ]
  },
  {
   "cell_type": "code",
   "execution_count": 24,
   "id": "married-denial",
   "metadata": {},
   "outputs": [
    {
     "data": {
      "text/plain": [
       "<AxesSubplot:ylabel='petal_length'>"
      ]
     },
     "execution_count": 24,
     "metadata": {},
     "output_type": "execute_result"
    },
    {
     "data": {
      "image/png": "[encoded data removed]",
      "text/plain": [
       "<Figure size 432x288 with 1 Axes>"
      ]
     },
     "metadata": {},
     "output_type": "display_data"
    }
   ],
   "source": [
    "df['petal_length'].value_counts().plot(kind = 'pie')"
   ]
  },
  {
   "cell_type": "markdown",
   "id": "inner-familiar",
   "metadata": {},
   "source": [
    "# To get the column name in a dataframe"
   ]
  },
  {
   "cell_type": "code",
   "execution_count": 25,
   "id": "supreme-shower",
   "metadata": {},
   "outputs": [
    {
     "data": {
      "text/plain": [
       "Index(['sepal_length', 'sepal_width', 'petal_length', 'petal_width',\n",
       "       'species'],\n",
       "      dtype='object')"
      ]
     },
     "execution_count": 25,
     "metadata": {},
     "output_type": "execute_result"
    }
   ],
   "source": [
    "df.columns"
   ]
  },
  {
   "cell_type": "markdown",
   "id": "practical-going",
   "metadata": {},
   "source": [
    "# Creating our own dataset"
   ]
  },
  {
   "cell_type": "code",
   "execution_count": 26,
   "id": "unlikely-desperate",
   "metadata": {},
   "outputs": [],
   "source": [
    "import numpy as np\n",
    "time_series = pd.date_range('01/06/2021', periods = 20)\n",
    "df = pd.DataFrame(np.random.randn(20, 5), index = time_series, columns = ['Col1', 'Col2', 'Col3', 'Col4', 'Col5'])"
   ]
  },
  {
   "cell_type": "code",
   "execution_count": 27,
   "id": "personal-plaintiff",
   "metadata": {},
   "outputs": [
    {
     "data": {
      "text/html": [
       "<div>\n",
       "<style scoped>\n",
       "    .dataframe tbody tr th:only-of-type {\n",
       "        vertical-align: middle;\n",
       "    }\n",
       "\n",
       "    .dataframe tbody tr th {\n",
       "        vertical-align: top;\n",
       "    }\n",
       "\n",
       "    .dataframe thead th {\n",
       "        text-align: right;\n",
       "    }\n",
       "</style>\n",
       "<table border=\"1\" class=\"dataframe\">\n",
       "  <thead>\n",
       "    <tr style=\"text-align: right;\">\n",
       "      <th></th>\n",
       "      <th>Col1</th>\n",
       "      <th>Col2</th>\n",
       "      <th>Col3</th>\n",
       "      <th>Col4</th>\n",
       "      <th>Col5</th>\n",
       "    </tr>\n",
       "  </thead>\n",
       "  <tbody>\n",
       "    <tr>\n",
       "      <th>2021-01-06</th>\n",
       "      <td>2.597297</td>\n",
       "      <td>0.592325</td>\n",
       "      <td>1.864761</td>\n",
       "      <td>-1.234286</td>\n",
       "      <td>-1.297201</td>\n",
       "    </tr>\n",
       "    <tr>\n",
       "      <th>2021-01-07</th>\n",
       "      <td>0.991175</td>\n",
       "      <td>0.895120</td>\n",
       "      <td>-0.704117</td>\n",
       "      <td>0.358665</td>\n",
       "      <td>0.306816</td>\n",
       "    </tr>\n",
       "    <tr>\n",
       "      <th>2021-01-08</th>\n",
       "      <td>-0.882679</td>\n",
       "      <td>-2.004087</td>\n",
       "      <td>-0.427746</td>\n",
       "      <td>-0.083993</td>\n",
       "      <td>-1.412276</td>\n",
       "    </tr>\n",
       "    <tr>\n",
       "      <th>2021-01-09</th>\n",
       "      <td>1.072151</td>\n",
       "      <td>-2.099387</td>\n",
       "      <td>0.478257</td>\n",
       "      <td>-0.387853</td>\n",
       "      <td>-0.533343</td>\n",
       "    </tr>\n",
       "    <tr>\n",
       "      <th>2021-01-10</th>\n",
       "      <td>1.407031</td>\n",
       "      <td>-1.823672</td>\n",
       "      <td>-0.198562</td>\n",
       "      <td>-2.245621</td>\n",
       "      <td>0.177661</td>\n",
       "    </tr>\n",
       "    <tr>\n",
       "      <th>2021-01-11</th>\n",
       "      <td>1.956966</td>\n",
       "      <td>-0.609507</td>\n",
       "      <td>-0.798269</td>\n",
       "      <td>0.090426</td>\n",
       "      <td>0.390923</td>\n",
       "    </tr>\n",
       "    <tr>\n",
       "      <th>2021-01-12</th>\n",
       "      <td>-1.680535</td>\n",
       "      <td>0.234576</td>\n",
       "      <td>-0.196747</td>\n",
       "      <td>0.662816</td>\n",
       "      <td>-1.169212</td>\n",
       "    </tr>\n",
       "    <tr>\n",
       "      <th>2021-01-13</th>\n",
       "      <td>0.550305</td>\n",
       "      <td>-1.466061</td>\n",
       "      <td>-0.316359</td>\n",
       "      <td>-2.293868</td>\n",
       "      <td>0.643148</td>\n",
       "    </tr>\n",
       "    <tr>\n",
       "      <th>2021-01-14</th>\n",
       "      <td>0.648309</td>\n",
       "      <td>-0.984667</td>\n",
       "      <td>-0.569933</td>\n",
       "      <td>-1.581799</td>\n",
       "      <td>-0.046421</td>\n",
       "    </tr>\n",
       "    <tr>\n",
       "      <th>2021-01-15</th>\n",
       "      <td>2.252628</td>\n",
       "      <td>1.188120</td>\n",
       "      <td>0.967016</td>\n",
       "      <td>0.799465</td>\n",
       "      <td>-0.230927</td>\n",
       "    </tr>\n",
       "    <tr>\n",
       "      <th>2021-01-16</th>\n",
       "      <td>0.460392</td>\n",
       "      <td>-0.385953</td>\n",
       "      <td>1.274117</td>\n",
       "      <td>1.298501</td>\n",
       "      <td>0.353288</td>\n",
       "    </tr>\n",
       "    <tr>\n",
       "      <th>2021-01-17</th>\n",
       "      <td>-1.331744</td>\n",
       "      <td>0.666505</td>\n",
       "      <td>-1.021826</td>\n",
       "      <td>-0.909130</td>\n",
       "      <td>-0.392768</td>\n",
       "    </tr>\n",
       "    <tr>\n",
       "      <th>2021-01-18</th>\n",
       "      <td>-0.742252</td>\n",
       "      <td>2.177051</td>\n",
       "      <td>0.269709</td>\n",
       "      <td>0.902916</td>\n",
       "      <td>0.251259</td>\n",
       "    </tr>\n",
       "    <tr>\n",
       "      <th>2021-01-19</th>\n",
       "      <td>-0.492095</td>\n",
       "      <td>-1.103922</td>\n",
       "      <td>-0.789648</td>\n",
       "      <td>-0.839111</td>\n",
       "      <td>-2.773097</td>\n",
       "    </tr>\n",
       "    <tr>\n",
       "      <th>2021-01-20</th>\n",
       "      <td>1.355402</td>\n",
       "      <td>-0.005541</td>\n",
       "      <td>1.309208</td>\n",
       "      <td>0.049823</td>\n",
       "      <td>-1.636973</td>\n",
       "    </tr>\n",
       "    <tr>\n",
       "      <th>2021-01-21</th>\n",
       "      <td>0.758081</td>\n",
       "      <td>0.480360</td>\n",
       "      <td>0.675766</td>\n",
       "      <td>-0.822794</td>\n",
       "      <td>0.318511</td>\n",
       "    </tr>\n",
       "    <tr>\n",
       "      <th>2021-01-22</th>\n",
       "      <td>0.389719</td>\n",
       "      <td>-0.545808</td>\n",
       "      <td>0.825467</td>\n",
       "      <td>0.040752</td>\n",
       "      <td>-0.630320</td>\n",
       "    </tr>\n",
       "    <tr>\n",
       "      <th>2021-01-23</th>\n",
       "      <td>0.246226</td>\n",
       "      <td>0.598708</td>\n",
       "      <td>1.063081</td>\n",
       "      <td>-0.812257</td>\n",
       "      <td>1.987169</td>\n",
       "    </tr>\n",
       "    <tr>\n",
       "      <th>2021-01-24</th>\n",
       "      <td>-1.314788</td>\n",
       "      <td>0.986159</td>\n",
       "      <td>-1.053915</td>\n",
       "      <td>-1.387867</td>\n",
       "      <td>-2.064677</td>\n",
       "    </tr>\n",
       "    <tr>\n",
       "      <th>2021-01-25</th>\n",
       "      <td>-0.029324</td>\n",
       "      <td>1.030895</td>\n",
       "      <td>1.160787</td>\n",
       "      <td>-0.392566</td>\n",
       "      <td>-0.011686</td>\n",
       "    </tr>\n",
       "  </tbody>\n",
       "</table>\n",
       "</div>"
      ],
      "text/plain": [
       "                Col1      Col2      Col3      Col4      Col5\n",
       "2021-01-06  2.597297  0.592325  1.864761 -1.234286 -1.297201\n",
       "2021-01-07  0.991175  0.895120 -0.704117  0.358665  0.306816\n",
       "2021-01-08 -0.882679 -2.004087 -0.427746 -0.083993 -1.412276\n",
       "2021-01-09  1.072151 -2.099387  0.478257 -0.387853 -0.533343\n",
       "2021-01-10  1.407031 -1.823672 -0.198562 -2.245621  0.177661\n",
       "2021-01-11  1.956966 -0.609507 -0.798269  0.090426  0.390923\n",
       "2021-01-12 -1.680535  0.234576 -0.196747  0.662816 -1.169212\n",
       "2021-01-13  0.550305 -1.466061 -0.316359 -2.293868  0.643148\n",
       "2021-01-14  0.648309 -0.984667 -0.569933 -1.581799 -0.046421\n",
       "2021-01-15  2.252628  1.188120  0.967016  0.799465 -0.230927\n",
       "2021-01-16  0.460392 -0.385953  1.274117  1.298501  0.353288\n",
       "2021-01-17 -1.331744  0.666505 -1.021826 -0.909130 -0.392768\n",
       "2021-01-18 -0.742252  2.177051  0.269709  0.902916  0.251259\n",
       "2021-01-19 -0.492095 -1.103922 -0.789648 -0.839111 -2.773097\n",
       "2021-01-20  1.355402 -0.005541  1.309208  0.049823 -1.636973\n",
       "2021-01-21  0.758081  0.480360  0.675766 -0.822794  0.318511\n",
       "2021-01-22  0.389719 -0.545808  0.825467  0.040752 -0.630320\n",
       "2021-01-23  0.246226  0.598708  1.063081 -0.812257  1.987169\n",
       "2021-01-24 -1.314788  0.986159 -1.053915 -1.387867 -2.064677\n",
       "2021-01-25 -0.029324  1.030895  1.160787 -0.392566 -0.011686"
      ]
     },
     "execution_count": 27,
     "metadata": {},
     "output_type": "execute_result"
    }
   ],
   "source": [
    "df"
   ]
  },
  {
   "cell_type": "code",
   "execution_count": 28,
   "id": "decimal-gibson",
   "metadata": {},
   "outputs": [
    {
     "data": {
      "text/plain": [
       "(20, 5)"
      ]
     },
     "execution_count": 28,
     "metadata": {},
     "output_type": "execute_result"
    }
   ],
   "source": [
    "df.shape"
   ]
  },
  {
   "cell_type": "markdown",
   "id": "specified-logging",
   "metadata": {},
   "source": [
    "# To display a specific column"
   ]
  },
  {
   "cell_type": "code",
   "execution_count": 29,
   "id": "alternate-february",
   "metadata": {},
   "outputs": [
    {
     "data": {
      "text/plain": [
       "2021-01-06    2.597297\n",
       "2021-01-07    0.991175\n",
       "2021-01-08   -0.882679\n",
       "2021-01-09    1.072151\n",
       "2021-01-10    1.407031\n",
       "2021-01-11    1.956966\n",
       "2021-01-12   -1.680535\n",
       "2021-01-13    0.550305\n",
       "2021-01-14    0.648309\n",
       "2021-01-15    2.252628\n",
       "2021-01-16    0.460392\n",
       "2021-01-17   -1.331744\n",
       "2021-01-18   -0.742252\n",
       "2021-01-19   -0.492095\n",
       "2021-01-20    1.355402\n",
       "2021-01-21    0.758081\n",
       "2021-01-22    0.389719\n",
       "2021-01-23    0.246226\n",
       "2021-01-24   -1.314788\n",
       "2021-01-25   -0.029324\n",
       "Freq: D, Name: Col1, dtype: float64"
      ]
     },
     "execution_count": 29,
     "metadata": {},
     "output_type": "execute_result"
    }
   ],
   "source": [
    "df['Col1']"
   ]
  },
  {
   "cell_type": "code",
   "execution_count": 30,
   "id": "exciting-internet",
   "metadata": {},
   "outputs": [
    {
     "data": {
      "text/plain": [
       "pandas.core.frame.DataFrame"
      ]
     },
     "execution_count": 30,
     "metadata": {},
     "output_type": "execute_result"
    }
   ],
   "source": [
    "type (df[['Col1', 'Col2']])"
   ]
  },
  {
   "cell_type": "markdown",
   "id": "anticipated-police",
   "metadata": {},
   "source": [
    "# Creating an object for column\n"
   ]
  },
  {
   "cell_type": "code",
   "execution_count": 31,
   "id": "frank-metabolism",
   "metadata": {},
   "outputs": [],
   "source": [
    "c = df['Col1']"
   ]
  },
  {
   "cell_type": "code",
   "execution_count": 32,
   "id": "another-january",
   "metadata": {},
   "outputs": [
    {
     "data": {
      "text/plain": [
       "1.0721513520827366"
      ]
     },
     "execution_count": 32,
     "metadata": {},
     "output_type": "execute_result"
    }
   ],
   "source": [
    "c[3]"
   ]
  },
  {
   "cell_type": "code",
   "execution_count": 33,
   "id": "future-microwave",
   "metadata": {},
   "outputs": [
    {
     "data": {
      "text/plain": [
       "2021-01-06    2.597297\n",
       "2021-01-07    0.991175\n",
       "2021-01-08   -0.882679\n",
       "2021-01-09    1.072151\n",
       "2021-01-10    1.407031\n",
       "2021-01-11    1.956966\n",
       "2021-01-12   -1.680535\n",
       "2021-01-13    0.550305\n",
       "2021-01-14    0.648309\n",
       "2021-01-15    2.252628\n",
       "2021-01-16    0.460392\n",
       "2021-01-17   -1.331744\n",
       "2021-01-18   -0.742252\n",
       "2021-01-19   -0.492095\n",
       "2021-01-20    1.355402\n",
       "2021-01-21    0.758081\n",
       "2021-01-22    0.389719\n",
       "2021-01-23    0.246226\n",
       "2021-01-24   -1.314788\n",
       "2021-01-25   -0.029324\n",
       "Freq: D, Name: Col1, dtype: float64"
      ]
     },
     "execution_count": 33,
     "metadata": {},
     "output_type": "execute_result"
    }
   ],
   "source": [
    "c"
   ]
  },
  {
   "cell_type": "code",
   "execution_count": 34,
   "id": "threatened-billion",
   "metadata": {},
   "outputs": [
    {
     "data": {
      "text/plain": [
       "1.956966326988761"
      ]
     },
     "execution_count": 34,
     "metadata": {},
     "output_type": "execute_result"
    }
   ],
   "source": [
    "c[5]"
   ]
  },
  {
   "cell_type": "markdown",
   "id": "driven-collective",
   "metadata": {},
   "source": [
    "\n",
    "# To get the timestamp of a column"
   ]
  },
  {
   "cell_type": "code",
   "execution_count": 35,
   "id": "applied-produce",
   "metadata": {},
   "outputs": [
    {
     "data": {
      "text/plain": [
       "Timestamp('2021-01-11 00:00:00', freq='D')"
      ]
     },
     "execution_count": 35,
     "metadata": {},
     "output_type": "execute_result"
    }
   ],
   "source": [
    "time_series[5]"
   ]
  },
  {
   "cell_type": "code",
   "execution_count": 36,
   "id": "metric-destruction",
   "metadata": {},
   "outputs": [
    {
     "data": {
      "text/plain": [
       "1.956966326988761"
      ]
     },
     "execution_count": 36,
     "metadata": {},
     "output_type": "execute_result"
    }
   ],
   "source": [
    "c[time_series[5]]"
   ]
  },
  {
   "cell_type": "markdown",
   "id": "white-nomination",
   "metadata": {},
   "source": [
    "# To get the value of all the columns for a specified date (index)"
   ]
  },
  {
   "cell_type": "code",
   "execution_count": 37,
   "id": "exempt-earth",
   "metadata": {},
   "outputs": [
    {
     "data": {
      "text/plain": [
       "Col1   -1.680535\n",
       "Col2    0.234576\n",
       "Col3   -0.196747\n",
       "Col4    0.662816\n",
       "Col5   -1.169212\n",
       "Name: 2021-01-12 00:00:00, dtype: float64"
      ]
     },
     "execution_count": 37,
     "metadata": {},
     "output_type": "execute_result"
    }
   ],
   "source": [
    "df.loc['2021-01-12']"
   ]
  },
  {
   "cell_type": "markdown",
   "id": "spread-spotlight",
   "metadata": {},
   "source": [
    "# Creating a new dataframe"
   ]
  },
  {
   "cell_type": "code",
   "execution_count": 38,
   "id": "inclusive-occasion",
   "metadata": {},
   "outputs": [],
   "source": [
    "x = pd.DataFrame({'x':[1, 2, 3], 'y':[4, 5, 6]})"
   ]
  },
  {
   "cell_type": "code",
   "execution_count": 39,
   "id": "mobile-segment",
   "metadata": {},
   "outputs": [
    {
     "data": {
      "text/html": [
       "<div>\n",
       "<style scoped>\n",
       "    .dataframe tbody tr th:only-of-type {\n",
       "        vertical-align: middle;\n",
       "    }\n",
       "\n",
       "    .dataframe tbody tr th {\n",
       "        vertical-align: top;\n",
       "    }\n",
       "\n",
       "    .dataframe thead th {\n",
       "        text-align: right;\n",
       "    }\n",
       "</style>\n",
       "<table border=\"1\" class=\"dataframe\">\n",
       "  <thead>\n",
       "    <tr style=\"text-align: right;\">\n",
       "      <th></th>\n",
       "      <th>x</th>\n",
       "      <th>y</th>\n",
       "    </tr>\n",
       "  </thead>\n",
       "  <tbody>\n",
       "    <tr>\n",
       "      <th>0</th>\n",
       "      <td>1</td>\n",
       "      <td>4</td>\n",
       "    </tr>\n",
       "    <tr>\n",
       "      <th>1</th>\n",
       "      <td>2</td>\n",
       "      <td>5</td>\n",
       "    </tr>\n",
       "    <tr>\n",
       "      <th>2</th>\n",
       "      <td>3</td>\n",
       "      <td>6</td>\n",
       "    </tr>\n",
       "  </tbody>\n",
       "</table>\n",
       "</div>"
      ],
      "text/plain": [
       "   x  y\n",
       "0  1  4\n",
       "1  2  5\n",
       "2  3  6"
      ]
     },
     "execution_count": 39,
     "metadata": {},
     "output_type": "execute_result"
    }
   ],
   "source": [
    "x"
   ]
  },
  {
   "cell_type": "markdown",
   "id": "adolescent-dictionary",
   "metadata": {},
   "source": [
    "# To get the value of x and y at index 1\n"
   ]
  },
  {
   "cell_type": "code",
   "execution_count": 40,
   "id": "piano-popularity",
   "metadata": {},
   "outputs": [
    {
     "data": {
      "text/plain": [
       "x    2\n",
       "y    5\n",
       "Name: 1, dtype: int64"
      ]
     },
     "execution_count": 40,
     "metadata": {},
     "output_type": "execute_result"
    }
   ],
   "source": [
    "x.loc[1]"
   ]
  },
  {
   "cell_type": "markdown",
   "id": "organic-motor",
   "metadata": {},
   "source": [
    "# To get the values in column x"
   ]
  },
  {
   "cell_type": "code",
   "execution_count": 41,
   "id": "boolean-saturday",
   "metadata": {},
   "outputs": [
    {
     "data": {
      "text/plain": [
       "0    1\n",
       "1    2\n",
       "2    3\n",
       "Name: x, dtype: int64"
      ]
     },
     "execution_count": 41,
     "metadata": {},
     "output_type": "execute_result"
    }
   ],
   "source": [
    "x['x']"
   ]
  },
  {
   "cell_type": "markdown",
   "id": "banned-pulse",
   "metadata": {},
   "source": [
    "# To change the value at a specified index\n"
   ]
  },
  {
   "cell_type": "code",
   "execution_count": 42,
   "id": "chubby-grant",
   "metadata": {},
   "outputs": [],
   "source": [
    "x.loc[1] = {'x' : 7, 'y' : 9}"
   ]
  },
  {
   "cell_type": "code",
   "execution_count": 43,
   "id": "purple-african",
   "metadata": {},
   "outputs": [
    {
     "data": {
      "text/html": [
       "<div>\n",
       "<style scoped>\n",
       "    .dataframe tbody tr th:only-of-type {\n",
       "        vertical-align: middle;\n",
       "    }\n",
       "\n",
       "    .dataframe tbody tr th {\n",
       "        vertical-align: top;\n",
       "    }\n",
       "\n",
       "    .dataframe thead th {\n",
       "        text-align: right;\n",
       "    }\n",
       "</style>\n",
       "<table border=\"1\" class=\"dataframe\">\n",
       "  <thead>\n",
       "    <tr style=\"text-align: right;\">\n",
       "      <th></th>\n",
       "      <th>x</th>\n",
       "      <th>y</th>\n",
       "    </tr>\n",
       "  </thead>\n",
       "  <tbody>\n",
       "    <tr>\n",
       "      <th>0</th>\n",
       "      <td>1</td>\n",
       "      <td>4</td>\n",
       "    </tr>\n",
       "    <tr>\n",
       "      <th>1</th>\n",
       "      <td>7</td>\n",
       "      <td>9</td>\n",
       "    </tr>\n",
       "    <tr>\n",
       "      <th>2</th>\n",
       "      <td>3</td>\n",
       "      <td>6</td>\n",
       "    </tr>\n",
       "  </tbody>\n",
       "</table>\n",
       "</div>"
      ],
      "text/plain": [
       "   x  y\n",
       "0  1  4\n",
       "1  7  9\n",
       "2  3  6"
      ]
     },
     "execution_count": 43,
     "metadata": {},
     "output_type": "execute_result"
    }
   ],
   "source": [
    "x"
   ]
  },
  {
   "cell_type": "code",
   "execution_count": 44,
   "id": "focal-zoning",
   "metadata": {},
   "outputs": [
    {
     "data": {
      "text/html": [
       "<div>\n",
       "<style scoped>\n",
       "    .dataframe tbody tr th:only-of-type {\n",
       "        vertical-align: middle;\n",
       "    }\n",
       "\n",
       "    .dataframe tbody tr th {\n",
       "        vertical-align: top;\n",
       "    }\n",
       "\n",
       "    .dataframe thead th {\n",
       "        text-align: right;\n",
       "    }\n",
       "</style>\n",
       "<table border=\"1\" class=\"dataframe\">\n",
       "  <thead>\n",
       "    <tr style=\"text-align: right;\">\n",
       "      <th></th>\n",
       "      <th>Col1</th>\n",
       "      <th>Col2</th>\n",
       "      <th>Col3</th>\n",
       "      <th>Col4</th>\n",
       "      <th>Col5</th>\n",
       "    </tr>\n",
       "  </thead>\n",
       "  <tbody>\n",
       "    <tr>\n",
       "      <th>2021-01-06</th>\n",
       "      <td>2.597297</td>\n",
       "      <td>0.592325</td>\n",
       "      <td>1.864761</td>\n",
       "      <td>-1.234286</td>\n",
       "      <td>-1.297201</td>\n",
       "    </tr>\n",
       "    <tr>\n",
       "      <th>2021-01-07</th>\n",
       "      <td>0.991175</td>\n",
       "      <td>0.895120</td>\n",
       "      <td>-0.704117</td>\n",
       "      <td>0.358665</td>\n",
       "      <td>0.306816</td>\n",
       "    </tr>\n",
       "    <tr>\n",
       "      <th>2021-01-08</th>\n",
       "      <td>-0.882679</td>\n",
       "      <td>-2.004087</td>\n",
       "      <td>-0.427746</td>\n",
       "      <td>-0.083993</td>\n",
       "      <td>-1.412276</td>\n",
       "    </tr>\n",
       "    <tr>\n",
       "      <th>2021-01-09</th>\n",
       "      <td>1.072151</td>\n",
       "      <td>-2.099387</td>\n",
       "      <td>0.478257</td>\n",
       "      <td>-0.387853</td>\n",
       "      <td>-0.533343</td>\n",
       "    </tr>\n",
       "    <tr>\n",
       "      <th>2021-01-10</th>\n",
       "      <td>1.407031</td>\n",
       "      <td>-1.823672</td>\n",
       "      <td>-0.198562</td>\n",
       "      <td>-2.245621</td>\n",
       "      <td>0.177661</td>\n",
       "    </tr>\n",
       "    <tr>\n",
       "      <th>2021-01-11</th>\n",
       "      <td>1.956966</td>\n",
       "      <td>-0.609507</td>\n",
       "      <td>-0.798269</td>\n",
       "      <td>0.090426</td>\n",
       "      <td>0.390923</td>\n",
       "    </tr>\n",
       "    <tr>\n",
       "      <th>2021-01-12</th>\n",
       "      <td>-1.680535</td>\n",
       "      <td>0.234576</td>\n",
       "      <td>-0.196747</td>\n",
       "      <td>0.662816</td>\n",
       "      <td>-1.169212</td>\n",
       "    </tr>\n",
       "    <tr>\n",
       "      <th>2021-01-13</th>\n",
       "      <td>0.550305</td>\n",
       "      <td>-1.466061</td>\n",
       "      <td>-0.316359</td>\n",
       "      <td>-2.293868</td>\n",
       "      <td>0.643148</td>\n",
       "    </tr>\n",
       "    <tr>\n",
       "      <th>2021-01-14</th>\n",
       "      <td>0.648309</td>\n",
       "      <td>-0.984667</td>\n",
       "      <td>-0.569933</td>\n",
       "      <td>-1.581799</td>\n",
       "      <td>-0.046421</td>\n",
       "    </tr>\n",
       "    <tr>\n",
       "      <th>2021-01-15</th>\n",
       "      <td>2.252628</td>\n",
       "      <td>1.188120</td>\n",
       "      <td>0.967016</td>\n",
       "      <td>0.799465</td>\n",
       "      <td>-0.230927</td>\n",
       "    </tr>\n",
       "    <tr>\n",
       "      <th>2021-01-16</th>\n",
       "      <td>0.460392</td>\n",
       "      <td>-0.385953</td>\n",
       "      <td>1.274117</td>\n",
       "      <td>1.298501</td>\n",
       "      <td>0.353288</td>\n",
       "    </tr>\n",
       "    <tr>\n",
       "      <th>2021-01-17</th>\n",
       "      <td>-1.331744</td>\n",
       "      <td>0.666505</td>\n",
       "      <td>-1.021826</td>\n",
       "      <td>-0.909130</td>\n",
       "      <td>-0.392768</td>\n",
       "    </tr>\n",
       "    <tr>\n",
       "      <th>2021-01-18</th>\n",
       "      <td>-0.742252</td>\n",
       "      <td>2.177051</td>\n",
       "      <td>0.269709</td>\n",
       "      <td>0.902916</td>\n",
       "      <td>0.251259</td>\n",
       "    </tr>\n",
       "    <tr>\n",
       "      <th>2021-01-19</th>\n",
       "      <td>-0.492095</td>\n",
       "      <td>-1.103922</td>\n",
       "      <td>-0.789648</td>\n",
       "      <td>-0.839111</td>\n",
       "      <td>-2.773097</td>\n",
       "    </tr>\n",
       "    <tr>\n",
       "      <th>2021-01-20</th>\n",
       "      <td>1.355402</td>\n",
       "      <td>-0.005541</td>\n",
       "      <td>1.309208</td>\n",
       "      <td>0.049823</td>\n",
       "      <td>-1.636973</td>\n",
       "    </tr>\n",
       "    <tr>\n",
       "      <th>2021-01-21</th>\n",
       "      <td>0.758081</td>\n",
       "      <td>0.480360</td>\n",
       "      <td>0.675766</td>\n",
       "      <td>-0.822794</td>\n",
       "      <td>0.318511</td>\n",
       "    </tr>\n",
       "    <tr>\n",
       "      <th>2021-01-22</th>\n",
       "      <td>0.389719</td>\n",
       "      <td>-0.545808</td>\n",
       "      <td>0.825467</td>\n",
       "      <td>0.040752</td>\n",
       "      <td>-0.630320</td>\n",
       "    </tr>\n",
       "    <tr>\n",
       "      <th>2021-01-23</th>\n",
       "      <td>0.246226</td>\n",
       "      <td>0.598708</td>\n",
       "      <td>1.063081</td>\n",
       "      <td>-0.812257</td>\n",
       "      <td>1.987169</td>\n",
       "    </tr>\n",
       "    <tr>\n",
       "      <th>2021-01-24</th>\n",
       "      <td>-1.314788</td>\n",
       "      <td>0.986159</td>\n",
       "      <td>-1.053915</td>\n",
       "      <td>-1.387867</td>\n",
       "      <td>-2.064677</td>\n",
       "    </tr>\n",
       "    <tr>\n",
       "      <th>2021-01-25</th>\n",
       "      <td>-0.029324</td>\n",
       "      <td>1.030895</td>\n",
       "      <td>1.160787</td>\n",
       "      <td>-0.392566</td>\n",
       "      <td>-0.011686</td>\n",
       "    </tr>\n",
       "  </tbody>\n",
       "</table>\n",
       "</div>"
      ],
      "text/plain": [
       "                Col1      Col2      Col3      Col4      Col5\n",
       "2021-01-06  2.597297  0.592325  1.864761 -1.234286 -1.297201\n",
       "2021-01-07  0.991175  0.895120 -0.704117  0.358665  0.306816\n",
       "2021-01-08 -0.882679 -2.004087 -0.427746 -0.083993 -1.412276\n",
       "2021-01-09  1.072151 -2.099387  0.478257 -0.387853 -0.533343\n",
       "2021-01-10  1.407031 -1.823672 -0.198562 -2.245621  0.177661\n",
       "2021-01-11  1.956966 -0.609507 -0.798269  0.090426  0.390923\n",
       "2021-01-12 -1.680535  0.234576 -0.196747  0.662816 -1.169212\n",
       "2021-01-13  0.550305 -1.466061 -0.316359 -2.293868  0.643148\n",
       "2021-01-14  0.648309 -0.984667 -0.569933 -1.581799 -0.046421\n",
       "2021-01-15  2.252628  1.188120  0.967016  0.799465 -0.230927\n",
       "2021-01-16  0.460392 -0.385953  1.274117  1.298501  0.353288\n",
       "2021-01-17 -1.331744  0.666505 -1.021826 -0.909130 -0.392768\n",
       "2021-01-18 -0.742252  2.177051  0.269709  0.902916  0.251259\n",
       "2021-01-19 -0.492095 -1.103922 -0.789648 -0.839111 -2.773097\n",
       "2021-01-20  1.355402 -0.005541  1.309208  0.049823 -1.636973\n",
       "2021-01-21  0.758081  0.480360  0.675766 -0.822794  0.318511\n",
       "2021-01-22  0.389719 -0.545808  0.825467  0.040752 -0.630320\n",
       "2021-01-23  0.246226  0.598708  1.063081 -0.812257  1.987169\n",
       "2021-01-24 -1.314788  0.986159 -1.053915 -1.387867 -2.064677\n",
       "2021-01-25 -0.029324  1.030895  1.160787 -0.392566 -0.011686"
      ]
     },
     "execution_count": 44,
     "metadata": {},
     "output_type": "execute_result"
    }
   ],
   "source": [
    "df"
   ]
  },
  {
   "cell_type": "markdown",
   "id": "monthly-domain",
   "metadata": {},
   "source": [
    "# Slicing\n",
    "# To get the all the rows with index 0 to 4 and columns with index 2 to 3 "
   ]
  },
  {
   "cell_type": "code",
   "execution_count": 45,
   "id": "homeless-remedy",
   "metadata": {},
   "outputs": [
    {
     "data": {
      "text/html": [
       "<div>\n",
       "<style scoped>\n",
       "    .dataframe tbody tr th:only-of-type {\n",
       "        vertical-align: middle;\n",
       "    }\n",
       "\n",
       "    .dataframe tbody tr th {\n",
       "        vertical-align: top;\n",
       "    }\n",
       "\n",
       "    .dataframe thead th {\n",
       "        text-align: right;\n",
       "    }\n",
       "</style>\n",
       "<table border=\"1\" class=\"dataframe\">\n",
       "  <thead>\n",
       "    <tr style=\"text-align: right;\">\n",
       "      <th></th>\n",
       "      <th>Col3</th>\n",
       "      <th>Col4</th>\n",
       "    </tr>\n",
       "  </thead>\n",
       "  <tbody>\n",
       "    <tr>\n",
       "      <th>2021-01-06</th>\n",
       "      <td>1.864761</td>\n",
       "      <td>-1.234286</td>\n",
       "    </tr>\n",
       "    <tr>\n",
       "      <th>2021-01-07</th>\n",
       "      <td>-0.704117</td>\n",
       "      <td>0.358665</td>\n",
       "    </tr>\n",
       "    <tr>\n",
       "      <th>2021-01-08</th>\n",
       "      <td>-0.427746</td>\n",
       "      <td>-0.083993</td>\n",
       "    </tr>\n",
       "    <tr>\n",
       "      <th>2021-01-09</th>\n",
       "      <td>0.478257</td>\n",
       "      <td>-0.387853</td>\n",
       "    </tr>\n",
       "    <tr>\n",
       "      <th>2021-01-10</th>\n",
       "      <td>-0.198562</td>\n",
       "      <td>-2.245621</td>\n",
       "    </tr>\n",
       "  </tbody>\n",
       "</table>\n",
       "</div>"
      ],
      "text/plain": [
       "                Col3      Col4\n",
       "2021-01-06  1.864761 -1.234286\n",
       "2021-01-07 -0.704117  0.358665\n",
       "2021-01-08 -0.427746 -0.083993\n",
       "2021-01-09  0.478257 -0.387853\n",
       "2021-01-10 -0.198562 -2.245621"
      ]
     },
     "execution_count": 45,
     "metadata": {},
     "output_type": "execute_result"
    }
   ],
   "source": [
    "df.iloc[:5, 2:4]"
   ]
  },
  {
   "cell_type": "markdown",
   "id": "southeast-monitor",
   "metadata": {},
   "source": [
    "# To get 3 rows and all the columns"
   ]
  },
  {
   "cell_type": "code",
   "execution_count": 46,
   "id": "spread-gossip",
   "metadata": {},
   "outputs": [
    {
     "data": {
      "text/html": [
       "<div>\n",
       "<style scoped>\n",
       "    .dataframe tbody tr th:only-of-type {\n",
       "        vertical-align: middle;\n",
       "    }\n",
       "\n",
       "    .dataframe tbody tr th {\n",
       "        vertical-align: top;\n",
       "    }\n",
       "\n",
       "    .dataframe thead th {\n",
       "        text-align: right;\n",
       "    }\n",
       "</style>\n",
       "<table border=\"1\" class=\"dataframe\">\n",
       "  <thead>\n",
       "    <tr style=\"text-align: right;\">\n",
       "      <th></th>\n",
       "      <th>Col1</th>\n",
       "      <th>Col2</th>\n",
       "      <th>Col3</th>\n",
       "      <th>Col4</th>\n",
       "      <th>Col5</th>\n",
       "    </tr>\n",
       "  </thead>\n",
       "  <tbody>\n",
       "    <tr>\n",
       "      <th>2021-01-06</th>\n",
       "      <td>2.597297</td>\n",
       "      <td>0.592325</td>\n",
       "      <td>1.864761</td>\n",
       "      <td>-1.234286</td>\n",
       "      <td>-1.297201</td>\n",
       "    </tr>\n",
       "    <tr>\n",
       "      <th>2021-01-07</th>\n",
       "      <td>0.991175</td>\n",
       "      <td>0.895120</td>\n",
       "      <td>-0.704117</td>\n",
       "      <td>0.358665</td>\n",
       "      <td>0.306816</td>\n",
       "    </tr>\n",
       "    <tr>\n",
       "      <th>2021-01-08</th>\n",
       "      <td>-0.882679</td>\n",
       "      <td>-2.004087</td>\n",
       "      <td>-0.427746</td>\n",
       "      <td>-0.083993</td>\n",
       "      <td>-1.412276</td>\n",
       "    </tr>\n",
       "  </tbody>\n",
       "</table>\n",
       "</div>"
      ],
      "text/plain": [
       "                Col1      Col2      Col3      Col4      Col5\n",
       "2021-01-06  2.597297  0.592325  1.864761 -1.234286 -1.297201\n",
       "2021-01-07  0.991175  0.895120 -0.704117  0.358665  0.306816\n",
       "2021-01-08 -0.882679 -2.004087 -0.427746 -0.083993 -1.412276"
      ]
     },
     "execution_count": 46,
     "metadata": {},
     "output_type": "execute_result"
    }
   ],
   "source": [
    "df.iloc[:3]"
   ]
  },
  {
   "cell_type": "markdown",
   "id": "continental-routine",
   "metadata": {},
   "source": [
    "# To get 6 rows and all the columns"
   ]
  },
  {
   "cell_type": "code",
   "execution_count": 47,
   "id": "involved-patient",
   "metadata": {},
   "outputs": [
    {
     "data": {
      "text/html": [
       "<div>\n",
       "<style scoped>\n",
       "    .dataframe tbody tr th:only-of-type {\n",
       "        vertical-align: middle;\n",
       "    }\n",
       "\n",
       "    .dataframe tbody tr th {\n",
       "        vertical-align: top;\n",
       "    }\n",
       "\n",
       "    .dataframe thead th {\n",
       "        text-align: right;\n",
       "    }\n",
       "</style>\n",
       "<table border=\"1\" class=\"dataframe\">\n",
       "  <thead>\n",
       "    <tr style=\"text-align: right;\">\n",
       "      <th></th>\n",
       "      <th>Col1</th>\n",
       "      <th>Col2</th>\n",
       "      <th>Col3</th>\n",
       "      <th>Col4</th>\n",
       "      <th>Col5</th>\n",
       "    </tr>\n",
       "  </thead>\n",
       "  <tbody>\n",
       "    <tr>\n",
       "      <th>2021-01-06</th>\n",
       "      <td>2.597297</td>\n",
       "      <td>0.592325</td>\n",
       "      <td>1.864761</td>\n",
       "      <td>-1.234286</td>\n",
       "      <td>-1.297201</td>\n",
       "    </tr>\n",
       "    <tr>\n",
       "      <th>2021-01-09</th>\n",
       "      <td>1.072151</td>\n",
       "      <td>-2.099387</td>\n",
       "      <td>0.478257</td>\n",
       "      <td>-0.387853</td>\n",
       "      <td>-0.533343</td>\n",
       "    </tr>\n",
       "    <tr>\n",
       "      <th>2021-01-12</th>\n",
       "      <td>-1.680535</td>\n",
       "      <td>0.234576</td>\n",
       "      <td>-0.196747</td>\n",
       "      <td>0.662816</td>\n",
       "      <td>-1.169212</td>\n",
       "    </tr>\n",
       "    <tr>\n",
       "      <th>2021-01-15</th>\n",
       "      <td>2.252628</td>\n",
       "      <td>1.188120</td>\n",
       "      <td>0.967016</td>\n",
       "      <td>0.799465</td>\n",
       "      <td>-0.230927</td>\n",
       "    </tr>\n",
       "    <tr>\n",
       "      <th>2021-01-18</th>\n",
       "      <td>-0.742252</td>\n",
       "      <td>2.177051</td>\n",
       "      <td>0.269709</td>\n",
       "      <td>0.902916</td>\n",
       "      <td>0.251259</td>\n",
       "    </tr>\n",
       "    <tr>\n",
       "      <th>2021-01-21</th>\n",
       "      <td>0.758081</td>\n",
       "      <td>0.480360</td>\n",
       "      <td>0.675766</td>\n",
       "      <td>-0.822794</td>\n",
       "      <td>0.318511</td>\n",
       "    </tr>\n",
       "    <tr>\n",
       "      <th>2021-01-24</th>\n",
       "      <td>-1.314788</td>\n",
       "      <td>0.986159</td>\n",
       "      <td>-1.053915</td>\n",
       "      <td>-1.387867</td>\n",
       "      <td>-2.064677</td>\n",
       "    </tr>\n",
       "  </tbody>\n",
       "</table>\n",
       "</div>"
      ],
      "text/plain": [
       "                Col1      Col2      Col3      Col4      Col5\n",
       "2021-01-06  2.597297  0.592325  1.864761 -1.234286 -1.297201\n",
       "2021-01-09  1.072151 -2.099387  0.478257 -0.387853 -0.533343\n",
       "2021-01-12 -1.680535  0.234576 -0.196747  0.662816 -1.169212\n",
       "2021-01-15  2.252628  1.188120  0.967016  0.799465 -0.230927\n",
       "2021-01-18 -0.742252  2.177051  0.269709  0.902916  0.251259\n",
       "2021-01-21  0.758081  0.480360  0.675766 -0.822794  0.318511\n",
       "2021-01-24 -1.314788  0.986159 -1.053915 -1.387867 -2.064677"
      ]
     },
     "execution_count": 47,
     "metadata": {},
     "output_type": "execute_result"
    }
   ],
   "source": [
    "df.iloc[::3]"
   ]
  },
  {
   "cell_type": "markdown",
   "id": "robust-launch",
   "metadata": {},
   "source": [
    "# Filtering\n",
    "# To get all the data which has positive value in column 3"
   ]
  },
  {
   "cell_type": "code",
   "execution_count": 48,
   "id": "usual-laugh",
   "metadata": {},
   "outputs": [
    {
     "data": {
      "text/html": [
       "<div>\n",
       "<style scoped>\n",
       "    .dataframe tbody tr th:only-of-type {\n",
       "        vertical-align: middle;\n",
       "    }\n",
       "\n",
       "    .dataframe tbody tr th {\n",
       "        vertical-align: top;\n",
       "    }\n",
       "\n",
       "    .dataframe thead th {\n",
       "        text-align: right;\n",
       "    }\n",
       "</style>\n",
       "<table border=\"1\" class=\"dataframe\">\n",
       "  <thead>\n",
       "    <tr style=\"text-align: right;\">\n",
       "      <th></th>\n",
       "      <th>Col1</th>\n",
       "      <th>Col2</th>\n",
       "      <th>Col3</th>\n",
       "      <th>Col4</th>\n",
       "      <th>Col5</th>\n",
       "    </tr>\n",
       "  </thead>\n",
       "  <tbody>\n",
       "    <tr>\n",
       "      <th>2021-01-06</th>\n",
       "      <td>2.597297</td>\n",
       "      <td>0.592325</td>\n",
       "      <td>1.864761</td>\n",
       "      <td>-1.234286</td>\n",
       "      <td>-1.297201</td>\n",
       "    </tr>\n",
       "    <tr>\n",
       "      <th>2021-01-09</th>\n",
       "      <td>1.072151</td>\n",
       "      <td>-2.099387</td>\n",
       "      <td>0.478257</td>\n",
       "      <td>-0.387853</td>\n",
       "      <td>-0.533343</td>\n",
       "    </tr>\n",
       "    <tr>\n",
       "      <th>2021-01-15</th>\n",
       "      <td>2.252628</td>\n",
       "      <td>1.188120</td>\n",
       "      <td>0.967016</td>\n",
       "      <td>0.799465</td>\n",
       "      <td>-0.230927</td>\n",
       "    </tr>\n",
       "    <tr>\n",
       "      <th>2021-01-16</th>\n",
       "      <td>0.460392</td>\n",
       "      <td>-0.385953</td>\n",
       "      <td>1.274117</td>\n",
       "      <td>1.298501</td>\n",
       "      <td>0.353288</td>\n",
       "    </tr>\n",
       "    <tr>\n",
       "      <th>2021-01-18</th>\n",
       "      <td>-0.742252</td>\n",
       "      <td>2.177051</td>\n",
       "      <td>0.269709</td>\n",
       "      <td>0.902916</td>\n",
       "      <td>0.251259</td>\n",
       "    </tr>\n",
       "    <tr>\n",
       "      <th>2021-01-20</th>\n",
       "      <td>1.355402</td>\n",
       "      <td>-0.005541</td>\n",
       "      <td>1.309208</td>\n",
       "      <td>0.049823</td>\n",
       "      <td>-1.636973</td>\n",
       "    </tr>\n",
       "    <tr>\n",
       "      <th>2021-01-21</th>\n",
       "      <td>0.758081</td>\n",
       "      <td>0.480360</td>\n",
       "      <td>0.675766</td>\n",
       "      <td>-0.822794</td>\n",
       "      <td>0.318511</td>\n",
       "    </tr>\n",
       "    <tr>\n",
       "      <th>2021-01-22</th>\n",
       "      <td>0.389719</td>\n",
       "      <td>-0.545808</td>\n",
       "      <td>0.825467</td>\n",
       "      <td>0.040752</td>\n",
       "      <td>-0.630320</td>\n",
       "    </tr>\n",
       "    <tr>\n",
       "      <th>2021-01-23</th>\n",
       "      <td>0.246226</td>\n",
       "      <td>0.598708</td>\n",
       "      <td>1.063081</td>\n",
       "      <td>-0.812257</td>\n",
       "      <td>1.987169</td>\n",
       "    </tr>\n",
       "    <tr>\n",
       "      <th>2021-01-25</th>\n",
       "      <td>-0.029324</td>\n",
       "      <td>1.030895</td>\n",
       "      <td>1.160787</td>\n",
       "      <td>-0.392566</td>\n",
       "      <td>-0.011686</td>\n",
       "    </tr>\n",
       "  </tbody>\n",
       "</table>\n",
       "</div>"
      ],
      "text/plain": [
       "                Col1      Col2      Col3      Col4      Col5\n",
       "2021-01-06  2.597297  0.592325  1.864761 -1.234286 -1.297201\n",
       "2021-01-09  1.072151 -2.099387  0.478257 -0.387853 -0.533343\n",
       "2021-01-15  2.252628  1.188120  0.967016  0.799465 -0.230927\n",
       "2021-01-16  0.460392 -0.385953  1.274117  1.298501  0.353288\n",
       "2021-01-18 -0.742252  2.177051  0.269709  0.902916  0.251259\n",
       "2021-01-20  1.355402 -0.005541  1.309208  0.049823 -1.636973\n",
       "2021-01-21  0.758081  0.480360  0.675766 -0.822794  0.318511\n",
       "2021-01-22  0.389719 -0.545808  0.825467  0.040752 -0.630320\n",
       "2021-01-23  0.246226  0.598708  1.063081 -0.812257  1.987169\n",
       "2021-01-25 -0.029324  1.030895  1.160787 -0.392566 -0.011686"
      ]
     },
     "execution_count": 48,
     "metadata": {},
     "output_type": "execute_result"
    }
   ],
   "source": [
    "df[(df['Col3'] > 0)]"
   ]
  },
  {
   "cell_type": "markdown",
   "id": "square-spare",
   "metadata": {},
   "source": [
    "# To get the col4 and col5 values of the data whose col2 values are positive and col3 values are negative"
   ]
  },
  {
   "cell_type": "code",
   "execution_count": 49,
   "id": "amber-singer",
   "metadata": {},
   "outputs": [
    {
     "data": {
      "text/html": [
       "<div>\n",
       "<style scoped>\n",
       "    .dataframe tbody tr th:only-of-type {\n",
       "        vertical-align: middle;\n",
       "    }\n",
       "\n",
       "    .dataframe tbody tr th {\n",
       "        vertical-align: top;\n",
       "    }\n",
       "\n",
       "    .dataframe thead th {\n",
       "        text-align: right;\n",
       "    }\n",
       "</style>\n",
       "<table border=\"1\" class=\"dataframe\">\n",
       "  <thead>\n",
       "    <tr style=\"text-align: right;\">\n",
       "      <th></th>\n",
       "      <th>Col4</th>\n",
       "      <th>Col5</th>\n",
       "    </tr>\n",
       "  </thead>\n",
       "  <tbody>\n",
       "    <tr>\n",
       "      <th>2021-01-07</th>\n",
       "      <td>0.358665</td>\n",
       "      <td>0.306816</td>\n",
       "    </tr>\n",
       "    <tr>\n",
       "      <th>2021-01-12</th>\n",
       "      <td>0.662816</td>\n",
       "      <td>-1.169212</td>\n",
       "    </tr>\n",
       "    <tr>\n",
       "      <th>2021-01-17</th>\n",
       "      <td>-0.909130</td>\n",
       "      <td>-0.392768</td>\n",
       "    </tr>\n",
       "    <tr>\n",
       "      <th>2021-01-24</th>\n",
       "      <td>-1.387867</td>\n",
       "      <td>-2.064677</td>\n",
       "    </tr>\n",
       "  </tbody>\n",
       "</table>\n",
       "</div>"
      ],
      "text/plain": [
       "                Col4      Col5\n",
       "2021-01-07  0.358665  0.306816\n",
       "2021-01-12  0.662816 -1.169212\n",
       "2021-01-17 -0.909130 -0.392768\n",
       "2021-01-24 -1.387867 -2.064677"
      ]
     },
     "execution_count": 49,
     "metadata": {},
     "output_type": "execute_result"
    }
   ],
   "source": [
    "df[(df['Col2'] > 0) & (df['Col3'] < 0)][['Col4', 'Col5']]"
   ]
  },
  {
   "cell_type": "markdown",
   "id": "italian-cigarette",
   "metadata": {},
   "source": [
    "# Making a new dataframe using function"
   ]
  },
  {
   "cell_type": "code",
   "execution_count": 50,
   "id": "controlled-projector",
   "metadata": {},
   "outputs": [
    {
     "data": {
      "text/html": [
       "<div>\n",
       "<style scoped>\n",
       "    .dataframe tbody tr th:only-of-type {\n",
       "        vertical-align: middle;\n",
       "    }\n",
       "\n",
       "    .dataframe tbody tr th {\n",
       "        vertical-align: top;\n",
       "    }\n",
       "\n",
       "    .dataframe thead th {\n",
       "        text-align: right;\n",
       "    }\n",
       "</style>\n",
       "<table border=\"1\" class=\"dataframe\">\n",
       "  <thead>\n",
       "    <tr style=\"text-align: right;\">\n",
       "      <th></th>\n",
       "      <th>X</th>\n",
       "      <th>Y</th>\n",
       "      <th>Z</th>\n",
       "    </tr>\n",
       "  </thead>\n",
       "  <tbody>\n",
       "    <tr>\n",
       "      <th>0</th>\n",
       "      <td>X0</td>\n",
       "      <td>Y0</td>\n",
       "      <td>Z0</td>\n",
       "    </tr>\n",
       "    <tr>\n",
       "      <th>1</th>\n",
       "      <td>X1</td>\n",
       "      <td>Y1</td>\n",
       "      <td>Z1</td>\n",
       "    </tr>\n",
       "    <tr>\n",
       "      <th>2</th>\n",
       "      <td>X2</td>\n",
       "      <td>Y2</td>\n",
       "      <td>Z2</td>\n",
       "    </tr>\n",
       "    <tr>\n",
       "      <th>3</th>\n",
       "      <td>X3</td>\n",
       "      <td>Y3</td>\n",
       "      <td>Z3</td>\n",
       "    </tr>\n",
       "  </tbody>\n",
       "</table>\n",
       "</div>"
      ],
      "text/plain": [
       "    X   Y   Z\n",
       "0  X0  Y0  Z0\n",
       "1  X1  Y1  Z1\n",
       "2  X2  Y2  Z2\n",
       "3  X3  Y3  Z3"
      ]
     },
     "execution_count": 50,
     "metadata": {},
     "output_type": "execute_result"
    }
   ],
   "source": [
    "def make_df(cols, ind):\n",
    "    data = {c : [str (c) + str (i) for i in ind]\n",
    "            for c in cols}\n",
    "    return pd.DataFrame(data, ind)\n",
    "\n",
    "make_df('XYZ', range(4))"
   ]
  },
  {
   "cell_type": "markdown",
   "id": "dutch-niger",
   "metadata": {},
   "source": [
    "# Concatenation"
   ]
  },
  {
   "cell_type": "code",
   "execution_count": 51,
   "id": "changing-healing",
   "metadata": {},
   "outputs": [
    {
     "data": {
      "text/plain": [
       "array([ 1,  2,  3,  4,  5,  6,  7,  8,  9, 10, 11, 12])"
      ]
     },
     "execution_count": 51,
     "metadata": {},
     "output_type": "execute_result"
    }
   ],
   "source": [
    "x = [1, 2, 3, 4]\n",
    "y = [5, 6, 7, 8]\n",
    "z = [9, 10, 11, 12]\n",
    "np.concatenate([x, y, z])"
   ]
  },
  {
   "cell_type": "code",
   "execution_count": 52,
   "id": "moral-address",
   "metadata": {},
   "outputs": [],
   "source": [
    "x = [[1, 2, 3],\n",
    "     [4, 5, 6]]"
   ]
  },
  {
   "cell_type": "markdown",
   "id": "tutorial-retro",
   "metadata": {},
   "source": [
    "\n",
    "# Concatenating the array with itself"
   ]
  },
  {
   "cell_type": "code",
   "execution_count": 53,
   "id": "conceptual-chest",
   "metadata": {},
   "outputs": [
    {
     "data": {
      "text/plain": [
       "array([[1, 2, 3],\n",
       "       [4, 5, 6],\n",
       "       [1, 2, 3],\n",
       "       [4, 5, 6]])"
      ]
     },
     "execution_count": 53,
     "metadata": {},
     "output_type": "execute_result"
    }
   ],
   "source": [
    "np.concatenate([x, x])"
   ]
  },
  {
   "cell_type": "markdown",
   "id": "inside-plymouth",
   "metadata": {},
   "source": [
    "# Concatenating row-wise"
   ]
  },
  {
   "cell_type": "code",
   "execution_count": 54,
   "id": "biblical-forum",
   "metadata": {},
   "outputs": [
    {
     "data": {
      "text/plain": [
       "array([[1, 2, 3, 1, 2, 3],\n",
       "       [4, 5, 6, 4, 5, 6]])"
      ]
     },
     "execution_count": 54,
     "metadata": {},
     "output_type": "execute_result"
    }
   ],
   "source": [
    "np.concatenate([x, x], axis = 1)"
   ]
  },
  {
   "cell_type": "markdown",
   "id": "silent-smart",
   "metadata": {},
   "source": [
    "# Concatenating column-wise"
   ]
  },
  {
   "cell_type": "code",
   "execution_count": 55,
   "id": "supreme-blair",
   "metadata": {},
   "outputs": [
    {
     "data": {
      "text/plain": [
       "array([[1, 2, 3],\n",
       "       [4, 5, 6],\n",
       "       [1, 2, 3],\n",
       "       [4, 5, 6]])"
      ]
     },
     "execution_count": 55,
     "metadata": {},
     "output_type": "execute_result"
    }
   ],
   "source": [
    "np.concatenate([x, x], axis = 0)"
   ]
  },
  {
   "cell_type": "code",
   "execution_count": 56,
   "id": "committed-cabinet",
   "metadata": {},
   "outputs": [],
   "source": [
    "x = np.array([10, 11, 12])\n",
    "y = np.array([14, 16, 18])"
   ]
  },
  {
   "cell_type": "markdown",
   "id": "promising-extra",
   "metadata": {},
   "source": [
    "# Horizontal stack can be used to concatenate arrays row-wise"
   ]
  },
  {
   "cell_type": "code",
   "execution_count": 57,
   "id": "existing-brief",
   "metadata": {},
   "outputs": [
    {
     "data": {
      "text/plain": [
       "array([10, 11, 12, 14, 16, 18])"
      ]
     },
     "execution_count": 57,
     "metadata": {},
     "output_type": "execute_result"
    }
   ],
   "source": [
    "np.hstack((x, y))"
   ]
  },
  {
   "cell_type": "markdown",
   "id": "familiar-python",
   "metadata": {},
   "source": [
    "# Vertical stack can be used to concatenate arrays column-wise\n"
   ]
  },
  {
   "cell_type": "code",
   "execution_count": 58,
   "id": "premium-relative",
   "metadata": {},
   "outputs": [
    {
     "data": {
      "text/plain": [
       "array([[10, 11, 12],\n",
       "       [14, 16, 18]])"
      ]
     },
     "execution_count": 58,
     "metadata": {},
     "output_type": "execute_result"
    }
   ],
   "source": [
    "np.vstack((x, y))"
   ]
  }
 ],
 "metadata": {
  "kernelspec": {
   "display_name": "Python 3",
   "language": "python",
   "name": "python3"
  },
  "language_info": {
   "codemirror_mode": {
    "name": "ipython",
    "version": 3
   },
   "file_extension": ".py",
   "mimetype": "text/x-python",
   "name": "python",
   "nbconvert_exporter": "python",
   "pygments_lexer": "ipython3",
   "version": "3.7.6"
  }
 },
 "nbformat": 4,
 "nbformat_minor": 5
}
