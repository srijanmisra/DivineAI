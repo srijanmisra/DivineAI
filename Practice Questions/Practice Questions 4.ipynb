{
 "cells": [
  {
   "cell_type": "markdown",
   "id": "metropolitan-nutrition",
   "metadata": {},
   "source": [
    "# Reverse a given string"
   ]
  },
  {
   "cell_type": "code",
   "execution_count": 1,
   "id": "initial-safety",
   "metadata": {},
   "outputs": [
    {
     "name": "stdout",
     "output_type": "stream",
     "text": [
      "Enter a string:My name is Srijan Misra\n",
      "Original string: My name is Srijan Misra\n",
      "Reversing the string: arsiM najirS si eman yM\n"
     ]
    }
   ],
   "source": [
    "char = input(\"Enter a string:\")\n",
    "print(\"Original string:\", char)\n",
    "print (\"Reversing the string:\", char[::-1])"
   ]
  },
  {
   "cell_type": "markdown",
   "id": "statistical-flesh",
   "metadata": {},
   "source": [
    "# Addition of two vector"
   ]
  },
  {
   "cell_type": "code",
   "execution_count": 2,
   "id": "plain-nursing",
   "metadata": {},
   "outputs": [
    {
     "name": "stdout",
     "output_type": "stream",
     "text": [
      "First vector: [1, 2, 3, 4]\n",
      "Second vector: [5, 6, 7, 8]\n",
      "Addition of vectors--\n",
      "6 8 10 12 "
     ]
    }
   ],
   "source": [
    "l1 = [1, 2, 3, 4]\n",
    "l2 = [5, 6, 7, 8]\n",
    "add = 0\n",
    "print (\"First vector:\", l1)\n",
    "print (\"Second vector:\", l2)\n",
    "print (\"Addition of vectors--\")\n",
    "for i in range(len(l1)):\n",
    "    add = l1[i] + l2[i]\n",
    "    print (add, end = \" \")"
   ]
  },
  {
   "cell_type": "markdown",
   "id": "joint-choir",
   "metadata": {},
   "source": [
    "# Replace negative prices with 0 and leave the positive values unchanged in a list"
   ]
  },
  {
   "cell_type": "code",
   "execution_count": 4,
   "id": "instant-revelation",
   "metadata": {},
   "outputs": [
    {
     "name": "stdout",
     "output_type": "stream",
     "text": [
      "Enter size of the list:3\n",
      "Input elements in list\n",
      "-09\n",
      "-88\n",
      "23\n",
      "List: [-9, -88, 23]\n",
      "Replacing negative values with 0: [0, 0, 23]\n"
     ]
    }
   ],
   "source": [
    "l = []\n",
    "n = int(input(\"Enter size of the list:\"))\n",
    "print (\"Input elements in list\")\n",
    "for i in range(n):\n",
    "    a = int(input())\n",
    "    l.append(a)\n",
    "print (\"List:\", l)\n",
    "for i in range(len(l)):\n",
    "    if (l[i] < 0):\n",
    "        l[i] = 0\n",
    "print (\"Replacing negative values with 0:\", l)\n"
   ]
  },
  {
   "cell_type": "markdown",
   "id": "hired-veteran",
   "metadata": {},
   "source": [
    "\n",
    "# Given a Python list. Turn every item of a list into its square"
   ]
  },
  {
   "cell_type": "code",
   "execution_count": 5,
   "id": "pleasant-minneapolis",
   "metadata": {},
   "outputs": [
    {
     "name": "stdout",
     "output_type": "stream",
     "text": [
      "List: [2, 3, 4, 5, 6, 7]\n",
      "Sqaure of list: [4, 9, 16, 25, 36, 49]\n"
     ]
    }
   ],
   "source": [
    "l = [2, 3, 4, 5, 6, 7]\n",
    "print (\"List:\", l)\n",
    "for i in range(len(l)):\n",
    "    l[i] = l[i] ** 2\n",
    "print (\"Sqaure of list:\", l)"
   ]
  },
  {
   "cell_type": "markdown",
   "id": "valued-discussion",
   "metadata": {},
   "source": [
    "# Remove empty strings from the list of strings"
   ]
  },
  {
   "cell_type": "code",
   "execution_count": 6,
   "id": "twenty-impression",
   "metadata": {},
   "outputs": [
    {
     "name": "stdout",
     "output_type": "stream",
     "text": [
      "List: ['a', 'b', 'c', ' ', 'e', ' ', 'g']\n",
      "Removing empty strings: ['a', 'b', 'c', 'e', 'g']\n"
     ]
    }
   ],
   "source": [
    "l = ['a', 'b', 'c',' ', 'e',' ', 'g']\n",
    "print (\"List:\", l)\n",
    "l = ' '.join(l).split()\n",
    "print (\"Removing empty strings:\", l)"
   ]
  },
  {
   "cell_type": "markdown",
   "id": "detailed-literature",
   "metadata": {},
   "source": [
    "# Write a program which will achieve given a Python list, remove all occurrence of an input from the list"
   ]
  },
  {
   "cell_type": "code",
   "execution_count": 7,
   "id": "liquid-night",
   "metadata": {},
   "outputs": [
    {
     "name": "stdout",
     "output_type": "stream",
     "text": [
      "List: ['a', 'b', 'a', 'c', 'e', 'f', 'f']\n",
      "Which letter you want to remove:f\n",
      "New list: ['a', 'b', 'a', 'c', 'e']\n"
     ]
    }
   ],
   "source": [
    "l = ['a', 'b', 'a','c', 'e', 'f', 'f']\n",
    "j = []\n",
    "print (\"List:\", l)\n",
    "n = input(\"Which letter you want to remove:\")\n",
    "for i in l:\n",
    "    if (i != n):\n",
    "        j.append(i)\n",
    "print (\"New list:\", j)"
   ]
  },
  {
   "cell_type": "markdown",
   "id": "speaking-gilbert",
   "metadata": {},
   "source": [
    "# Generate 3 random integers between 100 and 999 which is divisible by 5\n"
   ]
  },
  {
   "cell_type": "code",
   "execution_count": 8,
   "id": "brave-nylon",
   "metadata": {},
   "outputs": [
    {
     "name": "stdout",
     "output_type": "stream",
     "text": [
      "3 random integers between 100 and 999 which are divisible by 5 --\n",
      "120\n",
      "765\n",
      "860\n"
     ]
    }
   ],
   "source": [
    "import random\n",
    "print (\"3 random integers between 100 and 999 which are divisible by 5 --\")\n",
    "for i in range (3):\n",
    "    j = random.randrange(100, 999, 5)\n",
    "    print (j)"
   ]
  },
  {
   "cell_type": "markdown",
   "id": "unknown-queens",
   "metadata": {},
   "source": [
    "\n",
    "# Pick a random character from a given String"
   ]
  },
  {
   "cell_type": "code",
   "execution_count": 9,
   "id": "proved-painting",
   "metadata": {},
   "outputs": [
    {
     "name": "stdout",
     "output_type": "stream",
     "text": [
      "Enter a string:Srijan Misra\n",
      "Random character from the string: n\n"
     ]
    }
   ],
   "source": [
    "import random\n",
    "char = input(\"Enter a string:\")\n",
    "j = random.choice(char)\n",
    "print (\"Random character from the string:\", j)"
   ]
  },
  {
   "cell_type": "markdown",
   "id": "german-settle",
   "metadata": {},
   "source": [
    "# Generate  random String of length 5"
   ]
  },
  {
   "cell_type": "code",
   "execution_count": 10,
   "id": "hourly-exhibit",
   "metadata": {},
   "outputs": [
    {
     "name": "stdout",
     "output_type": "stream",
     "text": [
      "Random string of 5 character: 6EOPS\n"
     ]
    }
   ],
   "source": [
    "import random\n",
    "import string\n",
    "r = ''.join(random.choices(string.ascii_uppercase + string.digits, k = 5))\n",
    "print (\"Random string of 5 character:\", r)"
   ]
  },
  {
   "cell_type": "markdown",
   "id": "directed-shadow",
   "metadata": {},
   "source": [
    "# Generate a random date between given start and end dates"
   ]
  },
  {
   "cell_type": "code",
   "execution_count": 11,
   "id": "designing-haiti",
   "metadata": {},
   "outputs": [
    {
     "name": "stdout",
     "output_type": "stream",
     "text": [
      "Start date : 2021-06-17 00:00:00  End date : 2021-06-30 00:00:00\n",
      "Random date within the range: 2021-06-29 00:00:00\n"
     ]
    }
   ],
   "source": [
    "import random\n",
    "from datetime import datetime, timedelta\n",
    "d1 = datetime(2021, 6, 17)\n",
    "d2 = datetime(2021, 6, 30)\n",
    "print (\"Start date : {}  End date : {}\".format(d1, d2))\n",
    "diff = d2 - d1\n",
    "diff_days = diff.days\n",
    "random_days = random.randrange(diff_days)\n",
    "rdate = d1 + timedelta(days = random_days)\n",
    "print (\"Random date within the range:\", rdate)"
   ]
  },
  {
   "cell_type": "markdown",
   "id": "clear-scope",
   "metadata": {},
   "source": [
    "# Given an input string, count occurrences of all characters within a string\n"
   ]
  },
  {
   "cell_type": "code",
   "execution_count": 12,
   "id": "difficult-genetics",
   "metadata": {},
   "outputs": [
    {
     "name": "stdout",
     "output_type": "stream",
     "text": [
      "Enter a string:Srijan Misra\n",
      "Occurrence of each character: Counter({'r': 2, 'i': 2, 'a': 2, 'S': 1, 'j': 1, 'n': 1, ' ': 1, 'M': 1, 's': 1})\n"
     ]
    }
   ],
   "source": [
    "import collections\n",
    "char = input(\"Enter a string:\")\n",
    "res = collections.Counter(char)\n",
    "print (\"Occurrence of each character:\", res)"
   ]
  },
  {
   "cell_type": "markdown",
   "id": "essential-billy",
   "metadata": {},
   "source": [
    "# Remove special symbols/Punctuation from a given string"
   ]
  },
  {
   "cell_type": "code",
   "execution_count": 14,
   "id": "controversial-metadata",
   "metadata": {},
   "outputs": [
    {
     "name": "stdout",
     "output_type": "stream",
     "text": [
      "Enter a string:Srijan?Misra!4799\n",
      "['S', 'r', 'i', 'j', 'a', 'n', '?', 'M', 'i', 's', 'r', 'a', '!', '4', '7', '9', '9']\n",
      "SrijanMisra4799\n"
     ]
    }
   ],
   "source": [
    "char = input(\"Enter a string:\")\n",
    "l = list(char)\n",
    "print (l)\n",
    "for i in l:\n",
    "    if (i == '!' or i == '?' or i == '.' or i == '/' or i ==':' or i == ';' or i == ','):\n",
    "        l.remove(i)\n",
    "char = ''.join(l)\n",
    "print (char)"
   ]
  },
  {
   "cell_type": "markdown",
   "id": "still-reflection",
   "metadata": {},
   "source": [
    "# Convert dictionary to JSON"
   ]
  },
  {
   "cell_type": "code",
   "execution_count": 16,
   "id": "reliable-vermont",
   "metadata": {},
   "outputs": [
    {
     "name": "stdout",
     "output_type": "stream",
     "text": [
      "{\n",
      "   \"Name\": \"Srijan\",\n",
      "   \"Age\": 21,\n",
      "   \"College\": \"KIIT\"\n",
      "}\n"
     ]
    }
   ],
   "source": [
    "import json\n",
    "dictionary = {'Name' : 'Srijan', 'Age' : 21, 'College' : 'KIIT'}\n",
    "json_file = json.dumps(dictionary, indent = 3)\n",
    "print (json_file)"
   ]
  },
  {
   "cell_type": "markdown",
   "id": "surgical-payroll",
   "metadata": {},
   "source": [
    "# Writing JSON to a file\n"
   ]
  },
  {
   "cell_type": "code",
   "execution_count": 19,
   "id": "accessory-thanks",
   "metadata": {},
   "outputs": [],
   "source": [
    "import json\n",
    "dictionary = {'Name' : 'Srijan', 'Age' : 21, 'College' : 'KIIT'}\n",
    "with open ('file1.json', 'w') as f:\n",
    "    json.dump(dictionary, f)"
   ]
  },
  {
   "cell_type": "markdown",
   "id": "pointed-knife",
   "metadata": {},
   "source": [
    "# Pretty print JSON"
   ]
  },
  {
   "cell_type": "code",
   "execution_count": 20,
   "id": "distinct-physiology",
   "metadata": {},
   "outputs": [
    {
     "name": "stdout",
     "output_type": "stream",
     "text": [
      "{\n",
      " \"Name\": \"Srijan\",\n",
      " \"Age\": 21,\n",
      " \"College\": \"KIIT\"\n",
      "}\n"
     ]
    }
   ],
   "source": [
    "import json\n",
    "f = open('file1.json')\n",
    "data = json.load(f)\n",
    "print (json.dumps(data, indent = 1))\n",
    "f.close()"
   ]
  },
  {
   "cell_type": "markdown",
   "id": "executive-cleveland",
   "metadata": {},
   "source": [
    "# Check if the key exists or not in JSON"
   ]
  },
  {
   "cell_type": "code",
   "execution_count": 21,
   "id": "taken-harrison",
   "metadata": {},
   "outputs": [
    {
     "name": "stdout",
     "output_type": "stream",
     "text": [
      "True\n"
     ]
    }
   ],
   "source": [
    "import json\n",
    "f = open('file1.json')\n",
    "data = json.load(f)\n",
    "key = \"Name\"\n",
    "res = key in data\n",
    "print (res)\n",
    "f.close()"
   ]
  },
  {
   "cell_type": "markdown",
   "id": "occupational-commission",
   "metadata": {},
   "source": [
    "# Check if there is a value for a key in JSON"
   ]
  },
  {
   "cell_type": "code",
   "execution_count": 22,
   "id": "comparative-paper",
   "metadata": {},
   "outputs": [
    {
     "name": "stdout",
     "output_type": "stream",
     "text": [
      "True\n"
     ]
    }
   ],
   "source": [
    "import json\n",
    "f = open('file1.json')\n",
    "data = json.load(f)\n",
    "res = 'Name' in data\n",
    "print (res)"
   ]
  },
  {
   "cell_type": "markdown",
   "id": "several-liability",
   "metadata": {},
   "source": [
    "# Sort JSON keys in Python and write it into a file"
   ]
  },
  {
   "cell_type": "code",
   "execution_count": 24,
   "id": "respective-message",
   "metadata": {},
   "outputs": [],
   "source": [
    "import json\n",
    "dictionary = {'Name' : 'Srijan', 'Age' : 21, 'College' : 'KIIT'}\n",
    "with open ('file1.json', 'w') as f:\n",
    "    json.dumps(dictionary, sort_keys=True)"
   ]
  }
 ],
 "metadata": {
  "kernelspec": {
   "display_name": "Python 3",
   "language": "python",
   "name": "python3"
  },
  "language_info": {
   "codemirror_mode": {
    "name": "ipython",
    "version": 3
   },
   "file_extension": ".py",
   "mimetype": "text/x-python",
   "name": "python",
   "nbconvert_exporter": "python",
   "pygments_lexer": "ipython3",
   "version": "3.7.6"
  }
 },
 "nbformat": 4,
 "nbformat_minor": 5
}
